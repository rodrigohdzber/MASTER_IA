{
 "cells": [
  {
   "cell_type": "markdown",
   "metadata": {},
   "source": [
    "# Ejercicio 2 historico RV Alphavantage"
   ]
  },
  {
   "cell_type": "markdown",
   "metadata": {},
   "source": [
    "*Consigue el histórico de renta variable, minuto a minuto, de 5 días, de las siguientes empresas*\n",
    "\n",
    "Recomendación: Alphavantage / Tiempo objetivo: 30 minutos"
   ]
  },
  {
   "cell_type": "code",
   "execution_count": null,
   "metadata": {},
   "outputs": [],
   "source": [
    "!pip install alpha_vantage"
   ]
  },
  {
   "cell_type": "code",
   "execution_count": 3,
   "metadata": {},
   "outputs": [],
   "source": [
    "import pandas as pd\n",
    "import requests\n",
    "import alpha_vantage\n",
    "import json\n",
    "import datetime\n",
    "from pandas.io.json import json_normalize\n",
    "from alpha_vantage.timeseries import TimeSeries\n",
    "import pprint\n",
    "from datetime import datetime, date, timedelta\n",
    "import numpy as np\n",
    "import time"
   ]
  },
  {
   "cell_type": "code",
   "execution_count": 4,
   "metadata": {},
   "outputs": [],
   "source": [
    "activos_a_descargar=(\"AAPL\",\"AXP\",\"BA\",\"CAT\",\"CSCO\",\"CVX\",\"DIS\",\"GE\",\"GS\",\"HD\",\"IBM\",\"INTC\",\"JNJ\",\"JPM\")"
   ]
  },
  {
   "cell_type": "code",
   "execution_count": 5,
   "metadata": {},
   "outputs": [
    {
     "data": {
      "text/plain": [
       "14"
      ]
     },
     "execution_count": 5,
     "metadata": {},
     "output_type": "execute_result"
    }
   ],
   "source": [
    "len(activos_a_descargar)"
   ]
  },
  {
   "cell_type": "markdown",
   "metadata": {},
   "source": [
    "Hacemos la llamada a Alphavantage"
   ]
  },
  {
   "cell_type": "code",
   "execution_count": 6,
   "metadata": {},
   "outputs": [
    {
     "name": "stdout",
     "output_type": "stream",
     "text": [
      "AAPL\n",
      "AXP\n",
      "BA\n",
      "CAT\n",
      "CSCO\n",
      "CVX\n",
      "DIS\n",
      "GE\n",
      "GS\n",
      "HD\n",
      "IBM\n",
      "INTC\n",
      "JNJ\n",
      "JPM\n"
     ]
    }
   ],
   "source": [
    "lista_activos=[]\n",
    "key='AOURS93CWW9EDZWO'\n",
    "\n",
    "for i in range(len(activos_a_descargar)):\n",
    "    \n",
    "    activo=activos_a_descargar[i]\n",
    "    \n",
    "    #Hacemos la llamada a Alphavantage\n",
    "    ts = TimeSeries(key=key, output_format='pandas')\n",
    "    df=data, meta_data = ts.get_intraday(symbol=activos_a_descargar[i],interval='1min', outputsize='full')\n",
    "    df= df[0]\n",
    "    df['systime']=pd.to_datetime(pd.Timestamp.now(), format='%Y/%m/%d %H:%M:%S')\n",
    "    \n",
    "    # Modificamos la hora que consta en los datos con la diferencia que acabamos de calcular.\n",
    "    df['diferencia']=(df.systime-df.index)/np.timedelta64(1,'h')\n",
    "    df['diferencia']=np.floor(df.diferencia)\n",
    "    df['diferencia']=df.diferencia*(np.timedelta64(1,'h'))\n",
    "    df.index=df.index+df.diferencia\n",
    "    df=df.drop(['diferencia'],1)\n",
    "    globals()[activo]=df.copy()# lo llevamos a un dataframe con el nombre del activo\n",
    "    \n",
    "    # Guardamos los datos con el nombre del activo en una lista.    \n",
    "    lista_activos.append(df)\n",
    "\n",
    "    # Solo nos dejan 5 llamadas por minuto. Debemos tener esto en cuenta a la hora de hacer la llamada.\n",
    "    if activos_a_descargar.index(activos_a_descargar[i]) % 5 == 0:\n",
    "        time.sleep(62)\n",
    "        \n",
    "    print((activos_a_descargar[i]))"
   ]
  },
  {
   "cell_type": "code",
   "execution_count": 8,
   "metadata": {},
   "outputs": [
    {
     "data": {
      "text/html": [
       "<div>\n",
       "<style scoped>\n",
       "    .dataframe tbody tr th:only-of-type {\n",
       "        vertical-align: middle;\n",
       "    }\n",
       "\n",
       "    .dataframe tbody tr th {\n",
       "        vertical-align: top;\n",
       "    }\n",
       "\n",
       "    .dataframe thead th {\n",
       "        text-align: right;\n",
       "    }\n",
       "</style>\n",
       "<table border=\"1\" class=\"dataframe\">\n",
       "  <thead>\n",
       "    <tr style=\"text-align: right;\">\n",
       "      <th></th>\n",
       "      <th>1. open</th>\n",
       "      <th>2. high</th>\n",
       "      <th>3. low</th>\n",
       "      <th>4. close</th>\n",
       "      <th>5. volume</th>\n",
       "      <th>systime</th>\n",
       "    </tr>\n",
       "  </thead>\n",
       "  <tbody>\n",
       "    <tr>\n",
       "      <th>2020-06-30 16:30:00</th>\n",
       "      <td>351.6250</td>\n",
       "      <td>351.7800</td>\n",
       "      <td>351.20</td>\n",
       "      <td>351.420</td>\n",
       "      <td>68179.0</td>\n",
       "      <td>2020-06-30 16:41:09.500026</td>\n",
       "    </tr>\n",
       "    <tr>\n",
       "      <th>2020-06-30 16:31:00</th>\n",
       "      <td>351.4200</td>\n",
       "      <td>351.4900</td>\n",
       "      <td>350.99</td>\n",
       "      <td>351.230</td>\n",
       "      <td>93942.0</td>\n",
       "      <td>2020-06-30 16:41:09.500026</td>\n",
       "    </tr>\n",
       "    <tr>\n",
       "      <th>2020-06-30 16:32:00</th>\n",
       "      <td>351.2009</td>\n",
       "      <td>351.7200</td>\n",
       "      <td>351.20</td>\n",
       "      <td>351.520</td>\n",
       "      <td>69117.0</td>\n",
       "      <td>2020-06-30 16:41:09.500026</td>\n",
       "    </tr>\n",
       "    <tr>\n",
       "      <th>2020-06-30 16:33:00</th>\n",
       "      <td>351.5100</td>\n",
       "      <td>351.5100</td>\n",
       "      <td>351.21</td>\n",
       "      <td>351.335</td>\n",
       "      <td>43588.0</td>\n",
       "      <td>2020-06-30 16:41:09.500026</td>\n",
       "    </tr>\n",
       "    <tr>\n",
       "      <th>2020-06-30 16:34:00</th>\n",
       "      <td>351.3300</td>\n",
       "      <td>351.4427</td>\n",
       "      <td>350.32</td>\n",
       "      <td>351.100</td>\n",
       "      <td>201642.0</td>\n",
       "      <td>2020-06-30 16:41:09.500026</td>\n",
       "    </tr>\n",
       "  </tbody>\n",
       "</table>\n",
       "</div>"
      ],
      "text/plain": [
       "                      1. open   2. high  3. low  4. close  5. volume  \\\n",
       "2020-06-30 16:30:00  351.6250  351.7800  351.20   351.420    68179.0   \n",
       "2020-06-30 16:31:00  351.4200  351.4900  350.99   351.230    93942.0   \n",
       "2020-06-30 16:32:00  351.2009  351.7200  351.20   351.520    69117.0   \n",
       "2020-06-30 16:33:00  351.5100  351.5100  351.21   351.335    43588.0   \n",
       "2020-06-30 16:34:00  351.3300  351.4427  350.32   351.100   201642.0   \n",
       "\n",
       "                                       systime  \n",
       "2020-06-30 16:30:00 2020-06-30 16:41:09.500026  \n",
       "2020-06-30 16:31:00 2020-06-30 16:41:09.500026  \n",
       "2020-06-30 16:32:00 2020-06-30 16:41:09.500026  \n",
       "2020-06-30 16:33:00 2020-06-30 16:41:09.500026  \n",
       "2020-06-30 16:34:00 2020-06-30 16:41:09.500026  "
      ]
     },
     "execution_count": 8,
     "metadata": {},
     "output_type": "execute_result"
    }
   ],
   "source": [
    "AAPL.head()"
   ]
  },
  {
   "cell_type": "markdown",
   "metadata": {},
   "source": [
    "### Otra manera de hacerlo (usando zonas horarias)"
   ]
  },
  {
   "cell_type": "code",
   "execution_count": 9,
   "metadata": {},
   "outputs": [],
   "source": [
    "from alpha_vantage.timeseries import TimeSeries\n",
    "import time\n",
    "import pandas as pd\n",
    "import pytz"
   ]
  },
  {
   "cell_type": "code",
   "execution_count": 10,
   "metadata": {},
   "outputs": [],
   "source": [
    "tickers = [\"AAPL\",\"AXP\",\"BA\",\"CAT\",\"CSCO\",\"CVX\",\"DIS\",\"GE\",\"GS\",\"HD\",\"IBM\",\"INTC\",\"JNJ\",\"JPM\"]\n",
    "\n",
    "myDic_alpha = dict()\n",
    "data = []\n",
    "\n",
    "namesList = ['open', 'high', 'low', 'close', 'volume']\n",
    "ts = TimeSeries(key='AOURS93CWW9EDZWO', output_format='pandas')\n",
    "us_timezone = pytz.timezone('US/Eastern')\n",
    "local_timezone = pytz.timezone('Europe/London')\n",
    "\n",
    "for i in range(0, len(tickers)):\n",
    "    data, meta_data = ts.get_intraday(symbol=tickers[i], interval='1min', outputsize='full')\n",
    "    data.columns = namesList\n",
    "    data.index = data.index.tz_localize(us_timezone).tz_convert(local_timezone)\n",
    "    myDic_alpha[tickers[i]] = pd.DataFrame(data)\n",
    "    time.sleep(13)"
   ]
  },
  {
   "cell_type": "code",
   "execution_count": 11,
   "metadata": {},
   "outputs": [
    {
     "data": {
      "text/plain": [
       "dict_keys(['AAPL', 'AXP', 'BA', 'CAT', 'CSCO', 'CVX', 'DIS', 'GE', 'GS', 'HD', 'IBM', 'INTC', 'JNJ', 'JPM'])"
      ]
     },
     "execution_count": 11,
     "metadata": {},
     "output_type": "execute_result"
    }
   ],
   "source": [
    "myDic_alpha.keys()"
   ]
  },
  {
   "cell_type": "code",
   "execution_count": 14,
   "metadata": {},
   "outputs": [
    {
     "data": {
      "text/html": [
       "<div>\n",
       "<style scoped>\n",
       "    .dataframe tbody tr th:only-of-type {\n",
       "        vertical-align: middle;\n",
       "    }\n",
       "\n",
       "    .dataframe tbody tr th {\n",
       "        vertical-align: top;\n",
       "    }\n",
       "\n",
       "    .dataframe thead th {\n",
       "        text-align: right;\n",
       "    }\n",
       "</style>\n",
       "<table border=\"1\" class=\"dataframe\">\n",
       "  <thead>\n",
       "    <tr style=\"text-align: right;\">\n",
       "      <th></th>\n",
       "      <th>open</th>\n",
       "      <th>high</th>\n",
       "      <th>low</th>\n",
       "      <th>close</th>\n",
       "      <th>volume</th>\n",
       "    </tr>\n",
       "    <tr>\n",
       "      <th>date</th>\n",
       "      <th></th>\n",
       "      <th></th>\n",
       "      <th></th>\n",
       "      <th></th>\n",
       "      <th></th>\n",
       "    </tr>\n",
       "  </thead>\n",
       "  <tbody>\n",
       "    <tr>\n",
       "      <th>2020-06-18 15:31:00+01:00</th>\n",
       "      <td>351.4200</td>\n",
       "      <td>351.4900</td>\n",
       "      <td>350.9900</td>\n",
       "      <td>351.2300</td>\n",
       "      <td>93942.0</td>\n",
       "    </tr>\n",
       "    <tr>\n",
       "      <th>2020-06-18 15:32:00+01:00</th>\n",
       "      <td>351.2009</td>\n",
       "      <td>351.7200</td>\n",
       "      <td>351.2000</td>\n",
       "      <td>351.5200</td>\n",
       "      <td>69117.0</td>\n",
       "    </tr>\n",
       "    <tr>\n",
       "      <th>2020-06-18 15:33:00+01:00</th>\n",
       "      <td>351.5100</td>\n",
       "      <td>351.5100</td>\n",
       "      <td>351.2100</td>\n",
       "      <td>351.3350</td>\n",
       "      <td>43588.0</td>\n",
       "    </tr>\n",
       "    <tr>\n",
       "      <th>2020-06-18 15:34:00+01:00</th>\n",
       "      <td>351.3300</td>\n",
       "      <td>351.4427</td>\n",
       "      <td>350.3200</td>\n",
       "      <td>351.1000</td>\n",
       "      <td>201642.0</td>\n",
       "    </tr>\n",
       "    <tr>\n",
       "      <th>2020-06-18 15:35:00+01:00</th>\n",
       "      <td>351.0791</td>\n",
       "      <td>352.0000</td>\n",
       "      <td>351.0791</td>\n",
       "      <td>351.8300</td>\n",
       "      <td>132031.0</td>\n",
       "    </tr>\n",
       "    <tr>\n",
       "      <th>2020-06-18 15:36:00+01:00</th>\n",
       "      <td>351.8500</td>\n",
       "      <td>352.5100</td>\n",
       "      <td>351.6700</td>\n",
       "      <td>352.1400</td>\n",
       "      <td>132825.0</td>\n",
       "    </tr>\n",
       "    <tr>\n",
       "      <th>2020-06-18 15:37:00+01:00</th>\n",
       "      <td>352.1000</td>\n",
       "      <td>352.1400</td>\n",
       "      <td>351.8539</td>\n",
       "      <td>351.9600</td>\n",
       "      <td>68868.0</td>\n",
       "    </tr>\n",
       "    <tr>\n",
       "      <th>2020-06-18 15:38:00+01:00</th>\n",
       "      <td>351.9600</td>\n",
       "      <td>351.9600</td>\n",
       "      <td>351.6800</td>\n",
       "      <td>351.6843</td>\n",
       "      <td>55269.0</td>\n",
       "    </tr>\n",
       "    <tr>\n",
       "      <th>2020-06-18 15:39:00+01:00</th>\n",
       "      <td>351.7100</td>\n",
       "      <td>352.0100</td>\n",
       "      <td>351.7100</td>\n",
       "      <td>351.8976</td>\n",
       "      <td>47467.0</td>\n",
       "    </tr>\n",
       "  </tbody>\n",
       "</table>\n",
       "</div>"
      ],
      "text/plain": [
       "                               open      high       low     close    volume\n",
       "date                                                                       \n",
       "2020-06-18 15:31:00+01:00  351.4200  351.4900  350.9900  351.2300   93942.0\n",
       "2020-06-18 15:32:00+01:00  351.2009  351.7200  351.2000  351.5200   69117.0\n",
       "2020-06-18 15:33:00+01:00  351.5100  351.5100  351.2100  351.3350   43588.0\n",
       "2020-06-18 15:34:00+01:00  351.3300  351.4427  350.3200  351.1000  201642.0\n",
       "2020-06-18 15:35:00+01:00  351.0791  352.0000  351.0791  351.8300  132031.0\n",
       "2020-06-18 15:36:00+01:00  351.8500  352.5100  351.6700  352.1400  132825.0\n",
       "2020-06-18 15:37:00+01:00  352.1000  352.1400  351.8539  351.9600   68868.0\n",
       "2020-06-18 15:38:00+01:00  351.9600  351.9600  351.6800  351.6843   55269.0\n",
       "2020-06-18 15:39:00+01:00  351.7100  352.0100  351.7100  351.8976   47467.0"
      ]
     },
     "execution_count": 14,
     "metadata": {},
     "output_type": "execute_result"
    }
   ],
   "source": [
    "myDic_alpha[\"AAPL\"][1:10]"
   ]
  }
 ],
 "metadata": {
  "kernelspec": {
   "display_name": "Python 3",
   "language": "python",
   "name": "python3"
  },
  "language_info": {
   "codemirror_mode": {
    "name": "ipython",
    "version": 3
   },
   "file_extension": ".py",
   "mimetype": "text/x-python",
   "name": "python",
   "nbconvert_exporter": "python",
   "pygments_lexer": "ipython3",
   "version": "3.6.8"
  }
 },
 "nbformat": 4,
 "nbformat_minor": 4
}
