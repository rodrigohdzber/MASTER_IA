{
 "cells": [
  {
   "cell_type": "markdown",
   "metadata": {},
   "source": [
    "# Ejercicio 6 fondos de inversion"
   ]
  },
  {
   "cell_type": "markdown",
   "metadata": {},
   "source": [
    "- Consigue la rentabilidad los fondos de inversión en el año actual\n",
    "- Recomendación: quefondos  https://www.quefondos.com/es/fondos/ranking/anual/index.html?cardCount=1&cardSize=100\n",
    "- Tiempo objetivo: 45 minutos\n",
    "- Objetivo extra: Programa la gestión de errores. Si da error al descargar, reinténtalo varias veces."
   ]
  },
  {
   "cell_type": "code",
   "execution_count": 4,
   "metadata": {},
   "outputs": [
    {
     "name": "stdout",
     "output_type": "stream",
     "text": [
      "Collecting tqdm\n",
      "  Downloading https://files.pythonhosted.org/packages/46/62/7663894f67ac5a41a0d8812d78d9d2a9404124051885af9d77dc526fb399/tqdm-4.47.0-py2.py3-none-any.whl (66kB)\n",
      "Installing collected packages: tqdm\n",
      "Successfully installed tqdm-4.47.0\n"
     ]
    },
    {
     "name": "stderr",
     "output_type": "stream",
     "text": [
      "You are using pip version 18.1, however version 20.2b1 is available.\n",
      "You should consider upgrading via the 'python -m pip install --upgrade pip' command.\n"
     ]
    }
   ],
   "source": [
    "!pip install bs4\n",
    "!pip install tqdm"
   ]
  },
  {
   "cell_type": "code",
   "execution_count": 8,
   "metadata": {},
   "outputs": [],
   "source": [
    "import pandas as pd\n",
    "import numpy as np\n",
    "import requests\n",
    "import re\n",
    "from bs4 import BeautifulSoup\n",
    "import time\n",
    "from tqdm import tqdm"
   ]
  },
  {
   "cell_type": "code",
   "execution_count": 9,
   "metadata": {},
   "outputs": [],
   "source": [
    "def obtener_fondos():\n",
    "    \n",
    "    url=\"https://www.quefondos.com/es/fondos/ranking/anual/index.html?cardCount=1&cardSize=100\"\n",
    "    soup  = requests.get(url)\n",
    "    soup  = BeautifulSoup(soup.content, 'html.parser')\n",
    "    name_box = soup.find('td', attrs={'colspan': '7'})\n",
    "    \n",
    "    name = name_box.text.strip() # strip() is used to remove starting and trailing\n",
    "    name = name_box.text.split(' ')\n",
    "    num_fondos = 1*float(name[len(name)-2])\n",
    "    num_fondos = round(num_fondos/100,0)*100 # Redondeamos el número para que sea divisible entre 100.\n",
    "    num_fondos_porc = num_fondos/100\n",
    "    \n",
    "    # Descargamos los fondos de inversión.\n",
    "    for pagina in tqdm(range(int(num_fondos_porc))):\n",
    "        url=\"https://www.quefondos.com/esfondos/ranking/anual/index.html?cardCount=\"+str(pagina+1)+\"&cardSize=100\"\n",
    "        intentos=0\n",
    "        descarga='sin datos'\n",
    "        while descarga=='sin datos':\n",
    "            try:\n",
    "                page = requests.get(url)\n",
    "                descarga = 'ok'\n",
    "            except:\n",
    "                intentos = intentos+1\n",
    "                if intentos > 3:\n",
    "                    print(\"Tras varios intentos no nos hemos podido descargar los fondos. Dejamos de intentarlo.\")\n",
    "                    break\n",
    "                if descarga==\"sin datos\":\n",
    "                    print(\"Error en la descarga de los fondos, reintentamos\")\n",
    "                    \n",
    "        page = requests.get(url)\n",
    "        table = soup.findAll('table')\n",
    "        df = pd.read_html(str(table))[0]\n",
    "        df = df.iloc[:,[0,1,4]] # nos quedamos con las columnas del nombre del fondo, la categoría y la rentabilidad\n",
    "        df.columns = ['Nombre fondo','Categoria','Rentabilidad año en curso'] # Ponemos nombres a las columnas.\n",
    "        n = df.shape[0]-1 # Eliminamos la fila resumen del final\n",
    "        df = df.iloc[0:n,:]\n",
    "        \n",
    "        if pagina==0:\n",
    "            dfacum=df\n",
    "        else:\n",
    "            dfacum=pd.concat([dfacum, df], axis=0)\n",
    "            \n",
    "        dfacum.reset_index(drop=True)\n",
    "        \n",
    "    return dfacum"
   ]
  },
  {
   "cell_type": "code",
   "execution_count": 10,
   "metadata": {},
   "outputs": [
    {
     "name": "stderr",
     "output_type": "stream",
     "text": [
      "100%|███████████████████████████████████████████████████████████████████████████████████████████████████████████████████████████████████████████████████████████████████████████████████████████████████| 355/355 [07:31<00:00,  1.27s/it]\n"
     ]
    }
   ],
   "source": [
    "tabla_fondos=obtener_fondos()"
   ]
  },
  {
   "cell_type": "code",
   "execution_count": 11,
   "metadata": {},
   "outputs": [
    {
     "data": {
      "text/html": [
       "<div>\n",
       "<style scoped>\n",
       "    .dataframe tbody tr th:only-of-type {\n",
       "        vertical-align: middle;\n",
       "    }\n",
       "\n",
       "    .dataframe tbody tr th {\n",
       "        vertical-align: top;\n",
       "    }\n",
       "\n",
       "    .dataframe thead th {\n",
       "        text-align: right;\n",
       "    }\n",
       "</style>\n",
       "<table border=\"1\" class=\"dataframe\">\n",
       "  <thead>\n",
       "    <tr style=\"text-align: right;\">\n",
       "      <th></th>\n",
       "      <th>Nombre fondo</th>\n",
       "      <th>Categoria</th>\n",
       "      <th>Rentabilidad año en curso</th>\n",
       "    </tr>\n",
       "  </thead>\n",
       "  <tbody>\n",
       "    <tr>\n",
       "      <th>0</th>\n",
       "      <td>MULTIUNITS LUX - LYXOR S&amp;P 500 VIX FUTURES ENH...</td>\n",
       "      <td>RVI USA</td>\n",
       "      <td>147,00%</td>\n",
       "    </tr>\n",
       "    <tr>\n",
       "      <th>1</th>\n",
       "      <td>RENTA 4 ACTIVOS GLOBALES, FI I</td>\n",
       "      <td>MIXTO FLEXIBLE</td>\n",
       "      <td>72,53%</td>\n",
       "    </tr>\n",
       "    <tr>\n",
       "      <th>2</th>\n",
       "      <td>MSIF US INSIGHT Z (USD)</td>\n",
       "      <td>RVI USA</td>\n",
       "      <td>55,98%</td>\n",
       "    </tr>\n",
       "    <tr>\n",
       "      <th>3</th>\n",
       "      <td>MSIF US INSIGHT A (USD)</td>\n",
       "      <td>RVI USA</td>\n",
       "      <td>55,31%</td>\n",
       "    </tr>\n",
       "    <tr>\n",
       "      <th>4</th>\n",
       "      <td>MSIF US GROWTH Z (USD)</td>\n",
       "      <td>RVI USA CRECIMIENTO</td>\n",
       "      <td>55,21%</td>\n",
       "    </tr>\n",
       "    <tr>\n",
       "      <th>5</th>\n",
       "      <td>MSIF US GROWTH I (USD)</td>\n",
       "      <td>RVI USA CRECIMIENTO</td>\n",
       "      <td>55,17%</td>\n",
       "    </tr>\n",
       "    <tr>\n",
       "      <th>6</th>\n",
       "      <td>MSIF US GROWTH IX (USD)</td>\n",
       "      <td>RVI USA CRECIMIENTO</td>\n",
       "      <td>55,17%</td>\n",
       "    </tr>\n",
       "    <tr>\n",
       "      <th>7</th>\n",
       "      <td>MSIF US GROWTH A (USD)</td>\n",
       "      <td>RVI USA CRECIMIENTO</td>\n",
       "      <td>54,62%</td>\n",
       "    </tr>\n",
       "    <tr>\n",
       "      <th>8</th>\n",
       "      <td>MSIF US GROWTH AX (USD)</td>\n",
       "      <td>RVI USA CRECIMIENTO</td>\n",
       "      <td>54,61%</td>\n",
       "    </tr>\n",
       "    <tr>\n",
       "      <th>9</th>\n",
       "      <td>MSIF US GROWTH IH (EUR)</td>\n",
       "      <td>RVI USA CRECIMIENTO</td>\n",
       "      <td>53,36%</td>\n",
       "    </tr>\n",
       "  </tbody>\n",
       "</table>\n",
       "</div>"
      ],
      "text/plain": [
       "                                        Nombre fondo            Categoria  \\\n",
       "0  MULTIUNITS LUX - LYXOR S&P 500 VIX FUTURES ENH...              RVI USA   \n",
       "1                     RENTA 4 ACTIVOS GLOBALES, FI I       MIXTO FLEXIBLE   \n",
       "2                            MSIF US INSIGHT Z (USD)              RVI USA   \n",
       "3                            MSIF US INSIGHT A (USD)              RVI USA   \n",
       "4                             MSIF US GROWTH Z (USD)  RVI USA CRECIMIENTO   \n",
       "5                             MSIF US GROWTH I (USD)  RVI USA CRECIMIENTO   \n",
       "6                            MSIF US GROWTH IX (USD)  RVI USA CRECIMIENTO   \n",
       "7                             MSIF US GROWTH A (USD)  RVI USA CRECIMIENTO   \n",
       "8                            MSIF US GROWTH AX (USD)  RVI USA CRECIMIENTO   \n",
       "9                            MSIF US GROWTH IH (EUR)  RVI USA CRECIMIENTO   \n",
       "\n",
       "  Rentabilidad año en curso  \n",
       "0                   147,00%  \n",
       "1                    72,53%  \n",
       "2                    55,98%  \n",
       "3                    55,31%  \n",
       "4                    55,21%  \n",
       "5                    55,17%  \n",
       "6                    55,17%  \n",
       "7                    54,62%  \n",
       "8                    54,61%  \n",
       "9                    53,36%  "
      ]
     },
     "execution_count": 11,
     "metadata": {},
     "output_type": "execute_result"
    }
   ],
   "source": [
    "tabla_fondos.head(10)"
   ]
  },
  {
   "cell_type": "markdown",
   "metadata": {},
   "source": [
    "## Otra manera de hacerlo"
   ]
  },
  {
   "cell_type": "code",
   "execution_count": null,
   "metadata": {},
   "outputs": [],
   "source": [
    "import time\n",
    "import pandas as pd\n",
    "from requests_html import HTMLSession"
   ]
  },
  {
   "cell_type": "code",
   "execution_count": null,
   "metadata": {},
   "outputs": [],
   "source": [
    "def obtener_fondos():\n",
    "\n",
    "    # Consultamos cuantos fondos están listados en la web.\n",
    "    url = \"https://www.quefondos.com/es/fondos/ranking/anual/index.html?cardCount=1&cardSize=100\"\n",
    "    datos_web = HTMLSession().get(url).html\n",
    "\n",
    "    num_fondos = int(datos_web\n",
    "                     .find('#report', first=True)\n",
    "                     .find('.bold')[-1]  # ultimo bold\n",
    "                     .text)\n",
    "\n",
    "    # Redondeamos el número para que sea divisible entre 100.\n",
    "    num_fondos = (round(num_fondos // 100, 0)) * 100\n",
    "\n",
    "    # Descargamos los fondos de inversión.\n",
    "    for pagina in range(1, (num_fondos // 100) + 1):\n",
    "\n",
    "        url = f\"https://www.quefondos.com/es/fondos/ranking/anual/index.html?cardCount={pagina}&cardSize=100\"\n",
    "\n",
    "        intentos = 0\n",
    "        descarga = \"Sin datos\"\n",
    "\n",
    "        while descarga == \"Sin datos\":\n",
    "\n",
    "            try:\n",
    "                datos_web = HTMLSession().get(url).html\n",
    "                descarga = 'OK'\n",
    "            except Exception:\n",
    "                intentos = intentos + 1\n",
    "\n",
    "                if intentos > 3:\n",
    "                    print(\"Tras varios intentos no nos hemos podido descargar los fondos. Dejamos de intentarlo.\")\n",
    "                    return None\n",
    "\n",
    "                if descarga == \"Sin datos\":\n",
    "                    print(\"Error en la descarga de los fondos, reintentamos\")\n",
    "                    time.sleep(30)\n",
    "\n",
    "        # Bajamos tabla entera de fondos\n",
    "        fondos = pd.read_html(datos_web.find(\".data_select\", first=True).html)[0]\n",
    "        fondos.columns = fondos.columns.droplevel()  # Borramos un nivel ya que incluye 2 iguales por defecto\n",
    "\n",
    "        # Borramos última fila con \"Resultados por página ...\"\n",
    "        fondos = fondos.iloc[:-1]\n",
    "\n",
    "        if pagina == 1:\n",
    "            fondos_acumulados = fondos\n",
    "        else:\n",
    "            fondos_acumulados = pd.concat([fondos_acumulados, fondos], ignore_index=True)\n",
    "\n",
    "        print(f'{pagina * 100} fondos descargados de {num_fondos}')\n",
    "\n",
    "    # seleccionamos columnas y las renombramos\n",
    "    fondos_acumulados = fondos_acumulados.iloc[:, [0, 1, 4]]\n",
    "    fondos_acumulados.columns = [\"Nombre fondo\", \"Categoría\", \"Rentabilidad año en curso\"]\n",
    "\n",
    "    return(fondos_acumulados)"
   ]
  },
  {
   "cell_type": "code",
   "execution_count": null,
   "metadata": {},
   "outputs": [],
   "source": [
    "tabla_fondos = obtener_fondos()\n",
    "\n",
    "print(tabla_fondos"
   ]
  },
  {
   "cell_type": "markdown",
   "metadata": {},
   "source": [
    "## Otra manera de hacerlo"
   ]
  },
  {
   "cell_type": "code",
   "execution_count": null,
   "metadata": {},
   "outputs": [],
   "source": [
    "import requests\n",
    "import urllib.request\n",
    "import time\n",
    "from bs4 import BeautifulSoup\n",
    "import pandas as pd\n",
    "import numpy as np"
   ]
  },
  {
   "cell_type": "code",
   "execution_count": null,
   "metadata": {},
   "outputs": [],
   "source": [
    "fondos=pd.DataFrame(columns=[\"Fondo\", \"Nombre\", \"Rentabilidad\"])\n",
    "\n",
    "url = 'https://www.quefondos.com/es/fondos/ranking/anual/index.html?cardCount=1&cardSize=100'\n",
    "response = requests.get(url)\n",
    "soup = BeautifulSoup(response.text, 'html.parser')\n",
    "texto=soup.find(\"tfoot\")\n",
    "sig=texto.find(\"tr\")\n",
    "siga=sig.findAll(\"span\")\n",
    "linea=str(siga[5])\n",
    "linea=linea[linea.find(\"total\"):]\n",
    "linea=linea[(linea.find(\">\")+1):linea.find(\"</\")]\n",
    "num_fondos=int(linea)\n",
    "num_fondos=int(round(num_fondos / 100, 0) * 100)\n",
    "paginas=int(num_fondos/100)\n",
    "    \n",
    "    \n",
    "for i in range(1, paginas):\n",
    "    url = f'https://www.quefondos.com/es/fondos/ranking/anual/index.html?cardCount={i}&cardSize=100'\n",
    "    response = requests.get(url)\n",
    "    soup = BeautifulSoup(response.text, 'html.parser')\n",
    "    tabla=soup.find('table')\n",
    "    trs=tabla.findAll(\"tr\")    \n",
    "    for tr in trs[3:]:\n",
    "        tds = tr.findAll('td')\n",
    "        a=str(tds[0])\n",
    "        b=str(tds[1])\n",
    "        c=str(tds[4])\n",
    "\n",
    "        fondo=a[(a.find(\":\")+2):]\n",
    "        fondo=fondo[:fondo.find('\">')]\n",
    "        nombre=b[(b.find(\">\")+1):(b.find(\"</\"))]\n",
    "        rentabilidad=c[(c.find(\">\")+1):c.find(\"</\")]\n",
    "        fondos.loc[fondos.shape[0]]=[fondo, nombre, rentabilidad]\n",
    "        #print(f'{fondo} {nombre} {rentabilidad}')\n",
    "    print(f'Hemos descargado {i*100} fondos')"
   ]
  },
  {
   "cell_type": "markdown",
   "metadata": {},
   "source": [
    "Con la siguiente línea podemos ver 30 fondos de manera aleatoria."
   ]
  },
  {
   "cell_type": "code",
   "execution_count": null,
   "metadata": {},
   "outputs": [],
   "source": [
    "fondos.loc[np.random.choice(fondos.index,30)]"
   ]
  },
  {
   "cell_type": "markdown",
   "metadata": {},
   "source": [
    "## Otra manera de hacerlo"
   ]
  },
  {
   "cell_type": "code",
   "execution_count": null,
   "metadata": {},
   "outputs": [],
   "source": [
    "import requests\n",
    "from lxml import html\n",
    "from bs4 import BeautifulSoup\n",
    "import numpy as np\n",
    "from tqdm import tqdm\n",
    "import pandas as pd\n",
    "tqdm.pandas()"
   ]
  },
  {
   "cell_type": "code",
   "execution_count": null,
   "metadata": {},
   "outputs": [],
   "source": [
    "itemsPerPage = 100\n",
    "url = \"https://www.quefondos.com/es/fondos/ranking/anual/index.html?cardCount=1&cardSize=100\"\n",
    "page = requests.get(url)\n",
    "tree = html.fromstring(page.content)\n",
    "nFondos = int(tree.xpath('//*[@id=\"report\"]/span[3]')[0].text)\n",
    "nFondos = int(np.floor(nFondos/itemsPerPage)*100)"
   ]
  },
  {
   "cell_type": "code",
   "execution_count": null,
   "metadata": {},
   "outputs": [],
   "source": [
    "def getFunds(page:int, itemsPerPage:int):\n",
    "    \n",
    "    url = f\"https://www.quefondos.com/es/fondos/ranking/anual/index.html?cardCount={page}&cardSize={itemsPerPage}\"\n",
    "    \n",
    "    website_url = requests.get(url).text\n",
    "    soup = BeautifulSoup(website_url)\n",
    "    table = soup.find('table', attrs={'class':'data_select'})\n",
    "    tableData = table.tbody.find_all(\"tr\")\n",
    "\n",
    "    tableDict = dict()\n",
    "    for index, register in enumerate(tableData):\n",
    "        tableDict[index] = dict()\n",
    "        features = register.find_all(\"td\")\n",
    "        for feature in features:\n",
    "            tableDict[index][feature['class'][0]] = feature.text\n",
    "            \n",
    "    return tableDict"
   ]
  },
  {
   "cell_type": "code",
   "execution_count": null,
   "metadata": {},
   "outputs": [],
   "source": [
    "results = [getFunds(pagina+1, itemsPerPage) for pagina in tqdm(range(int(nFondos/itemsPerPage)))]"
   ]
  },
  {
   "cell_type": "code",
   "execution_count": null,
   "metadata": {},
   "outputs": [],
   "source": [
    "dfResults = pd.DataFrame()\n",
    "for batch in tqdm(results):\n",
    "    local = pd.DataFrame.from_dict(batch, orient='index')\n",
    "    dfResults = dfResults.append(local, ignore_index=True)\n",
    "dfResults = dfResults[['fondo', 'np70', 'mas']].astype(str)\n",
    "dfResults['mas'] = dfResults['mas'].progress_apply(lambda x: float(x.replace('%','').replace('.','').replace(',','.'))/100)\n",
    "dfResults.columns = [\"Nombre fondo\",\"Categoría\",\"Rentabilidad año en curso\"]"
   ]
  },
  {
   "cell_type": "code",
   "execution_count": null,
   "metadata": {},
   "outputs": [],
   "source": [
    "dfResults.head()"
   ]
  }
 ],
 "metadata": {
  "kernelspec": {
   "display_name": "Python 3.6.8 64-bit ('venv-ml': venv)",
   "language": "python",
   "name": "python36864bitvenvmlvenve40bc169c9714114b4130d652b923ecf"
  },
  "language_info": {
   "codemirror_mode": {
    "name": "ipython",
    "version": 3
   },
   "file_extension": ".py",
   "mimetype": "text/x-python",
   "name": "python",
   "nbconvert_exporter": "python",
   "pygments_lexer": "ipython3",
   "version": "3.6.8"
  }
 },
 "nbformat": 4,
 "nbformat_minor": 4
}
