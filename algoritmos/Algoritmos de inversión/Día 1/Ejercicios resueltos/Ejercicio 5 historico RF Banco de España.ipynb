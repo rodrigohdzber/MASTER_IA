{
 "cells": [
  {
   "cell_type": "markdown",
   "metadata": {},
   "source": [
    "# Ejercicio 5 Histórico RF Banco de España"
   ]
  },
  {
   "cell_type": "markdown",
   "metadata": {},
   "source": [
    "- Consigue el histórico de la renta fija de los últimos 60 días\n",
    "- Recomendación: Banco de España  https://www.bde.es/webbde/es/estadis/infoest/tipos/tipos.html\n",
    "- Tiempo objetivo: 30 minutos"
   ]
  },
  {
   "cell_type": "code",
   "execution_count": 1,
   "metadata": {},
   "outputs": [],
   "source": [
    "import pandas as pd\n",
    "from datetime import datetime, date, timedelta\n",
    "import numpy as np\n",
    "import time\n",
    "from pprint import pprint\n",
    "import datetime"
   ]
  },
  {
   "cell_type": "code",
   "execution_count": 2,
   "metadata": {},
   "outputs": [],
   "source": [
    "ventana=60 \n",
    "url = \"http://www.bde.es/webbde/es/estadis/infoest/series/ti_1_7.csv\""
   ]
  },
  {
   "cell_type": "code",
   "execution_count": 3,
   "metadata": {},
   "outputs": [],
   "source": [
    "renta_fija = pd.read_csv(url, encoding = \"ISO-8859-1\") # https://stackoverflow.com/questions/18171739/unicodedecodeerror-when-reading-csv-file-in-pandas-with-python"
   ]
  },
  {
   "cell_type": "code",
   "execution_count": 4,
   "metadata": {},
   "outputs": [],
   "source": [
    "renta_fija = renta_fija.iloc[3:renta_fija.shape[0],:] # Eliminamos las filas de títulos que no nos sirven."
   ]
  },
  {
   "source": [
    "## Error solcuionado: "
   ],
   "cell_type": "markdown",
   "metadata": {}
  },
  {
   "cell_type": "code",
   "execution_count": 5,
   "metadata": {},
   "outputs": [],
   "source": [
    "#renta_fija = renta_fija.iloc[:,[0,2]]# Nos quedamos solo con las columnas que nos interesan (fecha y eonia mundial)\n",
    "#Modificación: \n",
    "renta_fija = renta_fija.iloc[2:-2,[0,2]]"
   ]
  },
  {
   "cell_type": "code",
   "execution_count": 6,
   "metadata": {},
   "outputs": [],
   "source": [
    "renta_fija.columns = ['Date','Eonia']# Ponemos nombres a las columnas."
   ]
  },
  {
   "cell_type": "code",
   "execution_count": 7,
   "metadata": {},
   "outputs": [],
   "source": [
    "meses_texto = (\" ENE\", \" FEB\", \" MAR\", \" ABR\", \" MAY\", \" JUN\", \" JUL\", \" AGO\", \" SEP\", \" OCT\", \" NOV\", \" DIC\")\n",
    "meses_dig = (\"/01/\", \"/02/\", \"/03/\", \"/04/\", \"/05/\", \"/06/\", \"/07/\", \"/08/\", \"/09/\", \"/10/\", \"/11/\", \"/12/\")"
   ]
  },
  {
   "cell_type": "code",
   "execution_count": 8,
   "metadata": {},
   "outputs": [],
   "source": [
    "for mes in range(12):\n",
    "    renta_fija.Date = renta_fija.Date.str.replace(meses_texto[mes],meses_dig[mes])"
   ]
  },
  {
   "cell_type": "code",
   "execution_count": 9,
   "metadata": {},
   "outputs": [],
   "source": [
    "#Formato original: format='%d/%m/%Y'\n",
    "renta_fija.Date = pd.to_datetime(renta_fija.Date, format='%d/%m/ %Y') # Convertimos el formato español a fecha internacional."
   ]
  },
  {
   "cell_type": "code",
   "execution_count": 10,
   "metadata": {},
   "outputs": [],
   "source": [
    "fecha_inicio = datetime.date.today()-timedelta(ventana)"
   ]
  },
  {
   "cell_type": "code",
   "execution_count": 11,
   "metadata": {},
   "outputs": [],
   "source": [
    "fecha_fin = datetime.date.today()"
   ]
  },
  {
   "cell_type": "code",
   "execution_count": 12,
   "metadata": {},
   "outputs": [],
   "source": [
    "renta_fija=renta_fija[renta_fija['Date'] >= pd.Timestamp(fecha_inicio)]\n",
    "renta_fija=renta_fija[renta_fija['Date'] <= pd.Timestamp(fecha_fin)]"
   ]
  },
  {
   "cell_type": "code",
   "execution_count": 13,
   "metadata": {},
   "outputs": [
    {
     "output_type": "execute_result",
     "data": {
      "text/plain": [
       "            Date   Eonia\n",
       "15255 2020-10-03       _\n",
       "15256 2020-10-04       _\n",
       "15257 2020-10-05  -0.470\n",
       "15258 2020-10-06  -0.471\n",
       "15259 2020-10-07  -0.470\n",
       "15260 2020-10-08  -0.468\n",
       "15261 2020-10-09  -0.468\n",
       "15262 2020-10-10       _\n",
       "15263 2020-10-11       _\n",
       "15264 2020-10-12  -0.471"
      ],
      "text/html": "<div>\n<style scoped>\n    .dataframe tbody tr th:only-of-type {\n        vertical-align: middle;\n    }\n\n    .dataframe tbody tr th {\n        vertical-align: top;\n    }\n\n    .dataframe thead th {\n        text-align: right;\n    }\n</style>\n<table border=\"1\" class=\"dataframe\">\n  <thead>\n    <tr style=\"text-align: right;\">\n      <th></th>\n      <th>Date</th>\n      <th>Eonia</th>\n    </tr>\n  </thead>\n  <tbody>\n    <tr>\n      <th>15255</th>\n      <td>2020-10-03</td>\n      <td>_</td>\n    </tr>\n    <tr>\n      <th>15256</th>\n      <td>2020-10-04</td>\n      <td>_</td>\n    </tr>\n    <tr>\n      <th>15257</th>\n      <td>2020-10-05</td>\n      <td>-0.470</td>\n    </tr>\n    <tr>\n      <th>15258</th>\n      <td>2020-10-06</td>\n      <td>-0.471</td>\n    </tr>\n    <tr>\n      <th>15259</th>\n      <td>2020-10-07</td>\n      <td>-0.470</td>\n    </tr>\n    <tr>\n      <th>15260</th>\n      <td>2020-10-08</td>\n      <td>-0.468</td>\n    </tr>\n    <tr>\n      <th>15261</th>\n      <td>2020-10-09</td>\n      <td>-0.468</td>\n    </tr>\n    <tr>\n      <th>15262</th>\n      <td>2020-10-10</td>\n      <td>_</td>\n    </tr>\n    <tr>\n      <th>15263</th>\n      <td>2020-10-11</td>\n      <td>_</td>\n    </tr>\n    <tr>\n      <th>15264</th>\n      <td>2020-10-12</td>\n      <td>-0.471</td>\n    </tr>\n  </tbody>\n</table>\n</div>"
     },
     "metadata": {},
     "execution_count": 13
    }
   ],
   "source": [
    "renta_fija.head(10)"
   ]
  }
 ],
 "metadata": {
  "kernelspec": {
   "name": "python3",
   "display_name": "Python 3.8.6 64-bit",
   "metadata": {
    "interpreter": {
     "hash": "1baa965d5efe3ac65b79dfc60c0d706280b1da80fedb7760faf2759126c4f253"
    }
   }
  },
  "language_info": {
   "codemirror_mode": {
    "name": "ipython",
    "version": 3
   },
   "file_extension": ".py",
   "mimetype": "text/x-python",
   "name": "python",
   "nbconvert_exporter": "python",
   "pygments_lexer": "ipython3",
   "version": "3.8.6-final"
  }
 },
 "nbformat": 4,
 "nbformat_minor": 2
}