{
 "cells": [
  {
   "cell_type": "markdown",
   "metadata": {},
   "source": [
    "# Ejercicio 4 historico divisas Banco de España"
   ]
  },
  {
   "cell_type": "markdown",
   "metadata": {},
   "source": [
    "### Consigue el histórico de las divisas de los últimos 60 días\n",
    "### Recomendación: Banco de España  https://www.bde.es/webbde/es/estadis/infoest/tipos/tipos.html\n",
    "### Tiempo objetivo: 30 minutos\n",
    "\n",
    "     Euros\n",
    "     Dólares de EEUU\n",
    "     Francos Suizos\n",
    "     Libras Esterlinas\n",
    "     Coronas Suecas\n",
    "     Coronas Noruegas\n",
    "     Dólares de Hong Kong\n",
    "     Dólares de Singapur\n",
    "     Shequel Israelí\n",
    "     Rupias Indonesias\n",
    "     Pesos Mejicanos\n",
    "     Reales Brasileños\n",
    "     Peso Argentino"
   ]
  },
  {
   "cell_type": "code",
   "execution_count": 1,
   "metadata": {},
   "outputs": [],
   "source": [
    "import pandas as pd\n",
    "from datetime import datetime, date, timedelta\n",
    "import numpy as np\n",
    "import time\n",
    "from pprint import pprint\n",
    "import datetime"
   ]
  },
  {
   "cell_type": "code",
   "execution_count": 2,
   "metadata": {},
   "outputs": [],
   "source": [
    "ventana=60\n",
    "url=\"http://www.bde.es/webbde/es/estadis/infoest/series/tc_1_1.csv\""
   ]
  },
  {
   "cell_type": "code",
   "execution_count": 3,
   "metadata": {
    "tags": []
   },
   "outputs": [],
   "source": [
    "divisas=pd.read_csv(url, encoding = \"ISO-8859-1\") #https://stackoverflow.com/questions/18171739/unicodedecodeerror-when-reading-csv-file-in-pandas-with-python\n",
    "divisas.columns=divisas.iloc[2,:] # Ponemos el encabezado más coherente.\n",
    "divisas=divisas.iloc[3:divisas.shape[0],:] # Eliminamos las filas de títulos que no nos sirven.\n",
    "divisas.rename(columns={'DESCRIPCIÓN DE LAS UNIDADES': 'date'}, inplace=True)\n"
   ]
  },
  {
   "cell_type": "code",
   "execution_count": 4,
   "metadata": {},
   "outputs": [],
   "source": [
    "# Seleccionamos las divisas que nos interesan. No se dispone de los pesos Argentinos\n",
    "divisas=divisas.iloc[:,[0,1,3,4,6,12,19,22,23,24,27]] # OJO. No tenemos todas las divisas que estamos buscando. Este sistema no nos vale al 100%\n",
    "divisas.columns=(\"date\",\"USD\",\"CHF\",\"GBP\",\"SEK\",\"NOK\",\"BRL\",\"HKD\",\"SGD\",\"IDR\",\"MXN\")"
   ]
  },
  {
   "cell_type": "markdown",
   "metadata": {},
   "source": [
    "Las están con formato Español y los meses en texto.\n",
    "Nos queremos quedar con las divisas que estén entre hoy y la ventana con la que trabajmos."
   ]
  },
  {
   "cell_type": "code",
   "execution_count": 5,
   "metadata": {},
   "outputs": [],
   "source": [
    "meses_texto=(\" ENE\", \" FEB\", \" MAR\", \" ABR\", \" MAY\", \" JUN\", \" JUL\", \" AGO\", \" SEP\", \" OCT\", \" NOV\", \" DIC\")\n",
    "meses_dig=(\"/01/\", \"/02/\", \"/03/\", \"/04/\", \"/05/\", \"/06/\", \"/07/\", \"/08/\", \"/09/\", \"/10/\", \"/11/\", \"/12/\")"
   ]
  },
  {
   "cell_type": "code",
   "execution_count": 6,
   "metadata": {},
   "outputs": [],
   "source": [
    "for mes in range(12):\n",
    "    divisas.date=divisas.date.str.replace(meses_texto[mes],meses_dig[mes])\n"
   ]
  },
  {
   "source": [
    "## Error solucionado:\n"
   ],
   "cell_type": "markdown",
   "metadata": {}
  },
  {
   "cell_type": "code",
   "execution_count": 7,
   "metadata": {},
   "outputs": [],
   "source": [
    "#Faltaban por eliminar las 2 primeras y ultimas filas\n",
    "divisas= divisas.iloc[2:-2]\n"
   ]
  },
  {
   "cell_type": "code",
   "execution_count": 8,
   "metadata": {},
   "outputs": [],
   "source": [
    "#Formato modificado para que concuerde con el de divisas\n",
    "#Formato original:format='%d/%m/%Y' faltaba el espacio\n",
    "divisas.date= pd.to_datetime(divisas.date, format='%d/%m/ %Y')# Convertimos el formato español a fecha internacional."
   ]
  },
  {
   "cell_type": "code",
   "execution_count": 9,
   "metadata": {},
   "outputs": [],
   "source": [
    "fecha_inicio = datetime.date.today()-timedelta(ventana)"
   ]
  },
  {
   "cell_type": "code",
   "execution_count": 10,
   "metadata": {},
   "outputs": [],
   "source": [
    "fecha_fin = datetime.date.today()"
   ]
  },
  {
   "cell_type": "code",
   "execution_count": 11,
   "metadata": {},
   "outputs": [],
   "source": [
    "divisas=divisas[divisas['date']>=pd.Timestamp(fecha_inicio)]\n",
    "divisas=divisas[divisas['date']<=pd.Timestamp(fecha_fin)]"
   ]
  },
  {
   "cell_type": "code",
   "execution_count": 12,
   "metadata": {},
   "outputs": [
    {
     "output_type": "execute_result",
     "data": {
      "text/plain": [
       "           date     USD     CHF      GBP      SEK      NOK     BRL     HKD  \\\n",
       "5680 2020-10-05  1.1768  1.0781  0.90810  27.0960  10.4645  6.6568  9.1203   \n",
       "5681 2020-10-06  1.1795  1.0781  0.91058  27.0350  10.5138  6.5363  9.1412   \n",
       "5682 2020-10-07  1.1770  1.0787  0.91413  27.0640  10.4830  6.5448  9.1219   \n",
       "5683 2020-10-08  1.1765  1.0799  0.91035  27.0920  10.4468  6.5832  9.1181   \n",
       "5684 2020-10-09  1.1795  1.0773  0.91167  27.1100  10.4200  6.5796  9.1412   \n",
       "5685 2020-10-12  1.1799  1.0742  0.90598  27.1770  10.3933  6.5268  9.1443   \n",
       "5686 2020-10-13  1.1787  1.0734  0.90591  27.3560  10.3430  6.5389  9.1350   \n",
       "5687 2020-10-14  1.1750  1.0738  0.90395  27.3130  10.3653  6.5426  9.1063   \n",
       "5688 2020-10-15  1.1698  1.0697  0.90535  27.3400  10.3780  6.5942  9.0660   \n",
       "5689 2020-10-16  1.1741  1.0721  0.90915  27.2790  10.3593  6.6054  9.0993   \n",
       "\n",
       "             SGD     IDR      MXN  \n",
       "5680  17324.6100  4.0243  25.2551  \n",
       "5681  17379.9300  4.0193  25.1631  \n",
       "5682  17359.5100  4.0044  25.2609  \n",
       "5683  17362.2000  3.9909  25.1418  \n",
       "5684  17340.0100  3.9859  25.0833  \n",
       "5685  17378.6900  3.9933  25.0730  \n",
       "5686  17403.2700  3.9895  25.0183  \n",
       "5687  17311.2800  3.9734  25.1075  \n",
       "5688  17278.4100  3.9734  25.1559  \n",
       "5689  17317.8600  3.9673  24.8720  "
      ],
      "text/html": "<div>\n<style scoped>\n    .dataframe tbody tr th:only-of-type {\n        vertical-align: middle;\n    }\n\n    .dataframe tbody tr th {\n        vertical-align: top;\n    }\n\n    .dataframe thead th {\n        text-align: right;\n    }\n</style>\n<table border=\"1\" class=\"dataframe\">\n  <thead>\n    <tr style=\"text-align: right;\">\n      <th></th>\n      <th>date</th>\n      <th>USD</th>\n      <th>CHF</th>\n      <th>GBP</th>\n      <th>SEK</th>\n      <th>NOK</th>\n      <th>BRL</th>\n      <th>HKD</th>\n      <th>SGD</th>\n      <th>IDR</th>\n      <th>MXN</th>\n    </tr>\n  </thead>\n  <tbody>\n    <tr>\n      <th>5680</th>\n      <td>2020-10-05</td>\n      <td>1.1768</td>\n      <td>1.0781</td>\n      <td>0.90810</td>\n      <td>27.0960</td>\n      <td>10.4645</td>\n      <td>6.6568</td>\n      <td>9.1203</td>\n      <td>17324.6100</td>\n      <td>4.0243</td>\n      <td>25.2551</td>\n    </tr>\n    <tr>\n      <th>5681</th>\n      <td>2020-10-06</td>\n      <td>1.1795</td>\n      <td>1.0781</td>\n      <td>0.91058</td>\n      <td>27.0350</td>\n      <td>10.5138</td>\n      <td>6.5363</td>\n      <td>9.1412</td>\n      <td>17379.9300</td>\n      <td>4.0193</td>\n      <td>25.1631</td>\n    </tr>\n    <tr>\n      <th>5682</th>\n      <td>2020-10-07</td>\n      <td>1.1770</td>\n      <td>1.0787</td>\n      <td>0.91413</td>\n      <td>27.0640</td>\n      <td>10.4830</td>\n      <td>6.5448</td>\n      <td>9.1219</td>\n      <td>17359.5100</td>\n      <td>4.0044</td>\n      <td>25.2609</td>\n    </tr>\n    <tr>\n      <th>5683</th>\n      <td>2020-10-08</td>\n      <td>1.1765</td>\n      <td>1.0799</td>\n      <td>0.91035</td>\n      <td>27.0920</td>\n      <td>10.4468</td>\n      <td>6.5832</td>\n      <td>9.1181</td>\n      <td>17362.2000</td>\n      <td>3.9909</td>\n      <td>25.1418</td>\n    </tr>\n    <tr>\n      <th>5684</th>\n      <td>2020-10-09</td>\n      <td>1.1795</td>\n      <td>1.0773</td>\n      <td>0.91167</td>\n      <td>27.1100</td>\n      <td>10.4200</td>\n      <td>6.5796</td>\n      <td>9.1412</td>\n      <td>17340.0100</td>\n      <td>3.9859</td>\n      <td>25.0833</td>\n    </tr>\n    <tr>\n      <th>5685</th>\n      <td>2020-10-12</td>\n      <td>1.1799</td>\n      <td>1.0742</td>\n      <td>0.90598</td>\n      <td>27.1770</td>\n      <td>10.3933</td>\n      <td>6.5268</td>\n      <td>9.1443</td>\n      <td>17378.6900</td>\n      <td>3.9933</td>\n      <td>25.0730</td>\n    </tr>\n    <tr>\n      <th>5686</th>\n      <td>2020-10-13</td>\n      <td>1.1787</td>\n      <td>1.0734</td>\n      <td>0.90591</td>\n      <td>27.3560</td>\n      <td>10.3430</td>\n      <td>6.5389</td>\n      <td>9.1350</td>\n      <td>17403.2700</td>\n      <td>3.9895</td>\n      <td>25.0183</td>\n    </tr>\n    <tr>\n      <th>5687</th>\n      <td>2020-10-14</td>\n      <td>1.1750</td>\n      <td>1.0738</td>\n      <td>0.90395</td>\n      <td>27.3130</td>\n      <td>10.3653</td>\n      <td>6.5426</td>\n      <td>9.1063</td>\n      <td>17311.2800</td>\n      <td>3.9734</td>\n      <td>25.1075</td>\n    </tr>\n    <tr>\n      <th>5688</th>\n      <td>2020-10-15</td>\n      <td>1.1698</td>\n      <td>1.0697</td>\n      <td>0.90535</td>\n      <td>27.3400</td>\n      <td>10.3780</td>\n      <td>6.5942</td>\n      <td>9.0660</td>\n      <td>17278.4100</td>\n      <td>3.9734</td>\n      <td>25.1559</td>\n    </tr>\n    <tr>\n      <th>5689</th>\n      <td>2020-10-16</td>\n      <td>1.1741</td>\n      <td>1.0721</td>\n      <td>0.90915</td>\n      <td>27.2790</td>\n      <td>10.3593</td>\n      <td>6.6054</td>\n      <td>9.0993</td>\n      <td>17317.8600</td>\n      <td>3.9673</td>\n      <td>24.8720</td>\n    </tr>\n  </tbody>\n</table>\n</div>"
     },
     "metadata": {},
     "execution_count": 12
    }
   ],
   "source": [
    "divisas.head(10)"
   ]
  },
  {
   "cell_type": "markdown",
   "metadata": {},
   "source": [
    "### Otra manera de hacerlo"
   ]
  },
  {
   "cell_type": "code",
   "execution_count": 13,
   "metadata": {},
   "outputs": [],
   "source": [
    "curr_list = ['Date','Dólares de Estados Unidos por Euro', 'Francos suizos por Euro', 'Libras esterlinas por Euro', 'Coronas suecas por Euro', 'Coronas noruegas por Euro',\n",
    "             'Reales brasileños por Euro', 'Dólares de Hong Kong por Euro', 'Rupias indonesias por Euro', 'nuevos sheqalim israelíes por euro', 'Pesos mejicanos por Euro', 'Dólares de Singapur por Euro']\n",
    "\n",
    "monthdic = {\n",
    "    \"ENE\": \"01 \",\n",
    "    \"FEB\": \"02 \",\n",
    "    \"MAR\": \"03 \",\n",
    "    \"ABR\": \"04 \",\n",
    "    \"MAY\": \"05 \",\n",
    "    \"JUN\": \"06 \",\n",
    "    \"JUL\": \"07 \",\n",
    "    \"AGO\": \"08 \",\n",
    "    \"SEP\": \"09 \",\n",
    "    \"OCT\": \"10 \",\n",
    "    \"NOV\": \"11 \",\n",
    "    \"DIC\": \"12 \",\n",
    "}\n",
    "\n",
    "url = 'http://www.bde.es/webbde/es/estadis/infoest/series/tc_1_1.csv'\n",
    "\n",
    "currencies = pd.read_csv(url, encoding='ISO-8859-1')\n",
    "currencies.columns = currencies.iloc[2]\n",
    "currencies.rename(columns={currencies.columns[0]: \"Date\"}, inplace=True)\n",
    "\n",
    "currencies = currencies.iloc[5:-2]\n",
    "for key in monthdic:\n",
    "    currencies['Date'] = currencies['Date'].str.replace(key, monthdic[key])\n",
    "\n",
    "currencies['Date'] = pd.to_datetime(currencies['Date'], format='%d %m %Y')"
   ]
  },
  {
   "cell_type": "markdown",
   "metadata": {},
   "source": [
    "Filtramos las fechas que nos interesan"
   ]
  },
  {
   "cell_type": "code",
   "execution_count": 14,
   "metadata": {},
   "outputs": [],
   "source": [
    "ventana=60\n",
    "\n",
    "fecha_inicio = datetime.date.today()-timedelta(ventana)\n",
    "fecha_fin = datetime.date.today()\n",
    "currencies=currencies[currencies['Date']>=pd.Timestamp(fecha_inicio)]\n",
    "currencies=currencies[currencies['Date']<=pd.Timestamp(fecha_fin)]"
   ]
  },
  {
   "cell_type": "markdown",
   "metadata": {},
   "source": [
    "Filtramos las divisas que nos interesan"
   ]
  },
  {
   "cell_type": "code",
   "execution_count": 15,
   "metadata": {},
   "outputs": [],
   "source": [
    "currencies = currencies[currencies.columns.intersection(curr_list)]"
   ]
  },
  {
   "cell_type": "code",
   "execution_count": 16,
   "metadata": {},
   "outputs": [
    {
     "output_type": "execute_result",
     "data": {
      "text/plain": [
       "2          Date\n",
       "5680 2020-10-05\n",
       "5681 2020-10-06\n",
       "5682 2020-10-07\n",
       "5683 2020-10-08\n",
       "5684 2020-10-09\n",
       "5685 2020-10-12\n",
       "5686 2020-10-13\n",
       "5687 2020-10-14\n",
       "5688 2020-10-15\n",
       "5689 2020-10-16"
      ],
      "text/html": "<div>\n<style scoped>\n    .dataframe tbody tr th:only-of-type {\n        vertical-align: middle;\n    }\n\n    .dataframe tbody tr th {\n        vertical-align: top;\n    }\n\n    .dataframe thead th {\n        text-align: right;\n    }\n</style>\n<table border=\"1\" class=\"dataframe\">\n  <thead>\n    <tr style=\"text-align: right;\">\n      <th>2</th>\n      <th>Date</th>\n    </tr>\n  </thead>\n  <tbody>\n    <tr>\n      <th>5680</th>\n      <td>2020-10-05</td>\n    </tr>\n    <tr>\n      <th>5681</th>\n      <td>2020-10-06</td>\n    </tr>\n    <tr>\n      <th>5682</th>\n      <td>2020-10-07</td>\n    </tr>\n    <tr>\n      <th>5683</th>\n      <td>2020-10-08</td>\n    </tr>\n    <tr>\n      <th>5684</th>\n      <td>2020-10-09</td>\n    </tr>\n    <tr>\n      <th>5685</th>\n      <td>2020-10-12</td>\n    </tr>\n    <tr>\n      <th>5686</th>\n      <td>2020-10-13</td>\n    </tr>\n    <tr>\n      <th>5687</th>\n      <td>2020-10-14</td>\n    </tr>\n    <tr>\n      <th>5688</th>\n      <td>2020-10-15</td>\n    </tr>\n    <tr>\n      <th>5689</th>\n      <td>2020-10-16</td>\n    </tr>\n  </tbody>\n</table>\n</div>"
     },
     "metadata": {},
     "execution_count": 16
    }
   ],
   "source": [
    "currencies.head(10)"
   ]
  }
 ],
 "metadata": {
  "kernelspec": {
   "name": "python3",
   "display_name": "Python 3.8.6 64-bit",
   "metadata": {
    "interpreter": {
     "hash": "1baa965d5efe3ac65b79dfc60c0d706280b1da80fedb7760faf2759126c4f253"
    }
   }
  },
  "language_info": {
   "codemirror_mode": {
    "name": "ipython",
    "version": 3
   },
   "file_extension": ".py",
   "mimetype": "text/x-python",
   "name": "python",
   "nbconvert_exporter": "python",
   "pygments_lexer": "ipython3",
   "version": "3.8.6-final"
  }
 },
 "nbformat": 4,
 "nbformat_minor": 4
}