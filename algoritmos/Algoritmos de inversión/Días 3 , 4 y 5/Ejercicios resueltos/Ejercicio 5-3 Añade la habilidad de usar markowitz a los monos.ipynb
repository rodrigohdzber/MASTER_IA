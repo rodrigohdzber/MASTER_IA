{
 "cells": [
  {
   "cell_type": "markdown",
   "metadata": {},
   "source": [
    "# Ejercicio 5-3 Añade la habilidad de usar markowitz a los monos"
   ]
  },
  {
   "cell_type": "code",
   "execution_count": 1,
   "metadata": {},
   "outputs": [],
   "source": [
    "import pandas as pd\n",
    "import time\n",
    "import numpy as np\n",
    "import random\n",
    "from tqdm import tqdm"
   ]
  },
  {
   "cell_type": "code",
   "execution_count": 3,
   "metadata": {},
   "outputs": [],
   "source": [
    "def calcular_mono():\n",
    "    \n",
    "    # Extracción fechas y activos\n",
    "    fecha_compra_mono = random.sample(range(ventana_mark+1, len(rent_activos) - min_dias_mono), 1)[0]\n",
    "    fecha_venta_mono = random.sample(range(fecha_compra_mono+min_dias_mono, len(rent_activos)), 1)[0]\n",
    "    activos_seleccionados_mono = random.sample(activos_disponibles, num_activos_mono)\n",
    "    \n",
    "    # Extracción de periodo para procesamiento de la ventana\n",
    "    activos_mono = benchmark_global.iloc[fecha_compra_mono-ventana_mark: fecha_compra_mono,activos_seleccionados_mono]\n",
    "    rent_activos_mono = rent_activos.iloc[fecha_compra_mono-ventana_mark: fecha_compra_mono,activos_seleccionados_mono]\n",
    "    \n",
    "    # Cálculo de rendimientos de cada combinación de pesos\n",
    "    matriz_var_covarianzas_mono = rent_activos_mono.cov()\n",
    "    rent_diaria_mono = (np.log(activos_mono.iloc[0]) - np.log(activos_mono.iloc[-1])) / len(activos_mono)\n",
    "    rand_matrix = np.random.randint(0,100,(num_simulaciones_mark_mono,num_activos_mono))\n",
    "    pesos_mono = pd.DataFrame(rand_matrix / rand_matrix.sum(axis=1)[:, np.newaxis], columns=activos_mono.columns)\n",
    "    rentabilidad_carteras_mono = (pesos_mono * rent_diaria_mono).sum(axis=1)\n",
    "    matriz_intermedia = pesos_mono.dot(matriz_var_covarianzas_mono)\n",
    "    matriz_intermedia = matriz_intermedia * pesos_mono\n",
    "    riesgo_carteras_mono = matriz_intermedia.sum(axis=1) ** 0.5\n",
    "    eficiencia_carteras_mono = rentabilidad_carteras_mono / riesgo_carteras_mono\n",
    "    pesos_mono['eficiencia'] = eficiencia_carteras_mono\n",
    "    \n",
    "    # Extracción de cartera con mayor eficiencia\n",
    "    max_eficiencia = pesos_mono.sort_values(by='eficiencia', ascending=False).iloc[0,:]\n",
    "    resultado_mono = [0] * len(benchmark_global.columns)\n",
    "    dict_replacement = {a:b for a,b in zip(activos_seleccionados_mono, max_eficiencia)}\n",
    "    for k, v in dict_replacement.items():\n",
    "        resultado_mono[k] = v\n",
    "    \n",
    "    return resultado_mono, fecha_compra_mono, fecha_venta_mono"
   ]
  },
  {
   "cell_type": "code",
   "execution_count": 5,
   "metadata": {},
   "outputs": [
    {
     "name": "stderr",
     "output_type": "stream",
     "text": [
      "100%|██████████| 50000/50000 [04:30<00:00, 185.02it/s]\n"
     ]
    },
    {
     "name": "stdout",
     "output_type": "stream",
     "text": [
      "--- 275.6870241165161 seconds ---\n"
     ]
    }
   ],
   "source": [
    "start_time = time.time()\n",
    "\n",
    "num_simulaciones = 50000 \n",
    "num_activos_mono = 5\n",
    "ventana_mark = 240\n",
    "num_simulaciones_mark_mono = 1000\n",
    "min_dias_mono = 2\n",
    "dinero = 1000000\n",
    "\n",
    "np.random.seed(42)\n",
    "\n",
    "DAX = pd.read_csv(\"DAX.csv\", sep=';')\n",
    "DAX.drop(columns=['Dax','BUND'], axis=1, inplace=True)\n",
    "DAX.set_index('Fecha', inplace=True)\n",
    "div_EUR = pd.DataFrame([1] * len(DAX), columns=['div_EUR'])\n",
    "\n",
    "FTSE = pd.read_csv(\"FTSE.csv\", sep=';')\n",
    "FTSE.set_index('Fecha', inplace=True)\n",
    "div_GBP = FTSE['GBP']\n",
    "FTSE.drop(columns=['GBP'], axis=1, inplace=True)\n",
    "FTSE = FTSE.mul(div_GBP, axis=0)\n",
    "\n",
    "NASDAQ = pd.read_csv(\"NASDAQ.csv\", sep=';')\n",
    "NASDAQ.set_index('Fecha', inplace=True)\n",
    "div_USD = NASDAQ['USD']\n",
    "NASDAQ.drop(columns=['USD'], axis=1, inplace=True)\n",
    "NASDAQ = NASDAQ.mul(div_USD, axis=0)\n",
    "\n",
    "HANGSENG = pd.read_csv(\"HANG SENG.csv\", sep=';')\n",
    "HANGSENG.set_index('Fecha', inplace=True)\n",
    "div_HKD = HANGSENG['HKD']\n",
    "HANGSENG.drop(columns=['HKD'], axis=1, inplace=True)\n",
    "HANGSENG = HANGSENG.mul(div_HKD, axis=0)\n",
    "\n",
    "BOVESPA = pd.read_csv(\"BOVESPA.csv\", sep=';')\n",
    "BOVESPA.set_index('Fecha', inplace=True)\n",
    "div_BRL = BOVESPA['BRL']\n",
    "BOVESPA.drop(columns=['BRL'], axis=1, inplace=True)\n",
    "BOVESPA = BOVESPA.mul(div_BRL, axis=0)\n",
    "\n",
    "benchmark_global = DAX.copy()\n",
    "list_df = [FTSE, NASDAQ, HANGSENG, BOVESPA]\n",
    "\n",
    "for df in list_df:\n",
    "    benchmark_global = benchmark_global.join(df) \n",
    "    \n",
    "rent_activos = np.log(benchmark_global).diff()\n",
    "\n",
    "activos_disponibles = range(len(rent_activos.columns))\n",
    "\n",
    "fecha_compra, fecha_venta, pesos = [], [], []\n",
    "\n",
    "for simulacion in tqdm(range(num_simulaciones)):\n",
    "    peso_local, fc_local, fv_local = calcular_mono()\n",
    "    fecha_compra.append(fc_local)\n",
    "    fecha_venta.append(fv_local)\n",
    "    pesos.append(peso_local)\n",
    "    \n",
    "pesos = pd.DataFrame(pesos, columns=benchmark_global.columns)\n",
    "precios_compra = benchmark_global.iloc[fecha_compra]\n",
    "precios_venta = benchmark_global.iloc[fecha_venta]\n",
    "num_acciones = dinero * pesos.values / precios_compra \n",
    "rdo_accion = num_acciones * (precios_venta.values - precios_compra.values)\n",
    "rdo_simulacion = rdo_accion.sum(axis=1)\n",
    "\n",
    "pesos['rdo_simulacion'] = rdo_simulacion.values\n",
    "pesos['fecha_compra'] = precios_compra.index\n",
    "pesos['fecha_venta'] = precios_venta.index\n",
    "pesos['rentabilidad'] = pesos.apply(lambda row: np.log(row['rdo_simulacion'] + dinero) -np.log(dinero) , axis=1)\n",
    "\n",
    "mejor_simulacion = pesos.sort_values(by='rentabilidad', ascending=False).iloc[0,:]\n",
    "cuantiles = pesos['rentabilidad'].quantile([0, .1, .2, .3, 0.4, 0.5, 0.6, 0.7, 0.8, 0.9, 1])\n",
    "\n",
    "print(\"--- %s seconds ---\" % (time.time() - start_time))"
   ]
  },
  {
   "cell_type": "code",
   "execution_count": 6,
   "metadata": {},
   "outputs": [
    {
     "data": {
      "text/plain": [
       "0.0   -1.869962\n",
       "0.1   -0.232146\n",
       "0.2   -0.092545\n",
       "0.3   -0.019083\n",
       "0.4    0.033864\n",
       "0.5    0.098358\n",
       "0.6    0.182844\n",
       "0.7    0.290924\n",
       "0.8    0.447515\n",
       "0.9    0.713604\n",
       "1.0    3.849289\n",
       "Name: rentabilidad, dtype: float64"
      ]
     },
     "execution_count": 6,
     "metadata": {},
     "output_type": "execute_result"
    }
   ],
   "source": [
    "cuantiles"
   ]
  },
  {
   "cell_type": "markdown",
   "metadata": {},
   "source": [
    "## Otra manera de hacerlo"
   ]
  },
  {
   "cell_type": "code",
   "execution_count": 2,
   "metadata": {},
   "outputs": [],
   "source": [
    "import pandas as pd\n",
    "import numpy as np\n",
    "import time\n",
    "import matplotlib.pyplot as plt\n",
    "import os\n",
    "from random import sample\n",
    "import multiprocessing as mp\n",
    "import itertools\n",
    "from functools import partial"
   ]
  },
  {
   "cell_type": "code",
   "execution_count": 3,
   "metadata": {},
   "outputs": [],
   "source": [
    "# Variables\n",
    "start_time = time.time()\n",
    "\n",
    "dax_filename = 'DAX.csv'\n",
    "ftse_filename = 'FTSE.csv'\n",
    "nasdaq_filename = 'NASDAQ.csv'\n",
    "hangseng_filename = 'HANG SENG.csv'\n",
    "bovespa_filename = 'BOVESPA.csv'\n",
    "\n",
    "window = 10\n",
    "markowitz_window = 240\n",
    "n_empresas = 5\n",
    "num_simulations = 1000\n",
    "num_simulations_markowitz = 1000\n",
    "min_monkey_days = 2\n",
    "money = 1000000"
   ]
  },
  {
   "cell_type": "code",
   "execution_count": 5,
   "metadata": {},
   "outputs": [],
   "source": [
    "# Leemos los datos\n",
    "\n",
    "dax_data = pd.read_csv(dax_filename, header=0,\n",
    "                       parse_dates=True, index_col=0, sep=';', dayfirst=True)\n",
    "ftse_data = pd.read_csv(ftse_filename, header=0,\n",
    "                        parse_dates=True, index_col=0, sep=';', dayfirst=True)\n",
    "nasdaq_data = pd.read_csv(nasdaq_filename, header=0,\n",
    "                          parse_dates=True, index_col=0, sep=';', dayfirst=True)\n",
    "hangseng_data = pd.read_csv(hangseng_filename, header=0,\n",
    "                            parse_dates=True, index_col=0, sep=';', dayfirst=True)\n",
    "bovespa_data = pd.read_csv(bovespa_filename, header=0,\n",
    "                           parse_dates=True, index_col=0, sep=';', dayfirst=True)\n",
    "curr_EUR = pd.DataFrame([1]*len(dax_data.index))\n",
    "curr_GBP = pd.DataFrame(ftse_data.iloc[:, -1])\n",
    "curr_USD = pd.DataFrame(nasdaq_data.iloc[:, :-1])\n",
    "curr_HKD = pd.DataFrame(hangseng_data.iloc[:, :-1])\n",
    "curr_BRL = pd.DataFrame(bovespa_data.iloc[:, :-1])\n",
    "\n",
    "dax_data = dax_data.iloc[:, :-2]\n",
    "ftse_data = ftse_data.iloc[:, :-1]\n",
    "nasdaq_data = nasdaq_data.iloc[:, :-1]\n",
    "hangseng_data = hangseng_data.iloc[:, :-1]\n",
    "bovespa_data = bovespa_data.iloc[:, :-1]\n",
    "\n",
    "dax_data = pd.DataFrame(\n",
    "    dax_data.values * curr_EUR.values, index=dax_data.index, columns=dax_data.columns)\n",
    "ftse_data = pd.DataFrame(\n",
    "    ftse_data.values * curr_GBP.values, index=ftse_data.index, columns=ftse_data.columns)\n",
    "nasdaq_data = pd.DataFrame(\n",
    "    nasdaq_data.values * curr_USD.values, index=nasdaq_data.index, columns=nasdaq_data.columns)\n",
    "hangseng_data = pd.DataFrame(\n",
    "    hangseng_data.values * curr_HKD.values, index=hangseng_data.index, columns=hangseng_data.columns)\n",
    "bovespa_data = pd.DataFrame(\n",
    "    bovespa_data.values * curr_BRL.values, index=bovespa_data.index, columns=bovespa_data.columns)\n",
    "\n",
    "benchmark_global = pd.concat(\n",
    "    [dax_data, ftse_data, nasdaq_data, hangseng_data, bovespa_data], axis=1)\n",
    "\n",
    "benchmark_global_ret = np.log(benchmark_global).diff()"
   ]
  },
  {
   "cell_type": "code",
   "execution_count": 6,
   "metadata": {},
   "outputs": [],
   "source": [
    "def calcula_mono(monkey_df, n_companies, markowitz_window, min_monkey_days, num_simulations_markowitz):\n",
    "    \n",
    "    buy_date = sample(range(markowitz_window+1,\n",
    "                            len(benchmark_global_ret.index)-min_monkey_days), 1)[0]\n",
    "    sell_date = sample(\n",
    "        range(buy_date+min_monkey_days, len(benchmark_global_ret.index)), 1)[0]\n",
    "    \n",
    "    temp_mark_df = benchmark_global_ret.iloc[(\n",
    "        buy_date-markowitz_window):buy_date, :]\n",
    "    \n",
    "    ret_df = markowitz_random_companies_random_dates(\n",
    "        temp_mark_df[:], n_empresas, num_simulations_markowitz)\n",
    "    \n",
    "    dates_df = pd.DataFrame.from_dict({'Buy_date': [buy_date],\n",
    "                                       'Sell_date': [sell_date],\n",
    "                                       })\n",
    "\n",
    "    ret_df = pd.concat([ret_df, dates_df], axis=1)\n",
    "\n",
    "    return ret_df"
   ]
  },
  {
   "cell_type": "code",
   "execution_count": 7,
   "metadata": {},
   "outputs": [],
   "source": [
    "def calcula_mono_mult(monkey_df, n_companies, markowitz_window, min_monkey_days, num_simulations_markowitz, fool):\n",
    "    \n",
    "    buy_date = sample(range(markowitz_window+1,\n",
    "                            len(benchmark_global_ret.index)-min_monkey_days), 1)[0]\n",
    "    sell_date = sample(\n",
    "        range(buy_date+min_monkey_days, len(benchmark_global_ret.index)), 1)[0]\n",
    "    temp_mark_df = benchmark_global_ret.iloc[(\n",
    "        buy_date-markowitz_window):buy_date, :]\n",
    "    ret_df = markowitz_random_companies_random_dates(\n",
    "        temp_mark_df[:], n_empresas, num_simulations_markowitz)\n",
    "    dates_df = pd.DataFrame.from_dict({'Buy_date': [buy_date],\n",
    "                                       'Sell_date': [sell_date],\n",
    "                                       })\n",
    "\n",
    "    ret_df = pd.concat([ret_df, dates_df], axis=1)\n",
    "\n",
    "    return ret_df"
   ]
  },
  {
   "cell_type": "code",
   "execution_count": 8,
   "metadata": {},
   "outputs": [],
   "source": [
    "def markowitz_random_companies_random_dates(mark_df, n_companies, num_simulations_markowitz):\n",
    "\n",
    "    selected_companies = np.random.randint(len(mark_df.columns), size=(5))\n",
    "\n",
    "    mark_df_ret = mark_df.iloc[:, selected_companies]\n",
    "    cov_matrix = mark_df_ret.cov()\n",
    "\n",
    "    daily_return = pd.DataFrame(mark_df_ret.sum(axis=0)\n",
    "                                / (len(mark_df_ret.index)+1)).T\n",
    "\n",
    "    # Calculamos los pesos y los normalizamos\n",
    "\n",
    "    weights = pd.DataFrame(np.random.uniform(np.random.uniform(\n",
    "        0.0, 100, size=(num_simulations, n_empresas))))\n",
    "    weights_norm = weights.div(weights.sum(axis=1), axis=0)\n",
    "\n",
    "    # Calculamos la rentabilidad de la cartera en función de los pesos\n",
    "    weights_norm.columns = daily_return.columns\n",
    "    temp_profit = daily_return @ weights_norm.T\n",
    "    portfolio_profit = temp_profit.T.sum(axis=1)\n",
    "\n",
    "    # Calculamos el riesgo de la cartera (desviación), en función de los pesos.\n",
    "    portfolio_risk = (weights_norm @ cov_matrix).mul(\n",
    "        weights_norm, axis='index').sum(axis=1)**.5\n",
    "\n",
    "    # Calculamos la eficiencia de la cartera (pendiente), en función de los pesos.\n",
    "    portfolio_efficiency = portfolio_profit.divide(portfolio_risk)\n",
    "\n",
    "    # Localizamos la cartera con mayor rentabilidad, menor riesgo y mayor eficiencia.\n",
    "\n",
    "    best_portfolio = portfolio_efficiency.argmax()\n",
    "\n",
    "    zeros = np.zeros(shape=(1, len(benchmark_global.columns)))\n",
    "    final_df = pd.DataFrame(zeros, columns=benchmark_global.columns)\n",
    "    final_df.iloc[0, selected_companies] = weights_norm.iloc[best_portfolio, :]\n",
    "    \n",
    "    return final_df"
   ]
  },
  {
   "cell_type": "code",
   "execution_count": 9,
   "metadata": {},
   "outputs": [
    {
     "name": "stderr",
     "output_type": "stream",
     "text": [
      "C:\\Users\\gmelendez\\python-venv\\venv-ml\\lib\\site-packages\\ipykernel_launcher.py:31: FutureWarning: \n",
      "The current behaviour of 'Series.argmax' is deprecated, use 'idxmax'\n",
      "instead.\n",
      "The behavior of 'argmax' will be corrected to return the positional\n",
      "maximum in the future. For now, use 'series.values.argmax' or\n",
      "'np.argmax(np.array(values))' to get the position of the maximum\n",
      "row.\n"
     ]
    }
   ],
   "source": [
    "monos_list = []\n",
    "\n",
    "for _ in range(num_simulations):\n",
    "    monos_list.append(calcula_mono(benchmark_global_ret, n_empresas,\n",
    "                                   markowitz_window, min_monkey_days, num_simulations_markowitz))\n",
    "\n",
    "results_df = pd.concat(monos_list)\n",
    "results_df.index = range(num_simulations)\n",
    "weights = results_df.iloc[:, :-2]\n",
    "precios_compra = benchmark_global.iloc[results_df.iloc[:, -2], :]\n",
    "precios_venta = benchmark_global.iloc[results_df.iloc[:, -1], :]\n",
    "precios_compra.index = range(num_simulations)\n",
    "precios_venta.index = range(num_simulations)\n",
    "\n",
    "# results_df.to_csv('results_df.csv')\n",
    "# precios_compra.to_csv('precios_compra.csv')\n",
    "# precios_venta.to_csv('precios_venta.csv')"
   ]
  },
  {
   "cell_type": "code",
   "execution_count": 10,
   "metadata": {},
   "outputs": [
    {
     "name": "stderr",
     "output_type": "stream",
     "text": [
      "C:\\Users\\gmelendez\\python-venv\\venv-ml\\lib\\site-packages\\ipykernel_launcher.py:17: FutureWarning: \n",
      "The current behaviour of 'Series.argmax' is deprecated, use 'idxmax'\n",
      "instead.\n",
      "The behavior of 'argmax' will be corrected to return the positional\n",
      "maximum in the future. For now, use 'series.values.argmax' or\n",
      "'np.argmax(np.array(values))' to get the position of the maximum\n",
      "row.\n"
     ]
    }
   ],
   "source": [
    "num_acciones = (weights.T).div(\n",
    "    precios_compra.T, axis=0).T*money\n",
    "\n",
    "rdo_accion = precios_venta.sub(\n",
    "    precios_compra, axis=0).mul(num_acciones, axis=0)\n",
    "rdo_simulacion = rdo_accion.sum(axis=1)\n",
    "rentabilidad = np.log((rdo_simulacion+money)/money)\n",
    "\n",
    "df_simulacion = pd.DataFrame(rdo_simulacion, index=range(\n",
    "    num_simulations), columns=['rdo_simulacion'])\n",
    "df_rentabilidad = pd.DataFrame(rentabilidad, index=range(\n",
    "    num_simulations), columns=['rentabilidad'])\n",
    "\n",
    "results_df = pd.concat(\n",
    "    [results_df[:], df_simulacion, df_rentabilidad],  axis=1)\n",
    "\n",
    "mejor_simulacion = results_df.iloc[:, -1].argmax()\n",
    "quantile_list = list(range(11))\n",
    "quantile_list = [x / 10 for x in quantile_list]\n",
    "quantiles = results_df.iloc[:, -1].quantile(quantile_list)"
   ]
  },
  {
   "cell_type": "code",
   "execution_count": 11,
   "metadata": {},
   "outputs": [
    {
     "data": {
      "text/plain": [
       "0.0   -1.584881\n",
       "0.1   -0.288656\n",
       "0.2   -0.103879\n",
       "0.3    0.012444\n",
       "0.4    0.084583\n",
       "0.5    0.196107\n",
       "0.6    0.349993\n",
       "0.7    0.568595\n",
       "0.8    0.849429\n",
       "0.9    1.395972\n",
       "1.0    5.080510\n",
       "Name: rentabilidad, dtype: float64"
      ]
     },
     "execution_count": 11,
     "metadata": {},
     "output_type": "execute_result"
    }
   ],
   "source": [
    "quantiles"
   ]
  }
 ],
 "metadata": {
  "kernelspec": {
   "display_name": "Python 3.6.8 64-bit ('venv-ml': venv)",
   "language": "python",
   "name": "python36864bitvenvmlvenve40bc169c9714114b4130d652b923ecf"
  },
  "language_info": {
   "codemirror_mode": {
    "name": "ipython",
    "version": 3
   },
   "file_extension": ".py",
   "mimetype": "text/x-python",
   "name": "python",
   "nbconvert_exporter": "python",
   "pygments_lexer": "ipython3",
   "version": "3.6.8"
  }
 },
 "nbformat": 4,
 "nbformat_minor": 4
}
