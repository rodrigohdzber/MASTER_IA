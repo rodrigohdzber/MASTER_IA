{
 "cells": [
  {
   "cell_type": "markdown",
   "metadata": {},
   "source": [
    "## Backtesting Sesion 1\n",
    "### Análisis de Propiedades de Señales\n",
    "En este cuaderno analizamos más en detalle las señales del oscilador estocástico\n",
    "para mostrar las principales características de una estrategia\n",
    "de trading. La idea central es\n",
    "- Con independencia de la señal utilizada, si utilizamos algoritmos con señales de entrada/salida, podemos\n",
    "calcular las distribuciones de sus principales propiedades, por ejemplo:\n",
    "  - duración media del trade\n",
    "  - porcentaje de trades en ganancias/pérdidas\n",
    "  - rentabilidad media de los trades positivos/negativos\n",
    "- Se puede analizar la consistencia de estas distribuciones con los cambios de parámetros"
   ]
  },
  {
   "cell_type": "markdown",
   "metadata": {},
   "source": [
    "____"
   ]
  },
  {
   "cell_type": "code",
   "execution_count": null,
   "metadata": {},
   "outputs": [],
   "source": [
    "import numpy as np \n",
    "import pandas as pd\n",
    "import matplotlib.pyplot as plt\n",
    "import seaborn as sns"
   ]
  },
  {
   "cell_type": "markdown",
   "metadata": {},
   "source": [
    "### Datos \n",
    "Asumimos que tenemos un dataset disponible con datos de mercado.\n",
    "Partimos de un snapshot de acciones del IBEX35"
   ]
  },
  {
   "cell_type": "code",
   "execution_count": null,
   "metadata": {},
   "outputs": [],
   "source": [
    "import pickle\n",
    "with open('../data/stock_data.pkl', 'rb') as handle:\n",
    "    stock_data = pickle.load(handle)"
   ]
  },
  {
   "cell_type": "markdown",
   "metadata": {},
   "source": [
    "Construimos un único dataframe para guardar los datos de cierre de todas las acciones"
   ]
  },
  {
   "cell_type": "code",
   "execution_count": null,
   "metadata": {},
   "outputs": [],
   "source": [
    "close_dict = {tk: df.close for tk,df in stock_data.items()}\n",
    "stock_close = pd.DataFrame(close_dict)\n",
    "stock_close.head()"
   ]
  },
  {
   "cell_type": "markdown",
   "metadata": {},
   "source": [
    "Seleccionamos, por simplicidad un conjunto de tickers para trabajar"
   ]
  },
  {
   "cell_type": "code",
   "execution_count": null,
   "metadata": {},
   "outputs": [],
   "source": [
    "ticker_list = ['BBVA','SAN','REP','TEF','IBE','FER','ITX','ACS','AMS','GRF']\n",
    "stock_close = stock_close[ticker_list]\n",
    "stock_close"
   ]
  },
  {
   "cell_type": "markdown",
   "metadata": {},
   "source": [
    "___"
   ]
  },
  {
   "cell_type": "markdown",
   "metadata": {},
   "source": [
    "Las funciones desarrolladas anteriormente para el oscilador estocástico están accesibles\n",
    "en una clase programada en el fichero stoosc.py"
   ]
  },
  {
   "cell_type": "code",
   "execution_count": null,
   "metadata": {},
   "outputs": [],
   "source": [
    "from stoosc import Sto # clase con las funciones del oscilador estocastico"
   ]
  },
  {
   "cell_type": "code",
   "execution_count": null,
   "metadata": {},
   "outputs": [],
   "source": [
    "ticker = 'FER' "
   ]
  },
  {
   "cell_type": "code",
   "execution_count": null,
   "metadata": {},
   "outputs": [],
   "source": [
    "sto_states = Sto.stochastic_osc_states(stock_close[ticker])\n",
    "sto_states.value_counts()"
   ]
  },
  {
   "cell_type": "markdown",
   "metadata": {},
   "source": [
    "Calculamos los eventos de compra y venta"
   ]
  },
  {
   "cell_type": "code",
   "execution_count": null,
   "metadata": {},
   "outputs": [],
   "source": [
    "events = sto_states.diff()\n",
    "events"
   ]
  },
  {
   "cell_type": "markdown",
   "metadata": {},
   "source": [
    "___"
   ]
  },
  {
   "cell_type": "markdown",
   "metadata": {},
   "source": [
    "Ajustamos los eventos inicial y final\n",
    "- Marcamos con 1 (compra) si el estado del primer día es invertido\n",
    "- Marcamos con -1 (venta) si el estado del último día es invertido"
   ]
  },
  {
   "cell_type": "code",
   "execution_count": null,
   "metadata": {},
   "outputs": [],
   "source": [
    "events.iloc[0] = sto_states.iloc[0]\n",
    "if sto_states.iloc[-1] == 1:\n",
    "    events.iloc[-1] = -1\n",
    "events.value_counts()"
   ]
  },
  {
   "cell_type": "code",
   "execution_count": null,
   "metadata": {},
   "outputs": [],
   "source": [
    "only_events = events[events != 0]\n",
    "only_events"
   ]
  },
  {
   "cell_type": "markdown",
   "metadata": {},
   "source": [
    "____\n",
    "Dado que las entradas y salidas están pareadas,\n",
    "podemos calcular la **duración** del trade como el número de \n",
    "sesiones transcurridas entre ambos eventos\n"
   ]
  },
  {
   "cell_type": "code",
   "execution_count": null,
   "metadata": {},
   "outputs": [],
   "source": [
    "delta = (only_events.index[1] - only_events.index[0])"
   ]
  },
  {
   "cell_type": "code",
   "execution_count": null,
   "metadata": {},
   "outputs": [],
   "source": [
    "delta.days"
   ]
  },
  {
   "cell_type": "markdown",
   "metadata": {},
   "source": [
    "Recorremos los trades y calculamos las propiedades"
   ]
  },
  {
   "cell_type": "code",
   "execution_count": null,
   "metadata": {},
   "outputs": [],
   "source": [
    "prices = stock_close[ticker]\n",
    "trades = []\n",
    "for i in range(0, only_events.shape[0], 2):\n",
    "    trade_ret = prices[only_events.index[i+1]] / prices[only_events.index[i]] - 1\n",
    "    trade = {\n",
    "        'day_in': only_events.index[i],\n",
    "        'day_out': only_events.index[i+1],\n",
    "        'ret': trade_ret,\n",
    "        'duration': (only_events.index[i+1] - only_events.index[i]).days,\n",
    "    }\n",
    "    trades.append(pd.Series(trade))"
   ]
  },
  {
   "cell_type": "code",
   "execution_count": null,
   "metadata": {},
   "outputs": [],
   "source": [
    "trades_df = pd.DataFrame(trades)\n",
    "trades_df"
   ]
  },
  {
   "cell_type": "markdown",
   "metadata": {},
   "source": [
    "____\n",
    "Vemos la distribución de los rendimientos y la duración"
   ]
  },
  {
   "cell_type": "code",
   "execution_count": null,
   "metadata": {},
   "outputs": [],
   "source": [
    "trades_df.describe()"
   ]
  },
  {
   "cell_type": "code",
   "execution_count": null,
   "metadata": {},
   "outputs": [],
   "source": [
    "trades_df.plot.scatter('duration','ret')"
   ]
  },
  {
   "cell_type": "code",
   "execution_count": null,
   "metadata": {},
   "outputs": [],
   "source": [
    "result = (trades_df.ret >= 0).astype(int)\n",
    "result"
   ]
  },
  {
   "cell_type": "code",
   "execution_count": null,
   "metadata": {},
   "outputs": [],
   "source": [
    "result.value_counts()/result.shape[0]"
   ]
  },
  {
   "cell_type": "markdown",
   "metadata": {},
   "source": [
    "____\n",
    "A partir del código anterior generamos una función que nos calcula el dataframe\n",
    "con las fechas de entrada/salida, y el rendimiento"
   ]
  },
  {
   "cell_type": "code",
   "execution_count": null,
   "metadata": {},
   "outputs": [],
   "source": [
    "def sto_trades_df(prices, win=20, obought=0.8, osold=0.2):\n",
    "    sto_states = Sto.stochastic_osc_states(prices, win=win, obought=obought, osold=osold)\n",
    "    \n",
    "    events = sto_states.diff()\n",
    "    events.iloc[0] = sto_states.iloc[0]\n",
    "    if sto_states.iloc[-1] == 1:\n",
    "        events.iloc[-1] = -1\n",
    "    only_events = events[events != 0]\n",
    "    \n",
    "    trades = []\n",
    "    for i in range(0, only_events.shape[0], 2):\n",
    "        trade_ret = prices[only_events.index[i+1]] / prices[only_events.index[i]] - 1\n",
    "        trade = {\n",
    "            'day_in': only_events.index[i],\n",
    "            'day_out': only_events.index[i+1],\n",
    "            'ret': trade_ret,\n",
    "            'duration': (only_events.index[i+1] - only_events.index[i]).days,\n",
    "        }\n",
    "        trades.append(pd.Series(trade))\n",
    "    return pd.DataFrame(trades)  "
   ]
  },
  {
   "cell_type": "code",
   "execution_count": null,
   "metadata": {},
   "outputs": [],
   "source": [
    "sto_trades_df(stock_close['TEF'])"
   ]
  },
  {
   "cell_type": "markdown",
   "metadata": {},
   "source": [
    "____\n",
    "Ahora, utilizamos la función para calcular las propiedades en \n",
    "las diferentes acciones"
   ]
  },
  {
   "cell_type": "code",
   "execution_count": null,
   "metadata": {},
   "outputs": [],
   "source": [
    "list_rets = []\n",
    "list_durations = []\n",
    "\n",
    "for tk in stock_close.columns:\n",
    "    print(tk)\n",
    "    tk_df = sto_trades_df(stock_close[tk])\n",
    "    list_durations.append(tk_df['duration'])\n",
    "    list_rets.append(tk_df['ret'])"
   ]
  },
  {
   "cell_type": "code",
   "execution_count": null,
   "metadata": {},
   "outputs": [],
   "source": [
    "all_rets = pd.concat(list_rets)\n",
    "sns.distplot(all_rets)"
   ]
  },
  {
   "cell_type": "code",
   "execution_count": null,
   "metadata": {},
   "outputs": [],
   "source": [
    "all_rets.describe()"
   ]
  },
  {
   "cell_type": "markdown",
   "metadata": {},
   "source": [
    "Esta distribución muestra muchos valores extremos del lado negativo.\n",
    "Aproximamos la función de acumulada para ver la proporción de observaciones\n",
    "hasta un nivel de retorno"
   ]
  },
  {
   "cell_type": "code",
   "execution_count": null,
   "metadata": {},
   "outputs": [],
   "source": [
    "cum_proportion = pd.DataFrame({\n",
    "    'ret': all_rets.sort_values(),\n",
    "    'cum_prob': np.arange(1, all_rets.shape[0] + 1)/all_rets.shape[0]\n",
    "})\n",
    "cum_proportion.head()"
   ]
  },
  {
   "cell_type": "markdown",
   "metadata": {},
   "source": [
    "por ejemplo a 3 desviaciones estándar de la media obtenemos"
   ]
  },
  {
   "cell_type": "code",
   "execution_count": null,
   "metadata": {},
   "outputs": [],
   "source": [
    "val = all_rets.mean() - 3*all_rets.std()\n",
    "val"
   ]
  },
  {
   "cell_type": "code",
   "execution_count": null,
   "metadata": {},
   "outputs": [],
   "source": [
    "cum_proportion[cum_proportion.ret <= val]"
   ]
  },
  {
   "cell_type": "markdown",
   "metadata": {},
   "source": [
    "El equivalente en la distribución normal corresponde a:ºm"
   ]
  },
  {
   "cell_type": "code",
   "execution_count": null,
   "metadata": {},
   "outputs": [],
   "source": [
    "from scipy.stats import norm\n",
    "norm.cdf(-3)"
   ]
  },
  {
   "cell_type": "markdown",
   "metadata": {},
   "source": [
    "___"
   ]
  },
  {
   "cell_type": "markdown",
   "metadata": {},
   "source": [
    "Respecto a las duraciones, comparamos por separado las ganadoras de las perdedoras"
   ]
  },
  {
   "cell_type": "code",
   "execution_count": null,
   "metadata": {},
   "outputs": [],
   "source": [
    "all_durations = pd.concat(list_durations)\n",
    "duration_class = pd.concat([all_durations, all_rets >= 0], axis=1)\n",
    "duration_class.head()"
   ]
  },
  {
   "cell_type": "code",
   "execution_count": null,
   "metadata": {},
   "outputs": [],
   "source": [
    "sns.displot(duration_class, x='duration', hue='ret', stat='density')"
   ]
  },
  {
   "cell_type": "markdown",
   "metadata": {},
   "source": [
    "____"
   ]
  },
  {
   "cell_type": "markdown",
   "metadata": {},
   "source": [
    "### Análisis de Sensibilidad \n",
    "Podemos analizar como cambian las distribuciones de las propiedades\n",
    "respecto al cambio de un parámetro de nuestra estrategia. Por ejemplo,\n",
    "nos interesa saber:\n",
    "- la media y desviación de la duración según el cambio de la ventana\n",
    "- la media y desviación de los rendimientos según el cambio de la ventana"
   ]
  },
  {
   "cell_type": "code",
   "execution_count": null,
   "metadata": {},
   "outputs": [],
   "source": [
    "ticker = 'FER'\n",
    "dflist = []\n",
    "for iwin in range(15, 91, 5):\n",
    "    print('window:', iwin)\n",
    "    df = sto_trades_df(stock_close[ticker], win=iwin, obought=0.8, osold=0.2)\n",
    "    df['window'] = f'w{iwin}' \n",
    "    dflist.append(df)\n",
    "all_df = pd.concat(dflist)\n",
    "dur_wins = all_df[['ret','duration','window']]\n",
    "dur_wins"
   ]
  },
  {
   "cell_type": "markdown",
   "metadata": {},
   "source": [
    "**Distribuciones de la duración** según la ventana del oscilador"
   ]
  },
  {
   "cell_type": "code",
   "execution_count": null,
   "metadata": {},
   "outputs": [],
   "source": [
    "fig, ax = plt.subplots(figsize=(6,6))\n",
    "sns.boxplot(data=dur_wins, x='duration', y='window', ax=ax)"
   ]
  },
  {
   "cell_type": "markdown",
   "metadata": {},
   "source": [
    "**Distribuciones de los rendimientos** según el tamaño de la ventana del oscilador estocástico "
   ]
  },
  {
   "cell_type": "code",
   "execution_count": null,
   "metadata": {},
   "outputs": [],
   "source": [
    "fig, ax = plt.subplots(figsize=(6,6))\n",
    "sns.boxplot(data=dur_wins, x='ret', y='window', ax=ax)"
   ]
  },
  {
   "cell_type": "markdown",
   "metadata": {},
   "source": [
    "____\n",
    "### Ejercicios Propuesto \n",
    " - Analizar la sensibilidad de la distribución de rendimientos respecto a cambios en los parámetros de sobrecompra (ejemplo de 0.95 a 0.65)\n",
    " - Repetir el análisis sobre la distribución de duración de trades considerando todas las empresas del ticker list."
   ]
  },
  {
   "cell_type": "code",
   "execution_count": null,
   "metadata": {},
   "outputs": [],
   "source": []
  }
 ],
 "metadata": {
  "kernelspec": {
   "display_name": "Python 3",
   "language": "python",
   "name": "python3"
  },
  "language_info": {
   "codemirror_mode": {
    "name": "ipython",
    "version": 3
   },
   "file_extension": ".py",
   "mimetype": "text/x-python",
   "name": "python",
   "nbconvert_exporter": "python",
   "pygments_lexer": "ipython3",
   "version": "3.8.3"
  }
 },
 "nbformat": 4,
 "nbformat_minor": 4
}
