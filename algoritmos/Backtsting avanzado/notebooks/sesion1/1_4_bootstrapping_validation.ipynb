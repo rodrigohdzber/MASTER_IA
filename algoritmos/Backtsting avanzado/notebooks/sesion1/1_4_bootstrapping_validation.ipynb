{
 "cells": [
  {
   "cell_type": "markdown",
   "metadata": {},
   "source": [
    "## Backtesting Sesion 1\n",
    "### Evaluación de Señales por Bootstrapping \n",
    "\n",
    "Este cuaderno muestra un ejemplo de como realizar una evaluación fuera de los datos de optimización, utilizando muestreo aleatorio.  Las ideas generales las podemos resumir en:\n",
    "- Escoger un conjunto de parámetros a partir de la exploración sobre un periodo de tiempo puede llevar a un sobre-ajuste de la estrategia\n",
    "- Hacer una validación de ventanas deslizantes hacia adelante presenta el inconveniente de que solo se evalua sobre un único camino posible durante el periodo disponible\n",
    "- Una alternativa es hacer muestreo aleatorio para determinar los periodos de ajuste y de prueba y analizar las distribuciones resultantes de rendimiento.\n"
   ]
  },
  {
   "cell_type": "markdown",
   "metadata": {},
   "source": [
    "____"
   ]
  },
  {
   "cell_type": "code",
   "execution_count": null,
   "metadata": {},
   "outputs": [],
   "source": [
    "import numpy as np \n",
    "import pandas as pd\n",
    "import matplotlib.pyplot as plt\n",
    "import itertools\n",
    "import seaborn as sns"
   ]
  },
  {
   "cell_type": "markdown",
   "metadata": {},
   "source": [
    "### Datos \n",
    "Asumimos que tenemos un dataset disponible con datos de mercado.\n",
    "Partimos de un snapshot de acciones del IBEX35"
   ]
  },
  {
   "cell_type": "code",
   "execution_count": null,
   "metadata": {},
   "outputs": [],
   "source": [
    "import pickle\n",
    "with open('../data/stock_data.pkl', 'rb') as handle:\n",
    "    stock_data = pickle.load(handle)"
   ]
  },
  {
   "cell_type": "markdown",
   "metadata": {},
   "source": [
    "Generamos un único dataframe con los precios de cierre"
   ]
  },
  {
   "cell_type": "code",
   "execution_count": null,
   "metadata": {},
   "outputs": [],
   "source": [
    "close_dict = {tk: df.close for tk,df in stock_data.items()}\n",
    "stock_close = pd.DataFrame(close_dict)\n",
    "stock_close.head()"
   ]
  },
  {
   "cell_type": "markdown",
   "metadata": {},
   "source": [
    "Trabajaremos primero con un solo valor, que podemos ir variando"
   ]
  },
  {
   "cell_type": "code",
   "execution_count": null,
   "metadata": {},
   "outputs": [],
   "source": [
    "ticker = 'TEF'\n",
    "stock_series = stock_close[ticker].dropna()"
   ]
  },
  {
   "cell_type": "code",
   "execution_count": null,
   "metadata": {},
   "outputs": [],
   "source": [
    "stock_series.plot()"
   ]
  },
  {
   "cell_type": "markdown",
   "metadata": {},
   "source": [
    "___"
   ]
  },
  {
   "cell_type": "code",
   "execution_count": null,
   "metadata": {},
   "outputs": [],
   "source": [
    "from stoosc import Sto # clase con las funciones del oscilador estocastico"
   ]
  },
  {
   "cell_type": "code",
   "execution_count": null,
   "metadata": {},
   "outputs": [],
   "source": [
    "Sto.backtest_so_returns(stock_series, win=25, obought=0.8, osold=0.2)"
   ]
  },
  {
   "cell_type": "markdown",
   "metadata": {},
   "source": [
    "Función para evaluar las diferentes combinaciones (igual que en 1.3)"
   ]
  },
  {
   "cell_type": "code",
   "execution_count": null,
   "metadata": {},
   "outputs": [],
   "source": [
    "obought_params = [0.70, 0.80, 0.90]\n",
    "osold_params = [0.10, 0.20, 0.30]\n",
    "win_params = [20, 30, 50]\n",
    "combined_params = list(itertools.product(win_params, obought_params, osold_params))\n",
    "print(len(combined_params))\n",
    "combined_params[:10]"
   ]
  },
  {
   "cell_type": "code",
   "execution_count": null,
   "metadata": {},
   "outputs": [],
   "source": [
    "def explore_sto_params(params_product, vseries):\n",
    "    result = {}\n",
    "    for iparams in params_product:\n",
    "        (w, b, s) = iparams\n",
    "        result[iparams] = Sto.backtest_so_returns(vseries, win=w, obought=b, osold=s)\n",
    "    rseries = pd.Series(result)\n",
    "    return rseries.idxmax(), rseries.max()"
   ]
  },
  {
   "cell_type": "markdown",
   "metadata": {},
   "source": [
    "____\n",
    "### Bootstrapping Validation\n",
    "La idea consiste en tomar ventanas temporales aleatorias dentro del rango de fechas para:\n",
    "    - no hacer una validación que tenga fechas fijas (inicio o fin de año)\n",
    "    - tengamos más repeticiones que nos permitan explorar más "
   ]
  },
  {
   "cell_type": "code",
   "execution_count": null,
   "metadata": {},
   "outputs": [],
   "source": [
    "window_size = 500  # tamaño de la ventana de evaluacion\n",
    "n_samples = 20\n",
    "n_all_days = stock_series.shape[0]\n",
    "available_size = n_all_days - window_size\n",
    "\n",
    "start_points = np.random.randint(0, available_size, n_samples)\n",
    "start_points"
   ]
  },
  {
   "cell_type": "code",
   "execution_count": null,
   "metadata": {},
   "outputs": [],
   "source": [
    "window_samples = [stock_series.index[i: i+window_size] for i in start_points]\n",
    "window_samples[:3]"
   ]
  },
  {
   "cell_type": "markdown",
   "metadata": {},
   "source": [
    "___"
   ]
  },
  {
   "cell_type": "markdown",
   "metadata": {},
   "source": [
    "Para visualizar creamos una gráfica que nos muestre la distribución de los periodos muestreados"
   ]
  },
  {
   "cell_type": "code",
   "execution_count": null,
   "metadata": {},
   "outputs": [],
   "source": [
    "def plot_bootstrap_window_sample(window_samples):\n",
    "    fig, ax = plt.subplots(figsize=(12,5))\n",
    "    n = len(window_samples)\n",
    "    for i, isample in enumerate(window_samples):\n",
    "        istart, iend = isample[0], isample[-1]\n",
    "        hi, hi_next = i/n, (i+0.9)/n\n",
    "        ax.axvspan(istart, iend, hi, hi_next, alpha=0.2)"
   ]
  },
  {
   "cell_type": "code",
   "execution_count": null,
   "metadata": {},
   "outputs": [],
   "source": [
    "plot_bootstrap_window_sample(window_samples)"
   ]
  },
  {
   "cell_type": "markdown",
   "metadata": {},
   "source": [
    "Ahora utilizamos la forma de generar las ventanas aleatorias para hacer una evaluación\n",
    "sobre cada período de ajuste"
   ]
  },
  {
   "cell_type": "code",
   "execution_count": null,
   "metadata": {},
   "outputs": [],
   "source": [
    "def bootstrap_eval(params_product, vseries, window, n):\n",
    "    n_all_days = vseries.shape[0]\n",
    "    available_size = n_all_days - window\n",
    "    start_points = np.random.randint(0, available_size, n)\n",
    "    \n",
    "    window_samples = [stock_series.index[i: i+window_size] for i in start_points]\n",
    "    result = []\n",
    "    for i, isample in enumerate(window_samples):\n",
    "        sample_serie = vseries.loc[isample]\n",
    "        params, val_max = explore_sto_params(params_product, sample_serie)\n",
    "        print(i, params, val_max)\n",
    "        ires = {\n",
    "            'start': isample[0],\n",
    "            'end': isample[-1],\n",
    "            'params': params,\n",
    "            'best_ret': val_max,\n",
    "        }\n",
    "        result.append(ires)\n",
    "                      \n",
    "    return result"
   ]
  },
  {
   "cell_type": "code",
   "execution_count": null,
   "metadata": {},
   "outputs": [],
   "source": [
    "bootres = bootstrap_eval(combined_params, stock_series, 500, 15)"
   ]
  },
  {
   "cell_type": "markdown",
   "metadata": {},
   "source": [
    "____\n",
    "### Bootstrapping con Test\n",
    "Podemos aplicar este mismo enfoque, pero estimando el resultado, fuera del periodo de ajuste.\n",
    "- Necesitamos generar para cada muestra de ajuste, una ventana alternativa que no solape\n",
    "- Los parámetros seleccionados en el ajuste lo evaluamos sobre esta nueva ventana  "
   ]
  },
  {
   "cell_type": "code",
   "execution_count": null,
   "metadata": {},
   "outputs": [],
   "source": [
    "window_samples[0].max()"
   ]
  },
  {
   "cell_type": "code",
   "execution_count": null,
   "metadata": {},
   "outputs": [],
   "source": [
    "def interval_overlaps(s1, s2):\n",
    "    \"\"\"Determina si dos intervalos s1=(a1, b1) y s2=(a2, b2)  solapan, \n",
    "    verificando el menor punto final y el mayor punto inicial\n",
    "    \"\"\"\n",
    "    check = min(s1[-1], s2[-1]) - max(s1[0], s2[0])\n",
    "    return check > 0  "
   ]
  },
  {
   "cell_type": "code",
   "execution_count": null,
   "metadata": {},
   "outputs": [],
   "source": [
    "interval_overlaps([49, 149], [100, 200])"
   ]
  },
  {
   "cell_type": "code",
   "execution_count": null,
   "metadata": {},
   "outputs": [],
   "source": [
    "interval_overlaps([49, 149], [200, 300])"
   ]
  },
  {
   "cell_type": "markdown",
   "metadata": {},
   "source": [
    "____"
   ]
  },
  {
   "cell_type": "markdown",
   "metadata": {},
   "source": [
    "Podemos para un 'intervalo' de indices, pedir generar otro hasta que no se solapen "
   ]
  },
  {
   "cell_type": "code",
   "execution_count": null,
   "metadata": {},
   "outputs": [],
   "source": [
    "available_size"
   ]
  },
  {
   "cell_type": "code",
   "execution_count": null,
   "metadata": {},
   "outputs": [],
   "source": [
    "fitstart = np.random.randint(0, available_size)\n",
    "fit_inverval = (fitstart, fitstart + window_size)\n",
    "fit_inverval"
   ]
  },
  {
   "cell_type": "code",
   "execution_count": null,
   "metadata": {},
   "outputs": [],
   "source": [
    "def gen_interval(win, bound=available_size):\n",
    "    vstart = np.random.randint(0, bound)\n",
    "    return vstart, vstart + win "
   ]
  },
  {
   "cell_type": "code",
   "execution_count": null,
   "metadata": {},
   "outputs": [],
   "source": [
    "gen_interval(300)"
   ]
  },
  {
   "cell_type": "code",
   "execution_count": null,
   "metadata": {},
   "outputs": [],
   "source": [
    "gen_interval(500)"
   ]
  },
  {
   "cell_type": "code",
   "execution_count": null,
   "metadata": {},
   "outputs": [],
   "source": [
    "test_interval = gen_interval(750)\n",
    "print(test_interval)\n",
    "while interval_overlaps(fit_inverval, test_interval):\n",
    "    test_interval = gen_interval(750)\n",
    "    print(test_interval)"
   ]
  },
  {
   "cell_type": "code",
   "execution_count": null,
   "metadata": {},
   "outputs": [],
   "source": [
    "def bootstrap_fit_test_samples(vseries, num_samples, fit_size, test_size):\n",
    "    \"\"\"\n",
    "    Función que genera un muestreo de ventandas de ajuste y de test\n",
    "    \"\"\"\n",
    "    n_all_days = stock_series.shape[0]\n",
    "    available_size = n_all_days - window_size\n",
    "    \n",
    "    samples = []  # (fit_date_index, test_date_index)\n",
    "    for i in range(num_samples):\n",
    "        fit_idxs = gen_interval(fit_size, bound=available_size)\n",
    "        test_idxs = gen_interval(test_size, bound=available_size)\n",
    "\n",
    "        while interval_overlaps(fit_idxs, test_idxs):\n",
    "            test_idxs = gen_interval(test_size, bound=available_size)\n",
    "        samples.append(\n",
    "            (vseries.index[fit_idxs[0]: fit_idxs[1]],\n",
    "             vseries.index[test_idxs[0]: test_idxs[1]])\n",
    "        )\n",
    "    return samples "
   ]
  },
  {
   "cell_type": "code",
   "execution_count": null,
   "metadata": {},
   "outputs": [],
   "source": [
    "fittest_samples = bootstrap_fit_test_samples(stock_series, 15, 500, 750)"
   ]
  },
  {
   "cell_type": "code",
   "execution_count": null,
   "metadata": {},
   "outputs": [],
   "source": [
    "fittest_samples[:2]"
   ]
  },
  {
   "cell_type": "markdown",
   "metadata": {},
   "source": [
    "____"
   ]
  },
  {
   "cell_type": "markdown",
   "metadata": {},
   "source": [
    "Modificamos la función de graficar las ventanas muestreadas"
   ]
  },
  {
   "cell_type": "code",
   "execution_count": null,
   "metadata": {},
   "outputs": [],
   "source": [
    "def plot_bootstrap_fittest_samples(samples):\n",
    "    fig, ax = plt.subplots(figsize=(12,5))\n",
    "    n = len(samples)\n",
    "    for i, isample in enumerate(samples):\n",
    "        fitstart, fitend = isample[0][0], isample[0][-1]\n",
    "        hi, hi_next = i/n, (i+0.9)/n\n",
    "        ax.axvspan(fitstart, fitend, hi, hi_next, facecolor='blue', alpha=0.2)\n",
    "        teststart, testend = isample[1][0], isample[1][-1]\n",
    "        ax.axvspan(teststart, testend, hi, hi_next, facecolor='green', alpha=0.2)\n",
    "        \n",
    "        "
   ]
  },
  {
   "cell_type": "code",
   "execution_count": null,
   "metadata": {},
   "outputs": [],
   "source": [
    "plot_bootstrap_fittest_samples(fittest_samples)"
   ]
  },
  {
   "cell_type": "markdown",
   "metadata": {},
   "source": [
    "Finalmente modificamos la función de evaluación bootstrapping para dar la estimación de rendimiento\n",
    "sobre la ventana de test"
   ]
  },
  {
   "cell_type": "code",
   "execution_count": null,
   "metadata": {},
   "outputs": [],
   "source": [
    "def bootstrap_eval_test(params_product, vseries, fit_win, test_win, n):\n",
    "    \n",
    "    fittest_samples = bootstrap_fit_test_samples(vseries, n, fit_win, test_win)\n",
    "    result = []\n",
    "    for i, (fitsample, testsample) in enumerate(fittest_samples):\n",
    "        fit_serie = vseries.loc[fitsample]\n",
    "        test_serie = vseries.loc[testsample]\n",
    "        \n",
    "        params, val_max = explore_sto_params(params_product, fit_serie)\n",
    "        w, b, s = params\n",
    "        \n",
    "        test_ret = Sto.backtest_so_returns(test_serie, win=w, obought=b, osold=s)\n",
    "  \n",
    "        print(i, params, val_max, test_ret)\n",
    "        ires = {\n",
    "            'start': fit_serie[0],\n",
    "            'end': fit_serie[-1],\n",
    "            'params': params,\n",
    "            'best_fit_ret': val_max,\n",
    "            'test_ret': test_ret\n",
    "        }\n",
    "        result.append(ires)\n",
    "                      \n",
    "    return result"
   ]
  },
  {
   "cell_type": "code",
   "execution_count": null,
   "metadata": {},
   "outputs": [],
   "source": [
    "bootres = bootstrap_eval_test(combined_params, stock_series, \n",
    "                              fit_win=500, \n",
    "                              test_win=750,\n",
    "                              n=50)"
   ]
  },
  {
   "cell_type": "code",
   "execution_count": null,
   "metadata": {},
   "outputs": [],
   "source": [
    "show_rets = [r['test_ret'] for r in bootres]\n",
    "plt.hist(show_rets)"
   ]
  },
  {
   "cell_type": "markdown",
   "metadata": {},
   "source": [
    "### Observaciones Finales\n",
    "- El muestreo no es independiente, por la limitación del solapamiento en los extremos\n",
    "- Lo relevante de este esquema es la evaluación fuera de la ventana de ajuste. Aquí podemos plantear alternativas, \n",
    "   por ejemplo elegir la combinación de parámetros que más se repita entre los mejores rendimientos"
   ]
  },
  {
   "cell_type": "markdown",
   "metadata": {},
   "source": [
    "____"
   ]
  }
 ],
 "metadata": {
  "kernelspec": {
   "display_name": "Python 3",
   "language": "python",
   "name": "python3"
  },
  "language_info": {
   "codemirror_mode": {
    "name": "ipython",
    "version": 3
   },
   "file_extension": ".py",
   "mimetype": "text/x-python",
   "name": "python",
   "nbconvert_exporter": "python",
   "pygments_lexer": "ipython3",
   "version": "3.8.3"
  }
 },
 "nbformat": 4,
 "nbformat_minor": 4
}
