{
 "cells": [
  {
   "cell_type": "markdown",
   "metadata": {},
   "source": [
    "## Backtesting\n",
    "### Métricas (1)\n",
    "\n",
    "En este cuaderno se presentan algunas métricas de rendimiento que podemos calcular sobre series temporales y en particular sobre el resultado de las estrategias de trading. "
   ]
  },
  {
   "cell_type": "code",
   "execution_count": null,
   "metadata": {},
   "outputs": [],
   "source": [
    "import numpy as np \n",
    "import pandas as pd\n",
    "import matplotlib.pyplot as plt\n",
    "import itertools"
   ]
  },
  {
   "cell_type": "markdown",
   "metadata": {},
   "source": [
    "### Datos \n",
    "Asumiremos por un tema se simplicidad en los ejemplos, que nuestro universo de acciones invertibles son las siguientes acciones del IBEX35. "
   ]
  },
  {
   "cell_type": "code",
   "execution_count": null,
   "metadata": {},
   "outputs": [],
   "source": [
    "ticker_list = ['BBVA','SAN','REP','TEF','IBE','FER','ITX','ACS','AMS','GRF']"
   ]
  },
  {
   "cell_type": "code",
   "execution_count": null,
   "metadata": {},
   "outputs": [],
   "source": [
    "import pickle\n",
    "with open('../data/stock_data.pkl', 'rb') as handle:\n",
    "    stock_data = pickle.load(handle)"
   ]
  },
  {
   "cell_type": "code",
   "execution_count": null,
   "metadata": {},
   "outputs": [],
   "source": [
    "close_series = {ticker: df.close\n",
    "                for ticker, df in stock_data.items()\n",
    "                if ticker in ticker_list\n",
    "               }\n",
    "stock_df = pd.DataFrame(close_series)\n",
    "stock_df = stock_df.loc['2010':]\n",
    "stock_df.head()"
   ]
  },
  {
   "cell_type": "markdown",
   "metadata": {},
   "source": [
    "____\n",
    "### Evolución Relativa\n",
    "La utilizamos para ver el rendimiento de varios activos o carteras a partir de un **punto temporal de referencia** que nos indicaría algún momento en la toma de decisión.  La clave es que todos los elementos comparados empiezan en 1, y la evolución de cada uno es \n",
    "el resultado de reproducir los rendimientos posteriores.  Esto puede conseguirse fácilmente sobre una serie de precios:\n",
    "    1. Crear una serie a partir del punto de referencia\n",
    "    2. Dividr esta serie entre su primer valor."
   ]
  },
  {
   "cell_type": "code",
   "execution_count": null,
   "metadata": {},
   "outputs": [],
   "source": [
    "def relative_serie(s):\n",
    "    \"\"\" Calcula la serie relativa asumiendo el punto de referencia como el primer precio\"\"\"\n",
    "    return s/s.iloc[0]"
   ]
  },
  {
   "cell_type": "code",
   "execution_count": null,
   "metadata": {},
   "outputs": [],
   "source": [
    "relative_df = stock_df.apply(relative_serie)\n",
    "relative_df.plot(figsize=(10,6))"
   ]
  },
  {
   "cell_type": "markdown",
   "metadata": {},
   "source": [
    "Esta evolución la podríamos generar a partir de diferentes puntos de referencia.m"
   ]
  },
  {
   "cell_type": "code",
   "execution_count": null,
   "metadata": {},
   "outputs": [],
   "source": [
    "for iyear in range(2010, 2021, 2):\n",
    "    substock_df = stock_df.loc[f'{iyear}':]\n",
    "    relative_df = substock_df.apply(relative_serie)\n",
    "    relative_df.plot(figsize=(10,6))"
   ]
  },
  {
   "cell_type": "markdown",
   "metadata": {},
   "source": [
    "___"
   ]
  },
  {
   "cell_type": "markdown",
   "metadata": {},
   "source": [
    "### Drawdown y Tiempo bajo Agua"
   ]
  },
  {
   "cell_type": "markdown",
   "metadata": {},
   "source": [
    "- El **Drawdown** es la pérdida máxima que se observa en una inversión entre dos puntos máximos de marcas de agua\n",
    "- El **Tiempo bajo el Agua** (TuW) es el período de tiempo que pasa entre esos dos máximos "
   ]
  },
  {
   "cell_type": "code",
   "execution_count": null,
   "metadata": {},
   "outputs": [],
   "source": [
    "ticker = 'AMS'\n",
    "stock_series = stock_df[ticker].dropna()"
   ]
  },
  {
   "cell_type": "markdown",
   "metadata": {},
   "source": [
    "Respecto a una serie vemos sus máximos alcanzados (marcas de agua). La función *expanding* nos permite calcular la una función hasta cada último punto de la serie"
   ]
  },
  {
   "cell_type": "code",
   "execution_count": null,
   "metadata": {},
   "outputs": [],
   "source": [
    "water_marks = stock_series.expanding().max()\n",
    "# la funcion cummax() es equivalente"
   ]
  },
  {
   "cell_type": "code",
   "execution_count": null,
   "metadata": {},
   "outputs": [],
   "source": [
    "fig, (ax1, ax2) = plt.subplots(1, 2, figsize=(10, 3))\n",
    "stock_series.plot(ax=ax1)\n",
    "water_marks.plot(ax=ax2)"
   ]
  },
  {
   "cell_type": "markdown",
   "metadata": {},
   "source": [
    "el drawdown lo calculamos como la rentabilidad hasta el último máximo.  De interés es:\n",
    " - la gráfica de los drawdowns\n",
    " - el máximo drawdown en un periodo de tiempo"
   ]
  },
  {
   "cell_type": "code",
   "execution_count": null,
   "metadata": {},
   "outputs": [],
   "source": [
    "drawdowns = (stock_series/stock_series.cummax()) - 1\n",
    "drawdowns.plot()"
   ]
  },
  {
   "cell_type": "code",
   "execution_count": null,
   "metadata": {},
   "outputs": [],
   "source": [
    "## maximo drawdown\n",
    "drawdowns.min()"
   ]
  },
  {
   "cell_type": "code",
   "execution_count": null,
   "metadata": {},
   "outputs": [],
   "source": [
    "under_water = (stock_series < stock_series.cummax()).astype(float)\n",
    "under_water"
   ]
  },
  {
   "cell_type": "markdown",
   "metadata": {},
   "source": [
    "Las fechas de corte donde tendremos que calcular la suma de los días. Si la última no es máximo la consideramos también"
   ]
  },
  {
   "cell_type": "code",
   "execution_count": null,
   "metadata": {},
   "outputs": [],
   "source": [
    "cut_uw = under_water[under_water == 0]\n",
    "if cut_uw.index[-1] != under_water.index[-1]:\n",
    "    cut_uw.loc[under_water.index[-1]] = 0\n",
    "cut_uw"
   ]
  },
  {
   "cell_type": "markdown",
   "metadata": {},
   "source": [
    "Ahora hacemos la suma acumulativa entre dos fechas de corte"
   ]
  },
  {
   "cell_type": "code",
   "execution_count": null,
   "metadata": {},
   "outputs": [],
   "source": [
    "twu = pd.Series(np.zeros(under_water.shape), index=under_water.index)\n",
    "current = cut_uw.index[0]\n",
    "for idate in cut_uw.index[1:]:\n",
    "    twu.loc[current:idate] = under_water[current:idate].cumsum()\n",
    "    current = idate"
   ]
  },
  {
   "cell_type": "code",
   "execution_count": null,
   "metadata": {},
   "outputs": [],
   "source": [
    "twu"
   ]
  },
  {
   "cell_type": "code",
   "execution_count": null,
   "metadata": {},
   "outputs": [],
   "source": [
    "twu.plot()"
   ]
  },
  {
   "cell_type": "markdown",
   "metadata": {},
   "source": [
    "Hacemos una función que nos calcule TuW todo a la vez"
   ]
  },
  {
   "cell_type": "code",
   "execution_count": null,
   "metadata": {},
   "outputs": [],
   "source": [
    "def time_under_water(vseries):\n",
    "    \"\"\"Calcula una serie con el numero de sesiones \n",
    "    desde el ultimo maximo\n",
    "    \"\"\"\n",
    "    under_water = (vseries < vseries.cummax()).astype(float)\n",
    "\n",
    "    # fechas de corte\n",
    "    cut_uw = under_water[under_water == 0]\n",
    "    if cut_uw.index[-1] != under_water.index[-1]:\n",
    "        cut_uw.loc[under_water.index[-1]] = 0\n",
    "    \n",
    "    # \n",
    "    twu = pd.Series(np.zeros(under_water.shape), index=under_water.index)\n",
    "    current = cut_uw.index[0]\n",
    "    for idate in cut_uw.index[1:]:\n",
    "        twu.loc[current:idate] = under_water[current:idate].cumsum()\n",
    "        current = idate\n",
    "    return twu"
   ]
  },
  {
   "cell_type": "markdown",
   "metadata": {},
   "source": [
    "____\n",
    "Calculamos el time under water para los acciones que estamos trabajando en el ejemplo"
   ]
  },
  {
   "cell_type": "code",
   "execution_count": null,
   "metadata": {},
   "outputs": [],
   "source": [
    "tuw_df = stock_df.apply(time_under_water)"
   ]
  },
  {
   "cell_type": "code",
   "execution_count": null,
   "metadata": {},
   "outputs": [],
   "source": [
    "tuw_df.plot(figsize=(8,5))"
   ]
  },
  {
   "cell_type": "code",
   "execution_count": null,
   "metadata": {},
   "outputs": [],
   "source": []
  }
 ],
 "metadata": {
  "kernelspec": {
   "display_name": "Python 3",
   "language": "python",
   "name": "python3"
  },
  "language_info": {
   "codemirror_mode": {
    "name": "ipython",
    "version": 3
   },
   "file_extension": ".py",
   "mimetype": "text/x-python",
   "name": "python",
   "nbconvert_exporter": "python",
   "pygments_lexer": "ipython3",
   "version": "3.8.3"
  }
 },
 "nbformat": 4,
 "nbformat_minor": 4
}
