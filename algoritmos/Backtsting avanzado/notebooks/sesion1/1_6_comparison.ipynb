{
 "cells": [
  {
   "cell_type": "markdown",
   "metadata": {},
   "source": [
    "## Backtesting \n",
    "### Métricas (2)\n",
    "En este cuaderno continuamos con el cáclulo de métricas, pero introducimos\n",
    "- el uso de reglas de trading que aplicamos a varios activos a la vez\n",
    "- la comparación respecto al índice de referencia\n",
    "\n",
    "De momento esta comparación no es justa porque no tenemos una correspondencia con el universo de acciones invertibles"
   ]
  },
  {
   "cell_type": "code",
   "execution_count": null,
   "metadata": {},
   "outputs": [],
   "source": [
    "import numpy as np \n",
    "import pandas as pd\n",
    "import matplotlib.pyplot as plt\n",
    "import itertools"
   ]
  },
  {
   "cell_type": "markdown",
   "metadata": {},
   "source": [
    "### Datos \n",
    "Asumiremos por un tema se simplicidad en los ejemplos, que nuestro universo de acciones invertibles son las siguientes acciones del IBEX35."
   ]
  },
  {
   "cell_type": "code",
   "execution_count": null,
   "metadata": {},
   "outputs": [],
   "source": [
    "ticker_list = ['BBVA','SAN','REP','TEF','IBE','FER','ITX','ACS','GRF']"
   ]
  },
  {
   "cell_type": "code",
   "execution_count": null,
   "metadata": {},
   "outputs": [],
   "source": [
    "import pickle\n",
    "with open('../data/stock_data.pkl', 'rb') as handle:\n",
    "    stock_data = pickle.load(handle)"
   ]
  },
  {
   "cell_type": "code",
   "execution_count": null,
   "metadata": {},
   "outputs": [],
   "source": [
    "close_series = {ticker: df.close for ticker, df in stock_data.items()\n",
    "                if ticker in ticker_list}\n",
    "stock_df = pd.DataFrame(close_series)\n",
    "stock_df = stock_df.loc['2010':]"
   ]
  },
  {
   "cell_type": "code",
   "execution_count": null,
   "metadata": {},
   "outputs": [],
   "source": [
    "stock_df.head()"
   ]
  },
  {
   "cell_type": "markdown",
   "metadata": {},
   "source": [
    "Eliminaremos primero las acciones que no han estado en el índice durante todo el periodo de evaluación"
   ]
  },
  {
   "cell_type": "code",
   "execution_count": null,
   "metadata": {},
   "outputs": [],
   "source": [
    "stock_df.dropna(axis=1, how='all', inplace=True)\n",
    "stock_df"
   ]
  },
  {
   "cell_type": "markdown",
   "metadata": {},
   "source": [
    "También usaremos el **benchmark**, la  serie del ibex con dividendos"
   ]
  },
  {
   "cell_type": "code",
   "execution_count": null,
   "metadata": {},
   "outputs": [],
   "source": [
    "with open('../data/benchmark.pkl', 'rb') as handle:\n",
    "    benchmarks = pickle.load(handle)"
   ]
  },
  {
   "cell_type": "code",
   "execution_count": null,
   "metadata": {},
   "outputs": [],
   "source": [
    "benchmarks.keys()"
   ]
  },
  {
   "cell_type": "code",
   "execution_count": null,
   "metadata": {},
   "outputs": [],
   "source": [
    "benchmark = benchmarks['ibex_div'].close.loc['2010':]\n",
    "benchmark.plot()"
   ]
  },
  {
   "cell_type": "markdown",
   "metadata": {},
   "source": [
    "____\n",
    "### Estrategia Media Móvil\n",
    "Implementamos una estrategia de buscar las tendencias alcistas cuando\n",
    "el precio esté por encima de la media móvil. La idea es tener una estrategia\n",
    "sencilla independiente por cada acción"
   ]
  },
  {
   "cell_type": "code",
   "execution_count": null,
   "metadata": {},
   "outputs": [],
   "source": [
    "def movaverage_states(vseries, win):\n",
    "    sma = vseries.rolling(win).mean()\n",
    "    signal_states = (vseries > sma).astype(float)\n",
    "    trading_states = signal_states.shift(1)\n",
    "    trading_states.iloc[0] = 0\n",
    "    return trading_states"
   ]
  },
  {
   "cell_type": "code",
   "execution_count": null,
   "metadata": {},
   "outputs": [],
   "source": [
    "def plot_sma_states(vseries, win):\n",
    "    sma = vseries.rolling(win).mean()\n",
    "    states = movaverage_states(vseries, win)\n",
    "  \n",
    "    fig, ax = plt.subplots(figsize=(20,4))\n",
    "    vseries.plot(ax=ax)\n",
    "    sma.plot(ax=ax)\n",
    "\n",
    "    for i, idx in enumerate(states.index[:-1]):\n",
    "        if states.loc[idx] == 1:\n",
    "            ax.axvspan(idx, states.index[i+1], facecolor='g', alpha=0.2)"
   ]
  },
  {
   "cell_type": "code",
   "execution_count": null,
   "metadata": {},
   "outputs": [],
   "source": [
    "plot_sma_states(stock_df['ITX'].iloc[:-500], 30)"
   ]
  },
  {
   "cell_type": "code",
   "execution_count": null,
   "metadata": {},
   "outputs": [],
   "source": [
    "def state_return_serie(price, states):\n",
    "    \"\"\" \n",
    "    \"\"\"\n",
    "    real_serie = price.dropna()\n",
    "    ret = real_serie.pct_change()\n",
    "    ret.iloc[0] = 0\n",
    "    ret_series = ret * states\n",
    "    return ret_series\n",
    "    "
   ]
  },
  {
   "cell_type": "markdown",
   "metadata": {},
   "source": [
    "___"
   ]
  },
  {
   "cell_type": "code",
   "execution_count": null,
   "metadata": {},
   "outputs": [],
   "source": [
    "stock_states = stock_df.apply(movaverage_states, win=50)\n",
    "stock_states"
   ]
  },
  {
   "cell_type": "code",
   "execution_count": null,
   "metadata": {},
   "outputs": [],
   "source": [
    "example_returns = state_return_serie(stock_df['FER'], stock_states['FER'])\n",
    "example_returns"
   ]
  },
  {
   "cell_type": "markdown",
   "metadata": {},
   "source": [
    "solo tenemos fluctuación de retorno cuando estamos invertidos"
   ]
  },
  {
   "cell_type": "code",
   "execution_count": null,
   "metadata": {},
   "outputs": [],
   "source": [
    "example_returns.plot()"
   ]
  },
  {
   "cell_type": "markdown",
   "metadata": {},
   "source": [
    "____\n",
    "Calculamos la serie de rendimientos a partir de los estados, para todas las acciones"
   ]
  },
  {
   "cell_type": "code",
   "execution_count": null,
   "metadata": {},
   "outputs": [],
   "source": [
    "sma_returns = [state_return_serie(stock_df[tk], stock_states[tk]) for tk in stock_df.columns]\n",
    "sma_returns_df = pd.concat(sma_returns, axis=1)\n",
    "sma_returns_df"
   ]
  },
  {
   "cell_type": "code",
   "execution_count": null,
   "metadata": {},
   "outputs": [],
   "source": [
    "sma_performance = (sma_returns_df + 1).cumprod()\n",
    "sma_performance"
   ]
  },
  {
   "cell_type": "code",
   "execution_count": null,
   "metadata": {},
   "outputs": [],
   "source": [
    "sma_performance[['IBE','REP','FER']].plot()"
   ]
  },
  {
   "cell_type": "markdown",
   "metadata": {},
   "source": [
    "___"
   ]
  },
  {
   "cell_type": "markdown",
   "metadata": {},
   "source": [
    "### Calculo agregado de rentabilidad\n",
    "Si hacemos esta estrategia equiponderada tendriamos que dividir el resultado\n",
    "entre todos los elementos que se encuentren en el índice ese día "
   ]
  },
  {
   "cell_type": "code",
   "execution_count": null,
   "metadata": {},
   "outputs": [],
   "source": [
    "sma_performance.iloc[0].dropna().count()"
   ]
  },
  {
   "cell_type": "code",
   "execution_count": null,
   "metadata": {},
   "outputs": [],
   "source": [
    "def equiperformance(performance_row):\n",
    "    n = performance_row.dropna().count()\n",
    "    return performance_row/n"
   ]
  },
  {
   "cell_type": "code",
   "execution_count": null,
   "metadata": {},
   "outputs": [],
   "source": [
    "equiperformance(sma_performance.iloc[0])"
   ]
  },
  {
   "cell_type": "code",
   "execution_count": null,
   "metadata": {},
   "outputs": [],
   "source": [
    "equity_performance = sma_performance.apply(equiperformance, axis=1)\n",
    "equity_performance"
   ]
  },
  {
   "cell_type": "markdown",
   "metadata": {},
   "source": [
    "En realidad el rendimiento es el mismo, solo que aportará la parte proporcional al portfolio"
   ]
  },
  {
   "cell_type": "code",
   "execution_count": null,
   "metadata": {},
   "outputs": [],
   "source": [
    "equity_performance[['IBE','REP','FER']].plot()"
   ]
  },
  {
   "cell_type": "code",
   "execution_count": null,
   "metadata": {},
   "outputs": [],
   "source": [
    "porfolio_performance = equity_performance.sum(axis=1)\n",
    "porfolio_performance.plot()"
   ]
  },
  {
   "cell_type": "markdown",
   "metadata": {},
   "source": [
    "### Comparación con el Benchmark"
   ]
  },
  {
   "cell_type": "code",
   "execution_count": null,
   "metadata": {},
   "outputs": [],
   "source": [
    "relative_bm = benchmark/benchmark.iloc[0]"
   ]
  },
  {
   "cell_type": "code",
   "execution_count": null,
   "metadata": {},
   "outputs": [],
   "source": [
    "estrategias = pd.DataFrame({\n",
    "    'SMA': porfolio_performance,\n",
    "    'Ibexdiv': relative_bm\n",
    "\n",
    "})"
   ]
  },
  {
   "cell_type": "code",
   "execution_count": null,
   "metadata": {},
   "outputs": [],
   "source": [
    "estrategias.plot()"
   ]
  },
  {
   "cell_type": "markdown",
   "metadata": {},
   "source": [
    "### Métricas respecto al Benchmark"
   ]
  },
  {
   "cell_type": "markdown",
   "metadata": {},
   "source": [
    "Primero el **periodo de tiempo** de la evaluación"
   ]
  },
  {
   "cell_type": "code",
   "execution_count": null,
   "metadata": {},
   "outputs": [],
   "source": [
    "init_date, end_date = relative_bm.index[0], relative_bm.index[-1]\n",
    "years_in = (end_date - init_date) / pd.Timedelta(days=365, hours=6)\n",
    "years_in"
   ]
  },
  {
   "cell_type": "code",
   "execution_count": null,
   "metadata": {},
   "outputs": [],
   "source": [
    "bdays_year = int(relative_bm.shape[0]/years_in)\n",
    "bdays_year"
   ]
  },
  {
   "cell_type": "markdown",
   "metadata": {},
   "source": [
    "**Rendimiento Anualizado** \n"
   ]
  },
  {
   "cell_type": "code",
   "execution_count": null,
   "metadata": {},
   "outputs": [],
   "source": [
    "portval = porfolio_performance"
   ]
  },
  {
   "cell_type": "code",
   "execution_count": null,
   "metadata": {},
   "outputs": [],
   "source": [
    "port_total_ret = portval.iloc[-1]/portval.iloc[0] - 1\n",
    "port_total_ret"
   ]
  },
  {
   "cell_type": "code",
   "execution_count": null,
   "metadata": {},
   "outputs": [],
   "source": [
    "ann_ret = np.power(port_total_ret + 1, 1/years_in) - 1\n",
    "ann_ret"
   ]
  },
  {
   "cell_type": "markdown",
   "metadata": {},
   "source": [
    "**Active_return**"
   ]
  },
  {
   "cell_type": "code",
   "execution_count": null,
   "metadata": {},
   "outputs": [],
   "source": [
    "bench_ret = relative_bm.iloc[-1]/relative_bm.iloc[0] - 1\n",
    "bench_annret = np.power(bench_ret + 1, 1/years_in) - 1\n",
    "bench_annret"
   ]
  },
  {
   "cell_type": "code",
   "execution_count": null,
   "metadata": {},
   "outputs": [],
   "source": [
    "active_ret = ann_ret - bench_annret\n",
    "active_ret"
   ]
  },
  {
   "cell_type": "markdown",
   "metadata": {},
   "source": [
    "**Information Ratio**"
   ]
  },
  {
   "cell_type": "code",
   "execution_count": null,
   "metadata": {},
   "outputs": [],
   "source": [
    "logret = np.log(portval).diff().dropna()\n",
    "bench_logret = np.log(relative_bm).diff().dropna()"
   ]
  },
  {
   "cell_type": "code",
   "execution_count": null,
   "metadata": {},
   "outputs": [],
   "source": [
    "active_dayret = logret - bench_logret\n",
    "active_dayret.head()"
   ]
  },
  {
   "cell_type": "code",
   "execution_count": null,
   "metadata": {},
   "outputs": [],
   "source": [
    "tracking_error = np.sqrt(bdays_year) * active_dayret.std()\n",
    "inform_ratio = (bdays_year * active_dayret.mean()) / tracking_error\n",
    "inform_ratio"
   ]
  },
  {
   "cell_type": "markdown",
   "metadata": {},
   "source": [
    "___"
   ]
  },
  {
   "cell_type": "code",
   "execution_count": null,
   "metadata": {},
   "outputs": [],
   "source": []
  }
 ],
 "metadata": {
  "kernelspec": {
   "display_name": "Python 3",
   "language": "python",
   "name": "python3"
  },
  "language_info": {
   "codemirror_mode": {
    "name": "ipython",
    "version": 3
   },
   "file_extension": ".py",
   "mimetype": "text/x-python",
   "name": "python",
   "nbconvert_exporter": "python",
   "pygments_lexer": "ipython3",
   "version": "3.8.3"
  }
 },
 "nbformat": 4,
 "nbformat_minor": 4
}
