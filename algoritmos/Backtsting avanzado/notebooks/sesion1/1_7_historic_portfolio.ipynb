{
 "cells": [
  {
   "cell_type": "markdown",
   "metadata": {},
   "source": [
    "## Backtesting\n",
    "### Implementación de una cartera histórica\n",
    "En este cuaderno mostramos como implementar de forma eficiente una cartera de inversión\n",
    "que registra diariamente sus posiciones y la valoración. Las ideas centrales son:\n",
    "- Simular con posiciones y valoración es una alternativa más realista frente a simplemente componer los retornos de una estrategia\n",
    "    - Se pueden incorporar costes que no tengan un esquema proporcinal para todos los activos\n",
    "    - Se pueden considerar restricciones de volumen en la negociación\n",
    "    - Se pueden implementar ajustes a la cartera que dependen de estados previos\n",
    "- Cuando no hay operativa en cada punto de tiempo, trabajar con las diferencias en las posiciones/caja nos permite mantener algunas ventajas de los cálculos eficientes que sean vectorizados "
   ]
  },
  {
   "cell_type": "markdown",
   "metadata": {},
   "source": [
    "____"
   ]
  },
  {
   "cell_type": "code",
   "execution_count": null,
   "metadata": {},
   "outputs": [],
   "source": [
    "import numpy as np \n",
    "import pandas as pd\n",
    "import matplotlib.pyplot as plt\n",
    "import pickle"
   ]
  },
  {
   "cell_type": "markdown",
   "metadata": {},
   "source": [
    "### Datos \n",
    "Asumiremos por un tema se simplicidad en los ejemplos, que nuestro universo de acciones invertibles son las siguientes acciones del IBEX35.  "
   ]
  },
  {
   "cell_type": "code",
   "execution_count": null,
   "metadata": {},
   "outputs": [],
   "source": [
    "with open('../data/benchmark.pkl', 'rb') as handle:\n",
    "    benchmarks = pickle.load(handle)\n",
    "benchmark = benchmarks['ibex_div'].close"
   ]
  },
  {
   "cell_type": "code",
   "execution_count": null,
   "metadata": {},
   "outputs": [],
   "source": [
    "with open('../data/stock_data.pkl', 'rb') as handle:\n",
    "    stock_data = pickle.load(handle)"
   ]
  },
  {
   "cell_type": "markdown",
   "metadata": {},
   "source": [
    "Construimos un dataframe con los precios de cierre"
   ]
  },
  {
   "cell_type": "code",
   "execution_count": null,
   "metadata": {},
   "outputs": [],
   "source": [
    "close_series = {ticker: df.close\n",
    "                for ticker, df in stock_data.items()}\n",
    "stock_df = pd.DataFrame(close_series)\n",
    "stock_df = stock_df.loc['2017':]\n",
    "stock_df = stock_df.dropna(how='all', axis=1)"
   ]
  },
  {
   "cell_type": "code",
   "execution_count": null,
   "metadata": {},
   "outputs": [],
   "source": [
    "stock_df.head()"
   ]
  },
  {
   "cell_type": "markdown",
   "metadata": {},
   "source": [
    "___"
   ]
  },
  {
   "cell_type": "markdown",
   "metadata": {},
   "source": [
    "Registro de cambios de posición\n",
    " - las compras van como valores positivos\n",
    " - las ventas van como valores negativos   "
   ]
  },
  {
   "cell_type": "code",
   "execution_count": null,
   "metadata": {},
   "outputs": [],
   "source": [
    "delta_trades = pd.DataFrame(\n",
    "    dtype=np.float,\n",
    "    index=stock_df.index,\n",
    "    columns=stock_df.columns\n",
    ")\n",
    "delta_trades.head()"
   ]
  },
  {
   "cell_type": "markdown",
   "metadata": {},
   "source": [
    "____\n",
    "### Estrategia con Medias Móviles\n"
   ]
  },
  {
   "cell_type": "markdown",
   "metadata": {},
   "source": [
    "Hacemos una función que calcule las señales de entrada y salida"
   ]
  },
  {
   "cell_type": "code",
   "execution_count": null,
   "metadata": {},
   "outputs": [],
   "source": [
    "def movaverage_states(vseries, win):\n",
    "    sma = vseries.rolling(win).mean()\n",
    "    signal_states = (vseries > sma).astype(float)\n",
    "    trading_states = signal_states.shift(1)\n",
    "    trading_states.iloc[0] = 0\n",
    "    return trading_states"
   ]
  },
  {
   "cell_type": "code",
   "execution_count": null,
   "metadata": {},
   "outputs": [],
   "source": [
    "def sma_signals(vseries, win):\n",
    "    states = movaverage_states(vseries, win)\n",
    "    signals = states.diff().dropna()\n",
    "    return signals"
   ]
  },
  {
   "cell_type": "code",
   "execution_count": null,
   "metadata": {},
   "outputs": [],
   "source": [
    "win = 50\n",
    "iseries = stock_df['SAN']\n",
    "sma_states = movaverage_states(iseries, win)\n",
    "signals = sma_states.diff().dropna()"
   ]
  },
  {
   "cell_type": "code",
   "execution_count": null,
   "metadata": {},
   "outputs": [],
   "source": [
    "signals[signals != 0]"
   ]
  },
  {
   "cell_type": "markdown",
   "metadata": {},
   "source": [
    "Cada día podemos saber las compras y ventas"
   ]
  },
  {
   "cell_type": "code",
   "execution_count": null,
   "metadata": {},
   "outputs": [],
   "source": [
    "all_signals = stock_df.apply(sma_signals, win=win)\n",
    "all_signals"
   ]
  },
  {
   "cell_type": "code",
   "execution_count": null,
   "metadata": {},
   "outputs": [],
   "source": [
    "row = all_signals.loc['2017-05-11']\n",
    "row[row != 0]"
   ]
  },
  {
   "cell_type": "code",
   "execution_count": null,
   "metadata": {},
   "outputs": [],
   "source": [
    "all_signals.any(axis=1)"
   ]
  },
  {
   "cell_type": "markdown",
   "metadata": {},
   "source": [
    "_____\n",
    "Verificamos que haya precio en cada señal"
   ]
  },
  {
   "cell_type": "code",
   "execution_count": null,
   "metadata": {},
   "outputs": [],
   "source": [
    "stock_df['TRE'].isna().any()"
   ]
  },
  {
   "cell_type": "code",
   "execution_count": null,
   "metadata": {},
   "outputs": [],
   "source": [
    "def check_prices(signals, prices):\n",
    "    trading = signals[signals != 0]\n",
    "    trade_prices = prices.loc[trading.index]\n",
    "    return trade_prices.isna().any()"
   ]
  },
  {
   "cell_type": "code",
   "execution_count": null,
   "metadata": {},
   "outputs": [],
   "source": [
    "checks = {ticker: check_prices(all_signals[ticker], stock_df[ticker])\n",
    "          for ticker in stock_df.columns}\n",
    "pd.Series(checks)"
   ]
  },
  {
   "cell_type": "markdown",
   "metadata": {},
   "source": [
    "____\n",
    "### Cartera Histórica"
   ]
  },
  {
   "cell_type": "markdown",
   "metadata": {},
   "source": [
    "Elementos a considerar:\n",
    " - Un registro de cambios de posición (*delta_trades*)\n",
    " - Un registro de cambios de efectivo (*delta_cash*)\n",
    " - Las posiciones y la caja son la suma acumulada de los cambios\n",
    " - La valoraciones son las posiciones por el precio del día\n",
    " - Las inversiones son la suma de las valoraciones\n",
    " - El patrimonio de la estrategia son las inversiones más la caja\n",
    " \n",
    "Opcionalmente se podrían incluir los costes explícitos en el proceso iterativo de la cartera"
   ]
  },
  {
   "cell_type": "code",
   "execution_count": null,
   "metadata": {},
   "outputs": [],
   "source": [
    "init_capital = 100_000"
   ]
  },
  {
   "cell_type": "code",
   "execution_count": null,
   "metadata": {},
   "outputs": [],
   "source": [
    "delta_cash = pd.Series(0, index=stock_df.index)\n",
    "delta_cash.iloc[0] = init_capital\n",
    "delta_shares = pd.DataFrame(0, index=stock_df.index, columns=stock_df.columns)\n",
    "\n",
    "for idate, isignals in all_signals.iterrows():    \n",
    "    daybuys = isignals[isignals == 1]\n",
    "    daysells = isignals[isignals == -1]\n",
    "    \n",
    "    if daybuys.count() == 0 and daysells.count() == 0:\n",
    "        continue\n",
    "\n",
    "    # actualizar portfolio \n",
    "    cash = delta_cash.cumsum()\n",
    "    posiciones = delta_shares.cumsum()\n",
    "    valoracion = posiciones * stock_df\n",
    "    inversiones = valoracion.sum(axis=1)\n",
    "    equity = inversiones + cash\n",
    "    \n",
    "    day_cash = cash.loc[idate]\n",
    "    # limite de asignación a un 10% de la cartera\n",
    "    alloc_limit = equity.loc[idate] * 0.1\n",
    "\n",
    "    in_money, out_money = 0, 0\n",
    "    # compras\n",
    "    if daybuys.count() > 0:\n",
    "        tk_money = min(day_cash/daybuys.count(), alloc_limit)\n",
    "        buy_shares = np.floor(tk_money/stock_df.loc[idate, daybuys.index])\n",
    "        out_money = (buy_shares * stock_df.loc[idate, daybuys.index]).sum()\n",
    "        delta_shares.loc[idate, daybuys.index] = buy_shares\n",
    "\n",
    "    # ventas\n",
    "    if daysells.count() > 0:\n",
    "        sell_shares = posiciones.loc[idate, daysells.index]\n",
    "        in_money = (sell_shares * stock_df.loc[idate, daysells.index]).sum()\n",
    "        delta_shares.loc[idate, daysells.index] = -sell_shares\n",
    "\n",
    "    delta_cash.loc[idate] = in_money - out_money"
   ]
  },
  {
   "cell_type": "code",
   "execution_count": null,
   "metadata": {},
   "outputs": [],
   "source": [
    "# ultima actualizacion\n",
    "cash = delta_cash.cumsum()\n",
    "posiciones = delta_shares.cumsum()\n",
    "valoracion = posiciones * stock_df\n",
    "inversiones = valoracion.sum(axis=1)\n",
    "equity = inversiones + cash"
   ]
  },
  {
   "cell_type": "code",
   "execution_count": null,
   "metadata": {},
   "outputs": [],
   "source": [
    "show_df = pd.DataFrame({\n",
    "    'inversiones': inversiones,\n",
    "    'efectivo': cash,\n",
    "    'patrimonio': equity\n",
    "})\n",
    "show_df.plot(figsize=(10,6))"
   ]
  },
  {
   "cell_type": "code",
   "execution_count": null,
   "metadata": {},
   "outputs": [],
   "source": [
    "show_df.tail()"
   ]
  },
  {
   "cell_type": "code",
   "execution_count": null,
   "metadata": {},
   "outputs": [],
   "source": [
    "bm = benchmark.reindex(stock_df.index)\n",
    "pasive_invest = init_capital*(bm/bm.iloc[0])"
   ]
  },
  {
   "cell_type": "code",
   "execution_count": null,
   "metadata": {},
   "outputs": [],
   "source": [
    "compare_df = pd.DataFrame({\n",
    "    'SMA': equity,\n",
    "    'benchmark': pasive_invest\n",
    "})\n",
    "\n",
    "compare_df.plot(figsize=(10,6))"
   ]
  },
  {
   "cell_type": "markdown",
   "metadata": {},
   "source": [
    "**OJO**: Las estrategias de este estilo necesitan una ventana para construir sus primeras señales. A discreción tenemos que decidir.\n",
    " - Si la ventana inicial se considera o no para la comparación\n",
    " - Si construimos las señales a con precios fuera del punto de referencia para la inversión inicial"
   ]
  },
  {
   "cell_type": "markdown",
   "metadata": {},
   "source": [
    "____"
   ]
  },
  {
   "cell_type": "markdown",
   "metadata": {},
   "source": [
    "Verificamos ahora la el porcentaje de asignación de cada acción\n"
   ]
  },
  {
   "cell_type": "code",
   "execution_count": null,
   "metadata": {},
   "outputs": [],
   "source": [
    "allocations = valoracion.div(equity, axis=0)\n",
    "figs = allocations.plot(subplots=True, figsize=(10, 70))"
   ]
  },
  {
   "cell_type": "markdown",
   "metadata": {},
   "source": [
    "____\n",
    "### Ejercicio Propuesto (Opcional)\n",
    "- Comparar el benchmark con la alternativa de utilizar los **precios de apertura** como forma\n",
    "de adelantar la ejecución respecto a las señales de trading\n",
    "- Implementar un esquema de comisiones que incluya 2euros + 0.02% sobre el efectivo en las operaciones de venta\n"
   ]
  },
  {
   "cell_type": "code",
   "execution_count": null,
   "metadata": {},
   "outputs": [],
   "source": []
  }
 ],
 "metadata": {
  "kernelspec": {
   "display_name": "Python 3",
   "language": "python",
   "name": "python3"
  },
  "language_info": {
   "codemirror_mode": {
    "name": "ipython",
    "version": 3
   },
   "file_extension": ".py",
   "mimetype": "text/x-python",
   "name": "python",
   "nbconvert_exporter": "python",
   "pygments_lexer": "ipython3",
   "version": "3.8.3"
  }
 },
 "nbformat": 4,
 "nbformat_minor": 4
}
