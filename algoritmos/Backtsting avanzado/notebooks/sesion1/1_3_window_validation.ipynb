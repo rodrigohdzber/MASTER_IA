{
 "cells": [
  {
   "cell_type": "markdown",
   "metadata": {},
   "source": [
    "## Backtesting Sesion 1\n",
    "### Evaluación de Señales en Ventanas Deslizantes\n",
    "\n",
    "Este cuaderno muestra un ejemplo de como realizar una evaluación fuera de los datos de optimización, utilizando ventanas deslizantes.  Las ideas generales las podemos resumir en:\n",
    "- Escoger un conjunto de parámetros a partir de la exploración sobre un periodo de tiempo puede llevar a un sobre-ajuste de la estrategia\n",
    "- Una evaluación más realista consiste calcular el rendimiento en un periodo diferente al de optimización\n",
    "- Podemos simular un periodo continuo de evaluación concatenando ventanas deslizantes de entrenamiento/prueba \n"
   ]
  },
  {
   "cell_type": "code",
   "execution_count": null,
   "metadata": {},
   "outputs": [],
   "source": [
    "import numpy as np \n",
    "import pandas as pd\n",
    "import matplotlib.pyplot as plt\n",
    "import itertools"
   ]
  },
  {
   "cell_type": "markdown",
   "metadata": {},
   "source": [
    "____\n",
    "### Datos \n",
    "Snapshot de acciones del IBEX35"
   ]
  },
  {
   "cell_type": "code",
   "execution_count": null,
   "metadata": {},
   "outputs": [],
   "source": [
    "import pickle\n",
    "with open('../data/stock_data.pkl', 'rb') as handle:\n",
    "    stock_data = pickle.load(handle)"
   ]
  },
  {
   "cell_type": "markdown",
   "metadata": {},
   "source": [
    "Generamos un único dataframe con los precios de cierre"
   ]
  },
  {
   "cell_type": "code",
   "execution_count": null,
   "metadata": {},
   "outputs": [],
   "source": [
    "close_dict = {tk: df.close for tk,df in stock_data.items()}\n",
    "stock_close = pd.DataFrame(close_dict)\n",
    "stock_close.head()"
   ]
  },
  {
   "cell_type": "markdown",
   "metadata": {},
   "source": [
    "Trabajaremos primero con un solo valor, que podemos ir variando"
   ]
  },
  {
   "cell_type": "code",
   "execution_count": null,
   "metadata": {},
   "outputs": [],
   "source": [
    "ticker = 'TEF'\n",
    "stock_series = stock_close[ticker].dropna()"
   ]
  },
  {
   "cell_type": "code",
   "execution_count": null,
   "metadata": {},
   "outputs": [],
   "source": [
    "stock_series.plot()"
   ]
  },
  {
   "cell_type": "markdown",
   "metadata": {},
   "source": [
    "___"
   ]
  },
  {
   "cell_type": "code",
   "execution_count": null,
   "metadata": {},
   "outputs": [],
   "source": [
    "from stoosc import Sto # clase con las funciones del oscilador estocastico"
   ]
  },
  {
   "cell_type": "code",
   "execution_count": null,
   "metadata": {},
   "outputs": [],
   "source": [
    "Sto.backtest_so_returns(stock_series, win=25, obought=0.8, osold=0.2)"
   ]
  },
  {
   "cell_type": "markdown",
   "metadata": {},
   "source": [
    "Conjunto de parámetros para la exploración. (Igual que en cuaderno 1.1)"
   ]
  },
  {
   "cell_type": "code",
   "execution_count": null,
   "metadata": {},
   "outputs": [],
   "source": [
    "obought_params = [0.70, 0.80, 0.90]\n",
    "osold_params = [0.10, 0.20, 0.30]\n",
    "win_params = [20, 30, 50]\n",
    "combined_params = list(itertools.product(win_params, obought_params, osold_params))\n",
    "combined_params[:10]"
   ]
  },
  {
   "cell_type": "markdown",
   "metadata": {},
   "source": [
    "____\n",
    "### Función de Exploración \n",
    "Reutilizamos código de exploración para tener una función que dado un espacio de parámetros y una serie, nos devuelva\n",
    "la mejor rentabilidad obtenida, y la combinación que lo produce"
   ]
  },
  {
   "cell_type": "code",
   "execution_count": null,
   "metadata": {},
   "outputs": [],
   "source": [
    "?Sto.backtest_so_returns"
   ]
  },
  {
   "cell_type": "code",
   "execution_count": null,
   "metadata": {},
   "outputs": [],
   "source": [
    "def explore_sto_params(params_product, vseries):\n",
    "    result = {}\n",
    "    for iparams in params_product:\n",
    "        (w, b, s) = iparams\n",
    "        result[iparams] = Sto.backtest_so_returns(vseries, win=w, obought=b, osold=s)\n",
    "    rseries = pd.Series(result)\n",
    "    return rseries.idxmax(), rseries.max()"
   ]
  },
  {
   "cell_type": "code",
   "execution_count": null,
   "metadata": {},
   "outputs": [],
   "source": [
    "subserie = stock_series.loc[:'2005']\n",
    "subserie"
   ]
  },
  {
   "cell_type": "code",
   "execution_count": null,
   "metadata": {},
   "outputs": [],
   "source": [
    "explore_sto_params(combined_params, subserie)"
   ]
  },
  {
   "cell_type": "markdown",
   "metadata": {},
   "source": [
    "### Ventanas"
   ]
  },
  {
   "cell_type": "code",
   "execution_count": null,
   "metadata": {},
   "outputs": [],
   "source": [
    "years = list(np.arange(2003,2021))\n",
    "years"
   ]
  },
  {
   "cell_type": "markdown",
   "metadata": {},
   "source": [
    "___\n",
    "### Diseño Experimental\n",
    "- Utilizar 2 años para determinar la mejor combinación de parámetros\n",
    "- Utilizamos la mejor combinación en los 3 años posteriores para evaluar el rendimiento.\n",
    "\n",
    "Este enfoque más realista porque si tuvieramos que decidir **hoy** que parámetros elegir, \n",
    "podemos elegir la combinación del pasado, pero nuestro resultado real es el que conseguiríamos\n",
    "a partir de aquí en adelante"
   ]
  },
  {
   "cell_type": "code",
   "execution_count": null,
   "metadata": {},
   "outputs": [],
   "source": [
    "# Separacion en años\n",
    "for i in range(len(years) - 4):\n",
    "    print(years[i:i+2], years[i+2:i+5])"
   ]
  },
  {
   "cell_type": "markdown",
   "metadata": {},
   "source": [
    "___\n",
    "Agregamos el paso de exploración.  En cada iteración determinamos el mejor conjunto de parámetros"
   ]
  },
  {
   "cell_type": "code",
   "execution_count": null,
   "metadata": {},
   "outputs": [],
   "source": [
    "for i in range(len(years) - 4):\n",
    "    fityears = years[i:i+2]\n",
    "    fitseries = stock_series.loc[f'{fityears[0]}':f'{fityears[-1]}']\n",
    "    best_params, best_ret = explore_sto_params(combined_params, fitseries)\n",
    "    print(fityears, ':', best_params, np.round(best_ret,3))"
   ]
  },
  {
   "cell_type": "markdown",
   "metadata": {},
   "source": [
    "____\n",
    "incluimos la evaluación fuera de los años de ajuste"
   ]
  },
  {
   "cell_type": "code",
   "execution_count": null,
   "metadata": {},
   "outputs": [],
   "source": [
    "fit_rets = []\n",
    "test_rets = []\n",
    "for i in range(len(years) - 4):\n",
    "    fityears = years[i:i+2]\n",
    "    fitseries = stock_series.loc[f'{fityears[0]}':f'{fityears[-1]}']\n",
    "   \n",
    "    best_params, best_ret = explore_sto_params(combined_params, fitseries)\n",
    "    print(fityears, ':', best_params,np.round(best_ret,3))\n",
    "    fit_rets.append(best_ret)\n",
    "\n",
    "    # Ejecutamos la funcion del backtesting para calcular resultado con los parametros seleccionados\n",
    "    testyears = years[i+2:i+5]\n",
    "    testseries = stock_series.loc[f'{testyears[0]}':f'{testyears[-1]}']\n",
    "    \n",
    "    w, b, s = best_params\n",
    "    test_ret = Sto.backtest_so_returns(testseries, win=w, obought=b, osold=s)\n",
    "    print(\"--> Test:\", testyears, best_params, np.round(test_ret,3))\n",
    "    test_rets.append(test_ret)"
   ]
  },
  {
   "cell_type": "markdown",
   "metadata": {},
   "source": [
    "____"
   ]
  },
  {
   "cell_type": "markdown",
   "metadata": {},
   "source": [
    "juntamos rendimientos para visualización"
   ]
  },
  {
   "cell_type": "code",
   "execution_count": null,
   "metadata": {},
   "outputs": [],
   "source": [
    "df_rets = pd.DataFrame({\n",
    "    'fit': fit_rets,\n",
    "    'test': test_rets,\n",
    "})\n",
    "df_rets.plot()"
   ]
  },
  {
   "cell_type": "code",
   "execution_count": null,
   "metadata": {},
   "outputs": [],
   "source": [
    "df_rets.describe()"
   ]
  },
  {
   "cell_type": "markdown",
   "metadata": {},
   "source": [
    "### Observaciones \n",
    "- El resultado muestra que la selección del mejor conjunto de parámetros produce sobre-ajuste\n",
    "- El rendimiento esperado es el que corresponde al período de prueba"
   ]
  },
  {
   "cell_type": "markdown",
   "metadata": {},
   "source": [
    "___\n",
    "### Ejercicios Propuestos\n",
    "- Determinar si el tamaño de la ventana de entrenamiento influye en la diferencia de rendimiento entre fit y test. Sugerencia:\n",
    "  - Extender diseño experimental para incrementar años de ajuste de 1 a 4 (ver código más abajo)\n",
    "  - Guardar resultados por grupos de tamaño de ajuste\n",
    "\n",
    "- Confirmar conclusiones utilizando otra serie de precios"
   ]
  },
  {
   "cell_type": "code",
   "execution_count": null,
   "metadata": {},
   "outputs": [],
   "source": [
    "for yd in range(4):\n",
    "    for i in range(len(years) - 3 - yd):\n",
    "        print(years[i:i+1+yd], years[i+1+yd:i+4+yd])"
   ]
  },
  {
   "cell_type": "code",
   "execution_count": null,
   "metadata": {},
   "outputs": [],
   "source": []
  }
 ],
 "metadata": {
  "kernelspec": {
   "display_name": "Python 3",
   "language": "python",
   "name": "python3"
  },
  "language_info": {
   "codemirror_mode": {
    "name": "ipython",
    "version": 3
   },
   "file_extension": ".py",
   "mimetype": "text/x-python",
   "name": "python",
   "nbconvert_exporter": "python",
   "pygments_lexer": "ipython3",
   "version": "3.8.3"
  }
 },
 "nbformat": 4,
 "nbformat_minor": 4
}
