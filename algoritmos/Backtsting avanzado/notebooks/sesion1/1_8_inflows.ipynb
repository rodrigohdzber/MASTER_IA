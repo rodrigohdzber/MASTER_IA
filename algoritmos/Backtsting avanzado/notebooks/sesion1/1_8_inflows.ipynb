{
 "cells": [
  {
   "cell_type": "markdown",
   "metadata": {},
   "source": [
    "## Backtesting\n",
    "### Rendimiento de Carteras con Entradas y Salidas de Efectivo\n",
    "\n",
    "Este cuaderno muestra cómo realizar la evaluación de carteras de inversión abiertas,\n",
    "en las que pueden ocurrir entradas y salidas de capital invertido."
   ]
  },
  {
   "cell_type": "markdown",
   "metadata": {},
   "source": [
    "Aunque muchos de los algoritmos de trading se evaluan sobre un capital inicial,\n",
    "en la realidad las entradas y salidas de capital invertido es una situación \n",
    "muy habitual, por ejemplo como sucede con los fondos de inversión abiertos"
   ]
  },
  {
   "cell_type": "markdown",
   "metadata": {},
   "source": [
    "___"
   ]
  },
  {
   "cell_type": "code",
   "execution_count": null,
   "metadata": {},
   "outputs": [],
   "source": [
    "import pandas as pd\n",
    "import matplotlib.pyplot as plt"
   ]
  },
  {
   "cell_type": "markdown",
   "metadata": {},
   "source": [
    "____\n",
    "### Datos"
   ]
  },
  {
   "cell_type": "code",
   "execution_count": null,
   "metadata": {},
   "outputs": [],
   "source": [
    "ticker_list = ['BBVA','SAN','REP','TEF','IBE','FER','ITX','ACS','AMS','GRF']"
   ]
  },
  {
   "cell_type": "code",
   "execution_count": null,
   "metadata": {},
   "outputs": [],
   "source": [
    "import pickle\n",
    "with open('../data/stock_data.pkl', 'rb') as handle:\n",
    "    stock_data = pickle.load(handle)"
   ]
  },
  {
   "cell_type": "code",
   "execution_count": null,
   "metadata": {},
   "outputs": [],
   "source": [
    "close_series = {ticker: df.close\n",
    "                for ticker, df in stock_data.items()\n",
    "                if ticker in ticker_list\n",
    "               }\n",
    "stock_df = pd.DataFrame(close_series)\n",
    "stock_df = stock_df.loc['2016':]"
   ]
  },
  {
   "cell_type": "code",
   "execution_count": null,
   "metadata": {},
   "outputs": [],
   "source": [
    "stock_df.head()"
   ]
  },
  {
   "cell_type": "markdown",
   "metadata": {},
   "source": [
    "___"
   ]
  },
  {
   "cell_type": "markdown",
   "metadata": {},
   "source": [
    "### Rentabilidad Ponderada por Tiempo\n",
    "- En inglés *Time-Weighted Return* (TWR) \n",
    "- Es el estándar de la indusria para medir rendimiento cuando hay flujos de caja externos al capital invertido inicialmente\n",
    "- Equivale al rendimiento que tendría 1€ a lo largo de todo el periodo evaluado, independientemente del dinero que entra y sale"
   ]
  },
  {
   "cell_type": "markdown",
   "metadata": {},
   "source": [
    "#### Procedimiento de Calculo\n",
    "El principio básico es componer la rentabilidad de cada unidad de tiempo (ej. días). Sin embargo es suficiente\n",
    "subdividir en periodos en los que no haya flujos de caja externo. El procedimiento consiste en los siguientes pasos:\n",
    "1. Se subdivide el período analizado en subperiodos, haciendo un corte siempre que haya un flujo de caja\n",
    "2. Se calcula la rentabilidad de cada subperiodo considerando la valoración sobre el capital invertido en dicho subperiodo\n",
    "3. Componer la rentabilidad de cada subperiodo"
   ]
  },
  {
   "cell_type": "markdown",
   "metadata": {},
   "source": [
    "$$ \\rm{TWR} = \\prod_{i=1}^n (1 + HPR_i) - 1 $$"
   ]
  },
  {
   "cell_type": "markdown",
   "metadata": {},
   "source": [
    "donde\n",
    "- TWR: Time-weighted return\n",
    "- HPR_i: *Holding-period return*, la rentabilidad de cada sub-periodo $\\frac{P_f}{P_i} - 1$ "
   ]
  },
  {
   "cell_type": "markdown",
   "metadata": {},
   "source": [
    "____"
   ]
  },
  {
   "cell_type": "markdown",
   "metadata": {},
   "source": [
    "#### Ejemplo TWR\n",
    "\n",
    "- Iniciamos una cartera con 100mil euros a principios de año\n",
    "- El 1 de junio la cartera vale 105mil euros y recibimos una inversión adicional de 20mil\n",
    "- El 1 de agosto la cartera vale 95 y se sacan 35mil euros\n",
    "- El 31 de diciembre la cartera vale 90 mil."
   ]
  },
  {
   "cell_type": "markdown",
   "metadata": {},
   "source": [
    "Calculamos en miles. Tenemos 3 periodos:\n",
    "1. $\\rm{HPR_1} = \\frac{105 - 100}{100} = 0.05$  \n",
    "Para el siguiente periodo la inversión es $105+20=125$ \n",
    "\n",
    "2. $\\rm{HPR_2} = \\frac{95 - 125}{125} = -0,24$  \n",
    "Para el siguiente periodo la inversión es $95-35=60$\n",
    "\n",
    "3. $\\rm{HPR_3} = \\frac{90 - 60}{60} = 0.50$  \n"
   ]
  },
  {
   "cell_type": "markdown",
   "metadata": {},
   "source": [
    "La rentabilidad ponderada por tiempo es:\n",
    "\n",
    "$ \\rm{TWR} = (1.05)(0.76)(1.5) - 1 = 0.197 $"
   ]
  },
  {
   "cell_type": "markdown",
   "metadata": {},
   "source": [
    "____"
   ]
  },
  {
   "cell_type": "markdown",
   "metadata": {},
   "source": [
    "#### TWR con valoracion de participaciones\n",
    "Una forma equivalente de calcular el TWR es asumir que las inversiones corresponden a un **número participaciones** \n",
    "que deben tener los mismos beneficios a lo largo del tiempo. (Recordad que el TWR equivale a la rentabilidad de 1€ invertido con independencia de entradas y salidas).  Esto implica que entradas y salidas de capital corresponden con compras y ventas de participaciones al valor liquidativo del día del flujo de entrada/salida.\n",
    "\n",
    "Este es el mecanismo que utilizan los fondos de inversión abiertos.\n",
    "- Las entradas corresponden a suscripciones de nuevas participaciones\n",
    "- Las salidas corresponden a reembolsos de participaciones"
   ]
  },
  {
   "cell_type": "markdown",
   "metadata": {},
   "source": [
    "El procedimiento consiste en:\n",
    "1. Calcular el valor liquidativo de una participación. Esto es patrimonio entre número de participaciones\n",
    "2. Suscripciones y reembolsos se compran o venden a valor liquidativo\n",
    "3. La rentabilidad se calcula sobre el valor liquidativo"
   ]
  },
  {
   "cell_type": "markdown",
   "metadata": {},
   "source": [
    "___"
   ]
  },
  {
   "cell_type": "markdown",
   "metadata": {},
   "source": [
    "#### Ejemplo con valoración de participaciones"
   ]
  },
  {
   "cell_type": "markdown",
   "metadata": {},
   "source": [
    "Usamos el mismo escenario del ejemplo anterior y partimos de unas 1000 participaciones\n",
    "valoradas inicialmente a 100€. "
   ]
  },
  {
   "cell_type": "markdown",
   "metadata": {},
   "source": [
    "1. El 1 de junio la cartera vale 105mil euros y recibimos una inversión adicional de 20mil\n",
    "  - valor liquidativo $\\rm{VL} = \\frac{105000}{1000} = 105$\n",
    "  - suscripción de $\\frac{20000}{105} = 190.47619$ nuevas participaciones\n",
    "  - total de participaciones 1190.47619"
   ]
  },
  {
   "cell_type": "markdown",
   "metadata": {},
   "source": [
    "2. El 1 de agosto la cartera vale 95 y se sacan 35mil eurosm\n",
    "  - valor liquidativo $\\rm{VL} = \\frac{95000}{1190.47619} = 79.8$\n",
    "  - reembolso de $\\frac{35000}{79.8} = 438.59649$ participaciones\n",
    "  - total de participaciones $1190.47619 - 438.59649 = 751.8797$"
   ]
  },
  {
   "cell_type": "markdown",
   "metadata": {},
   "source": [
    "3. El 31 de diciembre la cartera vale 90 mil.\n",
    "  - valor liquidativo $\\rm{VL}= \\frac{90000}{751.8797} = 119.7$\n",
    "  - Rentabilidad de la cartera $ \\rm{TWR} = \\frac{119.7}{100} - 1 = 0.197$"
   ]
  },
  {
   "cell_type": "markdown",
   "metadata": {},
   "source": [
    "El resultado, tal como esperábamos es el mismo."
   ]
  },
  {
   "cell_type": "markdown",
   "metadata": {},
   "source": [
    "___"
   ]
  },
  {
   "cell_type": "code",
   "execution_count": null,
   "metadata": {},
   "outputs": [],
   "source": [
    "ticker = 'ACS'\n",
    "stock_series = stock_df[ticker]\n",
    "stock_series.plot()"
   ]
  },
  {
   "cell_type": "code",
   "execution_count": null,
   "metadata": {},
   "outputs": [],
   "source": [
    "# inversion inicial\n",
    "capital = 100_000"
   ]
  },
  {
   "cell_type": "code",
   "execution_count": null,
   "metadata": {},
   "outputs": [],
   "source": [
    "# valor liquidativo, inicial=100\n",
    "nav = pd.Series(100, index=stock_series.index)\n",
    "nav"
   ]
  },
  {
   "cell_type": "code",
   "execution_count": null,
   "metadata": {},
   "outputs": [],
   "source": [
    "# participaciones\n",
    "init_n_units = capital/nav.iloc[0]\n",
    "init_n_units"
   ]
  },
  {
   "cell_type": "code",
   "execution_count": null,
   "metadata": {},
   "outputs": [],
   "source": [
    "# registro de suscripciones y reembolsos\n",
    "inout_units = pd.Series(0, index=stock_series.index)\n",
    "inout_units.iloc[0] = init_n_units\n",
    "\n",
    "n_units = inout_shares.cumsum()\n",
    "n_units"
   ]
  },
  {
   "cell_type": "code",
   "execution_count": null,
   "metadata": {},
   "outputs": [],
   "source": [
    "# delta_cash = pd.Series(0, index=stock_df.index)\n",
    "delta_shares = pd.DataFrame(0, index=stock_df.index, columns=stock_df.columns)\n",
    "delta_shares[ticker].iloc[0] = capital/stock_series.iloc[0]\n",
    "delta_shares.head()"
   ]
  },
  {
   "cell_type": "code",
   "execution_count": null,
   "metadata": {},
   "outputs": [],
   "source": [
    "posiciones = delta_shares.cumsum()\n",
    "posiciones"
   ]
  },
  {
   "cell_type": "code",
   "execution_count": null,
   "metadata": {},
   "outputs": [],
   "source": [
    "asset_value = posiciones * stock_df\n",
    "asset_value"
   ]
  },
  {
   "cell_type": "code",
   "execution_count": null,
   "metadata": {},
   "outputs": [],
   "source": [
    "portvalue = asset_value.sum(axis=1)\n",
    "portvalue"
   ]
  },
  {
   "cell_type": "code",
   "execution_count": null,
   "metadata": {},
   "outputs": [],
   "source": [
    "nav = portvalue / n_units\n",
    "nav.head()"
   ]
  },
  {
   "cell_type": "markdown",
   "metadata": {},
   "source": [
    "dado que no tenemos ahora entradas y salidas de capital,\n",
    "la evolución del nav, coincide con la evolución del portfolio"
   ]
  },
  {
   "cell_type": "code",
   "execution_count": null,
   "metadata": {},
   "outputs": [],
   "source": [
    "fig, (ax1, ax2) = plt.subplots(1,2, figsize=(14,4))\n",
    "portvalue.plot(ax=ax1)\n",
    "nav.plot(ax=ax2)"
   ]
  },
  {
   "cell_type": "code",
   "execution_count": null,
   "metadata": {},
   "outputs": [],
   "source": [
    "# serie booleana a partir de convertir a fecha mensual \n",
    "# y luego ver las repeditas\n",
    "month_repeated = stock_series.index.to_period('m').duplicated()\n",
    "month_repeated "
   ]
  },
  {
   "cell_type": "code",
   "execution_count": null,
   "metadata": {},
   "outputs": [],
   "source": [
    "first_month_trade = stock_series[~month_repeated]\n",
    "first_month_trade.head()"
   ]
  },
  {
   "cell_type": "code",
   "execution_count": null,
   "metadata": {},
   "outputs": [],
   "source": [
    "cash_flows = pd.Series(0, index=stock_df.index)\n",
    "cash_flows.iloc[0] = -capital"
   ]
  },
  {
   "cell_type": "code",
   "execution_count": null,
   "metadata": {},
   "outputs": [],
   "source": [
    "regular_cash_in = 2000"
   ]
  },
  {
   "cell_type": "code",
   "execution_count": null,
   "metadata": {},
   "outputs": [],
   "source": [
    "for idate in first_month_trade.index[1:]:\n",
    "    # suscripciones. las nuevas participaciones las tendremos de aquí en adelante\n",
    "    new_units = regular_cash_in/nav.loc[idate]\n",
    "    inout_units.loc[idate] = new_units\n",
    "    n_units = inout_units.cumsum()\n",
    "    \n",
    "    # inversion del nuevo efectivo\n",
    "    delta_shares.loc[idate, ticker] = regular_cash_in/stock_series[idate]\n",
    "    \n",
    "    # recalculamos la cartera\n",
    "    posiciones = delta_shares.cumsum()\n",
    "    asset_value = posiciones * stock_df\n",
    "    portvalue = asset_value.sum(axis=1)\n",
    "    nav = portvalue / n_units\n",
    "    \n",
    "    # registramos el cashflow\n",
    "    cash_flows[idate] = -regular_cash_in    "
   ]
  },
  {
   "cell_type": "code",
   "execution_count": null,
   "metadata": {},
   "outputs": [],
   "source": [
    "n_units.plot()"
   ]
  },
  {
   "cell_type": "code",
   "execution_count": null,
   "metadata": {},
   "outputs": [],
   "source": [
    "portvalue"
   ]
  },
  {
   "cell_type": "code",
   "execution_count": null,
   "metadata": {},
   "outputs": [],
   "source": [
    "fig, (ax1, ax2) = plt.subplots(1,2, figsize=(14,4))\n",
    "portvalue.plot(ax=ax1)\n",
    "nav.plot(ax=ax2)"
   ]
  },
  {
   "cell_type": "code",
   "execution_count": null,
   "metadata": {},
   "outputs": [],
   "source": []
  }
 ],
 "metadata": {
  "kernelspec": {
   "display_name": "Python 3",
   "language": "python",
   "name": "python3"
  },
  "language_info": {
   "codemirror_mode": {
    "name": "ipython",
    "version": 3
   },
   "file_extension": ".py",
   "mimetype": "text/x-python",
   "name": "python",
   "nbconvert_exporter": "python",
   "pygments_lexer": "ipython3",
   "version": "3.8.3"
  }
 },
 "nbformat": 4,
 "nbformat_minor": 4
}
