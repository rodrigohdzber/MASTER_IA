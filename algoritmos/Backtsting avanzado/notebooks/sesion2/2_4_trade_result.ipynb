{
 "cells": [
  {
   "cell_type": "markdown",
   "metadata": {},
   "source": [
    "## Backtesting\n",
    "### Precio de Salida y Resultado de Órdenes de Trading\n",
    "En este cuaderno se muestra como calcular si una órden abierta se cierra\n",
    "con beneficio o pérdida según se establecen en el precio objetivo y el stop-loss\n"
   ]
  },
  {
   "cell_type": "code",
   "execution_count": null,
   "metadata": {},
   "outputs": [],
   "source": [
    "import pickle\n",
    "import numpy as np\n",
    "import pandas as pd\n",
    "import matplotlib.pyplot as plt\n",
    "import seaborn as sns"
   ]
  },
  {
   "cell_type": "code",
   "execution_count": null,
   "metadata": {},
   "outputs": [],
   "source": [
    "from mplfinance.original_flavor import candlestick2_ohlc\n",
    "import mplfinance as mpf"
   ]
  },
  {
   "cell_type": "markdown",
   "metadata": {},
   "source": [
    "_____\n",
    "### Datos "
   ]
  },
  {
   "cell_type": "code",
   "execution_count": null,
   "metadata": {},
   "outputs": [],
   "source": [
    "with open('../data/stock_data.pkl', 'rb') as handle:\n",
    "    stock_data = pickle.load(handle)"
   ]
  },
  {
   "cell_type": "code",
   "execution_count": null,
   "metadata": {},
   "outputs": [],
   "source": [
    "stock_df = stock_data['REE'].loc['2017':'2018']\n",
    "stock_df.head()"
   ]
  },
  {
   "cell_type": "markdown",
   "metadata": {},
   "source": [
    "_____"
   ]
  },
  {
   "cell_type": "markdown",
   "metadata": {},
   "source": [
    "A partir de una orden de compra, que esperamos por precio objetivo o por stop-loss, \n",
    "tenemos que calcular **cuál de esos precios se alcanza primero**.\n",
    "Si tenemos velas de precios a resolución aceptable, comparada con la amplitud de los precios objetivo y stop,  podemos considerar que:\n",
    "- El precio de ejecución corresponde al precio del evento que ocurre primero\n",
    "- Si tenemos una ventana temporal límite cerraríamos a precio final de la ventana"
   ]
  },
  {
   "cell_type": "code",
   "execution_count": null,
   "metadata": {},
   "outputs": [],
   "source": [
    "windata = stock_df.iloc[0:70]\n",
    "precio_objetivo = 14.75\n",
    "precio_loss = 13.75"
   ]
  },
  {
   "cell_type": "code",
   "execution_count": null,
   "metadata": {},
   "outputs": [],
   "source": [
    "fig, ax = plt.subplots(figsize=(8,4))\n",
    "ax.axhline(precio_objetivo, c='b')\n",
    "ax.axhline(precio_loss, c='m')\n",
    "mpf.plot(windata, ax=ax, type='candle', style='yahoo')"
   ]
  },
  {
   "cell_type": "code",
   "execution_count": null,
   "metadata": {},
   "outputs": [],
   "source": [
    "over_prices = windata.high >= precio_objetivo\n",
    "windata.high[over_prices]"
   ]
  },
  {
   "cell_type": "code",
   "execution_count": null,
   "metadata": {},
   "outputs": [],
   "source": [
    "under_prices = windata.low <= precio_loss\n",
    "windata.low[under_prices]"
   ]
  },
  {
   "cell_type": "markdown",
   "metadata": {},
   "source": [
    "Bastaría con determinar por un lado si hay algun precio por encima o por debajo \n",
    "y en caso de ocurrir, saber cuál de los dos eventos ocurre primero"
   ]
  },
  {
   "cell_type": "code",
   "execution_count": null,
   "metadata": {},
   "outputs": [],
   "source": [
    "def out_trade_bar(windata, p_target, p_loss):\n",
    "    \"\"\"Función que calcula para una ventana, la fecha y el precio de lo que ocurra primero.\n",
    "      - Que se llegue al precio objetivo\n",
    "      - Que se toque el precio stop\n",
    "      - Que finalice la ventana del trade y se cierre la posicón\n",
    "    \"\"\"\n",
    "    \n",
    "    # si no hay ejecución asumimos salida al final de la ventana\n",
    "    trade_date = windata.index[-1]\n",
    "    trade_price = windata.close.iloc[-1]\n",
    "    \n",
    "    over_prices = windata.high >= p_target\n",
    "    if over_prices.any():\n",
    "        trade_date = windata.high[over_prices].index[0]\n",
    "        trade_price = p_target\n",
    "\n",
    "    under_prices = windata.low <= p_loss\n",
    "    if under_prices.any() and windata.low[under_prices].index[0] < trade_date:\n",
    "        trade_date = windata.low[under_prices].index[0]\n",
    "        trade_price = p_loss\n",
    "\n",
    "    return trade_date, trade_price"
   ]
  },
  {
   "cell_type": "code",
   "execution_count": null,
   "metadata": {},
   "outputs": [],
   "source": [
    "out_trade_bar(windata, precio_objetivo, precio_loss)"
   ]
  },
  {
   "cell_type": "code",
   "execution_count": null,
   "metadata": {},
   "outputs": [],
   "source": [
    "out_trade_bar(windata, precio_objetivo, 13.00)"
   ]
  },
  {
   "cell_type": "code",
   "execution_count": null,
   "metadata": {},
   "outputs": [],
   "source": [
    "out_trade_bar(windata, 16.00, 13.00)"
   ]
  },
  {
   "cell_type": "markdown",
   "metadata": {},
   "source": [
    "___\n",
    "### Distribución de Resultados"
   ]
  },
  {
   "cell_type": "code",
   "execution_count": null,
   "metadata": {},
   "outputs": [],
   "source": [
    "win_size = 50\n"
   ]
  },
  {
   "cell_type": "code",
   "execution_count": null,
   "metadata": {},
   "outputs": [],
   "source": [
    "stock_df.index.get_loc('2017-01-26')"
   ]
  },
  {
   "cell_type": "code",
   "execution_count": null,
   "metadata": {},
   "outputs": [],
   "source": [
    "def trade_distribution(stock_df, target_ret, loss_ret, win_size):\n",
    "    results = {}\n",
    "    durations = {}\n",
    "\n",
    "    for idate in stock_df.index[:-(win_size+1)]:\n",
    "        idx = stock_df.index.get_loc(idate)\n",
    "        p_in = stock_df.close.loc[idate]\n",
    "        windata = stock_df.iloc[idx + 1: idx+ win_size + 1]\n",
    "\n",
    "        target = p_in * (1 + target_ret)\n",
    "        loss = p_in * (1 - loss_ret)\n",
    "\n",
    "        trade_date, p_out = out_trade_bar(windata, target, loss)\n",
    "        results[idate] = p_out/p_in - 1\n",
    "        durations[idate] = idx - stock_df.index.get_loc(trade_date)\n",
    "    return pd.Series(results), pd.Series(durations)"
   ]
  },
  {
   "cell_type": "code",
   "execution_count": null,
   "metadata": {},
   "outputs": [],
   "source": [
    "trade_rets, trade_durations = trade_distribution(stock_df=stock_df,\n",
    "                                                 target_ret = 0.06,\n",
    "                                                 loss_ret = 0.03,\n",
    "                                                 win_size=30)"
   ]
  },
  {
   "cell_type": "code",
   "execution_count": null,
   "metadata": {},
   "outputs": [],
   "source": [
    "print(trade_rets.mean())\n",
    "trade_rets.hist()"
   ]
  },
  {
   "cell_type": "markdown",
   "metadata": {},
   "source": [
    "___\n",
    "Exploramos la media de resultados sobre un espacio de parámetros"
   ]
  },
  {
   "cell_type": "code",
   "execution_count": null,
   "metadata": {},
   "outputs": [],
   "source": [
    "target_space = list(range(2, 15, 2))\n",
    "loss_space = list(range(2, 15, 2))\n",
    "win_size = 30\n",
    "res_matrix = pd.DataFrame(0, index=target_space, columns=loss_space)\n",
    "dur_matrix = pd.DataFrame(0, index=target_space, columns=loss_space)\n",
    "for itarget in target_space:\n",
    "    print(f'computing target {itarget}...')\n",
    "    for jloss in loss_space:\n",
    "        rets, durs = trade_distribution(stock_df=stock_df,\n",
    "                                        target_ret = itarget/100.0,\n",
    "                                        loss_ret = jloss/100.0,\n",
    "                                        win_size=win_size)\n",
    "        res_matrix.loc[itarget, jloss] = rets.mean()\n",
    "        dur_matrix.loc[itarget, jloss] = durs.mean()\n",
    "\n",
    "\n",
    "        "
   ]
  },
  {
   "cell_type": "code",
   "execution_count": null,
   "metadata": {},
   "outputs": [],
   "source": [
    "sns.heatmap(res_matrix.round(3), annot=True)"
   ]
  },
  {
   "cell_type": "code",
   "execution_count": null,
   "metadata": {},
   "outputs": [],
   "source": [
    "sns.heatmap(dur_matrix.round(3), annot=True)"
   ]
  },
  {
   "cell_type": "markdown",
   "metadata": {},
   "source": [
    "____\n",
    "### Observaciones Finales\n",
    "- Aquí hemos explorado el resultado sobre trades sobre todos los días posibles\n",
    "- Tiene sentido ver el cambio sobre una selección de días, por ejemplo a partir de nuestras señales de entrada"
   ]
  },
  {
   "cell_type": "code",
   "execution_count": null,
   "metadata": {},
   "outputs": [],
   "source": []
  }
 ],
 "metadata": {
  "kernelspec": {
   "display_name": "Python 3",
   "language": "python",
   "name": "python3"
  },
  "language_info": {
   "codemirror_mode": {
    "name": "ipython",
    "version": 3
   },
   "file_extension": ".py",
   "mimetype": "text/x-python",
   "name": "python",
   "nbconvert_exporter": "python",
   "pygments_lexer": "ipython3",
   "version": "3.8.3"
  }
 },
 "nbformat": 4,
 "nbformat_minor": 4
}
