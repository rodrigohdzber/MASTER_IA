{
 "cells": [
  {
   "cell_type": "markdown",
   "metadata": {},
   "source": [
    "## Backtesting \n",
    "### Evaluación con Datos de Ejecuciones (tick data)"
   ]
  },
  {
   "cell_type": "code",
   "execution_count": null,
   "metadata": {},
   "outputs": [],
   "source": [
    "import pickle\n",
    "import pandas as pd\n",
    "import matplotlib.pyplot as plt"
   ]
  },
  {
   "cell_type": "code",
   "execution_count": null,
   "metadata": {},
   "outputs": [],
   "source": [
    "with open('../data/COL_tick_data.pkl','rb') as f:\n",
    "    tick_df = pickle.load(f)"
   ]
  },
  {
   "cell_type": "code",
   "execution_count": null,
   "metadata": {},
   "outputs": [],
   "source": [
    "from mplfinance.original_flavor import candlestick2_ohlc\n",
    "import mplfinance as mpf"
   ]
  },
  {
   "cell_type": "code",
   "execution_count": null,
   "metadata": {},
   "outputs": [],
   "source": [
    "tick_df"
   ]
  },
  {
   "cell_type": "code",
   "execution_count": null,
   "metadata": {},
   "outputs": [],
   "source": [
    "open_price = tick_df.precio.resample('5min').first()\n",
    "open_price"
   ]
  },
  {
   "cell_type": "code",
   "execution_count": null,
   "metadata": {},
   "outputs": [],
   "source": [
    "open_price.plot()"
   ]
  },
  {
   "cell_type": "markdown",
   "metadata": {},
   "source": [
    "### Construcción de Velas \n",
    "Con la función resample podemos construir directamente la información OHLCV\n",
    "sobre la resolución que nos interese"
   ]
  },
  {
   "cell_type": "code",
   "execution_count": null,
   "metadata": {},
   "outputs": [],
   "source": [
    "tick_resolution = '5min'"
   ]
  },
  {
   "cell_type": "code",
   "execution_count": null,
   "metadata": {},
   "outputs": [],
   "source": [
    "open_price = tick_df.precio.resample(tick_resolution).first()\n",
    "close_price = tick_df.precio.resample(tick_resolution).last()\n",
    "max_price = tick_df.precio.resample(tick_resolution).max()\n",
    "min_price = tick_df.precio.resample(tick_resolution).min()\n",
    "vol_agg = tick_df.volumen.resample(tick_resolution).sum()\n",
    "bars = pd.concat([open_price, max_price, min_price, close_price, vol_agg], axis=1)\n",
    "bars.columns = ['open','high','low','close','vol']"
   ]
  },
  {
   "cell_type": "code",
   "execution_count": null,
   "metadata": {},
   "outputs": [],
   "source": [
    "bars"
   ]
  },
  {
   "cell_type": "code",
   "execution_count": null,
   "metadata": {},
   "outputs": [],
   "source": [
    "mpf.plot(bars, type='candle', style='yahoo')"
   ]
  },
  {
   "cell_type": "markdown",
   "metadata": {},
   "source": [
    "___"
   ]
  },
  {
   "cell_type": "markdown",
   "metadata": {},
   "source": [
    "### Volumen "
   ]
  },
  {
   "cell_type": "code",
   "execution_count": null,
   "metadata": {},
   "outputs": [],
   "source": [
    "def get_bars(tick_resolution):\n",
    "    open_price = tick_df.precio.resample(tick_resolution).first()\n",
    "    close_price = tick_df.precio.resample(tick_resolution).last()\n",
    "    max_price = tick_df.precio.resample(tick_resolution).max()\n",
    "    min_price = tick_df.precio.resample(tick_resolution).min()\n",
    "    vol_agg = tick_df.volumen.resample(tick_resolution).sum()\n",
    "    bars = pd.concat([open_price, max_price, min_price, close_price, vol_agg], axis=1)\n",
    "    bars.columns = ['open','high','low','close','vol']\n",
    "    return bars"
   ]
  },
  {
   "cell_type": "code",
   "execution_count": null,
   "metadata": {},
   "outputs": [],
   "source": [
    "bars2 = get_bars('30min')\n",
    "bars2.vol.plot.bar()"
   ]
  },
  {
   "cell_type": "markdown",
   "metadata": {},
   "source": [
    "### Estimación órdenes"
   ]
  },
  {
   "cell_type": "code",
   "execution_count": null,
   "metadata": {},
   "outputs": [],
   "source": [
    "order_datetime = '2018-01-03 15:00'"
   ]
  },
  {
   "cell_type": "code",
   "execution_count": null,
   "metadata": {},
   "outputs": [],
   "source": [
    "win_trade = tick_df.loc[order_datetime:]\n",
    "agg_vol = win_trade.volumen.cumsum()\n",
    "win_trade"
   ]
  },
  {
   "cell_type": "code",
   "execution_count": null,
   "metadata": {},
   "outputs": [],
   "source": [
    "agg_vol"
   ]
  },
  {
   "cell_type": "code",
   "execution_count": null,
   "metadata": {},
   "outputs": [],
   "source": [
    "def get_win_trade(tick_df, timestamp, order_size, vol_pct):\n",
    "    win_trade = tick_df.loc[order_datetime:].copy()\n",
    "    agg_vol = win_trade.volumen.cumsum()\n",
    "    frame = agg_vol <= order_size/vol_pct\n",
    "    return win_trade[frame]"
   ]
  },
  {
   "cell_type": "code",
   "execution_count": null,
   "metadata": {},
   "outputs": [],
   "source": [
    "hist_trades = get_win_trade(tick_df, order_datetime, 4_000, 0.2)\n",
    "hist_trades"
   ]
  },
  {
   "cell_type": "markdown",
   "metadata": {},
   "source": [
    "Un supuesto optimista es considerar que participamos del porcentaje establecido\n",
    "y que obtenemos un precio ponderado por volumen"
   ]
  },
  {
   "cell_type": "code",
   "execution_count": null,
   "metadata": {},
   "outputs": [],
   "source": [
    "vol_weight = hist_trades.volumen/hist_trades.volumen.sum()\n",
    "vol_weight"
   ]
  },
  {
   "cell_type": "code",
   "execution_count": null,
   "metadata": {},
   "outputs": [],
   "source": [
    "vwap = (hist_trades.precio * vol_weight).sum()\n",
    "vwap"
   ]
  },
  {
   "cell_type": "code",
   "execution_count": null,
   "metadata": {},
   "outputs": [],
   "source": []
  }
 ],
 "metadata": {
  "kernelspec": {
   "display_name": "Python 3",
   "language": "python",
   "name": "python3"
  },
  "language_info": {
   "codemirror_mode": {
    "name": "ipython",
    "version": 3
   },
   "file_extension": ".py",
   "mimetype": "text/x-python",
   "name": "python",
   "nbconvert_exporter": "python",
   "pygments_lexer": "ipython3",
   "version": "3.8.3"
  }
 },
 "nbformat": 4,
 "nbformat_minor": 4
}
