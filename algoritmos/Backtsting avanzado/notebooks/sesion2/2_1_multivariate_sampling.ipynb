{
 "cells": [
  {
   "cell_type": "markdown",
   "metadata": {},
   "source": [
    "## Backtesting\n",
    "### Datos Sintéticos\n",
    "En este cuaderno se presenta la generación de datos sintéticos de mercado con características similares a las vistas\n",
    "en las series reales. Entre los objetivos de disponer de datos sintéticos podemos destacar:\n",
    "- Poder simular escenarios más alla de la serie histórica de precios de la que disponemos\n",
    "- Realizar la parte de desarrollo de las estrategias de trading sin hacer simulaciones continuas sobre la serie histórica \n",
    "para disminuir el riesgo de caer en el sesgo de selección"
   ]
  },
  {
   "cell_type": "code",
   "execution_count": null,
   "metadata": {},
   "outputs": [],
   "source": [
    "import numpy as np\n",
    "import pandas as pd\n",
    "import matplotlib.pyplot as plt"
   ]
  },
  {
   "cell_type": "markdown",
   "metadata": {},
   "source": [
    "### Generación Aleatoria Multivariable\n",
    "Si generamos por separado variables aleatorias que siguen una distribución normal,\n",
    "estas serán independientes"
   ]
  },
  {
   "cell_type": "code",
   "execution_count": null,
   "metadata": {},
   "outputs": [],
   "source": [
    "x1 = np.random.randn(5000)\n",
    "x2 = np.random.randn(5000)"
   ]
  },
  {
   "cell_type": "code",
   "execution_count": null,
   "metadata": {},
   "outputs": [],
   "source": [
    "fig, ax = plt.subplots(figsize=(4,4))\n",
    "_ = ax.hist2d(x1, x2, bins=25)"
   ]
  },
  {
   "cell_type": "markdown",
   "metadata": {},
   "source": [
    "Una distribución normal multivariable está determinada por \n",
    "las medias de las variables y su matriz de covarianzas"
   ]
  },
  {
   "cell_type": "code",
   "execution_count": null,
   "metadata": {},
   "outputs": [],
   "source": [
    "scov = np.array([[1, 0.6],\n",
    "                 [0.6, 1]])\n",
    "scov"
   ]
  },
  {
   "cell_type": "code",
   "execution_count": null,
   "metadata": {},
   "outputs": [],
   "source": [
    "np.random.multivariate_normal([0, 0], scov, size=5)"
   ]
  },
  {
   "cell_type": "code",
   "execution_count": null,
   "metadata": {},
   "outputs": [],
   "source": [
    "rnd2d_samples = np.random.multivariate_normal([0, 0], scov, size=5000)"
   ]
  },
  {
   "cell_type": "code",
   "execution_count": null,
   "metadata": {},
   "outputs": [],
   "source": [
    "x1 = rnd2d_samples[:,0]\n",
    "x2 = rnd2d_samples[:,1]"
   ]
  },
  {
   "cell_type": "code",
   "execution_count": null,
   "metadata": {},
   "outputs": [],
   "source": [
    "fig, ax = plt.subplots(figsize=(4,4))\n",
    "_ = ax.hist2d(x1, x2, bins=25)"
   ]
  },
  {
   "cell_type": "markdown",
   "metadata": {},
   "source": [
    "___"
   ]
  },
  {
   "cell_type": "markdown",
   "metadata": {},
   "source": [
    "## Proceso aleatorio con deriva"
   ]
  },
  {
   "cell_type": "markdown",
   "metadata": {},
   "source": [
    "Si asumimos que una serie de precios la podemos modelar con un camino aleatorio con deriva, este quedaría\n",
    "expresado como \n",
    "\n",
    "$$P_t = \\alpha + Pt_{t-1} + \\epsilon$$\n",
    "\n",
    "donde:\n",
    "- $\\alpha$ estaría representando el cambio subyacente de precio justificado por los fundamentales\n",
    "- $\\epsilon$ es el término de error generado por el proceso estocástico y determinado por la volatilidad\n",
    "\n"
   ]
  },
  {
   "cell_type": "code",
   "execution_count": null,
   "metadata": {},
   "outputs": [],
   "source": [
    "def rndwalk_drift_series(p0, exp_ret, sigma, n):\n",
    "    log_prices = np.zeros(n)\n",
    "    log_prices[0] = np.log(p0)\n",
    "    \n",
    "    for i in range(1, n):\n",
    "        log_prices[i] = log_prices[i-1] + exp_ret + sigma*np.random.randn()\n",
    "    return np.exp(log_prices)    "
   ]
  },
  {
   "cell_type": "code",
   "execution_count": null,
   "metadata": {},
   "outputs": [],
   "source": [
    "rnd_stock = rndwalk_drift_series(10, 0.001, 0.06, 250)"
   ]
  },
  {
   "cell_type": "code",
   "execution_count": null,
   "metadata": {},
   "outputs": [],
   "source": [
    "plt.plot(rnd_stock)"
   ]
  },
  {
   "cell_type": "markdown",
   "metadata": {},
   "source": [
    "___"
   ]
  },
  {
   "cell_type": "markdown",
   "metadata": {},
   "source": [
    "### Datos"
   ]
  },
  {
   "cell_type": "code",
   "execution_count": null,
   "metadata": {},
   "outputs": [],
   "source": [
    "ticker_list = ['BBVA','SAN','REP','TEF','IBE','FER','ITX','ACS','AMS','GRF']"
   ]
  },
  {
   "cell_type": "code",
   "execution_count": null,
   "metadata": {},
   "outputs": [],
   "source": [
    "import pickle\n",
    "with open('../data/stock_data.pkl', 'rb') as handle:\n",
    "    stock_data = pickle.load(handle)"
   ]
  },
  {
   "cell_type": "code",
   "execution_count": null,
   "metadata": {},
   "outputs": [],
   "source": [
    "close_series = {ticker: df.close\n",
    "                for ticker, df in stock_data.items()\n",
    "                if ticker in ticker_list\n",
    "               }\n",
    "stock_df = pd.DataFrame(close_series)\n",
    "stock_df = stock_df.loc['2016':]"
   ]
  },
  {
   "cell_type": "markdown",
   "metadata": {},
   "source": [
    "___"
   ]
  },
  {
   "cell_type": "markdown",
   "metadata": {},
   "source": [
    "Hacemos la prueba de ver otros posibles caminos con propiedades similares"
   ]
  },
  {
   "cell_type": "code",
   "execution_count": null,
   "metadata": {},
   "outputs": [],
   "source": [
    "stock_price = stock_df['IBE']"
   ]
  },
  {
   "cell_type": "code",
   "execution_count": null,
   "metadata": {},
   "outputs": [],
   "source": [
    "stock_ret = np.log(stock_price).diff()\n",
    "ret_mean = stock_ret.mean()\n",
    "ret_std = stock_ret.std()\n",
    "ret_mean, ret_std"
   ]
  },
  {
   "cell_type": "code",
   "execution_count": null,
   "metadata": {},
   "outputs": [],
   "source": [
    "stock_real = stock_price[:250]"
   ]
  },
  {
   "cell_type": "code",
   "execution_count": null,
   "metadata": {},
   "outputs": [],
   "source": [
    "stock_paths = []\n",
    "for i in range(8):\n",
    "    rnd_path = rndwalk_drift_series(stock_real.iloc[0], ret_mean, ret_std, 250)\n",
    "    rnd_series = pd.Series(\n",
    "        rnd_path, \n",
    "        index=stock_real.index,\n",
    "        name=f'rnd{i}'\n",
    "    )\n",
    "    stock_paths.append(rnd_series)"
   ]
  },
  {
   "cell_type": "code",
   "execution_count": null,
   "metadata": {},
   "outputs": [],
   "source": [
    "rnd_df = pd.concat(stock_paths, axis=1)\n",
    "rnd_df.head()"
   ]
  },
  {
   "cell_type": "code",
   "execution_count": null,
   "metadata": {},
   "outputs": [],
   "source": [
    "rnd_df['stock'] = stock_real\n",
    "rnd_df.plot(figsize=(12, 4))"
   ]
  },
  {
   "cell_type": "code",
   "execution_count": null,
   "metadata": {},
   "outputs": [],
   "source": [
    "simu_rets = np.log(rnd_df).diff().dropna()\n",
    "simu_rets.describe()"
   ]
  },
  {
   "cell_type": "markdown",
   "metadata": {},
   "source": [
    "___"
   ]
  },
  {
   "cell_type": "markdown",
   "metadata": {},
   "source": [
    "### Generación Sintética de Escenarios Combinados\n",
    "En la realidad se ha visto que las expectativas de mercado cambian y la volatilidad no es constante.\n",
    "Para considerar estas propiedades vamos a muestrear las propiedades estadísticas de períodos históricos\n",
    "y a replicarlos por periodos arbitrarios dentro de los datos generados."
   ]
  },
  {
   "cell_type": "code",
   "execution_count": null,
   "metadata": {},
   "outputs": [],
   "source": [
    "def sample_market_rets(df, window):\n",
    "    n_all_days = df.shape[0]\n",
    "    available_size = n_all_days - window\n",
    "    start = np.random.randint(0, available_size)\n",
    "    \n",
    "    market_snapshot = df.iloc[start: start+window, :]\n",
    "    rets = np.log(market_snapshot).diff().dropna()\n",
    "    rets.reset_index(drop=True, inplace=True)\n",
    "    return rets"
   ]
  },
  {
   "cell_type": "code",
   "execution_count": null,
   "metadata": {},
   "outputs": [],
   "source": [
    "market_ret = sample_market_rets(stock_df, 60)\n",
    "market_ret.head()"
   ]
  },
  {
   "cell_type": "code",
   "execution_count": null,
   "metadata": {},
   "outputs": [],
   "source": [
    "market_ret.mean()"
   ]
  },
  {
   "cell_type": "code",
   "execution_count": null,
   "metadata": {},
   "outputs": [],
   "source": [
    "market_ret.corr().style.background_gradient()"
   ]
  },
  {
   "cell_type": "markdown",
   "metadata": {},
   "source": [
    "____\n",
    "Para la generación vamos a concatenar la réplica de los diferentes contextos de mercado. Los pasos serían\n",
    "  1. Muestrear e identificar los parámetros del contexto \n",
    "  2. Elegir de forma aleatoria durante cuánto tiempo se va reproducir ese contexto\n",
    "  3. Generar la distribución aleatoria multivariable de retornos\n",
    "  4. Transformar los retornos a precios desde el punto de partida deseado"
   ]
  },
  {
   "cell_type": "code",
   "execution_count": null,
   "metadata": {},
   "outputs": [],
   "source": [
    "n = 12\n",
    "win_sample = 75"
   ]
  },
  {
   "cell_type": "code",
   "execution_count": null,
   "metadata": {},
   "outputs": [],
   "source": [
    "ret_list = []\n",
    "for i in range(n):\n",
    "    # Paso 1\n",
    "    market_ret = sample_market_rets(stock_df, win_sample)\n",
    "    i_mean = market_ret.mean()\n",
    "    i_covmat = market_ret.cov()\n",
    "    \n",
    "    # Paso 2\n",
    "    fwd_win = np.random.randint(40,120)\n",
    "    \n",
    "    # Paso 3 \n",
    "    rnd_rets = np.random.multivariate_normal(i_mean, i_covmat, size=fwd_win)\n",
    "    rnd_rets_df = pd.DataFrame(rnd_rets, columns=stock_df.columns)\n",
    "    ret_list.append(rnd_rets_df)"
   ]
  },
  {
   "cell_type": "code",
   "execution_count": null,
   "metadata": {},
   "outputs": [],
   "source": [
    "all_rets = pd.concat(ret_list)\n",
    "all_rets.reset_index(inplace=True, drop=True)"
   ]
  },
  {
   "cell_type": "code",
   "execution_count": null,
   "metadata": {},
   "outputs": [],
   "source": [
    "all_rets.shape"
   ]
  },
  {
   "cell_type": "code",
   "execution_count": null,
   "metadata": {},
   "outputs": [],
   "source": [
    "all_rets.head()"
   ]
  },
  {
   "cell_type": "markdown",
   "metadata": {},
   "source": [
    "Pasamos de rendimientos a precios a partir del último precio de la serie real (Paso 4)"
   ]
  },
  {
   "cell_type": "code",
   "execution_count": null,
   "metadata": {},
   "outputs": [],
   "source": [
    "# Necesitamos un valor adicional que sera el precio inicial\n",
    "logprices = np.zeros((all_rets.shape[0]+1, all_rets.shape[1]))\n",
    "logprices[0] = np.log(stock_df.iloc[0])\n",
    "logprices[1:,:] = all_rets.values\n",
    "logprices = logprices.cumsum(axis=0)\n",
    "prices = pd.DataFrame(np.exp(logprices), columns=stock_df.columns)"
   ]
  },
  {
   "cell_type": "code",
   "execution_count": null,
   "metadata": {},
   "outputs": [],
   "source": [
    "prices"
   ]
  },
  {
   "cell_type": "markdown",
   "metadata": {},
   "source": [
    "____\n",
    "### Ejercicios Propuestos\n",
    "1. Generar al menos 4 años de datos sintéticos\n",
    "2. Elegir un ticker para comparar las distribución de rendimientos entre las series históricas y generadas.\n",
    "3. Ver la evolución histórica de series generadas de BBVA y SAN"
   ]
  },
  {
   "cell_type": "code",
   "execution_count": null,
   "metadata": {},
   "outputs": [],
   "source": []
  }
 ],
 "metadata": {
  "kernelspec": {
   "display_name": "Python 3",
   "language": "python",
   "name": "python3"
  },
  "language_info": {
   "codemirror_mode": {
    "name": "ipython",
    "version": 3
   },
   "file_extension": ".py",
   "mimetype": "text/x-python",
   "name": "python",
   "nbconvert_exporter": "python",
   "pygments_lexer": "ipython3",
   "version": "3.8.3"
  }
 },
 "nbformat": 4,
 "nbformat_minor": 4
}
