{
 "cells": [
  {
   "cell_type": "markdown",
   "metadata": {},
   "source": [
    "## Backtesting\n",
    "### Precio de Salida y Resultado de Órdenes de Trading\n",
    "En este cuaderno se muestra como calcular si una órden abierta se cierra\n",
    "con beneficio o pérdida según se establecen en el precio objetivo y el stop-loss\n"
   ]
  },
  {
   "cell_type": "code",
   "execution_count": 1,
   "metadata": {},
   "outputs": [],
   "source": [
    "import pickle\n",
    "import numpy as np\n",
    "import pandas as pd\n",
    "import matplotlib.pyplot as plt\n",
    "import seaborn as sns"
   ]
  },
  {
   "cell_type": "code",
   "execution_count": 2,
   "metadata": {},
   "outputs": [],
   "source": [
    "from mplfinance.original_flavor import candlestick2_ohlc\n",
    "import mplfinance as mpf"
   ]
  },
  {
   "cell_type": "markdown",
   "metadata": {},
   "source": [
    "_____\n",
    "### Datos "
   ]
  },
  {
   "cell_type": "code",
   "execution_count": 3,
   "metadata": {},
   "outputs": [],
   "source": [
    "with open('../data/stock_data.pkl', 'rb') as handle:\n",
    "    stock_data = pickle.load(handle)"
   ]
  },
  {
   "cell_type": "code",
   "execution_count": 4,
   "metadata": {},
   "outputs": [
    {
     "data": {
      "text/html": [
       "<div>\n",
       "<style scoped>\n",
       "    .dataframe tbody tr th:only-of-type {\n",
       "        vertical-align: middle;\n",
       "    }\n",
       "\n",
       "    .dataframe tbody tr th {\n",
       "        vertical-align: top;\n",
       "    }\n",
       "\n",
       "    .dataframe thead th {\n",
       "        text-align: right;\n",
       "    }\n",
       "</style>\n",
       "<table border=\"1\" class=\"dataframe\">\n",
       "  <thead>\n",
       "    <tr style=\"text-align: right;\">\n",
       "      <th></th>\n",
       "      <th>open</th>\n",
       "      <th>high</th>\n",
       "      <th>low</th>\n",
       "      <th>close</th>\n",
       "      <th>vol</th>\n",
       "    </tr>\n",
       "  </thead>\n",
       "  <tbody>\n",
       "    <tr>\n",
       "      <th>2017-01-02</th>\n",
       "      <td>14.545550</td>\n",
       "      <td>14.598296</td>\n",
       "      <td>14.525264</td>\n",
       "      <td>14.565837</td>\n",
       "      <td>604910</td>\n",
       "    </tr>\n",
       "    <tr>\n",
       "      <th>2017-01-03</th>\n",
       "      <td>14.646596</td>\n",
       "      <td>14.712387</td>\n",
       "      <td>14.358763</td>\n",
       "      <td>14.449225</td>\n",
       "      <td>1389947</td>\n",
       "    </tr>\n",
       "    <tr>\n",
       "      <th>2017-01-04</th>\n",
       "      <td>14.453337</td>\n",
       "      <td>14.473896</td>\n",
       "      <td>14.107937</td>\n",
       "      <td>14.144944</td>\n",
       "      <td>2580776</td>\n",
       "    </tr>\n",
       "    <tr>\n",
       "      <th>2017-01-05</th>\n",
       "      <td>14.103825</td>\n",
       "      <td>14.264189</td>\n",
       "      <td>14.025699</td>\n",
       "      <td>14.264189</td>\n",
       "      <td>1411916</td>\n",
       "    </tr>\n",
       "    <tr>\n",
       "      <th>2017-01-06</th>\n",
       "      <td>14.235406</td>\n",
       "      <td>14.334092</td>\n",
       "      <td>14.079154</td>\n",
       "      <td>14.144944</td>\n",
       "      <td>1014559</td>\n",
       "    </tr>\n",
       "  </tbody>\n",
       "</table>\n",
       "</div>"
      ],
      "text/plain": [
       "                 open       high        low      close      vol\n",
       "2017-01-02  14.545550  14.598296  14.525264  14.565837   604910\n",
       "2017-01-03  14.646596  14.712387  14.358763  14.449225  1389947\n",
       "2017-01-04  14.453337  14.473896  14.107937  14.144944  2580776\n",
       "2017-01-05  14.103825  14.264189  14.025699  14.264189  1411916\n",
       "2017-01-06  14.235406  14.334092  14.079154  14.144944  1014559"
      ]
     },
     "execution_count": 4,
     "metadata": {},
     "output_type": "execute_result"
    }
   ],
   "source": [
    "stock_df = stock_data['REE'].loc['2017':'2018']\n",
    "stock_df.head()"
   ]
  },
  {
   "cell_type": "markdown",
   "metadata": {},
   "source": [
    "_____"
   ]
  },
  {
   "cell_type": "markdown",
   "metadata": {},
   "source": [
    "A partir de una orden de compra, que esperamos por precio objetivo o por stop-loss, \n",
    "tenemos que calcular **cuál de esos precios se alcanza primero**.\n",
    "Si tenemos velas de precios a resolución aceptable, comparada con la amplitud de los precios objetivo y stop,  podemos considerar que:\n",
    "- El precio de ejecución corresponde al precio del evento que ocurre primero\n",
    "- Si tenemos una ventana temporal límite cerraríamos a precio final de la ventana"
   ]
  },
  {
   "cell_type": "code",
   "execution_count": 5,
   "metadata": {},
   "outputs": [],
   "source": [
    "windata = stock_df.iloc[0:70]\n",
    "precio_objetivo = 14.75\n",
    "precio_loss = 13.75"
   ]
  },
  {
   "cell_type": "code",
   "execution_count": 6,
   "metadata": {},
   "outputs": [
    {
     "data": {
      "image/png": "[encoded data removed]",
      "text/plain": [
       "<Figure size 576x288 with 1 Axes>"
      ]
     },
     "metadata": {
      "needs_background": "light"
     },
     "output_type": "display_data"
    }
   ],
   "source": [
    "fig, ax = plt.subplots(figsize=(8,4))\n",
    "ax.axhline(precio_objetivo, c='b')\n",
    "ax.axhline(precio_loss, c='m')\n",
    "mpf.plot(windata, ax=ax, type='candle', style='yahoo')"
   ]
  },
  {
   "cell_type": "code",
   "execution_count": 10,
   "metadata": {},
   "outputs": [],
   "source": [
    "over_prices = windata.high >= precio_objetivo\n"
   ]
  },
  {
   "cell_type": "code",
   "execution_count": 11,
   "metadata": {},
   "outputs": [
    {
     "data": {
      "text/plain": [
       "2017-03-31    14.848079\n",
       "2017-04-03    14.864527\n",
       "2017-04-04    14.848079\n",
       "2017-04-05    14.983772\n",
       "2017-04-06    15.275717\n",
       "2017-04-07    15.423746\n",
       "Name: high, dtype: float64"
      ]
     },
     "execution_count": 11,
     "metadata": {},
     "output_type": "execute_result"
    }
   ],
   "source": [
    "windata.high[over_prices]"
   ]
  },
  {
   "cell_type": "code",
   "execution_count": 12,
   "metadata": {},
   "outputs": [
    {
     "data": {
      "text/plain": [
       "2017-01-26    13.676187\n",
       "2017-01-27    13.680299\n",
       "2017-01-30    13.593949\n",
       "2017-01-31    13.495264\n",
       "2017-02-01    13.454144\n",
       "2017-02-02    13.429473\n",
       "2017-02-03    13.626844\n",
       "2017-02-06    13.626844\n",
       "2017-02-07    13.676187\n",
       "Name: low, dtype: float64"
      ]
     },
     "execution_count": 12,
     "metadata": {},
     "output_type": "execute_result"
    }
   ],
   "source": [
    "under_prices = windata.low <= precio_loss\n",
    "windata.low[under_prices]"
   ]
  },
  {
   "cell_type": "markdown",
   "metadata": {},
   "source": [
    "Bastaría con determinar por un lado si hay algun precio por encima o por debajo \n",
    "y en caso de ocurrir, saber cuál de los dos eventos ocurre primero"
   ]
  },
  {
   "cell_type": "code",
   "execution_count": 13,
   "metadata": {},
   "outputs": [],
   "source": [
    "def out_trade_bar(windata, p_target, p_loss):\n",
    "    \"\"\"Función que calcula para una ventana, la fecha y el precio de lo que ocurra primero.\n",
    "      - Que se llegue al precio objetivo\n",
    "      - Que se toque el precio stop\n",
    "      - Que finalice la ventana del trade y se cierre la posicón\n",
    "    \"\"\"\n",
    "    \n",
    "    # si no hay ejecución asumimos salida al final de la ventana\n",
    "    trade_date = windata.index[-1]\n",
    "    trade_price = windata.close.iloc[-1]\n",
    "    \n",
    "    over_prices = windata.high >= p_target\n",
    "    if over_prices.any():\n",
    "        trade_date = windata.high[over_prices].index[0]\n",
    "        trade_price = p_target\n",
    "\n",
    "    under_prices = windata.low <= p_loss\n",
    "    if under_prices.any() and windata.low[under_prices].index[0] < trade_date:\n",
    "        trade_date = windata.low[under_prices].index[0]\n",
    "        trade_price = p_loss\n",
    "\n",
    "    return trade_date, trade_price"
   ]
  },
  {
   "cell_type": "code",
   "execution_count": 14,
   "metadata": {},
   "outputs": [
    {
     "data": {
      "text/plain": [
       "(Timestamp('2017-01-26 00:00:00'), 13.75)"
      ]
     },
     "execution_count": 14,
     "metadata": {},
     "output_type": "execute_result"
    }
   ],
   "source": [
    "out_trade_bar(windata, precio_objetivo, precio_loss)"
   ]
  },
  {
   "cell_type": "code",
   "execution_count": 15,
   "metadata": {},
   "outputs": [
    {
     "data": {
      "text/plain": [
       "(Timestamp('2017-03-31 00:00:00'), 14.75)"
      ]
     },
     "execution_count": 15,
     "metadata": {},
     "output_type": "execute_result"
    }
   ],
   "source": [
    "out_trade_bar(windata, precio_objetivo, 13.00)"
   ]
  },
  {
   "cell_type": "code",
   "execution_count": 16,
   "metadata": {},
   "outputs": [
    {
     "data": {
      "text/plain": [
       "(Timestamp('2017-04-07 00:00:00'), 15.423745722)"
      ]
     },
     "execution_count": 16,
     "metadata": {},
     "output_type": "execute_result"
    }
   ],
   "source": [
    "out_trade_bar(windata, 16.00, 13.00)"
   ]
  },
  {
   "cell_type": "markdown",
   "metadata": {},
   "source": [
    "___\n",
    "### Distribución de Resultados"
   ]
  },
  {
   "cell_type": "code",
   "execution_count": 17,
   "metadata": {},
   "outputs": [],
   "source": [
    "win_size = 50"
   ]
  },
  {
   "cell_type": "code",
   "execution_count": 18,
   "metadata": {},
   "outputs": [
    {
     "data": {
      "text/plain": [
       "18"
      ]
     },
     "execution_count": 18,
     "metadata": {},
     "output_type": "execute_result"
    }
   ],
   "source": [
    "stock_df.index.get_loc('2017-01-26')"
   ]
  },
  {
   "cell_type": "code",
   "execution_count": 19,
   "metadata": {},
   "outputs": [],
   "source": [
    "def trade_distribution(stock_df, target_ret, loss_ret, win_size):\n",
    "    results = {}\n",
    "    durations = {}\n",
    "\n",
    "    for idate in stock_df.index[:-(win_size+1)]:\n",
    "        idx = stock_df.index.get_loc(idate)\n",
    "        p_in = stock_df.close.loc[idate]\n",
    "        windata = stock_df.iloc[idx + 1: idx+ win_size + 1]\n",
    "\n",
    "        target = p_in * (1 + target_ret)\n",
    "        loss = p_in * (1 - loss_ret)\n",
    "\n",
    "        trade_date, p_out = out_trade_bar(windata, target, loss)\n",
    "        results[idate] = p_out/p_in - 1\n",
    "        durations[idate] = stock_df.index.get_loc(trade_date) - idx\n",
    "    return pd.Series(results), pd.Series(durations)"
   ]
  },
  {
   "cell_type": "code",
   "execution_count": 20,
   "metadata": {},
   "outputs": [],
   "source": [
    "trade_rets, trade_durations = trade_distribution(stock_df=stock_df,\n",
    "                                                 target_ret = 0.06,\n",
    "                                                 loss_ret = 0.03,\n",
    "                                                 win_size=30)"
   ]
  },
  {
   "cell_type": "code",
   "execution_count": 21,
   "metadata": {},
   "outputs": [
    {
     "name": "stdout",
     "output_type": "stream",
     "text": [
      "0.010333603098832383\n"
     ]
    },
    {
     "data": {
      "text/plain": [
       "<matplotlib.axes._subplots.AxesSubplot at 0x1a9827e36d0>"
      ]
     },
     "execution_count": 21,
     "metadata": {},
     "output_type": "execute_result"
    },
    {
     "data": {
      "image/png": "[encoded data removed]",
      "text/plain": [
       "<Figure size 432x288 with 1 Axes>"
      ]
     },
     "metadata": {
      "needs_background": "light"
     },
     "output_type": "display_data"
    }
   ],
   "source": [
    "print(trade_rets.mean())\n",
    "trade_rets.hist()"
   ]
  },
  {
   "cell_type": "code",
   "execution_count": 22,
   "metadata": {},
   "outputs": [
    {
     "data": {
      "text/plain": [
       "count    479.000000\n",
       "mean      17.093946\n",
       "std        9.923217\n",
       "min        1.000000\n",
       "25%        8.000000\n",
       "50%       16.000000\n",
       "75%       30.000000\n",
       "max       30.000000\n",
       "dtype: float64"
      ]
     },
     "execution_count": 22,
     "metadata": {},
     "output_type": "execute_result"
    }
   ],
   "source": [
    "trade_durations.describe()"
   ]
  },
  {
   "cell_type": "code",
   "execution_count": 23,
   "metadata": {},
   "outputs": [
    {
     "data": {
      "text/plain": [
       "<matplotlib.axes._subplots.AxesSubplot at 0x1a98247d820>"
      ]
     },
     "execution_count": 23,
     "metadata": {},
     "output_type": "execute_result"
    },
    {
     "data": {
      "image/png": "[encoded data removed]",
      "text/plain": [
       "<Figure size 432x288 with 1 Axes>"
      ]
     },
     "metadata": {
      "needs_background": "light"
     },
     "output_type": "display_data"
    }
   ],
   "source": [
    "trade_durations.hist()"
   ]
  },
  {
   "cell_type": "markdown",
   "metadata": {},
   "source": [
    "___\n",
    "Exploramos la media de resultados sobre un espacio de parámetros"
   ]
  },
  {
   "cell_type": "code",
   "execution_count": 24,
   "metadata": {},
   "outputs": [
    {
     "name": "stdout",
     "output_type": "stream",
     "text": [
      "computing target 2...\n",
      "computing target 4...\n",
      "computing target 6...\n",
      "computing target 8...\n",
      "computing target 10...\n",
      "computing target 12...\n",
      "computing target 14...\n"
     ]
    }
   ],
   "source": [
    "target_space = list(range(2, 15, 2))\n",
    "loss_space = list(range(2, 15, 2))\n",
    "win_size = 30\n",
    "res_matrix = pd.DataFrame(0, index=target_space, columns=loss_space)\n",
    "dur_matrix = pd.DataFrame(0, index=target_space, columns=loss_space)\n",
    "for itarget in target_space:\n",
    "    print(f'computing target {itarget}...')\n",
    "    for jloss in loss_space:\n",
    "        rets, durs = trade_distribution(stock_df=stock_df,\n",
    "                                        target_ret = itarget/100.0,\n",
    "                                        loss_ret = jloss/100.0,\n",
    "                                        win_size=win_size)\n",
    "        res_matrix.loc[itarget, jloss] = rets.mean()\n",
    "        dur_matrix.loc[itarget, jloss] = durs.mean()\n",
    "\n",
    "\n",
    "        "
   ]
  },
  {
   "cell_type": "code",
   "execution_count": 26,
   "metadata": {},
   "outputs": [
    {
     "data": {
      "text/plain": [
       "<matplotlib.axes._subplots.AxesSubplot at 0x1a9fff29bb0>"
      ]
     },
     "execution_count": 26,
     "metadata": {},
     "output_type": "execute_result"
    },
    {
     "data": {
      "image/png": "[encoded data removed]",
      "text/plain": [
       "<Figure size 432x288 with 2 Axes>"
      ]
     },
     "metadata": {
      "needs_background": "light"
     },
     "output_type": "display_data"
    }
   ],
   "source": [
    "sns.heatmap(res_matrix.round(3), annot=True)"
   ]
  },
  {
   "cell_type": "code",
   "execution_count": 25,
   "metadata": {},
   "outputs": [
    {
     "data": {
      "text/plain": [
       "<matplotlib.axes._subplots.AxesSubplot at 0x1a9ffe20ee0>"
      ]
     },
     "execution_count": 25,
     "metadata": {},
     "output_type": "execute_result"
    },
    {
     "data": {
      "image/png": "[encoded data removed]",
      "text/plain": [
       "<Figure size 432x288 with 2 Axes>"
      ]
     },
     "metadata": {
      "needs_background": "light"
     },
     "output_type": "display_data"
    }
   ],
   "source": [
    "sns.heatmap(dur_matrix.round(3), annot=True)"
   ]
  },
  {
   "cell_type": "markdown",
   "metadata": {},
   "source": [
    "____\n",
    "### Observaciones Finales\n",
    "- Aquí hemos explorado el resultado sobre trades sobre todos los días posibles\n",
    "- Tiene sentido ver el cambio sobre una selección de días, por ejemplo a partir de nuestras señales de entrada"
   ]
  },
  {
   "cell_type": "code",
   "execution_count": null,
   "metadata": {},
   "outputs": [],
   "source": []
  }
 ],
 "metadata": {
  "kernelspec": {
   "display_name": "Python 3",
   "language": "python",
   "name": "python3"
  },
  "language_info": {
   "codemirror_mode": {
    "name": "ipython",
    "version": 3
   },
   "file_extension": ".py",
   "mimetype": "text/x-python",
   "name": "python",
   "nbconvert_exporter": "python",
   "pygments_lexer": "ipython3",
   "version": "3.8.3"
  }
 },
 "nbformat": 4,
 "nbformat_minor": 4
}
