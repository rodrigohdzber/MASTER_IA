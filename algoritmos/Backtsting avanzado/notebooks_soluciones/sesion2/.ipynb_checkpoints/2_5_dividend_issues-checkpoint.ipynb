{
 "cells": [
  {
   "cell_type": "markdown",
   "metadata": {},
   "source": [
    "## Backtesting\n",
    "### Consideraciones sobre los dividendos\n",
    "\n",
    "En este cuaderno se presentan las consideraciones que deberíamos tener presente, por un lado a la hora de interpretar resultados de simulaciones que incorporan directamente la re-inversión de dividendos y por otro lado la implementación de una estrategia de trading real que use series no ajustadas"
   ]
  },
  {
   "cell_type": "markdown",
   "metadata": {},
   "source": [
    "___"
   ]
  },
  {
   "cell_type": "code",
   "execution_count": null,
   "metadata": {},
   "outputs": [],
   "source": [
    "import numpy as np\n",
    "import pandas as pd\n",
    "import matplotlib.pyplot as plt"
   ]
  },
  {
   "cell_type": "markdown",
   "metadata": {},
   "source": [
    "### Datos\n",
    "Tenemos la series de precios ajustada y no ajustada de la acción de ENAGAS.\n",
    "Esta empresa reparte de forma regular 2 dividendos al año que podemos utilizar\n",
    "para ver las diferencias respecto a una simulación auto-contenida en la serie\n",
    "ajustada o una simulación real que acumula y reinvierte los dividendos.\n",
    "\n",
    "Para más detalles ver info en la [web de la empresa](https://www.enagas.es/enagas/es/AccionistasEInversores/InformacionGeneral/Dividendos)"
   ]
  },
  {
   "cell_type": "code",
   "execution_count": null,
   "metadata": {},
   "outputs": [],
   "source": [
    "stock_prices = pd.read_csv(\n",
    "    '../data/ENG_prices.csv', \n",
    "    index_col=0,\n",
    "    parse_dates=True)"
   ]
  },
  {
   "cell_type": "code",
   "execution_count": null,
   "metadata": {},
   "outputs": [],
   "source": [
    "stock_prices"
   ]
  },
  {
   "cell_type": "markdown",
   "metadata": {},
   "source": [
    "Dividendos de ENAGAS"
   ]
  },
  {
   "cell_type": "code",
   "execution_count": null,
   "metadata": {},
   "outputs": [],
   "source": [
    "stock_divs = pd.read_csv('../data/ENG_dividends.csv', parse_dates=[0,1])\n",
    "stock_divs"
   ]
  },
  {
   "cell_type": "markdown",
   "metadata": {},
   "source": [
    "____"
   ]
  },
  {
   "cell_type": "markdown",
   "metadata": {},
   "source": [
    "Comparación de serie ajustada y no ajustada"
   ]
  },
  {
   "cell_type": "code",
   "execution_count": null,
   "metadata": {},
   "outputs": [],
   "source": [
    "fig, ax = plt.subplots(figsize=(12,4))\n",
    "stock_prices.plot(ax=ax)"
   ]
  },
  {
   "cell_type": "markdown",
   "metadata": {},
   "source": [
    "___\n",
    "Obervamos que la fecha de pago es entre 2 y 4 sesiones posteriores a la fecha ex-dividendo. Aquí tenemos que considerar que:\n",
    " - Desde el punto de vista teórico, la serie ajustada puede reproducirse asumiendo el pequeños coste de financiar la compra el día del ex-dividendo. Esto es por ejemplo.\n",
    "    - El día ex-dividendo se pide prestado el importe que recibirá el día de pago y se compran las acciones que se puedan a precio de ese día \n",
    "    - El día de pago se cobra el dividendo y se devuelve el prestamo\n",
    " - Desde un punto de vista práctico,  esto no es ejecutable sin una cuenta margen, por lo que tenemos que responder a la pregunta ¿**Cuánto coste implicito representa reinvertir los dividendo el día de pago**? "
   ]
  },
  {
   "cell_type": "markdown",
   "metadata": {},
   "source": [
    "___"
   ]
  },
  {
   "cell_type": "markdown",
   "metadata": {},
   "source": [
    "- Hacemos la simulación de invertir inicialmente 100mil euros.\n",
    "- Permitiremos invertir en fracciones de acciones para solo simular el efecto de comprar a precio distinto del ex-date"
   ]
  },
  {
   "cell_type": "code",
   "execution_count": null,
   "metadata": {},
   "outputs": [],
   "source": [
    "capital = 100_000"
   ]
  },
  {
   "cell_type": "code",
   "execution_count": null,
   "metadata": {},
   "outputs": [],
   "source": [
    "delta_shares = pd.Series(np.zeros(stock_prices.shape[0]), index=stock_prices.index)\n",
    "init_shares  = capital/stock_prices.real.iloc[0]\n",
    "delta_shares.iloc[0] = init_shares"
   ]
  },
  {
   "cell_type": "code",
   "execution_count": null,
   "metadata": {},
   "outputs": [],
   "source": [
    "positions = delta_shares.cumsum()\n",
    "positions.head()"
   ]
  },
  {
   "cell_type": "code",
   "execution_count": null,
   "metadata": {},
   "outputs": [],
   "source": [
    "portvalue = positions * stock_prices.real"
   ]
  },
  {
   "cell_type": "code",
   "execution_count": null,
   "metadata": {},
   "outputs": [],
   "source": [
    "portvalue.plot()"
   ]
  },
  {
   "cell_type": "code",
   "execution_count": null,
   "metadata": {},
   "outputs": [],
   "source": [
    "delta_shares = pd.Series(np.zeros(stock_prices.shape[0]), index=stock_prices.index)\n",
    "init_shares  = capital/stock_prices.real.iloc[0]\n",
    "delta_shares.iloc[0] = init_shares\n",
    "positions = delta_shares.cumsum()\n",
    "\n",
    "for i, div_row in stock_divs.iterrows():\n",
    "    pay_date = div_row['payment_date']\n",
    "    ex_date = div_row['exdividend']\n",
    "    curr_shares = positions.loc[ex_date]\n",
    "    cash_div = curr_shares * div_row['dividend']\n",
    "    \n",
    "    new_shares = cash_div/stock_prices.real[pay_date]\n",
    "    deserve_shares = cash_div/stock_prices.real[ex_date]\n",
    "    delta_shares.loc[pay_date] = new_shares\n",
    "    positions = delta_shares.cumsum()\n",
    "    print(np.round(curr_shares, 2), cash_div, np.round(new_shares,2), np.round(deserve_shares, 2))"
   ]
  },
  {
   "cell_type": "code",
   "execution_count": null,
   "metadata": {},
   "outputs": [],
   "source": [
    "delta_shares[delta_shares != 0]"
   ]
  },
  {
   "cell_type": "code",
   "execution_count": null,
   "metadata": {},
   "outputs": [],
   "source": [
    "delta_shares.plot()"
   ]
  },
  {
   "cell_type": "code",
   "execution_count": null,
   "metadata": {},
   "outputs": [],
   "source": [
    "portvalue = positions * stock_prices.real\n",
    "portvalue.plot()"
   ]
  },
  {
   "cell_type": "code",
   "execution_count": null,
   "metadata": {},
   "outputs": [],
   "source": [
    "relative_port = portvalue/portvalue.iloc[0]\n",
    "relative_adjusted = stock_prices.adjusted/stock_prices.adjusted.iloc[0]"
   ]
  },
  {
   "cell_type": "code",
   "execution_count": null,
   "metadata": {},
   "outputs": [],
   "source": [
    "relative_adjusted"
   ]
  },
  {
   "cell_type": "code",
   "execution_count": null,
   "metadata": {},
   "outputs": [],
   "source": [
    "df_compare = pd.concat([relative_port, relative_adjusted], axis=1)\n",
    "df_compare.columns = ['real_reinvest','adjusted']\n",
    "df_compare.plot(figsize=(14,5))"
   ]
  },
  {
   "cell_type": "code",
   "execution_count": null,
   "metadata": {},
   "outputs": [],
   "source": [
    "df_compare.loc['2018-06-28':'2018-07-10'].plot(figsize=(14,5))"
   ]
  },
  {
   "cell_type": "code",
   "execution_count": null,
   "metadata": {},
   "outputs": [],
   "source": [
    "df_compare.tail()"
   ]
  },
  {
   "cell_type": "code",
   "execution_count": null,
   "metadata": {},
   "outputs": [],
   "source": []
  }
 ],
 "metadata": {
  "kernelspec": {
   "display_name": "Python 3",
   "language": "python",
   "name": "python3"
  },
  "language_info": {
   "codemirror_mode": {
    "name": "ipython",
    "version": 3
   },
   "file_extension": ".py",
   "mimetype": "text/x-python",
   "name": "python",
   "nbconvert_exporter": "python",
   "pygments_lexer": "ipython3",
   "version": "3.8.3"
  }
 },
 "nbformat": 4,
 "nbformat_minor": 4
}
