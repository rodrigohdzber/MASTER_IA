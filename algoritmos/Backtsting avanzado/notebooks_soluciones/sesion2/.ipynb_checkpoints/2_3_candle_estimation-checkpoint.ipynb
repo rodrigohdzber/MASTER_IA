{
 "cells": [
  {
   "cell_type": "markdown",
   "metadata": {},
   "source": [
    "## Backtesting\n",
    "### Estimación de Eventos en Velas de Precios\n",
    "En este cuaderno estudiamos la ocurrencia del máximo y el mínimo en una vela de precios a partir de datos de menor resolución. Las características determinadas en este estudio nos pueden valer como estimación de la ocurrencia de dichos eventos cuando tenemos que\n",
    "hacer suposiciones para simular órdenes limitadas "
   ]
  },
  {
   "cell_type": "code",
   "execution_count": null,
   "metadata": {},
   "outputs": [],
   "source": [
    "import pickle\n",
    "import pandas as pd\n",
    "import matplotlib.pyplot as plt"
   ]
  },
  {
   "cell_type": "code",
   "execution_count": null,
   "metadata": {},
   "outputs": [],
   "source": [
    "from mplfinance.original_flavor import candlestick2_ohlc\n",
    "import mplfinance as mpf"
   ]
  },
  {
   "cell_type": "code",
   "execution_count": null,
   "metadata": {},
   "outputs": [],
   "source": [
    "with open('../data/stock_data.pkl', 'rb') as handle:\n",
    "    stock_data = pickle.load(handle)"
   ]
  },
  {
   "cell_type": "code",
   "execution_count": null,
   "metadata": {},
   "outputs": [],
   "source": [
    "ticker = 'REE'"
   ]
  },
  {
   "cell_type": "code",
   "execution_count": null,
   "metadata": {},
   "outputs": [],
   "source": [
    "stock_df = stock_data['REE'].loc['2010':]\n",
    "stock_df.head()"
   ]
  },
  {
   "cell_type": "markdown",
   "metadata": {},
   "source": [
    "Hacemos un muestreo sobre la serie original para construir los datos OHLC en velas \n",
    "mensuales.  Estas velas mensuales las utilizaremos para caracterizar la ocurrencia \n",
    "de máximos y mínimos"
   ]
  },
  {
   "cell_type": "code",
   "execution_count": null,
   "metadata": {},
   "outputs": [],
   "source": [
    "open_m = stock_df.open.resample('1M').first()\n",
    "close_m = stock_df.close.resample('1M').last()\n",
    "high_m = stock_df.high.resample('1M').max()\n",
    "low_m = stock_df.low.resample('1M').min()"
   ]
  },
  {
   "cell_type": "code",
   "execution_count": null,
   "metadata": {},
   "outputs": [],
   "source": [
    "close_m.head()"
   ]
  },
  {
   "cell_type": "code",
   "execution_count": null,
   "metadata": {},
   "outputs": [],
   "source": [
    "stock_month_df = pd.concat([open_m, high_m, low_m, close_m], axis=1)\n",
    "stock_month_df.head()"
   ]
  },
  {
   "cell_type": "markdown",
   "metadata": {},
   "source": [
    "____\n",
    "Visualizamos las velas a diferente resolución"
   ]
  },
  {
   "cell_type": "code",
   "execution_count": null,
   "metadata": {},
   "outputs": [],
   "source": [
    "view_df = stock_df.loc['2018':'2019']\n",
    "view_m_df = stock_month_df.loc['2018':'2019']\n",
    "\n",
    "fig, (ax1, ax2) = plt.subplots(1, 2, figsize=(18,9))\n",
    "mpf.plot(view_df, ax=ax1, type='candle', style='yahoo')\n",
    "mpf.plot(view_m_df, ax=ax2, type='candle', style='yahoo')"
   ]
  },
  {
   "cell_type": "markdown",
   "metadata": {},
   "source": [
    "____\n",
    "Si vemos la primera vela mensual. ¿**Podemos determinar qué ocurre primero con datos de menor resolución**?"
   ]
  },
  {
   "cell_type": "code",
   "execution_count": null,
   "metadata": {},
   "outputs": [],
   "source": [
    "windata = view_df.loc[:'2018-01']"
   ]
  },
  {
   "cell_type": "code",
   "execution_count": null,
   "metadata": {},
   "outputs": [],
   "source": [
    "fig, ax = plt.subplots(figsize=(8,4))\n",
    "ax.axhline(windata.high.max(), c='b')\n",
    "ax.axhline(windata.low.min(), c='m')\n",
    "mpf.plot(windata, ax=ax, type='candle', style='yahoo')"
   ]
  },
  {
   "cell_type": "code",
   "execution_count": null,
   "metadata": {},
   "outputs": [],
   "source": [
    "windata.high.max(), windata.high.idxmax()"
   ]
  },
  {
   "cell_type": "code",
   "execution_count": null,
   "metadata": {},
   "outputs": [],
   "source": [
    "windata.low.min(), windata.low.idxmin()"
   ]
  },
  {
   "cell_type": "markdown",
   "metadata": {},
   "source": [
    "Para una ventana, bastaría determinar cual de los índices ocurre primero"
   ]
  },
  {
   "cell_type": "markdown",
   "metadata": {},
   "source": [
    "___"
   ]
  },
  {
   "cell_type": "code",
   "execution_count": null,
   "metadata": {},
   "outputs": [],
   "source": [
    "def high_before_low(vseries):\n",
    "    \"\"\" Funcion que \"\"\"\n",
    "    return vseries.idxmax() < vseries.idxmin()"
   ]
  },
  {
   "cell_type": "code",
   "execution_count": null,
   "metadata": {},
   "outputs": [],
   "source": [
    "stock_df.resample('1M').apply(high_before_low)"
   ]
  },
  {
   "cell_type": "code",
   "execution_count": null,
   "metadata": {},
   "outputs": [],
   "source": [
    "month_high_before_low = stock_df.resample('1M').apply(high_before_low)['close']\n",
    "month_high_before_low"
   ]
  },
  {
   "cell_type": "markdown",
   "metadata": {},
   "source": [
    "____\n",
    "Si no supieramos la realidad y solo tendríamos la vela mensual, podríamos estimar \n",
    "la frecuencia de ocurrencia de los eventos tanto en velas verdes, como en velas rojas"
   ]
  },
  {
   "cell_type": "code",
   "execution_count": null,
   "metadata": {},
   "outputs": [],
   "source": [
    "stock_m_green_candle = stock_month_df.open < stock_month_df.close \n",
    "stock_m_green_candle.head(12)"
   ]
  },
  {
   "cell_type": "code",
   "execution_count": null,
   "metadata": {},
   "outputs": [],
   "source": [
    "compare_candle = pd.concat([stock_m_green_candle, month_high_before_low], axis=1)\n",
    "compare_candle.columns = ['GreenCandle', 'HighBeforeLow']"
   ]
  },
  {
   "cell_type": "code",
   "execution_count": null,
   "metadata": {},
   "outputs": [],
   "source": [
    "pd.crosstab(compare_candle.GreenCandle, compare_candle.HighBeforeLow)"
   ]
  },
  {
   "cell_type": "markdown",
   "metadata": {},
   "source": [
    "_____\n",
    "Proporción de **máximos antes que mínimos en velas verdes**"
   ]
  },
  {
   "cell_type": "code",
   "execution_count": null,
   "metadata": {},
   "outputs": [],
   "source": [
    "high_before_green = compare_candle.HighBeforeLow[compare_candle.GreenCandle == True]\n",
    "high_before_green.value_counts()/high_before_green.shape[0]"
   ]
  },
  {
   "cell_type": "markdown",
   "metadata": {},
   "source": [
    "Proporción de **máximos antes que mínimos en velas rojas** "
   ]
  },
  {
   "cell_type": "code",
   "execution_count": null,
   "metadata": {},
   "outputs": [],
   "source": [
    "high_before_red = compare_candle.HighBeforeLow[compare_candle.GreenCandle == False]\n",
    "high_before_red.value_counts()/high_before_red.shape[0]"
   ]
  },
  {
   "cell_type": "markdown",
   "metadata": {},
   "source": [
    "Intentamos ver con mas detalle cuales serían las características de ambos casos"
   ]
  },
  {
   "cell_type": "code",
   "execution_count": null,
   "metadata": {},
   "outputs": [],
   "source": [
    "month_openclose_return = stock_month_df.close/stock_month_df.open - 1\n",
    "month_openclose_return"
   ]
  },
  {
   "cell_type": "code",
   "execution_count": null,
   "metadata": {},
   "outputs": [],
   "source": [
    "compare_candle['opencloseReturn'] = month_openclose_return\n",
    "compare_candle.boxplot(column='opencloseReturn', by=['GreenCandle','HighBeforeLow'])"
   ]
  },
  {
   "cell_type": "markdown",
   "metadata": {},
   "source": [
    "____"
   ]
  },
  {
   "cell_type": "markdown",
   "metadata": {},
   "source": [
    "### Ejercicio Propuesto"
   ]
  },
  {
   "cell_type": "markdown",
   "metadata": {},
   "source": [
    "1. Calcular el porcentaje del \"evento máximo-antes-que-mínimo\" para cada uno de las series OHLC mensuales\n",
    "de los valores del IBEX35, diferenciando por meses de rentabilidad positiva (vela verde) y rentabilidad negativa (vela roja)"
   ]
  },
  {
   "cell_type": "code",
   "execution_count": null,
   "metadata": {},
   "outputs": [],
   "source": []
  }
 ],
 "metadata": {
  "kernelspec": {
   "display_name": "Python 3",
   "language": "python",
   "name": "python3"
  },
  "language_info": {
   "codemirror_mode": {
    "name": "ipython",
    "version": 3
   },
   "file_extension": ".py",
   "mimetype": "text/x-python",
   "name": "python",
   "nbconvert_exporter": "python",
   "pygments_lexer": "ipython3",
   "version": "3.8.3"
  }
 },
 "nbformat": 4,
 "nbformat_minor": 4
}
