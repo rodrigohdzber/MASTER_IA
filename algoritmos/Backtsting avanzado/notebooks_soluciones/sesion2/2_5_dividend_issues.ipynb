{
 "cells": [
  {
   "cell_type": "markdown",
   "metadata": {},
   "source": [
    "## Backtesting\n",
    "### Consideraciones sobre los dividendos\n",
    "\n",
    "En este cuaderno se presentan las consideraciones que deberíamos tener presente, por un lado a la hora de interpretar resultados de simulaciones que incorporan directamente la re-inversión de dividendos y por otro lado la implementación de una estrategia de trading real que use series no ajustadas"
   ]
  },
  {
   "cell_type": "markdown",
   "metadata": {},
   "source": [
    "___"
   ]
  },
  {
   "cell_type": "code",
   "execution_count": 1,
   "metadata": {},
   "outputs": [],
   "source": [
    "import numpy as np\n",
    "import pandas as pd\n",
    "import matplotlib.pyplot as plt"
   ]
  },
  {
   "cell_type": "markdown",
   "metadata": {},
   "source": [
    "### Datos\n",
    "Tenemos la series de precios ajustada y no ajustada de la acción de ENAGAS.\n",
    "Esta empresa reparte de forma regular 2 dividendos al año que podemos utilizar\n",
    "para ver las diferencias respecto a una simulación auto-contenida en la serie\n",
    "ajustada o una simulación real que acumula y reinvierte los dividendos.\n",
    "\n",
    "Para más detalles ver info en la [web de la empresa](https://www.enagas.es/enagas/es/AccionistasEInversores/InformacionGeneral/Dividendos)"
   ]
  },
  {
   "cell_type": "code",
   "execution_count": 3,
   "metadata": {},
   "outputs": [],
   "source": [
    "stock_prices = pd.read_csv(\n",
    "    '../data/ENG_prices.csv', \n",
    "    index_col=0,\n",
    "    parse_dates=True)"
   ]
  },
  {
   "cell_type": "code",
   "execution_count": 4,
   "metadata": {},
   "outputs": [
    {
     "data": {
      "text/html": [
       "<div>\n",
       "<style scoped>\n",
       "    .dataframe tbody tr th:only-of-type {\n",
       "        vertical-align: middle;\n",
       "    }\n",
       "\n",
       "    .dataframe tbody tr th {\n",
       "        vertical-align: top;\n",
       "    }\n",
       "\n",
       "    .dataframe thead th {\n",
       "        text-align: right;\n",
       "    }\n",
       "</style>\n",
       "<table border=\"1\" class=\"dataframe\">\n",
       "  <thead>\n",
       "    <tr style=\"text-align: right;\">\n",
       "      <th></th>\n",
       "      <th>real</th>\n",
       "      <th>adjusted</th>\n",
       "    </tr>\n",
       "  </thead>\n",
       "  <tbody>\n",
       "    <tr>\n",
       "      <th>2003-01-10</th>\n",
       "      <td>6.080</td>\n",
       "      <td>2.436299</td>\n",
       "    </tr>\n",
       "    <tr>\n",
       "      <th>2003-01-13</th>\n",
       "      <td>6.180</td>\n",
       "      <td>2.488773</td>\n",
       "    </tr>\n",
       "    <tr>\n",
       "      <th>2003-01-14</th>\n",
       "      <td>6.370</td>\n",
       "      <td>2.563736</td>\n",
       "    </tr>\n",
       "    <tr>\n",
       "      <th>2003-01-15</th>\n",
       "      <td>6.220</td>\n",
       "      <td>2.503765</td>\n",
       "    </tr>\n",
       "    <tr>\n",
       "      <th>2003-01-16</th>\n",
       "      <td>6.280</td>\n",
       "      <td>2.518758</td>\n",
       "    </tr>\n",
       "    <tr>\n",
       "      <th>...</th>\n",
       "      <td>...</td>\n",
       "      <td>...</td>\n",
       "    </tr>\n",
       "    <tr>\n",
       "      <th>2021-05-24</th>\n",
       "      <td>19.085</td>\n",
       "      <td>19.085000</td>\n",
       "    </tr>\n",
       "    <tr>\n",
       "      <th>2021-05-25</th>\n",
       "      <td>19.140</td>\n",
       "      <td>19.140000</td>\n",
       "    </tr>\n",
       "    <tr>\n",
       "      <th>2021-05-26</th>\n",
       "      <td>19.300</td>\n",
       "      <td>19.300000</td>\n",
       "    </tr>\n",
       "    <tr>\n",
       "      <th>2021-05-27</th>\n",
       "      <td>19.205</td>\n",
       "      <td>19.205000</td>\n",
       "    </tr>\n",
       "    <tr>\n",
       "      <th>2021-05-28</th>\n",
       "      <td>19.270</td>\n",
       "      <td>19.270000</td>\n",
       "    </tr>\n",
       "  </tbody>\n",
       "</table>\n",
       "<p>4684 rows × 2 columns</p>\n",
       "</div>"
      ],
      "text/plain": [
       "              real   adjusted\n",
       "2003-01-10   6.080   2.436299\n",
       "2003-01-13   6.180   2.488773\n",
       "2003-01-14   6.370   2.563736\n",
       "2003-01-15   6.220   2.503765\n",
       "2003-01-16   6.280   2.518758\n",
       "...            ...        ...\n",
       "2021-05-24  19.085  19.085000\n",
       "2021-05-25  19.140  19.140000\n",
       "2021-05-26  19.300  19.300000\n",
       "2021-05-27  19.205  19.205000\n",
       "2021-05-28  19.270  19.270000\n",
       "\n",
       "[4684 rows x 2 columns]"
      ]
     },
     "execution_count": 4,
     "metadata": {},
     "output_type": "execute_result"
    }
   ],
   "source": [
    "stock_prices"
   ]
  },
  {
   "cell_type": "markdown",
   "metadata": {},
   "source": [
    "Dividendos de ENAGAS"
   ]
  },
  {
   "cell_type": "code",
   "execution_count": 5,
   "metadata": {},
   "outputs": [
    {
     "data": {
      "text/html": [
       "<div>\n",
       "<style scoped>\n",
       "    .dataframe tbody tr th:only-of-type {\n",
       "        vertical-align: middle;\n",
       "    }\n",
       "\n",
       "    .dataframe tbody tr th {\n",
       "        vertical-align: top;\n",
       "    }\n",
       "\n",
       "    .dataframe thead th {\n",
       "        text-align: right;\n",
       "    }\n",
       "</style>\n",
       "<table border=\"1\" class=\"dataframe\">\n",
       "  <thead>\n",
       "    <tr style=\"text-align: right;\">\n",
       "      <th></th>\n",
       "      <th>payment_date</th>\n",
       "      <th>exdividend</th>\n",
       "      <th>dividend</th>\n",
       "    </tr>\n",
       "  </thead>\n",
       "  <tbody>\n",
       "    <tr>\n",
       "      <th>0</th>\n",
       "      <td>2003-01-17</td>\n",
       "      <td>2003-01-14</td>\n",
       "      <td>0.090000</td>\n",
       "    </tr>\n",
       "    <tr>\n",
       "      <th>1</th>\n",
       "      <td>2003-07-03</td>\n",
       "      <td>2003-06-30</td>\n",
       "      <td>0.140530</td>\n",
       "    </tr>\n",
       "    <tr>\n",
       "      <th>2</th>\n",
       "      <td>2004-01-08</td>\n",
       "      <td>2004-01-05</td>\n",
       "      <td>0.120000</td>\n",
       "    </tr>\n",
       "    <tr>\n",
       "      <th>3</th>\n",
       "      <td>2004-07-07</td>\n",
       "      <td>2004-07-02</td>\n",
       "      <td>0.177440</td>\n",
       "    </tr>\n",
       "    <tr>\n",
       "      <th>4</th>\n",
       "      <td>2005-01-12</td>\n",
       "      <td>2005-01-07</td>\n",
       "      <td>0.130000</td>\n",
       "    </tr>\n",
       "    <tr>\n",
       "      <th>5</th>\n",
       "      <td>2005-07-04</td>\n",
       "      <td>2005-06-29</td>\n",
       "      <td>0.201175</td>\n",
       "    </tr>\n",
       "    <tr>\n",
       "      <th>6</th>\n",
       "      <td>2006-01-12</td>\n",
       "      <td>2006-01-09</td>\n",
       "      <td>0.160000</td>\n",
       "    </tr>\n",
       "    <tr>\n",
       "      <th>7</th>\n",
       "      <td>2006-07-06</td>\n",
       "      <td>2006-07-03</td>\n",
       "      <td>0.239944</td>\n",
       "    </tr>\n",
       "    <tr>\n",
       "      <th>8</th>\n",
       "      <td>2007-01-11</td>\n",
       "      <td>2007-01-08</td>\n",
       "      <td>0.190000</td>\n",
       "    </tr>\n",
       "    <tr>\n",
       "      <th>9</th>\n",
       "      <td>2007-07-05</td>\n",
       "      <td>2007-07-02</td>\n",
       "      <td>0.281809</td>\n",
       "    </tr>\n",
       "    <tr>\n",
       "      <th>10</th>\n",
       "      <td>2008-01-10</td>\n",
       "      <td>2008-01-07</td>\n",
       "      <td>0.240000</td>\n",
       "    </tr>\n",
       "    <tr>\n",
       "      <th>11</th>\n",
       "      <td>2008-07-03</td>\n",
       "      <td>2008-06-30</td>\n",
       "      <td>0.358874</td>\n",
       "    </tr>\n",
       "    <tr>\n",
       "      <th>12</th>\n",
       "      <td>2009-01-12</td>\n",
       "      <td>2009-01-07</td>\n",
       "      <td>0.260000</td>\n",
       "    </tr>\n",
       "    <tr>\n",
       "      <th>13</th>\n",
       "      <td>2009-07-02</td>\n",
       "      <td>2009-06-29</td>\n",
       "      <td>0.390641</td>\n",
       "    </tr>\n",
       "    <tr>\n",
       "      <th>14</th>\n",
       "      <td>2009-12-22</td>\n",
       "      <td>2009-12-17</td>\n",
       "      <td>0.283000</td>\n",
       "    </tr>\n",
       "    <tr>\n",
       "      <th>15</th>\n",
       "      <td>2010-07-05</td>\n",
       "      <td>2010-06-30</td>\n",
       "      <td>0.466027</td>\n",
       "    </tr>\n",
       "    <tr>\n",
       "      <th>16</th>\n",
       "      <td>2010-12-21</td>\n",
       "      <td>2010-12-16</td>\n",
       "      <td>0.312000</td>\n",
       "    </tr>\n",
       "    <tr>\n",
       "      <th>17</th>\n",
       "      <td>2011-07-05</td>\n",
       "      <td>2011-06-30</td>\n",
       "      <td>0.526123</td>\n",
       "    </tr>\n",
       "    <tr>\n",
       "      <th>18</th>\n",
       "      <td>2011-12-21</td>\n",
       "      <td>2011-12-16</td>\n",
       "      <td>0.381000</td>\n",
       "    </tr>\n",
       "    <tr>\n",
       "      <th>19</th>\n",
       "      <td>2012-07-05</td>\n",
       "      <td>2012-07-02</td>\n",
       "      <td>0.611810</td>\n",
       "    </tr>\n",
       "    <tr>\n",
       "      <th>20</th>\n",
       "      <td>2012-12-20</td>\n",
       "      <td>2012-12-17</td>\n",
       "      <td>0.428000</td>\n",
       "    </tr>\n",
       "    <tr>\n",
       "      <th>21</th>\n",
       "      <td>2013-07-03</td>\n",
       "      <td>2013-06-28</td>\n",
       "      <td>0.684768</td>\n",
       "    </tr>\n",
       "    <tr>\n",
       "      <th>22</th>\n",
       "      <td>2013-12-19</td>\n",
       "      <td>2013-12-16</td>\n",
       "      <td>0.503000</td>\n",
       "    </tr>\n",
       "    <tr>\n",
       "      <th>23</th>\n",
       "      <td>2014-07-03</td>\n",
       "      <td>2014-06-30</td>\n",
       "      <td>0.763627</td>\n",
       "    </tr>\n",
       "    <tr>\n",
       "      <th>24</th>\n",
       "      <td>2014-12-19</td>\n",
       "      <td>2014-12-16</td>\n",
       "      <td>0.520000</td>\n",
       "    </tr>\n",
       "    <tr>\n",
       "      <th>25</th>\n",
       "      <td>2015-07-02</td>\n",
       "      <td>2015-06-29</td>\n",
       "      <td>0.780000</td>\n",
       "    </tr>\n",
       "    <tr>\n",
       "      <th>26</th>\n",
       "      <td>2015-12-17</td>\n",
       "      <td>2015-12-14</td>\n",
       "      <td>0.528000</td>\n",
       "    </tr>\n",
       "    <tr>\n",
       "      <th>27</th>\n",
       "      <td>2016-07-05</td>\n",
       "      <td>2016-06-30</td>\n",
       "      <td>0.792000</td>\n",
       "    </tr>\n",
       "    <tr>\n",
       "      <th>28</th>\n",
       "      <td>2016-12-22</td>\n",
       "      <td>2016-12-20</td>\n",
       "      <td>0.556000</td>\n",
       "    </tr>\n",
       "    <tr>\n",
       "      <th>29</th>\n",
       "      <td>2017-07-05</td>\n",
       "      <td>2017-07-03</td>\n",
       "      <td>0.834000</td>\n",
       "    </tr>\n",
       "    <tr>\n",
       "      <th>30</th>\n",
       "      <td>2017-12-21</td>\n",
       "      <td>2017-12-19</td>\n",
       "      <td>0.584000</td>\n",
       "    </tr>\n",
       "    <tr>\n",
       "      <th>31</th>\n",
       "      <td>2018-07-05</td>\n",
       "      <td>2018-07-03</td>\n",
       "      <td>0.876000</td>\n",
       "    </tr>\n",
       "    <tr>\n",
       "      <th>32</th>\n",
       "      <td>2018-12-19</td>\n",
       "      <td>2018-12-17</td>\n",
       "      <td>0.612000</td>\n",
       "    </tr>\n",
       "    <tr>\n",
       "      <th>33</th>\n",
       "      <td>2019-07-03</td>\n",
       "      <td>2019-07-01</td>\n",
       "      <td>0.918000</td>\n",
       "    </tr>\n",
       "    <tr>\n",
       "      <th>34</th>\n",
       "      <td>2019-12-23</td>\n",
       "      <td>2019-12-19</td>\n",
       "      <td>0.640000</td>\n",
       "    </tr>\n",
       "    <tr>\n",
       "      <th>35</th>\n",
       "      <td>2020-07-09</td>\n",
       "      <td>2020-07-07</td>\n",
       "      <td>0.960000</td>\n",
       "    </tr>\n",
       "    <tr>\n",
       "      <th>36</th>\n",
       "      <td>2020-12-23</td>\n",
       "      <td>2020-12-21</td>\n",
       "      <td>0.672000</td>\n",
       "    </tr>\n",
       "  </tbody>\n",
       "</table>\n",
       "</div>"
      ],
      "text/plain": [
       "   payment_date exdividend  dividend\n",
       "0    2003-01-17 2003-01-14  0.090000\n",
       "1    2003-07-03 2003-06-30  0.140530\n",
       "2    2004-01-08 2004-01-05  0.120000\n",
       "3    2004-07-07 2004-07-02  0.177440\n",
       "4    2005-01-12 2005-01-07  0.130000\n",
       "5    2005-07-04 2005-06-29  0.201175\n",
       "6    2006-01-12 2006-01-09  0.160000\n",
       "7    2006-07-06 2006-07-03  0.239944\n",
       "8    2007-01-11 2007-01-08  0.190000\n",
       "9    2007-07-05 2007-07-02  0.281809\n",
       "10   2008-01-10 2008-01-07  0.240000\n",
       "11   2008-07-03 2008-06-30  0.358874\n",
       "12   2009-01-12 2009-01-07  0.260000\n",
       "13   2009-07-02 2009-06-29  0.390641\n",
       "14   2009-12-22 2009-12-17  0.283000\n",
       "15   2010-07-05 2010-06-30  0.466027\n",
       "16   2010-12-21 2010-12-16  0.312000\n",
       "17   2011-07-05 2011-06-30  0.526123\n",
       "18   2011-12-21 2011-12-16  0.381000\n",
       "19   2012-07-05 2012-07-02  0.611810\n",
       "20   2012-12-20 2012-12-17  0.428000\n",
       "21   2013-07-03 2013-06-28  0.684768\n",
       "22   2013-12-19 2013-12-16  0.503000\n",
       "23   2014-07-03 2014-06-30  0.763627\n",
       "24   2014-12-19 2014-12-16  0.520000\n",
       "25   2015-07-02 2015-06-29  0.780000\n",
       "26   2015-12-17 2015-12-14  0.528000\n",
       "27   2016-07-05 2016-06-30  0.792000\n",
       "28   2016-12-22 2016-12-20  0.556000\n",
       "29   2017-07-05 2017-07-03  0.834000\n",
       "30   2017-12-21 2017-12-19  0.584000\n",
       "31   2018-07-05 2018-07-03  0.876000\n",
       "32   2018-12-19 2018-12-17  0.612000\n",
       "33   2019-07-03 2019-07-01  0.918000\n",
       "34   2019-12-23 2019-12-19  0.640000\n",
       "35   2020-07-09 2020-07-07  0.960000\n",
       "36   2020-12-23 2020-12-21  0.672000"
      ]
     },
     "execution_count": 5,
     "metadata": {},
     "output_type": "execute_result"
    }
   ],
   "source": [
    "stock_divs = pd.read_csv('../data/ENG_dividends.csv', parse_dates=[0,1])\n",
    "stock_divs"
   ]
  },
  {
   "cell_type": "markdown",
   "metadata": {},
   "source": [
    "____"
   ]
  },
  {
   "cell_type": "markdown",
   "metadata": {},
   "source": [
    "Comparación de serie ajustada y no ajustada"
   ]
  },
  {
   "cell_type": "code",
   "execution_count": 6,
   "metadata": {},
   "outputs": [
    {
     "data": {
      "text/plain": [
       "<matplotlib.axes._subplots.AxesSubplot at 0x1f7fc1bb400>"
      ]
     },
     "execution_count": 6,
     "metadata": {},
     "output_type": "execute_result"
    },
    {
     "data": {
      "image/png": "[encoded data removed]",
      "text/plain": [
       "<Figure size 864x288 with 1 Axes>"
      ]
     },
     "metadata": {
      "needs_background": "light"
     },
     "output_type": "display_data"
    }
   ],
   "source": [
    "fig, ax = plt.subplots(figsize=(12,4))\n",
    "stock_prices.plot(ax=ax)"
   ]
  },
  {
   "cell_type": "markdown",
   "metadata": {},
   "source": [
    "___\n",
    "Obervamos que la fecha de pago es entre 2 y 4 sesiones posteriores a la fecha ex-dividendo. Aquí tenemos que considerar que:\n",
    " - Desde el punto de vista teórico, la serie ajustada puede reproducirse asumiendo el pequeños coste de financiar la compra el día del ex-dividendo. Esto es por ejemplo.\n",
    "    - El día ex-dividendo se pide prestado el importe que recibirá el día de pago y se compran las acciones que se puedan a precio de ese día \n",
    "    - El día de pago se cobra el dividendo y se devuelve el prestamo\n",
    " - Desde un punto de vista práctico,  esto no es ejecutable sin una cuenta margen, por lo que tenemos que responder a la pregunta ¿**Cuánto coste implicito representa reinvertir los dividendo el día de pago**? "
   ]
  },
  {
   "cell_type": "markdown",
   "metadata": {},
   "source": [
    "___"
   ]
  },
  {
   "cell_type": "markdown",
   "metadata": {},
   "source": [
    "- Hacemos la simulación de invertir inicialmente 100mil euros.\n",
    "- Permitiremos invertir en fracciones de acciones para solo simular el efecto de comprar a precio distinto del ex-date"
   ]
  },
  {
   "cell_type": "code",
   "execution_count": 7,
   "metadata": {},
   "outputs": [],
   "source": [
    "capital = 100_000"
   ]
  },
  {
   "cell_type": "code",
   "execution_count": 8,
   "metadata": {},
   "outputs": [],
   "source": [
    "delta_shares = pd.Series(np.zeros(stock_prices.shape[0]), index=stock_prices.index)\n",
    "init_shares  = capital/stock_prices.real.iloc[0]\n",
    "delta_shares.iloc[0] = init_shares"
   ]
  },
  {
   "cell_type": "code",
   "execution_count": 9,
   "metadata": {},
   "outputs": [
    {
     "data": {
      "text/plain": [
       "2003-01-10    16447.368421\n",
       "2003-01-13    16447.368421\n",
       "2003-01-14    16447.368421\n",
       "2003-01-15    16447.368421\n",
       "2003-01-16    16447.368421\n",
       "dtype: float64"
      ]
     },
     "execution_count": 9,
     "metadata": {},
     "output_type": "execute_result"
    }
   ],
   "source": [
    "positions = delta_shares.cumsum()\n",
    "positions.head()"
   ]
  },
  {
   "cell_type": "code",
   "execution_count": 10,
   "metadata": {},
   "outputs": [],
   "source": [
    "portvalue = positions * stock_prices.real"
   ]
  },
  {
   "cell_type": "code",
   "execution_count": 11,
   "metadata": {},
   "outputs": [
    {
     "data": {
      "text/plain": [
       "<matplotlib.axes._subplots.AxesSubplot at 0x1f7fc367fd0>"
      ]
     },
     "execution_count": 11,
     "metadata": {},
     "output_type": "execute_result"
    },
    {
     "data": {
      "image/png": "[encoded data removed]",
      "text/plain": [
       "<Figure size 432x288 with 1 Axes>"
      ]
     },
     "metadata": {
      "needs_background": "light"
     },
     "output_type": "display_data"
    }
   ],
   "source": [
    "portvalue.plot()"
   ]
  },
  {
   "cell_type": "code",
   "execution_count": 13,
   "metadata": {},
   "outputs": [
    {
     "name": "stdout",
     "output_type": "stream",
     "text": [
      "16447.37 1480.2631578947367 237.6 232.38\n",
      "16684.97 2344.7389541268894 334.01 314.73\n",
      "17018.98 2042.2775102550377 248.45 237.2\n",
      "17267.43 3063.9330460664173 343.11 338.93\n",
      "17610.54 2289.369824071709 198.56 196.01\n",
      "17809.09 3582.7446400760023 249.84 247.94\n",
      "18058.94 2889.4299985719003 187.26 182.76\n",
      "18246.2 4378.065738290128 262.16 259.21\n",
      "18508.36 3516.5879530176676 212.48 210.32\n",
      "18720.84 5275.701285013752 292.61 287.5\n",
      "19013.45 4563.227313840963 222.6 234.25\n",
      "19236.04 6903.315909233228 409.94 383.52\n",
      "19645.98 5107.954597044378 334.95 325.14\n",
      "19980.93 7805.3693283605635 581.41 559.73\n",
      "20562.33 5819.140125345436 382.21 379.1\n",
      "20944.54 9760.722135420772 793.23 787.79\n",
      "21737.77 6782.185588926173 443.86 444.44\n",
      "22181.63 11670.26816006591 727.57 698.4\n",
      "22909.21 8728.40804409909 637.58 628.17\n",
      "23546.78 14406.157261090893 1049.25 994.56\n",
      "24596.03 10527.100681507676 643.86 647.22\n",
      "25239.89 17283.468309786746 944.19 910.37\n",
      "26184.08 13170.593669695649 708.48 691.55\n",
      "26892.56 20535.885051034333 923.58 873.87\n",
      "27816.14 14464.394851200304 558.47 556.86\n",
      "28374.61 22132.199534867494 908.55 893.69\n",
      "29283.16 15461.509307495911 567.08 567.81\n",
      "29850.24 23641.39344488725 861.88 865.83\n",
      "30712.13 17075.94158987312 706.35 699.69\n",
      "31418.47 26203.005881643363 1110.3 1095.44\n",
      "32528.77 18996.801177491114 789.89 784.67\n",
      "33318.66 29187.1434640114 1200.13 1211.59\n",
      "34518.79 21125.49714011851 857.02 844.34\n",
      "35375.8 32474.98836229252 1381.33 1427.47\n",
      "36757.13 23524.56378628166 1012.24 1046.93\n",
      "37769.38 36258.600465774914 1739.02 1720.05\n",
      "39508.4 26549.64284465159 1453.58 1479.5\n"
     ]
    }
   ],
   "source": [
    "delta_shares = pd.Series(np.zeros(stock_prices.shape[0]), index=stock_prices.index)\n",
    "init_shares  = capital/stock_prices.real.iloc[0]\n",
    "delta_shares.iloc[0] = init_shares\n",
    "positions = delta_shares.cumsum()\n",
    "\n",
    "for i, div_row in stock_divs.iterrows():\n",
    "    pay_date = div_row['payment_date']\n",
    "    ex_date = div_row['exdividend']\n",
    "    curr_shares = positions.loc[ex_date]\n",
    "    cash_div = curr_shares * div_row['dividend']\n",
    "    \n",
    "    new_shares = cash_div/stock_prices.real[pay_date]\n",
    "    deserve_shares = cash_div/stock_prices.real[ex_date]\n",
    "    delta_shares.loc[pay_date] = new_shares\n",
    "    positions = delta_shares.cumsum()\n",
    "    print(np.round(curr_shares, 2), cash_div, np.round(new_shares,2), np.round(deserve_shares, 2))"
   ]
  },
  {
   "cell_type": "code",
   "execution_count": 14,
   "metadata": {},
   "outputs": [
    {
     "data": {
      "text/plain": [
       "2003-01-10    16447.368421\n",
       "2003-01-17      237.602433\n",
       "2003-07-03      334.008398\n",
       "2004-01-08      248.452252\n",
       "2004-07-07      343.105604\n",
       "2005-01-12      198.557660\n",
       "2005-07-04      249.842722\n",
       "2006-01-12      187.260531\n",
       "2006-07-06      262.159625\n",
       "2007-01-11      212.482656\n",
       "2007-07-05      292.606838\n",
       "2008-01-10      222.596454\n",
       "2008-07-03      409.935624\n",
       "2009-01-12      334.947842\n",
       "2009-07-02      581.405537\n",
       "2009-12-22      382.209532\n",
       "2010-07-05      793.232193\n",
       "2010-12-21      443.860313\n",
       "2011-07-05      727.572828\n",
       "2011-12-21      637.575460\n",
       "2012-07-05     1049.246705\n",
       "2012-12-20      643.859369\n",
       "2013-07-03      944.193844\n",
       "2013-12-19      708.477336\n",
       "2014-07-03      923.583767\n",
       "2014-12-19      558.470844\n",
       "2015-07-02      908.546779\n",
       "2015-12-17      567.082681\n",
       "2016-07-05      861.880913\n",
       "2016-12-22      706.347119\n",
       "2017-07-05     1110.296859\n",
       "2017-12-21      789.887783\n",
       "2018-07-05     1200.129254\n",
       "2018-12-19      857.018140\n",
       "2019-07-03     1381.326600\n",
       "2019-12-23     1012.244569\n",
       "2020-07-09     1739.021605\n",
       "2020-12-23     1453.580227\n",
       "dtype: float64"
      ]
     },
     "execution_count": 14,
     "metadata": {},
     "output_type": "execute_result"
    }
   ],
   "source": [
    "delta_shares[delta_shares != 0]"
   ]
  },
  {
   "cell_type": "code",
   "execution_count": 15,
   "metadata": {},
   "outputs": [
    {
     "data": {
      "text/plain": [
       "<matplotlib.axes._subplots.AxesSubplot at 0x1f7fc508df0>"
      ]
     },
     "execution_count": 15,
     "metadata": {},
     "output_type": "execute_result"
    },
    {
     "data": {
      "image/png": "[encoded data removed]",
      "text/plain": [
       "<Figure size 432x288 with 1 Axes>"
      ]
     },
     "metadata": {
      "needs_background": "light"
     },
     "output_type": "display_data"
    }
   ],
   "source": [
    "delta_shares.plot()"
   ]
  },
  {
   "cell_type": "code",
   "execution_count": 16,
   "metadata": {},
   "outputs": [
    {
     "data": {
      "text/plain": [
       "<matplotlib.axes._subplots.AxesSubplot at 0x1f7fc5b33d0>"
      ]
     },
     "execution_count": 16,
     "metadata": {},
     "output_type": "execute_result"
    },
    {
     "data": {
      "image/png": "[encoded data removed]",
      "text/plain": [
       "<Figure size 432x288 with 1 Axes>"
      ]
     },
     "metadata": {
      "needs_background": "light"
     },
     "output_type": "display_data"
    }
   ],
   "source": [
    "portvalue = positions * stock_prices.real\n",
    "portvalue.plot()"
   ]
  },
  {
   "cell_type": "code",
   "execution_count": 17,
   "metadata": {},
   "outputs": [],
   "source": [
    "relative_port = portvalue/portvalue.iloc[0]\n",
    "relative_adjusted = stock_prices.adjusted/stock_prices.adjusted.iloc[0]"
   ]
  },
  {
   "cell_type": "code",
   "execution_count": 18,
   "metadata": {},
   "outputs": [
    {
     "data": {
      "text/plain": [
       "2003-01-10    1.000000\n",
       "2003-01-13    1.021538\n",
       "2003-01-14    1.052308\n",
       "2003-01-15    1.027692\n",
       "2003-01-16    1.033846\n",
       "                ...   \n",
       "2021-05-24    7.833605\n",
       "2021-05-25    7.856180\n",
       "2021-05-26    7.921853\n",
       "2021-05-27    7.882860\n",
       "2021-05-28    7.909539\n",
       "Name: adjusted, Length: 4684, dtype: float64"
      ]
     },
     "execution_count": 18,
     "metadata": {},
     "output_type": "execute_result"
    }
   ],
   "source": [
    "relative_adjusted"
   ]
  },
  {
   "cell_type": "code",
   "execution_count": 19,
   "metadata": {},
   "outputs": [
    {
     "data": {
      "text/plain": [
       "<matplotlib.axes._subplots.AxesSubplot at 0x1f7fc644430>"
      ]
     },
     "execution_count": 19,
     "metadata": {},
     "output_type": "execute_result"
    },
    {
     "data": {
      "image/png": "[encoded data removed]",
      "text/plain": [
       "<Figure size 1008x360 with 1 Axes>"
      ]
     },
     "metadata": {
      "needs_background": "light"
     },
     "output_type": "display_data"
    }
   ],
   "source": [
    "df_compare = pd.concat([relative_port, relative_adjusted], axis=1)\n",
    "df_compare.columns = ['real_reinvest','adjusted']\n",
    "df_compare.plot(figsize=(14,5))"
   ]
  },
  {
   "cell_type": "code",
   "execution_count": 20,
   "metadata": {},
   "outputs": [
    {
     "data": {
      "text/plain": [
       "<matplotlib.axes._subplots.AxesSubplot at 0x1f7fc500220>"
      ]
     },
     "execution_count": 20,
     "metadata": {},
     "output_type": "execute_result"
    },
    {
     "data": {
      "image/png": "[encoded data removed]",
      "text/plain": [
       "<Figure size 1008x360 with 1 Axes>"
      ]
     },
     "metadata": {
      "needs_background": "light"
     },
     "output_type": "display_data"
    }
   ],
   "source": [
    "df_compare.loc['2018-06-28':'2018-07-10'].plot(figsize=(14,5))"
   ]
  },
  {
   "cell_type": "code",
   "execution_count": 21,
   "metadata": {},
   "outputs": [
    {
     "data": {
      "text/html": [
       "<div>\n",
       "<style scoped>\n",
       "    .dataframe tbody tr th:only-of-type {\n",
       "        vertical-align: middle;\n",
       "    }\n",
       "\n",
       "    .dataframe tbody tr th {\n",
       "        vertical-align: top;\n",
       "    }\n",
       "\n",
       "    .dataframe thead th {\n",
       "        text-align: right;\n",
       "    }\n",
       "</style>\n",
       "<table border=\"1\" class=\"dataframe\">\n",
       "  <thead>\n",
       "    <tr style=\"text-align: right;\">\n",
       "      <th></th>\n",
       "      <th>real_reinvest</th>\n",
       "      <th>adjusted</th>\n",
       "    </tr>\n",
       "  </thead>\n",
       "  <tbody>\n",
       "    <tr>\n",
       "      <th>2021-05-24</th>\n",
       "      <td>7.817593</td>\n",
       "      <td>7.833605</td>\n",
       "    </tr>\n",
       "    <tr>\n",
       "      <th>2021-05-25</th>\n",
       "      <td>7.840122</td>\n",
       "      <td>7.856180</td>\n",
       "    </tr>\n",
       "    <tr>\n",
       "      <th>2021-05-26</th>\n",
       "      <td>7.905662</td>\n",
       "      <td>7.921853</td>\n",
       "    </tr>\n",
       "    <tr>\n",
       "      <th>2021-05-27</th>\n",
       "      <td>7.866748</td>\n",
       "      <td>7.882860</td>\n",
       "    </tr>\n",
       "    <tr>\n",
       "      <th>2021-05-28</th>\n",
       "      <td>7.893373</td>\n",
       "      <td>7.909539</td>\n",
       "    </tr>\n",
       "  </tbody>\n",
       "</table>\n",
       "</div>"
      ],
      "text/plain": [
       "            real_reinvest  adjusted\n",
       "2021-05-24       7.817593  7.833605\n",
       "2021-05-25       7.840122  7.856180\n",
       "2021-05-26       7.905662  7.921853\n",
       "2021-05-27       7.866748  7.882860\n",
       "2021-05-28       7.893373  7.909539"
      ]
     },
     "execution_count": 21,
     "metadata": {},
     "output_type": "execute_result"
    }
   ],
   "source": [
    "df_compare.tail()"
   ]
  },
  {
   "cell_type": "code",
   "execution_count": null,
   "metadata": {},
   "outputs": [],
   "source": []
  }
 ],
 "metadata": {
  "kernelspec": {
   "display_name": "Python 3",
   "language": "python",
   "name": "python3"
  },
  "language_info": {
   "codemirror_mode": {
    "name": "ipython",
    "version": 3
   },
   "file_extension": ".py",
   "mimetype": "text/x-python",
   "name": "python",
   "nbconvert_exporter": "python",
   "pygments_lexer": "ipython3",
   "version": "3.8.3"
  }
 },
 "nbformat": 4,
 "nbformat_minor": 4
}
