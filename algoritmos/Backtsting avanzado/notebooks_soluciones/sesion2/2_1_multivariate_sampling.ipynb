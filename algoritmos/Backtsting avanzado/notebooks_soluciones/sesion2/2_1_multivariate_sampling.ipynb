{
 "cells": [
  {
   "cell_type": "markdown",
   "metadata": {},
   "source": [
    "## Backtesting\n",
    "### Datos Sintéticos\n",
    "En este cuaderno se presenta la generación de datos sintéticos de mercado con características similares a las vistas\n",
    "en las series reales. Entre los objetivos de disponer de datos sintéticos podemos destacar:\n",
    "- Poder simular escenarios más alla de la serie histórica de precios de la que disponemos\n",
    "- Realizar la parte de desarrollo de las estrategias de trading sin hacer simulaciones continuas sobre la serie histórica \n",
    "para disminuir el riesgo de caer en el sesgo de selección"
   ]
  },
  {
   "cell_type": "code",
   "execution_count": 1,
   "metadata": {},
   "outputs": [],
   "source": [
    "import numpy as np\n",
    "import pandas as pd\n",
    "import matplotlib.pyplot as plt"
   ]
  },
  {
   "cell_type": "markdown",
   "metadata": {},
   "source": [
    "### Generación Aleatoria Multivariable\n",
    "Si generamos por separado variables aleatorias que siguen una distribución normal,\n",
    "estas serán independientes"
   ]
  },
  {
   "cell_type": "code",
   "execution_count": 2,
   "metadata": {},
   "outputs": [],
   "source": [
    "x1 = np.random.randn(5000)\n",
    "x2 = np.random.randn(5000)"
   ]
  },
  {
   "cell_type": "code",
   "execution_count": 4,
   "metadata": {},
   "outputs": [
    {
     "data": {
      "text/plain": [
       "(array([   7.,   55.,  269.,  776., 1358., 1271.,  855.,  333.,   69.,\n",
       "           7.]),\n",
       " array([-3.71057642, -2.97810613, -2.24563585, -1.51316556, -0.78069528,\n",
       "        -0.048225  ,  0.68424529,  1.41671557,  2.14918586,  2.88165614,\n",
       "         3.61412643]),\n",
       " <a list of 10 Patch objects>)"
      ]
     },
     "execution_count": 4,
     "metadata": {},
     "output_type": "execute_result"
    },
    {
     "data": {
      "image/png": "[encoded data removed]",
      "text/plain": [
       "<Figure size 432x288 with 1 Axes>"
      ]
     },
     "metadata": {
      "needs_background": "light"
     },
     "output_type": "display_data"
    }
   ],
   "source": [
    "plt.hist(x1)"
   ]
  },
  {
   "cell_type": "code",
   "execution_count": 5,
   "metadata": {},
   "outputs": [
    {
     "data": {
      "image/png": "[encoded data removed]",
      "text/plain": [
       "<Figure size 288x288 with 1 Axes>"
      ]
     },
     "metadata": {
      "needs_background": "light"
     },
     "output_type": "display_data"
    }
   ],
   "source": [
    "fig, ax = plt.subplots(figsize=(4,4))\n",
    "_ = ax.hist2d(x1, x2, bins=25)"
   ]
  },
  {
   "cell_type": "markdown",
   "metadata": {},
   "source": [
    "Una distribución normal multivariable está determinada por \n",
    "las medias de las variables y su matriz de covarianzas"
   ]
  },
  {
   "cell_type": "code",
   "execution_count": 16,
   "metadata": {},
   "outputs": [
    {
     "data": {
      "text/plain": [
       "array([[1. , 0.9],\n",
       "       [0.9, 1. ]])"
      ]
     },
     "execution_count": 16,
     "metadata": {},
     "output_type": "execute_result"
    }
   ],
   "source": [
    "scov = np.array([[1, 0.9],\n",
    "                 [0.9, 1]])\n",
    "scov"
   ]
  },
  {
   "cell_type": "code",
   "execution_count": 17,
   "metadata": {},
   "outputs": [
    {
     "data": {
      "text/plain": [
       "array([[-0.30069196, -1.07436335],\n",
       "       [ 1.32583647,  1.03046916],\n",
       "       [ 1.46582873,  0.79510864],\n",
       "       [ 0.56943119,  1.13688064],\n",
       "       [ 0.88605573,  0.53523667]])"
      ]
     },
     "execution_count": 17,
     "metadata": {},
     "output_type": "execute_result"
    }
   ],
   "source": [
    "np.random.multivariate_normal([0, 0], scov, size=5)"
   ]
  },
  {
   "cell_type": "code",
   "execution_count": 18,
   "metadata": {},
   "outputs": [],
   "source": [
    "rnd2d_samples = np.random.multivariate_normal([0, 0], scov, size=5000)"
   ]
  },
  {
   "cell_type": "code",
   "execution_count": 19,
   "metadata": {},
   "outputs": [],
   "source": [
    "x1 = rnd2d_samples[:,0]\n",
    "x2 = rnd2d_samples[:,1]"
   ]
  },
  {
   "cell_type": "code",
   "execution_count": 20,
   "metadata": {},
   "outputs": [
    {
     "data": {
      "image/png": "[encoded data removed]",
      "text/plain": [
       "<Figure size 288x288 with 1 Axes>"
      ]
     },
     "metadata": {
      "needs_background": "light"
     },
     "output_type": "display_data"
    }
   ],
   "source": [
    "fig, ax = plt.subplots(figsize=(4,4))\n",
    "_ = ax.hist2d(x1, x2, bins=25)"
   ]
  },
  {
   "cell_type": "markdown",
   "metadata": {},
   "source": [
    "___"
   ]
  },
  {
   "cell_type": "markdown",
   "metadata": {},
   "source": [
    "## Proceso aleatorio con deriva"
   ]
  },
  {
   "cell_type": "markdown",
   "metadata": {},
   "source": [
    "Si asumimos que una serie de precios la podemos modelar con un camino aleatorio con deriva, este quedaría\n",
    "expresado como \n",
    "\n",
    "$$P_t = \\alpha + Pt_{t-1} + \\epsilon$$\n",
    "\n",
    "donde:\n",
    "- $\\alpha$ estaría representando el cambio subyacente de precio justificado por los fundamentales\n",
    "- $\\epsilon$ es el término de error generado por el proceso estocástico y determinado por la volatilidad\n",
    "\n"
   ]
  },
  {
   "cell_type": "code",
   "execution_count": 21,
   "metadata": {},
   "outputs": [],
   "source": [
    "def rndwalk_drift_series(p0, exp_ret, sigma, n):\n",
    "    log_prices = np.zeros(n)\n",
    "    log_prices[0] = np.log(p0)\n",
    "    \n",
    "    for i in range(1, n):\n",
    "        log_prices[i] = log_prices[i-1] + exp_ret + sigma*np.random.randn()\n",
    "    return np.exp(log_prices)    "
   ]
  },
  {
   "cell_type": "code",
   "execution_count": 26,
   "metadata": {},
   "outputs": [],
   "source": [
    "rnd_stock = rndwalk_drift_series(10, 0.001, 0.01, 250)"
   ]
  },
  {
   "cell_type": "code",
   "execution_count": 27,
   "metadata": {},
   "outputs": [
    {
     "data": {
      "text/plain": [
       "[<matplotlib.lines.Line2D at 0x1fce3070dc0>]"
      ]
     },
     "execution_count": 27,
     "metadata": {},
     "output_type": "execute_result"
    },
    {
     "data": {
      "image/png": "[encoded data removed]",
      "text/plain": [
       "<Figure size 432x288 with 1 Axes>"
      ]
     },
     "metadata": {
      "needs_background": "light"
     },
     "output_type": "display_data"
    }
   ],
   "source": [
    "plt.plot(rnd_stock)"
   ]
  },
  {
   "cell_type": "markdown",
   "metadata": {},
   "source": [
    "___"
   ]
  },
  {
   "cell_type": "markdown",
   "metadata": {},
   "source": [
    "### Datos"
   ]
  },
  {
   "cell_type": "code",
   "execution_count": 28,
   "metadata": {},
   "outputs": [],
   "source": [
    "ticker_list = ['BBVA','SAN','REP','TEF','IBE','FER','ITX','ACS','AMS','GRF']"
   ]
  },
  {
   "cell_type": "code",
   "execution_count": 29,
   "metadata": {},
   "outputs": [],
   "source": [
    "import pickle\n",
    "with open('../data/stock_data.pkl', 'rb') as handle:\n",
    "    stock_data = pickle.load(handle)"
   ]
  },
  {
   "cell_type": "code",
   "execution_count": 30,
   "metadata": {},
   "outputs": [],
   "source": [
    "close_series = {ticker: df.close\n",
    "                for ticker, df in stock_data.items()\n",
    "                if ticker in ticker_list\n",
    "               }\n",
    "stock_df = pd.DataFrame(close_series)\n",
    "stock_df = stock_df.loc['2016':]"
   ]
  },
  {
   "cell_type": "markdown",
   "metadata": {},
   "source": [
    "___"
   ]
  },
  {
   "cell_type": "markdown",
   "metadata": {},
   "source": [
    "Hacemos la prueba de ver otros posibles caminos con propiedades similares"
   ]
  },
  {
   "cell_type": "code",
   "execution_count": 32,
   "metadata": {},
   "outputs": [
    {
     "data": {
      "text/plain": [
       "<matplotlib.axes._subplots.AxesSubplot at 0x1fce51f5880>"
      ]
     },
     "execution_count": 32,
     "metadata": {},
     "output_type": "execute_result"
    },
    {
     "data": {
      "image/png": "[encoded data removed]",
      "text/plain": [
       "<Figure size 432x288 with 1 Axes>"
      ]
     },
     "metadata": {
      "needs_background": "light"
     },
     "output_type": "display_data"
    }
   ],
   "source": [
    "stock_price = stock_df['IBE']\n",
    "stock_price.plot()"
   ]
  },
  {
   "cell_type": "code",
   "execution_count": 39,
   "metadata": {},
   "outputs": [
    {
     "data": {
      "text/plain": [
       "(-2.461226568847094e-05, 0.013160653067118567)"
      ]
     },
     "execution_count": 39,
     "metadata": {},
     "output_type": "execute_result"
    }
   ],
   "source": [
    "stock_ret = np.log(stock_price).diff()\n",
    "ret_mean = stock_ret.iloc[:250].mean()\n",
    "ret_std = stock_ret.iloc[:250].std()\n",
    "ret_mean, ret_std"
   ]
  },
  {
   "cell_type": "code",
   "execution_count": 40,
   "metadata": {},
   "outputs": [],
   "source": [
    "stock_real = stock_price[:250]"
   ]
  },
  {
   "cell_type": "code",
   "execution_count": 41,
   "metadata": {},
   "outputs": [],
   "source": [
    "stock_paths = []\n",
    "for i in range(8):\n",
    "    rnd_path = rndwalk_drift_series(stock_real.iloc[0], ret_mean, ret_std, 250)\n",
    "    rnd_series = pd.Series(\n",
    "        rnd_path, \n",
    "        index=stock_real.index,\n",
    "        name=f'rnd{i}'\n",
    "    )\n",
    "    stock_paths.append(rnd_series)"
   ]
  },
  {
   "cell_type": "code",
   "execution_count": 42,
   "metadata": {},
   "outputs": [
    {
     "data": {
      "text/html": [
       "<div>\n",
       "<style scoped>\n",
       "    .dataframe tbody tr th:only-of-type {\n",
       "        vertical-align: middle;\n",
       "    }\n",
       "\n",
       "    .dataframe tbody tr th {\n",
       "        vertical-align: top;\n",
       "    }\n",
       "\n",
       "    .dataframe thead th {\n",
       "        text-align: right;\n",
       "    }\n",
       "</style>\n",
       "<table border=\"1\" class=\"dataframe\">\n",
       "  <thead>\n",
       "    <tr style=\"text-align: right;\">\n",
       "      <th></th>\n",
       "      <th>rnd0</th>\n",
       "      <th>rnd1</th>\n",
       "      <th>rnd2</th>\n",
       "      <th>rnd3</th>\n",
       "      <th>rnd4</th>\n",
       "      <th>rnd5</th>\n",
       "      <th>rnd6</th>\n",
       "      <th>rnd7</th>\n",
       "    </tr>\n",
       "  </thead>\n",
       "  <tbody>\n",
       "    <tr>\n",
       "      <th>2016-01-04</th>\n",
       "      <td>4.891871</td>\n",
       "      <td>4.891871</td>\n",
       "      <td>4.891871</td>\n",
       "      <td>4.891871</td>\n",
       "      <td>4.891871</td>\n",
       "      <td>4.891871</td>\n",
       "      <td>4.891871</td>\n",
       "      <td>4.891871</td>\n",
       "    </tr>\n",
       "    <tr>\n",
       "      <th>2016-01-05</th>\n",
       "      <td>4.797792</td>\n",
       "      <td>4.845640</td>\n",
       "      <td>4.870401</td>\n",
       "      <td>4.885303</td>\n",
       "      <td>4.881152</td>\n",
       "      <td>4.955406</td>\n",
       "      <td>4.950791</td>\n",
       "      <td>4.936342</td>\n",
       "    </tr>\n",
       "    <tr>\n",
       "      <th>2016-01-06</th>\n",
       "      <td>4.835743</td>\n",
       "      <td>4.899411</td>\n",
       "      <td>4.865373</td>\n",
       "      <td>4.910116</td>\n",
       "      <td>4.955272</td>\n",
       "      <td>4.874039</td>\n",
       "      <td>4.936239</td>\n",
       "      <td>4.917106</td>\n",
       "    </tr>\n",
       "    <tr>\n",
       "      <th>2016-01-07</th>\n",
       "      <td>4.872744</td>\n",
       "      <td>4.955303</td>\n",
       "      <td>4.894348</td>\n",
       "      <td>4.993186</td>\n",
       "      <td>4.945338</td>\n",
       "      <td>4.797708</td>\n",
       "      <td>4.838266</td>\n",
       "      <td>4.896455</td>\n",
       "    </tr>\n",
       "    <tr>\n",
       "      <th>2016-01-08</th>\n",
       "      <td>4.815337</td>\n",
       "      <td>4.867484</td>\n",
       "      <td>4.938774</td>\n",
       "      <td>5.039246</td>\n",
       "      <td>4.838500</td>\n",
       "      <td>4.799887</td>\n",
       "      <td>4.738603</td>\n",
       "      <td>4.820072</td>\n",
       "    </tr>\n",
       "  </tbody>\n",
       "</table>\n",
       "</div>"
      ],
      "text/plain": [
       "                rnd0      rnd1      rnd2      rnd3      rnd4      rnd5  \\\n",
       "2016-01-04  4.891871  4.891871  4.891871  4.891871  4.891871  4.891871   \n",
       "2016-01-05  4.797792  4.845640  4.870401  4.885303  4.881152  4.955406   \n",
       "2016-01-06  4.835743  4.899411  4.865373  4.910116  4.955272  4.874039   \n",
       "2016-01-07  4.872744  4.955303  4.894348  4.993186  4.945338  4.797708   \n",
       "2016-01-08  4.815337  4.867484  4.938774  5.039246  4.838500  4.799887   \n",
       "\n",
       "                rnd6      rnd7  \n",
       "2016-01-04  4.891871  4.891871  \n",
       "2016-01-05  4.950791  4.936342  \n",
       "2016-01-06  4.936239  4.917106  \n",
       "2016-01-07  4.838266  4.896455  \n",
       "2016-01-08  4.738603  4.820072  "
      ]
     },
     "execution_count": 42,
     "metadata": {},
     "output_type": "execute_result"
    }
   ],
   "source": [
    "rnd_df = pd.concat(stock_paths, axis=1)\n",
    "rnd_df.head()"
   ]
  },
  {
   "cell_type": "code",
   "execution_count": 43,
   "metadata": {},
   "outputs": [
    {
     "data": {
      "text/plain": [
       "<matplotlib.axes._subplots.AxesSubplot at 0x1fce5726190>"
      ]
     },
     "execution_count": 43,
     "metadata": {},
     "output_type": "execute_result"
    },
    {
     "data": {
      "image/png": "[encoded data removed]",
      "text/plain": [
       "<Figure size 864x288 with 1 Axes>"
      ]
     },
     "metadata": {
      "needs_background": "light"
     },
     "output_type": "display_data"
    }
   ],
   "source": [
    "rnd_df['stock'] = stock_real\n",
    "rnd_df.plot(figsize=(12, 4))"
   ]
  },
  {
   "cell_type": "code",
   "execution_count": 44,
   "metadata": {},
   "outputs": [
    {
     "data": {
      "text/html": [
       "<div>\n",
       "<style scoped>\n",
       "    .dataframe tbody tr th:only-of-type {\n",
       "        vertical-align: middle;\n",
       "    }\n",
       "\n",
       "    .dataframe tbody tr th {\n",
       "        vertical-align: top;\n",
       "    }\n",
       "\n",
       "    .dataframe thead th {\n",
       "        text-align: right;\n",
       "    }\n",
       "</style>\n",
       "<table border=\"1\" class=\"dataframe\">\n",
       "  <thead>\n",
       "    <tr style=\"text-align: right;\">\n",
       "      <th></th>\n",
       "      <th>rnd0</th>\n",
       "      <th>rnd1</th>\n",
       "      <th>rnd2</th>\n",
       "      <th>rnd3</th>\n",
       "      <th>rnd4</th>\n",
       "      <th>rnd5</th>\n",
       "      <th>rnd6</th>\n",
       "      <th>rnd7</th>\n",
       "      <th>stock</th>\n",
       "    </tr>\n",
       "  </thead>\n",
       "  <tbody>\n",
       "    <tr>\n",
       "      <th>count</th>\n",
       "      <td>249.000000</td>\n",
       "      <td>249.000000</td>\n",
       "      <td>249.000000</td>\n",
       "      <td>249.000000</td>\n",
       "      <td>249.000000</td>\n",
       "      <td>249.000000</td>\n",
       "      <td>249.000000</td>\n",
       "      <td>249.000000</td>\n",
       "      <td>249.000000</td>\n",
       "    </tr>\n",
       "    <tr>\n",
       "      <th>mean</th>\n",
       "      <td>0.000916</td>\n",
       "      <td>-0.000165</td>\n",
       "      <td>0.000578</td>\n",
       "      <td>0.000125</td>\n",
       "      <td>-0.000857</td>\n",
       "      <td>0.000150</td>\n",
       "      <td>0.000400</td>\n",
       "      <td>-0.000803</td>\n",
       "      <td>-0.000025</td>\n",
       "    </tr>\n",
       "    <tr>\n",
       "      <th>std</th>\n",
       "      <td>0.012269</td>\n",
       "      <td>0.013092</td>\n",
       "      <td>0.012312</td>\n",
       "      <td>0.012203</td>\n",
       "      <td>0.012037</td>\n",
       "      <td>0.012925</td>\n",
       "      <td>0.013073</td>\n",
       "      <td>0.012178</td>\n",
       "      <td>0.013161</td>\n",
       "    </tr>\n",
       "    <tr>\n",
       "      <th>min</th>\n",
       "      <td>-0.030543</td>\n",
       "      <td>-0.037784</td>\n",
       "      <td>-0.028513</td>\n",
       "      <td>-0.037094</td>\n",
       "      <td>-0.034010</td>\n",
       "      <td>-0.033899</td>\n",
       "      <td>-0.033616</td>\n",
       "      <td>-0.034426</td>\n",
       "      <td>-0.107593</td>\n",
       "    </tr>\n",
       "    <tr>\n",
       "      <th>25%</th>\n",
       "      <td>-0.007144</td>\n",
       "      <td>-0.009384</td>\n",
       "      <td>-0.008238</td>\n",
       "      <td>-0.007754</td>\n",
       "      <td>-0.008639</td>\n",
       "      <td>-0.008346</td>\n",
       "      <td>-0.009214</td>\n",
       "      <td>-0.008873</td>\n",
       "      <td>-0.006568</td>\n",
       "    </tr>\n",
       "    <tr>\n",
       "      <th>50%</th>\n",
       "      <td>0.001378</td>\n",
       "      <td>0.000628</td>\n",
       "      <td>0.001734</td>\n",
       "      <td>0.000590</td>\n",
       "      <td>-0.001475</td>\n",
       "      <td>-0.000282</td>\n",
       "      <td>-0.000243</td>\n",
       "      <td>-0.000850</td>\n",
       "      <td>-0.000167</td>\n",
       "    </tr>\n",
       "    <tr>\n",
       "      <th>75%</th>\n",
       "      <td>0.008914</td>\n",
       "      <td>0.009425</td>\n",
       "      <td>0.009103</td>\n",
       "      <td>0.009182</td>\n",
       "      <td>0.008070</td>\n",
       "      <td>0.009129</td>\n",
       "      <td>0.009285</td>\n",
       "      <td>0.008028</td>\n",
       "      <td>0.006642</td>\n",
       "    </tr>\n",
       "    <tr>\n",
       "      <th>max</th>\n",
       "      <td>0.028909</td>\n",
       "      <td>0.026521</td>\n",
       "      <td>0.034383</td>\n",
       "      <td>0.027905</td>\n",
       "      <td>0.028542</td>\n",
       "      <td>0.037208</td>\n",
       "      <td>0.035394</td>\n",
       "      <td>0.039461</td>\n",
       "      <td>0.039131</td>\n",
       "    </tr>\n",
       "  </tbody>\n",
       "</table>\n",
       "</div>"
      ],
      "text/plain": [
       "             rnd0        rnd1        rnd2        rnd3        rnd4        rnd5  \\\n",
       "count  249.000000  249.000000  249.000000  249.000000  249.000000  249.000000   \n",
       "mean     0.000916   -0.000165    0.000578    0.000125   -0.000857    0.000150   \n",
       "std      0.012269    0.013092    0.012312    0.012203    0.012037    0.012925   \n",
       "min     -0.030543   -0.037784   -0.028513   -0.037094   -0.034010   -0.033899   \n",
       "25%     -0.007144   -0.009384   -0.008238   -0.007754   -0.008639   -0.008346   \n",
       "50%      0.001378    0.000628    0.001734    0.000590   -0.001475   -0.000282   \n",
       "75%      0.008914    0.009425    0.009103    0.009182    0.008070    0.009129   \n",
       "max      0.028909    0.026521    0.034383    0.027905    0.028542    0.037208   \n",
       "\n",
       "             rnd6        rnd7       stock  \n",
       "count  249.000000  249.000000  249.000000  \n",
       "mean     0.000400   -0.000803   -0.000025  \n",
       "std      0.013073    0.012178    0.013161  \n",
       "min     -0.033616   -0.034426   -0.107593  \n",
       "25%     -0.009214   -0.008873   -0.006568  \n",
       "50%     -0.000243   -0.000850   -0.000167  \n",
       "75%      0.009285    0.008028    0.006642  \n",
       "max      0.035394    0.039461    0.039131  "
      ]
     },
     "execution_count": 44,
     "metadata": {},
     "output_type": "execute_result"
    }
   ],
   "source": [
    "simu_rets = np.log(rnd_df).diff().dropna()\n",
    "simu_rets.describe()"
   ]
  },
  {
   "cell_type": "markdown",
   "metadata": {},
   "source": [
    "___"
   ]
  },
  {
   "cell_type": "markdown",
   "metadata": {},
   "source": [
    "### Generación Sintética de Escenarios Combinados\n",
    "En la realidad se ha visto que las expectativas de mercado cambian y la volatilidad no es constante.\n",
    "Para considerar estas propiedades vamos a muestrear las propiedades estadísticas de períodos históricos\n",
    "y a replicarlos por periodos arbitrarios dentro de los datos generados."
   ]
  },
  {
   "cell_type": "code",
   "execution_count": 45,
   "metadata": {},
   "outputs": [],
   "source": [
    "def sample_market_rets(df, window):\n",
    "    n_all_days = df.shape[0]\n",
    "    available_size = n_all_days - window\n",
    "    start = np.random.randint(0, available_size)\n",
    "    \n",
    "    market_snapshot = df.iloc[start: start+window, :]\n",
    "    rets = np.log(market_snapshot).diff().dropna()\n",
    "    rets.reset_index(drop=True, inplace=True)\n",
    "    return rets"
   ]
  },
  {
   "cell_type": "code",
   "execution_count": 46,
   "metadata": {},
   "outputs": [
    {
     "data": {
      "text/html": [
       "<div>\n",
       "<style scoped>\n",
       "    .dataframe tbody tr th:only-of-type {\n",
       "        vertical-align: middle;\n",
       "    }\n",
       "\n",
       "    .dataframe tbody tr th {\n",
       "        vertical-align: top;\n",
       "    }\n",
       "\n",
       "    .dataframe thead th {\n",
       "        text-align: right;\n",
       "    }\n",
       "</style>\n",
       "<table border=\"1\" class=\"dataframe\">\n",
       "  <thead>\n",
       "    <tr style=\"text-align: right;\">\n",
       "      <th></th>\n",
       "      <th>SAN</th>\n",
       "      <th>FER</th>\n",
       "      <th>ACS</th>\n",
       "      <th>AMS</th>\n",
       "      <th>ITX</th>\n",
       "      <th>BBVA</th>\n",
       "      <th>IBE</th>\n",
       "      <th>REP</th>\n",
       "      <th>GRF</th>\n",
       "      <th>TEF</th>\n",
       "    </tr>\n",
       "  </thead>\n",
       "  <tbody>\n",
       "    <tr>\n",
       "      <th>0</th>\n",
       "      <td>0.008267</td>\n",
       "      <td>-0.006154</td>\n",
       "      <td>-0.005081</td>\n",
       "      <td>-0.008105</td>\n",
       "      <td>-0.016078</td>\n",
       "      <td>-0.002074</td>\n",
       "      <td>0.001387</td>\n",
       "      <td>0.013100</td>\n",
       "      <td>-0.010060</td>\n",
       "      <td>-0.002700</td>\n",
       "    </tr>\n",
       "    <tr>\n",
       "      <th>1</th>\n",
       "      <td>0.007439</td>\n",
       "      <td>0.011660</td>\n",
       "      <td>0.012969</td>\n",
       "      <td>0.014142</td>\n",
       "      <td>0.016078</td>\n",
       "      <td>0.004462</td>\n",
       "      <td>0.009998</td>\n",
       "      <td>0.011541</td>\n",
       "      <td>0.020019</td>\n",
       "      <td>0.016221</td>\n",
       "    </tr>\n",
       "    <tr>\n",
       "      <th>2</th>\n",
       "      <td>-0.003045</td>\n",
       "      <td>0.022025</td>\n",
       "      <td>0.000942</td>\n",
       "      <td>-0.001673</td>\n",
       "      <td>0.016216</td>\n",
       "      <td>0.008392</td>\n",
       "      <td>0.036049</td>\n",
       "      <td>-0.005229</td>\n",
       "      <td>0.024033</td>\n",
       "      <td>0.012465</td>\n",
       "    </tr>\n",
       "    <tr>\n",
       "      <th>3</th>\n",
       "      <td>0.009297</td>\n",
       "      <td>0.012456</td>\n",
       "      <td>-0.006299</td>\n",
       "      <td>0.004344</td>\n",
       "      <td>-0.002357</td>\n",
       "      <td>0.013625</td>\n",
       "      <td>-0.011984</td>\n",
       "      <td>0.007660</td>\n",
       "      <td>0.011803</td>\n",
       "      <td>0.004494</td>\n",
       "    </tr>\n",
       "    <tr>\n",
       "      <th>4</th>\n",
       "      <td>-0.012352</td>\n",
       "      <td>-0.009774</td>\n",
       "      <td>-0.020751</td>\n",
       "      <td>-0.011402</td>\n",
       "      <td>0.010172</td>\n",
       "      <td>-0.009848</td>\n",
       "      <td>-0.002683</td>\n",
       "      <td>0.005879</td>\n",
       "      <td>-0.035386</td>\n",
       "      <td>-0.004369</td>\n",
       "    </tr>\n",
       "  </tbody>\n",
       "</table>\n",
       "</div>"
      ],
      "text/plain": [
       "        SAN       FER       ACS       AMS       ITX      BBVA       IBE  \\\n",
       "0  0.008267 -0.006154 -0.005081 -0.008105 -0.016078 -0.002074  0.001387   \n",
       "1  0.007439  0.011660  0.012969  0.014142  0.016078  0.004462  0.009998   \n",
       "2 -0.003045  0.022025  0.000942 -0.001673  0.016216  0.008392  0.036049   \n",
       "3  0.009297  0.012456 -0.006299  0.004344 -0.002357  0.013625 -0.011984   \n",
       "4 -0.012352 -0.009774 -0.020751 -0.011402  0.010172 -0.009848 -0.002683   \n",
       "\n",
       "        REP       GRF       TEF  \n",
       "0  0.013100 -0.010060 -0.002700  \n",
       "1  0.011541  0.020019  0.016221  \n",
       "2 -0.005229  0.024033  0.012465  \n",
       "3  0.007660  0.011803  0.004494  \n",
       "4  0.005879 -0.035386 -0.004369  "
      ]
     },
     "execution_count": 46,
     "metadata": {},
     "output_type": "execute_result"
    }
   ],
   "source": [
    "market_ret = sample_market_rets(stock_df, 60)\n",
    "market_ret.head()"
   ]
  },
  {
   "cell_type": "code",
   "execution_count": 47,
   "metadata": {},
   "outputs": [
    {
     "data": {
      "text/plain": [
       "SAN    -0.001602\n",
       "FER     0.002192\n",
       "ACS     0.002310\n",
       "AMS     0.003201\n",
       "ITX     0.002985\n",
       "BBVA   -0.000472\n",
       "IBE     0.002208\n",
       "REP     0.003368\n",
       "GRF     0.003307\n",
       "TEF    -0.000488\n",
       "dtype: float64"
      ]
     },
     "execution_count": 47,
     "metadata": {},
     "output_type": "execute_result"
    }
   ],
   "source": [
    "market_ret.mean()"
   ]
  },
  {
   "cell_type": "code",
   "execution_count": 49,
   "metadata": {},
   "outputs": [
    {
     "data": {
      "text/html": [
       "<style  type=\"text/css\" >\n",
       "    #T_d4652cc3_e589_11eb_9739_8cc84bef2bferow0_col0 {\n",
       "            background-color:  #023858;\n",
       "            color:  #f1f1f1;\n",
       "        }    #T_d4652cc3_e589_11eb_9739_8cc84bef2bferow0_col1 {\n",
       "            background-color:  #c0c9e2;\n",
       "            color:  #000000;\n",
       "        }    #T_d4652cc3_e589_11eb_9739_8cc84bef2bferow0_col2 {\n",
       "            background-color:  #549cc7;\n",
       "            color:  #000000;\n",
       "        }    #T_d4652cc3_e589_11eb_9739_8cc84bef2bferow0_col3 {\n",
       "            background-color:  #e5e1ef;\n",
       "            color:  #000000;\n",
       "        }    #T_d4652cc3_e589_11eb_9739_8cc84bef2bferow0_col4 {\n",
       "            background-color:  #d2d3e7;\n",
       "            color:  #000000;\n",
       "        }    #T_d4652cc3_e589_11eb_9739_8cc84bef2bferow0_col5 {\n",
       "            background-color:  #04629a;\n",
       "            color:  #f1f1f1;\n",
       "        }    #T_d4652cc3_e589_11eb_9739_8cc84bef2bferow0_col6 {\n",
       "            background-color:  #a2bcda;\n",
       "            color:  #000000;\n",
       "        }    #T_d4652cc3_e589_11eb_9739_8cc84bef2bferow0_col7 {\n",
       "            background-color:  #67a4cc;\n",
       "            color:  #000000;\n",
       "        }    #T_d4652cc3_e589_11eb_9739_8cc84bef2bferow0_col8 {\n",
       "            background-color:  #b5c4df;\n",
       "            color:  #000000;\n",
       "        }    #T_d4652cc3_e589_11eb_9739_8cc84bef2bferow0_col9 {\n",
       "            background-color:  #529bc7;\n",
       "            color:  #000000;\n",
       "        }    #T_d4652cc3_e589_11eb_9739_8cc84bef2bferow1_col0 {\n",
       "            background-color:  #afc1dd;\n",
       "            color:  #000000;\n",
       "        }    #T_d4652cc3_e589_11eb_9739_8cc84bef2bferow1_col1 {\n",
       "            background-color:  #023858;\n",
       "            color:  #f1f1f1;\n",
       "        }    #T_d4652cc3_e589_11eb_9739_8cc84bef2bferow1_col2 {\n",
       "            background-color:  #8fb4d6;\n",
       "            color:  #000000;\n",
       "        }    #T_d4652cc3_e589_11eb_9739_8cc84bef2bferow1_col3 {\n",
       "            background-color:  #e0dded;\n",
       "            color:  #000000;\n",
       "        }    #T_d4652cc3_e589_11eb_9739_8cc84bef2bferow1_col4 {\n",
       "            background-color:  #c0c9e2;\n",
       "            color:  #000000;\n",
       "        }    #T_d4652cc3_e589_11eb_9739_8cc84bef2bferow1_col5 {\n",
       "            background-color:  #acc0dd;\n",
       "            color:  #000000;\n",
       "        }    #T_d4652cc3_e589_11eb_9739_8cc84bef2bferow1_col6 {\n",
       "            background-color:  #89b1d4;\n",
       "            color:  #000000;\n",
       "        }    #T_d4652cc3_e589_11eb_9739_8cc84bef2bferow1_col7 {\n",
       "            background-color:  #c1cae2;\n",
       "            color:  #000000;\n",
       "        }    #T_d4652cc3_e589_11eb_9739_8cc84bef2bferow1_col8 {\n",
       "            background-color:  #d4d4e8;\n",
       "            color:  #000000;\n",
       "        }    #T_d4652cc3_e589_11eb_9739_8cc84bef2bferow1_col9 {\n",
       "            background-color:  #6da6cd;\n",
       "            color:  #000000;\n",
       "        }    #T_d4652cc3_e589_11eb_9739_8cc84bef2bferow2_col0 {\n",
       "            background-color:  #6ba5cd;\n",
       "            color:  #000000;\n",
       "        }    #T_d4652cc3_e589_11eb_9739_8cc84bef2bferow2_col1 {\n",
       "            background-color:  #b9c6e0;\n",
       "            color:  #000000;\n",
       "        }    #T_d4652cc3_e589_11eb_9739_8cc84bef2bferow2_col2 {\n",
       "            background-color:  #023858;\n",
       "            color:  #f1f1f1;\n",
       "        }    #T_d4652cc3_e589_11eb_9739_8cc84bef2bferow2_col3 {\n",
       "            background-color:  #c0c9e2;\n",
       "            color:  #000000;\n",
       "        }    #T_d4652cc3_e589_11eb_9739_8cc84bef2bferow2_col4 {\n",
       "            background-color:  #e5e1ef;\n",
       "            color:  #000000;\n",
       "        }    #T_d4652cc3_e589_11eb_9739_8cc84bef2bferow2_col5 {\n",
       "            background-color:  #81aed2;\n",
       "            color:  #000000;\n",
       "        }    #T_d4652cc3_e589_11eb_9739_8cc84bef2bferow2_col6 {\n",
       "            background-color:  #9cb9d9;\n",
       "            color:  #000000;\n",
       "        }    #T_d4652cc3_e589_11eb_9739_8cc84bef2bferow2_col7 {\n",
       "            background-color:  #4697c4;\n",
       "            color:  #000000;\n",
       "        }    #T_d4652cc3_e589_11eb_9739_8cc84bef2bferow2_col8 {\n",
       "            background-color:  #9cb9d9;\n",
       "            color:  #000000;\n",
       "        }    #T_d4652cc3_e589_11eb_9739_8cc84bef2bferow2_col9 {\n",
       "            background-color:  #84b0d3;\n",
       "            color:  #000000;\n",
       "        }    #T_d4652cc3_e589_11eb_9739_8cc84bef2bferow3_col0 {\n",
       "            background-color:  #f2ecf5;\n",
       "            color:  #000000;\n",
       "        }    #T_d4652cc3_e589_11eb_9739_8cc84bef2bferow3_col1 {\n",
       "            background-color:  #f9f2f8;\n",
       "            color:  #000000;\n",
       "        }    #T_d4652cc3_e589_11eb_9739_8cc84bef2bferow3_col2 {\n",
       "            background-color:  #bbc7e0;\n",
       "            color:  #000000;\n",
       "        }    #T_d4652cc3_e589_11eb_9739_8cc84bef2bferow3_col3 {\n",
       "            background-color:  #023858;\n",
       "            color:  #f1f1f1;\n",
       "        }    #T_d4652cc3_e589_11eb_9739_8cc84bef2bferow3_col4 {\n",
       "            background-color:  #b1c2de;\n",
       "            color:  #000000;\n",
       "        }    #T_d4652cc3_e589_11eb_9739_8cc84bef2bferow3_col5 {\n",
       "            background-color:  #fef6fb;\n",
       "            color:  #000000;\n",
       "        }    #T_d4652cc3_e589_11eb_9739_8cc84bef2bferow3_col6 {\n",
       "            background-color:  #fff7fb;\n",
       "            color:  #000000;\n",
       "        }    #T_d4652cc3_e589_11eb_9739_8cc84bef2bferow3_col7 {\n",
       "            background-color:  #d2d3e7;\n",
       "            color:  #000000;\n",
       "        }    #T_d4652cc3_e589_11eb_9739_8cc84bef2bferow3_col8 {\n",
       "            background-color:  #b4c4df;\n",
       "            color:  #000000;\n",
       "        }    #T_d4652cc3_e589_11eb_9739_8cc84bef2bferow3_col9 {\n",
       "            background-color:  #fff7fb;\n",
       "            color:  #000000;\n",
       "        }    #T_d4652cc3_e589_11eb_9739_8cc84bef2bferow4_col0 {\n",
       "            background-color:  #fff7fb;\n",
       "            color:  #000000;\n",
       "        }    #T_d4652cc3_e589_11eb_9739_8cc84bef2bferow4_col1 {\n",
       "            background-color:  #fff7fb;\n",
       "            color:  #000000;\n",
       "        }    #T_d4652cc3_e589_11eb_9739_8cc84bef2bferow4_col2 {\n",
       "            background-color:  #fff7fb;\n",
       "            color:  #000000;\n",
       "        }    #T_d4652cc3_e589_11eb_9739_8cc84bef2bferow4_col3 {\n",
       "            background-color:  #dad9ea;\n",
       "            color:  #000000;\n",
       "        }    #T_d4652cc3_e589_11eb_9739_8cc84bef2bferow4_col4 {\n",
       "            background-color:  #023858;\n",
       "            color:  #f1f1f1;\n",
       "        }    #T_d4652cc3_e589_11eb_9739_8cc84bef2bferow4_col5 {\n",
       "            background-color:  #fff7fb;\n",
       "            color:  #000000;\n",
       "        }    #T_d4652cc3_e589_11eb_9739_8cc84bef2bferow4_col6 {\n",
       "            background-color:  #ced0e6;\n",
       "            color:  #000000;\n",
       "        }    #T_d4652cc3_e589_11eb_9739_8cc84bef2bferow4_col7 {\n",
       "            background-color:  #fff7fb;\n",
       "            color:  #000000;\n",
       "        }    #T_d4652cc3_e589_11eb_9739_8cc84bef2bferow4_col8 {\n",
       "            background-color:  #f9f2f8;\n",
       "            color:  #000000;\n",
       "        }    #T_d4652cc3_e589_11eb_9739_8cc84bef2bferow4_col9 {\n",
       "            background-color:  #eae6f1;\n",
       "            color:  #000000;\n",
       "        }    #T_d4652cc3_e589_11eb_9739_8cc84bef2bferow5_col0 {\n",
       "            background-color:  #04629a;\n",
       "            color:  #f1f1f1;\n",
       "        }    #T_d4652cc3_e589_11eb_9739_8cc84bef2bferow5_col1 {\n",
       "            background-color:  #bfc9e1;\n",
       "            color:  #000000;\n",
       "        }    #T_d4652cc3_e589_11eb_9739_8cc84bef2bferow5_col2 {\n",
       "            background-color:  #6ba5cd;\n",
       "            color:  #000000;\n",
       "        }    #T_d4652cc3_e589_11eb_9739_8cc84bef2bferow5_col3 {\n",
       "            background-color:  #f3edf5;\n",
       "            color:  #000000;\n",
       "        }    #T_d4652cc3_e589_11eb_9739_8cc84bef2bferow5_col4 {\n",
       "            background-color:  #d3d4e7;\n",
       "            color:  #000000;\n",
       "        }    #T_d4652cc3_e589_11eb_9739_8cc84bef2bferow5_col5 {\n",
       "            background-color:  #023858;\n",
       "            color:  #f1f1f1;\n",
       "        }    #T_d4652cc3_e589_11eb_9739_8cc84bef2bferow5_col6 {\n",
       "            background-color:  #7eadd1;\n",
       "            color:  #000000;\n",
       "        }    #T_d4652cc3_e589_11eb_9739_8cc84bef2bferow5_col7 {\n",
       "            background-color:  #569dc8;\n",
       "            color:  #000000;\n",
       "        }    #T_d4652cc3_e589_11eb_9739_8cc84bef2bferow5_col8 {\n",
       "            background-color:  #bcc7e1;\n",
       "            color:  #000000;\n",
       "        }    #T_d4652cc3_e589_11eb_9739_8cc84bef2bferow5_col9 {\n",
       "            background-color:  #6ba5cd;\n",
       "            color:  #000000;\n",
       "        }    #T_d4652cc3_e589_11eb_9739_8cc84bef2bferow6_col0 {\n",
       "            background-color:  #b4c4df;\n",
       "            color:  #000000;\n",
       "        }    #T_d4652cc3_e589_11eb_9739_8cc84bef2bferow6_col1 {\n",
       "            background-color:  #afc1dd;\n",
       "            color:  #000000;\n",
       "        }    #T_d4652cc3_e589_11eb_9739_8cc84bef2bferow6_col2 {\n",
       "            background-color:  #97b7d7;\n",
       "            color:  #000000;\n",
       "        }    #T_d4652cc3_e589_11eb_9739_8cc84bef2bferow6_col3 {\n",
       "            background-color:  #fff7fb;\n",
       "            color:  #000000;\n",
       "        }    #T_d4652cc3_e589_11eb_9739_8cc84bef2bferow6_col4 {\n",
       "            background-color:  #a2bcda;\n",
       "            color:  #000000;\n",
       "        }    #T_d4652cc3_e589_11eb_9739_8cc84bef2bferow6_col5 {\n",
       "            background-color:  #91b5d6;\n",
       "            color:  #000000;\n",
       "        }    #T_d4652cc3_e589_11eb_9739_8cc84bef2bferow6_col6 {\n",
       "            background-color:  #023858;\n",
       "            color:  #f1f1f1;\n",
       "        }    #T_d4652cc3_e589_11eb_9739_8cc84bef2bferow6_col7 {\n",
       "            background-color:  #a9bfdc;\n",
       "            color:  #000000;\n",
       "        }    #T_d4652cc3_e589_11eb_9739_8cc84bef2bferow6_col8 {\n",
       "            background-color:  #e7e3f0;\n",
       "            color:  #000000;\n",
       "        }    #T_d4652cc3_e589_11eb_9739_8cc84bef2bferow6_col9 {\n",
       "            background-color:  #a8bedc;\n",
       "            color:  #000000;\n",
       "        }    #T_d4652cc3_e589_11eb_9739_8cc84bef2bferow7_col0 {\n",
       "            background-color:  #a7bddb;\n",
       "            color:  #000000;\n",
       "        }    #T_d4652cc3_e589_11eb_9739_8cc84bef2bferow7_col1 {\n",
       "            background-color:  #fff7fb;\n",
       "            color:  #000000;\n",
       "        }    #T_d4652cc3_e589_11eb_9739_8cc84bef2bferow7_col2 {\n",
       "            background-color:  #6da6cd;\n",
       "            color:  #000000;\n",
       "        }    #T_d4652cc3_e589_11eb_9739_8cc84bef2bferow7_col3 {\n",
       "            background-color:  #f3edf5;\n",
       "            color:  #000000;\n",
       "        }    #T_d4652cc3_e589_11eb_9739_8cc84bef2bferow7_col4 {\n",
       "            background-color:  #fff7fb;\n",
       "            color:  #000000;\n",
       "        }    #T_d4652cc3_e589_11eb_9739_8cc84bef2bferow7_col5 {\n",
       "            background-color:  #91b5d6;\n",
       "            color:  #000000;\n",
       "        }    #T_d4652cc3_e589_11eb_9739_8cc84bef2bferow7_col6 {\n",
       "            background-color:  #d4d4e8;\n",
       "            color:  #000000;\n",
       "        }    #T_d4652cc3_e589_11eb_9739_8cc84bef2bferow7_col7 {\n",
       "            background-color:  #023858;\n",
       "            color:  #f1f1f1;\n",
       "        }    #T_d4652cc3_e589_11eb_9739_8cc84bef2bferow7_col8 {\n",
       "            background-color:  #fff7fb;\n",
       "            color:  #000000;\n",
       "        }    #T_d4652cc3_e589_11eb_9739_8cc84bef2bferow7_col9 {\n",
       "            background-color:  #e4e1ef;\n",
       "            color:  #000000;\n",
       "        }    #T_d4652cc3_e589_11eb_9739_8cc84bef2bferow8_col0 {\n",
       "            background-color:  #c5cce3;\n",
       "            color:  #000000;\n",
       "        }    #T_d4652cc3_e589_11eb_9739_8cc84bef2bferow8_col1 {\n",
       "            background-color:  #eee8f3;\n",
       "            color:  #000000;\n",
       "        }    #T_d4652cc3_e589_11eb_9739_8cc84bef2bferow8_col2 {\n",
       "            background-color:  #91b5d6;\n",
       "            color:  #000000;\n",
       "        }    #T_d4652cc3_e589_11eb_9739_8cc84bef2bferow8_col3 {\n",
       "            background-color:  #afc1dd;\n",
       "            color:  #000000;\n",
       "        }    #T_d4652cc3_e589_11eb_9739_8cc84bef2bferow8_col4 {\n",
       "            background-color:  #d6d6e9;\n",
       "            color:  #000000;\n",
       "        }    #T_d4652cc3_e589_11eb_9739_8cc84bef2bferow8_col5 {\n",
       "            background-color:  #cacee5;\n",
       "            color:  #000000;\n",
       "        }    #T_d4652cc3_e589_11eb_9739_8cc84bef2bferow8_col6 {\n",
       "            background-color:  #e3e0ee;\n",
       "            color:  #000000;\n",
       "        }    #T_d4652cc3_e589_11eb_9739_8cc84bef2bferow8_col7 {\n",
       "            background-color:  #dddbec;\n",
       "            color:  #000000;\n",
       "        }    #T_d4652cc3_e589_11eb_9739_8cc84bef2bferow8_col8 {\n",
       "            background-color:  #023858;\n",
       "            color:  #f1f1f1;\n",
       "        }    #T_d4652cc3_e589_11eb_9739_8cc84bef2bferow8_col9 {\n",
       "            background-color:  #e6e2ef;\n",
       "            color:  #000000;\n",
       "        }    #T_d4652cc3_e589_11eb_9739_8cc84bef2bferow9_col0 {\n",
       "            background-color:  #4697c4;\n",
       "            color:  #000000;\n",
       "        }    #T_d4652cc3_e589_11eb_9739_8cc84bef2bferow9_col1 {\n",
       "            background-color:  #71a8ce;\n",
       "            color:  #000000;\n",
       "        }    #T_d4652cc3_e589_11eb_9739_8cc84bef2bferow9_col2 {\n",
       "            background-color:  #60a1ca;\n",
       "            color:  #000000;\n",
       "        }    #T_d4652cc3_e589_11eb_9739_8cc84bef2bferow9_col3 {\n",
       "            background-color:  #eae6f1;\n",
       "            color:  #000000;\n",
       "        }    #T_d4652cc3_e589_11eb_9739_8cc84bef2bferow9_col4 {\n",
       "            background-color:  #a4bcda;\n",
       "            color:  #000000;\n",
       "        }    #T_d4652cc3_e589_11eb_9739_8cc84bef2bferow9_col5 {\n",
       "            background-color:  #5c9fc9;\n",
       "            color:  #000000;\n",
       "        }    #T_d4652cc3_e589_11eb_9739_8cc84bef2bferow9_col6 {\n",
       "            background-color:  #86b0d3;\n",
       "            color:  #000000;\n",
       "        }    #T_d4652cc3_e589_11eb_9739_8cc84bef2bferow9_col7 {\n",
       "            background-color:  #9cb9d9;\n",
       "            color:  #000000;\n",
       "        }    #T_d4652cc3_e589_11eb_9739_8cc84bef2bferow9_col8 {\n",
       "            background-color:  #d0d1e6;\n",
       "            color:  #000000;\n",
       "        }    #T_d4652cc3_e589_11eb_9739_8cc84bef2bferow9_col9 {\n",
       "            background-color:  #023858;\n",
       "            color:  #f1f1f1;\n",
       "        }</style><table id=\"T_d4652cc3_e589_11eb_9739_8cc84bef2bfe\" ><thead>    <tr>        <th class=\"blank level0\" ></th>        <th class=\"col_heading level0 col0\" >SAN</th>        <th class=\"col_heading level0 col1\" >FER</th>        <th class=\"col_heading level0 col2\" >ACS</th>        <th class=\"col_heading level0 col3\" >AMS</th>        <th class=\"col_heading level0 col4\" >ITX</th>        <th class=\"col_heading level0 col5\" >BBVA</th>        <th class=\"col_heading level0 col6\" >IBE</th>        <th class=\"col_heading level0 col7\" >REP</th>        <th class=\"col_heading level0 col8\" >GRF</th>        <th class=\"col_heading level0 col9\" >TEF</th>    </tr></thead><tbody>\n",
       "                <tr>\n",
       "                        <th id=\"T_d4652cc3_e589_11eb_9739_8cc84bef2bfelevel0_row0\" class=\"row_heading level0 row0\" >SAN</th>\n",
       "                        <td id=\"T_d4652cc3_e589_11eb_9739_8cc84bef2bferow0_col0\" class=\"data row0 col0\" >1.000000</td>\n",
       "                        <td id=\"T_d4652cc3_e589_11eb_9739_8cc84bef2bferow0_col1\" class=\"data row0 col1\" >0.444435</td>\n",
       "                        <td id=\"T_d4652cc3_e589_11eb_9739_8cc84bef2bferow0_col2\" class=\"data row0 col2\" >0.587224</td>\n",
       "                        <td id=\"T_d4652cc3_e589_11eb_9739_8cc84bef2bferow0_col3\" class=\"data row0 col3\" >0.216588</td>\n",
       "                        <td id=\"T_d4652cc3_e589_11eb_9739_8cc84bef2bferow0_col4\" class=\"data row0 col4\" >0.144201</td>\n",
       "                        <td id=\"T_d4652cc3_e589_11eb_9739_8cc84bef2bferow0_col5\" class=\"data row0 col5\" >0.849722</td>\n",
       "                        <td id=\"T_d4652cc3_e589_11eb_9739_8cc84bef2bferow0_col6\" class=\"data row0 col6\" >0.428779</td>\n",
       "                        <td id=\"T_d4652cc3_e589_11eb_9739_8cc84bef2bferow0_col7\" class=\"data row0 col7\" >0.463230</td>\n",
       "                        <td id=\"T_d4652cc3_e589_11eb_9739_8cc84bef2bferow0_col8\" class=\"data row0 col8\" >0.387721</td>\n",
       "                        <td id=\"T_d4652cc3_e589_11eb_9739_8cc84bef2bferow0_col9\" class=\"data row0 col9\" >0.650446</td>\n",
       "            </tr>\n",
       "            <tr>\n",
       "                        <th id=\"T_d4652cc3_e589_11eb_9739_8cc84bef2bfelevel0_row1\" class=\"row_heading level0 row1\" >FER</th>\n",
       "                        <td id=\"T_d4652cc3_e589_11eb_9739_8cc84bef2bferow1_col0\" class=\"data row1 col0\" >0.444435</td>\n",
       "                        <td id=\"T_d4652cc3_e589_11eb_9739_8cc84bef2bferow1_col1\" class=\"data row1 col1\" >1.000000</td>\n",
       "                        <td id=\"T_d4652cc3_e589_11eb_9739_8cc84bef2bferow1_col2\" class=\"data row1 col2\" >0.459117</td>\n",
       "                        <td id=\"T_d4652cc3_e589_11eb_9739_8cc84bef2bferow1_col3\" class=\"data row1 col3\" >0.237614</td>\n",
       "                        <td id=\"T_d4652cc3_e589_11eb_9739_8cc84bef2bferow1_col4\" class=\"data row1 col4\" >0.208996</td>\n",
       "                        <td id=\"T_d4652cc3_e589_11eb_9739_8cc84bef2bferow1_col5\" class=\"data row1 col5\" >0.447941</td>\n",
       "                        <td id=\"T_d4652cc3_e589_11eb_9739_8cc84bef2bferow1_col6\" class=\"data row1 col6\" >0.484557</td>\n",
       "                        <td id=\"T_d4652cc3_e589_11eb_9739_8cc84bef2bferow1_col7\" class=\"data row1 col7\" >0.206166</td>\n",
       "                        <td id=\"T_d4652cc3_e589_11eb_9739_8cc84bef2bferow1_col8\" class=\"data row1 col8\" >0.298913</td>\n",
       "                        <td id=\"T_d4652cc3_e589_11eb_9739_8cc84bef2bferow1_col9\" class=\"data row1 col9\" >0.606812</td>\n",
       "            </tr>\n",
       "            <tr>\n",
       "                        <th id=\"T_d4652cc3_e589_11eb_9739_8cc84bef2bfelevel0_row2\" class=\"row_heading level0 row2\" >ACS</th>\n",
       "                        <td id=\"T_d4652cc3_e589_11eb_9739_8cc84bef2bferow2_col0\" class=\"data row2 col0\" >0.587224</td>\n",
       "                        <td id=\"T_d4652cc3_e589_11eb_9739_8cc84bef2bferow2_col1\" class=\"data row2 col1\" >0.459117</td>\n",
       "                        <td id=\"T_d4652cc3_e589_11eb_9739_8cc84bef2bferow2_col2\" class=\"data row2 col2\" >1.000000</td>\n",
       "                        <td id=\"T_d4652cc3_e589_11eb_9739_8cc84bef2bferow2_col3\" class=\"data row2 col3\" >0.346133</td>\n",
       "                        <td id=\"T_d4652cc3_e589_11eb_9739_8cc84bef2bferow2_col4\" class=\"data row2 col4\" >0.048729</td>\n",
       "                        <td id=\"T_d4652cc3_e589_11eb_9739_8cc84bef2bferow2_col5\" class=\"data row2 col5\" >0.539984</td>\n",
       "                        <td id=\"T_d4652cc3_e589_11eb_9739_8cc84bef2bferow2_col6\" class=\"data row2 col6\" >0.440951</td>\n",
       "                        <td id=\"T_d4652cc3_e589_11eb_9739_8cc84bef2bferow2_col7\" class=\"data row2 col7\" >0.538947</td>\n",
       "                        <td id=\"T_d4652cc3_e589_11eb_9739_8cc84bef2bferow2_col8\" class=\"data row2 col8\" >0.454958</td>\n",
       "                        <td id=\"T_d4652cc3_e589_11eb_9739_8cc84bef2bferow2_col9\" class=\"data row2 col9\" >0.562284</td>\n",
       "            </tr>\n",
       "            <tr>\n",
       "                        <th id=\"T_d4652cc3_e589_11eb_9739_8cc84bef2bfelevel0_row3\" class=\"row_heading level0 row3\" >AMS</th>\n",
       "                        <td id=\"T_d4652cc3_e589_11eb_9739_8cc84bef2bferow3_col0\" class=\"data row3 col0\" >0.216588</td>\n",
       "                        <td id=\"T_d4652cc3_e589_11eb_9739_8cc84bef2bferow3_col1\" class=\"data row3 col1\" >0.237614</td>\n",
       "                        <td id=\"T_d4652cc3_e589_11eb_9739_8cc84bef2bferow3_col2\" class=\"data row3 col2\" >0.346133</td>\n",
       "                        <td id=\"T_d4652cc3_e589_11eb_9739_8cc84bef2bferow3_col3\" class=\"data row3 col3\" >1.000000</td>\n",
       "                        <td id=\"T_d4652cc3_e589_11eb_9739_8cc84bef2bferow3_col4\" class=\"data row3 col4\" >0.259472</td>\n",
       "                        <td id=\"T_d4652cc3_e589_11eb_9739_8cc84bef2bferow3_col5\" class=\"data row3 col5\" >0.144285</td>\n",
       "                        <td id=\"T_d4652cc3_e589_11eb_9739_8cc84bef2bferow3_col6\" class=\"data row3 col6\" >0.068827</td>\n",
       "                        <td id=\"T_d4652cc3_e589_11eb_9739_8cc84bef2bferow3_col7\" class=\"data row3 col7\" >0.143721</td>\n",
       "                        <td id=\"T_d4652cc3_e589_11eb_9739_8cc84bef2bferow3_col8\" class=\"data row3 col8\" >0.393734</td>\n",
       "                        <td id=\"T_d4652cc3_e589_11eb_9739_8cc84bef2bferow3_col9\" class=\"data row3 col9\" >0.193511</td>\n",
       "            </tr>\n",
       "            <tr>\n",
       "                        <th id=\"T_d4652cc3_e589_11eb_9739_8cc84bef2bfelevel0_row4\" class=\"row_heading level0 row4\" >ITX</th>\n",
       "                        <td id=\"T_d4652cc3_e589_11eb_9739_8cc84bef2bferow4_col0\" class=\"data row4 col0\" >0.144201</td>\n",
       "                        <td id=\"T_d4652cc3_e589_11eb_9739_8cc84bef2bferow4_col1\" class=\"data row4 col1\" >0.208996</td>\n",
       "                        <td id=\"T_d4652cc3_e589_11eb_9739_8cc84bef2bferow4_col2\" class=\"data row4 col2\" >0.048729</td>\n",
       "                        <td id=\"T_d4652cc3_e589_11eb_9739_8cc84bef2bferow4_col3\" class=\"data row4 col3\" >0.259472</td>\n",
       "                        <td id=\"T_d4652cc3_e589_11eb_9739_8cc84bef2bferow4_col4\" class=\"data row4 col4\" >1.000000</td>\n",
       "                        <td id=\"T_d4652cc3_e589_11eb_9739_8cc84bef2bferow4_col5\" class=\"data row4 col5\" >0.140215</td>\n",
       "                        <td id=\"T_d4652cc3_e589_11eb_9739_8cc84bef2bferow4_col6\" class=\"data row4 col6\" >0.305795</td>\n",
       "                        <td id=\"T_d4652cc3_e589_11eb_9739_8cc84bef2bferow4_col7\" class=\"data row4 col7\" >-0.127581</td>\n",
       "                        <td id=\"T_d4652cc3_e589_11eb_9739_8cc84bef2bferow4_col8\" class=\"data row4 col8\" >0.127537</td>\n",
       "                        <td id=\"T_d4652cc3_e589_11eb_9739_8cc84bef2bferow4_col9\" class=\"data row4 col9\" >0.302148</td>\n",
       "            </tr>\n",
       "            <tr>\n",
       "                        <th id=\"T_d4652cc3_e589_11eb_9739_8cc84bef2bfelevel0_row5\" class=\"row_heading level0 row5\" >BBVA</th>\n",
       "                        <td id=\"T_d4652cc3_e589_11eb_9739_8cc84bef2bferow5_col0\" class=\"data row5 col0\" >0.849722</td>\n",
       "                        <td id=\"T_d4652cc3_e589_11eb_9739_8cc84bef2bferow5_col1\" class=\"data row5 col1\" >0.447941</td>\n",
       "                        <td id=\"T_d4652cc3_e589_11eb_9739_8cc84bef2bferow5_col2\" class=\"data row5 col2\" >0.539984</td>\n",
       "                        <td id=\"T_d4652cc3_e589_11eb_9739_8cc84bef2bferow5_col3\" class=\"data row5 col3\" >0.144285</td>\n",
       "                        <td id=\"T_d4652cc3_e589_11eb_9739_8cc84bef2bferow5_col4\" class=\"data row5 col4\" >0.140215</td>\n",
       "                        <td id=\"T_d4652cc3_e589_11eb_9739_8cc84bef2bferow5_col5\" class=\"data row5 col5\" >1.000000</td>\n",
       "                        <td id=\"T_d4652cc3_e589_11eb_9739_8cc84bef2bferow5_col6\" class=\"data row5 col6\" >0.509067</td>\n",
       "                        <td id=\"T_d4652cc3_e589_11eb_9739_8cc84bef2bferow5_col7\" class=\"data row5 col7\" >0.506413</td>\n",
       "                        <td id=\"T_d4652cc3_e589_11eb_9739_8cc84bef2bferow5_col8\" class=\"data row5 col8\" >0.370219</td>\n",
       "                        <td id=\"T_d4652cc3_e589_11eb_9739_8cc84bef2bferow5_col9\" class=\"data row5 col9\" >0.611388</td>\n",
       "            </tr>\n",
       "            <tr>\n",
       "                        <th id=\"T_d4652cc3_e589_11eb_9739_8cc84bef2bfelevel0_row6\" class=\"row_heading level0 row6\" >IBE</th>\n",
       "                        <td id=\"T_d4652cc3_e589_11eb_9739_8cc84bef2bferow6_col0\" class=\"data row6 col0\" >0.428779</td>\n",
       "                        <td id=\"T_d4652cc3_e589_11eb_9739_8cc84bef2bferow6_col1\" class=\"data row6 col1\" >0.484557</td>\n",
       "                        <td id=\"T_d4652cc3_e589_11eb_9739_8cc84bef2bferow6_col2\" class=\"data row6 col2\" >0.440951</td>\n",
       "                        <td id=\"T_d4652cc3_e589_11eb_9739_8cc84bef2bferow6_col3\" class=\"data row6 col3\" >0.068827</td>\n",
       "                        <td id=\"T_d4652cc3_e589_11eb_9739_8cc84bef2bferow6_col4\" class=\"data row6 col4\" >0.305795</td>\n",
       "                        <td id=\"T_d4652cc3_e589_11eb_9739_8cc84bef2bferow6_col5\" class=\"data row6 col5\" >0.509067</td>\n",
       "                        <td id=\"T_d4652cc3_e589_11eb_9739_8cc84bef2bferow6_col6\" class=\"data row6 col6\" >1.000000</td>\n",
       "                        <td id=\"T_d4652cc3_e589_11eb_9739_8cc84bef2bferow6_col7\" class=\"data row6 col7\" >0.283647</td>\n",
       "                        <td id=\"T_d4652cc3_e589_11eb_9739_8cc84bef2bferow6_col8\" class=\"data row6 col8\" >0.222865</td>\n",
       "                        <td id=\"T_d4652cc3_e589_11eb_9739_8cc84bef2bferow6_col9\" class=\"data row6 col9\" >0.491363</td>\n",
       "            </tr>\n",
       "            <tr>\n",
       "                        <th id=\"T_d4652cc3_e589_11eb_9739_8cc84bef2bfelevel0_row7\" class=\"row_heading level0 row7\" >REP</th>\n",
       "                        <td id=\"T_d4652cc3_e589_11eb_9739_8cc84bef2bferow7_col0\" class=\"data row7 col0\" >0.463230</td>\n",
       "                        <td id=\"T_d4652cc3_e589_11eb_9739_8cc84bef2bferow7_col1\" class=\"data row7 col1\" >0.206166</td>\n",
       "                        <td id=\"T_d4652cc3_e589_11eb_9739_8cc84bef2bferow7_col2\" class=\"data row7 col2\" >0.538947</td>\n",
       "                        <td id=\"T_d4652cc3_e589_11eb_9739_8cc84bef2bferow7_col3\" class=\"data row7 col3\" >0.143721</td>\n",
       "                        <td id=\"T_d4652cc3_e589_11eb_9739_8cc84bef2bferow7_col4\" class=\"data row7 col4\" >-0.127581</td>\n",
       "                        <td id=\"T_d4652cc3_e589_11eb_9739_8cc84bef2bferow7_col5\" class=\"data row7 col5\" >0.506413</td>\n",
       "                        <td id=\"T_d4652cc3_e589_11eb_9739_8cc84bef2bferow7_col6\" class=\"data row7 col6\" >0.283647</td>\n",
       "                        <td id=\"T_d4652cc3_e589_11eb_9739_8cc84bef2bferow7_col7\" class=\"data row7 col7\" >1.000000</td>\n",
       "                        <td id=\"T_d4652cc3_e589_11eb_9739_8cc84bef2bferow7_col8\" class=\"data row7 col8\" >0.088445</td>\n",
       "                        <td id=\"T_d4652cc3_e589_11eb_9739_8cc84bef2bferow7_col9\" class=\"data row7 col9\" >0.325702</td>\n",
       "            </tr>\n",
       "            <tr>\n",
       "                        <th id=\"T_d4652cc3_e589_11eb_9739_8cc84bef2bfelevel0_row8\" class=\"row_heading level0 row8\" >GRF</th>\n",
       "                        <td id=\"T_d4652cc3_e589_11eb_9739_8cc84bef2bferow8_col0\" class=\"data row8 col0\" >0.387721</td>\n",
       "                        <td id=\"T_d4652cc3_e589_11eb_9739_8cc84bef2bferow8_col1\" class=\"data row8 col1\" >0.298913</td>\n",
       "                        <td id=\"T_d4652cc3_e589_11eb_9739_8cc84bef2bferow8_col2\" class=\"data row8 col2\" >0.454958</td>\n",
       "                        <td id=\"T_d4652cc3_e589_11eb_9739_8cc84bef2bferow8_col3\" class=\"data row8 col3\" >0.393734</td>\n",
       "                        <td id=\"T_d4652cc3_e589_11eb_9739_8cc84bef2bferow8_col4\" class=\"data row8 col4\" >0.127537</td>\n",
       "                        <td id=\"T_d4652cc3_e589_11eb_9739_8cc84bef2bferow8_col5\" class=\"data row8 col5\" >0.370219</td>\n",
       "                        <td id=\"T_d4652cc3_e589_11eb_9739_8cc84bef2bferow8_col6\" class=\"data row8 col6\" >0.222865</td>\n",
       "                        <td id=\"T_d4652cc3_e589_11eb_9739_8cc84bef2bferow8_col7\" class=\"data row8 col7\" >0.088445</td>\n",
       "                        <td id=\"T_d4652cc3_e589_11eb_9739_8cc84bef2bferow8_col8\" class=\"data row8 col8\" >1.000000</td>\n",
       "                        <td id=\"T_d4652cc3_e589_11eb_9739_8cc84bef2bferow8_col9\" class=\"data row8 col9\" >0.318282</td>\n",
       "            </tr>\n",
       "            <tr>\n",
       "                        <th id=\"T_d4652cc3_e589_11eb_9739_8cc84bef2bfelevel0_row9\" class=\"row_heading level0 row9\" >TEF</th>\n",
       "                        <td id=\"T_d4652cc3_e589_11eb_9739_8cc84bef2bferow9_col0\" class=\"data row9 col0\" >0.650446</td>\n",
       "                        <td id=\"T_d4652cc3_e589_11eb_9739_8cc84bef2bferow9_col1\" class=\"data row9 col1\" >0.606812</td>\n",
       "                        <td id=\"T_d4652cc3_e589_11eb_9739_8cc84bef2bferow9_col2\" class=\"data row9 col2\" >0.562284</td>\n",
       "                        <td id=\"T_d4652cc3_e589_11eb_9739_8cc84bef2bferow9_col3\" class=\"data row9 col3\" >0.193511</td>\n",
       "                        <td id=\"T_d4652cc3_e589_11eb_9739_8cc84bef2bferow9_col4\" class=\"data row9 col4\" >0.302148</td>\n",
       "                        <td id=\"T_d4652cc3_e589_11eb_9739_8cc84bef2bferow9_col5\" class=\"data row9 col5\" >0.611388</td>\n",
       "                        <td id=\"T_d4652cc3_e589_11eb_9739_8cc84bef2bferow9_col6\" class=\"data row9 col6\" >0.491363</td>\n",
       "                        <td id=\"T_d4652cc3_e589_11eb_9739_8cc84bef2bferow9_col7\" class=\"data row9 col7\" >0.325702</td>\n",
       "                        <td id=\"T_d4652cc3_e589_11eb_9739_8cc84bef2bferow9_col8\" class=\"data row9 col8\" >0.318282</td>\n",
       "                        <td id=\"T_d4652cc3_e589_11eb_9739_8cc84bef2bferow9_col9\" class=\"data row9 col9\" >1.000000</td>\n",
       "            </tr>\n",
       "    </tbody></table>"
      ],
      "text/plain": [
       "<pandas.io.formats.style.Styler at 0x1fce5ed0eb0>"
      ]
     },
     "execution_count": 49,
     "metadata": {},
     "output_type": "execute_result"
    }
   ],
   "source": [
    "market_ret.corr().style.background_gradient()"
   ]
  },
  {
   "cell_type": "markdown",
   "metadata": {},
   "source": [
    "____\n",
    "Para la generación vamos a concatenar la réplica de los diferentes contextos de mercado. Los pasos serían\n",
    "  1. Muestrear e identificar los parámetros del contexto \n",
    "  2. Elegir de forma aleatoria durante cuánto tiempo se va reproducir ese contexto\n",
    "  3. Generar la distribución aleatoria multivariable de retornos\n",
    "  4. Transformar los retornos a precios desde el punto de partida deseado"
   ]
  },
  {
   "cell_type": "code",
   "execution_count": 72,
   "metadata": {},
   "outputs": [],
   "source": [
    "n = 20\n",
    "win_sample = 100"
   ]
  },
  {
   "cell_type": "code",
   "execution_count": 73,
   "metadata": {},
   "outputs": [],
   "source": [
    "ret_list = []\n",
    "for i in range(n):\n",
    "    # Paso 1\n",
    "    market_ret = sample_market_rets(stock_df, win_sample)\n",
    "    i_mean = market_ret.mean()\n",
    "    i_covmat = market_ret.cov()\n",
    "    \n",
    "    # Paso 2\n",
    "    fwd_win = np.random.randint(40,120)\n",
    "    \n",
    "    # Paso 3 \n",
    "    rnd_rets = np.random.multivariate_normal(i_mean, i_covmat, size=fwd_win)\n",
    "    rnd_rets_df = pd.DataFrame(rnd_rets, columns=stock_df.columns)\n",
    "    ret_list.append(rnd_rets_df)"
   ]
  },
  {
   "cell_type": "code",
   "execution_count": 74,
   "metadata": {},
   "outputs": [],
   "source": [
    "all_rets = pd.concat(ret_list)\n",
    "all_rets.reset_index(inplace=True, drop=True)"
   ]
  },
  {
   "cell_type": "code",
   "execution_count": 75,
   "metadata": {},
   "outputs": [
    {
     "data": {
      "text/plain": [
       "(1521, 10)"
      ]
     },
     "execution_count": 75,
     "metadata": {},
     "output_type": "execute_result"
    }
   ],
   "source": [
    "all_rets.shape"
   ]
  },
  {
   "cell_type": "code",
   "execution_count": 76,
   "metadata": {},
   "outputs": [
    {
     "data": {
      "text/html": [
       "<div>\n",
       "<style scoped>\n",
       "    .dataframe tbody tr th:only-of-type {\n",
       "        vertical-align: middle;\n",
       "    }\n",
       "\n",
       "    .dataframe tbody tr th {\n",
       "        vertical-align: top;\n",
       "    }\n",
       "\n",
       "    .dataframe thead th {\n",
       "        text-align: right;\n",
       "    }\n",
       "</style>\n",
       "<table border=\"1\" class=\"dataframe\">\n",
       "  <thead>\n",
       "    <tr style=\"text-align: right;\">\n",
       "      <th></th>\n",
       "      <th>SAN</th>\n",
       "      <th>FER</th>\n",
       "      <th>ACS</th>\n",
       "      <th>AMS</th>\n",
       "      <th>ITX</th>\n",
       "      <th>BBVA</th>\n",
       "      <th>IBE</th>\n",
       "      <th>REP</th>\n",
       "      <th>GRF</th>\n",
       "      <th>TEF</th>\n",
       "    </tr>\n",
       "  </thead>\n",
       "  <tbody>\n",
       "    <tr>\n",
       "      <th>0</th>\n",
       "      <td>0.006910</td>\n",
       "      <td>-0.002608</td>\n",
       "      <td>0.003993</td>\n",
       "      <td>0.004165</td>\n",
       "      <td>-0.006911</td>\n",
       "      <td>0.009414</td>\n",
       "      <td>-0.010357</td>\n",
       "      <td>0.026057</td>\n",
       "      <td>-0.001928</td>\n",
       "      <td>-0.002631</td>\n",
       "    </tr>\n",
       "    <tr>\n",
       "      <th>1</th>\n",
       "      <td>-0.000684</td>\n",
       "      <td>-0.002498</td>\n",
       "      <td>-0.015107</td>\n",
       "      <td>0.008654</td>\n",
       "      <td>0.010962</td>\n",
       "      <td>-0.004966</td>\n",
       "      <td>0.001414</td>\n",
       "      <td>0.000871</td>\n",
       "      <td>0.010015</td>\n",
       "      <td>0.003993</td>\n",
       "    </tr>\n",
       "    <tr>\n",
       "      <th>2</th>\n",
       "      <td>0.022878</td>\n",
       "      <td>0.002678</td>\n",
       "      <td>0.004749</td>\n",
       "      <td>-0.006777</td>\n",
       "      <td>0.013120</td>\n",
       "      <td>0.021541</td>\n",
       "      <td>-0.013601</td>\n",
       "      <td>-0.006843</td>\n",
       "      <td>0.014638</td>\n",
       "      <td>0.011247</td>\n",
       "    </tr>\n",
       "    <tr>\n",
       "      <th>3</th>\n",
       "      <td>0.031008</td>\n",
       "      <td>-0.010342</td>\n",
       "      <td>-0.002230</td>\n",
       "      <td>0.010179</td>\n",
       "      <td>0.007070</td>\n",
       "      <td>0.039947</td>\n",
       "      <td>-0.004420</td>\n",
       "      <td>-0.011526</td>\n",
       "      <td>0.002894</td>\n",
       "      <td>0.006744</td>\n",
       "    </tr>\n",
       "    <tr>\n",
       "      <th>4</th>\n",
       "      <td>0.016945</td>\n",
       "      <td>-0.001291</td>\n",
       "      <td>0.022767</td>\n",
       "      <td>0.006097</td>\n",
       "      <td>-0.000457</td>\n",
       "      <td>0.012516</td>\n",
       "      <td>0.000134</td>\n",
       "      <td>0.012340</td>\n",
       "      <td>-0.008198</td>\n",
       "      <td>0.004490</td>\n",
       "    </tr>\n",
       "  </tbody>\n",
       "</table>\n",
       "</div>"
      ],
      "text/plain": [
       "        SAN       FER       ACS       AMS       ITX      BBVA       IBE  \\\n",
       "0  0.006910 -0.002608  0.003993  0.004165 -0.006911  0.009414 -0.010357   \n",
       "1 -0.000684 -0.002498 -0.015107  0.008654  0.010962 -0.004966  0.001414   \n",
       "2  0.022878  0.002678  0.004749 -0.006777  0.013120  0.021541 -0.013601   \n",
       "3  0.031008 -0.010342 -0.002230  0.010179  0.007070  0.039947 -0.004420   \n",
       "4  0.016945 -0.001291  0.022767  0.006097 -0.000457  0.012516  0.000134   \n",
       "\n",
       "        REP       GRF       TEF  \n",
       "0  0.026057 -0.001928 -0.002631  \n",
       "1  0.000871  0.010015  0.003993  \n",
       "2 -0.006843  0.014638  0.011247  \n",
       "3 -0.011526  0.002894  0.006744  \n",
       "4  0.012340 -0.008198  0.004490  "
      ]
     },
     "execution_count": 76,
     "metadata": {},
     "output_type": "execute_result"
    }
   ],
   "source": [
    "all_rets.head()"
   ]
  },
  {
   "cell_type": "markdown",
   "metadata": {},
   "source": [
    "Pasamos de rendimientos a precios a partir del último precio de la serie real (Paso 4)"
   ]
  },
  {
   "cell_type": "code",
   "execution_count": 77,
   "metadata": {},
   "outputs": [],
   "source": [
    "# Necesitamos un valor adicional que sera el precio inicial\n",
    "logprices = np.zeros((all_rets.shape[0]+1, all_rets.shape[1]))\n",
    "logprices[0] = np.log(stock_df.iloc[0])\n",
    "logprices[1:,:] = all_rets.values\n",
    "logprices = logprices.cumsum(axis=0)\n",
    "prices = pd.DataFrame(np.exp(logprices), columns=stock_df.columns)"
   ]
  },
  {
   "cell_type": "code",
   "execution_count": 78,
   "metadata": {},
   "outputs": [
    {
     "data": {
      "text/html": [
       "<div>\n",
       "<style scoped>\n",
       "    .dataframe tbody tr th:only-of-type {\n",
       "        vertical-align: middle;\n",
       "    }\n",
       "\n",
       "    .dataframe tbody tr th {\n",
       "        vertical-align: top;\n",
       "    }\n",
       "\n",
       "    .dataframe thead th {\n",
       "        text-align: right;\n",
       "    }\n",
       "</style>\n",
       "<table border=\"1\" class=\"dataframe\">\n",
       "  <thead>\n",
       "    <tr style=\"text-align: right;\">\n",
       "      <th></th>\n",
       "      <th>SAN</th>\n",
       "      <th>FER</th>\n",
       "      <th>ACS</th>\n",
       "      <th>AMS</th>\n",
       "      <th>ITX</th>\n",
       "      <th>BBVA</th>\n",
       "      <th>IBE</th>\n",
       "      <th>REP</th>\n",
       "      <th>GRF</th>\n",
       "      <th>TEF</th>\n",
       "    </tr>\n",
       "  </thead>\n",
       "  <tbody>\n",
       "    <tr>\n",
       "      <th>0</th>\n",
       "      <td>3.611336</td>\n",
       "      <td>17.329551</td>\n",
       "      <td>20.205989</td>\n",
       "      <td>36.609084</td>\n",
       "      <td>27.617815</td>\n",
       "      <td>5.100387</td>\n",
       "      <td>4.891871</td>\n",
       "      <td>6.709067</td>\n",
       "      <td>19.346262</td>\n",
       "      <td>7.848238</td>\n",
       "    </tr>\n",
       "    <tr>\n",
       "      <th>1</th>\n",
       "      <td>3.636377</td>\n",
       "      <td>17.284413</td>\n",
       "      <td>20.286824</td>\n",
       "      <td>36.761889</td>\n",
       "      <td>27.427616</td>\n",
       "      <td>5.148628</td>\n",
       "      <td>4.841466</td>\n",
       "      <td>6.886181</td>\n",
       "      <td>19.308989</td>\n",
       "      <td>7.827617</td>\n",
       "    </tr>\n",
       "    <tr>\n",
       "      <th>2</th>\n",
       "      <td>3.633891</td>\n",
       "      <td>17.241295</td>\n",
       "      <td>19.982663</td>\n",
       "      <td>37.081420</td>\n",
       "      <td>27.729944</td>\n",
       "      <td>5.123122</td>\n",
       "      <td>4.848319</td>\n",
       "      <td>6.892183</td>\n",
       "      <td>19.503344</td>\n",
       "      <td>7.858932</td>\n",
       "    </tr>\n",
       "    <tr>\n",
       "      <th>3</th>\n",
       "      <td>3.717986</td>\n",
       "      <td>17.287534</td>\n",
       "      <td>20.077782</td>\n",
       "      <td>36.830976</td>\n",
       "      <td>28.096157</td>\n",
       "      <td>5.234674</td>\n",
       "      <td>4.782824</td>\n",
       "      <td>6.845181</td>\n",
       "      <td>19.790929</td>\n",
       "      <td>7.947820</td>\n",
       "    </tr>\n",
       "    <tr>\n",
       "      <th>4</th>\n",
       "      <td>3.835078</td>\n",
       "      <td>17.109659</td>\n",
       "      <td>20.033058</td>\n",
       "      <td>37.207792</td>\n",
       "      <td>28.295495</td>\n",
       "      <td>5.448014</td>\n",
       "      <td>4.761731</td>\n",
       "      <td>6.766734</td>\n",
       "      <td>19.848286</td>\n",
       "      <td>8.001598</td>\n",
       "    </tr>\n",
       "    <tr>\n",
       "      <th>...</th>\n",
       "      <td>...</td>\n",
       "      <td>...</td>\n",
       "      <td>...</td>\n",
       "      <td>...</td>\n",
       "      <td>...</td>\n",
       "      <td>...</td>\n",
       "      <td>...</td>\n",
       "      <td>...</td>\n",
       "      <td>...</td>\n",
       "      <td>...</td>\n",
       "    </tr>\n",
       "    <tr>\n",
       "      <th>1517</th>\n",
       "      <td>6.557123</td>\n",
       "      <td>38.720107</td>\n",
       "      <td>44.662586</td>\n",
       "      <td>98.231844</td>\n",
       "      <td>45.644687</td>\n",
       "      <td>10.002057</td>\n",
       "      <td>17.732502</td>\n",
       "      <td>25.948144</td>\n",
       "      <td>66.819359</td>\n",
       "      <td>5.064833</td>\n",
       "    </tr>\n",
       "    <tr>\n",
       "      <th>1518</th>\n",
       "      <td>6.315882</td>\n",
       "      <td>39.082469</td>\n",
       "      <td>44.192783</td>\n",
       "      <td>98.227174</td>\n",
       "      <td>44.606648</td>\n",
       "      <td>9.641881</td>\n",
       "      <td>17.464265</td>\n",
       "      <td>25.481749</td>\n",
       "      <td>66.818820</td>\n",
       "      <td>4.906655</td>\n",
       "    </tr>\n",
       "    <tr>\n",
       "      <th>1519</th>\n",
       "      <td>6.056374</td>\n",
       "      <td>38.086167</td>\n",
       "      <td>43.405312</td>\n",
       "      <td>98.057857</td>\n",
       "      <td>43.986642</td>\n",
       "      <td>9.492905</td>\n",
       "      <td>17.298032</td>\n",
       "      <td>25.116691</td>\n",
       "      <td>66.426748</td>\n",
       "      <td>4.795377</td>\n",
       "    </tr>\n",
       "    <tr>\n",
       "      <th>1520</th>\n",
       "      <td>6.109248</td>\n",
       "      <td>37.584333</td>\n",
       "      <td>42.895169</td>\n",
       "      <td>96.474229</td>\n",
       "      <td>43.082444</td>\n",
       "      <td>9.576008</td>\n",
       "      <td>17.042566</td>\n",
       "      <td>24.567393</td>\n",
       "      <td>65.906177</td>\n",
       "      <td>4.741416</td>\n",
       "    </tr>\n",
       "    <tr>\n",
       "      <th>1521</th>\n",
       "      <td>6.278878</td>\n",
       "      <td>37.366709</td>\n",
       "      <td>43.315521</td>\n",
       "      <td>96.553937</td>\n",
       "      <td>43.159784</td>\n",
       "      <td>9.795294</td>\n",
       "      <td>16.946611</td>\n",
       "      <td>24.722604</td>\n",
       "      <td>66.046819</td>\n",
       "      <td>4.808220</td>\n",
       "    </tr>\n",
       "  </tbody>\n",
       "</table>\n",
       "<p>1522 rows × 10 columns</p>\n",
       "</div>"
      ],
      "text/plain": [
       "           SAN        FER        ACS        AMS        ITX       BBVA  \\\n",
       "0     3.611336  17.329551  20.205989  36.609084  27.617815   5.100387   \n",
       "1     3.636377  17.284413  20.286824  36.761889  27.427616   5.148628   \n",
       "2     3.633891  17.241295  19.982663  37.081420  27.729944   5.123122   \n",
       "3     3.717986  17.287534  20.077782  36.830976  28.096157   5.234674   \n",
       "4     3.835078  17.109659  20.033058  37.207792  28.295495   5.448014   \n",
       "...        ...        ...        ...        ...        ...        ...   \n",
       "1517  6.557123  38.720107  44.662586  98.231844  45.644687  10.002057   \n",
       "1518  6.315882  39.082469  44.192783  98.227174  44.606648   9.641881   \n",
       "1519  6.056374  38.086167  43.405312  98.057857  43.986642   9.492905   \n",
       "1520  6.109248  37.584333  42.895169  96.474229  43.082444   9.576008   \n",
       "1521  6.278878  37.366709  43.315521  96.553937  43.159784   9.795294   \n",
       "\n",
       "            IBE        REP        GRF       TEF  \n",
       "0      4.891871   6.709067  19.346262  7.848238  \n",
       "1      4.841466   6.886181  19.308989  7.827617  \n",
       "2      4.848319   6.892183  19.503344  7.858932  \n",
       "3      4.782824   6.845181  19.790929  7.947820  \n",
       "4      4.761731   6.766734  19.848286  8.001598  \n",
       "...         ...        ...        ...       ...  \n",
       "1517  17.732502  25.948144  66.819359  5.064833  \n",
       "1518  17.464265  25.481749  66.818820  4.906655  \n",
       "1519  17.298032  25.116691  66.426748  4.795377  \n",
       "1520  17.042566  24.567393  65.906177  4.741416  \n",
       "1521  16.946611  24.722604  66.046819  4.808220  \n",
       "\n",
       "[1522 rows x 10 columns]"
      ]
     },
     "execution_count": 78,
     "metadata": {},
     "output_type": "execute_result"
    }
   ],
   "source": [
    "prices"
   ]
  },
  {
   "cell_type": "markdown",
   "metadata": {},
   "source": [
    "____\n",
    "### Ejercicios Propuestos\n",
    "1. Generar al menos 4 años de datos sintéticos\n",
    "2. Elegir un ticker para comparar las distribución de rendimientos entre las series históricas y generadas.\n",
    "3. Ver la evolución histórica de series generadas de BBVA y SAN"
   ]
  },
  {
   "cell_type": "code",
   "execution_count": 79,
   "metadata": {},
   "outputs": [],
   "source": [
    "compare_df = prices[['SAN','BBVA']]"
   ]
  },
  {
   "cell_type": "code",
   "execution_count": 80,
   "metadata": {},
   "outputs": [
    {
     "name": "stderr",
     "output_type": "stream",
     "text": [
      "C:\\Users\\trosa\\Anaconda3\\lib\\site-packages\\pandas\\core\\indexing.py:1048: SettingWithCopyWarning: \n",
      "A value is trying to be set on a copy of a slice from a DataFrame.\n",
      "Try using .loc[row_indexer,col_indexer] = value instead\n",
      "\n",
      "See the caveats in the documentation: https://pandas.pydata.org/pandas-docs/stable/user_guide/indexing.html#returning-a-view-versus-a-copy\n",
      "  self.obj[item_labels[indexer[info_axis]]] = value\n"
     ]
    }
   ],
   "source": [
    "compare_df.loc[:, 'SAN'] = compare_df.loc[:,'SAN']/compare_df.iloc[0,0]\n",
    "compare_df.loc[:, 'BBVA'] = compare_df.loc[:,'BBVA']/compare_df.iloc[0,1]"
   ]
  },
  {
   "cell_type": "code",
   "execution_count": 81,
   "metadata": {},
   "outputs": [
    {
     "data": {
      "text/plain": [
       "<matplotlib.axes._subplots.AxesSubplot at 0x1fce5f677f0>"
      ]
     },
     "execution_count": 81,
     "metadata": {},
     "output_type": "execute_result"
    },
    {
     "data": {
      "image/png": "[encoded data removed]",
      "text/plain": [
       "<Figure size 432x288 with 1 Axes>"
      ]
     },
     "metadata": {
      "needs_background": "light"
     },
     "output_type": "display_data"
    }
   ],
   "source": [
    "compare_df.plot()"
   ]
  },
  {
   "cell_type": "code",
   "execution_count": null,
   "metadata": {},
   "outputs": [],
   "source": []
  }
 ],
 "metadata": {
  "kernelspec": {
   "display_name": "Python 3",
   "language": "python",
   "name": "python3"
  },
  "language_info": {
   "codemirror_mode": {
    "name": "ipython",
    "version": 3
   },
   "file_extension": ".py",
   "mimetype": "text/x-python",
   "name": "python",
   "nbconvert_exporter": "python",
   "pygments_lexer": "ipython3",
   "version": "3.8.3"
  }
 },
 "nbformat": 4,
 "nbformat_minor": 4
}
