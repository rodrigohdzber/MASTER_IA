{
 "cells": [
  {
   "cell_type": "markdown",
   "metadata": {},
   "source": [
    "## Backtesting \n",
    "### Evaluación con Datos de Ejecuciones (tick data)"
   ]
  },
  {
   "cell_type": "code",
   "execution_count": 4,
   "metadata": {},
   "outputs": [],
   "source": [
    "import pickle\n",
    "import pandas as pd\n",
    "import matplotlib.pyplot as plt"
   ]
  },
  {
   "cell_type": "code",
   "execution_count": 8,
   "metadata": {},
   "outputs": [
    {
     "data": {
      "text/html": [
       "<div>\n",
       "<style scoped>\n",
       "    .dataframe tbody tr th:only-of-type {\n",
       "        vertical-align: middle;\n",
       "    }\n",
       "\n",
       "    .dataframe tbody tr th {\n",
       "        vertical-align: top;\n",
       "    }\n",
       "\n",
       "    .dataframe thead th {\n",
       "        text-align: right;\n",
       "    }\n",
       "</style>\n",
       "<table border=\"1\" class=\"dataframe\">\n",
       "  <thead>\n",
       "    <tr style=\"text-align: right;\">\n",
       "      <th></th>\n",
       "      <th>hora</th>\n",
       "      <th>sec</th>\n",
       "      <th>centseg</th>\n",
       "      <th>volumen</th>\n",
       "      <th>id_orden</th>\n",
       "      <th>tipo_orden</th>\n",
       "      <th>precio</th>\n",
       "    </tr>\n",
       "    <tr>\n",
       "      <th>fecha</th>\n",
       "      <th></th>\n",
       "      <th></th>\n",
       "      <th></th>\n",
       "      <th></th>\n",
       "      <th></th>\n",
       "      <th></th>\n",
       "      <th></th>\n",
       "    </tr>\n",
       "  </thead>\n",
       "  <tbody>\n",
       "    <tr>\n",
       "      <th>2018-01-03</th>\n",
       "      <td>09:00:12</td>\n",
       "      <td>17962</td>\n",
       "      <td>143</td>\n",
       "      <td>53</td>\n",
       "      <td>2</td>\n",
       "      <td>OPE</td>\n",
       "      <td>8.235</td>\n",
       "    </tr>\n",
       "    <tr>\n",
       "      <th>2018-01-03</th>\n",
       "      <td>09:00:12</td>\n",
       "      <td>17982</td>\n",
       "      <td>145</td>\n",
       "      <td>40</td>\n",
       "      <td>4</td>\n",
       "      <td>OPE</td>\n",
       "      <td>8.235</td>\n",
       "    </tr>\n",
       "    <tr>\n",
       "      <th>2018-01-03</th>\n",
       "      <td>09:00:12</td>\n",
       "      <td>17994</td>\n",
       "      <td>151</td>\n",
       "      <td>272</td>\n",
       "      <td>6</td>\n",
       "      <td>OPE</td>\n",
       "      <td>8.235</td>\n",
       "    </tr>\n",
       "    <tr>\n",
       "      <th>2018-01-03</th>\n",
       "      <td>09:00:12</td>\n",
       "      <td>18045</td>\n",
       "      <td>158</td>\n",
       "      <td>1032</td>\n",
       "      <td>14</td>\n",
       "      <td>OPE</td>\n",
       "      <td>8.235</td>\n",
       "    </tr>\n",
       "    <tr>\n",
       "      <th>2018-01-03</th>\n",
       "      <td>09:00:12</td>\n",
       "      <td>18019</td>\n",
       "      <td>154</td>\n",
       "      <td>162</td>\n",
       "      <td>10</td>\n",
       "      <td>OPE</td>\n",
       "      <td>8.235</td>\n",
       "    </tr>\n",
       "    <tr>\n",
       "      <th>...</th>\n",
       "      <td>...</td>\n",
       "      <td>...</td>\n",
       "      <td>...</td>\n",
       "      <td>...</td>\n",
       "      <td>...</td>\n",
       "      <td>...</td>\n",
       "      <td>...</td>\n",
       "    </tr>\n",
       "    <tr>\n",
       "      <th>2018-01-03</th>\n",
       "      <td>17:35:07</td>\n",
       "      <td>2260839</td>\n",
       "      <td>194</td>\n",
       "      <td>404</td>\n",
       "      <td>8867</td>\n",
       "      <td>CLO</td>\n",
       "      <td>8.385</td>\n",
       "    </tr>\n",
       "    <tr>\n",
       "      <th>2018-01-03</th>\n",
       "      <td>17:35:07</td>\n",
       "      <td>2260733</td>\n",
       "      <td>184</td>\n",
       "      <td>953</td>\n",
       "      <td>8849</td>\n",
       "      <td>CLO</td>\n",
       "      <td>8.385</td>\n",
       "    </tr>\n",
       "    <tr>\n",
       "      <th>2018-01-03</th>\n",
       "      <td>17:35:07</td>\n",
       "      <td>2260803</td>\n",
       "      <td>190</td>\n",
       "      <td>394</td>\n",
       "      <td>8861</td>\n",
       "      <td>CLO</td>\n",
       "      <td>8.385</td>\n",
       "    </tr>\n",
       "    <tr>\n",
       "      <th>2018-01-03</th>\n",
       "      <td>17:35:07</td>\n",
       "      <td>2260851</td>\n",
       "      <td>196</td>\n",
       "      <td>404</td>\n",
       "      <td>8869</td>\n",
       "      <td>CLO</td>\n",
       "      <td>8.385</td>\n",
       "    </tr>\n",
       "    <tr>\n",
       "      <th>2018-01-03</th>\n",
       "      <td>17:35:07</td>\n",
       "      <td>2260756</td>\n",
       "      <td>185</td>\n",
       "      <td>4301</td>\n",
       "      <td>8853</td>\n",
       "      <td>CLO</td>\n",
       "      <td>8.385</td>\n",
       "    </tr>\n",
       "  </tbody>\n",
       "</table>\n",
       "<p>1771 rows × 7 columns</p>\n",
       "</div>"
      ],
      "text/plain": [
       "                hora      sec  centseg  volumen  id_orden tipo_orden  precio\n",
       "fecha                                                                       \n",
       "2018-01-03  09:00:12    17962      143       53         2        OPE   8.235\n",
       "2018-01-03  09:00:12    17982      145       40         4        OPE   8.235\n",
       "2018-01-03  09:00:12    17994      151      272         6        OPE   8.235\n",
       "2018-01-03  09:00:12    18045      158     1032        14        OPE   8.235\n",
       "2018-01-03  09:00:12    18019      154      162        10        OPE   8.235\n",
       "...              ...      ...      ...      ...       ...        ...     ...\n",
       "2018-01-03  17:35:07  2260839      194      404      8867        CLO   8.385\n",
       "2018-01-03  17:35:07  2260733      184      953      8849        CLO   8.385\n",
       "2018-01-03  17:35:07  2260803      190      394      8861        CLO   8.385\n",
       "2018-01-03  17:35:07  2260851      196      404      8869        CLO   8.385\n",
       "2018-01-03  17:35:07  2260756      185     4301      8853        CLO   8.385\n",
       "\n",
       "[1771 rows x 7 columns]"
      ]
     },
     "execution_count": 8,
     "metadata": {},
     "output_type": "execute_result"
    }
   ],
   "source": [
    "tick_df = pd.read_csv(\"../data/COL_tick_data.csv\", index_col=0)\n",
    "tick_df"
   ]
  },
  {
   "cell_type": "code",
   "execution_count": 9,
   "metadata": {},
   "outputs": [],
   "source": [
    "from mplfinance.original_flavor import candlestick2_ohlc\n",
    "import mplfinance as mpf"
   ]
  },
  {
   "cell_type": "code",
   "execution_count": 10,
   "metadata": {},
   "outputs": [
    {
     "data": {
      "text/html": [
       "<div>\n",
       "<style scoped>\n",
       "    .dataframe tbody tr th:only-of-type {\n",
       "        vertical-align: middle;\n",
       "    }\n",
       "\n",
       "    .dataframe tbody tr th {\n",
       "        vertical-align: top;\n",
       "    }\n",
       "\n",
       "    .dataframe thead th {\n",
       "        text-align: right;\n",
       "    }\n",
       "</style>\n",
       "<table border=\"1\" class=\"dataframe\">\n",
       "  <thead>\n",
       "    <tr style=\"text-align: right;\">\n",
       "      <th></th>\n",
       "      <th>hora</th>\n",
       "      <th>sec</th>\n",
       "      <th>centseg</th>\n",
       "      <th>volumen</th>\n",
       "      <th>id_orden</th>\n",
       "      <th>tipo_orden</th>\n",
       "      <th>precio</th>\n",
       "    </tr>\n",
       "    <tr>\n",
       "      <th>fecha</th>\n",
       "      <th></th>\n",
       "      <th></th>\n",
       "      <th></th>\n",
       "      <th></th>\n",
       "      <th></th>\n",
       "      <th></th>\n",
       "      <th></th>\n",
       "    </tr>\n",
       "  </thead>\n",
       "  <tbody>\n",
       "    <tr>\n",
       "      <th>2018-01-03</th>\n",
       "      <td>09:00:12</td>\n",
       "      <td>17962</td>\n",
       "      <td>143</td>\n",
       "      <td>53</td>\n",
       "      <td>2</td>\n",
       "      <td>OPE</td>\n",
       "      <td>8.235</td>\n",
       "    </tr>\n",
       "    <tr>\n",
       "      <th>2018-01-03</th>\n",
       "      <td>09:00:12</td>\n",
       "      <td>17982</td>\n",
       "      <td>145</td>\n",
       "      <td>40</td>\n",
       "      <td>4</td>\n",
       "      <td>OPE</td>\n",
       "      <td>8.235</td>\n",
       "    </tr>\n",
       "    <tr>\n",
       "      <th>2018-01-03</th>\n",
       "      <td>09:00:12</td>\n",
       "      <td>17994</td>\n",
       "      <td>151</td>\n",
       "      <td>272</td>\n",
       "      <td>6</td>\n",
       "      <td>OPE</td>\n",
       "      <td>8.235</td>\n",
       "    </tr>\n",
       "    <tr>\n",
       "      <th>2018-01-03</th>\n",
       "      <td>09:00:12</td>\n",
       "      <td>18045</td>\n",
       "      <td>158</td>\n",
       "      <td>1032</td>\n",
       "      <td>14</td>\n",
       "      <td>OPE</td>\n",
       "      <td>8.235</td>\n",
       "    </tr>\n",
       "    <tr>\n",
       "      <th>2018-01-03</th>\n",
       "      <td>09:00:12</td>\n",
       "      <td>18019</td>\n",
       "      <td>154</td>\n",
       "      <td>162</td>\n",
       "      <td>10</td>\n",
       "      <td>OPE</td>\n",
       "      <td>8.235</td>\n",
       "    </tr>\n",
       "    <tr>\n",
       "      <th>...</th>\n",
       "      <td>...</td>\n",
       "      <td>...</td>\n",
       "      <td>...</td>\n",
       "      <td>...</td>\n",
       "      <td>...</td>\n",
       "      <td>...</td>\n",
       "      <td>...</td>\n",
       "    </tr>\n",
       "    <tr>\n",
       "      <th>2018-01-03</th>\n",
       "      <td>17:35:07</td>\n",
       "      <td>2260839</td>\n",
       "      <td>194</td>\n",
       "      <td>404</td>\n",
       "      <td>8867</td>\n",
       "      <td>CLO</td>\n",
       "      <td>8.385</td>\n",
       "    </tr>\n",
       "    <tr>\n",
       "      <th>2018-01-03</th>\n",
       "      <td>17:35:07</td>\n",
       "      <td>2260733</td>\n",
       "      <td>184</td>\n",
       "      <td>953</td>\n",
       "      <td>8849</td>\n",
       "      <td>CLO</td>\n",
       "      <td>8.385</td>\n",
       "    </tr>\n",
       "    <tr>\n",
       "      <th>2018-01-03</th>\n",
       "      <td>17:35:07</td>\n",
       "      <td>2260803</td>\n",
       "      <td>190</td>\n",
       "      <td>394</td>\n",
       "      <td>8861</td>\n",
       "      <td>CLO</td>\n",
       "      <td>8.385</td>\n",
       "    </tr>\n",
       "    <tr>\n",
       "      <th>2018-01-03</th>\n",
       "      <td>17:35:07</td>\n",
       "      <td>2260851</td>\n",
       "      <td>196</td>\n",
       "      <td>404</td>\n",
       "      <td>8869</td>\n",
       "      <td>CLO</td>\n",
       "      <td>8.385</td>\n",
       "    </tr>\n",
       "    <tr>\n",
       "      <th>2018-01-03</th>\n",
       "      <td>17:35:07</td>\n",
       "      <td>2260756</td>\n",
       "      <td>185</td>\n",
       "      <td>4301</td>\n",
       "      <td>8853</td>\n",
       "      <td>CLO</td>\n",
       "      <td>8.385</td>\n",
       "    </tr>\n",
       "  </tbody>\n",
       "</table>\n",
       "<p>1771 rows × 7 columns</p>\n",
       "</div>"
      ],
      "text/plain": [
       "                hora      sec  centseg  volumen  id_orden tipo_orden  precio\n",
       "fecha                                                                       \n",
       "2018-01-03  09:00:12    17962      143       53         2        OPE   8.235\n",
       "2018-01-03  09:00:12    17982      145       40         4        OPE   8.235\n",
       "2018-01-03  09:00:12    17994      151      272         6        OPE   8.235\n",
       "2018-01-03  09:00:12    18045      158     1032        14        OPE   8.235\n",
       "2018-01-03  09:00:12    18019      154      162        10        OPE   8.235\n",
       "...              ...      ...      ...      ...       ...        ...     ...\n",
       "2018-01-03  17:35:07  2260839      194      404      8867        CLO   8.385\n",
       "2018-01-03  17:35:07  2260733      184      953      8849        CLO   8.385\n",
       "2018-01-03  17:35:07  2260803      190      394      8861        CLO   8.385\n",
       "2018-01-03  17:35:07  2260851      196      404      8869        CLO   8.385\n",
       "2018-01-03  17:35:07  2260756      185     4301      8853        CLO   8.385\n",
       "\n",
       "[1771 rows x 7 columns]"
      ]
     },
     "execution_count": 10,
     "metadata": {},
     "output_type": "execute_result"
    }
   ],
   "source": [
    "tick_df"
   ]
  },
  {
   "cell_type": "code",
   "execution_count": null,
   "metadata": {},
   "outputs": [],
   "source": [
    "open_price = tick_df.precio.resample('5min').first()\n",
    "open_price"
   ]
  },
  {
   "cell_type": "code",
   "execution_count": null,
   "metadata": {},
   "outputs": [],
   "source": [
    "open_price.plot()"
   ]
  },
  {
   "cell_type": "markdown",
   "metadata": {},
   "source": [
    "### Construcción de Velas \n",
    "Con la función resample podemos construir directamente la información OHLCV\n",
    "sobre la resolución que nos interese"
   ]
  },
  {
   "cell_type": "code",
   "execution_count": null,
   "metadata": {},
   "outputs": [],
   "source": [
    "tick_resolution = '5min'"
   ]
  },
  {
   "cell_type": "code",
   "execution_count": null,
   "metadata": {},
   "outputs": [],
   "source": [
    "open_price = tick_df.precio.resample(tick_resolution).first()\n",
    "close_price = tick_df.precio.resample(tick_resolution).last()\n",
    "max_price = tick_df.precio.resample(tick_resolution).max()\n",
    "min_price = tick_df.precio.resample(tick_resolution).min()\n",
    "vol_agg = tick_df.volumen.resample(tick_resolution).sum()\n",
    "bars = pd.concat([open_price, max_price, min_price, close_price, vol_agg], axis=1)\n",
    "bars.columns = ['open','high','low','close','vol']"
   ]
  },
  {
   "cell_type": "code",
   "execution_count": null,
   "metadata": {},
   "outputs": [],
   "source": [
    "bars"
   ]
  },
  {
   "cell_type": "code",
   "execution_count": null,
   "metadata": {},
   "outputs": [],
   "source": [
    "mpf.plot(bars, type='candle', style='yahoo')"
   ]
  },
  {
   "cell_type": "markdown",
   "metadata": {},
   "source": [
    "___"
   ]
  },
  {
   "cell_type": "markdown",
   "metadata": {},
   "source": [
    "### Volumen "
   ]
  },
  {
   "cell_type": "code",
   "execution_count": null,
   "metadata": {},
   "outputs": [],
   "source": [
    "def get_bars(tick_resolution):\n",
    "    open_price = tick_df.precio.resample(tick_resolution).first()\n",
    "    close_price = tick_df.precio.resample(tick_resolution).last()\n",
    "    max_price = tick_df.precio.resample(tick_resolution).max()\n",
    "    min_price = tick_df.precio.resample(tick_resolution).min()\n",
    "    vol_agg = tick_df.volumen.resample(tick_resolution).sum()\n",
    "    bars = pd.concat([open_price, max_price, min_price, close_price, vol_agg], axis=1)\n",
    "    bars.columns = ['open','high','low','close','vol']\n",
    "    return bars"
   ]
  },
  {
   "cell_type": "code",
   "execution_count": null,
   "metadata": {},
   "outputs": [],
   "source": [
    "bars2 = get_bars('30min')\n",
    "bars2.vol.plot.bar()"
   ]
  },
  {
   "cell_type": "markdown",
   "metadata": {},
   "source": [
    "### Estimación órdenes"
   ]
  },
  {
   "cell_type": "code",
   "execution_count": null,
   "metadata": {},
   "outputs": [],
   "source": [
    "order_datetime = '2018-01-03 15:00'"
   ]
  },
  {
   "cell_type": "code",
   "execution_count": null,
   "metadata": {},
   "outputs": [],
   "source": [
    "win_trade = tick_df.loc[order_datetime:]\n",
    "agg_vol = win_trade.volumen.cumsum()\n",
    "win_trade"
   ]
  },
  {
   "cell_type": "code",
   "execution_count": null,
   "metadata": {},
   "outputs": [],
   "source": [
    "agg_vol"
   ]
  },
  {
   "cell_type": "code",
   "execution_count": null,
   "metadata": {},
   "outputs": [],
   "source": [
    "def get_win_trade(tick_df, timestamp, order_size, vol_pct):\n",
    "    win_trade = tick_df.loc[order_datetime:].copy()\n",
    "    agg_vol = win_trade.volumen.cumsum()\n",
    "    frame = agg_vol <= order_size/vol_pct\n",
    "    return win_trade[frame]"
   ]
  },
  {
   "cell_type": "code",
   "execution_count": null,
   "metadata": {},
   "outputs": [],
   "source": [
    "hist_trades = get_win_trade(tick_df, order_datetime, 4_000, 0.2)\n",
    "hist_trades"
   ]
  },
  {
   "cell_type": "markdown",
   "metadata": {},
   "source": [
    "Un supuesto optimista es considerar que participamos del porcentaje establecido\n",
    "y que obtenemos un precio ponderado por volumen"
   ]
  },
  {
   "cell_type": "code",
   "execution_count": null,
   "metadata": {},
   "outputs": [],
   "source": [
    "vol_weight = hist_trades.volumen/hist_trades.volumen.sum()\n",
    "vol_weight"
   ]
  },
  {
   "cell_type": "code",
   "execution_count": null,
   "metadata": {},
   "outputs": [],
   "source": [
    "vwap = (hist_trades.precio * vol_weight).sum()\n",
    "vwap"
   ]
  },
  {
   "cell_type": "code",
   "execution_count": null,
   "metadata": {},
   "outputs": [],
   "source": []
  }
 ],
 "metadata": {
  "kernelspec": {
   "display_name": "Python 3",
   "language": "python",
   "name": "python3"
  },
  "language_info": {
   "codemirror_mode": {
    "name": "ipython",
    "version": 3
   },
   "file_extension": ".py",
   "mimetype": "text/x-python",
   "name": "python",
   "nbconvert_exporter": "python",
   "pygments_lexer": "ipython3",
   "version": "3.8.3"
  }
 },
 "nbformat": 4,
 "nbformat_minor": 4
}
