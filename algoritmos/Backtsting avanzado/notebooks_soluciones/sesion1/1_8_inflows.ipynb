{
 "cells": [
  {
   "cell_type": "markdown",
   "metadata": {},
   "source": [
    "## Backtesting\n",
    "### Rendimiento de Carteras con Entradas y Salidas de Efectivo\n",
    "\n",
    "Este cuaderno muestra cómo realizar la evaluación de carteras de inversión abiertas,\n",
    "en las que pueden ocurrir entradas y salidas de capital invertido."
   ]
  },
  {
   "cell_type": "markdown",
   "metadata": {},
   "source": [
    "Aunque muchos de los algoritmos de trading se evaluan sobre un capital inicial,\n",
    "en la realidad las entradas y salidas de capital invertido es una situación \n",
    "muy habitual, por ejemplo como sucede con los fondos de inversión abiertos"
   ]
  },
  {
   "cell_type": "markdown",
   "metadata": {},
   "source": [
    "___"
   ]
  },
  {
   "cell_type": "code",
   "execution_count": 1,
   "metadata": {},
   "outputs": [],
   "source": [
    "import pandas as pd\n",
    "import matplotlib.pyplot as plt"
   ]
  },
  {
   "cell_type": "markdown",
   "metadata": {},
   "source": [
    "____\n",
    "### Datos"
   ]
  },
  {
   "cell_type": "code",
   "execution_count": 2,
   "metadata": {},
   "outputs": [],
   "source": [
    "ticker_list = ['BBVA','SAN','REP','TEF','IBE','FER','ITX','ACS','AMS','GRF']"
   ]
  },
  {
   "cell_type": "code",
   "execution_count": 3,
   "metadata": {},
   "outputs": [],
   "source": [
    "import pickle\n",
    "with open('../data/stock_data.pkl', 'rb') as handle:\n",
    "    stock_data = pickle.load(handle)"
   ]
  },
  {
   "cell_type": "code",
   "execution_count": 4,
   "metadata": {},
   "outputs": [],
   "source": [
    "close_series = {ticker: df.close\n",
    "                for ticker, df in stock_data.items()\n",
    "                if ticker in ticker_list\n",
    "               }\n",
    "stock_df = pd.DataFrame(close_series)\n",
    "stock_df = stock_df.loc['2016':]"
   ]
  },
  {
   "cell_type": "code",
   "execution_count": 5,
   "metadata": {},
   "outputs": [
    {
     "data": {
      "text/html": [
       "<div>\n",
       "<style scoped>\n",
       "    .dataframe tbody tr th:only-of-type {\n",
       "        vertical-align: middle;\n",
       "    }\n",
       "\n",
       "    .dataframe tbody tr th {\n",
       "        vertical-align: top;\n",
       "    }\n",
       "\n",
       "    .dataframe thead th {\n",
       "        text-align: right;\n",
       "    }\n",
       "</style>\n",
       "<table border=\"1\" class=\"dataframe\">\n",
       "  <thead>\n",
       "    <tr style=\"text-align: right;\">\n",
       "      <th></th>\n",
       "      <th>SAN</th>\n",
       "      <th>FER</th>\n",
       "      <th>ACS</th>\n",
       "      <th>AMS</th>\n",
       "      <th>ITX</th>\n",
       "      <th>BBVA</th>\n",
       "      <th>IBE</th>\n",
       "      <th>REP</th>\n",
       "      <th>GRF</th>\n",
       "      <th>TEF</th>\n",
       "    </tr>\n",
       "  </thead>\n",
       "  <tbody>\n",
       "    <tr>\n",
       "      <th>2016-01-04</th>\n",
       "      <td>3.611336</td>\n",
       "      <td>17.329551</td>\n",
       "      <td>20.205989</td>\n",
       "      <td>36.609084</td>\n",
       "      <td>27.617815</td>\n",
       "      <td>5.100387</td>\n",
       "      <td>4.891871</td>\n",
       "      <td>6.709067</td>\n",
       "      <td>19.346262</td>\n",
       "      <td>7.848238</td>\n",
       "    </tr>\n",
       "    <tr>\n",
       "      <th>2016-01-05</th>\n",
       "      <td>3.580238</td>\n",
       "      <td>17.375649</td>\n",
       "      <td>20.245065</td>\n",
       "      <td>36.779467</td>\n",
       "      <td>27.428193</td>\n",
       "      <td>5.134364</td>\n",
       "      <td>4.952126</td>\n",
       "      <td>6.649696</td>\n",
       "      <td>19.662386</td>\n",
       "      <td>7.888586</td>\n",
       "    </tr>\n",
       "    <tr>\n",
       "      <th>2016-01-06</th>\n",
       "      <td>3.464938</td>\n",
       "      <td>17.283368</td>\n",
       "      <td>20.088595</td>\n",
       "      <td>36.871566</td>\n",
       "      <td>27.252077</td>\n",
       "      <td>5.024630</td>\n",
       "      <td>4.927752</td>\n",
       "      <td>6.459613</td>\n",
       "      <td>19.383973</td>\n",
       "      <td>7.831654</td>\n",
       "    </tr>\n",
       "    <tr>\n",
       "      <th>2016-01-07</th>\n",
       "      <td>3.393821</td>\n",
       "      <td>16.960254</td>\n",
       "      <td>19.533020</td>\n",
       "      <td>35.955089</td>\n",
       "      <td>27.157266</td>\n",
       "      <td>4.960496</td>\n",
       "      <td>4.923916</td>\n",
       "      <td>6.203524</td>\n",
       "      <td>19.327359</td>\n",
       "      <td>7.771504</td>\n",
       "    </tr>\n",
       "    <tr>\n",
       "      <th>2016-01-08</th>\n",
       "      <td>3.302227</td>\n",
       "      <td>16.834424</td>\n",
       "      <td>19.227764</td>\n",
       "      <td>35.434637</td>\n",
       "      <td>26.773459</td>\n",
       "      <td>4.848485</td>\n",
       "      <td>4.899542</td>\n",
       "      <td>5.954754</td>\n",
       "      <td>19.157518</td>\n",
       "      <td>7.584868</td>\n",
       "    </tr>\n",
       "  </tbody>\n",
       "</table>\n",
       "</div>"
      ],
      "text/plain": [
       "                 SAN        FER        ACS        AMS        ITX      BBVA  \\\n",
       "2016-01-04  3.611336  17.329551  20.205989  36.609084  27.617815  5.100387   \n",
       "2016-01-05  3.580238  17.375649  20.245065  36.779467  27.428193  5.134364   \n",
       "2016-01-06  3.464938  17.283368  20.088595  36.871566  27.252077  5.024630   \n",
       "2016-01-07  3.393821  16.960254  19.533020  35.955089  27.157266  4.960496   \n",
       "2016-01-08  3.302227  16.834424  19.227764  35.434637  26.773459  4.848485   \n",
       "\n",
       "                 IBE       REP        GRF       TEF  \n",
       "2016-01-04  4.891871  6.709067  19.346262  7.848238  \n",
       "2016-01-05  4.952126  6.649696  19.662386  7.888586  \n",
       "2016-01-06  4.927752  6.459613  19.383973  7.831654  \n",
       "2016-01-07  4.923916  6.203524  19.327359  7.771504  \n",
       "2016-01-08  4.899542  5.954754  19.157518  7.584868  "
      ]
     },
     "execution_count": 5,
     "metadata": {},
     "output_type": "execute_result"
    }
   ],
   "source": [
    "stock_df.head()"
   ]
  },
  {
   "cell_type": "markdown",
   "metadata": {},
   "source": [
    "___"
   ]
  },
  {
   "cell_type": "markdown",
   "metadata": {},
   "source": [
    "### Rentabilidad Ponderada por Tiempo\n",
    "- En inglés *Time-Weighted Return* (TWR) \n",
    "- Es el estándar de la indusria para medir rendimiento cuando hay flujos de caja externos al capital invertido inicialmente\n",
    "- Equivale al rendimiento que tendría 1€ a lo largo de todo el periodo evaluado, independientemente del dinero que entra y sale"
   ]
  },
  {
   "cell_type": "markdown",
   "metadata": {},
   "source": [
    "#### Procedimiento de Calculo\n",
    "El principio básico es componer la rentabilidad de cada unidad de tiempo (ej. días). Sin embargo es suficiente\n",
    "subdividir en periodos en los que no haya flujos de caja externo. El procedimiento consiste en los siguientes pasos:\n",
    "1. Se subdivide el período analizado en subperiodos, haciendo un corte siempre que haya un flujo de caja\n",
    "2. Se calcula la rentabilidad de cada subperiodo considerando la valoración sobre el capital invertido en dicho subperiodo\n",
    "3. Componer la rentabilidad de cada subperiodo"
   ]
  },
  {
   "cell_type": "markdown",
   "metadata": {},
   "source": [
    "$$ \\rm{TWR} = \\prod_{i=1}^n (1 + HPR_i) - 1 $$"
   ]
  },
  {
   "cell_type": "markdown",
   "metadata": {},
   "source": [
    "donde\n",
    "- TWR: Time-weighted return\n",
    "- HPR_i: *Holding-period return*, la rentabilidad de cada sub-periodo $\\frac{P_f}{P_i} - 1$ "
   ]
  },
  {
   "cell_type": "markdown",
   "metadata": {},
   "source": [
    "____"
   ]
  },
  {
   "cell_type": "markdown",
   "metadata": {},
   "source": [
    "#### Ejemplo TWR\n",
    "\n",
    "- Iniciamos una cartera con 100mil euros a principios de año\n",
    "- El 1 de junio la cartera vale 105mil euros y recibimos una inversión adicional de 20mil\n",
    "- El 1 de agosto la cartera vale 95 y se sacan 35mil euros\n",
    "- El 31 de diciembre la cartera vale 90 mil."
   ]
  },
  {
   "cell_type": "markdown",
   "metadata": {},
   "source": [
    "Calculamos en miles. Tenemos 3 periodos:\n",
    "1. $\\rm{HPR_1} = \\frac{105 - 100}{100} = 0.05$  \n",
    "Para el siguiente periodo la inversión es $105+20=125$ \n",
    "\n",
    "2. $\\rm{HPR_2} = \\frac{95 - 125}{125} = -0,24$  \n",
    "Para el siguiente periodo la inversión es $95-35=60$\n",
    "\n",
    "3. $\\rm{HPR_3} = \\frac{90 - 60}{60} = 0.50$  \n"
   ]
  },
  {
   "cell_type": "markdown",
   "metadata": {},
   "source": [
    "La rentabilidad ponderada por tiempo es:\n",
    "\n",
    "$ \\rm{TWR} = (1.05)(0.76)(1.5) - 1 = 0.197 $"
   ]
  },
  {
   "cell_type": "markdown",
   "metadata": {},
   "source": [
    "____"
   ]
  },
  {
   "cell_type": "markdown",
   "metadata": {},
   "source": [
    "#### TWR con valoracion de participaciones\n",
    "Una forma equivalente de calcular el TWR es asumir que las inversiones corresponden a un **número participaciones** \n",
    "que deben tener los mismos beneficios a lo largo del tiempo. (Recordad que el TWR equivale a la rentabilidad de 1€ invertido con independencia de entradas y salidas).  Esto implica que entradas y salidas de capital corresponden con compras y ventas de participaciones al valor liquidativo del día del flujo de entrada/salida.\n",
    "\n",
    "Este es el mecanismo que utilizan los fondos de inversión abiertos.\n",
    "- Las entradas corresponden a suscripciones de nuevas participaciones\n",
    "- Las salidas corresponden a reembolsos de participaciones"
   ]
  },
  {
   "cell_type": "markdown",
   "metadata": {},
   "source": [
    "El procedimiento consiste en:\n",
    "1. Calcular el valor liquidativo de una participación. Esto es patrimonio entre número de participaciones\n",
    "2. Suscripciones y reembolsos se compran o venden a valor liquidativo\n",
    "3. La rentabilidad se calcula sobre el valor liquidativo"
   ]
  },
  {
   "cell_type": "markdown",
   "metadata": {},
   "source": [
    "___"
   ]
  },
  {
   "cell_type": "markdown",
   "metadata": {},
   "source": [
    "#### Ejemplo con valoración de participaciones"
   ]
  },
  {
   "cell_type": "markdown",
   "metadata": {},
   "source": [
    "Usamos el mismo escenario del ejemplo anterior y partimos de unas 1000 participaciones\n",
    "valoradas inicialmente a 100€. "
   ]
  },
  {
   "cell_type": "markdown",
   "metadata": {},
   "source": [
    "1. El 1 de junio la cartera vale 105mil euros y recibimos una inversión adicional de 20mil\n",
    "  - valor liquidativo $\\rm{VL} = \\frac{105000}{1000} = 105$\n",
    "  - suscripción de $\\frac{20000}{105} = 190.47619$ nuevas participaciones\n",
    "  - total de participaciones 1190.47619"
   ]
  },
  {
   "cell_type": "markdown",
   "metadata": {},
   "source": [
    "2. El 1 de agosto la cartera vale 95 y se sacan 35mil eurosm\n",
    "  - valor liquidativo $\\rm{VL} = \\frac{95000}{1190.47619} = 79.8$\n",
    "  - reembolso de $\\frac{35000}{79.8} = 438.59649$ participaciones\n",
    "  - total de participaciones $1190.47619 - 438.59649 = 751.8797$"
   ]
  },
  {
   "cell_type": "markdown",
   "metadata": {},
   "source": [
    "3. El 31 de diciembre la cartera vale 90 mil.\n",
    "  - valor liquidativo $\\rm{VL}= \\frac{90000}{751.8797} = 119.7$\n",
    "  - Rentabilidad de la cartera $ \\rm{TWR} = \\frac{119.7}{100} - 1 = 0.197$"
   ]
  },
  {
   "cell_type": "markdown",
   "metadata": {},
   "source": [
    "El resultado, tal como esperábamos es el mismo."
   ]
  },
  {
   "cell_type": "markdown",
   "metadata": {},
   "source": [
    "___"
   ]
  },
  {
   "cell_type": "code",
   "execution_count": 6,
   "metadata": {},
   "outputs": [
    {
     "data": {
      "text/plain": [
       "<matplotlib.axes._subplots.AxesSubplot at 0x16028dd8a00>"
      ]
     },
     "execution_count": 6,
     "metadata": {},
     "output_type": "execute_result"
    },
    {
     "data": {
      "image/png": "[encoded data removed]",
      "text/plain": [
       "<Figure size 432x288 with 1 Axes>"
      ]
     },
     "metadata": {
      "needs_background": "light"
     },
     "output_type": "display_data"
    }
   ],
   "source": [
    "ticker = 'ACS'\n",
    "stock_series = stock_df[ticker]\n",
    "stock_series.plot()"
   ]
  },
  {
   "cell_type": "code",
   "execution_count": 7,
   "metadata": {},
   "outputs": [],
   "source": [
    "# inversion inicial\n",
    "capital = 100_000"
   ]
  },
  {
   "cell_type": "code",
   "execution_count": 8,
   "metadata": {},
   "outputs": [
    {
     "data": {
      "text/plain": [
       "2016-01-04    100\n",
       "2016-01-05    100\n",
       "2016-01-06    100\n",
       "2016-01-07    100\n",
       "2016-01-08    100\n",
       "             ... \n",
       "2020-08-17    100\n",
       "2020-08-18    100\n",
       "2020-08-19    100\n",
       "2020-08-20    100\n",
       "2020-08-21    100\n",
       "Length: 1186, dtype: int64"
      ]
     },
     "execution_count": 8,
     "metadata": {},
     "output_type": "execute_result"
    }
   ],
   "source": [
    "# valor liquidativo, inicial=100\n",
    "nav = pd.Series(100, index=stock_series.index)\n",
    "nav"
   ]
  },
  {
   "cell_type": "code",
   "execution_count": 11,
   "metadata": {},
   "outputs": [
    {
     "data": {
      "text/plain": [
       "1000.0"
      ]
     },
     "execution_count": 11,
     "metadata": {},
     "output_type": "execute_result"
    }
   ],
   "source": [
    "# participaciones\n",
    "init_n_units = capital/nav.iloc[0]\n",
    "init_n_units"
   ]
  },
  {
   "cell_type": "code",
   "execution_count": 13,
   "metadata": {},
   "outputs": [
    {
     "data": {
      "text/plain": [
       "2016-01-04    1000.0\n",
       "2016-01-05    1000.0\n",
       "2016-01-06    1000.0\n",
       "2016-01-07    1000.0\n",
       "2016-01-08    1000.0\n",
       "               ...  \n",
       "2020-08-17    1000.0\n",
       "2020-08-18    1000.0\n",
       "2020-08-19    1000.0\n",
       "2020-08-20    1000.0\n",
       "2020-08-21    1000.0\n",
       "Length: 1186, dtype: float64"
      ]
     },
     "execution_count": 13,
     "metadata": {},
     "output_type": "execute_result"
    }
   ],
   "source": [
    "# registro de suscripciones y reembolsos\n",
    "inout_units = pd.Series(0, index=stock_series.index)\n",
    "inout_units.iloc[0] = init_n_units\n",
    "\n",
    "n_units = inout_units.cumsum()\n",
    "n_units"
   ]
  },
  {
   "cell_type": "code",
   "execution_count": 14,
   "metadata": {},
   "outputs": [
    {
     "data": {
      "text/html": [
       "<div>\n",
       "<style scoped>\n",
       "    .dataframe tbody tr th:only-of-type {\n",
       "        vertical-align: middle;\n",
       "    }\n",
       "\n",
       "    .dataframe tbody tr th {\n",
       "        vertical-align: top;\n",
       "    }\n",
       "\n",
       "    .dataframe thead th {\n",
       "        text-align: right;\n",
       "    }\n",
       "</style>\n",
       "<table border=\"1\" class=\"dataframe\">\n",
       "  <thead>\n",
       "    <tr style=\"text-align: right;\">\n",
       "      <th></th>\n",
       "      <th>SAN</th>\n",
       "      <th>FER</th>\n",
       "      <th>ACS</th>\n",
       "      <th>AMS</th>\n",
       "      <th>ITX</th>\n",
       "      <th>BBVA</th>\n",
       "      <th>IBE</th>\n",
       "      <th>REP</th>\n",
       "      <th>GRF</th>\n",
       "      <th>TEF</th>\n",
       "    </tr>\n",
       "  </thead>\n",
       "  <tbody>\n",
       "    <tr>\n",
       "      <th>2016-01-04</th>\n",
       "      <td>0</td>\n",
       "      <td>0</td>\n",
       "      <td>4949.027816</td>\n",
       "      <td>0</td>\n",
       "      <td>0</td>\n",
       "      <td>0</td>\n",
       "      <td>0</td>\n",
       "      <td>0</td>\n",
       "      <td>0</td>\n",
       "      <td>0</td>\n",
       "    </tr>\n",
       "    <tr>\n",
       "      <th>2016-01-05</th>\n",
       "      <td>0</td>\n",
       "      <td>0</td>\n",
       "      <td>0.000000</td>\n",
       "      <td>0</td>\n",
       "      <td>0</td>\n",
       "      <td>0</td>\n",
       "      <td>0</td>\n",
       "      <td>0</td>\n",
       "      <td>0</td>\n",
       "      <td>0</td>\n",
       "    </tr>\n",
       "    <tr>\n",
       "      <th>2016-01-06</th>\n",
       "      <td>0</td>\n",
       "      <td>0</td>\n",
       "      <td>0.000000</td>\n",
       "      <td>0</td>\n",
       "      <td>0</td>\n",
       "      <td>0</td>\n",
       "      <td>0</td>\n",
       "      <td>0</td>\n",
       "      <td>0</td>\n",
       "      <td>0</td>\n",
       "    </tr>\n",
       "    <tr>\n",
       "      <th>2016-01-07</th>\n",
       "      <td>0</td>\n",
       "      <td>0</td>\n",
       "      <td>0.000000</td>\n",
       "      <td>0</td>\n",
       "      <td>0</td>\n",
       "      <td>0</td>\n",
       "      <td>0</td>\n",
       "      <td>0</td>\n",
       "      <td>0</td>\n",
       "      <td>0</td>\n",
       "    </tr>\n",
       "    <tr>\n",
       "      <th>2016-01-08</th>\n",
       "      <td>0</td>\n",
       "      <td>0</td>\n",
       "      <td>0.000000</td>\n",
       "      <td>0</td>\n",
       "      <td>0</td>\n",
       "      <td>0</td>\n",
       "      <td>0</td>\n",
       "      <td>0</td>\n",
       "      <td>0</td>\n",
       "      <td>0</td>\n",
       "    </tr>\n",
       "  </tbody>\n",
       "</table>\n",
       "</div>"
      ],
      "text/plain": [
       "            SAN  FER          ACS  AMS  ITX  BBVA  IBE  REP  GRF  TEF\n",
       "2016-01-04    0    0  4949.027816    0    0     0    0    0    0    0\n",
       "2016-01-05    0    0     0.000000    0    0     0    0    0    0    0\n",
       "2016-01-06    0    0     0.000000    0    0     0    0    0    0    0\n",
       "2016-01-07    0    0     0.000000    0    0     0    0    0    0    0\n",
       "2016-01-08    0    0     0.000000    0    0     0    0    0    0    0"
      ]
     },
     "execution_count": 14,
     "metadata": {},
     "output_type": "execute_result"
    }
   ],
   "source": [
    "# delta_cash = pd.Series(0, index=stock_df.index)\n",
    "delta_shares = pd.DataFrame(0, index=stock_df.index, columns=stock_df.columns)\n",
    "delta_shares[ticker].iloc[0] = capital/stock_series.iloc[0]\n",
    "delta_shares.head()"
   ]
  },
  {
   "cell_type": "code",
   "execution_count": 15,
   "metadata": {},
   "outputs": [
    {
     "data": {
      "text/html": [
       "<div>\n",
       "<style scoped>\n",
       "    .dataframe tbody tr th:only-of-type {\n",
       "        vertical-align: middle;\n",
       "    }\n",
       "\n",
       "    .dataframe tbody tr th {\n",
       "        vertical-align: top;\n",
       "    }\n",
       "\n",
       "    .dataframe thead th {\n",
       "        text-align: right;\n",
       "    }\n",
       "</style>\n",
       "<table border=\"1\" class=\"dataframe\">\n",
       "  <thead>\n",
       "    <tr style=\"text-align: right;\">\n",
       "      <th></th>\n",
       "      <th>SAN</th>\n",
       "      <th>FER</th>\n",
       "      <th>ACS</th>\n",
       "      <th>AMS</th>\n",
       "      <th>ITX</th>\n",
       "      <th>BBVA</th>\n",
       "      <th>IBE</th>\n",
       "      <th>REP</th>\n",
       "      <th>GRF</th>\n",
       "      <th>TEF</th>\n",
       "    </tr>\n",
       "  </thead>\n",
       "  <tbody>\n",
       "    <tr>\n",
       "      <th>2016-01-04</th>\n",
       "      <td>0</td>\n",
       "      <td>0</td>\n",
       "      <td>4949.027816</td>\n",
       "      <td>0</td>\n",
       "      <td>0</td>\n",
       "      <td>0</td>\n",
       "      <td>0</td>\n",
       "      <td>0</td>\n",
       "      <td>0</td>\n",
       "      <td>0</td>\n",
       "    </tr>\n",
       "    <tr>\n",
       "      <th>2016-01-05</th>\n",
       "      <td>0</td>\n",
       "      <td>0</td>\n",
       "      <td>4949.027816</td>\n",
       "      <td>0</td>\n",
       "      <td>0</td>\n",
       "      <td>0</td>\n",
       "      <td>0</td>\n",
       "      <td>0</td>\n",
       "      <td>0</td>\n",
       "      <td>0</td>\n",
       "    </tr>\n",
       "    <tr>\n",
       "      <th>2016-01-06</th>\n",
       "      <td>0</td>\n",
       "      <td>0</td>\n",
       "      <td>4949.027816</td>\n",
       "      <td>0</td>\n",
       "      <td>0</td>\n",
       "      <td>0</td>\n",
       "      <td>0</td>\n",
       "      <td>0</td>\n",
       "      <td>0</td>\n",
       "      <td>0</td>\n",
       "    </tr>\n",
       "    <tr>\n",
       "      <th>2016-01-07</th>\n",
       "      <td>0</td>\n",
       "      <td>0</td>\n",
       "      <td>4949.027816</td>\n",
       "      <td>0</td>\n",
       "      <td>0</td>\n",
       "      <td>0</td>\n",
       "      <td>0</td>\n",
       "      <td>0</td>\n",
       "      <td>0</td>\n",
       "      <td>0</td>\n",
       "    </tr>\n",
       "    <tr>\n",
       "      <th>2016-01-08</th>\n",
       "      <td>0</td>\n",
       "      <td>0</td>\n",
       "      <td>4949.027816</td>\n",
       "      <td>0</td>\n",
       "      <td>0</td>\n",
       "      <td>0</td>\n",
       "      <td>0</td>\n",
       "      <td>0</td>\n",
       "      <td>0</td>\n",
       "      <td>0</td>\n",
       "    </tr>\n",
       "    <tr>\n",
       "      <th>...</th>\n",
       "      <td>...</td>\n",
       "      <td>...</td>\n",
       "      <td>...</td>\n",
       "      <td>...</td>\n",
       "      <td>...</td>\n",
       "      <td>...</td>\n",
       "      <td>...</td>\n",
       "      <td>...</td>\n",
       "      <td>...</td>\n",
       "      <td>...</td>\n",
       "    </tr>\n",
       "    <tr>\n",
       "      <th>2020-08-17</th>\n",
       "      <td>0</td>\n",
       "      <td>0</td>\n",
       "      <td>4949.027816</td>\n",
       "      <td>0</td>\n",
       "      <td>0</td>\n",
       "      <td>0</td>\n",
       "      <td>0</td>\n",
       "      <td>0</td>\n",
       "      <td>0</td>\n",
       "      <td>0</td>\n",
       "    </tr>\n",
       "    <tr>\n",
       "      <th>2020-08-18</th>\n",
       "      <td>0</td>\n",
       "      <td>0</td>\n",
       "      <td>4949.027816</td>\n",
       "      <td>0</td>\n",
       "      <td>0</td>\n",
       "      <td>0</td>\n",
       "      <td>0</td>\n",
       "      <td>0</td>\n",
       "      <td>0</td>\n",
       "      <td>0</td>\n",
       "    </tr>\n",
       "    <tr>\n",
       "      <th>2020-08-19</th>\n",
       "      <td>0</td>\n",
       "      <td>0</td>\n",
       "      <td>4949.027816</td>\n",
       "      <td>0</td>\n",
       "      <td>0</td>\n",
       "      <td>0</td>\n",
       "      <td>0</td>\n",
       "      <td>0</td>\n",
       "      <td>0</td>\n",
       "      <td>0</td>\n",
       "    </tr>\n",
       "    <tr>\n",
       "      <th>2020-08-20</th>\n",
       "      <td>0</td>\n",
       "      <td>0</td>\n",
       "      <td>4949.027816</td>\n",
       "      <td>0</td>\n",
       "      <td>0</td>\n",
       "      <td>0</td>\n",
       "      <td>0</td>\n",
       "      <td>0</td>\n",
       "      <td>0</td>\n",
       "      <td>0</td>\n",
       "    </tr>\n",
       "    <tr>\n",
       "      <th>2020-08-21</th>\n",
       "      <td>0</td>\n",
       "      <td>0</td>\n",
       "      <td>4949.027816</td>\n",
       "      <td>0</td>\n",
       "      <td>0</td>\n",
       "      <td>0</td>\n",
       "      <td>0</td>\n",
       "      <td>0</td>\n",
       "      <td>0</td>\n",
       "      <td>0</td>\n",
       "    </tr>\n",
       "  </tbody>\n",
       "</table>\n",
       "<p>1186 rows × 10 columns</p>\n",
       "</div>"
      ],
      "text/plain": [
       "            SAN  FER          ACS  AMS  ITX  BBVA  IBE  REP  GRF  TEF\n",
       "2016-01-04    0    0  4949.027816    0    0     0    0    0    0    0\n",
       "2016-01-05    0    0  4949.027816    0    0     0    0    0    0    0\n",
       "2016-01-06    0    0  4949.027816    0    0     0    0    0    0    0\n",
       "2016-01-07    0    0  4949.027816    0    0     0    0    0    0    0\n",
       "2016-01-08    0    0  4949.027816    0    0     0    0    0    0    0\n",
       "...         ...  ...          ...  ...  ...   ...  ...  ...  ...  ...\n",
       "2020-08-17    0    0  4949.027816    0    0     0    0    0    0    0\n",
       "2020-08-18    0    0  4949.027816    0    0     0    0    0    0    0\n",
       "2020-08-19    0    0  4949.027816    0    0     0    0    0    0    0\n",
       "2020-08-20    0    0  4949.027816    0    0     0    0    0    0    0\n",
       "2020-08-21    0    0  4949.027816    0    0     0    0    0    0    0\n",
       "\n",
       "[1186 rows x 10 columns]"
      ]
     },
     "execution_count": 15,
     "metadata": {},
     "output_type": "execute_result"
    }
   ],
   "source": [
    "posiciones = delta_shares.cumsum()\n",
    "posiciones"
   ]
  },
  {
   "cell_type": "code",
   "execution_count": 16,
   "metadata": {},
   "outputs": [
    {
     "data": {
      "text/html": [
       "<div>\n",
       "<style scoped>\n",
       "    .dataframe tbody tr th:only-of-type {\n",
       "        vertical-align: middle;\n",
       "    }\n",
       "\n",
       "    .dataframe tbody tr th {\n",
       "        vertical-align: top;\n",
       "    }\n",
       "\n",
       "    .dataframe thead th {\n",
       "        text-align: right;\n",
       "    }\n",
       "</style>\n",
       "<table border=\"1\" class=\"dataframe\">\n",
       "  <thead>\n",
       "    <tr style=\"text-align: right;\">\n",
       "      <th></th>\n",
       "      <th>SAN</th>\n",
       "      <th>FER</th>\n",
       "      <th>ACS</th>\n",
       "      <th>AMS</th>\n",
       "      <th>ITX</th>\n",
       "      <th>BBVA</th>\n",
       "      <th>IBE</th>\n",
       "      <th>REP</th>\n",
       "      <th>GRF</th>\n",
       "      <th>TEF</th>\n",
       "    </tr>\n",
       "  </thead>\n",
       "  <tbody>\n",
       "    <tr>\n",
       "      <th>2016-01-04</th>\n",
       "      <td>0.0</td>\n",
       "      <td>0.0</td>\n",
       "      <td>100000.000000</td>\n",
       "      <td>0.0</td>\n",
       "      <td>0.0</td>\n",
       "      <td>0.0</td>\n",
       "      <td>0.0</td>\n",
       "      <td>0.0</td>\n",
       "      <td>0.0</td>\n",
       "      <td>0.0</td>\n",
       "    </tr>\n",
       "    <tr>\n",
       "      <th>2016-01-05</th>\n",
       "      <td>0.0</td>\n",
       "      <td>0.0</td>\n",
       "      <td>100193.391522</td>\n",
       "      <td>0.0</td>\n",
       "      <td>0.0</td>\n",
       "      <td>0.0</td>\n",
       "      <td>0.0</td>\n",
       "      <td>0.0</td>\n",
       "      <td>0.0</td>\n",
       "      <td>0.0</td>\n",
       "    </tr>\n",
       "    <tr>\n",
       "      <th>2016-01-06</th>\n",
       "      <td>0.0</td>\n",
       "      <td>0.0</td>\n",
       "      <td>99419.016308</td>\n",
       "      <td>0.0</td>\n",
       "      <td>0.0</td>\n",
       "      <td>0.0</td>\n",
       "      <td>0.0</td>\n",
       "      <td>0.0</td>\n",
       "      <td>0.0</td>\n",
       "      <td>0.0</td>\n",
       "    </tr>\n",
       "    <tr>\n",
       "      <th>2016-01-07</th>\n",
       "      <td>0.0</td>\n",
       "      <td>0.0</td>\n",
       "      <td>96669.458308</td>\n",
       "      <td>0.0</td>\n",
       "      <td>0.0</td>\n",
       "      <td>0.0</td>\n",
       "      <td>0.0</td>\n",
       "      <td>0.0</td>\n",
       "      <td>0.0</td>\n",
       "      <td>0.0</td>\n",
       "    </tr>\n",
       "    <tr>\n",
       "      <th>2016-01-08</th>\n",
       "      <td>0.0</td>\n",
       "      <td>0.0</td>\n",
       "      <td>95158.738833</td>\n",
       "      <td>0.0</td>\n",
       "      <td>0.0</td>\n",
       "      <td>0.0</td>\n",
       "      <td>0.0</td>\n",
       "      <td>0.0</td>\n",
       "      <td>0.0</td>\n",
       "      <td>0.0</td>\n",
       "    </tr>\n",
       "    <tr>\n",
       "      <th>...</th>\n",
       "      <td>...</td>\n",
       "      <td>...</td>\n",
       "      <td>...</td>\n",
       "      <td>...</td>\n",
       "      <td>...</td>\n",
       "      <td>...</td>\n",
       "      <td>...</td>\n",
       "      <td>...</td>\n",
       "      <td>...</td>\n",
       "      <td>...</td>\n",
       "    </tr>\n",
       "    <tr>\n",
       "      <th>2020-08-17</th>\n",
       "      <td>0.0</td>\n",
       "      <td>0.0</td>\n",
       "      <td>104721.428594</td>\n",
       "      <td>0.0</td>\n",
       "      <td>0.0</td>\n",
       "      <td>0.0</td>\n",
       "      <td>0.0</td>\n",
       "      <td>0.0</td>\n",
       "      <td>0.0</td>\n",
       "      <td>0.0</td>\n",
       "    </tr>\n",
       "    <tr>\n",
       "      <th>2020-08-18</th>\n",
       "      <td>0.0</td>\n",
       "      <td>0.0</td>\n",
       "      <td>104671.938316</td>\n",
       "      <td>0.0</td>\n",
       "      <td>0.0</td>\n",
       "      <td>0.0</td>\n",
       "      <td>0.0</td>\n",
       "      <td>0.0</td>\n",
       "      <td>0.0</td>\n",
       "      <td>0.0</td>\n",
       "    </tr>\n",
       "    <tr>\n",
       "      <th>2020-08-19</th>\n",
       "      <td>0.0</td>\n",
       "      <td>0.0</td>\n",
       "      <td>107443.393893</td>\n",
       "      <td>0.0</td>\n",
       "      <td>0.0</td>\n",
       "      <td>0.0</td>\n",
       "      <td>0.0</td>\n",
       "      <td>0.0</td>\n",
       "      <td>0.0</td>\n",
       "      <td>0.0</td>\n",
       "    </tr>\n",
       "    <tr>\n",
       "      <th>2020-08-20</th>\n",
       "      <td>0.0</td>\n",
       "      <td>0.0</td>\n",
       "      <td>105612.253601</td>\n",
       "      <td>0.0</td>\n",
       "      <td>0.0</td>\n",
       "      <td>0.0</td>\n",
       "      <td>0.0</td>\n",
       "      <td>0.0</td>\n",
       "      <td>0.0</td>\n",
       "      <td>0.0</td>\n",
       "    </tr>\n",
       "    <tr>\n",
       "      <th>2020-08-21</th>\n",
       "      <td>0.0</td>\n",
       "      <td>0.0</td>\n",
       "      <td>106899.000834</td>\n",
       "      <td>0.0</td>\n",
       "      <td>0.0</td>\n",
       "      <td>0.0</td>\n",
       "      <td>0.0</td>\n",
       "      <td>0.0</td>\n",
       "      <td>0.0</td>\n",
       "      <td>0.0</td>\n",
       "    </tr>\n",
       "  </tbody>\n",
       "</table>\n",
       "<p>1186 rows × 10 columns</p>\n",
       "</div>"
      ],
      "text/plain": [
       "            SAN  FER            ACS  AMS  ITX  BBVA  IBE  REP  GRF  TEF\n",
       "2016-01-04  0.0  0.0  100000.000000  0.0  0.0   0.0  0.0  0.0  0.0  0.0\n",
       "2016-01-05  0.0  0.0  100193.391522  0.0  0.0   0.0  0.0  0.0  0.0  0.0\n",
       "2016-01-06  0.0  0.0   99419.016308  0.0  0.0   0.0  0.0  0.0  0.0  0.0\n",
       "2016-01-07  0.0  0.0   96669.458308  0.0  0.0   0.0  0.0  0.0  0.0  0.0\n",
       "2016-01-08  0.0  0.0   95158.738833  0.0  0.0   0.0  0.0  0.0  0.0  0.0\n",
       "...         ...  ...            ...  ...  ...   ...  ...  ...  ...  ...\n",
       "2020-08-17  0.0  0.0  104721.428594  0.0  0.0   0.0  0.0  0.0  0.0  0.0\n",
       "2020-08-18  0.0  0.0  104671.938316  0.0  0.0   0.0  0.0  0.0  0.0  0.0\n",
       "2020-08-19  0.0  0.0  107443.393893  0.0  0.0   0.0  0.0  0.0  0.0  0.0\n",
       "2020-08-20  0.0  0.0  105612.253601  0.0  0.0   0.0  0.0  0.0  0.0  0.0\n",
       "2020-08-21  0.0  0.0  106899.000834  0.0  0.0   0.0  0.0  0.0  0.0  0.0\n",
       "\n",
       "[1186 rows x 10 columns]"
      ]
     },
     "execution_count": 16,
     "metadata": {},
     "output_type": "execute_result"
    }
   ],
   "source": [
    "asset_value = posiciones * stock_df\n",
    "asset_value"
   ]
  },
  {
   "cell_type": "code",
   "execution_count": 17,
   "metadata": {},
   "outputs": [
    {
     "data": {
      "text/plain": [
       "2016-01-04    100000.000000\n",
       "2016-01-05    100193.391522\n",
       "2016-01-06     99419.016308\n",
       "2016-01-07     96669.458308\n",
       "2016-01-08     95158.738833\n",
       "                  ...      \n",
       "2020-08-17    104721.428594\n",
       "2020-08-18    104671.938316\n",
       "2020-08-19    107443.393893\n",
       "2020-08-20    105612.253601\n",
       "2020-08-21    106899.000834\n",
       "Length: 1186, dtype: float64"
      ]
     },
     "execution_count": 17,
     "metadata": {},
     "output_type": "execute_result"
    }
   ],
   "source": [
    "portvalue = asset_value.sum(axis=1)\n",
    "portvalue"
   ]
  },
  {
   "cell_type": "code",
   "execution_count": 18,
   "metadata": {},
   "outputs": [
    {
     "data": {
      "text/plain": [
       "2016-01-04    100.000000\n",
       "2016-01-05    100.193392\n",
       "2016-01-06     99.419016\n",
       "2016-01-07     96.669458\n",
       "2016-01-08     95.158739\n",
       "dtype: float64"
      ]
     },
     "execution_count": 18,
     "metadata": {},
     "output_type": "execute_result"
    }
   ],
   "source": [
    "nav = portvalue / n_units\n",
    "nav.head()"
   ]
  },
  {
   "cell_type": "markdown",
   "metadata": {},
   "source": [
    "dado que no tenemos ahora entradas y salidas de capital,\n",
    "la evolución del nav, coincide con la evolución del portfolio"
   ]
  },
  {
   "cell_type": "code",
   "execution_count": 19,
   "metadata": {},
   "outputs": [
    {
     "data": {
      "text/plain": [
       "<matplotlib.axes._subplots.AxesSubplot at 0x1602a080e20>"
      ]
     },
     "execution_count": 19,
     "metadata": {},
     "output_type": "execute_result"
    },
    {
     "data": {
      "image/png": "[encoded data removed]",
      "text/plain": [
       "<Figure size 1008x288 with 2 Axes>"
      ]
     },
     "metadata": {
      "needs_background": "light"
     },
     "output_type": "display_data"
    }
   ],
   "source": [
    "fig, (ax1, ax2) = plt.subplots(1,2, figsize=(14,4))\n",
    "portvalue.plot(ax=ax1)\n",
    "nav.plot(ax=ax2)"
   ]
  },
  {
   "cell_type": "code",
   "execution_count": 20,
   "metadata": {},
   "outputs": [
    {
     "data": {
      "text/plain": [
       "array([False,  True,  True, ...,  True,  True,  True])"
      ]
     },
     "execution_count": 20,
     "metadata": {},
     "output_type": "execute_result"
    }
   ],
   "source": [
    "# serie booleana a partir de convertir a fecha mensual \n",
    "# y luego ver las repeditas\n",
    "month_repeated = stock_series.index.to_period('m').duplicated()\n",
    "month_repeated "
   ]
  },
  {
   "cell_type": "code",
   "execution_count": 21,
   "metadata": {},
   "outputs": [
    {
     "data": {
      "text/plain": [
       "2016-01-04    20.205989\n",
       "2016-02-01    18.555449\n",
       "2016-03-01    19.336083\n",
       "2016-04-01    21.132302\n",
       "2016-05-02    23.183418\n",
       "Name: ACS, dtype: float64"
      ]
     },
     "execution_count": 21,
     "metadata": {},
     "output_type": "execute_result"
    }
   ],
   "source": [
    "first_month_trade = stock_series[~month_repeated]\n",
    "first_month_trade.head()"
   ]
  },
  {
   "cell_type": "code",
   "execution_count": 22,
   "metadata": {},
   "outputs": [],
   "source": [
    "cash_flows = pd.Series(0, index=stock_df.index)\n",
    "cash_flows.iloc[0] = -capital"
   ]
  },
  {
   "cell_type": "code",
   "execution_count": 23,
   "metadata": {},
   "outputs": [],
   "source": [
    "regular_cash_in = 2000"
   ]
  },
  {
   "cell_type": "code",
   "execution_count": 24,
   "metadata": {},
   "outputs": [],
   "source": [
    "for idate in first_month_trade.index[1:]:\n",
    "    # suscripciones. las nuevas participaciones las tendremos de aquí en adelante\n",
    "    new_units = regular_cash_in/nav.loc[idate]\n",
    "    inout_units.loc[idate] = new_units\n",
    "    n_units = inout_units.cumsum()\n",
    "    \n",
    "    # inversion del nuevo efectivo\n",
    "    delta_shares.loc[idate, ticker] = regular_cash_in/stock_series[idate]\n",
    "    \n",
    "    # recalculamos la cartera\n",
    "    posiciones = delta_shares.cumsum()\n",
    "    asset_value = posiciones * stock_df\n",
    "    portvalue = asset_value.sum(axis=1)\n",
    "    nav = portvalue / n_units\n",
    "    \n",
    "    # registramos el cashflow\n",
    "    cash_flows[idate] = -regular_cash_in    "
   ]
  },
  {
   "cell_type": "code",
   "execution_count": 25,
   "metadata": {},
   "outputs": [
    {
     "data": {
      "text/plain": [
       "<matplotlib.axes._subplots.AxesSubplot at 0x1602a11d820>"
      ]
     },
     "execution_count": 25,
     "metadata": {},
     "output_type": "execute_result"
    },
    {
     "data": {
      "image/png": "[encoded data removed]",
      "text/plain": [
       "<Figure size 432x288 with 1 Axes>"
      ]
     },
     "metadata": {
      "needs_background": "light"
     },
     "output_type": "display_data"
    }
   ],
   "source": [
    "n_units.plot()"
   ]
  },
  {
   "cell_type": "code",
   "execution_count": 26,
   "metadata": {},
   "outputs": [
    {
     "data": {
      "text/plain": [
       "2016-01-04    100000.000000\n",
       "2016-01-05    100193.391522\n",
       "2016-01-06     99419.016308\n",
       "2016-01-07     96669.458308\n",
       "2016-01-08     95158.738833\n",
       "                  ...      \n",
       "2020-08-17    193098.545696\n",
       "2020-08-18    193007.289295\n",
       "2020-08-19    198117.647782\n",
       "2020-08-20    194741.160924\n",
       "2020-08-21    197113.827365\n",
       "Length: 1186, dtype: float64"
      ]
     },
     "execution_count": 26,
     "metadata": {},
     "output_type": "execute_result"
    }
   ],
   "source": [
    "portvalue"
   ]
  },
  {
   "cell_type": "code",
   "execution_count": 27,
   "metadata": {},
   "outputs": [
    {
     "data": {
      "text/plain": [
       "<matplotlib.axes._subplots.AxesSubplot at 0x1602a2fc880>"
      ]
     },
     "execution_count": 27,
     "metadata": {},
     "output_type": "execute_result"
    },
    {
     "data": {
      "image/png": "[encoded data removed]",
      "text/plain": [
       "<Figure size 1008x288 with 2 Axes>"
      ]
     },
     "metadata": {
      "needs_background": "light"
     },
     "output_type": "display_data"
    }
   ],
   "source": [
    "fig, (ax1, ax2) = plt.subplots(1,2, figsize=(14,4))\n",
    "portvalue.plot(ax=ax1)\n",
    "nav.plot(ax=ax2)"
   ]
  },
  {
   "cell_type": "code",
   "execution_count": null,
   "metadata": {},
   "outputs": [],
   "source": []
  }
 ],
 "metadata": {
  "kernelspec": {
   "display_name": "Python 3",
   "language": "python",
   "name": "python3"
  },
  "language_info": {
   "codemirror_mode": {
    "name": "ipython",
    "version": 3
   },
   "file_extension": ".py",
   "mimetype": "text/x-python",
   "name": "python",
   "nbconvert_exporter": "python",
   "pygments_lexer": "ipython3",
   "version": "3.8.3"
  }
 },
 "nbformat": 4,
 "nbformat_minor": 4
}
