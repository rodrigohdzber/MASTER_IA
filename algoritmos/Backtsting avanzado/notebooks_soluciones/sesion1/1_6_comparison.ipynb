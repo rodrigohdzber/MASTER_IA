{
 "cells": [
  {
   "cell_type": "markdown",
   "metadata": {},
   "source": [
    "## Backtesting \n",
    "### Métricas (2)\n",
    "En este cuaderno continuamos con el cáclulo de métricas, pero introducimos\n",
    "- el uso de reglas de trading que aplicamos a varios activos a la vez\n",
    "- la comparación respecto al índice de referencia\n",
    "\n",
    "De momento esta comparación no es justa porque no tenemos una correspondencia con el universo de acciones invertibles"
   ]
  },
  {
   "cell_type": "code",
   "execution_count": 1,
   "metadata": {},
   "outputs": [],
   "source": [
    "import numpy as np \n",
    "import pandas as pd\n",
    "import matplotlib.pyplot as plt\n",
    "import itertools"
   ]
  },
  {
   "cell_type": "markdown",
   "metadata": {},
   "source": [
    "### Datos \n",
    "Asumiremos por un tema se simplicidad en los ejemplos, que nuestro universo de acciones invertibles son las siguientes acciones del IBEX35."
   ]
  },
  {
   "cell_type": "code",
   "execution_count": 2,
   "metadata": {},
   "outputs": [],
   "source": [
    "ticker_list = ['BBVA','SAN','REP','TEF','IBE','FER','ITX','ACS','GRF']"
   ]
  },
  {
   "cell_type": "code",
   "execution_count": 3,
   "metadata": {},
   "outputs": [],
   "source": [
    "import pickle\n",
    "with open('../data/stock_data.pkl', 'rb') as handle:\n",
    "    stock_data = pickle.load(handle)"
   ]
  },
  {
   "cell_type": "code",
   "execution_count": 4,
   "metadata": {},
   "outputs": [],
   "source": [
    "close_series = {ticker: df.close for ticker, df in stock_data.items()\n",
    "                if ticker in ticker_list}\n",
    "stock_df = pd.DataFrame(close_series)\n",
    "stock_df = stock_df.loc['2010':]"
   ]
  },
  {
   "cell_type": "code",
   "execution_count": 5,
   "metadata": {},
   "outputs": [
    {
     "data": {
      "text/html": [
       "<div>\n",
       "<style scoped>\n",
       "    .dataframe tbody tr th:only-of-type {\n",
       "        vertical-align: middle;\n",
       "    }\n",
       "\n",
       "    .dataframe tbody tr th {\n",
       "        vertical-align: top;\n",
       "    }\n",
       "\n",
       "    .dataframe thead th {\n",
       "        text-align: right;\n",
       "    }\n",
       "</style>\n",
       "<table border=\"1\" class=\"dataframe\">\n",
       "  <thead>\n",
       "    <tr style=\"text-align: right;\">\n",
       "      <th></th>\n",
       "      <th>SAN</th>\n",
       "      <th>FER</th>\n",
       "      <th>ACS</th>\n",
       "      <th>ITX</th>\n",
       "      <th>BBVA</th>\n",
       "      <th>IBE</th>\n",
       "      <th>REP</th>\n",
       "      <th>GRF</th>\n",
       "      <th>TEF</th>\n",
       "    </tr>\n",
       "  </thead>\n",
       "  <tbody>\n",
       "    <tr>\n",
       "      <th>2010-01-04</th>\n",
       "      <td>5.665913</td>\n",
       "      <td>4.830823</td>\n",
       "      <td>19.599646</td>\n",
       "      <td>7.094121</td>\n",
       "      <td>6.763884</td>\n",
       "      <td>3.695395</td>\n",
       "      <td>8.393345</td>\n",
       "      <td>4.829916</td>\n",
       "      <td>10.444406</td>\n",
       "    </tr>\n",
       "    <tr>\n",
       "      <th>2010-01-05</th>\n",
       "      <td>5.728703</td>\n",
       "      <td>4.894763</td>\n",
       "      <td>19.944224</td>\n",
       "      <td>7.047400</td>\n",
       "      <td>6.810948</td>\n",
       "      <td>3.699710</td>\n",
       "      <td>8.417832</td>\n",
       "      <td>4.764089</td>\n",
       "      <td>10.428564</td>\n",
       "    </tr>\n",
       "    <tr>\n",
       "      <th>2010-01-06</th>\n",
       "      <td>5.769572</td>\n",
       "      <td>5.056533</td>\n",
       "      <td>19.985099</td>\n",
       "      <td>7.050594</td>\n",
       "      <td>6.837040</td>\n",
       "      <td>3.694835</td>\n",
       "      <td>8.379870</td>\n",
       "      <td>4.738822</td>\n",
       "      <td>10.352160</td>\n",
       "    </tr>\n",
       "    <tr>\n",
       "      <th>2010-01-07</th>\n",
       "      <td>5.743318</td>\n",
       "      <td>5.030070</td>\n",
       "      <td>19.785465</td>\n",
       "      <td>6.947297</td>\n",
       "      <td>6.805664</td>\n",
       "      <td>3.671260</td>\n",
       "      <td>8.384384</td>\n",
       "      <td>4.697976</td>\n",
       "      <td>10.249353</td>\n",
       "    </tr>\n",
       "    <tr>\n",
       "      <th>2010-01-08</th>\n",
       "      <td>5.762265</td>\n",
       "      <td>5.046118</td>\n",
       "      <td>20.217352</td>\n",
       "      <td>6.971478</td>\n",
       "      <td>6.857930</td>\n",
       "      <td>3.667345</td>\n",
       "      <td>8.375356</td>\n",
       "      <td>4.628159</td>\n",
       "      <td>10.070059</td>\n",
       "    </tr>\n",
       "  </tbody>\n",
       "</table>\n",
       "</div>"
      ],
      "text/plain": [
       "                 SAN       FER        ACS       ITX      BBVA       IBE  \\\n",
       "2010-01-04  5.665913  4.830823  19.599646  7.094121  6.763884  3.695395   \n",
       "2010-01-05  5.728703  4.894763  19.944224  7.047400  6.810948  3.699710   \n",
       "2010-01-06  5.769572  5.056533  19.985099  7.050594  6.837040  3.694835   \n",
       "2010-01-07  5.743318  5.030070  19.785465  6.947297  6.805664  3.671260   \n",
       "2010-01-08  5.762265  5.046118  20.217352  6.971478  6.857930  3.667345   \n",
       "\n",
       "                 REP       GRF        TEF  \n",
       "2010-01-04  8.393345  4.829916  10.444406  \n",
       "2010-01-05  8.417832  4.764089  10.428564  \n",
       "2010-01-06  8.379870  4.738822  10.352160  \n",
       "2010-01-07  8.384384  4.697976  10.249353  \n",
       "2010-01-08  8.375356  4.628159  10.070059  "
      ]
     },
     "execution_count": 5,
     "metadata": {},
     "output_type": "execute_result"
    }
   ],
   "source": [
    "stock_df.head()"
   ]
  },
  {
   "cell_type": "markdown",
   "metadata": {},
   "source": [
    "Eliminaremos primero las acciones que no han estado en el índice durante todo el periodo de evaluación"
   ]
  },
  {
   "cell_type": "code",
   "execution_count": 6,
   "metadata": {},
   "outputs": [
    {
     "data": {
      "text/html": [
       "<div>\n",
       "<style scoped>\n",
       "    .dataframe tbody tr th:only-of-type {\n",
       "        vertical-align: middle;\n",
       "    }\n",
       "\n",
       "    .dataframe tbody tr th {\n",
       "        vertical-align: top;\n",
       "    }\n",
       "\n",
       "    .dataframe thead th {\n",
       "        text-align: right;\n",
       "    }\n",
       "</style>\n",
       "<table border=\"1\" class=\"dataframe\">\n",
       "  <thead>\n",
       "    <tr style=\"text-align: right;\">\n",
       "      <th></th>\n",
       "      <th>SAN</th>\n",
       "      <th>FER</th>\n",
       "      <th>ACS</th>\n",
       "      <th>ITX</th>\n",
       "      <th>BBVA</th>\n",
       "      <th>IBE</th>\n",
       "      <th>REP</th>\n",
       "      <th>GRF</th>\n",
       "      <th>TEF</th>\n",
       "    </tr>\n",
       "  </thead>\n",
       "  <tbody>\n",
       "    <tr>\n",
       "      <th>2010-01-04</th>\n",
       "      <td>5.665913</td>\n",
       "      <td>4.830823</td>\n",
       "      <td>19.599646</td>\n",
       "      <td>7.094121</td>\n",
       "      <td>6.763884</td>\n",
       "      <td>3.695395</td>\n",
       "      <td>8.393345</td>\n",
       "      <td>4.829916</td>\n",
       "      <td>10.444406</td>\n",
       "    </tr>\n",
       "    <tr>\n",
       "      <th>2010-01-05</th>\n",
       "      <td>5.728703</td>\n",
       "      <td>4.894763</td>\n",
       "      <td>19.944224</td>\n",
       "      <td>7.047400</td>\n",
       "      <td>6.810948</td>\n",
       "      <td>3.699710</td>\n",
       "      <td>8.417832</td>\n",
       "      <td>4.764089</td>\n",
       "      <td>10.428564</td>\n",
       "    </tr>\n",
       "    <tr>\n",
       "      <th>2010-01-06</th>\n",
       "      <td>5.769572</td>\n",
       "      <td>5.056533</td>\n",
       "      <td>19.985099</td>\n",
       "      <td>7.050594</td>\n",
       "      <td>6.837040</td>\n",
       "      <td>3.694835</td>\n",
       "      <td>8.379870</td>\n",
       "      <td>4.738822</td>\n",
       "      <td>10.352160</td>\n",
       "    </tr>\n",
       "    <tr>\n",
       "      <th>2010-01-07</th>\n",
       "      <td>5.743318</td>\n",
       "      <td>5.030070</td>\n",
       "      <td>19.785465</td>\n",
       "      <td>6.947297</td>\n",
       "      <td>6.805664</td>\n",
       "      <td>3.671260</td>\n",
       "      <td>8.384384</td>\n",
       "      <td>4.697976</td>\n",
       "      <td>10.249353</td>\n",
       "    </tr>\n",
       "    <tr>\n",
       "      <th>2010-01-08</th>\n",
       "      <td>5.762265</td>\n",
       "      <td>5.046118</td>\n",
       "      <td>20.217352</td>\n",
       "      <td>6.971478</td>\n",
       "      <td>6.857930</td>\n",
       "      <td>3.667345</td>\n",
       "      <td>8.375356</td>\n",
       "      <td>4.628159</td>\n",
       "      <td>10.070059</td>\n",
       "    </tr>\n",
       "    <tr>\n",
       "      <th>...</th>\n",
       "      <td>...</td>\n",
       "      <td>...</td>\n",
       "      <td>...</td>\n",
       "      <td>...</td>\n",
       "      <td>...</td>\n",
       "      <td>...</td>\n",
       "      <td>...</td>\n",
       "      <td>...</td>\n",
       "      <td>...</td>\n",
       "    </tr>\n",
       "    <tr>\n",
       "      <th>2020-08-17</th>\n",
       "      <td>1.890800</td>\n",
       "      <td>22.610000</td>\n",
       "      <td>21.160000</td>\n",
       "      <td>23.700000</td>\n",
       "      <td>2.515000</td>\n",
       "      <td>10.925000</td>\n",
       "      <td>6.842000</td>\n",
       "      <td>24.720000</td>\n",
       "      <td>3.580000</td>\n",
       "    </tr>\n",
       "    <tr>\n",
       "      <th>2020-08-18</th>\n",
       "      <td>1.877000</td>\n",
       "      <td>22.830000</td>\n",
       "      <td>21.150000</td>\n",
       "      <td>23.290000</td>\n",
       "      <td>2.478000</td>\n",
       "      <td>10.805000</td>\n",
       "      <td>6.756000</td>\n",
       "      <td>24.320000</td>\n",
       "      <td>3.525000</td>\n",
       "    </tr>\n",
       "    <tr>\n",
       "      <th>2020-08-19</th>\n",
       "      <td>1.934200</td>\n",
       "      <td>23.130000</td>\n",
       "      <td>21.710000</td>\n",
       "      <td>23.270000</td>\n",
       "      <td>2.553000</td>\n",
       "      <td>10.825000</td>\n",
       "      <td>6.820000</td>\n",
       "      <td>23.700000</td>\n",
       "      <td>3.610000</td>\n",
       "    </tr>\n",
       "    <tr>\n",
       "      <th>2020-08-20</th>\n",
       "      <td>1.853800</td>\n",
       "      <td>22.750000</td>\n",
       "      <td>21.340000</td>\n",
       "      <td>22.950000</td>\n",
       "      <td>2.464000</td>\n",
       "      <td>10.795000</td>\n",
       "      <td>6.692000</td>\n",
       "      <td>23.580000</td>\n",
       "      <td>3.512000</td>\n",
       "    </tr>\n",
       "    <tr>\n",
       "      <th>2020-08-21</th>\n",
       "      <td>1.827200</td>\n",
       "      <td>22.780000</td>\n",
       "      <td>21.600000</td>\n",
       "      <td>23.170000</td>\n",
       "      <td>2.426000</td>\n",
       "      <td>10.815000</td>\n",
       "      <td>6.616000</td>\n",
       "      <td>23.290000</td>\n",
       "      <td>3.482000</td>\n",
       "    </tr>\n",
       "  </tbody>\n",
       "</table>\n",
       "<p>2721 rows × 9 columns</p>\n",
       "</div>"
      ],
      "text/plain": [
       "                 SAN        FER        ACS        ITX      BBVA        IBE  \\\n",
       "2010-01-04  5.665913   4.830823  19.599646   7.094121  6.763884   3.695395   \n",
       "2010-01-05  5.728703   4.894763  19.944224   7.047400  6.810948   3.699710   \n",
       "2010-01-06  5.769572   5.056533  19.985099   7.050594  6.837040   3.694835   \n",
       "2010-01-07  5.743318   5.030070  19.785465   6.947297  6.805664   3.671260   \n",
       "2010-01-08  5.762265   5.046118  20.217352   6.971478  6.857930   3.667345   \n",
       "...              ...        ...        ...        ...       ...        ...   \n",
       "2020-08-17  1.890800  22.610000  21.160000  23.700000  2.515000  10.925000   \n",
       "2020-08-18  1.877000  22.830000  21.150000  23.290000  2.478000  10.805000   \n",
       "2020-08-19  1.934200  23.130000  21.710000  23.270000  2.553000  10.825000   \n",
       "2020-08-20  1.853800  22.750000  21.340000  22.950000  2.464000  10.795000   \n",
       "2020-08-21  1.827200  22.780000  21.600000  23.170000  2.426000  10.815000   \n",
       "\n",
       "                 REP        GRF        TEF  \n",
       "2010-01-04  8.393345   4.829916  10.444406  \n",
       "2010-01-05  8.417832   4.764089  10.428564  \n",
       "2010-01-06  8.379870   4.738822  10.352160  \n",
       "2010-01-07  8.384384   4.697976  10.249353  \n",
       "2010-01-08  8.375356   4.628159  10.070059  \n",
       "...              ...        ...        ...  \n",
       "2020-08-17  6.842000  24.720000   3.580000  \n",
       "2020-08-18  6.756000  24.320000   3.525000  \n",
       "2020-08-19  6.820000  23.700000   3.610000  \n",
       "2020-08-20  6.692000  23.580000   3.512000  \n",
       "2020-08-21  6.616000  23.290000   3.482000  \n",
       "\n",
       "[2721 rows x 9 columns]"
      ]
     },
     "execution_count": 6,
     "metadata": {},
     "output_type": "execute_result"
    }
   ],
   "source": [
    "stock_df.dropna(axis=1, how='all', inplace=True)\n",
    "stock_df"
   ]
  },
  {
   "cell_type": "markdown",
   "metadata": {},
   "source": [
    "También usaremos el **benchmark**, la  serie del ibex con dividendos"
   ]
  },
  {
   "cell_type": "code",
   "execution_count": 7,
   "metadata": {},
   "outputs": [],
   "source": [
    "with open('../data/benchmark.pkl', 'rb') as handle:\n",
    "    benchmarks = pickle.load(handle)"
   ]
  },
  {
   "cell_type": "code",
   "execution_count": 8,
   "metadata": {},
   "outputs": [
    {
     "data": {
      "text/plain": [
       "dict_keys(['ibex', 'ibex_div'])"
      ]
     },
     "execution_count": 8,
     "metadata": {},
     "output_type": "execute_result"
    }
   ],
   "source": [
    "benchmarks.keys()"
   ]
  },
  {
   "cell_type": "code",
   "execution_count": 9,
   "metadata": {},
   "outputs": [
    {
     "data": {
      "text/plain": [
       "<matplotlib.axes._subplots.AxesSubplot at 0x26577b70550>"
      ]
     },
     "execution_count": 9,
     "metadata": {},
     "output_type": "execute_result"
    },
    {
     "data": {
      "image/png": "[encoded data removed]",
      "text/plain": [
       "<Figure size 432x288 with 1 Axes>"
      ]
     },
     "metadata": {
      "needs_background": "light"
     },
     "output_type": "display_data"
    }
   ],
   "source": [
    "benchmark = benchmarks['ibex_div'].close.loc['2010':]\n",
    "benchmark.plot()"
   ]
  },
  {
   "cell_type": "markdown",
   "metadata": {},
   "source": [
    "____\n",
    "### Estrategia Media Móvil\n",
    "Implementamos una estrategia de buscar las tendencias alcistas cuando\n",
    "el precio esté por encima de la media móvil. La idea es tener una estrategia\n",
    "sencilla independiente por cada acción"
   ]
  },
  {
   "cell_type": "code",
   "execution_count": 10,
   "metadata": {},
   "outputs": [],
   "source": [
    "def movaverage_states(vseries, win):\n",
    "    sma = vseries.rolling(win).mean()\n",
    "    signal_states = (vseries > sma).astype(float)\n",
    "    trading_states = signal_states.shift(1)\n",
    "    trading_states.iloc[0] = 0\n",
    "    return trading_states"
   ]
  },
  {
   "cell_type": "code",
   "execution_count": 11,
   "metadata": {},
   "outputs": [],
   "source": [
    "def plot_sma_states(vseries, win):\n",
    "    sma = vseries.rolling(win).mean()\n",
    "    states = movaverage_states(vseries, win)\n",
    "  \n",
    "    fig, ax = plt.subplots(figsize=(20,4))\n",
    "    vseries.plot(ax=ax)\n",
    "    sma.plot(ax=ax)\n",
    "\n",
    "    for i, idx in enumerate(states.index[:-1]):\n",
    "        if states.loc[idx] == 1:\n",
    "            ax.axvspan(idx, states.index[i+1], facecolor='g', alpha=0.2)"
   ]
  },
  {
   "cell_type": "code",
   "execution_count": 12,
   "metadata": {},
   "outputs": [
    {
     "data": {
      "image/png": "[encoded data removed]",
      "text/plain": [
       "<Figure size 1440x288 with 1 Axes>"
      ]
     },
     "metadata": {
      "needs_background": "light"
     },
     "output_type": "display_data"
    }
   ],
   "source": [
    "plot_sma_states(stock_df['ITX'].iloc[:-500], 30)"
   ]
  },
  {
   "cell_type": "code",
   "execution_count": 13,
   "metadata": {},
   "outputs": [],
   "source": [
    "def state_return_serie(price, states):\n",
    "    \"\"\" \n",
    "    \"\"\"\n",
    "    real_serie = price.dropna()\n",
    "    ret = real_serie.pct_change()\n",
    "    ret.iloc[0] = 0\n",
    "    ret_series = ret * states\n",
    "    return ret_series\n",
    "    "
   ]
  },
  {
   "cell_type": "markdown",
   "metadata": {},
   "source": [
    "___"
   ]
  },
  {
   "cell_type": "code",
   "execution_count": 14,
   "metadata": {},
   "outputs": [
    {
     "data": {
      "text/html": [
       "<div>\n",
       "<style scoped>\n",
       "    .dataframe tbody tr th:only-of-type {\n",
       "        vertical-align: middle;\n",
       "    }\n",
       "\n",
       "    .dataframe tbody tr th {\n",
       "        vertical-align: top;\n",
       "    }\n",
       "\n",
       "    .dataframe thead th {\n",
       "        text-align: right;\n",
       "    }\n",
       "</style>\n",
       "<table border=\"1\" class=\"dataframe\">\n",
       "  <thead>\n",
       "    <tr style=\"text-align: right;\">\n",
       "      <th></th>\n",
       "      <th>SAN</th>\n",
       "      <th>FER</th>\n",
       "      <th>ACS</th>\n",
       "      <th>ITX</th>\n",
       "      <th>BBVA</th>\n",
       "      <th>IBE</th>\n",
       "      <th>REP</th>\n",
       "      <th>GRF</th>\n",
       "      <th>TEF</th>\n",
       "    </tr>\n",
       "  </thead>\n",
       "  <tbody>\n",
       "    <tr>\n",
       "      <th>2010-01-04</th>\n",
       "      <td>0.0</td>\n",
       "      <td>0.0</td>\n",
       "      <td>0.0</td>\n",
       "      <td>0.0</td>\n",
       "      <td>0.0</td>\n",
       "      <td>0.0</td>\n",
       "      <td>0.0</td>\n",
       "      <td>0.0</td>\n",
       "      <td>0.0</td>\n",
       "    </tr>\n",
       "    <tr>\n",
       "      <th>2010-01-05</th>\n",
       "      <td>0.0</td>\n",
       "      <td>0.0</td>\n",
       "      <td>0.0</td>\n",
       "      <td>0.0</td>\n",
       "      <td>0.0</td>\n",
       "      <td>0.0</td>\n",
       "      <td>0.0</td>\n",
       "      <td>0.0</td>\n",
       "      <td>0.0</td>\n",
       "    </tr>\n",
       "    <tr>\n",
       "      <th>2010-01-06</th>\n",
       "      <td>0.0</td>\n",
       "      <td>0.0</td>\n",
       "      <td>0.0</td>\n",
       "      <td>0.0</td>\n",
       "      <td>0.0</td>\n",
       "      <td>0.0</td>\n",
       "      <td>0.0</td>\n",
       "      <td>0.0</td>\n",
       "      <td>0.0</td>\n",
       "    </tr>\n",
       "    <tr>\n",
       "      <th>2010-01-07</th>\n",
       "      <td>0.0</td>\n",
       "      <td>0.0</td>\n",
       "      <td>0.0</td>\n",
       "      <td>0.0</td>\n",
       "      <td>0.0</td>\n",
       "      <td>0.0</td>\n",
       "      <td>0.0</td>\n",
       "      <td>0.0</td>\n",
       "      <td>0.0</td>\n",
       "    </tr>\n",
       "    <tr>\n",
       "      <th>2010-01-08</th>\n",
       "      <td>0.0</td>\n",
       "      <td>0.0</td>\n",
       "      <td>0.0</td>\n",
       "      <td>0.0</td>\n",
       "      <td>0.0</td>\n",
       "      <td>0.0</td>\n",
       "      <td>0.0</td>\n",
       "      <td>0.0</td>\n",
       "      <td>0.0</td>\n",
       "    </tr>\n",
       "    <tr>\n",
       "      <th>...</th>\n",
       "      <td>...</td>\n",
       "      <td>...</td>\n",
       "      <td>...</td>\n",
       "      <td>...</td>\n",
       "      <td>...</td>\n",
       "      <td>...</td>\n",
       "      <td>...</td>\n",
       "      <td>...</td>\n",
       "      <td>...</td>\n",
       "    </tr>\n",
       "    <tr>\n",
       "      <th>2020-08-17</th>\n",
       "      <td>0.0</td>\n",
       "      <td>0.0</td>\n",
       "      <td>0.0</td>\n",
       "      <td>0.0</td>\n",
       "      <td>0.0</td>\n",
       "      <td>1.0</td>\n",
       "      <td>0.0</td>\n",
       "      <td>0.0</td>\n",
       "      <td>0.0</td>\n",
       "    </tr>\n",
       "    <tr>\n",
       "      <th>2020-08-18</th>\n",
       "      <td>0.0</td>\n",
       "      <td>0.0</td>\n",
       "      <td>0.0</td>\n",
       "      <td>1.0</td>\n",
       "      <td>0.0</td>\n",
       "      <td>1.0</td>\n",
       "      <td>0.0</td>\n",
       "      <td>0.0</td>\n",
       "      <td>0.0</td>\n",
       "    </tr>\n",
       "    <tr>\n",
       "      <th>2020-08-19</th>\n",
       "      <td>0.0</td>\n",
       "      <td>0.0</td>\n",
       "      <td>0.0</td>\n",
       "      <td>0.0</td>\n",
       "      <td>0.0</td>\n",
       "      <td>1.0</td>\n",
       "      <td>0.0</td>\n",
       "      <td>0.0</td>\n",
       "      <td>0.0</td>\n",
       "    </tr>\n",
       "    <tr>\n",
       "      <th>2020-08-20</th>\n",
       "      <td>0.0</td>\n",
       "      <td>0.0</td>\n",
       "      <td>0.0</td>\n",
       "      <td>0.0</td>\n",
       "      <td>0.0</td>\n",
       "      <td>1.0</td>\n",
       "      <td>0.0</td>\n",
       "      <td>0.0</td>\n",
       "      <td>0.0</td>\n",
       "    </tr>\n",
       "    <tr>\n",
       "      <th>2020-08-21</th>\n",
       "      <td>0.0</td>\n",
       "      <td>0.0</td>\n",
       "      <td>0.0</td>\n",
       "      <td>0.0</td>\n",
       "      <td>0.0</td>\n",
       "      <td>1.0</td>\n",
       "      <td>0.0</td>\n",
       "      <td>0.0</td>\n",
       "      <td>0.0</td>\n",
       "    </tr>\n",
       "  </tbody>\n",
       "</table>\n",
       "<p>2721 rows × 9 columns</p>\n",
       "</div>"
      ],
      "text/plain": [
       "            SAN  FER  ACS  ITX  BBVA  IBE  REP  GRF  TEF\n",
       "2010-01-04  0.0  0.0  0.0  0.0   0.0  0.0  0.0  0.0  0.0\n",
       "2010-01-05  0.0  0.0  0.0  0.0   0.0  0.0  0.0  0.0  0.0\n",
       "2010-01-06  0.0  0.0  0.0  0.0   0.0  0.0  0.0  0.0  0.0\n",
       "2010-01-07  0.0  0.0  0.0  0.0   0.0  0.0  0.0  0.0  0.0\n",
       "2010-01-08  0.0  0.0  0.0  0.0   0.0  0.0  0.0  0.0  0.0\n",
       "...         ...  ...  ...  ...   ...  ...  ...  ...  ...\n",
       "2020-08-17  0.0  0.0  0.0  0.0   0.0  1.0  0.0  0.0  0.0\n",
       "2020-08-18  0.0  0.0  0.0  1.0   0.0  1.0  0.0  0.0  0.0\n",
       "2020-08-19  0.0  0.0  0.0  0.0   0.0  1.0  0.0  0.0  0.0\n",
       "2020-08-20  0.0  0.0  0.0  0.0   0.0  1.0  0.0  0.0  0.0\n",
       "2020-08-21  0.0  0.0  0.0  0.0   0.0  1.0  0.0  0.0  0.0\n",
       "\n",
       "[2721 rows x 9 columns]"
      ]
     },
     "execution_count": 14,
     "metadata": {},
     "output_type": "execute_result"
    }
   ],
   "source": [
    "stock_states = stock_df.apply(movaverage_states, win=50)\n",
    "stock_states"
   ]
  },
  {
   "cell_type": "code",
   "execution_count": 15,
   "metadata": {},
   "outputs": [
    {
     "data": {
      "text/plain": [
       "2010-01-04    0.0\n",
       "2010-01-05    0.0\n",
       "2010-01-06    0.0\n",
       "2010-01-07   -0.0\n",
       "2010-01-08    0.0\n",
       "             ... \n",
       "2020-08-17    0.0\n",
       "2020-08-18    0.0\n",
       "2020-08-19    0.0\n",
       "2020-08-20   -0.0\n",
       "2020-08-21    0.0\n",
       "Name: FER, Length: 2721, dtype: float64"
      ]
     },
     "execution_count": 15,
     "metadata": {},
     "output_type": "execute_result"
    }
   ],
   "source": [
    "example_returns = state_return_serie(stock_df['FER'], stock_states['FER'])\n",
    "example_returns"
   ]
  },
  {
   "cell_type": "markdown",
   "metadata": {},
   "source": [
    "solo tenemos fluctuación de retorno cuando estamos invertidos"
   ]
  },
  {
   "cell_type": "code",
   "execution_count": 16,
   "metadata": {},
   "outputs": [
    {
     "data": {
      "text/plain": [
       "<matplotlib.axes._subplots.AxesSubplot at 0x2657990ef40>"
      ]
     },
     "execution_count": 16,
     "metadata": {},
     "output_type": "execute_result"
    },
    {
     "data": {
      "image/png": "[encoded data removed]",
      "text/plain": [
       "<Figure size 432x288 with 1 Axes>"
      ]
     },
     "metadata": {
      "needs_background": "light"
     },
     "output_type": "display_data"
    }
   ],
   "source": [
    "example_returns.plot()"
   ]
  },
  {
   "cell_type": "markdown",
   "metadata": {},
   "source": [
    "____\n",
    "Calculamos la serie de rendimientos a partir de los estados, para todas las acciones"
   ]
  },
  {
   "cell_type": "code",
   "execution_count": 17,
   "metadata": {},
   "outputs": [
    {
     "data": {
      "text/html": [
       "<div>\n",
       "<style scoped>\n",
       "    .dataframe tbody tr th:only-of-type {\n",
       "        vertical-align: middle;\n",
       "    }\n",
       "\n",
       "    .dataframe tbody tr th {\n",
       "        vertical-align: top;\n",
       "    }\n",
       "\n",
       "    .dataframe thead th {\n",
       "        text-align: right;\n",
       "    }\n",
       "</style>\n",
       "<table border=\"1\" class=\"dataframe\">\n",
       "  <thead>\n",
       "    <tr style=\"text-align: right;\">\n",
       "      <th></th>\n",
       "      <th>SAN</th>\n",
       "      <th>FER</th>\n",
       "      <th>ACS</th>\n",
       "      <th>ITX</th>\n",
       "      <th>BBVA</th>\n",
       "      <th>IBE</th>\n",
       "      <th>REP</th>\n",
       "      <th>GRF</th>\n",
       "      <th>TEF</th>\n",
       "    </tr>\n",
       "  </thead>\n",
       "  <tbody>\n",
       "    <tr>\n",
       "      <th>2010-01-04</th>\n",
       "      <td>0.0</td>\n",
       "      <td>0.0</td>\n",
       "      <td>0.0</td>\n",
       "      <td>0.0000</td>\n",
       "      <td>0.0</td>\n",
       "      <td>0.000000</td>\n",
       "      <td>0.0</td>\n",
       "      <td>0.0</td>\n",
       "      <td>0.0</td>\n",
       "    </tr>\n",
       "    <tr>\n",
       "      <th>2010-01-05</th>\n",
       "      <td>0.0</td>\n",
       "      <td>0.0</td>\n",
       "      <td>0.0</td>\n",
       "      <td>-0.0000</td>\n",
       "      <td>0.0</td>\n",
       "      <td>0.000000</td>\n",
       "      <td>0.0</td>\n",
       "      <td>-0.0</td>\n",
       "      <td>-0.0</td>\n",
       "    </tr>\n",
       "    <tr>\n",
       "      <th>2010-01-06</th>\n",
       "      <td>0.0</td>\n",
       "      <td>0.0</td>\n",
       "      <td>0.0</td>\n",
       "      <td>0.0000</td>\n",
       "      <td>0.0</td>\n",
       "      <td>-0.000000</td>\n",
       "      <td>-0.0</td>\n",
       "      <td>-0.0</td>\n",
       "      <td>-0.0</td>\n",
       "    </tr>\n",
       "    <tr>\n",
       "      <th>2010-01-07</th>\n",
       "      <td>-0.0</td>\n",
       "      <td>-0.0</td>\n",
       "      <td>-0.0</td>\n",
       "      <td>-0.0000</td>\n",
       "      <td>-0.0</td>\n",
       "      <td>-0.000000</td>\n",
       "      <td>0.0</td>\n",
       "      <td>-0.0</td>\n",
       "      <td>-0.0</td>\n",
       "    </tr>\n",
       "    <tr>\n",
       "      <th>2010-01-08</th>\n",
       "      <td>0.0</td>\n",
       "      <td>0.0</td>\n",
       "      <td>0.0</td>\n",
       "      <td>0.0000</td>\n",
       "      <td>0.0</td>\n",
       "      <td>-0.000000</td>\n",
       "      <td>-0.0</td>\n",
       "      <td>-0.0</td>\n",
       "      <td>-0.0</td>\n",
       "    </tr>\n",
       "    <tr>\n",
       "      <th>...</th>\n",
       "      <td>...</td>\n",
       "      <td>...</td>\n",
       "      <td>...</td>\n",
       "      <td>...</td>\n",
       "      <td>...</td>\n",
       "      <td>...</td>\n",
       "      <td>...</td>\n",
       "      <td>...</td>\n",
       "      <td>...</td>\n",
       "    </tr>\n",
       "    <tr>\n",
       "      <th>2020-08-17</th>\n",
       "      <td>-0.0</td>\n",
       "      <td>0.0</td>\n",
       "      <td>-0.0</td>\n",
       "      <td>0.0000</td>\n",
       "      <td>-0.0</td>\n",
       "      <td>-0.004102</td>\n",
       "      <td>-0.0</td>\n",
       "      <td>0.0</td>\n",
       "      <td>-0.0</td>\n",
       "    </tr>\n",
       "    <tr>\n",
       "      <th>2020-08-18</th>\n",
       "      <td>-0.0</td>\n",
       "      <td>0.0</td>\n",
       "      <td>-0.0</td>\n",
       "      <td>-0.0173</td>\n",
       "      <td>-0.0</td>\n",
       "      <td>-0.010984</td>\n",
       "      <td>-0.0</td>\n",
       "      <td>-0.0</td>\n",
       "      <td>-0.0</td>\n",
       "    </tr>\n",
       "    <tr>\n",
       "      <th>2020-08-19</th>\n",
       "      <td>0.0</td>\n",
       "      <td>0.0</td>\n",
       "      <td>0.0</td>\n",
       "      <td>-0.0000</td>\n",
       "      <td>0.0</td>\n",
       "      <td>0.001851</td>\n",
       "      <td>0.0</td>\n",
       "      <td>-0.0</td>\n",
       "      <td>0.0</td>\n",
       "    </tr>\n",
       "    <tr>\n",
       "      <th>2020-08-20</th>\n",
       "      <td>-0.0</td>\n",
       "      <td>-0.0</td>\n",
       "      <td>-0.0</td>\n",
       "      <td>-0.0000</td>\n",
       "      <td>-0.0</td>\n",
       "      <td>-0.002771</td>\n",
       "      <td>-0.0</td>\n",
       "      <td>-0.0</td>\n",
       "      <td>-0.0</td>\n",
       "    </tr>\n",
       "    <tr>\n",
       "      <th>2020-08-21</th>\n",
       "      <td>-0.0</td>\n",
       "      <td>0.0</td>\n",
       "      <td>0.0</td>\n",
       "      <td>0.0000</td>\n",
       "      <td>-0.0</td>\n",
       "      <td>0.001853</td>\n",
       "      <td>-0.0</td>\n",
       "      <td>-0.0</td>\n",
       "      <td>-0.0</td>\n",
       "    </tr>\n",
       "  </tbody>\n",
       "</table>\n",
       "<p>2721 rows × 9 columns</p>\n",
       "</div>"
      ],
      "text/plain": [
       "            SAN  FER  ACS     ITX  BBVA       IBE  REP  GRF  TEF\n",
       "2010-01-04  0.0  0.0  0.0  0.0000   0.0  0.000000  0.0  0.0  0.0\n",
       "2010-01-05  0.0  0.0  0.0 -0.0000   0.0  0.000000  0.0 -0.0 -0.0\n",
       "2010-01-06  0.0  0.0  0.0  0.0000   0.0 -0.000000 -0.0 -0.0 -0.0\n",
       "2010-01-07 -0.0 -0.0 -0.0 -0.0000  -0.0 -0.000000  0.0 -0.0 -0.0\n",
       "2010-01-08  0.0  0.0  0.0  0.0000   0.0 -0.000000 -0.0 -0.0 -0.0\n",
       "...         ...  ...  ...     ...   ...       ...  ...  ...  ...\n",
       "2020-08-17 -0.0  0.0 -0.0  0.0000  -0.0 -0.004102 -0.0  0.0 -0.0\n",
       "2020-08-18 -0.0  0.0 -0.0 -0.0173  -0.0 -0.010984 -0.0 -0.0 -0.0\n",
       "2020-08-19  0.0  0.0  0.0 -0.0000   0.0  0.001851  0.0 -0.0  0.0\n",
       "2020-08-20 -0.0 -0.0 -0.0 -0.0000  -0.0 -0.002771 -0.0 -0.0 -0.0\n",
       "2020-08-21 -0.0  0.0  0.0  0.0000  -0.0  0.001853 -0.0 -0.0 -0.0\n",
       "\n",
       "[2721 rows x 9 columns]"
      ]
     },
     "execution_count": 17,
     "metadata": {},
     "output_type": "execute_result"
    }
   ],
   "source": [
    "sma_returns = [state_return_serie(stock_df[tk], stock_states[tk]) for tk in stock_df.columns]\n",
    "sma_returns_df = pd.concat(sma_returns, axis=1)\n",
    "sma_returns_df"
   ]
  },
  {
   "cell_type": "code",
   "execution_count": 18,
   "metadata": {},
   "outputs": [
    {
     "data": {
      "text/html": [
       "<div>\n",
       "<style scoped>\n",
       "    .dataframe tbody tr th:only-of-type {\n",
       "        vertical-align: middle;\n",
       "    }\n",
       "\n",
       "    .dataframe tbody tr th {\n",
       "        vertical-align: top;\n",
       "    }\n",
       "\n",
       "    .dataframe thead th {\n",
       "        text-align: right;\n",
       "    }\n",
       "</style>\n",
       "<table border=\"1\" class=\"dataframe\">\n",
       "  <thead>\n",
       "    <tr style=\"text-align: right;\">\n",
       "      <th></th>\n",
       "      <th>SAN</th>\n",
       "      <th>FER</th>\n",
       "      <th>ACS</th>\n",
       "      <th>ITX</th>\n",
       "      <th>BBVA</th>\n",
       "      <th>IBE</th>\n",
       "      <th>REP</th>\n",
       "      <th>GRF</th>\n",
       "      <th>TEF</th>\n",
       "    </tr>\n",
       "  </thead>\n",
       "  <tbody>\n",
       "    <tr>\n",
       "      <th>2010-01-04</th>\n",
       "      <td>1.000000</td>\n",
       "      <td>1.000000</td>\n",
       "      <td>1.000000</td>\n",
       "      <td>1.000000</td>\n",
       "      <td>1.000000</td>\n",
       "      <td>1.000000</td>\n",
       "      <td>1.000000</td>\n",
       "      <td>1.000000</td>\n",
       "      <td>1.000000</td>\n",
       "    </tr>\n",
       "    <tr>\n",
       "      <th>2010-01-05</th>\n",
       "      <td>1.000000</td>\n",
       "      <td>1.000000</td>\n",
       "      <td>1.000000</td>\n",
       "      <td>1.000000</td>\n",
       "      <td>1.000000</td>\n",
       "      <td>1.000000</td>\n",
       "      <td>1.000000</td>\n",
       "      <td>1.000000</td>\n",
       "      <td>1.000000</td>\n",
       "    </tr>\n",
       "    <tr>\n",
       "      <th>2010-01-06</th>\n",
       "      <td>1.000000</td>\n",
       "      <td>1.000000</td>\n",
       "      <td>1.000000</td>\n",
       "      <td>1.000000</td>\n",
       "      <td>1.000000</td>\n",
       "      <td>1.000000</td>\n",
       "      <td>1.000000</td>\n",
       "      <td>1.000000</td>\n",
       "      <td>1.000000</td>\n",
       "    </tr>\n",
       "    <tr>\n",
       "      <th>2010-01-07</th>\n",
       "      <td>1.000000</td>\n",
       "      <td>1.000000</td>\n",
       "      <td>1.000000</td>\n",
       "      <td>1.000000</td>\n",
       "      <td>1.000000</td>\n",
       "      <td>1.000000</td>\n",
       "      <td>1.000000</td>\n",
       "      <td>1.000000</td>\n",
       "      <td>1.000000</td>\n",
       "    </tr>\n",
       "    <tr>\n",
       "      <th>2010-01-08</th>\n",
       "      <td>1.000000</td>\n",
       "      <td>1.000000</td>\n",
       "      <td>1.000000</td>\n",
       "      <td>1.000000</td>\n",
       "      <td>1.000000</td>\n",
       "      <td>1.000000</td>\n",
       "      <td>1.000000</td>\n",
       "      <td>1.000000</td>\n",
       "      <td>1.000000</td>\n",
       "    </tr>\n",
       "    <tr>\n",
       "      <th>...</th>\n",
       "      <td>...</td>\n",
       "      <td>...</td>\n",
       "      <td>...</td>\n",
       "      <td>...</td>\n",
       "      <td>...</td>\n",
       "      <td>...</td>\n",
       "      <td>...</td>\n",
       "      <td>...</td>\n",
       "      <td>...</td>\n",
       "    </tr>\n",
       "    <tr>\n",
       "      <th>2020-08-17</th>\n",
       "      <td>0.269925</td>\n",
       "      <td>2.184602</td>\n",
       "      <td>1.243932</td>\n",
       "      <td>1.211504</td>\n",
       "      <td>0.639316</td>\n",
       "      <td>1.812798</td>\n",
       "      <td>0.856513</td>\n",
       "      <td>2.639011</td>\n",
       "      <td>0.507792</td>\n",
       "    </tr>\n",
       "    <tr>\n",
       "      <th>2020-08-18</th>\n",
       "      <td>0.269925</td>\n",
       "      <td>2.184602</td>\n",
       "      <td>1.243932</td>\n",
       "      <td>1.190545</td>\n",
       "      <td>0.639316</td>\n",
       "      <td>1.792886</td>\n",
       "      <td>0.856513</td>\n",
       "      <td>2.639011</td>\n",
       "      <td>0.507792</td>\n",
       "    </tr>\n",
       "    <tr>\n",
       "      <th>2020-08-19</th>\n",
       "      <td>0.269925</td>\n",
       "      <td>2.184602</td>\n",
       "      <td>1.243932</td>\n",
       "      <td>1.190545</td>\n",
       "      <td>0.639316</td>\n",
       "      <td>1.796205</td>\n",
       "      <td>0.856513</td>\n",
       "      <td>2.639011</td>\n",
       "      <td>0.507792</td>\n",
       "    </tr>\n",
       "    <tr>\n",
       "      <th>2020-08-20</th>\n",
       "      <td>0.269925</td>\n",
       "      <td>2.184602</td>\n",
       "      <td>1.243932</td>\n",
       "      <td>1.190545</td>\n",
       "      <td>0.639316</td>\n",
       "      <td>1.791227</td>\n",
       "      <td>0.856513</td>\n",
       "      <td>2.639011</td>\n",
       "      <td>0.507792</td>\n",
       "    </tr>\n",
       "    <tr>\n",
       "      <th>2020-08-21</th>\n",
       "      <td>0.269925</td>\n",
       "      <td>2.184602</td>\n",
       "      <td>1.243932</td>\n",
       "      <td>1.190545</td>\n",
       "      <td>0.639316</td>\n",
       "      <td>1.794546</td>\n",
       "      <td>0.856513</td>\n",
       "      <td>2.639011</td>\n",
       "      <td>0.507792</td>\n",
       "    </tr>\n",
       "  </tbody>\n",
       "</table>\n",
       "<p>2721 rows × 9 columns</p>\n",
       "</div>"
      ],
      "text/plain": [
       "                 SAN       FER       ACS       ITX      BBVA       IBE  \\\n",
       "2010-01-04  1.000000  1.000000  1.000000  1.000000  1.000000  1.000000   \n",
       "2010-01-05  1.000000  1.000000  1.000000  1.000000  1.000000  1.000000   \n",
       "2010-01-06  1.000000  1.000000  1.000000  1.000000  1.000000  1.000000   \n",
       "2010-01-07  1.000000  1.000000  1.000000  1.000000  1.000000  1.000000   \n",
       "2010-01-08  1.000000  1.000000  1.000000  1.000000  1.000000  1.000000   \n",
       "...              ...       ...       ...       ...       ...       ...   \n",
       "2020-08-17  0.269925  2.184602  1.243932  1.211504  0.639316  1.812798   \n",
       "2020-08-18  0.269925  2.184602  1.243932  1.190545  0.639316  1.792886   \n",
       "2020-08-19  0.269925  2.184602  1.243932  1.190545  0.639316  1.796205   \n",
       "2020-08-20  0.269925  2.184602  1.243932  1.190545  0.639316  1.791227   \n",
       "2020-08-21  0.269925  2.184602  1.243932  1.190545  0.639316  1.794546   \n",
       "\n",
       "                 REP       GRF       TEF  \n",
       "2010-01-04  1.000000  1.000000  1.000000  \n",
       "2010-01-05  1.000000  1.000000  1.000000  \n",
       "2010-01-06  1.000000  1.000000  1.000000  \n",
       "2010-01-07  1.000000  1.000000  1.000000  \n",
       "2010-01-08  1.000000  1.000000  1.000000  \n",
       "...              ...       ...       ...  \n",
       "2020-08-17  0.856513  2.639011  0.507792  \n",
       "2020-08-18  0.856513  2.639011  0.507792  \n",
       "2020-08-19  0.856513  2.639011  0.507792  \n",
       "2020-08-20  0.856513  2.639011  0.507792  \n",
       "2020-08-21  0.856513  2.639011  0.507792  \n",
       "\n",
       "[2721 rows x 9 columns]"
      ]
     },
     "execution_count": 18,
     "metadata": {},
     "output_type": "execute_result"
    }
   ],
   "source": [
    "sma_performance = (sma_returns_df + 1).cumprod()\n",
    "sma_performance"
   ]
  },
  {
   "cell_type": "code",
   "execution_count": 19,
   "metadata": {},
   "outputs": [
    {
     "data": {
      "text/plain": [
       "<matplotlib.axes._subplots.AxesSubplot at 0x26579b537c0>"
      ]
     },
     "execution_count": 19,
     "metadata": {},
     "output_type": "execute_result"
    },
    {
     "data": {
      "image/png": "[encoded data removed]",
      "text/plain": [
       "<Figure size 432x288 with 1 Axes>"
      ]
     },
     "metadata": {
      "needs_background": "light"
     },
     "output_type": "display_data"
    }
   ],
   "source": [
    "sma_performance[['IBE','REP','FER']].plot()"
   ]
  },
  {
   "cell_type": "markdown",
   "metadata": {},
   "source": [
    "___"
   ]
  },
  {
   "cell_type": "markdown",
   "metadata": {},
   "source": [
    "### Calculo agregado de rentabilidad\n",
    "Si hacemos esta estrategia equiponderada tendriamos que dividir el resultado\n",
    "entre todos los elementos que se encuentren en el índice ese día "
   ]
  },
  {
   "cell_type": "code",
   "execution_count": 20,
   "metadata": {},
   "outputs": [
    {
     "data": {
      "text/plain": [
       "9"
      ]
     },
     "execution_count": 20,
     "metadata": {},
     "output_type": "execute_result"
    }
   ],
   "source": [
    "sma_performance.iloc[0].dropna().count()"
   ]
  },
  {
   "cell_type": "code",
   "execution_count": 21,
   "metadata": {},
   "outputs": [],
   "source": [
    "def equiperformance(performance_row):\n",
    "    n = performance_row.dropna().count()\n",
    "    return performance_row/n"
   ]
  },
  {
   "cell_type": "code",
   "execution_count": 22,
   "metadata": {},
   "outputs": [
    {
     "data": {
      "text/plain": [
       "SAN     0.111111\n",
       "FER     0.111111\n",
       "ACS     0.111111\n",
       "ITX     0.111111\n",
       "BBVA    0.111111\n",
       "IBE     0.111111\n",
       "REP     0.111111\n",
       "GRF     0.111111\n",
       "TEF     0.111111\n",
       "Name: 2010-01-04 00:00:00, dtype: float64"
      ]
     },
     "execution_count": 22,
     "metadata": {},
     "output_type": "execute_result"
    }
   ],
   "source": [
    "equiperformance(sma_performance.iloc[0])"
   ]
  },
  {
   "cell_type": "code",
   "execution_count": 23,
   "metadata": {},
   "outputs": [
    {
     "data": {
      "text/html": [
       "<div>\n",
       "<style scoped>\n",
       "    .dataframe tbody tr th:only-of-type {\n",
       "        vertical-align: middle;\n",
       "    }\n",
       "\n",
       "    .dataframe tbody tr th {\n",
       "        vertical-align: top;\n",
       "    }\n",
       "\n",
       "    .dataframe thead th {\n",
       "        text-align: right;\n",
       "    }\n",
       "</style>\n",
       "<table border=\"1\" class=\"dataframe\">\n",
       "  <thead>\n",
       "    <tr style=\"text-align: right;\">\n",
       "      <th></th>\n",
       "      <th>SAN</th>\n",
       "      <th>FER</th>\n",
       "      <th>ACS</th>\n",
       "      <th>ITX</th>\n",
       "      <th>BBVA</th>\n",
       "      <th>IBE</th>\n",
       "      <th>REP</th>\n",
       "      <th>GRF</th>\n",
       "      <th>TEF</th>\n",
       "    </tr>\n",
       "  </thead>\n",
       "  <tbody>\n",
       "    <tr>\n",
       "      <th>2010-01-04</th>\n",
       "      <td>0.111111</td>\n",
       "      <td>0.111111</td>\n",
       "      <td>0.111111</td>\n",
       "      <td>0.111111</td>\n",
       "      <td>0.111111</td>\n",
       "      <td>0.111111</td>\n",
       "      <td>0.111111</td>\n",
       "      <td>0.111111</td>\n",
       "      <td>0.111111</td>\n",
       "    </tr>\n",
       "    <tr>\n",
       "      <th>2010-01-05</th>\n",
       "      <td>0.111111</td>\n",
       "      <td>0.111111</td>\n",
       "      <td>0.111111</td>\n",
       "      <td>0.111111</td>\n",
       "      <td>0.111111</td>\n",
       "      <td>0.111111</td>\n",
       "      <td>0.111111</td>\n",
       "      <td>0.111111</td>\n",
       "      <td>0.111111</td>\n",
       "    </tr>\n",
       "    <tr>\n",
       "      <th>2010-01-06</th>\n",
       "      <td>0.111111</td>\n",
       "      <td>0.111111</td>\n",
       "      <td>0.111111</td>\n",
       "      <td>0.111111</td>\n",
       "      <td>0.111111</td>\n",
       "      <td>0.111111</td>\n",
       "      <td>0.111111</td>\n",
       "      <td>0.111111</td>\n",
       "      <td>0.111111</td>\n",
       "    </tr>\n",
       "    <tr>\n",
       "      <th>2010-01-07</th>\n",
       "      <td>0.111111</td>\n",
       "      <td>0.111111</td>\n",
       "      <td>0.111111</td>\n",
       "      <td>0.111111</td>\n",
       "      <td>0.111111</td>\n",
       "      <td>0.111111</td>\n",
       "      <td>0.111111</td>\n",
       "      <td>0.111111</td>\n",
       "      <td>0.111111</td>\n",
       "    </tr>\n",
       "    <tr>\n",
       "      <th>2010-01-08</th>\n",
       "      <td>0.111111</td>\n",
       "      <td>0.111111</td>\n",
       "      <td>0.111111</td>\n",
       "      <td>0.111111</td>\n",
       "      <td>0.111111</td>\n",
       "      <td>0.111111</td>\n",
       "      <td>0.111111</td>\n",
       "      <td>0.111111</td>\n",
       "      <td>0.111111</td>\n",
       "    </tr>\n",
       "    <tr>\n",
       "      <th>...</th>\n",
       "      <td>...</td>\n",
       "      <td>...</td>\n",
       "      <td>...</td>\n",
       "      <td>...</td>\n",
       "      <td>...</td>\n",
       "      <td>...</td>\n",
       "      <td>...</td>\n",
       "      <td>...</td>\n",
       "      <td>...</td>\n",
       "    </tr>\n",
       "    <tr>\n",
       "      <th>2020-08-17</th>\n",
       "      <td>0.029992</td>\n",
       "      <td>0.242734</td>\n",
       "      <td>0.138215</td>\n",
       "      <td>0.134612</td>\n",
       "      <td>0.071035</td>\n",
       "      <td>0.201422</td>\n",
       "      <td>0.095168</td>\n",
       "      <td>0.293223</td>\n",
       "      <td>0.056421</td>\n",
       "    </tr>\n",
       "    <tr>\n",
       "      <th>2020-08-18</th>\n",
       "      <td>0.029992</td>\n",
       "      <td>0.242734</td>\n",
       "      <td>0.138215</td>\n",
       "      <td>0.132283</td>\n",
       "      <td>0.071035</td>\n",
       "      <td>0.199210</td>\n",
       "      <td>0.095168</td>\n",
       "      <td>0.293223</td>\n",
       "      <td>0.056421</td>\n",
       "    </tr>\n",
       "    <tr>\n",
       "      <th>2020-08-19</th>\n",
       "      <td>0.029992</td>\n",
       "      <td>0.242734</td>\n",
       "      <td>0.138215</td>\n",
       "      <td>0.132283</td>\n",
       "      <td>0.071035</td>\n",
       "      <td>0.199578</td>\n",
       "      <td>0.095168</td>\n",
       "      <td>0.293223</td>\n",
       "      <td>0.056421</td>\n",
       "    </tr>\n",
       "    <tr>\n",
       "      <th>2020-08-20</th>\n",
       "      <td>0.029992</td>\n",
       "      <td>0.242734</td>\n",
       "      <td>0.138215</td>\n",
       "      <td>0.132283</td>\n",
       "      <td>0.071035</td>\n",
       "      <td>0.199025</td>\n",
       "      <td>0.095168</td>\n",
       "      <td>0.293223</td>\n",
       "      <td>0.056421</td>\n",
       "    </tr>\n",
       "    <tr>\n",
       "      <th>2020-08-21</th>\n",
       "      <td>0.029992</td>\n",
       "      <td>0.242734</td>\n",
       "      <td>0.138215</td>\n",
       "      <td>0.132283</td>\n",
       "      <td>0.071035</td>\n",
       "      <td>0.199394</td>\n",
       "      <td>0.095168</td>\n",
       "      <td>0.293223</td>\n",
       "      <td>0.056421</td>\n",
       "    </tr>\n",
       "  </tbody>\n",
       "</table>\n",
       "<p>2721 rows × 9 columns</p>\n",
       "</div>"
      ],
      "text/plain": [
       "                 SAN       FER       ACS       ITX      BBVA       IBE  \\\n",
       "2010-01-04  0.111111  0.111111  0.111111  0.111111  0.111111  0.111111   \n",
       "2010-01-05  0.111111  0.111111  0.111111  0.111111  0.111111  0.111111   \n",
       "2010-01-06  0.111111  0.111111  0.111111  0.111111  0.111111  0.111111   \n",
       "2010-01-07  0.111111  0.111111  0.111111  0.111111  0.111111  0.111111   \n",
       "2010-01-08  0.111111  0.111111  0.111111  0.111111  0.111111  0.111111   \n",
       "...              ...       ...       ...       ...       ...       ...   \n",
       "2020-08-17  0.029992  0.242734  0.138215  0.134612  0.071035  0.201422   \n",
       "2020-08-18  0.029992  0.242734  0.138215  0.132283  0.071035  0.199210   \n",
       "2020-08-19  0.029992  0.242734  0.138215  0.132283  0.071035  0.199578   \n",
       "2020-08-20  0.029992  0.242734  0.138215  0.132283  0.071035  0.199025   \n",
       "2020-08-21  0.029992  0.242734  0.138215  0.132283  0.071035  0.199394   \n",
       "\n",
       "                 REP       GRF       TEF  \n",
       "2010-01-04  0.111111  0.111111  0.111111  \n",
       "2010-01-05  0.111111  0.111111  0.111111  \n",
       "2010-01-06  0.111111  0.111111  0.111111  \n",
       "2010-01-07  0.111111  0.111111  0.111111  \n",
       "2010-01-08  0.111111  0.111111  0.111111  \n",
       "...              ...       ...       ...  \n",
       "2020-08-17  0.095168  0.293223  0.056421  \n",
       "2020-08-18  0.095168  0.293223  0.056421  \n",
       "2020-08-19  0.095168  0.293223  0.056421  \n",
       "2020-08-20  0.095168  0.293223  0.056421  \n",
       "2020-08-21  0.095168  0.293223  0.056421  \n",
       "\n",
       "[2721 rows x 9 columns]"
      ]
     },
     "execution_count": 23,
     "metadata": {},
     "output_type": "execute_result"
    }
   ],
   "source": [
    "equity_performance = sma_performance.apply(equiperformance, axis=1)\n",
    "equity_performance"
   ]
  },
  {
   "cell_type": "markdown",
   "metadata": {},
   "source": [
    "En realidad el rendimiento es el mismo, solo que aportará la parte proporcional al portfolio"
   ]
  },
  {
   "cell_type": "code",
   "execution_count": 24,
   "metadata": {},
   "outputs": [
    {
     "data": {
      "text/plain": [
       "<matplotlib.axes._subplots.AxesSubplot at 0x26579e53850>"
      ]
     },
     "execution_count": 24,
     "metadata": {},
     "output_type": "execute_result"
    },
    {
     "data": {
      "image/png": "[encoded data removed]",
      "text/plain": [
       "<Figure size 432x288 with 1 Axes>"
      ]
     },
     "metadata": {
      "needs_background": "light"
     },
     "output_type": "display_data"
    }
   ],
   "source": [
    "equity_performance[['IBE','REP','FER']].plot()"
   ]
  },
  {
   "cell_type": "code",
   "execution_count": 25,
   "metadata": {},
   "outputs": [
    {
     "data": {
      "text/plain": [
       "<matplotlib.axes._subplots.AxesSubplot at 0x265794b4a30>"
      ]
     },
     "execution_count": 25,
     "metadata": {},
     "output_type": "execute_result"
    },
    {
     "data": {
      "image/png": "[encoded data removed]",
      "text/plain": [
       "<Figure size 432x288 with 1 Axes>"
      ]
     },
     "metadata": {
      "needs_background": "light"
     },
     "output_type": "display_data"
    }
   ],
   "source": [
    "porfolio_performance = equity_performance.sum(axis=1)\n",
    "porfolio_performance.plot()"
   ]
  },
  {
   "cell_type": "markdown",
   "metadata": {},
   "source": [
    "### Comparación con el Benchmark"
   ]
  },
  {
   "cell_type": "code",
   "execution_count": 26,
   "metadata": {},
   "outputs": [],
   "source": [
    "relative_bm = benchmark/benchmark.iloc[0]"
   ]
  },
  {
   "cell_type": "code",
   "execution_count": 27,
   "metadata": {},
   "outputs": [],
   "source": [
    "estrategias = pd.DataFrame({\n",
    "    'SMA': porfolio_performance,\n",
    "    'Ibexdiv': relative_bm\n",
    "\n",
    "})"
   ]
  },
  {
   "cell_type": "code",
   "execution_count": 28,
   "metadata": {},
   "outputs": [
    {
     "data": {
      "text/plain": [
       "<matplotlib.axes._subplots.AxesSubplot at 0x26578ddf1c0>"
      ]
     },
     "execution_count": 28,
     "metadata": {},
     "output_type": "execute_result"
    },
    {
     "data": {
      "image/png": "[encoded data removed]",
      "text/plain": [
       "<Figure size 432x288 with 1 Axes>"
      ]
     },
     "metadata": {
      "needs_background": "light"
     },
     "output_type": "display_data"
    }
   ],
   "source": [
    "estrategias.plot()"
   ]
  },
  {
   "cell_type": "markdown",
   "metadata": {},
   "source": [
    "### Métricas respecto al Benchmark"
   ]
  },
  {
   "cell_type": "markdown",
   "metadata": {},
   "source": [
    "Primero el **periodo de tiempo** de la evaluación"
   ]
  },
  {
   "cell_type": "code",
   "execution_count": 29,
   "metadata": {},
   "outputs": [
    {
     "data": {
      "text/plain": [
       "10.628336755646817"
      ]
     },
     "execution_count": 29,
     "metadata": {},
     "output_type": "execute_result"
    }
   ],
   "source": [
    "init_date, end_date = relative_bm.index[0], relative_bm.index[-1]\n",
    "years_in = (end_date - init_date) / pd.Timedelta(days=365, hours=6)\n",
    "years_in"
   ]
  },
  {
   "cell_type": "code",
   "execution_count": 30,
   "metadata": {},
   "outputs": [
    {
     "data": {
      "text/plain": [
       "256"
      ]
     },
     "execution_count": 30,
     "metadata": {},
     "output_type": "execute_result"
    }
   ],
   "source": [
    "bdays_year = int(relative_bm.shape[0]/years_in)\n",
    "bdays_year"
   ]
  },
  {
   "cell_type": "markdown",
   "metadata": {},
   "source": [
    "**Rendimiento Anualizado** \n"
   ]
  },
  {
   "cell_type": "code",
   "execution_count": 31,
   "metadata": {},
   "outputs": [],
   "source": [
    "portval = porfolio_performance"
   ]
  },
  {
   "cell_type": "code",
   "execution_count": 32,
   "metadata": {},
   "outputs": [
    {
     "data": {
      "text/plain": [
       "0.25846457926207145"
      ]
     },
     "execution_count": 32,
     "metadata": {},
     "output_type": "execute_result"
    }
   ],
   "source": [
    "port_total_ret = portval.iloc[-1]/portval.iloc[0] - 1\n",
    "port_total_ret"
   ]
  },
  {
   "cell_type": "code",
   "execution_count": 33,
   "metadata": {},
   "outputs": [
    {
     "data": {
      "text/plain": [
       "0.02186576518037131"
      ]
     },
     "execution_count": 33,
     "metadata": {},
     "output_type": "execute_result"
    }
   ],
   "source": [
    "ann_ret = np.power(port_total_ret + 1, 1/years_in) - 1\n",
    "ann_ret"
   ]
  },
  {
   "cell_type": "markdown",
   "metadata": {},
   "source": [
    "**Active_return**"
   ]
  },
  {
   "cell_type": "code",
   "execution_count": 34,
   "metadata": {},
   "outputs": [
    {
     "data": {
      "text/plain": [
       "-0.004105979438916996"
      ]
     },
     "execution_count": 34,
     "metadata": {},
     "output_type": "execute_result"
    }
   ],
   "source": [
    "bench_ret = relative_bm.iloc[-1]/relative_bm.iloc[0] - 1\n",
    "bench_annret = np.power(bench_ret + 1, 1/years_in) - 1\n",
    "bench_annret"
   ]
  },
  {
   "cell_type": "code",
   "execution_count": 35,
   "metadata": {},
   "outputs": [
    {
     "data": {
      "text/plain": [
       "0.025971744619288306"
      ]
     },
     "execution_count": 35,
     "metadata": {},
     "output_type": "execute_result"
    }
   ],
   "source": [
    "active_ret = ann_ret - bench_annret\n",
    "active_ret"
   ]
  },
  {
   "cell_type": "markdown",
   "metadata": {},
   "source": [
    "**Information Ratio**"
   ]
  },
  {
   "cell_type": "code",
   "execution_count": 36,
   "metadata": {},
   "outputs": [],
   "source": [
    "logret = np.log(portval).diff().dropna()\n",
    "bench_logret = np.log(relative_bm).diff().dropna()"
   ]
  },
  {
   "cell_type": "code",
   "execution_count": 37,
   "metadata": {},
   "outputs": [
    {
     "data": {
      "text/plain": [
       "2010-01-05   -0.004874\n",
       "2010-01-06   -0.001482\n",
       "2010-01-07    0.004609\n",
       "2010-01-08   -0.000032\n",
       "2010-01-11    0.007305\n",
       "dtype: float64"
      ]
     },
     "execution_count": 37,
     "metadata": {},
     "output_type": "execute_result"
    }
   ],
   "source": [
    "active_dayret = logret - bench_logret\n",
    "active_dayret.head()"
   ]
  },
  {
   "cell_type": "code",
   "execution_count": 38,
   "metadata": {},
   "outputs": [
    {
     "data": {
      "text/plain": [
       "0.14409802845825428"
      ]
     },
     "execution_count": 38,
     "metadata": {},
     "output_type": "execute_result"
    }
   ],
   "source": [
    "tracking_error = np.sqrt(bdays_year) * active_dayret.std()\n",
    "inform_ratio = (bdays_year * active_dayret.mean()) / tracking_error\n",
    "inform_ratio"
   ]
  },
  {
   "cell_type": "markdown",
   "metadata": {},
   "source": [
    "___"
   ]
  },
  {
   "cell_type": "code",
   "execution_count": null,
   "metadata": {},
   "outputs": [],
   "source": []
  }
 ],
 "metadata": {
  "kernelspec": {
   "display_name": "Python 3",
   "language": "python",
   "name": "python3"
  },
  "language_info": {
   "codemirror_mode": {
    "name": "ipython",
    "version": 3
   },
   "file_extension": ".py",
   "mimetype": "text/x-python",
   "name": "python",
   "nbconvert_exporter": "python",
   "pygments_lexer": "ipython3",
   "version": "3.8.3"
  }
 },
 "nbformat": 4,
 "nbformat_minor": 4
}
