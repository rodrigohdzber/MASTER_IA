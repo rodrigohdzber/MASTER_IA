{
 "cells": [
  {
   "cell_type": "markdown",
   "metadata": {},
   "source": [
    "## Backtesting Sesion 1\n",
    "### Generación y Evaluación de Señales\n",
    "Este cuaderno utiliza las señales de entrada/salida del oscilador estocástico para\n",
    "mostrar la evaluación histórica de la estrategia"
   ]
  },
  {
   "cell_type": "code",
   "execution_count": null,
   "metadata": {},
   "outputs": [],
   "source": [
    "import numpy as np \n",
    "import pandas as pd\n",
    "import matplotlib.pyplot as plt\n",
    "import itertools"
   ]
  },
  {
   "cell_type": "markdown",
   "metadata": {},
   "source": [
    "____\n",
    "### Datos \n",
    "Asumimos que tenemos un dataset disponible con datos de mercado.\n",
    "Partimos de un snapshot de acciones del IBEX35"
   ]
  },
  {
   "cell_type": "code",
   "execution_count": null,
   "metadata": {},
   "outputs": [],
   "source": [
    "import pickle\n",
    "with open('../data/stock_data.pkl', 'rb') as handle:\n",
    "    stock_data = pickle.load(handle)"
   ]
  },
  {
   "cell_type": "markdown",
   "metadata": {},
   "source": [
    "La variable stock_data es un diccionario {ticker: dataframe} donde ticker es el \n",
    "identificador de la acción y dataframe tiene las series OLHCV de cada acción"
   ]
  },
  {
   "cell_type": "code",
   "execution_count": null,
   "metadata": {},
   "outputs": [],
   "source": [
    "stock_data.keys()"
   ]
  },
  {
   "cell_type": "markdown",
   "metadata": {},
   "source": [
    "Cada dataframe tiene la series de precios"
   ]
  },
  {
   "cell_type": "code",
   "execution_count": null,
   "metadata": {},
   "outputs": [],
   "source": [
    "stock_data['TEF'].head()"
   ]
  },
  {
   "cell_type": "markdown",
   "metadata": {},
   "source": [
    "____\n",
    "### Supuestos\n",
    "En esta primera aproximación asumiremos que\n",
    "- Estamos observando los precios de cierre diario\n",
    "- Operamos al día siguiente al precio del próximo cierre"
   ]
  },
  {
   "cell_type": "code",
   "execution_count": null,
   "metadata": {},
   "outputs": [],
   "source": [
    "close_dict = {tk: df.close for tk,df in stock_data.items()}\n",
    "stock_close = pd.DataFrame(close_dict)\n",
    "stock_close.head()"
   ]
  },
  {
   "cell_type": "markdown",
   "metadata": {},
   "source": [
    "Trabajaremos primero con un solo valor, que podemos ir variando"
   ]
  },
  {
   "cell_type": "code",
   "execution_count": null,
   "metadata": {},
   "outputs": [],
   "source": [
    "ticker = 'TEF'\n",
    "stock_series = stock_close[ticker].dropna()"
   ]
  },
  {
   "cell_type": "code",
   "execution_count": null,
   "metadata": {},
   "outputs": [],
   "source": [
    "stock_series.plot()"
   ]
  },
  {
   "cell_type": "markdown",
   "metadata": {},
   "source": [
    "___\n",
    "### Oscilador Estocástico\n",
    "Es un indicador técnico que construye a partir de una serie de precios,\n",
    "un valor que expresa la **posición relativa** del precio respecto a una \n",
    "**ventana temporal reciente**. Algunas características:\n",
    "- Se mueve en el intervalo [0, 1] o porcentualmente de 0 a 100\n",
    "- Es equivalente a realizar una normalización de rango una vez determinada la ventana temporal\n"
   ]
  },
  {
   "cell_type": "code",
   "execution_count": null,
   "metadata": {},
   "outputs": [],
   "source": [
    "def min_max_scale(s):\n",
    "    \"\"\" Calcula la normalización de rango \"\"\"\n",
    "    return (s[-1] - np.min(s)) / (np.max(s) - np.min(s))"
   ]
  },
  {
   "cell_type": "code",
   "execution_count": null,
   "metadata": {},
   "outputs": [],
   "source": [
    "estocastico = stock_series.rolling(window=20).apply(min_max_scale)\n",
    "estocastico"
   ]
  },
  {
   "cell_type": "code",
   "execution_count": null,
   "metadata": {},
   "outputs": [],
   "source": [
    "# ultimas 500 observaciones\n",
    "estocastico.iloc[-500:].plot()"
   ]
  },
  {
   "cell_type": "markdown",
   "metadata": {},
   "source": [
    "___\n",
    "La serie de base del estocástico es muy errática, por lo que se suele utilizar una indicador suavizado\n",
    "haciendo una media móvil de los ultimos $k$ días.  Para el cáclulo de las señales de trading se utilizan\n",
    "diferentes variantes que combinan el estocástico base con el indicador suavizado, o diferentes variantes\n",
    "a partir de los parámetros que se pueden configurar. En este ejemplo utilizaremos.\n",
    "- una ventana de tamaño configurable\n",
    "- solo el indicador suavizado, con una media móvill calculada sobre $k$ igual a un quinto de la ventana \n"
   ]
  },
  {
   "cell_type": "code",
   "execution_count": null,
   "metadata": {},
   "outputs": [],
   "source": [
    "def stochastic_osc(s, win):\n",
    "    \"\"\" Calcula la serie primaria del estocástico\"\"\"\n",
    "    lag = int(np.round(win/5))\n",
    "    so_raw = s.rolling(window=win).apply(min_max_scale, raw=True)\n",
    "    so = so_raw.rolling(window=lag).mean()\n",
    "    return so  "
   ]
  },
  {
   "cell_type": "code",
   "execution_count": null,
   "metadata": {},
   "outputs": [],
   "source": [
    "sto_ind = stochastic_osc(stock_series, 20)\n",
    "\n",
    "# Vemos la serie base y el indicador suavizado\n",
    "df_sto = pd.DataFrame({\n",
    "    'estocastico': estocastico,\n",
    "    'sto_suave': sto_ind\n",
    "})"
   ]
  },
  {
   "cell_type": "code",
   "execution_count": null,
   "metadata": {},
   "outputs": [],
   "source": [
    "fig, ax = plt.subplots(figsize=(20,4))\n",
    "df_sto.iloc[-500:].plot(ax=ax)"
   ]
  },
  {
   "cell_type": "markdown",
   "metadata": {},
   "source": [
    "_____\n",
    "### Oscilador Estocástico y Señales de Trading\n",
    "Tradicionalmente el oscilador estocástico se ha utilizado para indicar regiones de **sobrecompra** (ej. 0.8) o **sobreventa** (ej. 0.2).  Las salidas de estas regiones\n",
    "indicarían un cambio de tendencia en el precio que puede utilizarse como señal de trading de la siguiente forma:\n",
    "- Si el activo está sobre-vendido y el indicador corta el umbral al alza --> Comprar\n",
    "- Si el activo está sobre-comprado y el indicador corta el umbral a la baja --> Vender"
   ]
  },
  {
   "cell_type": "code",
   "execution_count": null,
   "metadata": {},
   "outputs": [],
   "source": [
    "def stochastic_osc_states(s, win=14, obought=0.8, osold=0.2):\n",
    "    \"\"\"En función de las señales de trading calcula una serie de \"estados\"\n",
    "    para indicar que se está \n",
    "    1: dentro o invertido\n",
    "    0: fuera o desinvertido \n",
    "    Las señales de trading se determinan a partir \n",
    "    de los umbrales de sobre-(compra o venta) \"\"\"\n",
    "    \n",
    "    states = pd.Series(np.zeros(s.shape[0]), index=s.index)\n",
    "    so = stochastic_osc(s, win)\n",
    "    \n",
    "    # Condicion inicial \n",
    "    if so.iloc[0] > osold and so.iloc[0] < obought:\n",
    "        states.iloc[0] = 1\n",
    "        curr = 1\n",
    "    else:\n",
    "        curr = 0\n",
    "    \n",
    "    for i in range(s.shape[0] - 2):\n",
    "        # corta umbral de sobreventa al alza\n",
    "        if so.iloc[i] < osold and so.iloc[i+1] >= osold:\n",
    "            curr = 1\n",
    "        # corta umbral de sobrecompra a la baja\n",
    "        elif so.iloc[i] > obought and so.iloc[i+1] <= obought: \n",
    "            curr = 0\n",
    "        \n",
    "        # el cambio de esto ocurre al dia siguiente de la señal\n",
    "        states.iloc[i+2] = curr\n",
    "    \n",
    "    return states"
   ]
  },
  {
   "cell_type": "code",
   "execution_count": null,
   "metadata": {},
   "outputs": [],
   "source": [
    "stock_invested = stochastic_osc_states(stock_series, win=20, obought=0.8, osold=0.2)\n",
    "stock_invested.iloc[-500:-460]"
   ]
  },
  {
   "cell_type": "code",
   "execution_count": null,
   "metadata": {},
   "outputs": [],
   "source": [
    "# dias invertido/desinvertido\n",
    "stock_invested.value_counts()"
   ]
  },
  {
   "cell_type": "markdown",
   "metadata": {},
   "source": [
    "____\n",
    "Hacemos la gráfica del indicador mostrando los momentos en los que se está invertido\n",
    "(ultimos 500 dias)"
   ]
  },
  {
   "cell_type": "code",
   "execution_count": null,
   "metadata": {},
   "outputs": [],
   "source": [
    "sto_show = sto_ind.iloc[-500:]\n",
    "states_show = stock_invested.reindex(sto_show.index)"
   ]
  },
  {
   "cell_type": "code",
   "execution_count": null,
   "metadata": {},
   "outputs": [],
   "source": [
    "fig, ax = plt.subplots(figsize=(20,4))\n",
    "sto_show.plot(ax=ax)\n",
    "\n",
    "ax.axhline(0.2, c='g')\n",
    "ax.axhline(0.8, c='r')\n",
    "for i in range(sto_show.shape[0]-1):\n",
    "    if states_show.iloc[i] == 1:\n",
    "        ax.axvspan(sto_show.index[i], sto_show.index[i+1], facecolor='g', alpha=0.2)"
   ]
  },
  {
   "cell_type": "markdown",
   "metadata": {},
   "source": [
    "___"
   ]
  },
  {
   "cell_type": "markdown",
   "metadata": {},
   "source": [
    "### Verificación de Entrada/Salida\n",
    "Verificamos con detenimiento que el rendimiento de los precios de compra venta correspondan\n",
    "a la composición de los rendimientos diarios que utilizamos"
   ]
  },
  {
   "cell_type": "code",
   "execution_count": null,
   "metadata": {},
   "outputs": [],
   "source": [
    "simple_ret = stock_series.pct_change()\n",
    "trade_events = stock_invested.diff()\n",
    "returns_in = stock_invested.shift(1)\n",
    "check_df = pd.concat([stock_series, sto_ind, stock_invested, trade_events, returns_in, simple_ret], axis=1)\n",
    "check_df.columns = ['price', 'estocastico', 'days_in', 'events', 'returns_in','day_ret']\n",
    "check_df.iloc[-500:-460]"
   ]
  },
  {
   "cell_type": "code",
   "execution_count": null,
   "metadata": {},
   "outputs": [],
   "source": [
    "trade_day_rets = simple_ret.loc['2018-09-25':'2018-10-18']\n",
    "trade_day_rets"
   ]
  },
  {
   "cell_type": "code",
   "execution_count": null,
   "metadata": {},
   "outputs": [],
   "source": [
    "trade_ret = (trade_day_rets.values + 1).prod() - 1\n",
    "trade_ret"
   ]
  },
  {
   "cell_type": "code",
   "execution_count": null,
   "metadata": {},
   "outputs": [],
   "source": [
    "trade_ret2 = check_df.price.loc['2018-10-18']/check_df.price.loc['2018-09-24'] - 1\n",
    "trade_ret2"
   ]
  },
  {
   "cell_type": "markdown",
   "metadata": {},
   "source": [
    "____"
   ]
  },
  {
   "cell_type": "code",
   "execution_count": null,
   "metadata": {},
   "outputs": [],
   "source": [
    "def state_returns(price, states):\n",
    "    \"\"\" Calcula para una serie y unos estados de \n",
    "    estar dentro fuera, cual es el retorno total\n",
    "    correspondiente.\n",
    "    Debe tener el mismo pd.Index \n",
    "    \"\"\"\n",
    "    ret = price.pct_change()\n",
    "    ret.iloc[0] = 0\n",
    "    \n",
    "    in_rets = ret * states.shift(1)\n",
    "    simple_rets = in_rets + 1 \n",
    "    total_ret = simple_rets.prod() - 1\n",
    "    return total_ret"
   ]
  },
  {
   "cell_type": "code",
   "execution_count": null,
   "metadata": {},
   "outputs": [],
   "source": [
    "stock_invested"
   ]
  },
  {
   "cell_type": "code",
   "execution_count": null,
   "metadata": {},
   "outputs": [],
   "source": [
    "total_return = state_returns(stock_series, stock_invested)\n",
    "total_return"
   ]
  },
  {
   "cell_type": "code",
   "execution_count": null,
   "metadata": {},
   "outputs": [],
   "source": [
    "def ann_returns(price, states):\n",
    "    tot_ret = state_returns(price, states)\n",
    "    \n",
    "    init_date = states.index[0]\n",
    "    end_date = states.index[-1]\n",
    "    fyears = (end_date - init_date) / pd.Timedelta(days=365, hours=6)\n",
    "    \n",
    "    anual_ret = np.power(tot_ret + 1, 1/fyears) - 1  \n",
    "    return anual_ret"
   ]
  },
  {
   "cell_type": "code",
   "execution_count": null,
   "metadata": {},
   "outputs": [],
   "source": [
    "ann_returns(stock_series, stock_invested)"
   ]
  },
  {
   "cell_type": "markdown",
   "metadata": {},
   "source": [
    "Calculamos la alternativa de estar siempre invertido en el activo"
   ]
  },
  {
   "cell_type": "code",
   "execution_count": null,
   "metadata": {},
   "outputs": [],
   "source": [
    "hold_invested = pd.Series(\n",
    "    np.ones(stock_invested.shape[0]),\n",
    "    index=stock_invested.index\n",
    ")"
   ]
  },
  {
   "cell_type": "code",
   "execution_count": null,
   "metadata": {},
   "outputs": [],
   "source": [
    "state_returns(stock_series, hold_invested)"
   ]
  },
  {
   "cell_type": "code",
   "execution_count": null,
   "metadata": {},
   "outputs": [],
   "source": [
    "ann_returns(stock_series, hold_invested)"
   ]
  },
  {
   "cell_type": "code",
   "execution_count": null,
   "metadata": {},
   "outputs": [],
   "source": [
    "def backtest_so_returns(vseries, win=20, obought=0.8, osold=0.2):\n",
    "    f_states = stochastic_osc_states(\n",
    "        vseries, \n",
    "        win=win, \n",
    "        obought=obought,\n",
    "        osold=osold)\n",
    "    so_return = ann_returns(vseries, f_states)\n",
    "    return so_return"
   ]
  },
  {
   "cell_type": "code",
   "execution_count": null,
   "metadata": {},
   "outputs": [],
   "source": [
    "backtest_so_returns(stock_series)"
   ]
  },
  {
   "cell_type": "markdown",
   "metadata": {},
   "source": [
    "____\n",
    "### Exploración de Parámetros\n",
    "Podemos explorar diferentes parámetros para ver como varía el rendimiento"
   ]
  },
  {
   "cell_type": "code",
   "execution_count": null,
   "metadata": {},
   "outputs": [],
   "source": [
    "obought_params = [0.70, 0.80, 0.90]\n",
    "osold_params = [0.10, 0.20, 0.30]\n",
    "win_params = [20, 30, 50]"
   ]
  },
  {
   "cell_type": "code",
   "execution_count": null,
   "metadata": {},
   "outputs": [],
   "source": [
    "combined_params = list(itertools.product(win_params, obought_params, osold_params))\n",
    "combined_params[:10]"
   ]
  },
  {
   "cell_type": "code",
   "execution_count": null,
   "metadata": {},
   "outputs": [],
   "source": [
    "result = {}\n",
    "for iparams in combined_params:\n",
    "    (w, b, s) = iparams\n",
    "    result[iparams] = backtest_so_returns(stock_series, win=w, obought=b, osold=s)\n",
    "    print(w, b, s)"
   ]
  },
  {
   "cell_type": "code",
   "execution_count": null,
   "metadata": {},
   "outputs": [],
   "source": [
    "sresult = pd.Series(result)\n",
    "print(sresult.idxmax(), sresult.max())"
   ]
  },
  {
   "cell_type": "markdown",
   "metadata": {},
   "source": [
    "### Observación\n",
    "Asumir el resultado del mejor parámetro como válido no es correcto, porque lo que hemos hecho es ajustar el parámetro para ir mejorando el resultado. A futuro esta combinación no tiene por qué dar el mismo resultado."
   ]
  },
  {
   "cell_type": "markdown",
   "metadata": {},
   "source": [
    "___"
   ]
  },
  {
   "cell_type": "markdown",
   "metadata": {},
   "source": [
    "### Ejercicios Propuestos\n",
    "1. Desarrollar una función que determine el rendimiento y los mejores parámetros del oscilador estocástico, a partir de cualquier \n",
    "serie de precios, apoyandose en el código de celdas previas\n",
    "2. Determinar el mejor conjunto de parámetros y el rendimiento para un conjunto de 5 valores del IBEX35, \n",
    "ej. ACS, AMS, REP, ITX y SAN tomando los datos a partir de 2010.\n",
    "\n"
   ]
  },
  {
   "cell_type": "code",
   "execution_count": null,
   "metadata": {},
   "outputs": [],
   "source": []
  }
 ],
 "metadata": {
  "kernelspec": {
   "display_name": "Python 3",
   "language": "python",
   "name": "python3"
  },
  "language_info": {
   "codemirror_mode": {
    "name": "ipython",
    "version": 3
   },
   "file_extension": ".py",
   "mimetype": "text/x-python",
   "name": "python",
   "nbconvert_exporter": "python",
   "pygments_lexer": "ipython3",
   "version": "3.8.3"
  }
 },
 "nbformat": 4,
 "nbformat_minor": 4
}
