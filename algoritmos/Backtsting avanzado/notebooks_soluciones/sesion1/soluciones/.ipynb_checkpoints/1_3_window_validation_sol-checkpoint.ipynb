{
 "cells": [
  {
   "cell_type": "markdown",
   "metadata": {},
   "source": [
    "## Backtesting Sesion 1\n",
    "### Evaluación de Señales en Ventanas Deslizantes\n",
    "\n",
    "Este cuaderno muestra un ejemplo de como realizar una evaluación fuera de los datos de optimización, utilizando ventanas deslizantes.  Las ideas generales las podemos resumir en:\n",
    "- Escoger un conjunto de parámetros a partir de la exploración sobre un periodo de tiempo puede llevar a un sobre-ajuste de la estrategia\n",
    "- Una evaluación más realista consiste calcular el rendimiento en un periodo diferente al de optimización\n",
    "- Podemos simular un periodo continuo de evaluación concatenando ventanas deslizantes de entrenamiento/prueba \n"
   ]
  },
  {
   "cell_type": "code",
   "execution_count": 1,
   "metadata": {},
   "outputs": [],
   "source": [
    "import numpy as np \n",
    "import pandas as pd\n",
    "import matplotlib.pyplot as plt\n",
    "import itertools"
   ]
  },
  {
   "cell_type": "markdown",
   "metadata": {},
   "source": [
    "____\n",
    "### Datos \n",
    "Snapshot de acciones del IBEX35"
   ]
  },
  {
   "cell_type": "code",
   "execution_count": 2,
   "metadata": {},
   "outputs": [],
   "source": [
    "import pickle\n",
    "with open('../data/stock_data.pkl', 'rb') as handle:\n",
    "    stock_data = pickle.load(handle)"
   ]
  },
  {
   "cell_type": "markdown",
   "metadata": {},
   "source": [
    "Generamos un único dataframe con los precios de cierre"
   ]
  },
  {
   "cell_type": "code",
   "execution_count": 3,
   "metadata": {},
   "outputs": [
    {
     "data": {
      "text/html": [
       "<div>\n",
       "<style scoped>\n",
       "    .dataframe tbody tr th:only-of-type {\n",
       "        vertical-align: middle;\n",
       "    }\n",
       "\n",
       "    .dataframe tbody tr th {\n",
       "        vertical-align: top;\n",
       "    }\n",
       "\n",
       "    .dataframe thead th {\n",
       "        text-align: right;\n",
       "    }\n",
       "</style>\n",
       "<table border=\"1\" class=\"dataframe\">\n",
       "  <thead>\n",
       "    <tr style=\"text-align: right;\">\n",
       "      <th></th>\n",
       "      <th>SAN</th>\n",
       "      <th>BTO_1</th>\n",
       "      <th>BKIA_0</th>\n",
       "      <th>BKIA</th>\n",
       "      <th>NTGY</th>\n",
       "      <th>TRE</th>\n",
       "      <th>ACX_0</th>\n",
       "      <th>ACX</th>\n",
       "      <th>FER</th>\n",
       "      <th>ACS</th>\n",
       "      <th>...</th>\n",
       "      <th>DRC</th>\n",
       "      <th>PRS_0</th>\n",
       "      <th>PRS_1</th>\n",
       "      <th>SCYR_0</th>\n",
       "      <th>TEM</th>\n",
       "      <th>CAR</th>\n",
       "      <th>AGS</th>\n",
       "      <th>COL_0</th>\n",
       "      <th>A3TV</th>\n",
       "      <th>SGC</th>\n",
       "    </tr>\n",
       "  </thead>\n",
       "  <tbody>\n",
       "    <tr>\n",
       "      <th>2003-01-02</th>\n",
       "      <td>2.251615</td>\n",
       "      <td>NaN</td>\n",
       "      <td>NaN</td>\n",
       "      <td>NaN</td>\n",
       "      <td>7.363463</td>\n",
       "      <td>NaN</td>\n",
       "      <td>4.761374</td>\n",
       "      <td>NaN</td>\n",
       "      <td>NaN</td>\n",
       "      <td>4.815096</td>\n",
       "      <td>...</td>\n",
       "      <td>16.50</td>\n",
       "      <td>49.590521</td>\n",
       "      <td>NaN</td>\n",
       "      <td>4.732566</td>\n",
       "      <td>5.88</td>\n",
       "      <td>NaN</td>\n",
       "      <td>NaN</td>\n",
       "      <td>NaN</td>\n",
       "      <td>NaN</td>\n",
       "      <td>9.35</td>\n",
       "    </tr>\n",
       "    <tr>\n",
       "      <th>2003-01-03</th>\n",
       "      <td>2.166648</td>\n",
       "      <td>NaN</td>\n",
       "      <td>NaN</td>\n",
       "      <td>NaN</td>\n",
       "      <td>7.270788</td>\n",
       "      <td>NaN</td>\n",
       "      <td>4.865828</td>\n",
       "      <td>NaN</td>\n",
       "      <td>NaN</td>\n",
       "      <td>4.815096</td>\n",
       "      <td>...</td>\n",
       "      <td>16.84</td>\n",
       "      <td>48.960800</td>\n",
       "      <td>NaN</td>\n",
       "      <td>4.740697</td>\n",
       "      <td>5.87</td>\n",
       "      <td>NaN</td>\n",
       "      <td>NaN</td>\n",
       "      <td>NaN</td>\n",
       "      <td>NaN</td>\n",
       "      <td>9.36</td>\n",
       "    </tr>\n",
       "    <tr>\n",
       "      <th>2003-01-07</th>\n",
       "      <td>2.251615</td>\n",
       "      <td>NaN</td>\n",
       "      <td>NaN</td>\n",
       "      <td>NaN</td>\n",
       "      <td>7.388738</td>\n",
       "      <td>NaN</td>\n",
       "      <td>4.778783</td>\n",
       "      <td>NaN</td>\n",
       "      <td>NaN</td>\n",
       "      <td>4.815096</td>\n",
       "      <td>...</td>\n",
       "      <td>16.29</td>\n",
       "      <td>48.488510</td>\n",
       "      <td>NaN</td>\n",
       "      <td>4.667513</td>\n",
       "      <td>6.03</td>\n",
       "      <td>NaN</td>\n",
       "      <td>NaN</td>\n",
       "      <td>NaN</td>\n",
       "      <td>NaN</td>\n",
       "      <td>9.19</td>\n",
       "    </tr>\n",
       "    <tr>\n",
       "      <th>2003-01-08</th>\n",
       "      <td>2.251615</td>\n",
       "      <td>NaN</td>\n",
       "      <td>NaN</td>\n",
       "      <td>NaN</td>\n",
       "      <td>7.582514</td>\n",
       "      <td>NaN</td>\n",
       "      <td>4.717851</td>\n",
       "      <td>NaN</td>\n",
       "      <td>NaN</td>\n",
       "      <td>4.905021</td>\n",
       "      <td>...</td>\n",
       "      <td>16.31</td>\n",
       "      <td>48.016219</td>\n",
       "      <td>NaN</td>\n",
       "      <td>4.651250</td>\n",
       "      <td>6.02</td>\n",
       "      <td>NaN</td>\n",
       "      <td>NaN</td>\n",
       "      <td>NaN</td>\n",
       "      <td>NaN</td>\n",
       "      <td>8.83</td>\n",
       "    </tr>\n",
       "    <tr>\n",
       "      <th>2003-01-09</th>\n",
       "      <td>2.251615</td>\n",
       "      <td>NaN</td>\n",
       "      <td>NaN</td>\n",
       "      <td>NaN</td>\n",
       "      <td>7.641489</td>\n",
       "      <td>NaN</td>\n",
       "      <td>4.752669</td>\n",
       "      <td>NaN</td>\n",
       "      <td>NaN</td>\n",
       "      <td>4.913196</td>\n",
       "      <td>...</td>\n",
       "      <td>16.51</td>\n",
       "      <td>47.543928</td>\n",
       "      <td>NaN</td>\n",
       "      <td>4.708171</td>\n",
       "      <td>6.13</td>\n",
       "      <td>NaN</td>\n",
       "      <td>NaN</td>\n",
       "      <td>NaN</td>\n",
       "      <td>NaN</td>\n",
       "      <td>9.26</td>\n",
       "    </tr>\n",
       "  </tbody>\n",
       "</table>\n",
       "<p>5 rows × 82 columns</p>\n",
       "</div>"
      ],
      "text/plain": [
       "                 SAN  BTO_1  BKIA_0  BKIA      NTGY  TRE     ACX_0  ACX  FER  \\\n",
       "2003-01-02  2.251615    NaN     NaN   NaN  7.363463  NaN  4.761374  NaN  NaN   \n",
       "2003-01-03  2.166648    NaN     NaN   NaN  7.270788  NaN  4.865828  NaN  NaN   \n",
       "2003-01-07  2.251615    NaN     NaN   NaN  7.388738  NaN  4.778783  NaN  NaN   \n",
       "2003-01-08  2.251615    NaN     NaN   NaN  7.582514  NaN  4.717851  NaN  NaN   \n",
       "2003-01-09  2.251615    NaN     NaN   NaN  7.641489  NaN  4.752669  NaN  NaN   \n",
       "\n",
       "                 ACS  ...    DRC      PRS_0  PRS_1    SCYR_0   TEM  CAR  AGS  \\\n",
       "2003-01-02  4.815096  ...  16.50  49.590521    NaN  4.732566  5.88  NaN  NaN   \n",
       "2003-01-03  4.815096  ...  16.84  48.960800    NaN  4.740697  5.87  NaN  NaN   \n",
       "2003-01-07  4.815096  ...  16.29  48.488510    NaN  4.667513  6.03  NaN  NaN   \n",
       "2003-01-08  4.905021  ...  16.31  48.016219    NaN  4.651250  6.02  NaN  NaN   \n",
       "2003-01-09  4.913196  ...  16.51  47.543928    NaN  4.708171  6.13  NaN  NaN   \n",
       "\n",
       "            COL_0  A3TV   SGC  \n",
       "2003-01-02    NaN   NaN  9.35  \n",
       "2003-01-03    NaN   NaN  9.36  \n",
       "2003-01-07    NaN   NaN  9.19  \n",
       "2003-01-08    NaN   NaN  8.83  \n",
       "2003-01-09    NaN   NaN  9.26  \n",
       "\n",
       "[5 rows x 82 columns]"
      ]
     },
     "execution_count": 3,
     "metadata": {},
     "output_type": "execute_result"
    }
   ],
   "source": [
    "close_dict = {tk: df.close for tk,df in stock_data.items()}\n",
    "stock_close = pd.DataFrame(close_dict)\n",
    "stock_close.head()"
   ]
  },
  {
   "cell_type": "markdown",
   "metadata": {},
   "source": [
    "Trabajaremos primero con un solo valor, que podemos ir variando"
   ]
  },
  {
   "cell_type": "code",
   "execution_count": 4,
   "metadata": {},
   "outputs": [],
   "source": [
    "ticker = 'TEF'\n",
    "stock_series = stock_close[ticker].dropna()"
   ]
  },
  {
   "cell_type": "code",
   "execution_count": 5,
   "metadata": {},
   "outputs": [
    {
     "data": {
      "text/plain": [
       "<matplotlib.axes._subplots.AxesSubplot at 0x19a4b5ad7c0>"
      ]
     },
     "execution_count": 5,
     "metadata": {},
     "output_type": "execute_result"
    },
    {
     "data": {
      "image/png": "[encoded data removed]",
      "text/plain": [
       "<Figure size 432x288 with 1 Axes>"
      ]
     },
     "metadata": {
      "needs_background": "light"
     },
     "output_type": "display_data"
    }
   ],
   "source": [
    "stock_series.plot()"
   ]
  },
  {
   "cell_type": "markdown",
   "metadata": {},
   "source": [
    "___"
   ]
  },
  {
   "cell_type": "code",
   "execution_count": 6,
   "metadata": {},
   "outputs": [],
   "source": [
    "from stoosc import Sto # clase con las funciones del oscilador estocastico"
   ]
  },
  {
   "cell_type": "code",
   "execution_count": 7,
   "metadata": {},
   "outputs": [
    {
     "data": {
      "text/plain": [
       "0.0023311595972059784"
      ]
     },
     "execution_count": 7,
     "metadata": {},
     "output_type": "execute_result"
    }
   ],
   "source": [
    "Sto.backtest_so_returns(stock_series, win=25, obought=0.8, osold=0.2)"
   ]
  },
  {
   "cell_type": "markdown",
   "metadata": {},
   "source": [
    "Conjunto de parámetros para la exploración. (Igual que en cuaderno 1.1)"
   ]
  },
  {
   "cell_type": "code",
   "execution_count": 8,
   "metadata": {},
   "outputs": [
    {
     "data": {
      "text/plain": [
       "[(20, 0.7, 0.1),\n",
       " (20, 0.7, 0.2),\n",
       " (20, 0.7, 0.3),\n",
       " (20, 0.8, 0.1),\n",
       " (20, 0.8, 0.2),\n",
       " (20, 0.8, 0.3),\n",
       " (20, 0.9, 0.1),\n",
       " (20, 0.9, 0.2),\n",
       " (20, 0.9, 0.3),\n",
       " (30, 0.7, 0.1)]"
      ]
     },
     "execution_count": 8,
     "metadata": {},
     "output_type": "execute_result"
    }
   ],
   "source": [
    "obought_params = [0.70, 0.80, 0.90]\n",
    "osold_params = [0.10, 0.20, 0.30]\n",
    "win_params = [20, 30, 50]\n",
    "combined_params = list(itertools.product(win_params, obought_params, osold_params))\n",
    "combined_params[:10]"
   ]
  },
  {
   "cell_type": "markdown",
   "metadata": {},
   "source": [
    "____\n",
    "### Función de Exploración \n",
    "Reutilizamos código de exploración para tener una función que dado un espacio de parámetros y una serie, nos devuelva\n",
    "la mejor rentabilidad obtenida, y la combinación que lo produce"
   ]
  },
  {
   "cell_type": "code",
   "execution_count": 9,
   "metadata": {},
   "outputs": [
    {
     "data": {
      "text/plain": [
       "\u001b[1;31mSignature:\u001b[0m \u001b[0mSto\u001b[0m\u001b[1;33m.\u001b[0m\u001b[0mbacktest_so_returns\u001b[0m\u001b[1;33m(\u001b[0m\u001b[0mvseries\u001b[0m\u001b[1;33m,\u001b[0m \u001b[0mwin\u001b[0m\u001b[1;33m=\u001b[0m\u001b[1;36m20\u001b[0m\u001b[1;33m,\u001b[0m \u001b[0mobought\u001b[0m\u001b[1;33m=\u001b[0m\u001b[1;36m0.8\u001b[0m\u001b[1;33m,\u001b[0m \u001b[0mosold\u001b[0m\u001b[1;33m=\u001b[0m\u001b[1;36m0.2\u001b[0m\u001b[1;33m)\u001b[0m\u001b[1;33m\u001b[0m\u001b[1;33m\u001b[0m\u001b[0m\n",
       "\u001b[1;31mDocstring:\u001b[0m\n",
       "Devuelve la rentabilidad anualizada que se consigue al aplicar\n",
       "la regla de trading del oscilador estocastico a la serie de precios\n",
       "vseries \n",
       "\u001b[1;31mFile:\u001b[0m      c:\\users\\trosa\\onedrive - bme\\documentos\\docencia_bme\\backtesting\\notebooks\\sesion1\\stoosc.py\n",
       "\u001b[1;31mType:\u001b[0m      function\n"
      ]
     },
     "metadata": {},
     "output_type": "display_data"
    }
   ],
   "source": [
    "?Sto.backtest_so_returns"
   ]
  },
  {
   "cell_type": "code",
   "execution_count": 10,
   "metadata": {},
   "outputs": [],
   "source": [
    "def explore_sto_params(params_product, vseries):\n",
    "    result = {}\n",
    "    for iparams in params_product:\n",
    "        (w, b, s) = iparams\n",
    "        result[iparams] = Sto.backtest_so_returns(vseries, win=w, obought=b, osold=s)\n",
    "    rseries = pd.Series(result)\n",
    "    return rseries.idxmax(), rseries.max()"
   ]
  },
  {
   "cell_type": "code",
   "execution_count": 11,
   "metadata": {},
   "outputs": [
    {
     "data": {
      "text/plain": [
       "2003-01-02    3.308638\n",
       "2003-01-03    3.292136\n",
       "2003-01-07    3.490160\n",
       "2003-01-08    3.498411\n",
       "2003-01-09    3.556167\n",
       "                ...   \n",
       "2005-12-23    5.528149\n",
       "2005-12-27    5.552902\n",
       "2005-12-28    5.552902\n",
       "2005-12-29    5.577655\n",
       "2005-12-30    5.552902\n",
       "Name: TEF, Length: 757, dtype: float64"
      ]
     },
     "execution_count": 11,
     "metadata": {},
     "output_type": "execute_result"
    }
   ],
   "source": [
    "subserie = stock_series.loc[:'2005']\n",
    "subserie"
   ]
  },
  {
   "cell_type": "code",
   "execution_count": 12,
   "metadata": {},
   "outputs": [
    {
     "data": {
      "text/plain": [
       "((20, 0.9, 0.3), 0.1310992273211804)"
      ]
     },
     "execution_count": 12,
     "metadata": {},
     "output_type": "execute_result"
    }
   ],
   "source": [
    "explore_sto_params(combined_params, subserie)"
   ]
  },
  {
   "cell_type": "markdown",
   "metadata": {},
   "source": [
    "### Ventanas"
   ]
  },
  {
   "cell_type": "code",
   "execution_count": 13,
   "metadata": {},
   "outputs": [
    {
     "data": {
      "text/plain": [
       "[2003,\n",
       " 2004,\n",
       " 2005,\n",
       " 2006,\n",
       " 2007,\n",
       " 2008,\n",
       " 2009,\n",
       " 2010,\n",
       " 2011,\n",
       " 2012,\n",
       " 2013,\n",
       " 2014,\n",
       " 2015,\n",
       " 2016,\n",
       " 2017,\n",
       " 2018,\n",
       " 2019,\n",
       " 2020]"
      ]
     },
     "execution_count": 13,
     "metadata": {},
     "output_type": "execute_result"
    }
   ],
   "source": [
    "years = list(np.arange(2003,2021))\n",
    "years"
   ]
  },
  {
   "cell_type": "markdown",
   "metadata": {},
   "source": [
    "___\n",
    "### Diseño Experimental\n",
    "- Utilizar 2 años para determinar la mejor combinación de parámetros\n",
    "- Utilizamos la mejor combinación en los 3 años posteriores para evaluar el rendimiento.\n",
    "\n",
    "Este enfoque más realista porque si tuvieramos que decidir **hoy** que parámetros elegir, \n",
    "podemos elegir la combinación del pasado, pero nuestro resultado real es el que conseguiríamos\n",
    "a partir de aquí en adelante"
   ]
  },
  {
   "cell_type": "code",
   "execution_count": 14,
   "metadata": {},
   "outputs": [
    {
     "name": "stdout",
     "output_type": "stream",
     "text": [
      "[2003, 2004] [2005, 2006, 2007]\n",
      "[2004, 2005] [2006, 2007, 2008]\n",
      "[2005, 2006] [2007, 2008, 2009]\n",
      "[2006, 2007] [2008, 2009, 2010]\n",
      "[2007, 2008] [2009, 2010, 2011]\n",
      "[2008, 2009] [2010, 2011, 2012]\n",
      "[2009, 2010] [2011, 2012, 2013]\n",
      "[2010, 2011] [2012, 2013, 2014]\n",
      "[2011, 2012] [2013, 2014, 2015]\n",
      "[2012, 2013] [2014, 2015, 2016]\n",
      "[2013, 2014] [2015, 2016, 2017]\n",
      "[2014, 2015] [2016, 2017, 2018]\n",
      "[2015, 2016] [2017, 2018, 2019]\n",
      "[2016, 2017] [2018, 2019, 2020]\n"
     ]
    }
   ],
   "source": [
    "# Separacion en años\n",
    "for i in range(len(years) - 4):\n",
    "    print(years[i:i+2], years[i+2:i+5])"
   ]
  },
  {
   "cell_type": "markdown",
   "metadata": {},
   "source": [
    "___\n",
    "Agregamos el paso de exploración.  En cada iteración determinamos el mejor conjunto de parámetros"
   ]
  },
  {
   "cell_type": "code",
   "execution_count": 15,
   "metadata": {},
   "outputs": [
    {
     "name": "stdout",
     "output_type": "stream",
     "text": [
      "[2003, 2004] : (20, 0.9, 0.3) 0.162\n",
      "[2004, 2005] : (30, 0.7, 0.1) 0.19\n",
      "[2005, 2006] : (20, 0.9, 0.3) 0.175\n",
      "[2006, 2007] : (20, 0.9, 0.2) 0.188\n",
      "[2007, 2008] : (50, 0.7, 0.3) 0.136\n",
      "[2008, 2009] : (30, 0.8, 0.2) 0.057\n",
      "[2009, 2010] : (30, 0.9, 0.3) 0.18\n",
      "[2010, 2011] : (30, 0.9, 0.3) 0.048\n",
      "[2011, 2012] : (20, 0.8, 0.1) -0.078\n",
      "[2012, 2013] : (20, 0.7, 0.3) 0.209\n",
      "[2013, 2014] : (20, 0.9, 0.1) 0.226\n",
      "[2014, 2015] : (30, 0.8, 0.2) 0.206\n",
      "[2015, 2016] : (50, 0.8, 0.2) 0.075\n",
      "[2016, 2017] : (50, 0.7, 0.2) 0.144\n"
     ]
    }
   ],
   "source": [
    "for i in range(len(years) - 4):\n",
    "    fityears = years[i:i+2]\n",
    "    fitseries = stock_series.loc[f'{fityears[0]}':f'{fityears[-1]}']\n",
    "    best_params, best_ret = explore_sto_params(combined_params, fitseries)\n",
    "    print(fityears, ':', best_params, np.round(best_ret,3))"
   ]
  },
  {
   "cell_type": "markdown",
   "metadata": {},
   "source": [
    "____\n",
    "incluimos la evaluación fuera de los años de ajuste"
   ]
  },
  {
   "cell_type": "code",
   "execution_count": 16,
   "metadata": {},
   "outputs": [
    {
     "name": "stdout",
     "output_type": "stream",
     "text": [
      "[2003, 2004] : (20, 0.9, 0.3) 0.162\n",
      "--> Test: [2005, 2006, 2007] (20, 0.9, 0.3) 0.156\n",
      "[2004, 2005] : (30, 0.7, 0.1) 0.19\n",
      "--> Test: [2006, 2007, 2008] (30, 0.7, 0.1) 0.024\n",
      "[2005, 2006] : (20, 0.9, 0.3) 0.175\n",
      "--> Test: [2007, 2008, 2009] (20, 0.9, 0.3) -0.021\n",
      "[2006, 2007] : (20, 0.9, 0.2) 0.188\n",
      "--> Test: [2008, 2009, 2010] (20, 0.9, 0.2) 0.059\n",
      "[2007, 2008] : (50, 0.7, 0.3) 0.136\n",
      "--> Test: [2009, 2010, 2011] (50, 0.7, 0.3) -0.021\n",
      "[2008, 2009] : (30, 0.8, 0.2) 0.057\n",
      "--> Test: [2010, 2011, 2012] (30, 0.8, 0.2) -0.05\n",
      "[2009, 2010] : (30, 0.9, 0.3) 0.18\n",
      "--> Test: [2011, 2012, 2013] (30, 0.9, 0.3) -0.124\n",
      "[2010, 2011] : (30, 0.9, 0.3) 0.048\n",
      "--> Test: [2012, 2013, 2014] (30, 0.9, 0.3) -0.032\n",
      "[2011, 2012] : (20, 0.8, 0.1) -0.078\n",
      "--> Test: [2013, 2014, 2015] (20, 0.8, 0.1) 0.11\n",
      "[2012, 2013] : (20, 0.7, 0.3) 0.209\n",
      "--> Test: [2014, 2015, 2016] (20, 0.7, 0.3) -0.023\n",
      "[2013, 2014] : (20, 0.9, 0.1) 0.226\n",
      "--> Test: [2015, 2016, 2017] (20, 0.9, 0.1) 0.018\n",
      "[2014, 2015] : (30, 0.8, 0.2) 0.206\n",
      "--> Test: [2016, 2017, 2018] (30, 0.8, 0.2) -0.099\n",
      "[2015, 2016] : (50, 0.8, 0.2) 0.075\n",
      "--> Test: [2017, 2018, 2019] (50, 0.8, 0.2) -0.008\n",
      "[2016, 2017] : (50, 0.7, 0.2) 0.144\n",
      "--> Test: [2018, 2019, 2020] (50, 0.7, 0.2) -0.123\n"
     ]
    }
   ],
   "source": [
    "fit_rets = []\n",
    "test_rets = []\n",
    "for i in range(len(years) - 4):\n",
    "    fityears = years[i:i+2]\n",
    "    fitseries = stock_series.loc[f'{fityears[0]}':f'{fityears[-1]}']\n",
    "   \n",
    "    best_params, best_ret = explore_sto_params(combined_params, fitseries)\n",
    "    print(fityears, ':', best_params,np.round(best_ret,3))\n",
    "    fit_rets.append(best_ret)\n",
    "\n",
    "    # Ejecutamos la funcion del backtesting para calcular resultado con los parametros seleccionados\n",
    "    testyears = years[i+2:i+5]\n",
    "    testseries = stock_series.loc[f'{testyears[0]}':f'{testyears[-1]}']\n",
    "    \n",
    "    w, b, s = best_params\n",
    "    test_ret = Sto.backtest_so_returns(testseries, win=w, obought=b, osold=s)\n",
    "    print(\"--> Test:\", testyears, best_params, np.round(test_ret,3))\n",
    "    test_rets.append(test_ret)"
   ]
  },
  {
   "cell_type": "markdown",
   "metadata": {},
   "source": [
    "____"
   ]
  },
  {
   "cell_type": "markdown",
   "metadata": {},
   "source": [
    "juntamos rendimientos para visualización"
   ]
  },
  {
   "cell_type": "code",
   "execution_count": 17,
   "metadata": {},
   "outputs": [
    {
     "data": {
      "text/plain": [
       "<matplotlib.axes._subplots.AxesSubplot at 0x19a4cbff700>"
      ]
     },
     "execution_count": 17,
     "metadata": {},
     "output_type": "execute_result"
    },
    {
     "data": {
      "image/png": "[encoded data removed]",
      "text/plain": [
       "<Figure size 432x288 with 1 Axes>"
      ]
     },
     "metadata": {
      "needs_background": "light"
     },
     "output_type": "display_data"
    }
   ],
   "source": [
    "df_rets = pd.DataFrame({\n",
    "    'fit': fit_rets,\n",
    "    'test': test_rets,\n",
    "})\n",
    "df_rets.plot()"
   ]
  },
  {
   "cell_type": "code",
   "execution_count": 18,
   "metadata": {},
   "outputs": [
    {
     "data": {
      "text/html": [
       "<div>\n",
       "<style scoped>\n",
       "    .dataframe tbody tr th:only-of-type {\n",
       "        vertical-align: middle;\n",
       "    }\n",
       "\n",
       "    .dataframe tbody tr th {\n",
       "        vertical-align: top;\n",
       "    }\n",
       "\n",
       "    .dataframe thead th {\n",
       "        text-align: right;\n",
       "    }\n",
       "</style>\n",
       "<table border=\"1\" class=\"dataframe\">\n",
       "  <thead>\n",
       "    <tr style=\"text-align: right;\">\n",
       "      <th></th>\n",
       "      <th>fit</th>\n",
       "      <th>test</th>\n",
       "    </tr>\n",
       "  </thead>\n",
       "  <tbody>\n",
       "    <tr>\n",
       "      <th>count</th>\n",
       "      <td>14.000000</td>\n",
       "      <td>14.000000</td>\n",
       "    </tr>\n",
       "    <tr>\n",
       "      <th>mean</th>\n",
       "      <td>0.137037</td>\n",
       "      <td>-0.009703</td>\n",
       "    </tr>\n",
       "    <tr>\n",
       "      <th>std</th>\n",
       "      <td>0.083856</td>\n",
       "      <td>0.080808</td>\n",
       "    </tr>\n",
       "    <tr>\n",
       "      <th>min</th>\n",
       "      <td>-0.077571</td>\n",
       "      <td>-0.124288</td>\n",
       "    </tr>\n",
       "    <tr>\n",
       "      <th>25%</th>\n",
       "      <td>0.090077</td>\n",
       "      <td>-0.045356</td>\n",
       "    </tr>\n",
       "    <tr>\n",
       "      <th>50%</th>\n",
       "      <td>0.168421</td>\n",
       "      <td>-0.021276</td>\n",
       "    </tr>\n",
       "    <tr>\n",
       "      <th>75%</th>\n",
       "      <td>0.189831</td>\n",
       "      <td>0.022075</td>\n",
       "    </tr>\n",
       "    <tr>\n",
       "      <th>max</th>\n",
       "      <td>0.225622</td>\n",
       "      <td>0.156127</td>\n",
       "    </tr>\n",
       "  </tbody>\n",
       "</table>\n",
       "</div>"
      ],
      "text/plain": [
       "             fit       test\n",
       "count  14.000000  14.000000\n",
       "mean    0.137037  -0.009703\n",
       "std     0.083856   0.080808\n",
       "min    -0.077571  -0.124288\n",
       "25%     0.090077  -0.045356\n",
       "50%     0.168421  -0.021276\n",
       "75%     0.189831   0.022075\n",
       "max     0.225622   0.156127"
      ]
     },
     "execution_count": 18,
     "metadata": {},
     "output_type": "execute_result"
    }
   ],
   "source": [
    "df_rets.describe()"
   ]
  },
  {
   "cell_type": "markdown",
   "metadata": {},
   "source": [
    "### Observaciones \n",
    "- El resultado muestra que la selección del mejor conjunto de parámetros produce sobre-ajuste\n",
    "- El rendimiento esperado es el que corresponde al período de prueba"
   ]
  },
  {
   "cell_type": "markdown",
   "metadata": {},
   "source": [
    "___\n",
    "### Ejercicios Propuestos\n",
    "- Determinar si el tamaño de la ventana de entrenamiento influye en la diferencia de rendimiento entre fit y test\n",
    "- Confirmar conclusiones utilizando otra serie de precios"
   ]
  },
  {
   "cell_type": "code",
   "execution_count": null,
   "metadata": {},
   "outputs": [],
   "source": []
  }
 ],
 "metadata": {
  "kernelspec": {
   "display_name": "Python 3",
   "language": "python",
   "name": "python3"
  },
  "language_info": {
   "codemirror_mode": {
    "name": "ipython",
    "version": 3
   },
   "file_extension": ".py",
   "mimetype": "text/x-python",
   "name": "python",
   "nbconvert_exporter": "python",
   "pygments_lexer": "ipython3",
   "version": "3.8.3"
  }
 },
 "nbformat": 4,
 "nbformat_minor": 4
}
