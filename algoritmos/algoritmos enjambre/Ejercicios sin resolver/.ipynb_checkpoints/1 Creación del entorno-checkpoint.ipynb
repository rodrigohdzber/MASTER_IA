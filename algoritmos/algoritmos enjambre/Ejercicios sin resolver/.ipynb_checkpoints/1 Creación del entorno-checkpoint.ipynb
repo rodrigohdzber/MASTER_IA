{
 "cells": [
  {
   "cell_type": "code",
   "execution_count": 1,
   "metadata": {},
   "outputs": [],
   "source": [
    "import pandas as pd\n",
    "import numpy as np\n",
    "import random\n",
    "import matplotlib.pyplot as plt\n",
    "from IPython.display import clear_output\n",
    "import time\n",
    "import PySimpleGUI as sg \n",
    "import easygui"
   ]
  },
  {
   "cell_type": "code",
   "execution_count": 6,
   "metadata": {},
   "outputs": [],
   "source": [
    "def pinta_laberinto(laberinto, matriz, mostrar = False):\n",
    "       \n",
    "    clear_output(wait=True)\n",
    "    plt.figure(figsize = (laberinto.shape[0]/2.5, laberinto.shape[1]/2.5))\n",
    "    plt.imshow(laberinto, cmap='hot')\n",
    "    plt.show()\n",
    "        "
   ]
  },
  {
   "cell_type": "code",
   "execution_count": 7,
   "metadata": {},
   "outputs": [],
   "source": [
    "def tamaño_laberinto():\n",
    "\n",
    "    layout = [[sg.Text(\"¿Cómo quieres de alto el laberinto? \\n \\nPrueba con 50, por ejemplo\")],    \n",
    "              [sg.Input()],\n",
    "              [sg.Button('Ok')] ]   \n",
    "    sg.theme('Reddit')\n",
    "    window = sg.Window('Selección de alto ', layout, finalize = True)\n",
    "    window.BringToFront()\n",
    "    event, alto = window.read()\n",
    "    window.close()\n",
    "        \n",
    "    layout = [[sg.Text(\"¿Cómo quieres de ancho el laberinto? \\n \\nPrueba con 100, por ejemplo\")],    \n",
    "              [sg.Input()],\n",
    "              [sg.Button('Ok')] ]    \n",
    "    sg.theme('Reddit')\n",
    "    window = sg.Window('Selección de ancho ', layout, finalize = True)\n",
    "    window.BringToFront()\n",
    "    event, ancho = window.read()\n",
    "    window.close()\n",
    "    \n",
    "    try:\n",
    "    \n",
    "        alto = int(alto[0])\n",
    "        ancho = int(ancho[0])\n",
    "        \n",
    "    except:\n",
    "        \n",
    "        print(\"Debes indicar un número para el tamaño\")\n",
    "        alto, ancho = tamaño_laberinto()\n",
    "    \n",
    "    return alto, ancho"
   ]
  },
  {
   "cell_type": "code",
   "execution_count": 8,
   "metadata": {},
   "outputs": [],
   "source": [
    "def construye_laberinto(muro = 0, pasillo = 10, hormiguero = 5, comida = 7):\n",
    "\n",
    "    '''\n",
    "    Lo primero que debemos hacer es construir un entorno en el que podamos poder a prueba la colonia de hormigas\n",
    "    Este punto es muy importante. La manera en la que construyamos el laberinto puede hacer que sea muy fácil de resolver (solo haya una solución)\n",
    "    Queremos generar laberintos aleatorios que puedan tener entre 0 y N soluciones\n",
    "    Por otro lado, el cómo hagamos los caminos puede derivar en \"rotondas\" o \"plazas\" \n",
    "    En estas rotondas o plazas será donde la hormiga tendrá más dificultad a la hora de orientarse\n",
    "    \n",
    "    '''\n",
    "\n",
    "    alto, ancho = tamaño_laberinto()\n",
    "    laberinto = np.zeros((alto, ancho))\n",
    "    \n",
    "    # Construimos los caminos del laberinto\n",
    "    for camino in range(XXXXXXX):\n",
    "        \n",
    "        # Posición inicial del camino nuevo\n",
    "        XXXXXXX\n",
    "\n",
    "        # A partir de la posición inicial, comenzamos a \"tirar muros\"\n",
    "        # Condiciones de parada: que llegue a un pasillo o al muro exterior    \n",
    "\n",
    "        XXXXXXX\n",
    "    \n",
    "    # La última posición será la comida\n",
    "    laberinto[fila, columna] = comida\n",
    "       \n",
    "    # La relación entre la feromona inicial y la feromono depositada (en función a la distancia) debe estar en perfecto equilibrio o el enjambre no funcionará\n",
    "    feromona_inicial = 1\n",
    "\n",
    "    # Depositamos la feromona inicial en todas las casillas que no sean muros\n",
    "    matriz_feromonas = np.zeros((laberinto.shape[0], laberinto.shape[1]))\n",
    "    matriz_feromonas[laberinto != muro] = feromona_inicial\n",
    "    \n",
    "    # Depositamos una feromona muy alta en la comida, para que si pasan a su lado, la vean.\n",
    "    matriz_feromonas[laberinto == comida] = feromona_inicial*1000\n",
    "    \n",
    "    # Por último, pintamos el laberinto terminado\n",
    "    pinta_laberinto(laberinto, matriz= matriz_feromonas, mostrar = False)\n",
    "    \n",
    "    # Creamos una matriz_fiel para la hormiga fiel\n",
    "    matriz_fiel = np.copy(laberinto)\n",
    "    matriz_fiel[laberinto == muro] = 1000\n",
    "    matriz_fiel[laberinto == pasillo] = 1000\n",
    "    matriz_fiel[laberinto == hormiguero] = 1000\n",
    "    matriz_fiel[laberinto == comida] = 0\n",
    "    \n",
    "    return laberinto, matriz_feromonas, matriz_fiel"
   ]
  },
  {
   "cell_type": "markdown",
   "metadata": {},
   "source": [
    "## Ejecutamos el programa"
   ]
  },
  {
   "cell_type": "code",
   "execution_count": 9,
   "metadata": {},
   "outputs": [
    {
     "data": {
      "image/png": "[encoded data removed]",
      "text/plain": [
       "<Figure size 1440x2880 with 1 Axes>"
      ]
     },
     "metadata": {
      "needs_background": "light"
     },
     "output_type": "display_data"
    }
   ],
   "source": [
    "muro = 0\n",
    "pasillo = 10\n",
    "hormiguero = 5\n",
    "comida = 7\n",
    "hormiga = 2\n",
    "\n",
    "# Construimos el laberinto y depositamos las feromonas iniciales\n",
    "laberinto, matriz_feromonas, matriz_fiel = construye_laberinto(muro = muro, pasillo = pasillo, hormiguero = hormiguero, comida = comida)\n",
    "    "
   ]
  }
 ],
 "metadata": {
  "kernelspec": {
   "display_name": "Python 3",
   "language": "python",
   "name": "python3"
  },
  "language_info": {
   "codemirror_mode": {
    "name": "ipython",
    "version": 3
   },
   "file_extension": ".py",
   "mimetype": "text/x-python",
   "name": "python",
   "nbconvert_exporter": "python",
   "pygments_lexer": "ipython3",
   "version": "3.8.3"
  }
 },
 "nbformat": 4,
 "nbformat_minor": 4
}
