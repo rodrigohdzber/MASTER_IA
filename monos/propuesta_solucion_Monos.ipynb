{
 "cells": [
  {
   "cell_type": "markdown",
   "metadata": {},
   "source": [
    "# Resumen del ejercicio"
   ]
  },
  {
   "cell_type": "markdown",
   "metadata": {},
   "source": [
    "En el ejercicio se va a seguir los siguientes pasos:\n",
    "- **Tratamiento de datos:** Fase inicial en la que se cargan los datos del pickle y se construye un dataframe consistente sobre el que se trabajara durante todo el ejercicio.\n",
    "- **Funciones Auxiliares:** Se ha definido las funciones auxiliares de Sharpe, Alpha de Jensen y Markowitz.\n",
    "- **Funciones del ejercicio:** Funciones que realiza la simulacion de los monos, en ella se diferencia los monos que saben hacer Sharpe, Aleatorios, Alpha de Jensen y Markowitz (se explicará el proceso completo).\n",
    "- **Ejemplo de la primera inversion de los monos:** Se relizará una simulacion de N monos sin capacidad de reinvertir para ver los resultados que obtenemos.\n",
    "- **Ejemplo de la primera reinversion de los monos:** Se realizará la primera reinversión de los N monos que cumplan las restricciones establecidas en el ejercicio y se observará el resultado que sale.\n",
    "- **Problema completo:** Se realizará una primera inversión de los monos, luego se reinvertirá hasta que no queden monos por reinvertir.\n",
    "\n",
    "En cada punto se explicará con detalle todos los procesos seguidos y se mostrará el resultado.\n",
    "\n",
    "En el punto final se saca una serie de conclusiones del ejercicio voluntario."
   ]
  },
  {
   "cell_type": "markdown",
   "metadata": {},
   "source": [
    "---"
   ]
  },
  {
   "cell_type": "markdown",
   "metadata": {},
   "source": [
    "# Importación de funciones"
   ]
  },
  {
   "cell_type": "markdown",
   "metadata": {},
   "source": [
    "Importamos las librerias que vamos a usar a lo largo de nuestro ejercicio:"
   ]
  },
  {
   "cell_type": "code",
   "execution_count": 1,
   "metadata": {},
   "outputs": [],
   "source": [
    "import numpy as np\n",
    "import pandas as pd\n",
    "import pickle\n",
    "import random\n",
    "import datetime as dt\n",
    "from time import process_time\n",
    "import multiprocessing as mp\n",
    "from multiprocessing import Pool\n",
    "import funcionesAuxiliares as funciones\n",
    "from tqdm import tqdm"
   ]
  },
  {
   "cell_type": "markdown",
   "metadata": {},
   "source": [
    "---"
   ]
  },
  {
   "cell_type": "markdown",
   "metadata": {},
   "source": [
    "# Tratamiento datos"
   ]
  },
  {
   "cell_type": "markdown",
   "metadata": {},
   "source": [
    "Lo primero que hacemos es leer el archivo *.pichle para ello:\n",
    "- Se abre el fichero en modo lectura 'rb'.\n",
    "- Se carga el fichero en la variable lista_fichero.\n",
    "- Se cierra el fichero."
   ]
  },
  {
   "cell_type": "code",
   "execution_count": 2,
   "metadata": {},
   "outputs": [],
   "source": [
    "fichero = open('navs.pickle','rb')\n",
    "# Cargamos los datos del fichero\n",
    "lista_fichero = pickle.load(fichero)\n",
    "#Cerramos\n",
    "fichero.close()"
   ]
  },
  {
   "cell_type": "markdown",
   "metadata": {},
   "source": [
    "Cargamos el maestro de valores con pd.read_csv"
   ]
  },
  {
   "cell_type": "code",
   "execution_count": 3,
   "metadata": {},
   "outputs": [],
   "source": [
    "maestroValores = pd.read_csv('maestro.csv')"
   ]
  },
  {
   "cell_type": "markdown",
   "metadata": {},
   "source": [
    "Conseguimos todos los identificadores de allfunds_id del maestro de valores y declaramos el vector de fechas (el cual se contempla desde 05/01/2016 y 16/07/2021)."
   ]
  },
  {
   "cell_type": "code",
   "execution_count": 4,
   "metadata": {},
   "outputs": [],
   "source": [
    "identificadores = maestroValores.loc[:,'allfunds_id']\n",
    "fechas = pd.date_range(start=\"2016-01-05\",end='2021-07-16', freq='B')"
   ]
  },
  {
   "cell_type": "markdown",
   "metadata": {},
   "source": [
    "Creamos un dataframe vacio para que se vaya rellenando con la información proporcionada por el archivo navs.pickle."
   ]
  },
  {
   "cell_type": "code",
   "execution_count": 5,
   "metadata": {},
   "outputs": [],
   "source": [
    "dataframeCompleto = pd.DataFrame(np.zeros((fechas.shape[0], identificadores.shape[0])),index=fechas,columns=identificadores)"
   ]
  },
  {
   "cell_type": "markdown",
   "metadata": {},
   "source": [
    "Rellenamos el dataframe"
   ]
  },
  {
   "cell_type": "code",
   "execution_count": 6,
   "metadata": {},
   "outputs": [],
   "source": [
    "for allfunds_id in lista_fichero.keys():\n",
    "    dataframeCompleto.loc[:,allfunds_id] = lista_fichero[allfunds_id].nav"
   ]
  },
  {
   "cell_type": "markdown",
   "metadata": {},
   "source": [
    "Tomamos aquellos fondos los cuales tengan MENOS de 100 datos con NA, posteriormente rellenamos los datos que tienen NA y obtenemos un dataframe con información completa."
   ]
  },
  {
   "cell_type": "code",
   "execution_count": 7,
   "metadata": {},
   "outputs": [],
   "source": [
    "dataframeCompleto = dataframeCompleto.loc[:,dataframeCompleto.isna().sum(axis=0)<100]\n",
    "dataframeCompleto = dataframeCompleto.fillna(method = 'ffill')\n",
    "dataframeCompleto = dataframeCompleto.fillna(method = 'bfill')"
   ]
  },
  {
   "cell_type": "markdown",
   "metadata": {},
   "source": [
    "Quitamos aquellos fondos que tienen nav 0 en todas sus fechas ya que me di cuenta que había unos pocos."
   ]
  },
  {
   "cell_type": "code",
   "execution_count": 8,
   "metadata": {},
   "outputs": [],
   "source": [
    "fondosSinRegistro = dataframeCompleto.columns[dataframeCompleto.sum(axis=0)==0]\n",
    "dataframeCompleto=dataframeCompleto.drop(fondosSinRegistro, axis=1)\n",
    "dataframeCompletoValores = dataframeCompleto.values"
   ]
  },
  {
   "cell_type": "markdown",
   "metadata": {},
   "source": [
    "Cargamos el archivo MSCI para poder realizar el alpha de jensen."
   ]
  },
  {
   "cell_type": "code",
   "execution_count": 9,
   "metadata": {},
   "outputs": [],
   "source": [
    "MSCI = pd.read_csv('MSCI.csv', sep=\";\",index_col=0, parse_dates=True,nrows=dataframeCompleto.shape[0])\n",
    "MSCI = MSCI.fillna(method = 'ffill')"
   ]
  },
  {
   "cell_type": "markdown",
   "metadata": {},
   "source": [
    "Cargamos el numero de procesadores para realizar la ejecución en pararalelo"
   ]
  },
  {
   "cell_type": "code",
   "execution_count": 10,
   "metadata": {},
   "outputs": [],
   "source": [
    "num_processors = mp.cpu_count()\n",
    "p = Pool(processes = num_processors)"
   ]
  },
  {
   "cell_type": "markdown",
   "metadata": {},
   "source": [
    "Una vez cargado los datos estamos en disposición de comenzar con el ejercicio."
   ]
  },
  {
   "cell_type": "markdown",
   "metadata": {},
   "source": [
    "---"
   ]
  },
  {
   "cell_type": "markdown",
   "metadata": {},
   "source": [
    "# Funciones Auxiliares"
   ]
  },
  {
   "cell_type": "markdown",
   "metadata": {},
   "source": [
    "Aquí se muestran las funciones auxiliares que se han usado a la hora de dotar de habilidades a los monos:"
   ]
  },
  {
   "cell_type": "markdown",
   "metadata": {},
   "source": [
    "### Sharpe"
   ]
  },
  {
   "cell_type": "code",
   "execution_count": 11,
   "metadata": {},
   "outputs": [
    {
     "name": "stdout",
     "output_type": "stream",
     "text": [
      "Help on function sharpeFunction in module funcionesAuxiliares:\n",
      "\n",
      "sharpeFunction(dataframe, ventana)\n",
      "    Función que calcula el ratio de sharpe para todos los activos y para todas las fechas con una ventana movil pasada como parámetro. \n",
      "    Dicha ratio de sharpe se calcula de la siguiente forma:\n",
      "    ratioSharpe = Rentabilidad_cartera / volatilidad \n",
      "    \n",
      "    El ratio de sharpe es una medida que representa la rentabilidad-riesgo\n",
      "    \n",
      "    Parameters\n",
      "    ----------\n",
      "    dataframe: Dataframe con todas las cotizaciones de los activos sobre los cuales se va a realizar el ratio de sharpe\n",
      "    ventana: ventana movil usada para el cálculo del ratio de sharpe\n",
      "    \n",
      "    Returns\n",
      "    -------\n",
      "    Se devuelve un dataframe del ratio de sharpe para cada dia y cada activo.\n",
      "\n"
     ]
    }
   ],
   "source": [
    "help(funciones.sharpeFunction)"
   ]
  },
  {
   "cell_type": "markdown",
   "metadata": {},
   "source": [
    "### Alpha de Jensen"
   ]
  },
  {
   "cell_type": "code",
   "execution_count": 12,
   "metadata": {},
   "outputs": [
    {
     "name": "stdout",
     "output_type": "stream",
     "text": [
      "Help on function alpha_jensen in module funcionesAuxiliares:\n",
      "\n",
      "alpha_jensen(activos, datosMSCI, ventana)\n",
      "    Función que calcula el Alpha de Jensen para todos los activos y para todas las fechas con una ventana movil pasada como parámetro. \n",
      "    Dicha alpha de jensen se calcula de la siguiente forma:\n",
      "    α=Rentabilidad_cartera-(Rentabildad_activo_libre_riesgo+ β (Rentabilidad_mercado- Rentabildad_activo_libre_riesgo))\n",
      "    β= covarianza (Rentabilidad_cartera, Rentabilidad_mercado) / varianza (Rentabilidad_mercado)\n",
      "    \n",
      "    El alfa de Jensen es una medida de calidad sobre la gestión realizada (ya sea en un fondo, cartera de activos, o una única empresa). \n",
      "    Indica el exceso de rentabilidad obtenida para un nivel de riesgo determinado. \n",
      "    El Alfa explica la diferencia entre la rentabilidad esperada, es decir, la que corresponde al riesgo sistemático asumido, \n",
      "    y la realmente obtenida por el gestor. En función de que el gestor supere, iguale o esté por debajo \n",
      "    del rendimiento esperado tendrá un Alfa positivo, neutro o negativo.\n",
      "    \n",
      "    Parameters\n",
      "    ----------\n",
      "    activos: Dataframe con todas las cotizaciones de los activos sobre los cuales se va a realizar el alpha de jensen\n",
      "    datosMSCI: Dataframe con los datos del índice sobre el cual se va calcular el alpha de jensen.\n",
      "    ventana: ventana movil usada para el cálculo del alpha de jensen\n",
      "    \n",
      "    Returns\n",
      "    -------\n",
      "    Se devuelve un data frame del alpha de jensen para cada dia y cada activo.\n",
      "\n"
     ]
    }
   ],
   "source": [
    "help(funciones.alpha_jensen)"
   ]
  },
  {
   "cell_type": "markdown",
   "metadata": {},
   "source": [
    "### Markowitz"
   ]
  },
  {
   "cell_type": "code",
   "execution_count": 13,
   "metadata": {},
   "outputs": [
    {
     "name": "stdout",
     "output_type": "stream",
     "text": [
      "Help on function markowitz in module funcionesAuxiliares:\n",
      "\n",
      "markowitz(retornos, nfondos, num_simulations=100)\n",
      "    Funcion que realiza la frontera eficiente de markowitz a partir de un dataframe retornos.\n",
      "    Dicha funcion de markowitz lo que realiza es encontrar los pesos de la cartera que me proporciona la mejor cartera rentabilidad-riesgo basado en el ratio de sharpe.\n",
      "    Esta funcion lo que realiza los siguientes pasos:\n",
      "        - Pesos aleatorios asignados a cada instrumento pasado en la lista\n",
      "        - Normalizacion de los pesos aleatorios para asegurar que suma 100%\n",
      "        - Calculamos la rentabilidad de la cartera a partir de esos peso aleatorios normalizados\n",
      "        - Calculamos el riesgo de la cartera usando la matriz de covarianza multiplicado por los vectores normalizados.\n",
      "        - Veo la eficiencia de la cartera rentabilidad/riesgo\n",
      "        - Realizo el numero de simulaciones correspondientes y elijo los mejores pesos que me dan la mejor rentabilidad/riesgo\n",
      "    \n",
      "    Parameters\n",
      "    ----------\n",
      "    Los parametros de entrada son:\n",
      "        retornos: dataframe de rendimientos de los activos por fecha\n",
      "        nfondos: numero de fondos que hay en el dataframe retornos para calcular markowitz\n",
      "        num_sumulations: numero de simulaciones para realizar la frontera\n",
      "    \n",
      "    Returns\n",
      "    ----------\n",
      "    Los parametros de salida son:\n",
      "        - best_portfolio: mejor combinacion de pesos en cuanto a rentabilidad/precio\n",
      "\n"
     ]
    }
   ],
   "source": [
    "help(funciones.markowitz)"
   ]
  },
  {
   "cell_type": "markdown",
   "metadata": {},
   "source": [
    "---"
   ]
  },
  {
   "cell_type": "markdown",
   "metadata": {},
   "source": [
    "# Funciones del ejercicio"
   ]
  },
  {
   "cell_type": "markdown",
   "metadata": {},
   "source": [
    "### Funcion que asigna a cada mono una habilidad"
   ]
  },
  {
   "cell_type": "markdown",
   "metadata": {},
   "source": [
    "En esta función se crea un dataframe a partir de un parámetro numero monos (dimension del dataframe) en el cual se le asigna aleatoriamente una habilidad entre Aleatorio, Markowitz, Sharpe y AlphaJensen "
   ]
  },
  {
   "cell_type": "code",
   "execution_count": 14,
   "metadata": {},
   "outputs": [],
   "source": [
    "def asignacionAleatoriaDeFormaDeInvertirParaMonos(numeroMonos):\n",
    "    # Definimos los posibles modelos\n",
    "    modelosPosibles =['Aleatorio', 'Markowitz', 'Sharpe', 'AlphaJensen']\n",
    "    \n",
    "    # Creamos un diccionario con la asignación aleatorioa\n",
    "    diccionarioModelos = {'modeloMono': random.choices(population = modelosPosibles, k = numeroMonos)}\n",
    "    \n",
    "    # Creamos el dataframe\n",
    "    modelos = pd.DataFrame(diccionarioModelos)\n",
    "    \n",
    "    # Devolvemos\n",
    "    return modelos"
   ]
  },
  {
   "cell_type": "markdown",
   "metadata": {},
   "source": [
    "### Funcion que asigna el numero de fondos con el que trabaja cada mono"
   ]
  },
  {
   "cell_type": "markdown",
   "metadata": {},
   "source": [
    "Funcion que asigna aleatoriamente el numero de fondos en los que invierte cada mono a partir de dos parámetros (numeroMinimoFondos,numeroMaximoFondos)"
   ]
  },
  {
   "cell_type": "code",
   "execution_count": 15,
   "metadata": {},
   "outputs": [],
   "source": [
    "def asignacionAleatoriaDeNumeroFondosParaMonos(dataframeMonos, numeroMinimoFondos,numeroMaximoFondos):\n",
    "    # Asignacion aleatoria del numero de fondos que invierte cada mono\n",
    "    dataframeMonos['numeroFondos'] = random.choices(population = range(numeroMinimoFondos,numeroMaximoFondos), k = dataframeMonos.shape[0])\n",
    "    \n",
    "    # Devolvemos\n",
    "    return dataframeMonos"
   ]
  },
  {
   "cell_type": "markdown",
   "metadata": {},
   "source": [
    "### Funcion que consigue las rentabilidades obtenidas por cada mono"
   ]
  },
  {
   "cell_type": "markdown",
   "metadata": {},
   "source": [
    "**Posiblemente es la función mas importante del ejercicio** que se explicara detalladamente lo que hace en cada linea, en resumen es lo siguiente:\n",
    "- Se separa el dataframe en 4 dataframe diferentes:\n",
    "    - Dataframe de los monos que tienen la habilidad de invertir aleatoriamente.\n",
    "    - Dataframe de los monos que tienen la habilidad de invertir segun el alpha.\n",
    "    - Dataframe de los monos que tienen la habilidad de invertir segun sharpe.\n",
    "    - Dataframe de los monos que tienen la habilidad de invertir segun markowitz.\n",
    "    \n",
    "- Elección de los fondos según la habilidad del mono:\n",
    "    - Elección de fondos aleatoriamente: monos con habilidad de invertir aleatoriamente y monos que tienen la habilidad de invertir segun markowitz.\n",
    "    - Elección de fondos segun parámetros: alpha y sharpe.\n",
    "    \n",
    "- Elección de los pesos según la habilidad del mono:\n",
    "    - Elección aleatoria de los pesos: alpha, sharpe y aleatorio.\n",
    "    - Elección segun markowitz.\n",
    "    \n",
    "- Calculo de la rentabilidad:\n",
    "    - Con los pesos y los fondos seleccionados para cada mono (aparte de las fechas de compra y venta) se puede conseguir la rentabilidad de cada mono."
   ]
  },
  {
   "cell_type": "code",
   "execution_count": 16,
   "metadata": {},
   "outputs": [],
   "source": [
    "def rentabilidadDeCadaMonoBueno(dataframeCompleto, dataframeCompletoValores, dataframeMonos, fechasAleat, fechasCompra, ventanaSharpe,ventanaAlpha, ventanaMark, serieAleat, sharpeData, alphaData,renAct):\n",
    "    \n",
    "    tiempo = process_time()\n",
    "    \n",
    "    # Conseguimos los dataframes separados para cada tipologia de habilidad del mono\n",
    "    dataframeAleatorio = dataframeMonos[dataframeMonos.modeloMono=='Aleatorio'] # Aleatorio\n",
    "    dataframeAlpha = dataframeMonos[dataframeMonos.modeloMono=='AlphaJensen']   # Alpha\n",
    "    dataframeMarkowitz = dataframeMonos[dataframeMonos.modeloMono=='Markowitz'] # Markowitz\n",
    "    dataframeSharpe = dataframeMonos[dataframeMonos.modeloMono=='Sharpe']       # Sharpe\n",
    "    \n",
    "    # inicializamos las varibles\n",
    "    fondos = []\n",
    "    pesos = []\n",
    "    \n",
    "    #print(\"Inicio:\",process_time()-tiempo)\n",
    "    tiempo = process_time()\n",
    "    \n",
    "    ###########################################################\n",
    "    # Si el mono tiene la habilidad de invertir aleatoriamente\n",
    "    ###########################################################\n",
    "    if dataframeAleatorio.shape[0]>0:\n",
    "        #-------------------------------------------------------------\n",
    "        # Conseguimos los fondos sobre los que va a invertir el mono\n",
    "        #-------------------------------------------------------------\n",
    "        # Posiciones de los fondos que voy a elegir aleatoriamente\n",
    "        posicionesDeFondosAleatorios = np.random.choice(range(0,dataframeCompleto.shape[1]-1),(dataframeAleatorio.shape[0],dataframeAleatorio.numeroFondos.max()))\n",
    "        # Me quedo con el numero de fondos correspondientes de cada mono\n",
    "        fondosAleatorios = [aleatorios[0:nfondo] for aleatorios,nfondo in zip(posicionesDeFondosAleatorios,dataframeAleatorio.numeroFondos.values)]\n",
    "        # Lo añado a la lista de fondos\n",
    "        fondos += fondosAleatorios\n",
    "        \n",
    "        #-------------------------------------------------------------\n",
    "        # Conseguimos los pesos que le asigno a cada fondo\n",
    "        #-------------------------------------------------------------\n",
    "        # Genero pesos aleatorios \n",
    "        pesosAleatorios = np.random.randint(1,100,(dataframeAleatorio.shape[0],dataframeAleatorio.numeroFondos.max()))/100\n",
    "        # Obtengo los pesos aleatorios correspondientes al numero de fondos que elige cada mono\n",
    "        pesosAleatorios = [pesos[0:nfondo] for pesos,nfondo in zip(pesosAleatorios,dataframeAleatorio.numeroFondos.values)]\n",
    "        # Los normalizo\n",
    "        pesosAleatorios = [peso/sum(peso) for peso in pesosAleatorios]\n",
    "        # Lo añado a la lista de pesos\n",
    "        pesos += pesosAleatorios\n",
    "    #print(\"Aleat:\",process_time()-tiempo)   \n",
    "    tiempo = process_time()\n",
    "    \n",
    "    ###########################################################\n",
    "    # Si el mono tiene la habilidad de invertir segun alpha\n",
    "    ###########################################################v\n",
    "    if dataframeAlpha.shape[0]>0:  \n",
    "        #-------------------------------------------------------------\n",
    "        # Conseguimos los fondos sobre los que va a invertir el mono\n",
    "        #-------------------------------------------------------------\n",
    "        # Obtengo la posicion de la fila que corresponde a las fechas de compra\n",
    "        fechasCompraAlpha = fechasCompra[dataframeAlpha.index].values\n",
    "        # Obtengo los mejores N alphas a una fecha ya que alphaData viene ordenado por alpha\n",
    "        # ----\n",
    "        # No realizo la comporbación de que tenga Alpha positiva en relación con el MSCI ya que el numero de fondos que paso como parámetros como maximo siempre son mayores que 0 (estudio realizado)\n",
    "        # ----\n",
    "        fondosAlpha = [alphaData[fecha][-nfondo:] for fecha,nfondo in zip(fechasCompraAlpha,dataframeAlpha.numeroFondos.values)]\n",
    "        # Lo añado a la lista de fondos\n",
    "        fondos += fondosAlpha\n",
    "    \n",
    "        #-------------------------------------------------------------\n",
    "        # Conseguimos los pesos que le asigno a cada fondo\n",
    "        #-------------------------------------------------------------\n",
    "        # Genero pesos aleatorios \n",
    "        pesosAlpha = np.random.randint(1,100,(dataframeAlpha.shape[0],dataframeAlpha.numeroFondos.max()))/100\n",
    "        # Obtengo los pesos aleatorios correspondientes al numero de fondos que elige cada mono\n",
    "        pesosAlpha = [pesos[0:nfondo] for pesos,nfondo in zip(pesosAlpha,dataframeAlpha.numeroFondos.values)]\n",
    "        # Los normalizo\n",
    "        pesosAlpha = [peso/sum(peso) for peso in pesosAlpha]\n",
    "        # Lo añado a la lista de pesos\n",
    "        pesos += pesosAlpha\n",
    "    #print(\"Alpha:\",process_time()-tiempo)\n",
    "    tiempo = process_time()\n",
    "    \n",
    "    ###########################################################\n",
    "    # Si el mono tiene la habilidad de invertir segun markowitz\n",
    "    ###########################################################\n",
    "    if dataframeMarkowitz.shape[0]>0: \n",
    "        #-------------------------------------------------------------\n",
    "        # Conseguimos los fondos sobre los que va a invertir el mono\n",
    "        #-------------------------------------------------------------\n",
    "        # Posiciones de los fondos que voy a elegir aleatoriamente\n",
    "        posicionesDeFondosMarkowitz = np.random.choice(range(0,dataframeCompleto.shape[1]-1),(dataframeMarkowitz.shape[0],dataframeMarkowitz.numeroFondos.max()))\n",
    "        # Me quedo con el numero de fondos correspondientes de cada mono\n",
    "        fondosMarkowitz = [aleatorios[0:nfondo] for aleatorios,nfondo in zip(posicionesDeFondosMarkowitz,dataframeMarkowitz.numeroFondos.values)]\n",
    "        # Lo añado a la lista de fondos\n",
    "        fondos += fondosMarkowitz\n",
    "    \n",
    "        #-------------------------------------------------------------\n",
    "        # Conseguimos los pesos que le asigno a cada fondo\n",
    "        #-------------------------------------------------------------\n",
    "        #print(\"mark1:\",process_time()-tiempo)\n",
    "        tiempo = process_time()\n",
    "        # Obtengo las fechas de compra (posicion de la fecha) de los monos markowitz\n",
    "        fechasCompraMarkowitz = fechasCompra[dataframeMarkowitz.index].values\n",
    "        \n",
    "        # Obtengo una lista de los parametros (rentabilidades a un año a partir de una fecha, numero de fondos)\n",
    "        listaDatosMark = [[renAct[str(fecha)][np.ix_(listafund)].T,listafund.shape[0]] for fecha,listafund in zip(fechasCompraMarkowitz,fondosMarkowitz)]\n",
    "        \n",
    "        #print(\"mark2:\",process_time()-tiempo)\n",
    "        tiempo = process_time()\n",
    "        # Se le pasa los parametros a markowitz y se realiza una ejecución en paralelo\n",
    "        pesosMarkowitz = p.starmap(funciones.markowitz,listaDatosMark)\n",
    "        \n",
    "        # Lo añado a la lista de pesos\n",
    "        pesos += pesosMarkowitz\n",
    "    #print(\"Marktotal:\",process_time()-tiempo)\n",
    "    tiempo = process_time()\n",
    "    \n",
    "    ###########################################################\n",
    "    # Si el mono tiene la habilidad de invertir segun sharpe\n",
    "    ###########################################################\n",
    "    if dataframeSharpe.shape[0]>0: \n",
    "        #-------------------------------------------------------------\n",
    "        # Conseguimos los fondos sobre los que va a invertir el mono\n",
    "        #-------------------------------------------------------------\n",
    "        # Obtengo la posicion de la fila que corresponde a las fechas de compra\n",
    "        fechasCompraSharpe = fechasCompra[dataframeSharpe.index].values\n",
    "        # Obtengo los mejores N sharpes a una fecha ya que sharpeData viene ordenado por sharpes\n",
    "        # ----\n",
    "        # No realizo la comporbación de que sea positivo aleatorio entre 0 y 2 ya que el numero de fondos que paso como parámetros como maximo siempre son mayores que 2 (estudio realizado)\n",
    "        # ----\n",
    "        fondosSharpe = [sharpeData[fecha][-nfondo:]  for fecha,nfondo in zip(fechasCompraSharpe,dataframeSharpe.numeroFondos.values)]\n",
    "        # Lo añado a la lista de fondos\n",
    "        fondos += fondosSharpe\n",
    "        \n",
    "        #-------------------------------------------------------------\n",
    "        # Conseguimos los pesos que le asigno a cada fondo\n",
    "        #-------------------------------------------------------------\n",
    "        # Genero pesos aleatorios \n",
    "        pesosSharpe = np.random.randint(1,100,(dataframeSharpe.shape[0],dataframeSharpe.numeroFondos.max()))/100\n",
    "        # Obtengo los pesos aleatorios correspondientes al numero de fondos que elige cada mono\n",
    "        pesosSharpe = [pesos[0:nfondo] for pesos,nfondo in zip(pesosSharpe,dataframeSharpe.numeroFondos.values)]\n",
    "        # Los normalizo\n",
    "        pesosSharpe = [peso/sum(peso) for peso in pesosSharpe]\n",
    "        # Lo añado a la lista de pesos\n",
    "        pesos += pesosSharpe \n",
    "    #print(\"sharpe:\", process_time()-tiempo)\n",
    "    # rentabilidad\n",
    "    rentabilidad = [(np.log(dataframeCompletoValores[fechaVenta,fondo]/dataframeCompletoValores[fechacompra,fondo])*peso).sum() for peso,fondo,fechaVenta,fechacompra in zip(pesos,fondos,fechasAleat,fechasCompra)]\n",
    "    dataframeMonos['rentabilidadMono'] = rentabilidad\n",
    "    \n",
    "    return dataframeMonos"
   ]
  },
  {
   "cell_type": "markdown",
   "metadata": {},
   "source": [
    "Función que obtiene la fecha de compra y de venta de cada mono:\n",
    "- Si es la primera vez que se lanza se elige una fecha comun para todos 2017-02-01\n",
    "- Si es la segunda vez que entra (reinversión) se asigna la fecha de compra la fecha de venta anterior\n",
    "- Todos venden en una fehca aleatoria 3 meses despues de la compra (exigir al mono que tenga 3 meses los fondos)"
   ]
  },
  {
   "cell_type": "code",
   "execution_count": 17,
   "metadata": {},
   "outputs": [],
   "source": [
    "def consigueListaDeFechaCompraYFechaVentaDeCadaMono(dataframeMonos, fechasAleat, fechas, inicio=True):\n",
    "    if inicio == True:\n",
    "        #Primera fase\n",
    "        dataframeMonos['fechaCompra']='2017-02-01'\n",
    "        # Fechas de ventas aleatorias\n",
    "        fechasAleat=np.random.randint(281+60,len(fechas),(dataframeMonos.shape[0],1))\n",
    "        # Fechas aleatorias de ventas en una serie con su contador (numero de la fila)\n",
    "        serieAleat = pd.Series(fechasAleat[:,0],index=dataframeMonos.index)\n",
    "        # Se asigna al dataframe\n",
    "        dataframeMonos['fechaVenta']=fechas[fechasAleat][:,0]\n",
    "    else:\n",
    "        # Fechas de ventas aleatorias\n",
    "        fechasAleat=np.random.randint(fechasAleat+60,len(fechas),(dataframeMonos.shape[0],1))\n",
    "        # Fechas aleatorias de ventas en una serie con su contador (numero de la fila)\n",
    "        serieAleat = pd.Series(fechasAleat[:,0],index=dataframeMonos.index)\n",
    "        # Se asigna al dataframe\n",
    "        dataframeMonos['fechaVenta']=fechas[fechasAleat][:,0]\n",
    "            \n",
    "    return fechasAleat,serieAleat,dataframeMonos"
   ]
  },
  {
   "cell_type": "markdown",
   "metadata": {},
   "source": [
    "---"
   ]
  },
  {
   "cell_type": "markdown",
   "metadata": {},
   "source": [
    "# Primera inversion de los monos"
   ]
  },
  {
   "cell_type": "markdown",
   "metadata": {},
   "source": [
    "En esta sección se vera como se va **comportando los monos en una primera inversión**. Para ello comenzamos declarando una serie de parámetros los cuales son esenciales para la realización del ejercicio:"
   ]
  },
  {
   "cell_type": "code",
   "execution_count": 18,
   "metadata": {},
   "outputs": [],
   "source": [
    "numeroMonos = 1000\n",
    "ventanaSharpe = 30\n",
    "ventanaAlpha = 30\n",
    "ventanaMark = 30\n",
    "numeroMinimoDeFondos = 10\n",
    "numeroMaximoDeFondos = 15"
   ]
  },
  {
   "cell_type": "markdown",
   "metadata": {},
   "source": [
    "Calculamos el **ratio de sharpe** para todos los activos a cada fecha del dataframe completo (esto nos facilita los cálculos pues ya esta calculado para todas las fechas)"
   ]
  },
  {
   "cell_type": "code",
   "execution_count": 19,
   "metadata": {},
   "outputs": [],
   "source": [
    "sharpe = funciones.sharpeFunction(dataframeCompleto, ventanaSharpe)\n",
    "sharpeModificado = np.argsort(sharpe.values, axis=1)"
   ]
  },
  {
   "cell_type": "markdown",
   "metadata": {},
   "source": [
    "Calculamos el **alpha de jensen** para todos los activos a cada fecha del dataframe completo (esto nos facilita los cálculos pues ya esta calculado para todas las fechas)"
   ]
  },
  {
   "cell_type": "code",
   "execution_count": 20,
   "metadata": {},
   "outputs": [],
   "source": [
    "alpha_activos = funciones.alpha_jensen(dataframeCompleto, MSCI, ventanaAlpha)\n",
    "alphaModificado = np.argsort(alpha_activos.values, axis=1)"
   ]
  },
  {
   "cell_type": "markdown",
   "metadata": {},
   "source": [
    "Calculamos las **rentabilidades** para todos los activos a cada fecha del dataframe completo (esto nos facilita los cálculos pues ya esta calculado para todas las fechas)"
   ]
  },
  {
   "cell_type": "code",
   "execution_count": 21,
   "metadata": {},
   "outputs": [],
   "source": [
    "rent_activos = np.log(dataframeCompleto.iloc[1:, :]/dataframeCompleto.iloc[:-1, :].values)\n",
    "rent_activos = rent_activos.values"
   ]
  },
  {
   "cell_type": "markdown",
   "metadata": {},
   "source": [
    "Segmentamos las **rentabilidades por año** para todos los activos a cada fecha del dataframe completo (esto nos facilita los calculos de markowitz ya que se coge un año para su realización)"
   ]
  },
  {
   "cell_type": "code",
   "execution_count": 22,
   "metadata": {},
   "outputs": [],
   "source": [
    "# Las fecjas van desde la 281= un año de datos hasta la ultima 1410\n",
    "fechasMark = range(281,1410) \n",
    "# Creo la serie vacia\n",
    "renAct = pd.Series(dtype = 'int64') \n",
    "# Almaceno los datos de las rentabilidades a un año (-280)\n",
    "for fecha in fechasMark:\n",
    "    renAct[str(fecha)]=rent_activos[(fecha-280):fecha].T"
   ]
  },
  {
   "cell_type": "markdown",
   "metadata": {},
   "source": [
    "Creamos un dataframe con el numero de monos que digamos y con una **forma de invertir aleatoria** para cada mono"
   ]
  },
  {
   "cell_type": "code",
   "execution_count": 23,
   "metadata": {},
   "outputs": [],
   "source": [
    "dataframe = asignacionAleatoriaDeFormaDeInvertirParaMonos(numeroMonos)\n",
    "dataframe = dataframe.sort_values(by='modeloMono', ascending = True)"
   ]
  },
  {
   "cell_type": "markdown",
   "metadata": {},
   "source": [
    "Asignamos aleatoriamente el **numero de fondos** que invierte cada mono "
   ]
  },
  {
   "cell_type": "code",
   "execution_count": 24,
   "metadata": {},
   "outputs": [],
   "source": [
    "dataframe = asignacionAleatoriaDeNumeroFondosParaMonos(dataframe, numeroMinimoDeFondos, numeroMaximoDeFondos)"
   ]
  },
  {
   "cell_type": "markdown",
   "metadata": {},
   "source": [
    "**Asignamos la fecha de compra y de venta** (como es la primera vez que se hace se pasa un False para que invierta por primera vez el primer dia)"
   ]
  },
  {
   "cell_type": "code",
   "execution_count": 25,
   "metadata": {},
   "outputs": [],
   "source": [
    "fechasVenta = np.array([])\n",
    "fechasaux= np.array(fechas)\n",
    "fechasVenta,serieAleat, dataframe = consigueListaDeFechaCompraYFechaVentaDeCadaMono(dataframe, fechasVenta, fechasaux)"
   ]
  },
  {
   "cell_type": "markdown",
   "metadata": {},
   "source": [
    "Creamos una serie con la posicion de la fecha de compra en el dataframe (numero de la fila) indexado igual que el dataframe."
   ]
  },
  {
   "cell_type": "code",
   "execution_count": 26,
   "metadata": {},
   "outputs": [],
   "source": [
    "fechasCompra = (np.ones(dataframe.shape[0])*281).astype(int)\n",
    "fechasCompra = pd.Series(fechasCompra,index=dataframe.index)"
   ]
  },
  {
   "cell_type": "markdown",
   "metadata": {},
   "source": [
    "Realizamos el proceso de calcular la **rentabilidad de cada mono**"
   ]
  },
  {
   "cell_type": "code",
   "execution_count": 27,
   "metadata": {},
   "outputs": [
    {
     "data": {
      "text/plain": [
       "2.859375"
      ]
     },
     "execution_count": 27,
     "metadata": {},
     "output_type": "execute_result"
    }
   ],
   "source": [
    "tiempo = process_time()\n",
    "dataframe = rentabilidadDeCadaMonoBueno(dataframeCompleto, dataframeCompletoValores, dataframe, fechasVenta, fechasCompra, ventanaSharpe, ventanaAlpha, ventanaMark, serieAleat, sharpeModificado, alphaModificado,renAct)\n",
    "process_time()-tiempo "
   ]
  },
  {
   "cell_type": "markdown",
   "metadata": {},
   "source": [
    "Calculamos los **percentiles de las rentabilidades** de los monos."
   ]
  },
  {
   "cell_type": "code",
   "execution_count": 28,
   "metadata": {},
   "outputs": [
    {
     "data": {
      "text/plain": [
       "0.0   -0.425599\n",
       "0.1   -0.102969\n",
       "0.2    0.000039\n",
       "0.3    0.017866\n",
       "0.4    0.041070\n",
       "0.5    0.064405\n",
       "0.6    0.094315\n",
       "0.7    0.133969\n",
       "0.8    0.235023\n",
       "0.9    0.383790\n",
       "1.0    0.960554\n",
       "Name: rentabilidadMono, dtype: float64"
      ]
     },
     "execution_count": 28,
     "metadata": {},
     "output_type": "execute_result"
    }
   ],
   "source": [
    "dataframe.rentabilidadMono.quantile([0, .1, .2, .3, 0.4, 0.5, 0.6, 0.7, 0.8, 0.9, 1])"
   ]
  },
  {
   "cell_type": "markdown",
   "metadata": {},
   "source": [
    "---"
   ]
  },
  {
   "cell_type": "markdown",
   "metadata": {},
   "source": [
    "# Primera Reinversion de los monos"
   ]
  },
  {
   "cell_type": "markdown",
   "metadata": {},
   "source": [
    "En esta sección se vera como se va **comportando los monos en una primera re-inversión**. Para ello declaramos un porcentaje aleatorio para descartar aquellos monos que tengan menos rentabilidad que el parametro:"
   ]
  },
  {
   "cell_type": "code",
   "execution_count": 29,
   "metadata": {},
   "outputs": [],
   "source": [
    "porcAleat =  np.random.randint(0,20)/100"
   ]
  },
  {
   "cell_type": "markdown",
   "metadata": {},
   "source": [
    "Realizamos una *query* de nuestro dataframe quedandonos con los monos que van a seguir invirtiendo, aparte del parámetro aleatorio se exije que la fecha sea menor que tres meses antes del final de los datos para exigir que tenga la inversión el mono 3 meses"
   ]
  },
  {
   "cell_type": "code",
   "execution_count": 30,
   "metadata": {},
   "outputs": [],
   "source": [
    "auxiliarDataFrame = dataframe[(dataframe.rentabilidadMono > -porcAleat) & (dataframe.fechaVenta<dt.datetime(2021, 4, 1))].copy()"
   ]
  },
  {
   "cell_type": "markdown",
   "metadata": {},
   "source": [
    "Las nuevas fechas de compra ahora serán las fechas de venta"
   ]
  },
  {
   "cell_type": "code",
   "execution_count": 31,
   "metadata": {},
   "outputs": [],
   "source": [
    "auxiliarDataFrame.loc[:,'fechaCompra']=auxiliarDataFrame.loc[:,'fechaVenta'] \n",
    "dataframe.loc[auxiliarDataFrame.index,'fechaCompra']=dataframe.loc[auxiliarDataFrame.index,'fechaVenta'] "
   ]
  },
  {
   "cell_type": "markdown",
   "metadata": {},
   "source": [
    "Vemos que pinta tiene el dataframe"
   ]
  },
  {
   "cell_type": "code",
   "execution_count": 32,
   "metadata": {},
   "outputs": [
    {
     "data": {
      "text/html": [
       "<div>\n",
       "<style scoped>\n",
       "    .dataframe tbody tr th:only-of-type {\n",
       "        vertical-align: middle;\n",
       "    }\n",
       "\n",
       "    .dataframe tbody tr th {\n",
       "        vertical-align: top;\n",
       "    }\n",
       "\n",
       "    .dataframe thead th {\n",
       "        text-align: right;\n",
       "    }\n",
       "</style>\n",
       "<table border=\"1\" class=\"dataframe\">\n",
       "  <thead>\n",
       "    <tr style=\"text-align: right;\">\n",
       "      <th></th>\n",
       "      <th>modeloMono</th>\n",
       "      <th>numeroFondos</th>\n",
       "      <th>fechaCompra</th>\n",
       "      <th>fechaVenta</th>\n",
       "      <th>rentabilidadMono</th>\n",
       "    </tr>\n",
       "  </thead>\n",
       "  <tbody>\n",
       "    <tr>\n",
       "      <th>0</th>\n",
       "      <td>Aleatorio</td>\n",
       "      <td>13</td>\n",
       "      <td>2020-01-02</td>\n",
       "      <td>2020-01-02</td>\n",
       "      <td>0.109594</td>\n",
       "    </tr>\n",
       "    <tr>\n",
       "      <th>243</th>\n",
       "      <td>Aleatorio</td>\n",
       "      <td>13</td>\n",
       "      <td>2018-07-13</td>\n",
       "      <td>2018-07-13</td>\n",
       "      <td>0.124757</td>\n",
       "    </tr>\n",
       "    <tr>\n",
       "      <th>640</th>\n",
       "      <td>Aleatorio</td>\n",
       "      <td>13</td>\n",
       "      <td>2019-03-20</td>\n",
       "      <td>2019-03-20</td>\n",
       "      <td>0.128773</td>\n",
       "    </tr>\n",
       "    <tr>\n",
       "      <th>237</th>\n",
       "      <td>Aleatorio</td>\n",
       "      <td>10</td>\n",
       "      <td>2017-10-03</td>\n",
       "      <td>2017-10-03</td>\n",
       "      <td>0.055981</td>\n",
       "    </tr>\n",
       "    <tr>\n",
       "      <th>647</th>\n",
       "      <td>Aleatorio</td>\n",
       "      <td>11</td>\n",
       "      <td>2020-04-15</td>\n",
       "      <td>2020-04-15</td>\n",
       "      <td>-0.050746</td>\n",
       "    </tr>\n",
       "    <tr>\n",
       "      <th>...</th>\n",
       "      <td>...</td>\n",
       "      <td>...</td>\n",
       "      <td>...</td>\n",
       "      <td>...</td>\n",
       "      <td>...</td>\n",
       "    </tr>\n",
       "    <tr>\n",
       "      <th>667</th>\n",
       "      <td>Sharpe</td>\n",
       "      <td>11</td>\n",
       "      <td>2017-10-26</td>\n",
       "      <td>2017-10-26</td>\n",
       "      <td>-0.002668</td>\n",
       "    </tr>\n",
       "    <tr>\n",
       "      <th>666</th>\n",
       "      <td>Sharpe</td>\n",
       "      <td>10</td>\n",
       "      <td>2018-07-27</td>\n",
       "      <td>2018-07-27</td>\n",
       "      <td>0.027742</td>\n",
       "    </tr>\n",
       "    <tr>\n",
       "      <th>665</th>\n",
       "      <td>Sharpe</td>\n",
       "      <td>10</td>\n",
       "      <td>2020-06-11</td>\n",
       "      <td>2020-06-11</td>\n",
       "      <td>0.484720</td>\n",
       "    </tr>\n",
       "    <tr>\n",
       "      <th>225</th>\n",
       "      <td>Sharpe</td>\n",
       "      <td>11</td>\n",
       "      <td>2019-06-04</td>\n",
       "      <td>2019-06-04</td>\n",
       "      <td>0.816479</td>\n",
       "    </tr>\n",
       "    <tr>\n",
       "      <th>499</th>\n",
       "      <td>Sharpe</td>\n",
       "      <td>13</td>\n",
       "      <td>2020-06-18</td>\n",
       "      <td>2020-06-18</td>\n",
       "      <td>0.434014</td>\n",
       "    </tr>\n",
       "  </tbody>\n",
       "</table>\n",
       "<p>864 rows × 5 columns</p>\n",
       "</div>"
      ],
      "text/plain": [
       "    modeloMono  numeroFondos fechaCompra fechaVenta  rentabilidadMono\n",
       "0    Aleatorio            13  2020-01-02 2020-01-02          0.109594\n",
       "243  Aleatorio            13  2018-07-13 2018-07-13          0.124757\n",
       "640  Aleatorio            13  2019-03-20 2019-03-20          0.128773\n",
       "237  Aleatorio            10  2017-10-03 2017-10-03          0.055981\n",
       "647  Aleatorio            11  2020-04-15 2020-04-15         -0.050746\n",
       "..         ...           ...         ...        ...               ...\n",
       "667     Sharpe            11  2017-10-26 2017-10-26         -0.002668\n",
       "666     Sharpe            10  2018-07-27 2018-07-27          0.027742\n",
       "665     Sharpe            10  2020-06-11 2020-06-11          0.484720\n",
       "225     Sharpe            11  2019-06-04 2019-06-04          0.816479\n",
       "499     Sharpe            13  2020-06-18 2020-06-18          0.434014\n",
       "\n",
       "[864 rows x 5 columns]"
      ]
     },
     "execution_count": 32,
     "metadata": {},
     "output_type": "execute_result"
    }
   ],
   "source": [
    "auxiliarDataFrame"
   ]
  },
  {
   "cell_type": "markdown",
   "metadata": {},
   "source": [
    "Obtenemos las posiciones de las fechas (numero en la fila del dataframe) tanto de compra y de venta."
   ]
  },
  {
   "cell_type": "code",
   "execution_count": 33,
   "metadata": {
    "tags": []
   },
   "outputs": [],
   "source": [
    "fechasVenta = serieAleat[auxiliarDataFrame.index].values\n",
    "fechasCompra = serieAleat[auxiliarDataFrame.index]"
   ]
  },
  {
   "cell_type": "markdown",
   "metadata": {},
   "source": [
    "A partir de las fechas de compra anteriores conseguimos las nuevas fechas de venta de manera aleatoria"
   ]
  },
  {
   "cell_type": "code",
   "execution_count": 34,
   "metadata": {},
   "outputs": [],
   "source": [
    "fechasVenta, serieAleat, auxiliarDataFrame = consigueListaDeFechaCompraYFechaVentaDeCadaMono(auxiliarDataFrame, fechasVenta, fechasaux, False)"
   ]
  },
  {
   "cell_type": "markdown",
   "metadata": {},
   "source": [
    "Vemos la pinta que tienen los datos"
   ]
  },
  {
   "cell_type": "code",
   "execution_count": 35,
   "metadata": {},
   "outputs": [
    {
     "data": {
      "text/html": [
       "<div>\n",
       "<style scoped>\n",
       "    .dataframe tbody tr th:only-of-type {\n",
       "        vertical-align: middle;\n",
       "    }\n",
       "\n",
       "    .dataframe tbody tr th {\n",
       "        vertical-align: top;\n",
       "    }\n",
       "\n",
       "    .dataframe thead th {\n",
       "        text-align: right;\n",
       "    }\n",
       "</style>\n",
       "<table border=\"1\" class=\"dataframe\">\n",
       "  <thead>\n",
       "    <tr style=\"text-align: right;\">\n",
       "      <th></th>\n",
       "      <th>modeloMono</th>\n",
       "      <th>numeroFondos</th>\n",
       "      <th>fechaCompra</th>\n",
       "      <th>fechaVenta</th>\n",
       "      <th>rentabilidadMono</th>\n",
       "    </tr>\n",
       "  </thead>\n",
       "  <tbody>\n",
       "    <tr>\n",
       "      <th>0</th>\n",
       "      <td>Aleatorio</td>\n",
       "      <td>13</td>\n",
       "      <td>2020-01-02</td>\n",
       "      <td>2021-01-13</td>\n",
       "      <td>0.109594</td>\n",
       "    </tr>\n",
       "    <tr>\n",
       "      <th>243</th>\n",
       "      <td>Aleatorio</td>\n",
       "      <td>13</td>\n",
       "      <td>2018-07-13</td>\n",
       "      <td>2019-03-15</td>\n",
       "      <td>0.124757</td>\n",
       "    </tr>\n",
       "    <tr>\n",
       "      <th>640</th>\n",
       "      <td>Aleatorio</td>\n",
       "      <td>13</td>\n",
       "      <td>2019-03-20</td>\n",
       "      <td>2020-12-23</td>\n",
       "      <td>0.128773</td>\n",
       "    </tr>\n",
       "    <tr>\n",
       "      <th>237</th>\n",
       "      <td>Aleatorio</td>\n",
       "      <td>10</td>\n",
       "      <td>2017-10-03</td>\n",
       "      <td>2018-05-29</td>\n",
       "      <td>0.055981</td>\n",
       "    </tr>\n",
       "    <tr>\n",
       "      <th>647</th>\n",
       "      <td>Aleatorio</td>\n",
       "      <td>11</td>\n",
       "      <td>2020-04-15</td>\n",
       "      <td>2020-07-10</td>\n",
       "      <td>-0.050746</td>\n",
       "    </tr>\n",
       "    <tr>\n",
       "      <th>...</th>\n",
       "      <td>...</td>\n",
       "      <td>...</td>\n",
       "      <td>...</td>\n",
       "      <td>...</td>\n",
       "      <td>...</td>\n",
       "    </tr>\n",
       "    <tr>\n",
       "      <th>667</th>\n",
       "      <td>Sharpe</td>\n",
       "      <td>11</td>\n",
       "      <td>2017-10-26</td>\n",
       "      <td>2018-06-29</td>\n",
       "      <td>-0.002668</td>\n",
       "    </tr>\n",
       "    <tr>\n",
       "      <th>666</th>\n",
       "      <td>Sharpe</td>\n",
       "      <td>10</td>\n",
       "      <td>2018-07-27</td>\n",
       "      <td>2020-07-29</td>\n",
       "      <td>0.027742</td>\n",
       "    </tr>\n",
       "    <tr>\n",
       "      <th>665</th>\n",
       "      <td>Sharpe</td>\n",
       "      <td>10</td>\n",
       "      <td>2020-06-11</td>\n",
       "      <td>2021-06-10</td>\n",
       "      <td>0.484720</td>\n",
       "    </tr>\n",
       "    <tr>\n",
       "      <th>225</th>\n",
       "      <td>Sharpe</td>\n",
       "      <td>11</td>\n",
       "      <td>2019-06-04</td>\n",
       "      <td>2020-06-25</td>\n",
       "      <td>0.816479</td>\n",
       "    </tr>\n",
       "    <tr>\n",
       "      <th>499</th>\n",
       "      <td>Sharpe</td>\n",
       "      <td>13</td>\n",
       "      <td>2020-06-18</td>\n",
       "      <td>2021-04-19</td>\n",
       "      <td>0.434014</td>\n",
       "    </tr>\n",
       "  </tbody>\n",
       "</table>\n",
       "<p>864 rows × 5 columns</p>\n",
       "</div>"
      ],
      "text/plain": [
       "    modeloMono  numeroFondos fechaCompra fechaVenta  rentabilidadMono\n",
       "0    Aleatorio            13  2020-01-02 2021-01-13          0.109594\n",
       "243  Aleatorio            13  2018-07-13 2019-03-15          0.124757\n",
       "640  Aleatorio            13  2019-03-20 2020-12-23          0.128773\n",
       "237  Aleatorio            10  2017-10-03 2018-05-29          0.055981\n",
       "647  Aleatorio            11  2020-04-15 2020-07-10         -0.050746\n",
       "..         ...           ...         ...        ...               ...\n",
       "667     Sharpe            11  2017-10-26 2018-06-29         -0.002668\n",
       "666     Sharpe            10  2018-07-27 2020-07-29          0.027742\n",
       "665     Sharpe            10  2020-06-11 2021-06-10          0.484720\n",
       "225     Sharpe            11  2019-06-04 2020-06-25          0.816479\n",
       "499     Sharpe            13  2020-06-18 2021-04-19          0.434014\n",
       "\n",
       "[864 rows x 5 columns]"
      ]
     },
     "execution_count": 35,
     "metadata": {},
     "output_type": "execute_result"
    }
   ],
   "source": [
    "auxiliarDataFrame"
   ]
  },
  {
   "cell_type": "markdown",
   "metadata": {},
   "source": [
    "Realizamos de nuevo el cálculo de las **rentabilidades de los monos que prosiguen invirtiendo**"
   ]
  },
  {
   "cell_type": "code",
   "execution_count": 36,
   "metadata": {},
   "outputs": [],
   "source": [
    "auxiliarDataFrame = rentabilidadDeCadaMonoBueno(dataframeCompleto, dataframeCompletoValores, auxiliarDataFrame, fechasVenta, fechasCompra, ventanaSharpe,ventanaAlpha,ventanaMark, serieAleat, sharpeModificado, alphaModificado,renAct)"
   ]
  },
  {
   "cell_type": "markdown",
   "metadata": {},
   "source": [
    "Vemos la pinta que tienen los datos"
   ]
  },
  {
   "cell_type": "code",
   "execution_count": 37,
   "metadata": {},
   "outputs": [
    {
     "data": {
      "text/html": [
       "<div>\n",
       "<style scoped>\n",
       "    .dataframe tbody tr th:only-of-type {\n",
       "        vertical-align: middle;\n",
       "    }\n",
       "\n",
       "    .dataframe tbody tr th {\n",
       "        vertical-align: top;\n",
       "    }\n",
       "\n",
       "    .dataframe thead th {\n",
       "        text-align: right;\n",
       "    }\n",
       "</style>\n",
       "<table border=\"1\" class=\"dataframe\">\n",
       "  <thead>\n",
       "    <tr style=\"text-align: right;\">\n",
       "      <th></th>\n",
       "      <th>modeloMono</th>\n",
       "      <th>numeroFondos</th>\n",
       "      <th>fechaCompra</th>\n",
       "      <th>fechaVenta</th>\n",
       "      <th>rentabilidadMono</th>\n",
       "    </tr>\n",
       "  </thead>\n",
       "  <tbody>\n",
       "    <tr>\n",
       "      <th>0</th>\n",
       "      <td>Aleatorio</td>\n",
       "      <td>13</td>\n",
       "      <td>2020-01-02</td>\n",
       "      <td>2021-01-13</td>\n",
       "      <td>0.017763</td>\n",
       "    </tr>\n",
       "    <tr>\n",
       "      <th>243</th>\n",
       "      <td>Aleatorio</td>\n",
       "      <td>13</td>\n",
       "      <td>2018-07-13</td>\n",
       "      <td>2019-03-15</td>\n",
       "      <td>0.009134</td>\n",
       "    </tr>\n",
       "    <tr>\n",
       "      <th>640</th>\n",
       "      <td>Aleatorio</td>\n",
       "      <td>13</td>\n",
       "      <td>2019-03-20</td>\n",
       "      <td>2020-12-23</td>\n",
       "      <td>0.172104</td>\n",
       "    </tr>\n",
       "    <tr>\n",
       "      <th>237</th>\n",
       "      <td>Aleatorio</td>\n",
       "      <td>10</td>\n",
       "      <td>2017-10-03</td>\n",
       "      <td>2018-05-29</td>\n",
       "      <td>0.005876</td>\n",
       "    </tr>\n",
       "    <tr>\n",
       "      <th>647</th>\n",
       "      <td>Aleatorio</td>\n",
       "      <td>11</td>\n",
       "      <td>2020-04-15</td>\n",
       "      <td>2020-07-10</td>\n",
       "      <td>0.125584</td>\n",
       "    </tr>\n",
       "    <tr>\n",
       "      <th>...</th>\n",
       "      <td>...</td>\n",
       "      <td>...</td>\n",
       "      <td>...</td>\n",
       "      <td>...</td>\n",
       "      <td>...</td>\n",
       "    </tr>\n",
       "    <tr>\n",
       "      <th>667</th>\n",
       "      <td>Sharpe</td>\n",
       "      <td>11</td>\n",
       "      <td>2017-10-26</td>\n",
       "      <td>2018-06-29</td>\n",
       "      <td>0.006510</td>\n",
       "    </tr>\n",
       "    <tr>\n",
       "      <th>666</th>\n",
       "      <td>Sharpe</td>\n",
       "      <td>10</td>\n",
       "      <td>2018-07-27</td>\n",
       "      <td>2020-07-29</td>\n",
       "      <td>0.036425</td>\n",
       "    </tr>\n",
       "    <tr>\n",
       "      <th>665</th>\n",
       "      <td>Sharpe</td>\n",
       "      <td>10</td>\n",
       "      <td>2020-06-11</td>\n",
       "      <td>2021-06-10</td>\n",
       "      <td>0.077351</td>\n",
       "    </tr>\n",
       "    <tr>\n",
       "      <th>225</th>\n",
       "      <td>Sharpe</td>\n",
       "      <td>11</td>\n",
       "      <td>2019-06-04</td>\n",
       "      <td>2020-06-25</td>\n",
       "      <td>-0.012081</td>\n",
       "    </tr>\n",
       "    <tr>\n",
       "      <th>499</th>\n",
       "      <td>Sharpe</td>\n",
       "      <td>13</td>\n",
       "      <td>2020-06-18</td>\n",
       "      <td>2021-04-19</td>\n",
       "      <td>0.095552</td>\n",
       "    </tr>\n",
       "  </tbody>\n",
       "</table>\n",
       "<p>864 rows × 5 columns</p>\n",
       "</div>"
      ],
      "text/plain": [
       "    modeloMono  numeroFondos fechaCompra fechaVenta  rentabilidadMono\n",
       "0    Aleatorio            13  2020-01-02 2021-01-13          0.017763\n",
       "243  Aleatorio            13  2018-07-13 2019-03-15          0.009134\n",
       "640  Aleatorio            13  2019-03-20 2020-12-23          0.172104\n",
       "237  Aleatorio            10  2017-10-03 2018-05-29          0.005876\n",
       "647  Aleatorio            11  2020-04-15 2020-07-10          0.125584\n",
       "..         ...           ...         ...        ...               ...\n",
       "667     Sharpe            11  2017-10-26 2018-06-29          0.006510\n",
       "666     Sharpe            10  2018-07-27 2020-07-29          0.036425\n",
       "665     Sharpe            10  2020-06-11 2021-06-10          0.077351\n",
       "225     Sharpe            11  2019-06-04 2020-06-25         -0.012081\n",
       "499     Sharpe            13  2020-06-18 2021-04-19          0.095552\n",
       "\n",
       "[864 rows x 5 columns]"
      ]
     },
     "execution_count": 37,
     "metadata": {},
     "output_type": "execute_result"
    }
   ],
   "source": [
    "auxiliarDataFrame"
   ]
  },
  {
   "cell_type": "markdown",
   "metadata": {},
   "source": [
    "Calculamos las nuevas rentabilidades que simplemente hay que realizar una multiplicación de la rentabilidad anterior del mono y la rentabilidad de la nueva inversión"
   ]
  },
  {
   "cell_type": "code",
   "execution_count": 38,
   "metadata": {},
   "outputs": [],
   "source": [
    "dataframe.loc[auxiliarDataFrame.index,'rentabilidadMono']=dataframe.loc[auxiliarDataFrame.index,'rentabilidadMono'] * (1 + auxiliarDataFrame.loc[:,'rentabilidadMono'])"
   ]
  },
  {
   "cell_type": "markdown",
   "metadata": {},
   "source": [
    "Vemos que pinta tienen los datos"
   ]
  },
  {
   "cell_type": "code",
   "execution_count": 39,
   "metadata": {},
   "outputs": [
    {
     "data": {
      "text/html": [
       "<div>\n",
       "<style scoped>\n",
       "    .dataframe tbody tr th:only-of-type {\n",
       "        vertical-align: middle;\n",
       "    }\n",
       "\n",
       "    .dataframe tbody tr th {\n",
       "        vertical-align: top;\n",
       "    }\n",
       "\n",
       "    .dataframe thead th {\n",
       "        text-align: right;\n",
       "    }\n",
       "</style>\n",
       "<table border=\"1\" class=\"dataframe\">\n",
       "  <thead>\n",
       "    <tr style=\"text-align: right;\">\n",
       "      <th></th>\n",
       "      <th>modeloMono</th>\n",
       "      <th>numeroFondos</th>\n",
       "      <th>fechaCompra</th>\n",
       "      <th>fechaVenta</th>\n",
       "      <th>rentabilidadMono</th>\n",
       "    </tr>\n",
       "  </thead>\n",
       "  <tbody>\n",
       "    <tr>\n",
       "      <th>0</th>\n",
       "      <td>Aleatorio</td>\n",
       "      <td>13</td>\n",
       "      <td>2020-01-02 00:00:00</td>\n",
       "      <td>2020-01-02</td>\n",
       "      <td>0.111541</td>\n",
       "    </tr>\n",
       "    <tr>\n",
       "      <th>243</th>\n",
       "      <td>Aleatorio</td>\n",
       "      <td>13</td>\n",
       "      <td>2018-07-13 00:00:00</td>\n",
       "      <td>2018-07-13</td>\n",
       "      <td>0.125897</td>\n",
       "    </tr>\n",
       "    <tr>\n",
       "      <th>640</th>\n",
       "      <td>Aleatorio</td>\n",
       "      <td>13</td>\n",
       "      <td>2019-03-20 00:00:00</td>\n",
       "      <td>2019-03-20</td>\n",
       "      <td>0.150935</td>\n",
       "    </tr>\n",
       "    <tr>\n",
       "      <th>642</th>\n",
       "      <td>Aleatorio</td>\n",
       "      <td>11</td>\n",
       "      <td>2017-02-01</td>\n",
       "      <td>2021-06-24</td>\n",
       "      <td>0.171428</td>\n",
       "    </tr>\n",
       "    <tr>\n",
       "      <th>237</th>\n",
       "      <td>Aleatorio</td>\n",
       "      <td>10</td>\n",
       "      <td>2017-10-03 00:00:00</td>\n",
       "      <td>2017-10-03</td>\n",
       "      <td>0.056310</td>\n",
       "    </tr>\n",
       "    <tr>\n",
       "      <th>...</th>\n",
       "      <td>...</td>\n",
       "      <td>...</td>\n",
       "      <td>...</td>\n",
       "      <td>...</td>\n",
       "      <td>...</td>\n",
       "    </tr>\n",
       "    <tr>\n",
       "      <th>666</th>\n",
       "      <td>Sharpe</td>\n",
       "      <td>10</td>\n",
       "      <td>2018-07-27 00:00:00</td>\n",
       "      <td>2018-07-27</td>\n",
       "      <td>0.028753</td>\n",
       "    </tr>\n",
       "    <tr>\n",
       "      <th>665</th>\n",
       "      <td>Sharpe</td>\n",
       "      <td>10</td>\n",
       "      <td>2020-06-11 00:00:00</td>\n",
       "      <td>2020-06-11</td>\n",
       "      <td>0.522214</td>\n",
       "    </tr>\n",
       "    <tr>\n",
       "      <th>225</th>\n",
       "      <td>Sharpe</td>\n",
       "      <td>11</td>\n",
       "      <td>2019-06-04 00:00:00</td>\n",
       "      <td>2019-06-04</td>\n",
       "      <td>0.806614</td>\n",
       "    </tr>\n",
       "    <tr>\n",
       "      <th>661</th>\n",
       "      <td>Sharpe</td>\n",
       "      <td>12</td>\n",
       "      <td>2017-02-01</td>\n",
       "      <td>2021-06-18</td>\n",
       "      <td>0.303476</td>\n",
       "    </tr>\n",
       "    <tr>\n",
       "      <th>499</th>\n",
       "      <td>Sharpe</td>\n",
       "      <td>13</td>\n",
       "      <td>2020-06-18 00:00:00</td>\n",
       "      <td>2020-06-18</td>\n",
       "      <td>0.475485</td>\n",
       "    </tr>\n",
       "  </tbody>\n",
       "</table>\n",
       "<p>1000 rows × 5 columns</p>\n",
       "</div>"
      ],
      "text/plain": [
       "    modeloMono  numeroFondos          fechaCompra fechaVenta  rentabilidadMono\n",
       "0    Aleatorio            13  2020-01-02 00:00:00 2020-01-02          0.111541\n",
       "243  Aleatorio            13  2018-07-13 00:00:00 2018-07-13          0.125897\n",
       "640  Aleatorio            13  2019-03-20 00:00:00 2019-03-20          0.150935\n",
       "642  Aleatorio            11           2017-02-01 2021-06-24          0.171428\n",
       "237  Aleatorio            10  2017-10-03 00:00:00 2017-10-03          0.056310\n",
       "..         ...           ...                  ...        ...               ...\n",
       "666     Sharpe            10  2018-07-27 00:00:00 2018-07-27          0.028753\n",
       "665     Sharpe            10  2020-06-11 00:00:00 2020-06-11          0.522214\n",
       "225     Sharpe            11  2019-06-04 00:00:00 2019-06-04          0.806614\n",
       "661     Sharpe            12           2017-02-01 2021-06-18          0.303476\n",
       "499     Sharpe            13  2020-06-18 00:00:00 2020-06-18          0.475485\n",
       "\n",
       "[1000 rows x 5 columns]"
      ]
     },
     "execution_count": 39,
     "metadata": {},
     "output_type": "execute_result"
    }
   ],
   "source": [
    "dataframe"
   ]
  },
  {
   "cell_type": "markdown",
   "metadata": {},
   "source": [
    "Una vez concluido una reinversión el proceso deberia continuar hasta que no quedaran dias, por ello es el problema completo que se ve a continuación"
   ]
  },
  {
   "cell_type": "markdown",
   "metadata": {},
   "source": [
    "---"
   ]
  },
  {
   "cell_type": "markdown",
   "metadata": {},
   "source": [
    "# Problema completo"
   ]
  },
  {
   "cell_type": "markdown",
   "metadata": {},
   "source": [
    "En el problema completo realizaremos reinversiones tantas veces como fechas haya y como el parámetro aleatorio nos deje. Básicamente realiza el mismo proceso pero hasta que llegue el mono al final."
   ]
  },
  {
   "cell_type": "markdown",
   "metadata": {},
   "source": [
    "Realizamos todo el proceso:"
   ]
  },
  {
   "cell_type": "code",
   "execution_count": 40,
   "metadata": {},
   "outputs": [],
   "source": [
    "def procesoCompleto(numeroMonos = 100000, ventanaSharpe = 30, ventanaAlpha = 30, numeroFondosComoMinimoEnCartera = 10, numeroFondosComoMaximoEnCartera = 15):\n",
    "    # Medimos el tiempo final\n",
    "    tiempo = process_time() \n",
    "\n",
    "    ############################################################################################################\n",
    "    # Primer proceso: Primera inversion de los monos (exactamente el mismo proceso descrito en el primer punto)\n",
    "    ############################################################################################################\n",
    "    # Asignación aleatoria de la forma de invertir de los monos\n",
    "    dataframe = asignacionAleatoriaDeFormaDeInvertirParaMonos(numeroMonos)\n",
    "    dataframe = dataframe.sort_values(by='modeloMono', ascending = True)\n",
    "\n",
    "    # Asignacion aleatoria del numero de fondos en los que invierte cada mono\n",
    "    dataframe = asignacionAleatoriaDeNumeroFondosParaMonos(dataframe, numeroFondosComoMinimoEnCartera, numeroFondosComoMaximoEnCartera)\n",
    "    fechasVenta = np.array([])\n",
    "    fechasaux= np.array(fechas)\n",
    "\n",
    "    # Fechas de compra y venta de cada mono\n",
    "    fechasVenta, serieAleat, dataframe = consigueListaDeFechaCompraYFechaVentaDeCadaMono(dataframe, fechasVenta, fechasaux)\n",
    "    fechasCompra = (np.ones(dataframe.shape[0])*281).astype(int)\n",
    "    fechasCompra = pd.Series(fechasCompra,index=dataframe.index)\n",
    "\n",
    "    # Rentabilidad de cada mono\n",
    "    dataframe = rentabilidadDeCadaMonoBueno(dataframeCompleto,dataframeCompletoValores, dataframe, fechasVenta,fechasCompra, ventanaSharpe,ventanaAlpha, serieAleat,ventanaMark, sharpeModificado, alphaModificado,renAct)\n",
    "\n",
    "    # Numero de inversiones de cada mono\n",
    "    dataframe['numeroInversiones'] = 1\n",
    "\n",
    "    # Imprimo el tiempo que nos lleva\n",
    "    #print(process_time()-tiempo)\n",
    "\n",
    "    ################################################################################################################\n",
    "    # Segundo proceso: Primera re-inversion de los monos (exactamente el mismo proceso descrito en el segundo punto)\n",
    "    ################################################################################################################\n",
    "    # Parametro aleatorio para descartar monos que pierdan mas que ese porcentaje\n",
    "    porcAleat =  np.random.randint(0,20)/100   \n",
    "\n",
    "    # Me quedo con los monos que van a continuar reinivirtiendo\n",
    "    auxiliarDataFrame = dataframe[(dataframe.rentabilidadMono > -porcAleat) & (dataframe.fechaVenta<dt.datetime(2021, 4, 1))].copy()\n",
    "\n",
    "    # informacion\n",
    "    #print(\"Reinversion: 1\")\n",
    "    #print(\"Numero de monos restantes: \", auxiliarDataFrame.shape[0])\n",
    "\n",
    "    # las fechas de compras nuevas seran las fechas de venta de la pasada inversion\n",
    "    auxiliarDataFrame.loc[:,'fechaCompra']=auxiliarDataFrame.loc[:,'fechaVenta'] \n",
    "\n",
    "    # Guardo los datos en el data frame\n",
    "    dataframe.loc[auxiliarDataFrame.index,'fechaCompra']=dataframe.loc[auxiliarDataFrame.index,'fechaVenta'] \n",
    "    dataframe.loc[auxiliarDataFrame.index,'numeroInversiones'] = dataframe.loc[auxiliarDataFrame.index,'numeroInversiones']+1\n",
    "\n",
    "    # Fechas de venta aleatorias nuevas a partir de las fechas de compra asignadas anteriormente\n",
    "    fechasVenta = serieAleat[auxiliarDataFrame.index].values\n",
    "    fechasCompra = serieAleat[auxiliarDataFrame.index]\n",
    "    fechasVenta, serieAleat, auxiliarDataFrame = consigueListaDeFechaCompraYFechaVentaDeCadaMono(auxiliarDataFrame, fechasVenta, fechasaux, False)\n",
    "\n",
    "    # Calculo las nuevas rentabilidades de los monos\n",
    "    auxiliarDataFrame = rentabilidadDeCadaMonoBueno(dataframeCompleto,dataframeCompletoValores, auxiliarDataFrame, fechasVenta,fechasCompra, ventanaSharpe,ventanaAlpha,ventanaMark, serieAleat, sharpeModificado, alphaModificado,renAct)\n",
    "\n",
    "    # Asigno las fechas de venta al dataframe original\n",
    "    dataframe.loc[auxiliarDataFrame.index,'fechaVenta']=auxiliarDataFrame.loc[:,'fechaVenta'] \n",
    "\n",
    "    # Calculo las nuevas rentabilidades de los monos (a partir de la anterior)\n",
    "    dataframe.loc[auxiliarDataFrame.index,'rentabilidadMono']=dataframe.loc[auxiliarDataFrame.index,'rentabilidadMono'] * (1 + auxiliarDataFrame.loc[:,'rentabilidadMono'])\n",
    "    #print(process_time()-tiempo)\n",
    "\n",
    "    ####################################################################################################################\n",
    "    # Tercer proceso: Continuadas re-inversion de los monos (exactamente el mismo proceso descrito en el segundo punto)\n",
    "    #                 con la salvedad de que rompe el bucle while cuando no nos quedan monos que reinviertan\n",
    "    ###################################################################################################################\n",
    "    contador = 2\n",
    "    while auxiliarDataFrame.shape[0]>0:\n",
    "        # Parametro aleatorio para descartar monos que pierdan mas que ese porcentaje\n",
    "        porcAleat =  np.random.randint(0,20)/100   \n",
    "\n",
    "        # Me quedo con los monos que van a continuar reinivirtiendo\n",
    "        auxiliarDataFrame = auxiliarDataFrame[(auxiliarDataFrame.rentabilidadMono > -porcAleat) & (auxiliarDataFrame.fechaVenta<dt.datetime(2021, 4, 1))].copy()\n",
    "\n",
    "        # informacion\n",
    "        #print(\"Reinversion: \", contador)\n",
    "        #print(\"Numero de monos restantes: \", auxiliarDataFrame.shape[0])\n",
    "\n",
    "        # Si no tengo mas monos rompo el bucle y me salgo\n",
    "        if auxiliarDataFrame.shape[0]==0:\n",
    "            break\n",
    "\n",
    "        # las fechas de compras nuevas seran las fechas de venta de la pasada inversion\n",
    "        auxiliarDataFrame.loc[:,'fechaCompra']=auxiliarDataFrame.loc[:,'fechaVenta'] \n",
    "        dataframe.loc[auxiliarDataFrame.index,'fechaCompra']=dataframe.loc[auxiliarDataFrame.index,'fechaVenta'] \n",
    "\n",
    "        # Sumo una nueva reinversión\n",
    "        dataframe.loc[auxiliarDataFrame.index,'numeroInversiones'] = dataframe.loc[auxiliarDataFrame.index,'numeroInversiones']+1\n",
    "\n",
    "        # Nuevas fechas de compra y de venta\n",
    "        fechasVenta = serieAleat[auxiliarDataFrame.index].values\n",
    "        fechasCompra = serieAleat[auxiliarDataFrame.index]\n",
    "        fechasVenta, serieAleat, auxiliarDataFrame = consigueListaDeFechaCompraYFechaVentaDeCadaMono(auxiliarDataFrame, fechasVenta, fechasaux, False)\n",
    "\n",
    "        # Nuevas rentabilidades de los monos y su nueva inversión\n",
    "        auxiliarDataFrame = rentabilidadDeCadaMonoBueno(dataframeCompleto,dataframeCompletoValores, auxiliarDataFrame, fechasVenta,fechasCompra, ventanaSharpe,ventanaAlpha,ventanaMark, serieAleat, sharpeModificado, alphaModificado,renAct)\n",
    "        dataframe.loc[auxiliarDataFrame.index,'fechaVenta']=auxiliarDataFrame.loc[:,'fechaVenta'] \n",
    "\n",
    "        # Obtengo las nuevas rentabilidades acumuladas\n",
    "        dataframe.loc[auxiliarDataFrame.index,'rentabilidadMono']=dataframe.loc[auxiliarDataFrame.index,'rentabilidadMono'] * (1 + auxiliarDataFrame.loc[:,'rentabilidadMono'])\n",
    "\n",
    "        # Incrementamos\n",
    "        contador = contador + 1\n",
    "\n",
    "    # Imprimo el tiempo de ejecución\n",
    "    #print(process_time()-tiempo)\n",
    "    return dataframe"
   ]
  },
  {
   "cell_type": "markdown",
   "metadata": {},
   "source": [
    "Primero lanzamos **5 millones de monos**"
   ]
  },
  {
   "cell_type": "code",
   "execution_count": 57,
   "metadata": {},
   "outputs": [
    {
     "name": "stderr",
     "output_type": "stream",
     "text": [
      "100%|██████████| 50/50 [1:47:48<00:00, 129.37s/it]\n"
     ]
    }
   ],
   "source": [
    "#5.000.000\n",
    "dataframe = procesoCompleto(numeroMonos = 10)\n",
    "for i in tqdm(range(50)):\n",
    "    dataframeAux = procesoCompleto()\n",
    "    dataframe = pd.concat([dataframe, dataframeAux])"
   ]
  },
  {
   "cell_type": "code",
   "execution_count": 63,
   "metadata": {},
   "outputs": [],
   "source": [
    "dataframe.to_pickle('dataframe_5.pkl')"
   ]
  },
  {
   "cell_type": "markdown",
   "metadata": {},
   "source": [
    "Segundo lanzamos **25 millones de monos**"
   ]
  },
  {
   "cell_type": "code",
   "execution_count": 42,
   "metadata": {},
   "outputs": [
    {
     "name": "stderr",
     "output_type": "stream",
     "text": [
      "100%|██████████| 250/250 [8:49:20<00:00, 127.04s/it]  \n"
     ]
    }
   ],
   "source": [
    "#25.000.000\n",
    "dataframe = procesoCompleto(numeroMonos = 10)\n",
    "for i in tqdm(range(250)):\n",
    "    dataframeAux = procesoCompleto()\n",
    "    dataframe = pd.concat([dataframe, dataframeAux])"
   ]
  },
  {
   "cell_type": "code",
   "execution_count": 43,
   "metadata": {},
   "outputs": [],
   "source": [
    "dataframe.to_pickle('dataframe_25.pkl')"
   ]
  },
  {
   "cell_type": "markdown",
   "metadata": {},
   "source": [
    "Tercero lanzamos **25 millones de monos**"
   ]
  },
  {
   "cell_type": "code",
   "execution_count": 41,
   "metadata": {},
   "outputs": [
    {
     "name": "stderr",
     "output_type": "stream",
     "text": [
      "100%|██████████| 250/250 [11:05:06<00:00, 159.63s/it]  \n"
     ]
    }
   ],
   "source": [
    "#25.000.000\n",
    "dataframe = procesoCompleto(numeroMonos = 10)\n",
    "for i in tqdm(range(250)):\n",
    "    dataframeAux = procesoCompleto()\n",
    "    dataframe = pd.concat([dataframe, dataframeAux])"
   ]
  },
  {
   "cell_type": "code",
   "execution_count": 42,
   "metadata": {},
   "outputs": [],
   "source": [
    "dataframe.to_pickle('dataframe_25_2.pkl')"
   ]
  },
  {
   "cell_type": "markdown",
   "metadata": {},
   "source": [
    "Leemos todos los dataframes guardados para obtener todos los monos en cuestión:"
   ]
  },
  {
   "cell_type": "code",
   "execution_count": 43,
   "metadata": {},
   "outputs": [],
   "source": [
    "dataframe25=pd.read_pickle('dataframe_25.pkl')"
   ]
  },
  {
   "cell_type": "code",
   "execution_count": 44,
   "metadata": {},
   "outputs": [],
   "source": [
    "dataframe5=pd.read_pickle('dataframe_5.pkl')"
   ]
  },
  {
   "cell_type": "code",
   "execution_count": 45,
   "metadata": {},
   "outputs": [],
   "source": [
    "dataframe5_2=pd.read_pickle('dataframe_25_2.pkl')"
   ]
  },
  {
   "cell_type": "markdown",
   "metadata": {},
   "source": [
    "Los unimos y vemos su dimensión para ver efectivamente que son 50 millones:"
   ]
  },
  {
   "cell_type": "code",
   "execution_count": 46,
   "metadata": {},
   "outputs": [],
   "source": [
    "dataframe = pd.concat([dataframe5,dataframe25,dataframe5_2])"
   ]
  },
  {
   "cell_type": "code",
   "execution_count": 47,
   "metadata": {},
   "outputs": [
    {
     "data": {
      "text/plain": [
       "(55000030, 6)"
      ]
     },
     "execution_count": 47,
     "metadata": {},
     "output_type": "execute_result"
    }
   ],
   "source": [
    "dataframe.shape"
   ]
  },
  {
   "cell_type": "markdown",
   "metadata": {},
   "source": [
    "Mostramos la pinta del dataframe"
   ]
  },
  {
   "cell_type": "code",
   "execution_count": 48,
   "metadata": {},
   "outputs": [
    {
     "data": {
      "text/html": [
       "<div>\n",
       "<style scoped>\n",
       "    .dataframe tbody tr th:only-of-type {\n",
       "        vertical-align: middle;\n",
       "    }\n",
       "\n",
       "    .dataframe tbody tr th {\n",
       "        vertical-align: top;\n",
       "    }\n",
       "\n",
       "    .dataframe thead th {\n",
       "        text-align: right;\n",
       "    }\n",
       "</style>\n",
       "<table border=\"1\" class=\"dataframe\">\n",
       "  <thead>\n",
       "    <tr style=\"text-align: right;\">\n",
       "      <th></th>\n",
       "      <th>modeloMono</th>\n",
       "      <th>numeroFondos</th>\n",
       "      <th>fechaCompra</th>\n",
       "      <th>fechaVenta</th>\n",
       "      <th>rentabilidadMono</th>\n",
       "      <th>numeroInversiones</th>\n",
       "    </tr>\n",
       "  </thead>\n",
       "  <tbody>\n",
       "    <tr>\n",
       "      <th>1</th>\n",
       "      <td>Aleatorio</td>\n",
       "      <td>14</td>\n",
       "      <td>2018-04-06 00:00:00</td>\n",
       "      <td>2021-04-15</td>\n",
       "      <td>0.065354</td>\n",
       "      <td>3</td>\n",
       "    </tr>\n",
       "    <tr>\n",
       "      <th>2</th>\n",
       "      <td>Aleatorio</td>\n",
       "      <td>13</td>\n",
       "      <td>2017-02-01</td>\n",
       "      <td>2021-04-28</td>\n",
       "      <td>0.206570</td>\n",
       "      <td>1</td>\n",
       "    </tr>\n",
       "    <tr>\n",
       "      <th>3</th>\n",
       "      <td>Aleatorio</td>\n",
       "      <td>13</td>\n",
       "      <td>2020-02-20 00:00:00</td>\n",
       "      <td>2020-10-12</td>\n",
       "      <td>0.279475</td>\n",
       "      <td>2</td>\n",
       "    </tr>\n",
       "    <tr>\n",
       "      <th>4</th>\n",
       "      <td>Aleatorio</td>\n",
       "      <td>13</td>\n",
       "      <td>2021-02-26 00:00:00</td>\n",
       "      <td>2021-07-05</td>\n",
       "      <td>0.039273</td>\n",
       "      <td>4</td>\n",
       "    </tr>\n",
       "    <tr>\n",
       "      <th>6</th>\n",
       "      <td>Aleatorio</td>\n",
       "      <td>14</td>\n",
       "      <td>2017-02-01</td>\n",
       "      <td>2020-04-01</td>\n",
       "      <td>-0.053186</td>\n",
       "      <td>1</td>\n",
       "    </tr>\n",
       "    <tr>\n",
       "      <th>...</th>\n",
       "      <td>...</td>\n",
       "      <td>...</td>\n",
       "      <td>...</td>\n",
       "      <td>...</td>\n",
       "      <td>...</td>\n",
       "      <td>...</td>\n",
       "    </tr>\n",
       "    <tr>\n",
       "      <th>53486</th>\n",
       "      <td>Sharpe</td>\n",
       "      <td>10</td>\n",
       "      <td>2020-04-07 00:00:00</td>\n",
       "      <td>2021-06-14</td>\n",
       "      <td>0.006067</td>\n",
       "      <td>4</td>\n",
       "    </tr>\n",
       "    <tr>\n",
       "      <th>53499</th>\n",
       "      <td>Sharpe</td>\n",
       "      <td>12</td>\n",
       "      <td>2021-03-01 00:00:00</td>\n",
       "      <td>2021-05-25</td>\n",
       "      <td>0.038429</td>\n",
       "      <td>3</td>\n",
       "    </tr>\n",
       "    <tr>\n",
       "      <th>53501</th>\n",
       "      <td>Sharpe</td>\n",
       "      <td>10</td>\n",
       "      <td>2018-03-05 00:00:00</td>\n",
       "      <td>2021-04-01</td>\n",
       "      <td>0.007920</td>\n",
       "      <td>2</td>\n",
       "    </tr>\n",
       "    <tr>\n",
       "      <th>53473</th>\n",
       "      <td>Sharpe</td>\n",
       "      <td>10</td>\n",
       "      <td>2021-01-29 00:00:00</td>\n",
       "      <td>2021-06-28</td>\n",
       "      <td>0.017222</td>\n",
       "      <td>4</td>\n",
       "    </tr>\n",
       "    <tr>\n",
       "      <th>99999</th>\n",
       "      <td>Sharpe</td>\n",
       "      <td>10</td>\n",
       "      <td>2021-01-27 00:00:00</td>\n",
       "      <td>2021-07-15</td>\n",
       "      <td>0.169168</td>\n",
       "      <td>2</td>\n",
       "    </tr>\n",
       "  </tbody>\n",
       "</table>\n",
       "<p>55000030 rows × 6 columns</p>\n",
       "</div>"
      ],
      "text/plain": [
       "      modeloMono  numeroFondos          fechaCompra fechaVenta  \\\n",
       "1      Aleatorio            14  2018-04-06 00:00:00 2021-04-15   \n",
       "2      Aleatorio            13           2017-02-01 2021-04-28   \n",
       "3      Aleatorio            13  2020-02-20 00:00:00 2020-10-12   \n",
       "4      Aleatorio            13  2021-02-26 00:00:00 2021-07-05   \n",
       "6      Aleatorio            14           2017-02-01 2020-04-01   \n",
       "...          ...           ...                  ...        ...   \n",
       "53486     Sharpe            10  2020-04-07 00:00:00 2021-06-14   \n",
       "53499     Sharpe            12  2021-03-01 00:00:00 2021-05-25   \n",
       "53501     Sharpe            10  2018-03-05 00:00:00 2021-04-01   \n",
       "53473     Sharpe            10  2021-01-29 00:00:00 2021-06-28   \n",
       "99999     Sharpe            10  2021-01-27 00:00:00 2021-07-15   \n",
       "\n",
       "       rentabilidadMono  numeroInversiones  \n",
       "1              0.065354                  3  \n",
       "2              0.206570                  1  \n",
       "3              0.279475                  2  \n",
       "4              0.039273                  4  \n",
       "6             -0.053186                  1  \n",
       "...                 ...                ...  \n",
       "53486          0.006067                  4  \n",
       "53499          0.038429                  3  \n",
       "53501          0.007920                  2  \n",
       "53473          0.017222                  4  \n",
       "99999          0.169168                  2  \n",
       "\n",
       "[55000030 rows x 6 columns]"
      ]
     },
     "execution_count": 48,
     "metadata": {},
     "output_type": "execute_result"
    }
   ],
   "source": [
    "dataframe"
   ]
  },
  {
   "cell_type": "markdown",
   "metadata": {},
   "source": [
    "Numero medio de inversiones de los monos"
   ]
  },
  {
   "cell_type": "code",
   "execution_count": 50,
   "metadata": {},
   "outputs": [
    {
     "data": {
      "text/plain": [
       "2.7134514653901096"
      ]
     },
     "execution_count": 50,
     "metadata": {},
     "output_type": "execute_result"
    }
   ],
   "source": [
    "dataframe.numeroInversiones.mean()"
   ]
  },
  {
   "cell_type": "markdown",
   "metadata": {},
   "source": [
    "Numero maximo de inversion de los monos"
   ]
  },
  {
   "cell_type": "code",
   "execution_count": 51,
   "metadata": {},
   "outputs": [
    {
     "data": {
      "text/plain": [
       "11"
      ]
     },
     "execution_count": 51,
     "metadata": {},
     "output_type": "execute_result"
    }
   ],
   "source": [
    "dataframe.numeroInversiones.max()"
   ]
  },
  {
   "cell_type": "markdown",
   "metadata": {},
   "source": [
    "Calculamos los percentiles:"
   ]
  },
  {
   "cell_type": "code",
   "execution_count": 49,
   "metadata": {},
   "outputs": [
    {
     "data": {
      "text/plain": [
       "0.1   -0.1423\n",
       "0.2   -0.0097\n",
       "0.3    0.0169\n",
       "0.4    0.0405\n",
       "0.5    0.0670\n",
       "0.6    0.0964\n",
       "0.7    0.1384\n",
       "0.8    0.2183\n",
       "0.9    0.3822\n",
       "Name: rentabilidadMono, dtype: float64"
      ]
     },
     "execution_count": 49,
     "metadata": {},
     "output_type": "execute_result"
    }
   ],
   "source": [
    "dataframe.rentabilidadMono.quantile([.1, .2, .3, 0.4, 0.5, 0.6, 0.7, 0.8, 0.9]).round(4)"
   ]
  },
  {
   "cell_type": "markdown",
   "metadata": {},
   "source": [
    "---"
   ]
  },
  {
   "cell_type": "markdown",
   "metadata": {},
   "source": [
    "# Conclusiones"
   ]
  },
  {
   "cell_type": "markdown",
   "metadata": {},
   "source": [
    "- La forma intuitiva de realizar este ejercicio es crear una función que realice un mono en su proceso completo, con la elección de activos, la inversión y la reinversión y que dicha función devuelva la rentabilidad. Al principio lo realicé de esta forma pero me tardaba mucho el tiempo de ejecución y decidí cambiar la metodología para intentar mejorar el tiempo de ejecución por ello plantee el ejercicio de la forma que se ha explicado.\n",
    "- Lo he lanzado 3 veces: una con 5 millones de monos, otra con 25 millones y la ultima con 25 millones. Como se observa tengo un dataframe de **55 milllones de monos en, aproximadamente, 21 horas**. \n",
    "- En los percentiles se observa que el percentil 80% es 21% de rentabilidad, lo cual nuestro algoritmo debería tener mas de un 21% de rentabilidad para que el algoritmo diseñado tenga un valor extra que unos monos invirtiendo aleatoriamente.\n",
    "- Bajo mi punto de vista el ejercicio me ha parecido muy interesante ya que el hecho de programar los monos no ha sido su gran dificultad, la gran dificultad que he tenido es bajar el tiempo de ejecución para que me entre en un plazo de 24 h el número minimo de monos establecido."
   ]
  }
 ],
 "metadata": {
  "kernelspec": {
   "display_name": "Python 3",
   "language": "python",
   "name": "python3"
  },
  "language_info": {
   "codemirror_mode": {
    "name": "ipython",
    "version": 3
   },
   "file_extension": ".py",
   "mimetype": "text/x-python",
   "name": "python",
   "nbconvert_exporter": "python",
   "pygments_lexer": "ipython3",
   "version": "3.8.3"
  }
 },
 "nbformat": 4,
 "nbformat_minor": 4
}
