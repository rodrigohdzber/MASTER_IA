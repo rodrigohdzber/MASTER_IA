{
 "cells": [
  {
   "cell_type": "markdown",
   "metadata": {},
   "source": [
    "## Búsqueda Local Estocástica\n",
    "### Optimización de parámetros de indicadores técnicos"
   ]
  },
  {
   "cell_type": "markdown",
   "metadata": {},
   "source": [
    "Este cuaderno muestra como utilizar búsqueda local estocástica para encontrar el mejor conjunto de parámetros del oscilador estocástico para maximizar el rendimiento que habría obtenido sobre un histórico de precios"
   ]
  },
  {
   "cell_type": "code",
   "execution_count": 1,
   "metadata": {},
   "outputs": [],
   "source": [
    "import numpy as np \n",
    "import pandas as pd\n",
    "import matplotlib.pyplot as plt\n",
    "import itertools"
   ]
  },
  {
   "cell_type": "markdown",
   "metadata": {},
   "source": [
    "### Datos \n",
    "Trajabajeremos sobre la serie de precios de un activo. Ej. Inditex"
   ]
  },
  {
   "cell_type": "code",
   "execution_count": 2,
   "metadata": {},
   "outputs": [],
   "source": [
    "import pickle\n",
    "with open('../data/stock_data.pkl', 'rb') as handle:\n",
    "    stock_data = pickle.load(handle)"
   ]
  },
  {
   "cell_type": "code",
   "execution_count": 21,
   "metadata": {},
   "outputs": [],
   "source": [
    "stock_series = stock_data['ITX'].close\n",
    "stock_series = stock_series.loc['2014':]"
   ]
  },
  {
   "cell_type": "code",
   "execution_count": 22,
   "metadata": {},
   "outputs": [
    {
     "data": {
      "text/plain": [
       "<matplotlib.axes._subplots.AxesSubplot at 0x1780fef3c70>"
      ]
     },
     "execution_count": 22,
     "metadata": {},
     "output_type": "execute_result"
    },
    {
     "data": {
      "image/png": "[encoded data removed]",
      "text/plain": [
       "<Figure size 432x288 with 1 Axes>"
      ]
     },
     "metadata": {
      "needs_background": "light"
     },
     "output_type": "display_data"
    }
   ],
   "source": [
    "stock_series.plot()"
   ]
  },
  {
   "cell_type": "markdown",
   "metadata": {},
   "source": [
    "___"
   ]
  },
  {
   "cell_type": "markdown",
   "metadata": {},
   "source": [
    "**Oscilador estocástico**"
   ]
  },
  {
   "cell_type": "code",
   "execution_count": 23,
   "metadata": {},
   "outputs": [],
   "source": [
    "def min_max_scale(s):\n",
    "    \"\"\"\n",
    "    Calcula para un vector s su normalización en el rango [0, 1]\n",
    "    \"\"\"\n",
    "    return (s[-1] - np.min(s)) / (np.max(s) - np.min(s))"
   ]
  },
  {
   "cell_type": "code",
   "execution_count": 24,
   "metadata": {},
   "outputs": [],
   "source": [
    "def stochastic_osc(s, win, lag):\n",
    "    \"\"\"\n",
    "    Calcula el valor del oscilador estocástico\n",
    "     1. calcula la posición relativa del precio en una ventana temporal\n",
    "     2. Suaviza la señal anterior haciendo una media móvil, con tamaño inferior al de la ventana\n",
    "    \"\"\"\n",
    "    so_raw = s.rolling(window=win).apply(min_max_scale, raw=True)\n",
    "    so = so_raw.rolling(window=lag).mean()\n",
    "    return so  "
   ]
  },
  {
   "cell_type": "code",
   "execution_count": 25,
   "metadata": {},
   "outputs": [],
   "source": [
    "def stochastic_osc_signal(s, win=14, lag=3, obought=0.8, osold=0.2):\n",
    "    \"\"\"\n",
    "    Calcula el estado de inversión \"dentro\" (1) o \"fuera\" (0) siguiendo\n",
    "    la señal del oscilador estocástico. Esto es:\n",
    "    - Se compra cuando se cruza de forma ascendente el umbral de sobreventa\n",
    "    - Se vende cuando se cruza de forma descendente el umbral de sobrecompra\n",
    "    \"\"\"\n",
    "    states = pd.Series(np.zeros(s.shape[0]), index=s.index)\n",
    "    so = stochastic_osc(s, win, lag)\n",
    "    if so.iloc[0] > osold:\n",
    "        states.iloc[:1] = 1\n",
    "        curr = 1\n",
    "    else:\n",
    "        curr = 0\n",
    "    \n",
    "    for i in range(s.shape[0] - 2):\n",
    "        if so.iloc[i] < osold and so.iloc[i+1] >= osold:\n",
    "            curr = 1\n",
    "        elif so.iloc[i] > obought and so.iloc[i+1] <= obought: \n",
    "            curr = 0\n",
    "        states.iloc[i+2] = curr\n",
    "    \n",
    "    return states\n",
    "\n",
    "def state_returns(price, states):\n",
    "    \"\"\" Calcula para una serie y unos estados de \n",
    "    estar dentro fuera, cual es el retorno total\n",
    "    correspondiente.\n",
    "    Se debe tener el mismo Index de pandas \n",
    "    \"\"\"\n",
    "    log_ret = np.log(price).diff()\n",
    "    log_ret.iloc[0] = 0\n",
    "    \n",
    "    in_rets = log_ret * states\n",
    "    total_log_ret = in_rets.sum()\n",
    "    simple_ret = np.exp(total_log_ret) - 1\n",
    "    return simple_ret\n",
    "    "
   ]
  },
  {
   "cell_type": "code",
   "execution_count": 26,
   "metadata": {},
   "outputs": [],
   "source": [
    "def backtest_so_returns(vseries, win=14, lag=3, obought=0.8, osold=0.2):\n",
    "    \"\"\"\n",
    "    A partir de una serie de precios, calcula el rendimiento del oscilador estocástico \n",
    "    con los parámetros correspondientes\n",
    "    \"\"\"\n",
    "    f_states = stochastic_osc_signal(\n",
    "        vseries, \n",
    "        win=win, \n",
    "        lag=lag,\n",
    "        obought=obought,\n",
    "        osold=osold)\n",
    "    so_return = state_returns(vseries, f_states)\n",
    "    return so_return"
   ]
  },
  {
   "cell_type": "code",
   "execution_count": 27,
   "metadata": {},
   "outputs": [
    {
     "data": {
      "text/plain": [
       "0.23667751046107655"
      ]
     },
     "execution_count": 27,
     "metadata": {},
     "output_type": "execute_result"
    }
   ],
   "source": [
    "backtest_so_returns(stock_series)"
   ]
  },
  {
   "cell_type": "markdown",
   "metadata": {},
   "source": [
    "### Búsqueda Aleatoria\n",
    "Primero realizaremos una búsqueda aleatoria en un espacio de parámetros para ver las capacidades\n",
    "de una exploración **sin un algoritmo** de búsqueda especializado."
   ]
  },
  {
   "cell_type": "code",
   "execution_count": 28,
   "metadata": {},
   "outputs": [
    {
     "data": {
      "text/plain": [
       "array([0.51, 0.52, 0.53, 0.54, 0.55, 0.56, 0.57, 0.58, 0.59, 0.6 , 0.61,\n",
       "       0.62, 0.63, 0.64, 0.65, 0.66, 0.67, 0.68, 0.69, 0.7 , 0.71, 0.72,\n",
       "       0.73, 0.74, 0.75, 0.76, 0.77, 0.78, 0.79, 0.8 , 0.81, 0.82, 0.83,\n",
       "       0.84, 0.85, 0.86, 0.87, 0.88, 0.89, 0.9 , 0.91, 0.92, 0.93, 0.94,\n",
       "       0.95, 0.96, 0.97, 0.98])"
      ]
     },
     "execution_count": 28,
     "metadata": {},
     "output_type": "execute_result"
    }
   ],
   "source": [
    "obought_space = np.linspace(0.51,0.98,48)\n",
    "obought_space"
   ]
  },
  {
   "cell_type": "code",
   "execution_count": 29,
   "metadata": {},
   "outputs": [
    {
     "data": {
      "text/plain": [
       "array([0.02, 0.03, 0.04, 0.05, 0.06, 0.07, 0.08, 0.09, 0.1 , 0.11, 0.12,\n",
       "       0.13, 0.14, 0.15, 0.16, 0.17, 0.18, 0.19, 0.2 , 0.21, 0.22, 0.23,\n",
       "       0.24, 0.25, 0.26, 0.27, 0.28, 0.29, 0.3 , 0.31, 0.32, 0.33, 0.34,\n",
       "       0.35, 0.36, 0.37, 0.38, 0.39, 0.4 , 0.41, 0.42, 0.43, 0.44, 0.45,\n",
       "       0.46, 0.47, 0.48, 0.49])"
      ]
     },
     "execution_count": 29,
     "metadata": {},
     "output_type": "execute_result"
    }
   ],
   "source": [
    "osold_space = np.linspace(0.02,0.49,48)\n",
    "osold_space"
   ]
  },
  {
   "cell_type": "code",
   "execution_count": 30,
   "metadata": {},
   "outputs": [
    {
     "data": {
      "text/plain": [
       "array([ 10,  11,  12,  13,  14,  15,  16,  17,  18,  19,  20,  21,  22,\n",
       "        23,  24,  25,  26,  27,  28,  29,  30,  31,  32,  33,  34,  35,\n",
       "        36,  37,  38,  39,  40,  41,  42,  43,  44,  45,  46,  47,  48,\n",
       "        49,  50,  51,  52,  53,  54,  55,  56,  57,  58,  59,  60,  61,\n",
       "        62,  63,  64,  65,  66,  67,  68,  69,  70,  71,  72,  73,  74,\n",
       "        75,  76,  77,  78,  79,  80,  81,  82,  83,  84,  85,  86,  87,\n",
       "        88,  89,  90,  91,  92,  93,  94,  95,  96,  97,  98,  99, 100,\n",
       "       101, 102, 103, 104, 105, 106, 107, 108, 109, 110, 111, 112, 113,\n",
       "       114, 115, 116, 117, 118, 119])"
      ]
     },
     "execution_count": 30,
     "metadata": {},
     "output_type": "execute_result"
    }
   ],
   "source": [
    "win_space = np.arange(10,120)\n",
    "win_space"
   ]
  },
  {
   "cell_type": "code",
   "execution_count": 31,
   "metadata": {},
   "outputs": [
    {
     "data": {
      "text/plain": [
       "array([ 1,  2,  3,  4,  5,  6,  7,  8,  9, 10, 11, 12, 13, 14, 15, 16, 17,\n",
       "       18, 19, 20, 21, 22, 23, 24, 25, 26, 27, 28, 29, 30, 31, 32, 33, 34,\n",
       "       35, 36, 37, 38, 39, 40, 41, 42, 43, 44, 45, 46, 47, 48, 49])"
      ]
     },
     "execution_count": 31,
     "metadata": {},
     "output_type": "execute_result"
    }
   ],
   "source": [
    "lag_space = np.arange(1,50)\n",
    "lag_space"
   ]
  },
  {
   "cell_type": "code",
   "execution_count": 32,
   "metadata": {},
   "outputs": [
    {
     "data": {
      "text/plain": [
       "12418560"
      ]
     },
     "execution_count": 32,
     "metadata": {},
     "output_type": "execute_result"
    }
   ],
   "source": [
    "# numero de estados posibles en el espacio de parametros que hemos definido\n",
    "win_space.shape[0]*lag_space.shape[0]*obought_space.shape[0]*osold_space.shape[0]"
   ]
  },
  {
   "cell_type": "code",
   "execution_count": 33,
   "metadata": {},
   "outputs": [],
   "source": [
    "# A partir del espacio de parámetros que hemos definido anteriormente\n",
    "# podemos generar set de parametros aleatorios, solo con la condición\n",
    "# que el lag sea menor que la ventana\n",
    "def rand_state():\n",
    "    win = np.random.choice(win_space)\n",
    "    avail_lag = lag_space[lag_space < win]\n",
    "    \n",
    "    state =  {\n",
    "        'win': win,\n",
    "        'lag': np.random.choice(avail_lag), \n",
    "        'obought':np.random.choice(obought_space), \n",
    "        'osold':np.random.choice(osold_space)\n",
    "    }\n",
    "    return state"
   ]
  },
  {
   "cell_type": "code",
   "execution_count": 34,
   "metadata": {},
   "outputs": [
    {
     "data": {
      "text/plain": [
       "{'win': 18, 'lag': 10, 'obought': 0.91, 'osold': 0.48000000000000004}"
      ]
     },
     "execution_count": 34,
     "metadata": {},
     "output_type": "execute_result"
    }
   ],
   "source": [
    "rstate = rand_state()\n",
    "rstate "
   ]
  },
  {
   "cell_type": "code",
   "execution_count": 35,
   "metadata": {},
   "outputs": [
    {
     "data": {
      "text/plain": [
       "0.06933061773294869"
      ]
     },
     "execution_count": 35,
     "metadata": {},
     "output_type": "execute_result"
    }
   ],
   "source": [
    "# rendimiento sobre los parámetros aleatorios\n",
    "backtest_so_returns(stock_series, **rstate)"
   ]
  },
  {
   "cell_type": "markdown",
   "metadata": {},
   "source": [
    "Generaremos estados n aleatorios y guardaremos el máximo obtenido hasta el momento"
   ]
  },
  {
   "cell_type": "code",
   "execution_count": 36,
   "metadata": {},
   "outputs": [
    {
     "name": "stdout",
     "output_type": "stream",
     "text": [
      "0: return:0.0 -->{'win': 108, 'lag': 37, 'obought': 0.8300000000000001, 'osold': 0.05}\n",
      "1: return:0.22994801364195872 -->{'win': 69, 'lag': 25, 'obought': 0.9, 'osold': 0.36000000000000004}\n",
      "2: return:0.4633741073042912 -->{'win': 43, 'lag': 38, 'obought': 0.91, 'osold': 0.44}\n",
      "27: return:1.0182717336630303 -->{'win': 114, 'lag': 24, 'obought': 0.96, 'osold': 0.48000000000000004}\n",
      "175: return:1.4190716865446245 -->{'win': 47, 'lag': 31, 'obought': 0.92, 'osold': 0.30000000000000004}\n"
     ]
    }
   ],
   "source": [
    "n = 200\n",
    "best_return = -1\n",
    "for i in range(n):\n",
    "    i_state = rand_state()\n",
    "    i_return = backtest_so_returns(stock_series, **i_state)\n",
    "    if i_return > best_return:\n",
    "        best_return = i_return\n",
    "        print (f'{i}: return:{best_return} -->{i_state}')\n",
    "    "
   ]
  },
  {
   "cell_type": "markdown",
   "metadata": {},
   "source": [
    "___"
   ]
  },
  {
   "cell_type": "markdown",
   "metadata": {},
   "source": [
    "### Búsqueda Local Estocástica\n",
    "En este apartado utilizaremos técnicas de SLS para mejorar la exploración sobre \n",
    "el conjunto de parámetros"
   ]
  },
  {
   "cell_type": "markdown",
   "metadata": {},
   "source": [
    "Primero tenemos que definir una función que calcula la \"vencidad\" de un nodo, esto es,\n",
    "el conjunto de estados a los que podríamos movernos en un paso de la búsqueda"
   ]
  },
  {
   "cell_type": "code",
   "execution_count": 37,
   "metadata": {},
   "outputs": [],
   "source": [
    "def sucesores(params):\n",
    "    min_win, max_win=10, 120\n",
    "    min_lag, max_lag=1, 50\n",
    "    min_ob, max_ob=0.51,0.98\n",
    "    min_os, max_os=0.02,0.49 \n",
    "    \n",
    "     # win=14, lag=3, obought=0.8, osold=0.2\n",
    "    succ = []\n",
    "    s = params.copy()\n",
    "    if s['win'] < max_win:\n",
    "        s['win'] += 1\n",
    "        succ.append(s)\n",
    "        \n",
    "    s = params.copy()\n",
    "    if s['win'] > min_win:\n",
    "        s['win'] -= 1\n",
    "        succ.append(s)\n",
    "        \n",
    "    s = params.copy()\n",
    "    if s['lag'] < max_lag and s['lag']+1 < s['win']:\n",
    "        s['lag'] += 1\n",
    "        succ.append(s)\n",
    "        \n",
    "    s = params.copy()\n",
    "    if s['lag'] < max_lag and s['lag'] > 0:\n",
    "        s['lag'] -= 1\n",
    "        succ.append(s)\n",
    "    \n",
    "    s = params.copy()\n",
    "    if s['obought'] < max_ob:\n",
    "        s['obought'] += 0.02\n",
    "        succ.append(s)\n",
    "    \n",
    "    s = params.copy()\n",
    "    if s['obought'] > min_ob:\n",
    "        s['obought'] -= 0.02\n",
    "        succ.append(s)\n",
    "    \n",
    "    s = params.copy()\n",
    "    if s['osold'] < max_os:\n",
    "        s['osold'] += 0.02\n",
    "        succ.append(s)\n",
    "    \n",
    "    s = params.copy()\n",
    "    if s['osold'] > min_os:\n",
    "        s['osold'] -= 0.02\n",
    "        succ.append(s)\n",
    "        \n",
    "    return succ"
   ]
  },
  {
   "cell_type": "code",
   "execution_count": 38,
   "metadata": {},
   "outputs": [],
   "source": [
    "root = {\n",
    "    'win':15,\n",
    "    'lag':3, \n",
    "    'obought':0.8, \n",
    "    'osold':0.2\n",
    "}"
   ]
  },
  {
   "cell_type": "code",
   "execution_count": 39,
   "metadata": {},
   "outputs": [
    {
     "data": {
      "text/plain": [
       "[{'win': 16, 'lag': 3, 'obought': 0.8, 'osold': 0.2},\n",
       " {'win': 14, 'lag': 3, 'obought': 0.8, 'osold': 0.2},\n",
       " {'win': 15, 'lag': 4, 'obought': 0.8, 'osold': 0.2},\n",
       " {'win': 15, 'lag': 2, 'obought': 0.8, 'osold': 0.2},\n",
       " {'win': 15, 'lag': 3, 'obought': 0.8200000000000001, 'osold': 0.2},\n",
       " {'win': 15, 'lag': 3, 'obought': 0.78, 'osold': 0.2},\n",
       " {'win': 15, 'lag': 3, 'obought': 0.8, 'osold': 0.22},\n",
       " {'win': 15, 'lag': 3, 'obought': 0.8, 'osold': 0.18000000000000002}]"
      ]
     },
     "execution_count": 39,
     "metadata": {},
     "output_type": "execute_result"
    }
   ],
   "source": [
    "sucesores(root)"
   ]
  },
  {
   "cell_type": "code",
   "execution_count": 40,
   "metadata": {},
   "outputs": [],
   "source": [
    "def iterative_improvement_so(vseries, params, niter=30):\n",
    "    state = params\n",
    "    hbase = backtest_so_returns(vseries, **state)\n",
    "    i = 0\n",
    "    while i < niter:\n",
    "        i = i +1\n",
    "        succ = sucesores(state)\n",
    "        h_vals = [backtest_so_returns(vseries, **c_i) for c_i in succ]\n",
    "        best_idx = h_vals.index(max(h_vals))\n",
    "        best_succ = succ[best_idx]\n",
    "        best_h = h_vals[best_idx]\n",
    "        #print(f\"best_h {round(best_h,3)}\")\n",
    "        if best_h > hbase:\n",
    "            state = best_succ\n",
    "            hbase = best_h\n",
    "            print (f'{i}: return:{best_h} -->{best_succ}')\n",
    "        else:\n",
    "            #print(\"no better successor\")\n",
    "            break\n",
    "            \n",
    "    return state, hbase\n"
   ]
  },
  {
   "cell_type": "code",
   "execution_count": 45,
   "metadata": {},
   "outputs": [
    {
     "name": "stdout",
     "output_type": "stream",
     "text": [
      "1: return:-0.13918995342815277 -->{'win': 62, 'lag': 38, 'obought': 0.53, 'osold': 0.36000000000000004}\n",
      "2: return:-0.03606172305594357 -->{'win': 63, 'lag': 38, 'obought': 0.53, 'osold': 0.36000000000000004}\n"
     ]
    },
    {
     "data": {
      "text/plain": [
       "({'win': 63, 'lag': 38, 'obought': 0.53, 'osold': 0.36000000000000004},\n",
       " -0.03606172305594357)"
      ]
     },
     "execution_count": 45,
     "metadata": {},
     "output_type": "execute_result"
    }
   ],
   "source": [
    "init_state = rand_state()\n",
    "iterative_improvement_so(stock_series, init_state, niter=30)"
   ]
  },
  {
   "cell_type": "code",
   "execution_count": 46,
   "metadata": {},
   "outputs": [],
   "source": [
    "def sortedrestart_iimprovements_so(vseries, restarts=20):\n",
    "    init_states = [rand_state() for i in range(restarts)]  \n",
    "    h_vals = [backtest_so_returns(vseries, **c_i) for c_i in init_states]\n",
    "    h_sorted_idx = sorted(range(len(h_vals)), \n",
    "                          key=lambda k: h_vals[k],\n",
    "                          reverse=True)\n",
    "    \n",
    "    global_best = -1 \n",
    "\n",
    "    for i, idx_sorted in enumerate(h_sorted_idx):\n",
    "        iparams = init_states[idx_sorted]\n",
    "        print(f\"New restart {i}...\")\n",
    "        best_restart, h_restart = iterative_improvement_so(stock_series, iparams, 10)\n",
    "        \n",
    "        if h_restart > global_best:\n",
    "            global_best = h_restart\n",
    "            global_state = best_restart\n",
    "            print (f'{i}: Global improvement, return:{h_restart} -->{best_restart}')\n",
    "        \n",
    "    return global_state, global_best\n"
   ]
  },
  {
   "cell_type": "code",
   "execution_count": 47,
   "metadata": {},
   "outputs": [
    {
     "name": "stdout",
     "output_type": "stream",
     "text": [
      "New restart 0...\n",
      "1: return:0.7201573666151055 -->{'win': 109, 'lag': 28, 'obought': 0.9199999999999999, 'osold': 0.39}\n",
      "2: return:0.7593736773820603 -->{'win': 109, 'lag': 28, 'obought': 0.9199999999999999, 'osold': 0.41000000000000003}\n",
      "0: Global improvement, return:0.7593736773820603 -->{'win': 109, 'lag': 28, 'obought': 0.9199999999999999, 'osold': 0.41000000000000003}\n",
      "New restart 1...\n",
      "1: return:0.7159278935722184 -->{'win': 33, 'lag': 12, 'obought': 0.99, 'osold': 0.39}\n",
      "2: return:0.7847002434947143 -->{'win': 32, 'lag': 12, 'obought': 0.99, 'osold': 0.39}\n",
      "1: Global improvement, return:0.7847002434947143 -->{'win': 32, 'lag': 12, 'obought': 0.99, 'osold': 0.39}\n",
      "New restart 2...\n",
      "1: return:0.5315217653720266 -->{'win': 112, 'lag': 13, 'obought': 0.69, 'osold': 0.39}\n",
      "2: return:0.650627860382432 -->{'win': 112, 'lag': 13, 'obought': 0.69, 'osold': 0.37}\n",
      "3: return:0.6553347542510088 -->{'win': 112, 'lag': 13, 'obought': 0.69, 'osold': 0.35}\n",
      "4: return:0.6795307552629226 -->{'win': 112, 'lag': 14, 'obought': 0.69, 'osold': 0.35}\n",
      "5: return:0.7245575109078819 -->{'win': 112, 'lag': 14, 'obought': 0.71, 'osold': 0.35}\n",
      "New restart 3...\n",
      "1: return:0.46600678130273043 -->{'win': 115, 'lag': 17, 'obought': 0.81, 'osold': 0.41000000000000003}\n",
      "New restart 4...\n",
      "1: return:0.385351648930915 -->{'win': 110, 'lag': 5, 'obought': 0.94, 'osold': 0.26}\n",
      "2: return:0.40882645186831 -->{'win': 110, 'lag': 5, 'obought': 0.96, 'osold': 0.26}\n",
      "3: return:0.5483567103151381 -->{'win': 110, 'lag': 5, 'obought': 0.98, 'osold': 0.26}\n",
      "4: return:0.5579050682444506 -->{'win': 111, 'lag': 5, 'obought': 0.98, 'osold': 0.26}\n",
      "New restart 5...\n",
      "1: return:0.24801952640981462 -->{'win': 88, 'lag': 17, 'obought': 0.66, 'osold': 0.17}\n",
      "2: return:0.31899887076579825 -->{'win': 88, 'lag': 16, 'obought': 0.66, 'osold': 0.17}\n",
      "3: return:0.3723623136448717 -->{'win': 88, 'lag': 16, 'obought': 0.68, 'osold': 0.17}\n",
      "4: return:0.42786728183996825 -->{'win': 87, 'lag': 16, 'obought': 0.68, 'osold': 0.17}\n",
      "5: return:0.45060202439476726 -->{'win': 87, 'lag': 16, 'obought': 0.68, 'osold': 0.15000000000000002}\n",
      "New restart 6...\n",
      "1: return:0.2590790046834237 -->{'win': 37, 'lag': 11, 'obought': 0.81, 'osold': 0.32}\n",
      "New restart 7...\n",
      "1: return:0.19857011889579934 -->{'win': 17, 'lag': 5, 'obought': 0.69, 'osold': 0.16}\n",
      "2: return:0.2684046389100341 -->{'win': 17, 'lag': 5, 'obought': 0.71, 'osold': 0.16}\n",
      "3: return:0.3180098729945413 -->{'win': 17, 'lag': 5, 'obought': 0.73, 'osold': 0.16}\n",
      "New restart 8...\n",
      "1: return:0.1904123873955168 -->{'win': 84, 'lag': 6, 'obought': 0.91, 'osold': 0.16999999999999998}\n",
      "2: return:0.2392678915491966 -->{'win': 84, 'lag': 6, 'obought': 0.91, 'osold': 0.18999999999999997}\n",
      "3: return:0.37727280795882123 -->{'win': 84, 'lag': 6, 'obought': 0.91, 'osold': 0.20999999999999996}\n",
      "4: return:0.40800587234791097 -->{'win': 84, 'lag': 6, 'obought': 0.91, 'osold': 0.22999999999999995}\n",
      "5: return:0.4205867177070566 -->{'win': 84, 'lag': 6, 'obought': 0.89, 'osold': 0.22999999999999995}\n",
      "6: return:0.4212746014048776 -->{'win': 84, 'lag': 6, 'obought': 0.87, 'osold': 0.22999999999999995}\n",
      "New restart 9...\n",
      "1: return:0.13473851656722946 -->{'win': 18, 'lag': 8, 'obought': 0.81, 'osold': 0.38}\n",
      "2: return:0.16321723959412382 -->{'win': 19, 'lag': 8, 'obought': 0.81, 'osold': 0.38}\n",
      "3: return:0.18679363591670084 -->{'win': 19, 'lag': 8, 'obought': 0.81, 'osold': 0.36}\n",
      "New restart 10...\n",
      "1: return:0.20720424453006148 -->{'win': 39, 'lag': 7, 'obought': 0.75, 'osold': 0.19999999999999998}\n",
      "2: return:0.2258711596284999 -->{'win': 39, 'lag': 7, 'obought': 0.77, 'osold': 0.19999999999999998}\n",
      "3: return:0.259107140041982 -->{'win': 39, 'lag': 6, 'obought': 0.77, 'osold': 0.19999999999999998}\n",
      "4: return:0.28272973432458004 -->{'win': 38, 'lag': 6, 'obought': 0.77, 'osold': 0.19999999999999998}\n",
      "New restart 11...\n",
      "1: return:0.16852772389483484 -->{'win': 34, 'lag': 32, 'obought': 0.8200000000000001, 'osold': 0.16999999999999998}\n",
      "2: return:0.18285463686276437 -->{'win': 34, 'lag': 32, 'obought': 0.8400000000000001, 'osold': 0.16999999999999998}\n",
      "3: return:0.20742097294873396 -->{'win': 34, 'lag': 32, 'obought': 0.8600000000000001, 'osold': 0.16999999999999998}\n",
      "New restart 12...\n",
      "1: return:0.15080160273634347 -->{'win': 110, 'lag': 8, 'obought': 0.8, 'osold': 0.21}\n",
      "New restart 13...\n",
      "1: return:0.31094569286081986 -->{'win': 49, 'lag': 34, 'obought': 0.63, 'osold': 0.32000000000000006}\n",
      "2: return:0.4047924692521694 -->{'win': 49, 'lag': 34, 'obought': 0.65, 'osold': 0.32000000000000006}\n",
      "3: return:0.4690262826312468 -->{'win': 49, 'lag': 34, 'obought': 0.67, 'osold': 0.32000000000000006}\n",
      "4: return:0.477043123727275 -->{'win': 50, 'lag': 34, 'obought': 0.67, 'osold': 0.32000000000000006}\n",
      "5: return:0.518880889873482 -->{'win': 50, 'lag': 33, 'obought': 0.67, 'osold': 0.32000000000000006}\n",
      "6: return:0.5216447935847488 -->{'win': 50, 'lag': 33, 'obought': 0.67, 'osold': 0.3400000000000001}\n",
      "New restart 14...\n",
      "1: return:0.13095238095238115 -->{'win': 57, 'lag': 15, 'obought': 0.62, 'osold': 0.03}\n",
      "2: return:0.14285714285714302 -->{'win': 57, 'lag': 14, 'obought': 0.62, 'osold': 0.03}\n",
      "New restart 15...\n",
      "1: return:0.301178168766685 -->{'win': 87, 'lag': 3, 'obought': 0.55, 'osold': 0.12000000000000001}\n",
      "2: return:0.39814109962457467 -->{'win': 87, 'lag': 3, 'obought': 0.53, 'osold': 0.12000000000000001}\n",
      "3: return:0.4449001292401027 -->{'win': 86, 'lag': 3, 'obought': 0.53, 'osold': 0.12000000000000001}\n",
      "4: return:0.4540436595871127 -->{'win': 85, 'lag': 3, 'obought': 0.53, 'osold': 0.12000000000000001}\n",
      "5: return:0.4982876389091577 -->{'win': 85, 'lag': 3, 'obought': 0.51, 'osold': 0.12000000000000001}\n",
      "New restart 16...\n",
      "1: return:0.03189169226850663 -->{'win': 88, 'lag': 33, 'obought': 0.61, 'osold': 0.1}\n",
      "New restart 17...\n",
      "1: return:0.5133473812373224 -->{'win': 109, 'lag': 13, 'obought': 0.81, 'osold': 0.12000000000000001}\n",
      "2: return:0.6159480549252003 -->{'win': 109, 'lag': 13, 'obought': 0.8300000000000001, 'osold': 0.12000000000000001}\n",
      "New restart 18...\n",
      "1: return:0.007995994950027008 -->{'win': 67, 'lag': 49, 'obought': 0.59, 'osold': 0.22999999999999998}\n",
      "2: return:0.012842129598904295 -->{'win': 66, 'lag': 49, 'obought': 0.59, 'osold': 0.22999999999999998}\n",
      "3: return:0.04687095074036263 -->{'win': 66, 'lag': 48, 'obought': 0.59, 'osold': 0.22999999999999998}\n",
      "4: return:0.04734946044494226 -->{'win': 66, 'lag': 48, 'obought': 0.59, 'osold': 0.24999999999999997}\n",
      "5: return:0.05500620615139762 -->{'win': 67, 'lag': 48, 'obought': 0.59, 'osold': 0.24999999999999997}\n",
      "6: return:0.07106510634988417 -->{'win': 68, 'lag': 48, 'obought': 0.59, 'osold': 0.24999999999999997}\n",
      "7: return:0.07166973791868902 -->{'win': 69, 'lag': 48, 'obought': 0.59, 'osold': 0.24999999999999997}\n",
      "8: return:0.07327619056353774 -->{'win': 69, 'lag': 47, 'obought': 0.59, 'osold': 0.24999999999999997}\n",
      "New restart 19...\n",
      "1: return:0.1786828473020543 -->{'win': 48, 'lag': 25, 'obought': 0.61, 'osold': 0.07}\n",
      "2: return:0.19084868848844505 -->{'win': 47, 'lag': 25, 'obought': 0.61, 'osold': 0.07}\n",
      "3: return:0.19604323018041825 -->{'win': 46, 'lag': 25, 'obought': 0.61, 'osold': 0.07}\n",
      "New restart 20...\n",
      "New restart 21...\n",
      "1: return:0.052841171434269585 -->{'win': 68, 'lag': 16, 'obought': 0.89, 'osold': 0.14}\n",
      "2: return:0.17328315455586507 -->{'win': 68, 'lag': 16, 'obought': 0.89, 'osold': 0.16}\n",
      "3: return:0.25400027483240284 -->{'win': 68, 'lag': 15, 'obought': 0.89, 'osold': 0.16}\n",
      "4: return:0.28838360119274364 -->{'win': 68, 'lag': 15, 'obought': 0.87, 'osold': 0.16}\n",
      "5: return:0.6421776022406271 -->{'win': 68, 'lag': 15, 'obought': 0.85, 'osold': 0.16}\n",
      "6: return:0.6789139143801277 -->{'win': 67, 'lag': 15, 'obought': 0.85, 'osold': 0.16}\n",
      "7: return:0.7715544156205201 -->{'win': 66, 'lag': 15, 'obought': 0.85, 'osold': 0.16}\n",
      "8: return:0.7860032636778511 -->{'win': 65, 'lag': 15, 'obought': 0.85, 'osold': 0.16}\n",
      "21: Global improvement, return:0.7860032636778511 -->{'win': 65, 'lag': 15, 'obought': 0.85, 'osold': 0.16}\n",
      "New restart 22...\n",
      "1: return:-0.0873215859591372 -->{'win': 91, 'lag': 34, 'obought': 0.51, 'osold': 0.46}\n",
      "New restart 23...\n",
      "1: return:-0.09706727077494681 -->{'win': 45, 'lag': 23, 'obought': 0.5700000000000001, 'osold': 0.19999999999999998}\n",
      "2: return:0.22926287270099288 -->{'win': 45, 'lag': 22, 'obought': 0.5700000000000001, 'osold': 0.19999999999999998}\n",
      "3: return:0.2330485775802693 -->{'win': 44, 'lag': 22, 'obought': 0.5700000000000001, 'osold': 0.19999999999999998}\n",
      "4: return:0.23854612307535095 -->{'win': 44, 'lag': 21, 'obought': 0.5700000000000001, 'osold': 0.19999999999999998}\n",
      "5: return:0.2763934067309426 -->{'win': 44, 'lag': 21, 'obought': 0.5900000000000001, 'osold': 0.19999999999999998}\n",
      "6: return:0.30141061170046335 -->{'win': 44, 'lag': 20, 'obought': 0.5900000000000001, 'osold': 0.19999999999999998}\n",
      "7: return:0.3125206914046783 -->{'win': 44, 'lag': 19, 'obought': 0.5900000000000001, 'osold': 0.19999999999999998}\n",
      "New restart 24...\n",
      "1: return:-0.0814053150454439 -->{'win': 109, 'lag': 16, 'obought': 0.55, 'osold': 0.1}\n",
      "2: return:-0.08107877182873757 -->{'win': 109, 'lag': 15, 'obought': 0.55, 'osold': 0.1}\n",
      "3: return:-0.08030651757535812 -->{'win': 109, 'lag': 15, 'obought': 0.53, 'osold': 0.1}\n",
      "4: return:-0.010954454724847129 -->{'win': 108, 'lag': 15, 'obought': 0.53, 'osold': 0.1}\n",
      "5: return:-0.0030701923216529536 -->{'win': 107, 'lag': 15, 'obought': 0.53, 'osold': 0.1}\n"
     ]
    }
   ],
   "source": [
    "res_res = sortedrestart_iimprovements_so(stock_series, restarts=25)    \n"
   ]
  },
  {
   "cell_type": "code",
   "execution_count": null,
   "metadata": {},
   "outputs": [],
   "source": [
    "res_res"
   ]
  },
  {
   "cell_type": "code",
   "execution_count": null,
   "metadata": {},
   "outputs": [],
   "source": []
  }
 ],
 "metadata": {
  "kernelspec": {
   "display_name": "Python 3",
   "language": "python",
   "name": "python3"
  },
  "language_info": {
   "codemirror_mode": {
    "name": "ipython",
    "version": 3
   },
   "file_extension": ".py",
   "mimetype": "text/x-python",
   "name": "python",
   "nbconvert_exporter": "python",
   "pygments_lexer": "ipython3",
   "version": "3.8.3"
  }
 },
 "nbformat": 4,
 "nbformat_minor": 4
}
