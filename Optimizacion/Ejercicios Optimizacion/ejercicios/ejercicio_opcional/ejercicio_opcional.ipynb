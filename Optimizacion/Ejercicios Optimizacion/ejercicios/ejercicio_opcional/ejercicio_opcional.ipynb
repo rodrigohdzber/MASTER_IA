{
 "cells": [
  {
   "cell_type": "markdown",
   "metadata": {},
   "source": [
    "## Optimización \n",
    "### Ejercicio Opcional\n",
    "En este cuaderno planteamos un ejercicio que puede ser desarrollado por el alumno y que puede entregarse de forma voluntaria en la plataforma del Aula Virtual. Tras la corrección el resultado se considerará para subir hasta 1 punto la nota de la práctica de introducción al Machine Learning"
   ]
  },
  {
   "cell_type": "markdown",
   "metadata": {},
   "source": [
    "### Descripción\n",
    "\n",
    "La idea consiste en desarrollar un programa que nos permita calcular cada fin de mes la cartera óptima de Markovitz para el IBEX35, pero que a su vez cumpla con las restricciones de diversificación de la normativa UCITS.  Para eso necesitamos un solver cuadrático con variables enteras, por lo que será necesario instalar el solver XPRESS con su licencia de uso libre. (Basta instalar el paquete con el pip).\n",
    "\n",
    "**Consideraciones**\n",
    "  1. Calcular la frontera eficiente a partir de la rentabilidad y riesgo estimados con una ventana de los últimos 3 meses.\n",
    "  2. Todas las posiciones están limitadas al 10%. Además la cartera está sujeta a que la suma de las posiciones que sean más del 5%, no superen el 40%. \n",
    "  3. En el recalculo recurrente considerar que no se puede rotar la cartera más de un X por ciento elegido por el alumno.\n",
    "\n"
   ]
  },
  {
   "cell_type": "code",
   "execution_count": null,
   "metadata": {},
   "outputs": [],
   "source": []
  }
 ],
 "metadata": {
  "kernelspec": {
   "display_name": "Python 3",
   "language": "python",
   "name": "python3"
  },
  "language_info": {
   "codemirror_mode": {
    "name": "ipython",
    "version": 3
   },
   "file_extension": ".py",
   "mimetype": "text/x-python",
   "name": "python",
   "nbconvert_exporter": "python",
   "pygments_lexer": "ipython3",
   "version": "3.8.3"
  }
 },
 "nbformat": 4,
 "nbformat_minor": 4
}
