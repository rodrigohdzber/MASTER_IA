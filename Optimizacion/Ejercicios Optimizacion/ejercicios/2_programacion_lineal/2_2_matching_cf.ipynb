{
 "cells": [
  {
   "cell_type": "markdown",
   "metadata": {},
   "source": [
    "## Programación Lineal\n",
    "### Coincidencia de Flujos de Caja\n",
    "Si tenemos varias alternativas de financiación y disponemos de una planificación de los flujos de caja necesarios para un proyecto, podemos construir un problema de programación lineal para hacer coincidir los flujos de caja con el efectivo disponible en cada momento"
   ]
  },
  {
   "cell_type": "code",
   "execution_count": 2,
   "metadata": {},
   "outputs": [],
   "source": [
    "import numpy as np\n",
    "import pandas as pd\n",
    "import cvxpy as cp"
   ]
  },
  {
   "cell_type": "markdown",
   "metadata": {},
   "source": [
    "### Descripción \n",
    "Un proyecto de **5 años** tiene los siguientes flujos de caja estimados (en millones)"
   ]
  },
  {
   "cell_type": "markdown",
   "metadata": {},
   "source": [
    "| Año | y1 | y2 | y3 | y4 | y5 |\n",
    "|----:|---:|---:|---:|---:|---:|\n",
    "|Flujos Netos | -5.2 | 0.4 | -1.5 | 2.7 | 7.8 |"
   ]
  },
  {
   "cell_type": "markdown",
   "metadata": {},
   "source": [
    "Para el proyecto podemos financiarnos de la siguiente forma.\n",
    "- Prestamos bancarios que se pagan al final de año a un interés del 0.03%\n",
    "- Emitir bonos a 2 años con cupón anual del 0.02%\n",
    "- El efectivo sobrante recibe un 0.005% anual invertido en mercados monetarios"
   ]
  },
  {
   "cell_type": "markdown",
   "metadata": {},
   "source": [
    "### Modelo"
   ]
  },
  {
   "cell_type": "code",
   "execution_count": 3,
   "metadata": {},
   "outputs": [
    {
     "data": {
      "text/plain": [
       "array([-5.2,  0.4, -1.5,  2.7,  7.8])"
      ]
     },
     "execution_count": 3,
     "metadata": {},
     "output_type": "execute_result"
    }
   ],
   "source": [
    "# años\n",
    "n=5\n",
    "\n",
    "# flujos de caja\n",
    "cf = np.array([-5.2, 0.4, -1.5, 2.7, 7.8 ])\n",
    "cf"
   ]
  },
  {
   "cell_type": "code",
   "execution_count": 4,
   "metadata": {},
   "outputs": [],
   "source": [
    "r_b = 0.03     #interes bancario\n",
    "r_c = 0.02     #cupon bono\n",
    "r_z = 0.005    #interes ahorro"
   ]
  },
  {
   "cell_type": "code",
   "execution_count": 5,
   "metadata": {},
   "outputs": [],
   "source": [
    "X = cp.Variable(5) # cada año prestamos al banco\n",
    "Y = cp.Variable(5) # cada año emision de bonos\n",
    "Z = cp.Variable(5) # cada año efectivo sobrante "
   ]
  },
  {
   "cell_type": "code",
   "execution_count": 6,
   "metadata": {},
   "outputs": [],
   "source": [
    "objetivo = cp.Maximize(Z[4])"
   ]
  },
  {
   "cell_type": "code",
   "execution_count": 7,
   "metadata": {},
   "outputs": [],
   "source": [
    "c_y1 =    X[0] + Y[0] - Z[0]                                         == -cf[0]\n",
    "c_y2 =    X[1] + Y[1] - Z[1]  -X[0]*(1+r_b) -Y[0]*r_c + Z[0]*(1+r_z)   == -cf[1] "
   ]
  },
  {
   "cell_type": "code",
   "execution_count": 8,
   "metadata": {},
   "outputs": [],
   "source": [
    "constraints = [X >= 0, Y>=0, Z>=0]\n",
    "constraints.append(c_y1)\n",
    "constraints.append(c_y2)"
   ]
  },
  {
   "cell_type": "code",
   "execution_count": 9,
   "metadata": {},
   "outputs": [],
   "source": [
    "for i in range(2,5):\n",
    "    c_yi = X[i] + Y[i] - Z[i] - X[i-1]*(1+r_b) - Y[i-2]*(1+r_c) - Y[i-1]*r_c + Z[i-1]*(1+r_z) == -cf[i] \n",
    "    constraints.append(c_yi)"
   ]
  },
  {
   "cell_type": "code",
   "execution_count": 10,
   "metadata": {},
   "outputs": [],
   "source": [
    "constraints.append(X[-1] == 0)\n",
    "constraints.append(Y[-2:] == 0)"
   ]
  },
  {
   "cell_type": "code",
   "execution_count": 11,
   "metadata": {},
   "outputs": [
    {
     "data": {
      "text/plain": [
       "[Inequality(Constant(CONSTANT, ZERO, ())),\n",
       " Inequality(Constant(CONSTANT, ZERO, ())),\n",
       " Inequality(Constant(CONSTANT, ZERO, ())),\n",
       " Equality(Expression(AFFINE, UNKNOWN, ()), Constant(CONSTANT, NONNEGATIVE, ())),\n",
       " Equality(Expression(AFFINE, UNKNOWN, ()), Constant(CONSTANT, NONPOSITIVE, ())),\n",
       " Equality(Expression(AFFINE, UNKNOWN, ()), Constant(CONSTANT, NONNEGATIVE, ())),\n",
       " Equality(Expression(AFFINE, UNKNOWN, ()), Constant(CONSTANT, NONPOSITIVE, ())),\n",
       " Equality(Expression(AFFINE, UNKNOWN, ()), Constant(CONSTANT, NONPOSITIVE, ())),\n",
       " Equality(Expression(AFFINE, UNKNOWN, ()), Constant(CONSTANT, ZERO, ())),\n",
       " Equality(Expression(AFFINE, UNKNOWN, (2,)), Constant(CONSTANT, ZERO, ()))]"
      ]
     },
     "execution_count": 11,
     "metadata": {},
     "output_type": "execute_result"
    }
   ],
   "source": [
    "constraints"
   ]
  },
  {
   "cell_type": "code",
   "execution_count": 12,
   "metadata": {},
   "outputs": [],
   "source": [
    "prob = cp.Problem(objetivo, constraints)"
   ]
  },
  {
   "cell_type": "code",
   "execution_count": 13,
   "metadata": {},
   "outputs": [
    {
     "name": "stdout",
     "output_type": "stream",
     "text": [
      "===============================================================================\n",
      "                                     CVXPY                                     \n",
      "                                    v1.1.15                                    \n",
      "===============================================================================\n",
      "(CVXPY) Sep 18 01:17:00 PM: Your problem has 15 variables, 10 constraints, and 0 parameters.\n",
      "(CVXPY) Sep 18 01:17:00 PM: It is compliant with the following grammars: DCP, DQCP\n",
      "(CVXPY) Sep 18 01:17:00 PM: (If you need to solve this problem multiple times, but with different data, consider using parameters.)\n",
      "(CVXPY) Sep 18 01:17:00 PM: CVXPY will first compile your problem; then, it will invoke a numerical solver to obtain a solution.\n",
      "-------------------------------------------------------------------------------\n",
      "                                  Compilation                                  \n",
      "-------------------------------------------------------------------------------\n",
      "(CVXPY) Sep 18 01:17:00 PM: Compiling problem (target solver=ECOS).\n",
      "(CVXPY) Sep 18 01:17:00 PM: Reduction chain: FlipObjective -> Dcp2Cone -> CvxAttr2Constr -> ConeMatrixStuffing -> ECOS\n",
      "(CVXPY) Sep 18 01:17:00 PM: Applying reduction FlipObjective\n",
      "(CVXPY) Sep 18 01:17:00 PM: Applying reduction Dcp2Cone\n",
      "(CVXPY) Sep 18 01:17:00 PM: Applying reduction CvxAttr2Constr\n",
      "(CVXPY) Sep 18 01:17:00 PM: Applying reduction ConeMatrixStuffing\n",
      "(CVXPY) Sep 18 01:17:00 PM: Applying reduction ECOS\n",
      "(CVXPY) Sep 18 01:17:00 PM: Finished problem compilation (took 2.600e-02 seconds).\n",
      "-------------------------------------------------------------------------------\n",
      "                                Numerical solver                               \n",
      "-------------------------------------------------------------------------------\n",
      "(CVXPY) Sep 18 01:17:00 PM: Invoking solver ECOS  to obtain a solution.\n",
      "\n",
      "ECOS 2.0.7 - (C) embotech GmbH, Zurich Switzerland, 2012-15. Web: www.embotech.com/ECOS\n",
      "\n",
      "It     pcost       dcost      gap   pres   dres    k/t    mu     step   sigma     IR    |   BT\n",
      " 0  -3.809e+00  -3.809e+00  +5e+01  5e-01  5e-01  1e+00  3e+00    ---    ---    1  1  - |  -  - \n",
      " 1  -3.647e+00  -3.352e+00  +2e+00  2e-02  2e-02  3e-01  2e-01  0.9890  6e-02   0  0  0 |  0  0\n",
      " 2  -3.715e+00  -3.700e+00  +5e-01  2e-03  2e-03  2e-02  4e-02  0.8410  2e-02   0  0  0 |  0  0\n",
      " 3  -3.756e+00  -3.755e+00  +4e-02  1e-04  2e-04  2e-03  3e-03  0.9253  2e-02   1  0  0 |  0  0\n",
      " 4  -3.760e+00  -3.760e+00  +6e-03  1e-05  2e-05  9e-05  4e-04  0.9890  1e-01   1  0  0 |  0  0\n",
      " 5  -3.760e+00  -3.760e+00  +4e-04  1e-06  1e-06  6e-06  3e-05  0.9612  4e-02   1  0  0 |  0  0\n",
      " 6  -3.760e+00  -3.760e+00  +5e-06  1e-08  1e-08  6e-08  3e-07  0.9890  1e-04   1  0  0 |  0  0\n",
      " 7  -3.760e+00  -3.760e+00  +5e-08  1e-10  2e-10  7e-10  4e-09  0.9890  1e-04   1  0  0 |  0  0\n",
      " 8  -3.760e+00  -3.760e+00  +6e-10  1e-12  2e-12  8e-12  4e-11  0.9890  1e-04   1  0  0 |  0  0\n",
      "\n",
      "OPTIMAL (within feastol=1.8e-12, reltol=1.6e-10, abstol=6.0e-10).\n",
      "Runtime: 0.000742 seconds.\n",
      "\n",
      "-------------------------------------------------------------------------------\n",
      "                                    Summary                                    \n",
      "-------------------------------------------------------------------------------\n",
      "(CVXPY) Sep 18 01:17:00 PM: Problem status: optimal\n",
      "(CVXPY) Sep 18 01:17:00 PM: Optimal value: 3.760e+00\n",
      "(CVXPY) Sep 18 01:17:00 PM: Compilation took 2.600e-02 seconds\n",
      "(CVXPY) Sep 18 01:17:00 PM: Solver (including time spent in interface) took 1.004e-03 seconds\n"
     ]
    },
    {
     "data": {
      "text/plain": [
       "3.760172461482673"
      ]
     },
     "execution_count": 13,
     "metadata": {},
     "output_type": "execute_result"
    }
   ],
   "source": [
    "prob.solve(verbose=True)"
   ]
  },
  {
   "cell_type": "code",
   "execution_count": 14,
   "metadata": {},
   "outputs": [
    {
     "data": {
      "text/plain": [
       "array([0.293, 0.   , 2.544, 0.   , 0.   ])"
      ]
     },
     "execution_count": 14,
     "metadata": {},
     "output_type": "execute_result"
    }
   ],
   "source": [
    "X.value.round(3)"
   ]
  },
  {
   "cell_type": "code",
   "execution_count": 15,
   "metadata": {},
   "outputs": [
    {
     "data": {
      "text/plain": [
       "array([4.907, 0.   , 3.961, 0.   , 0.   ])"
      ]
     },
     "execution_count": 15,
     "metadata": {},
     "output_type": "execute_result"
    }
   ],
   "source": [
    "Y.value.round(3)"
   ]
  },
  {
   "cell_type": "code",
   "execution_count": 16,
   "metadata": {},
   "outputs": [
    {
     "data": {
      "text/plain": [
       "array([0.  , 0.  , 0.  , 0.  , 3.76])"
      ]
     },
     "execution_count": 16,
     "metadata": {},
     "output_type": "execute_result"
    }
   ],
   "source": [
    "Z.value.round(3)"
   ]
  },
  {
   "cell_type": "code",
   "execution_count": 17,
   "metadata": {},
   "outputs": [],
   "source": [
    "xs = np.round(X.value,3)\n",
    "ys = np.round(Y.value,3)\n",
    "zs = np.round(Z.value,3)"
   ]
  },
  {
   "cell_type": "code",
   "execution_count": 18,
   "metadata": {},
   "outputs": [
    {
     "data": {
      "text/html": [
       "<div>\n",
       "<style scoped>\n",
       "    .dataframe tbody tr th:only-of-type {\n",
       "        vertical-align: middle;\n",
       "    }\n",
       "\n",
       "    .dataframe tbody tr th {\n",
       "        vertical-align: top;\n",
       "    }\n",
       "\n",
       "    .dataframe thead th {\n",
       "        text-align: right;\n",
       "    }\n",
       "</style>\n",
       "<table border=\"1\" class=\"dataframe\">\n",
       "  <thead>\n",
       "    <tr style=\"text-align: right;\">\n",
       "      <th></th>\n",
       "      <th>bancos</th>\n",
       "      <th>bonos</th>\n",
       "      <th>cash</th>\n",
       "      <th>cash_flow</th>\n",
       "    </tr>\n",
       "  </thead>\n",
       "  <tbody>\n",
       "    <tr>\n",
       "      <th>0</th>\n",
       "      <td>0.293</td>\n",
       "      <td>4.907</td>\n",
       "      <td>0.00</td>\n",
       "      <td>-5.2</td>\n",
       "    </tr>\n",
       "    <tr>\n",
       "      <th>1</th>\n",
       "      <td>0.000</td>\n",
       "      <td>0.000</td>\n",
       "      <td>0.00</td>\n",
       "      <td>0.4</td>\n",
       "    </tr>\n",
       "    <tr>\n",
       "      <th>2</th>\n",
       "      <td>2.544</td>\n",
       "      <td>3.961</td>\n",
       "      <td>0.00</td>\n",
       "      <td>-1.5</td>\n",
       "    </tr>\n",
       "    <tr>\n",
       "      <th>3</th>\n",
       "      <td>0.000</td>\n",
       "      <td>0.000</td>\n",
       "      <td>0.00</td>\n",
       "      <td>2.7</td>\n",
       "    </tr>\n",
       "    <tr>\n",
       "      <th>4</th>\n",
       "      <td>0.000</td>\n",
       "      <td>0.000</td>\n",
       "      <td>3.76</td>\n",
       "      <td>7.8</td>\n",
       "    </tr>\n",
       "  </tbody>\n",
       "</table>\n",
       "</div>"
      ],
      "text/plain": [
       "   bancos  bonos  cash  cash_flow\n",
       "0   0.293  4.907  0.00       -5.2\n",
       "1   0.000  0.000  0.00        0.4\n",
       "2   2.544  3.961  0.00       -1.5\n",
       "3   0.000  0.000  0.00        2.7\n",
       "4   0.000  0.000  3.76        7.8"
      ]
     },
     "execution_count": 18,
     "metadata": {},
     "output_type": "execute_result"
    }
   ],
   "source": [
    "pd.DataFrame({\n",
    "    'bancos':xs,\n",
    "    'bonos':ys,\n",
    "    'cash':zs,\n",
    "    'cash_flow':cf\n",
    "})"
   ]
  },
  {
   "cell_type": "code",
   "execution_count": null,
   "metadata": {},
   "outputs": [],
   "source": []
  }
 ],
 "metadata": {
  "kernelspec": {
   "display_name": "Python 3",
   "language": "python",
   "name": "python3"
  },
  "language_info": {
   "codemirror_mode": {
    "name": "ipython",
    "version": 3
   },
   "file_extension": ".py",
   "mimetype": "text/x-python",
   "name": "python",
   "nbconvert_exporter": "python",
   "pygments_lexer": "ipython3",
   "version": "3.8.3"
  }
 },
 "nbformat": 4,
 "nbformat_minor": 4
}
