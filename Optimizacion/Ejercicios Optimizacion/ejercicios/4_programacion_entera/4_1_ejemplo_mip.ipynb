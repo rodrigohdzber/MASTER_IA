{
 "cells": [
  {
   "cell_type": "markdown",
   "metadata": {},
   "source": [
    "## Programación Entera\n",
    "## Ejemplo "
   ]
  },
  {
   "cell_type": "markdown",
   "metadata": {},
   "source": [
    "Este cuaderno muestra un ejemplo introductorio de programación entera. En el tenemos que seleccionar\n",
    "si participamos o no en los proyectos de inversión disponibles.  Ver slides de teoría para más detalles."
   ]
  },
  {
   "cell_type": "code",
   "execution_count": 1,
   "metadata": {},
   "outputs": [],
   "source": [
    "import numpy as np\n",
    "import cvxpy as cp"
   ]
  },
  {
   "cell_type": "markdown",
   "metadata": {},
   "source": [
    "Indicamos que las variables son booleanas con el parámetro correspondiente. El resto del modelado es equivalente a un problema de programación lineal"
   ]
  },
  {
   "cell_type": "code",
   "execution_count": 16,
   "metadata": {},
   "outputs": [],
   "source": [
    "x = cp.Variable(4, boolean=True)"
   ]
  },
  {
   "cell_type": "code",
   "execution_count": 17,
   "metadata": {},
   "outputs": [],
   "source": [
    "beneficios = np.array([4.6, 6.6, 5.4, 7.3])"
   ]
  },
  {
   "cell_type": "code",
   "execution_count": 18,
   "metadata": {},
   "outputs": [],
   "source": [
    "costes = np.array([4, 6, 5, 7])"
   ]
  },
  {
   "cell_type": "code",
   "execution_count": 19,
   "metadata": {},
   "outputs": [],
   "source": [
    "objective = cp.sum(cp.multiply(beneficios, x))"
   ]
  },
  {
   "cell_type": "code",
   "execution_count": 20,
   "metadata": {},
   "outputs": [],
   "source": [
    "# disponemos de un presupuesto de 19 millones\n",
    "constraints = [\n",
    "    cp.sum(cp.multiply(costes, x)) <= 19,\n",
    "    x >= 0,\n",
    "    x <= 1 \n",
    "]"
   ]
  },
  {
   "cell_type": "code",
   "execution_count": 21,
   "metadata": {},
   "outputs": [],
   "source": [
    "prob = cp.Problem(cp.Maximize(objective), constraints)"
   ]
  },
  {
   "cell_type": "code",
   "execution_count": 22,
   "metadata": {},
   "outputs": [
    {
     "name": "stdout",
     "output_type": "stream",
     "text": [
      "===============================================================================\n",
      "                                     CVXPY                                     \n",
      "                                    v1.1.15                                    \n",
      "===============================================================================\n",
      "(CVXPY) Sep 23 08:07:52 PM: Your problem has 4 variables, 3 constraints, and 0 parameters.\n",
      "(CVXPY) Sep 23 08:07:52 PM: It is compliant with the following grammars: DCP, DQCP\n",
      "(CVXPY) Sep 23 08:07:52 PM: (If you need to solve this problem multiple times, but with different data, consider using parameters.)\n",
      "(CVXPY) Sep 23 08:07:52 PM: CVXPY will first compile your problem; then, it will invoke a numerical solver to obtain a solution.\n",
      "-------------------------------------------------------------------------------\n",
      "                                  Compilation                                  \n",
      "-------------------------------------------------------------------------------\n",
      "(CVXPY) Sep 23 08:07:52 PM: Compiling problem (target solver=GLPK_MI).\n",
      "(CVXPY) Sep 23 08:07:52 PM: Reduction chain: FlipObjective -> Dcp2Cone -> CvxAttr2Constr -> ConeMatrixStuffing -> GLPK_MI\n",
      "(CVXPY) Sep 23 08:07:52 PM: Applying reduction FlipObjective\n",
      "(CVXPY) Sep 23 08:07:52 PM: Applying reduction Dcp2Cone\n",
      "(CVXPY) Sep 23 08:07:52 PM: Applying reduction CvxAttr2Constr\n",
      "(CVXPY) Sep 23 08:07:52 PM: Applying reduction ConeMatrixStuffing\n",
      "(CVXPY) Sep 23 08:07:52 PM: Applying reduction GLPK_MI\n",
      "(CVXPY) Sep 23 08:07:52 PM: Finished problem compilation (took 1.503e-02 seconds).\n",
      "-------------------------------------------------------------------------------\n",
      "                                Numerical solver                               \n",
      "-------------------------------------------------------------------------------\n",
      "(CVXPY) Sep 23 08:07:52 PM: Invoking solver GLPK_MI  to obtain a solution.\n",
      "-------------------------------------------------------------------------------\n",
      "                                    Summary                                    \n",
      "-------------------------------------------------------------------------------\n",
      "(CVXPY) Sep 23 08:07:52 PM: Problem status: optimal\n",
      "(CVXPY) Sep 23 08:07:52 PM: Optimal value: 1.930e+01\n",
      "(CVXPY) Sep 23 08:07:52 PM: Compilation took 1.503e-02 seconds\n",
      "(CVXPY) Sep 23 08:07:52 PM: Solver (including time spent in interface) took 1.000e-03 seconds\n"
     ]
    },
    {
     "data": {
      "text/plain": [
       "19.3"
      ]
     },
     "execution_count": 22,
     "metadata": {},
     "output_type": "execute_result"
    }
   ],
   "source": [
    "prob.solve(verbose=True)"
   ]
  },
  {
   "cell_type": "code",
   "execution_count": 23,
   "metadata": {},
   "outputs": [
    {
     "data": {
      "text/plain": [
       "array([0., 1., 1., 1.])"
      ]
     },
     "execution_count": 23,
     "metadata": {},
     "output_type": "execute_result"
    }
   ],
   "source": [
    "x.value"
   ]
  },
  {
   "cell_type": "code",
   "execution_count": null,
   "metadata": {},
   "outputs": [],
   "source": []
  },
  {
   "cell_type": "code",
   "execution_count": null,
   "metadata": {},
   "outputs": [],
   "source": []
  }
 ],
 "metadata": {
  "kernelspec": {
   "display_name": "Python 3",
   "language": "python",
   "name": "python3"
  },
  "language_info": {
   "codemirror_mode": {
    "name": "ipython",
    "version": 3
   },
   "file_extension": ".py",
   "mimetype": "text/x-python",
   "name": "python",
   "nbconvert_exporter": "python",
   "pygments_lexer": "ipython3",
   "version": "3.8.3"
  }
 },
 "nbformat": 4,
 "nbformat_minor": 4
}
