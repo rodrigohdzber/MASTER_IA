{
 "cells": [
  {
   "cell_type": "markdown",
   "metadata": {},
   "source": [
    "## Programación Entera\n",
    "### Estrategia Neutral con Opciones\n",
    "En este ejemplo se plantea una estrategia nuetral con opciones, vendiendo una cesta de opciones que se cubra con una compra de la opción sobre el índice correspondiente.  El inconveniente para el IBEX es que no todos los valores tienen opciones cotizando y además los multiplicadores de las opciones no nos permiten replicar exactamente la exposición al índice.  Por tando el objetivo consiste en **determinar el número de contratos a vender de cada opción disponible, de modo que se reproduzca el nominal contratado en la opción sobre el índice**\n"
   ]
  },
  {
   "cell_type": "code",
   "execution_count": 3,
   "metadata": {},
   "outputs": [],
   "source": [
    "import sys\n",
    "import pandas as pd\n",
    "import numpy as np\n",
    "import cvxpy as cp\n",
    "import matplotlib.pyplot as plt"
   ]
  },
  {
   "cell_type": "markdown",
   "metadata": {},
   "source": [
    "### Datos\n",
    "Datos de mercado del IBEX35 y de sus componentes"
   ]
  },
  {
   "cell_type": "code",
   "execution_count": 4,
   "metadata": {},
   "outputs": [],
   "source": [
    "import pickle\n",
    "with open('../data/stock_data.pkl', 'rb') as handle:\n",
    "    stock_data = pickle.load(handle)\n",
    "with open('../data/benchmark.pkl', 'rb') as handle:\n",
    "    benchmark = pickle.load(handle)"
   ]
  },
  {
   "cell_type": "code",
   "execution_count": 5,
   "metadata": {},
   "outputs": [],
   "source": [
    "close_dict = {tk: df.close for tk, df in stock_data.items()}\n",
    "close_df = pd.DataFrame(close_dict)"
   ]
  },
  {
   "cell_type": "code",
   "execution_count": 6,
   "metadata": {},
   "outputs": [],
   "source": [
    "close_year = close_df.loc['2019-09-02':'2019-12-31']\n",
    "stock_close = close_year.dropna(axis=1)"
   ]
  },
  {
   "cell_type": "code",
   "execution_count": 7,
   "metadata": {},
   "outputs": [],
   "source": [
    "bm_year = benchmark['ibex'].close"
   ]
  },
  {
   "cell_type": "markdown",
   "metadata": {},
   "source": [
    "Tenemos la lista de acciones que tienen cotizando \n",
    "opciones en MEFF"
   ]
  },
  {
   "cell_type": "code",
   "execution_count": 8,
   "metadata": {},
   "outputs": [],
   "source": [
    "liquid_tk = ['SAN', 'BBVA', 'ITX', 'TEF', 'REP',\n",
    "             'IBE', 'CLNX', 'AMS', 'ELE', 'IAG',\n",
    "             'FER', 'GRF', 'REE', 'ENG', 'NTGY',\n",
    "             'ACS', 'CABK', 'ACX']"
   ]
  },
  {
   "cell_type": "code",
   "execution_count": 9,
   "metadata": {},
   "outputs": [],
   "source": [
    "ibd = benchmark['ibex'].close"
   ]
  },
  {
   "cell_type": "markdown",
   "metadata": {},
   "source": [
    "seleccionamos solo los precios de cierre de las acciones \n",
    "sobre las que vamos a trabajar. Haremos la estimación\n",
    "utilizando los últimos 3 meses del 2019"
   ]
  },
  {
   "cell_type": "code",
   "execution_count": 10,
   "metadata": {},
   "outputs": [
    {
     "data": {
      "text/html": [
       "<div>\n",
       "<style scoped>\n",
       "    .dataframe tbody tr th:only-of-type {\n",
       "        vertical-align: middle;\n",
       "    }\n",
       "\n",
       "    .dataframe tbody tr th {\n",
       "        vertical-align: top;\n",
       "    }\n",
       "\n",
       "    .dataframe thead th {\n",
       "        text-align: right;\n",
       "    }\n",
       "</style>\n",
       "<table border=\"1\" class=\"dataframe\">\n",
       "  <thead>\n",
       "    <tr style=\"text-align: right;\">\n",
       "      <th></th>\n",
       "      <th>SAN</th>\n",
       "      <th>BBVA</th>\n",
       "      <th>ITX</th>\n",
       "      <th>TEF</th>\n",
       "      <th>REP</th>\n",
       "      <th>IBE</th>\n",
       "      <th>CLNX</th>\n",
       "      <th>AMS</th>\n",
       "      <th>ELE</th>\n",
       "      <th>IAG</th>\n",
       "      <th>FER</th>\n",
       "      <th>GRF</th>\n",
       "      <th>REE</th>\n",
       "      <th>ENG</th>\n",
       "      <th>NTGY</th>\n",
       "      <th>ACS</th>\n",
       "      <th>CABK</th>\n",
       "      <th>ACX</th>\n",
       "    </tr>\n",
       "  </thead>\n",
       "  <tbody>\n",
       "    <tr>\n",
       "      <th>2019-12-23</th>\n",
       "      <td>3.7650</td>\n",
       "      <td>4.815874</td>\n",
       "      <td>31.66</td>\n",
       "      <td>6.454</td>\n",
       "      <td>13.405322</td>\n",
       "      <td>8.742355</td>\n",
       "      <td>35.893408</td>\n",
       "      <td>72.220601</td>\n",
       "      <td>23.613766</td>\n",
       "      <td>7.284</td>\n",
       "      <td>26.304912</td>\n",
       "      <td>31.97</td>\n",
       "      <td>16.971419</td>\n",
       "      <td>22.265315</td>\n",
       "      <td>22.450488</td>\n",
       "      <td>32.271434</td>\n",
       "      <td>2.720152</td>\n",
       "      <td>9.980</td>\n",
       "    </tr>\n",
       "    <tr>\n",
       "      <th>2019-12-24</th>\n",
       "      <td>3.7550</td>\n",
       "      <td>4.788436</td>\n",
       "      <td>31.77</td>\n",
       "      <td>6.412</td>\n",
       "      <td>13.410059</td>\n",
       "      <td>8.710325</td>\n",
       "      <td>35.781590</td>\n",
       "      <td>73.153632</td>\n",
       "      <td>23.670124</td>\n",
       "      <td>7.340</td>\n",
       "      <td>26.450888</td>\n",
       "      <td>31.98</td>\n",
       "      <td>16.929097</td>\n",
       "      <td>22.418605</td>\n",
       "      <td>22.372024</td>\n",
       "      <td>32.809292</td>\n",
       "      <td>2.713428</td>\n",
       "      <td>9.942</td>\n",
       "    </tr>\n",
       "    <tr>\n",
       "      <th>2019-12-27</th>\n",
       "      <td>3.7565</td>\n",
       "      <td>4.767621</td>\n",
       "      <td>32.15</td>\n",
       "      <td>6.414</td>\n",
       "      <td>13.452691</td>\n",
       "      <td>8.781921</td>\n",
       "      <td>36.452495</td>\n",
       "      <td>73.094077</td>\n",
       "      <td>23.942518</td>\n",
       "      <td>7.372</td>\n",
       "      <td>26.411961</td>\n",
       "      <td>32.08</td>\n",
       "      <td>17.093685</td>\n",
       "      <td>22.399444</td>\n",
       "      <td>22.430872</td>\n",
       "      <td>32.633097</td>\n",
       "      <td>2.709586</td>\n",
       "      <td>9.974</td>\n",
       "    </tr>\n",
       "    <tr>\n",
       "      <th>2019-12-30</th>\n",
       "      <td>3.7425</td>\n",
       "      <td>4.735452</td>\n",
       "      <td>31.75</td>\n",
       "      <td>6.320</td>\n",
       "      <td>13.381638</td>\n",
       "      <td>8.746123</td>\n",
       "      <td>35.455456</td>\n",
       "      <td>72.379415</td>\n",
       "      <td>23.536880</td>\n",
       "      <td>7.300</td>\n",
       "      <td>26.022692</td>\n",
       "      <td>31.70</td>\n",
       "      <td>16.999634</td>\n",
       "      <td>22.226993</td>\n",
       "      <td>22.362216</td>\n",
       "      <td>32.633097</td>\n",
       "      <td>2.685573</td>\n",
       "      <td>10.050</td>\n",
       "    </tr>\n",
       "    <tr>\n",
       "      <th>2019-12-31</th>\n",
       "      <td>3.7300</td>\n",
       "      <td>4.714637</td>\n",
       "      <td>31.45</td>\n",
       "      <td>6.227</td>\n",
       "      <td>13.196900</td>\n",
       "      <td>8.648148</td>\n",
       "      <td>35.753636</td>\n",
       "      <td>72.260304</td>\n",
       "      <td>22.976708</td>\n",
       "      <td>7.220</td>\n",
       "      <td>26.246522</td>\n",
       "      <td>31.43</td>\n",
       "      <td>16.858559</td>\n",
       "      <td>21.786285</td>\n",
       "      <td>21.969896</td>\n",
       "      <td>33.059673</td>\n",
       "      <td>2.687494</td>\n",
       "      <td>10.045</td>\n",
       "    </tr>\n",
       "  </tbody>\n",
       "</table>\n",
       "</div>"
      ],
      "text/plain": [
       "               SAN      BBVA    ITX    TEF        REP       IBE       CLNX  \\\n",
       "2019-12-23  3.7650  4.815874  31.66  6.454  13.405322  8.742355  35.893408   \n",
       "2019-12-24  3.7550  4.788436  31.77  6.412  13.410059  8.710325  35.781590   \n",
       "2019-12-27  3.7565  4.767621  32.15  6.414  13.452691  8.781921  36.452495   \n",
       "2019-12-30  3.7425  4.735452  31.75  6.320  13.381638  8.746123  35.455456   \n",
       "2019-12-31  3.7300  4.714637  31.45  6.227  13.196900  8.648148  35.753636   \n",
       "\n",
       "                  AMS        ELE    IAG        FER    GRF        REE  \\\n",
       "2019-12-23  72.220601  23.613766  7.284  26.304912  31.97  16.971419   \n",
       "2019-12-24  73.153632  23.670124  7.340  26.450888  31.98  16.929097   \n",
       "2019-12-27  73.094077  23.942518  7.372  26.411961  32.08  17.093685   \n",
       "2019-12-30  72.379415  23.536880  7.300  26.022692  31.70  16.999634   \n",
       "2019-12-31  72.260304  22.976708  7.220  26.246522  31.43  16.858559   \n",
       "\n",
       "                  ENG       NTGY        ACS      CABK     ACX  \n",
       "2019-12-23  22.265315  22.450488  32.271434  2.720152   9.980  \n",
       "2019-12-24  22.418605  22.372024  32.809292  2.713428   9.942  \n",
       "2019-12-27  22.399444  22.430872  32.633097  2.709586   9.974  \n",
       "2019-12-30  22.226993  22.362216  32.633097  2.685573  10.050  \n",
       "2019-12-31  21.786285  21.969896  33.059673  2.687494  10.045  "
      ]
     },
     "execution_count": 10,
     "metadata": {},
     "output_type": "execute_result"
    }
   ],
   "source": [
    "liquid_close = stock_close[liquid_tk]\n",
    "liquid_close.tail()"
   ]
  },
  {
   "cell_type": "markdown",
   "metadata": {},
   "source": [
    "Una opción sobre el índice tiene multiplicador 1, por lo que utilizaremos un factor sobre \n",
    "el precio del IBEX para representar el nominal total sobre el que queremos trabajar\n",
    "Ver detalles en la descripción del [opciones sobre el IBEX35](https://www.meff.es/esp/Derivados-Financieros/Opciones-sobre-IBEX35)"
   ]
  },
  {
   "cell_type": "code",
   "execution_count": 11,
   "metadata": {},
   "outputs": [],
   "source": [
    "bm_factor = 10"
   ]
  },
  {
   "cell_type": "code",
   "execution_count": 12,
   "metadata": {},
   "outputs": [
    {
     "data": {
      "text/plain": [
       "(18, 85)"
      ]
     },
     "execution_count": 12,
     "metadata": {},
     "output_type": "execute_result"
    }
   ],
   "source": [
    "n_stocks = len(liquid_tk)\n",
    "n_days = liquid_close.shape[0]\n",
    "n_stocks, n_days"
   ]
  },
  {
   "cell_type": "markdown",
   "metadata": {},
   "source": [
    "Las variables de decisión \n",
    "- Numero de contratos de cada opción\n",
    "- variables de error de cada día que se deben minimizar"
   ]
  },
  {
   "cell_type": "code",
   "execution_count": 13,
   "metadata": {},
   "outputs": [],
   "source": [
    "var_contract = cp.Variable(n_stocks, integer=True)\n",
    "var_epsilon = cp.Variable(n_days)"
   ]
  },
  {
   "cell_type": "markdown",
   "metadata": {},
   "source": [
    "Restricciones\n",
    "- el nominal de los contratos de opciones de la cesta menos de los contratos sobre el índice debe ser igual al error del día\n",
    "- la cantidad de contratos no puede ser negativa"
   ]
  },
  {
   "cell_type": "code",
   "execution_count": 14,
   "metadata": {},
   "outputs": [],
   "source": [
    "day_constraints = []\n",
    "i = 0\n",
    "for iday, iprices in liquid_close.iterrows():\n",
    "    i_constraint = (var_contract @ (iprices.values*100)) - ibd.loc[iday]*bm_factor == var_epsilon[i]\n",
    "    day_constraints = day_constraints + [i_constraint]\n",
    "    i += 1 "
   ]
  },
  {
   "cell_type": "code",
   "execution_count": 15,
   "metadata": {},
   "outputs": [],
   "source": [
    "constraints = [ var_contract >= 0]\n",
    "constraints.extend(day_constraints)"
   ]
  },
  {
   "cell_type": "markdown",
   "metadata": {},
   "source": [
    "Minimizamos la suma de los valores absolutos de los errores"
   ]
  },
  {
   "cell_type": "code",
   "execution_count": 16,
   "metadata": {},
   "outputs": [],
   "source": [
    "objective = cp.Minimize(cp.sum(cp.abs(var_epsilon)))"
   ]
  },
  {
   "cell_type": "code",
   "execution_count": 17,
   "metadata": {},
   "outputs": [],
   "source": [
    "prob = cp.Problem(objective, constraints)"
   ]
  },
  {
   "cell_type": "code",
   "execution_count": 18,
   "metadata": {},
   "outputs": [
    {
     "data": {
      "text/plain": [
       "6174.157227430195"
      ]
     },
     "execution_count": 18,
     "metadata": {},
     "output_type": "execute_result"
    }
   ],
   "source": [
    "prob.solve()"
   ]
  },
  {
   "cell_type": "markdown",
   "metadata": {},
   "source": [
    "Solución"
   ]
  },
  {
   "cell_type": "code",
   "execution_count": 19,
   "metadata": {},
   "outputs": [
    {
     "data": {
      "text/plain": [
       "SAN     40.0\n",
       "BBVA     8.0\n",
       "ITX      4.0\n",
       "TEF     19.0\n",
       "REP      0.0\n",
       "IBE     14.0\n",
       "CLNX     1.0\n",
       "AMS      1.0\n",
       "ELE      2.0\n",
       "IAG      3.0\n",
       "FER      1.0\n",
       "GRF      0.0\n",
       "REE      1.0\n",
       "ENG      0.0\n",
       "NTGY     2.0\n",
       "ACS      2.0\n",
       "CABK    13.0\n",
       "ACX      4.0\n",
       "dtype: float64"
      ]
     },
     "execution_count": 19,
     "metadata": {},
     "output_type": "execute_result"
    }
   ],
   "source": [
    "solucion = pd.Series(var_contract.value, index=liquid_close.columns)\n",
    "solucion.round(2)"
   ]
  },
  {
   "cell_type": "raw",
   "metadata": {},
   "source": [
    "Verificamos que la diferencia de nominal diario sea una cantidad pequeña"
   ]
  },
  {
   "cell_type": "code",
   "execution_count": 20,
   "metadata": {},
   "outputs": [
    {
     "data": {
      "text/plain": [
       "<matplotlib.axes._subplots.AxesSubplot at 0x2395d7dd4f0>"
      ]
     },
     "execution_count": 20,
     "metadata": {},
     "output_type": "execute_result"
    },
    {
     "data": {
      "image/png": "[encoded data removed]",
      "text/plain": [
       "<Figure size 432x288 with 1 Axes>"
      ]
     },
     "metadata": {
      "needs_background": "light"
     },
     "output_type": "display_data"
    }
   ],
   "source": [
    "all_nominal = (solucion * liquid_close * 100)\n",
    "diff_nominal = all_nominal.sum(axis=1) - ibd*bm_factor\n",
    "diff_nominal.plot()"
   ]
  },
  {
   "cell_type": "code",
   "execution_count": 24,
   "metadata": {},
   "outputs": [],
   "source": [
    "nominales = liquid_close.iloc[-1] * solucion * 100"
   ]
  },
  {
   "cell_type": "code",
   "execution_count": 25,
   "metadata": {},
   "outputs": [
    {
     "data": {
      "text/plain": [
       "SAN     0.156065\n",
       "BBVA    0.039452\n",
       "ITX     0.131588\n",
       "TEF     0.123757\n",
       "REP     0.000000\n",
       "IBE     0.126645\n",
       "CLNX    0.037399\n",
       "AMS     0.075585\n",
       "ELE     0.048068\n",
       "IAG     0.022657\n",
       "FER     0.027454\n",
       "GRF     0.000000\n",
       "REE     0.017634\n",
       "ENG     0.000000\n",
       "NTGY    0.045961\n",
       "ACS     0.069162\n",
       "CABK    0.036545\n",
       "ACX     0.042029\n",
       "dtype: float64"
      ]
     },
     "execution_count": 25,
     "metadata": {},
     "output_type": "execute_result"
    }
   ],
   "source": [
    "nominales/nominales.sum()"
   ]
  },
  {
   "cell_type": "code",
   "execution_count": null,
   "metadata": {},
   "outputs": [],
   "source": []
  }
 ],
 "metadata": {
  "kernelspec": {
   "display_name": "Python 3",
   "language": "python",
   "name": "python3"
  },
  "language_info": {
   "codemirror_mode": {
    "name": "ipython",
    "version": 3
   },
   "file_extension": ".py",
   "mimetype": "text/x-python",
   "name": "python",
   "nbconvert_exporter": "python",
   "pygments_lexer": "ipython3",
   "version": "3.8.3"
  }
 },
 "nbformat": 4,
 "nbformat_minor": 4
}
