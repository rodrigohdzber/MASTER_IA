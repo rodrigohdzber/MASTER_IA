{
 "cells": [
  {
   "cell_type": "markdown",
   "metadata": {},
   "source": [
    "## Programación Cuadrática"
   ]
  },
  {
   "cell_type": "markdown",
   "metadata": {},
   "source": [
    "Solución a los ejercicios propuestos en el cuaderno 3.1"
   ]
  },
  {
   "cell_type": "code",
   "execution_count": 1,
   "metadata": {},
   "outputs": [],
   "source": [
    "import numpy as np \n",
    "import pandas as pd\n",
    "import matplotlib.pyplot as plt\n",
    "import cvxpy as cp"
   ]
  },
  {
   "cell_type": "markdown",
   "metadata": {},
   "source": [
    "### Datos"
   ]
  },
  {
   "cell_type": "code",
   "execution_count": 2,
   "metadata": {},
   "outputs": [],
   "source": [
    "import pickle"
   ]
  },
  {
   "cell_type": "code",
   "execution_count": 3,
   "metadata": {},
   "outputs": [],
   "source": [
    "with open('../data/stock_data.pkl', 'rb') as handle:\n",
    "    stock_data = pickle.load(handle)"
   ]
  },
  {
   "cell_type": "code",
   "execution_count": 4,
   "metadata": {},
   "outputs": [],
   "source": [
    "close_dict = {tk: df.close for tk,df in stock_data.items()}\n",
    "stock_close = pd.DataFrame(close_dict)"
   ]
  },
  {
   "cell_type": "code",
   "execution_count": 5,
   "metadata": {},
   "outputs": [],
   "source": [
    "data_close = stock_close.loc['2019-01-02':'2019-12-31'].dropna(axis=1)"
   ]
  },
  {
   "cell_type": "markdown",
   "metadata": {},
   "source": [
    "Para simplificar el ejercicio trabajaremos con un universo reducido\n",
    "de 10 activos del IBEX."
   ]
  },
  {
   "cell_type": "code",
   "execution_count": 6,
   "metadata": {},
   "outputs": [
    {
     "data": {
      "text/html": [
       "<div>\n",
       "<style scoped>\n",
       "    .dataframe tbody tr th:only-of-type {\n",
       "        vertical-align: middle;\n",
       "    }\n",
       "\n",
       "    .dataframe tbody tr th {\n",
       "        vertical-align: top;\n",
       "    }\n",
       "\n",
       "    .dataframe thead th {\n",
       "        text-align: right;\n",
       "    }\n",
       "</style>\n",
       "<table border=\"1\" class=\"dataframe\">\n",
       "  <thead>\n",
       "    <tr style=\"text-align: right;\">\n",
       "      <th></th>\n",
       "      <th>ACS</th>\n",
       "      <th>TEF</th>\n",
       "      <th>ITX</th>\n",
       "      <th>GRF</th>\n",
       "      <th>AMS</th>\n",
       "      <th>ENG</th>\n",
       "      <th>MAP</th>\n",
       "      <th>REP</th>\n",
       "      <th>AENA</th>\n",
       "      <th>VIS</th>\n",
       "    </tr>\n",
       "  </thead>\n",
       "  <tbody>\n",
       "    <tr>\n",
       "      <th>2019-01-02</th>\n",
       "      <td>29.254370</td>\n",
       "      <td>6.995052</td>\n",
       "      <td>21.723158</td>\n",
       "      <td>22.446920</td>\n",
       "      <td>59.910340</td>\n",
       "      <td>21.491329</td>\n",
       "      <td>2.062509</td>\n",
       "      <td>11.817150</td>\n",
       "      <td>131.210901</td>\n",
       "      <td>44.423518</td>\n",
       "    </tr>\n",
       "    <tr>\n",
       "      <th>2019-01-03</th>\n",
       "      <td>29.324778</td>\n",
       "      <td>7.111227</td>\n",
       "      <td>21.413242</td>\n",
       "      <td>22.525924</td>\n",
       "      <td>56.614491</td>\n",
       "      <td>21.759635</td>\n",
       "      <td>2.072394</td>\n",
       "      <td>11.833753</td>\n",
       "      <td>131.258788</td>\n",
       "      <td>44.290456</td>\n",
       "    </tr>\n",
       "    <tr>\n",
       "      <th>2019-01-04</th>\n",
       "      <td>29.764826</td>\n",
       "      <td>7.203789</td>\n",
       "      <td>22.168662</td>\n",
       "      <td>23.276459</td>\n",
       "      <td>58.564697</td>\n",
       "      <td>21.804353</td>\n",
       "      <td>2.130810</td>\n",
       "      <td>12.116003</td>\n",
       "      <td>134.563004</td>\n",
       "      <td>45.088825</td>\n",
       "    </tr>\n",
       "    <tr>\n",
       "      <th>2019-01-07</th>\n",
       "      <td>29.861636</td>\n",
       "      <td>7.268960</td>\n",
       "      <td>22.342990</td>\n",
       "      <td>23.256708</td>\n",
       "      <td>59.110755</td>\n",
       "      <td>21.786465</td>\n",
       "      <td>2.129911</td>\n",
       "      <td>12.016386</td>\n",
       "      <td>133.270050</td>\n",
       "      <td>45.240895</td>\n",
       "    </tr>\n",
       "    <tr>\n",
       "      <th>2019-01-08</th>\n",
       "      <td>30.169670</td>\n",
       "      <td>7.257626</td>\n",
       "      <td>22.827233</td>\n",
       "      <td>23.602349</td>\n",
       "      <td>60.612414</td>\n",
       "      <td>22.090546</td>\n",
       "      <td>2.127215</td>\n",
       "      <td>12.028838</td>\n",
       "      <td>134.084132</td>\n",
       "      <td>46.134308</td>\n",
       "    </tr>\n",
       "  </tbody>\n",
       "</table>\n",
       "</div>"
      ],
      "text/plain": [
       "                  ACS       TEF        ITX        GRF        AMS        ENG  \\\n",
       "2019-01-02  29.254370  6.995052  21.723158  22.446920  59.910340  21.491329   \n",
       "2019-01-03  29.324778  7.111227  21.413242  22.525924  56.614491  21.759635   \n",
       "2019-01-04  29.764826  7.203789  22.168662  23.276459  58.564697  21.804353   \n",
       "2019-01-07  29.861636  7.268960  22.342990  23.256708  59.110755  21.786465   \n",
       "2019-01-08  30.169670  7.257626  22.827233  23.602349  60.612414  22.090546   \n",
       "\n",
       "                 MAP        REP        AENA        VIS  \n",
       "2019-01-02  2.062509  11.817150  131.210901  44.423518  \n",
       "2019-01-03  2.072394  11.833753  131.258788  44.290456  \n",
       "2019-01-04  2.130810  12.116003  134.563004  45.088825  \n",
       "2019-01-07  2.129911  12.016386  133.270050  45.240895  \n",
       "2019-01-08  2.127215  12.028838  134.084132  46.134308  "
      ]
     },
     "execution_count": 6,
     "metadata": {},
     "output_type": "execute_result"
    }
   ],
   "source": [
    "data_close = data_close[['ACS','TEF','ITX','GRF','AMS','ENG','MAP','REP','AENA','VIS']]\n",
    "data_close.head()"
   ]
  },
  {
   "cell_type": "markdown",
   "metadata": {},
   "source": [
    "___"
   ]
  },
  {
   "cell_type": "markdown",
   "metadata": {},
   "source": [
    "Calculamos la media de los retornos logaritmicos y la matriz de covarianzas de los\n",
    "retornos"
   ]
  },
  {
   "cell_type": "code",
   "execution_count": 7,
   "metadata": {},
   "outputs": [],
   "source": [
    "returns = np.log(data_close).diff().dropna()\n",
    "cov_returns = returns.cov()\n",
    "mean_returns = returns.mean()"
   ]
  },
  {
   "cell_type": "code",
   "execution_count": 8,
   "metadata": {},
   "outputs": [
    {
     "data": {
      "text/plain": [
       "ACS     0.000481\n",
       "TEF    -0.000458\n",
       "ITX     0.001457\n",
       "GRF     0.001325\n",
       "AMS     0.000738\n",
       "ENG     0.000054\n",
       "MAP     0.000334\n",
       "REP     0.000435\n",
       "AENA    0.001031\n",
       "VIS     0.000166\n",
       "dtype: float64"
      ]
     },
     "execution_count": 8,
     "metadata": {},
     "output_type": "execute_result"
    }
   ],
   "source": [
    "mean_returns"
   ]
  },
  {
   "cell_type": "code",
   "execution_count": 9,
   "metadata": {},
   "outputs": [
    {
     "data": {
      "text/html": [
       "<div>\n",
       "<style scoped>\n",
       "    .dataframe tbody tr th:only-of-type {\n",
       "        vertical-align: middle;\n",
       "    }\n",
       "\n",
       "    .dataframe tbody tr th {\n",
       "        vertical-align: top;\n",
       "    }\n",
       "\n",
       "    .dataframe thead th {\n",
       "        text-align: right;\n",
       "    }\n",
       "</style>\n",
       "<table border=\"1\" class=\"dataframe\">\n",
       "  <thead>\n",
       "    <tr style=\"text-align: right;\">\n",
       "      <th></th>\n",
       "      <th>ACS</th>\n",
       "      <th>TEF</th>\n",
       "      <th>ITX</th>\n",
       "      <th>GRF</th>\n",
       "      <th>AMS</th>\n",
       "      <th>ENG</th>\n",
       "      <th>MAP</th>\n",
       "      <th>REP</th>\n",
       "      <th>AENA</th>\n",
       "      <th>VIS</th>\n",
       "    </tr>\n",
       "  </thead>\n",
       "  <tbody>\n",
       "    <tr>\n",
       "      <th>ACS</th>\n",
       "      <td>0.000183</td>\n",
       "      <td>0.000066</td>\n",
       "      <td>0.000063</td>\n",
       "      <td>0.000042</td>\n",
       "      <td>0.000078</td>\n",
       "      <td>0.000024</td>\n",
       "      <td>0.000070</td>\n",
       "      <td>0.000081</td>\n",
       "      <td>0.000054</td>\n",
       "      <td>0.000084</td>\n",
       "    </tr>\n",
       "    <tr>\n",
       "      <th>TEF</th>\n",
       "      <td>0.000066</td>\n",
       "      <td>0.000118</td>\n",
       "      <td>0.000048</td>\n",
       "      <td>0.000011</td>\n",
       "      <td>0.000049</td>\n",
       "      <td>0.000027</td>\n",
       "      <td>0.000068</td>\n",
       "      <td>0.000057</td>\n",
       "      <td>0.000043</td>\n",
       "      <td>0.000035</td>\n",
       "    </tr>\n",
       "    <tr>\n",
       "      <th>ITX</th>\n",
       "      <td>0.000063</td>\n",
       "      <td>0.000048</td>\n",
       "      <td>0.000177</td>\n",
       "      <td>0.000054</td>\n",
       "      <td>0.000078</td>\n",
       "      <td>0.000029</td>\n",
       "      <td>0.000044</td>\n",
       "      <td>0.000061</td>\n",
       "      <td>0.000052</td>\n",
       "      <td>0.000064</td>\n",
       "    </tr>\n",
       "    <tr>\n",
       "      <th>GRF</th>\n",
       "      <td>0.000042</td>\n",
       "      <td>0.000011</td>\n",
       "      <td>0.000054</td>\n",
       "      <td>0.000178</td>\n",
       "      <td>0.000072</td>\n",
       "      <td>0.000016</td>\n",
       "      <td>0.000022</td>\n",
       "      <td>0.000022</td>\n",
       "      <td>0.000037</td>\n",
       "      <td>0.000047</td>\n",
       "    </tr>\n",
       "    <tr>\n",
       "      <th>AMS</th>\n",
       "      <td>0.000078</td>\n",
       "      <td>0.000049</td>\n",
       "      <td>0.000078</td>\n",
       "      <td>0.000072</td>\n",
       "      <td>0.000200</td>\n",
       "      <td>0.000037</td>\n",
       "      <td>0.000048</td>\n",
       "      <td>0.000065</td>\n",
       "      <td>0.000048</td>\n",
       "      <td>0.000067</td>\n",
       "    </tr>\n",
       "    <tr>\n",
       "      <th>ENG</th>\n",
       "      <td>0.000024</td>\n",
       "      <td>0.000027</td>\n",
       "      <td>0.000029</td>\n",
       "      <td>0.000016</td>\n",
       "      <td>0.000037</td>\n",
       "      <td>0.000207</td>\n",
       "      <td>0.000011</td>\n",
       "      <td>0.000028</td>\n",
       "      <td>0.000027</td>\n",
       "      <td>0.000033</td>\n",
       "    </tr>\n",
       "    <tr>\n",
       "      <th>MAP</th>\n",
       "      <td>0.000070</td>\n",
       "      <td>0.000068</td>\n",
       "      <td>0.000044</td>\n",
       "      <td>0.000022</td>\n",
       "      <td>0.000048</td>\n",
       "      <td>0.000011</td>\n",
       "      <td>0.000132</td>\n",
       "      <td>0.000060</td>\n",
       "      <td>0.000046</td>\n",
       "      <td>0.000040</td>\n",
       "    </tr>\n",
       "    <tr>\n",
       "      <th>REP</th>\n",
       "      <td>0.000081</td>\n",
       "      <td>0.000057</td>\n",
       "      <td>0.000061</td>\n",
       "      <td>0.000022</td>\n",
       "      <td>0.000065</td>\n",
       "      <td>0.000028</td>\n",
       "      <td>0.000060</td>\n",
       "      <td>0.000149</td>\n",
       "      <td>0.000033</td>\n",
       "      <td>0.000046</td>\n",
       "    </tr>\n",
       "    <tr>\n",
       "      <th>AENA</th>\n",
       "      <td>0.000054</td>\n",
       "      <td>0.000043</td>\n",
       "      <td>0.000052</td>\n",
       "      <td>0.000037</td>\n",
       "      <td>0.000048</td>\n",
       "      <td>0.000027</td>\n",
       "      <td>0.000046</td>\n",
       "      <td>0.000033</td>\n",
       "      <td>0.000105</td>\n",
       "      <td>0.000044</td>\n",
       "    </tr>\n",
       "    <tr>\n",
       "      <th>VIS</th>\n",
       "      <td>0.000084</td>\n",
       "      <td>0.000035</td>\n",
       "      <td>0.000064</td>\n",
       "      <td>0.000047</td>\n",
       "      <td>0.000067</td>\n",
       "      <td>0.000033</td>\n",
       "      <td>0.000040</td>\n",
       "      <td>0.000046</td>\n",
       "      <td>0.000044</td>\n",
       "      <td>0.000301</td>\n",
       "    </tr>\n",
       "  </tbody>\n",
       "</table>\n",
       "</div>"
      ],
      "text/plain": [
       "           ACS       TEF       ITX       GRF       AMS       ENG       MAP  \\\n",
       "ACS   0.000183  0.000066  0.000063  0.000042  0.000078  0.000024  0.000070   \n",
       "TEF   0.000066  0.000118  0.000048  0.000011  0.000049  0.000027  0.000068   \n",
       "ITX   0.000063  0.000048  0.000177  0.000054  0.000078  0.000029  0.000044   \n",
       "GRF   0.000042  0.000011  0.000054  0.000178  0.000072  0.000016  0.000022   \n",
       "AMS   0.000078  0.000049  0.000078  0.000072  0.000200  0.000037  0.000048   \n",
       "ENG   0.000024  0.000027  0.000029  0.000016  0.000037  0.000207  0.000011   \n",
       "MAP   0.000070  0.000068  0.000044  0.000022  0.000048  0.000011  0.000132   \n",
       "REP   0.000081  0.000057  0.000061  0.000022  0.000065  0.000028  0.000060   \n",
       "AENA  0.000054  0.000043  0.000052  0.000037  0.000048  0.000027  0.000046   \n",
       "VIS   0.000084  0.000035  0.000064  0.000047  0.000067  0.000033  0.000040   \n",
       "\n",
       "           REP      AENA       VIS  \n",
       "ACS   0.000081  0.000054  0.000084  \n",
       "TEF   0.000057  0.000043  0.000035  \n",
       "ITX   0.000061  0.000052  0.000064  \n",
       "GRF   0.000022  0.000037  0.000047  \n",
       "AMS   0.000065  0.000048  0.000067  \n",
       "ENG   0.000028  0.000027  0.000033  \n",
       "MAP   0.000060  0.000046  0.000040  \n",
       "REP   0.000149  0.000033  0.000046  \n",
       "AENA  0.000033  0.000105  0.000044  \n",
       "VIS   0.000046  0.000044  0.000301  "
      ]
     },
     "execution_count": 9,
     "metadata": {},
     "output_type": "execute_result"
    }
   ],
   "source": [
    "cov_returns"
   ]
  },
  {
   "cell_type": "markdown",
   "metadata": {},
   "source": [
    "___"
   ]
  },
  {
   "cell_type": "code",
   "execution_count": null,
   "metadata": {},
   "outputs": [],
   "source": []
  },
  {
   "cell_type": "markdown",
   "metadata": {},
   "source": [
    "#### Espacio de posibles carteras\n",
    "Simulamos primero un conjunto aleatorio de pesos para visualizar el espacio\n",
    "de posibles carteras "
   ]
  },
  {
   "cell_type": "code",
   "execution_count": 15,
   "metadata": {},
   "outputs": [],
   "source": [
    "n = mean_returns.shape[0]\n",
    "list_ret_p = []\n",
    "list_std_p = []\n",
    "list_w = []\n",
    "for _ in range(10000):\n",
    "    w = np.random.rand(n)           # pesos aleatorios   \n",
    "    w = w / np.sum(w)               # Escalamos para que sumen 1\n",
    "    ret_p = mean_returns.dot(w)\n",
    "    std_p = np.sqrt(w @ cov_returns.values @ w)  \n",
    "    list_ret_p.append(ret_p)\n",
    "    list_std_p.append(std_p)\n",
    "    list_w.append(w)"
   ]
  },
  {
   "cell_type": "markdown",
   "metadata": {},
   "source": [
    "___"
   ]
  },
  {
   "cell_type": "markdown",
   "metadata": {},
   "source": [
    "### Ejercicio 1"
   ]
  },
  {
   "cell_type": "markdown",
   "metadata": {},
   "source": [
    "Modificamos la función de la frontera eficiente para aceptar un parámetro de posicion máxima"
   ]
  },
  {
   "cell_type": "code",
   "execution_count": 17,
   "metadata": {},
   "outputs": [],
   "source": [
    "def efficient_frontier(returns, n_samples=50, gamma_low=-1, gamma_high=10,\n",
    "                       max_w=1.0, min_w=0.0):\n",
    "    \"\"\"\n",
    "    construye un conjunto de problemas de programación cuádrática\n",
    "    para inferir la frontera eficiente de Markovitz. \n",
    "    En cada problema el parámetro gamma se cambia para aumentar\n",
    "    la penalización del riesgo en la función de maximización.\n",
    "    \"\"\"\n",
    "    sigma = returns.cov().values\n",
    "    mu = np.mean(returns, axis=0).values  \n",
    "    n = sigma.shape[0]        \n",
    "    w = cp.Variable(n)\n",
    "    gamma = cp.Parameter(nonneg=True)\n",
    "    ret = mu.T @ w\n",
    "    risk = cp.quad_form(w, sigma)\n",
    "    \n",
    "    prob = cp.Problem(cp.Maximize(ret - gamma*risk), \n",
    "                      [cp.sum(w) == 1,  \n",
    "                       w >= min_w,\n",
    "                       w <= max_w]) \n",
    "    # Equivalente \n",
    "    #prob = cp.Problem(cp.Minimize(risk - gamma*ret), \n",
    "    #                  [cp.sum(w) == 1,  w >= 0])   \n",
    "    risk_data = np.zeros(n_samples)\n",
    "    ret_data = np.zeros(n_samples)\n",
    "    gamma_vals = np.logspace(gamma_low, gamma_high, num=n_samples)\n",
    "    \n",
    "    portfolio_weights = []    \n",
    "    for i in range(n_samples):\n",
    "        gamma.value = gamma_vals[i]\n",
    "        prob.solve()\n",
    "        risk_data[i] = np.sqrt(risk.value)\n",
    "        ret_data[i] = ret.value\n",
    "        portfolio_weights.append(w.value)   \n",
    "    return ret_data, risk_data, gamma_vals, portfolio_weights\n",
    "\n"
   ]
  },
  {
   "cell_type": "code",
   "execution_count": 22,
   "metadata": {},
   "outputs": [],
   "source": [
    "ret, risk, _, port = efficient_frontier(returns)\n",
    "ret1, risk1, _, port1 = efficient_frontier(returns, max_w=0.20)\n",
    "ret2, risk2, _, port2 = efficient_frontier(returns, max_w=0.15)"
   ]
  },
  {
   "cell_type": "code",
   "execution_count": 24,
   "metadata": {},
   "outputs": [
    {
     "data": {
      "image/png": "[encoded data removed]",
      "text/plain": [
       "<Figure size 720x504 with 1 Axes>"
      ]
     },
     "metadata": {
      "needs_background": "light"
     },
     "output_type": "display_data"
    }
   ],
   "source": [
    "fig, ax = plt.subplots(figsize=(10, 7))\n",
    "plt.plot(list_std_p, list_ret_p, '.')\n",
    "ax.plot(risk, ret, 'y')\n",
    "ax.plot(risk1, ret1, 'r')\n",
    "ax.plot(risk2, ret2, 'c')\n",
    "\n",
    "#ax.plot(optimal_risk, optimal_ret, '*', markersize=15)\n",
    "_ = ax.set_xlabel('std')\n",
    "_ = ax.set_ylabel('mean')\n"
   ]
  },
  {
   "cell_type": "markdown",
   "metadata": {},
   "source": [
    "___"
   ]
  },
  {
   "cell_type": "markdown",
   "metadata": {},
   "source": [
    "### Ejercicio 2"
   ]
  },
  {
   "cell_type": "code",
   "execution_count": 16,
   "metadata": {},
   "outputs": [],
   "source": [
    "Sigma = cov_returns.values\n",
    "mu = mean_returns.values"
   ]
  },
  {
   "cell_type": "code",
   "execution_count": 26,
   "metadata": {},
   "outputs": [
    {
     "data": {
      "text/html": [
       "<div>\n",
       "<style scoped>\n",
       "    .dataframe tbody tr th:only-of-type {\n",
       "        vertical-align: middle;\n",
       "    }\n",
       "\n",
       "    .dataframe tbody tr th {\n",
       "        vertical-align: top;\n",
       "    }\n",
       "\n",
       "    .dataframe thead th {\n",
       "        text-align: right;\n",
       "    }\n",
       "</style>\n",
       "<table border=\"1\" class=\"dataframe\">\n",
       "  <thead>\n",
       "    <tr style=\"text-align: right;\">\n",
       "      <th></th>\n",
       "      <th>ACS</th>\n",
       "      <th>TEF</th>\n",
       "      <th>ITX</th>\n",
       "      <th>GRF</th>\n",
       "      <th>AMS</th>\n",
       "      <th>ENG</th>\n",
       "      <th>MAP</th>\n",
       "      <th>REP</th>\n",
       "      <th>AENA</th>\n",
       "      <th>VIS</th>\n",
       "    </tr>\n",
       "  </thead>\n",
       "  <tbody>\n",
       "    <tr>\n",
       "      <th>2019-01-03</th>\n",
       "      <td>0.002404</td>\n",
       "      <td>0.016472</td>\n",
       "      <td>-0.014369</td>\n",
       "      <td>0.003513</td>\n",
       "      <td>-0.056584</td>\n",
       "      <td>0.012407</td>\n",
       "      <td>0.004782</td>\n",
       "      <td>0.001404</td>\n",
       "      <td>0.000365</td>\n",
       "      <td>-0.003000</td>\n",
       "    </tr>\n",
       "    <tr>\n",
       "      <th>2019-01-04</th>\n",
       "      <td>0.014895</td>\n",
       "      <td>0.012932</td>\n",
       "      <td>0.034670</td>\n",
       "      <td>0.032776</td>\n",
       "      <td>0.033867</td>\n",
       "      <td>0.002053</td>\n",
       "      <td>0.027797</td>\n",
       "      <td>0.023571</td>\n",
       "      <td>0.024862</td>\n",
       "      <td>0.017865</td>\n",
       "    </tr>\n",
       "    <tr>\n",
       "      <th>2019-01-07</th>\n",
       "      <td>0.003247</td>\n",
       "      <td>0.009006</td>\n",
       "      <td>0.007833</td>\n",
       "      <td>-0.000849</td>\n",
       "      <td>0.009281</td>\n",
       "      <td>-0.000821</td>\n",
       "      <td>-0.000422</td>\n",
       "      <td>-0.008256</td>\n",
       "      <td>-0.009655</td>\n",
       "      <td>0.003367</td>\n",
       "    </tr>\n",
       "    <tr>\n",
       "      <th>2019-01-08</th>\n",
       "      <td>0.010263</td>\n",
       "      <td>-0.001560</td>\n",
       "      <td>0.021442</td>\n",
       "      <td>0.014753</td>\n",
       "      <td>0.025087</td>\n",
       "      <td>0.013861</td>\n",
       "      <td>-0.001267</td>\n",
       "      <td>0.001036</td>\n",
       "      <td>0.006090</td>\n",
       "      <td>0.019555</td>\n",
       "    </tr>\n",
       "    <tr>\n",
       "      <th>2019-01-09</th>\n",
       "      <td>0.008713</td>\n",
       "      <td>-0.020644</td>\n",
       "      <td>0.011390</td>\n",
       "      <td>0.013713</td>\n",
       "      <td>0.004494</td>\n",
       "      <td>-0.004463</td>\n",
       "      <td>-0.004658</td>\n",
       "      <td>0.014049</td>\n",
       "      <td>-0.010772</td>\n",
       "      <td>0.004522</td>\n",
       "    </tr>\n",
       "    <tr>\n",
       "      <th>...</th>\n",
       "      <td>...</td>\n",
       "      <td>...</td>\n",
       "      <td>...</td>\n",
       "      <td>...</td>\n",
       "      <td>...</td>\n",
       "      <td>...</td>\n",
       "      <td>...</td>\n",
       "      <td>...</td>\n",
       "      <td>...</td>\n",
       "      <td>...</td>\n",
       "    </tr>\n",
       "    <tr>\n",
       "      <th>2019-12-23</th>\n",
       "      <td>0.006053</td>\n",
       "      <td>-0.012166</td>\n",
       "      <td>0.007291</td>\n",
       "      <td>0.011324</td>\n",
       "      <td>0.007726</td>\n",
       "      <td>0.007342</td>\n",
       "      <td>-0.002061</td>\n",
       "      <td>0.004604</td>\n",
       "      <td>0.007237</td>\n",
       "      <td>-0.017441</td>\n",
       "    </tr>\n",
       "    <tr>\n",
       "      <th>2019-12-24</th>\n",
       "      <td>0.016529</td>\n",
       "      <td>-0.006529</td>\n",
       "      <td>0.003468</td>\n",
       "      <td>0.000313</td>\n",
       "      <td>0.012836</td>\n",
       "      <td>0.006861</td>\n",
       "      <td>-0.009534</td>\n",
       "      <td>0.000353</td>\n",
       "      <td>0.002880</td>\n",
       "      <td>-0.020670</td>\n",
       "    </tr>\n",
       "    <tr>\n",
       "      <th>2019-12-27</th>\n",
       "      <td>-0.005385</td>\n",
       "      <td>0.000312</td>\n",
       "      <td>0.011890</td>\n",
       "      <td>0.003122</td>\n",
       "      <td>-0.000814</td>\n",
       "      <td>-0.000855</td>\n",
       "      <td>0.007882</td>\n",
       "      <td>0.003174</td>\n",
       "      <td>0.006879</td>\n",
       "      <td>0.010389</td>\n",
       "    </tr>\n",
       "    <tr>\n",
       "      <th>2019-12-30</th>\n",
       "      <td>0.000000</td>\n",
       "      <td>-0.014764</td>\n",
       "      <td>-0.012520</td>\n",
       "      <td>-0.011916</td>\n",
       "      <td>-0.009825</td>\n",
       "      <td>-0.007729</td>\n",
       "      <td>-0.011220</td>\n",
       "      <td>-0.005296</td>\n",
       "      <td>-0.011491</td>\n",
       "      <td>-0.007885</td>\n",
       "    </tr>\n",
       "    <tr>\n",
       "      <th>2019-12-31</th>\n",
       "      <td>0.012987</td>\n",
       "      <td>-0.014825</td>\n",
       "      <td>-0.009494</td>\n",
       "      <td>-0.008554</td>\n",
       "      <td>-0.001647</td>\n",
       "      <td>-0.020027</td>\n",
       "      <td>-0.013886</td>\n",
       "      <td>-0.013901</td>\n",
       "      <td>-0.014845</td>\n",
       "      <td>-0.018928</td>\n",
       "    </tr>\n",
       "  </tbody>\n",
       "</table>\n",
       "<p>254 rows × 10 columns</p>\n",
       "</div>"
      ],
      "text/plain": [
       "                 ACS       TEF       ITX       GRF       AMS       ENG  \\\n",
       "2019-01-03  0.002404  0.016472 -0.014369  0.003513 -0.056584  0.012407   \n",
       "2019-01-04  0.014895  0.012932  0.034670  0.032776  0.033867  0.002053   \n",
       "2019-01-07  0.003247  0.009006  0.007833 -0.000849  0.009281 -0.000821   \n",
       "2019-01-08  0.010263 -0.001560  0.021442  0.014753  0.025087  0.013861   \n",
       "2019-01-09  0.008713 -0.020644  0.011390  0.013713  0.004494 -0.004463   \n",
       "...              ...       ...       ...       ...       ...       ...   \n",
       "2019-12-23  0.006053 -0.012166  0.007291  0.011324  0.007726  0.007342   \n",
       "2019-12-24  0.016529 -0.006529  0.003468  0.000313  0.012836  0.006861   \n",
       "2019-12-27 -0.005385  0.000312  0.011890  0.003122 -0.000814 -0.000855   \n",
       "2019-12-30  0.000000 -0.014764 -0.012520 -0.011916 -0.009825 -0.007729   \n",
       "2019-12-31  0.012987 -0.014825 -0.009494 -0.008554 -0.001647 -0.020027   \n",
       "\n",
       "                 MAP       REP      AENA       VIS  \n",
       "2019-01-03  0.004782  0.001404  0.000365 -0.003000  \n",
       "2019-01-04  0.027797  0.023571  0.024862  0.017865  \n",
       "2019-01-07 -0.000422 -0.008256 -0.009655  0.003367  \n",
       "2019-01-08 -0.001267  0.001036  0.006090  0.019555  \n",
       "2019-01-09 -0.004658  0.014049 -0.010772  0.004522  \n",
       "...              ...       ...       ...       ...  \n",
       "2019-12-23 -0.002061  0.004604  0.007237 -0.017441  \n",
       "2019-12-24 -0.009534  0.000353  0.002880 -0.020670  \n",
       "2019-12-27  0.007882  0.003174  0.006879  0.010389  \n",
       "2019-12-30 -0.011220 -0.005296 -0.011491 -0.007885  \n",
       "2019-12-31 -0.013886 -0.013901 -0.014845 -0.018928  \n",
       "\n",
       "[254 rows x 10 columns]"
      ]
     },
     "execution_count": 26,
     "metadata": {},
     "output_type": "execute_result"
    }
   ],
   "source": [
    "returns"
   ]
  },
  {
   "cell_type": "code",
   "execution_count": 33,
   "metadata": {},
   "outputs": [],
   "source": [
    "tickers = returns.columns"
   ]
  },
  {
   "cell_type": "code",
   "execution_count": 37,
   "metadata": {},
   "outputs": [],
   "source": [
    "mid_cap_tickers = ['ACS','MAP','VIS','ENG']"
   ]
  },
  {
   "cell_type": "code",
   "execution_count": 38,
   "metadata": {},
   "outputs": [],
   "source": [
    "idxmid = [tickers.get_loc(t) for t in mid_cap_tickers]"
   ]
  },
  {
   "cell_type": "code",
   "execution_count": 39,
   "metadata": {},
   "outputs": [
    {
     "data": {
      "text/plain": [
       "[0, 6, 9, 5]"
      ]
     },
     "execution_count": 39,
     "metadata": {},
     "output_type": "execute_result"
    }
   ],
   "source": [
    "idxmid\n"
   ]
  },
  {
   "cell_type": "code",
   "execution_count": 45,
   "metadata": {},
   "outputs": [
    {
     "data": {
      "text/plain": [
       "5.184828437246974e-05"
      ]
     },
     "execution_count": 45,
     "metadata": {},
     "output_type": "execute_result"
    }
   ],
   "source": [
    "w = cp.Variable(n)\n",
    "\n",
    "port_risk = cp.quad_form(w, Sigma)\n",
    "port_ret = mu @ w\n",
    "constraints = [\n",
    "    cp.sum(w) == 1, \n",
    "    w >= 0,\n",
    "    w <= 0.2,\n",
    "    cp.sum(w[idxmid]) <= 0.25\n",
    "]\n",
    "\n",
    "prob = cp.Problem(cp.Minimize(port_risk), \n",
    "                  constraints) \n",
    "prob.solve()"
   ]
  },
  {
   "cell_type": "code",
   "execution_count": 46,
   "metadata": {},
   "outputs": [
    {
     "data": {
      "text/plain": [
       "<matplotlib.axes._subplots.AxesSubplot at 0x7fe354e76be0>"
      ]
     },
     "execution_count": 46,
     "metadata": {},
     "output_type": "execute_result"
    },
    {
     "data": {
      "image/png": "[encoded data removed]",
      "text/plain": [
       "<Figure size 432x288 with 1 Axes>"
      ]
     },
     "metadata": {},
     "output_type": "display_data"
    }
   ],
   "source": [
    "cartera = pd.Series(w.value, index=returns.columns).round(3)\n",
    "cartera.plot.pie()"
   ]
  },
  {
   "cell_type": "code",
   "execution_count": 47,
   "metadata": {},
   "outputs": [
    {
     "data": {
      "text/plain": [
       "ACS     0.000\n",
       "TEF     0.199\n",
       "ITX     0.031\n",
       "GRF     0.190\n",
       "AMS    -0.000\n",
       "ENG     0.142\n",
       "MAP     0.078\n",
       "REP     0.130\n",
       "AENA    0.200\n",
       "VIS     0.030\n",
       "dtype: float64"
      ]
     },
     "execution_count": 47,
     "metadata": {},
     "output_type": "execute_result"
    }
   ],
   "source": [
    "cartera"
   ]
  },
  {
   "cell_type": "code",
   "execution_count": 48,
   "metadata": {},
   "outputs": [
    {
     "data": {
      "text/plain": [
       "ACS    0.000\n",
       "MAP    0.078\n",
       "VIS    0.030\n",
       "ENG    0.142\n",
       "dtype: float64"
      ]
     },
     "execution_count": 48,
     "metadata": {},
     "output_type": "execute_result"
    }
   ],
   "source": [
    "cartera.iloc[idxmid]"
   ]
  },
  {
   "cell_type": "code",
   "execution_count": 49,
   "metadata": {},
   "outputs": [
    {
     "data": {
      "text/plain": [
       "(5.1848284372469734e-05, 0.0005076703301538991)"
      ]
     },
     "execution_count": 49,
     "metadata": {},
     "output_type": "execute_result"
    }
   ],
   "source": [
    "port_risk.value, port_ret.value"
   ]
  },
  {
   "cell_type": "code",
   "execution_count": null,
   "metadata": {},
   "outputs": [],
   "source": []
  }
 ],
 "metadata": {
  "kernelspec": {
   "display_name": "Python 3",
   "language": "python",
   "name": "python3"
  },
  "language_info": {
   "codemirror_mode": {
    "name": "ipython",
    "version": 3
   },
   "file_extension": ".py",
   "mimetype": "text/x-python",
   "name": "python",
   "nbconvert_exporter": "python",
   "pygments_lexer": "ipython3",
   "version": "3.8.3"
  }
 },
 "nbformat": 4,
 "nbformat_minor": 4
}
