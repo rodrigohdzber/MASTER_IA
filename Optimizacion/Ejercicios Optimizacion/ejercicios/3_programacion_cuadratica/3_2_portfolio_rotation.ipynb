{
 "cells": [
  {
   "cell_type": "markdown",
   "metadata": {},
   "source": [
    "## Programación Cuadrática\n",
    "### Optimizacion de carteras con rotación restringida\n",
    "\n",
    "Este cuaderno plantea el proceso de optimizar una cartera por segunda vez\n",
    "imponiendo restricciones para que la rotación esté limitada"
   ]
  },
  {
   "cell_type": "code",
   "execution_count": 1,
   "metadata": {},
   "outputs": [],
   "source": [
    "import numpy as np \n",
    "import pandas as pd\n",
    "import matplotlib.pyplot as plt\n",
    "import cvxpy as cp\n",
    "import pickle"
   ]
  },
  {
   "cell_type": "code",
   "execution_count": 2,
   "metadata": {},
   "outputs": [],
   "source": [
    "with open('../data/stock_data.pkl', 'rb') as handle:\n",
    "    stock_data = pickle.load(handle)"
   ]
  },
  {
   "cell_type": "markdown",
   "metadata": {},
   "source": [
    "Para simplificar el ejercicio trabajaremos con un universo reducido\n",
    "de 10 activos del IBEX."
   ]
  },
  {
   "cell_type": "code",
   "execution_count": 3,
   "metadata": {},
   "outputs": [],
   "source": [
    "tickers = ['ACS','TEF','ITX','GRF','AMS','ENG','MAP','REP','AENA','VIS']"
   ]
  },
  {
   "cell_type": "code",
   "execution_count": 4,
   "metadata": {},
   "outputs": [],
   "source": [
    "close_dict = {tk: df.close for tk, df in stock_data.items() if tk in tickers}\n",
    "stock_close = pd.DataFrame(close_dict)"
   ]
  },
  {
   "cell_type": "markdown",
   "metadata": {},
   "source": [
    "____"
   ]
  },
  {
   "cell_type": "markdown",
   "metadata": {},
   "source": [
    "**Funcion copiada del ejercicio 3_1**"
   ]
  },
  {
   "cell_type": "code",
   "execution_count": 5,
   "metadata": {},
   "outputs": [],
   "source": [
    "def efficient_frontier(returns, n_samples=50, gamma_low=-1, gamma_high=10):\n",
    "    \"\"\"\n",
    "    construye un conjunto de problemas de programación cuádrática\n",
    "    para inferir la frontera eficiente de Markovitz. \n",
    "    En cada problema el parámetro gamma se cambia para aumentar\n",
    "    la penalización del riesgo en la función de maximización.\n",
    "    \"\"\"\n",
    "    sigma = returns.cov().values\n",
    "    mu = np.mean(returns, axis=0).values  \n",
    "    n = sigma.shape[0]        \n",
    "    w = cp.Variable(n)\n",
    "    gamma = cp.Parameter(nonneg=True)\n",
    "    ret = mu.T @ w\n",
    "    risk = cp.quad_form(w, sigma)\n",
    "    \n",
    "    prob = cp.Problem(cp.Maximize(ret - gamma*risk), \n",
    "                      [cp.sum(w) == 1,  \n",
    "                       w >= 0,\n",
    "                       w <= 0.25]) \n",
    "    # Equivalente \n",
    "    #prob = cp.Problem(cp.Minimize(risk - gamma*ret), \n",
    "    #                  [cp.sum(w) == 1,  w >= 0])   \n",
    "    risk_data = np.zeros(n_samples)\n",
    "    ret_data = np.zeros(n_samples)\n",
    "    gamma_vals = np.logspace(gamma_low, gamma_high, num=n_samples)\n",
    "    \n",
    "    portfolio_weights = []    \n",
    "    for i in range(n_samples):\n",
    "        gamma.value = gamma_vals[i]\n",
    "        prob.solve()\n",
    "        risk_data[i] = np.sqrt(risk.value)\n",
    "        ret_data[i] = ret.value\n",
    "        portfolio_weights.append(w.value)   \n",
    "    return ret_data, risk_data, gamma_vals, portfolio_weights\n",
    "\n"
   ]
  },
  {
   "cell_type": "code",
   "execution_count": 6,
   "metadata": {},
   "outputs": [],
   "source": [
    "def get_optimal_portfolio(returns):\n",
    "    ret_data, risk_data, gamma_vals, portfolio_weights = efficient_frontier(returns)\n",
    "    sharpes = ret_data/risk_data \n",
    "    idx = np.argmax(sharpes)\n",
    "    optimal_portfolio = pd.Series(portfolio_weights[idx],\n",
    "                              index=returns.columns).round(3)\n",
    "    return optimal_portfolio"
   ]
  },
  {
   "cell_type": "markdown",
   "metadata": {},
   "source": [
    "____"
   ]
  },
  {
   "cell_type": "markdown",
   "metadata": {},
   "source": [
    "#### Optimización Independiente\n",
    "Primero haremos una optimización por separado para generar 2 carteras cada 6 meses"
   ]
  },
  {
   "cell_type": "code",
   "execution_count": 7,
   "metadata": {},
   "outputs": [
    {
     "data": {
      "text/html": [
       "<div>\n",
       "<style scoped>\n",
       "    .dataframe tbody tr th:only-of-type {\n",
       "        vertical-align: middle;\n",
       "    }\n",
       "\n",
       "    .dataframe tbody tr th {\n",
       "        vertical-align: top;\n",
       "    }\n",
       "\n",
       "    .dataframe thead th {\n",
       "        text-align: right;\n",
       "    }\n",
       "</style>\n",
       "<table border=\"1\" class=\"dataframe\">\n",
       "  <thead>\n",
       "    <tr style=\"text-align: right;\">\n",
       "      <th></th>\n",
       "      <th>ACS</th>\n",
       "      <th>AMS</th>\n",
       "      <th>AENA</th>\n",
       "      <th>ITX</th>\n",
       "      <th>VIS</th>\n",
       "      <th>MAP</th>\n",
       "      <th>ENG</th>\n",
       "      <th>REP</th>\n",
       "      <th>GRF</th>\n",
       "      <th>TEF</th>\n",
       "    </tr>\n",
       "  </thead>\n",
       "  <tbody>\n",
       "    <tr>\n",
       "      <th>2019-01-02</th>\n",
       "      <td>29.254370</td>\n",
       "      <td>59.910340</td>\n",
       "      <td>131.210901</td>\n",
       "      <td>21.723158</td>\n",
       "      <td>44.423518</td>\n",
       "      <td>2.062509</td>\n",
       "      <td>21.491329</td>\n",
       "      <td>11.817150</td>\n",
       "      <td>22.446920</td>\n",
       "      <td>6.995052</td>\n",
       "    </tr>\n",
       "    <tr>\n",
       "      <th>2019-01-03</th>\n",
       "      <td>29.324778</td>\n",
       "      <td>56.614491</td>\n",
       "      <td>131.258788</td>\n",
       "      <td>21.413242</td>\n",
       "      <td>44.290456</td>\n",
       "      <td>2.072394</td>\n",
       "      <td>21.759635</td>\n",
       "      <td>11.833753</td>\n",
       "      <td>22.525924</td>\n",
       "      <td>7.111227</td>\n",
       "    </tr>\n",
       "    <tr>\n",
       "      <th>2019-01-04</th>\n",
       "      <td>29.764826</td>\n",
       "      <td>58.564697</td>\n",
       "      <td>134.563004</td>\n",
       "      <td>22.168662</td>\n",
       "      <td>45.088825</td>\n",
       "      <td>2.130810</td>\n",
       "      <td>21.804353</td>\n",
       "      <td>12.116003</td>\n",
       "      <td>23.276459</td>\n",
       "      <td>7.203789</td>\n",
       "    </tr>\n",
       "    <tr>\n",
       "      <th>2019-01-07</th>\n",
       "      <td>29.861636</td>\n",
       "      <td>59.110755</td>\n",
       "      <td>133.270050</td>\n",
       "      <td>22.342990</td>\n",
       "      <td>45.240895</td>\n",
       "      <td>2.129911</td>\n",
       "      <td>21.786465</td>\n",
       "      <td>12.016386</td>\n",
       "      <td>23.256708</td>\n",
       "      <td>7.268960</td>\n",
       "    </tr>\n",
       "    <tr>\n",
       "      <th>2019-01-08</th>\n",
       "      <td>30.169670</td>\n",
       "      <td>60.612414</td>\n",
       "      <td>134.084132</td>\n",
       "      <td>22.827233</td>\n",
       "      <td>46.134308</td>\n",
       "      <td>2.127215</td>\n",
       "      <td>22.090546</td>\n",
       "      <td>12.028838</td>\n",
       "      <td>23.602349</td>\n",
       "      <td>7.257626</td>\n",
       "    </tr>\n",
       "    <tr>\n",
       "      <th>...</th>\n",
       "      <td>...</td>\n",
       "      <td>...</td>\n",
       "      <td>...</td>\n",
       "      <td>...</td>\n",
       "      <td>...</td>\n",
       "      <td>...</td>\n",
       "      <td>...</td>\n",
       "      <td>...</td>\n",
       "      <td>...</td>\n",
       "      <td>...</td>\n",
       "    </tr>\n",
       "    <tr>\n",
       "      <th>2019-06-24</th>\n",
       "      <td>33.680991</td>\n",
       "      <td>67.207544</td>\n",
       "      <td>177.350000</td>\n",
       "      <td>25.096468</td>\n",
       "      <td>44.728066</td>\n",
       "      <td>2.446751</td>\n",
       "      <td>22.278360</td>\n",
       "      <td>12.413808</td>\n",
       "      <td>24.620179</td>\n",
       "      <td>7.046115</td>\n",
       "    </tr>\n",
       "    <tr>\n",
       "      <th>2019-06-25</th>\n",
       "      <td>33.486250</td>\n",
       "      <td>66.853510</td>\n",
       "      <td>177.300000</td>\n",
       "      <td>24.850327</td>\n",
       "      <td>44.902785</td>\n",
       "      <td>2.444895</td>\n",
       "      <td>22.099489</td>\n",
       "      <td>12.288867</td>\n",
       "      <td>24.739405</td>\n",
       "      <td>7.065531</td>\n",
       "    </tr>\n",
       "    <tr>\n",
       "      <th>2019-06-26</th>\n",
       "      <td>32.215794</td>\n",
       "      <td>67.128870</td>\n",
       "      <td>172.650000</td>\n",
       "      <td>25.106313</td>\n",
       "      <td>44.262148</td>\n",
       "      <td>2.431905</td>\n",
       "      <td>21.840127</td>\n",
       "      <td>12.400422</td>\n",
       "      <td>24.173081</td>\n",
       "      <td>7.083976</td>\n",
       "    </tr>\n",
       "    <tr>\n",
       "      <th>2019-06-27</th>\n",
       "      <td>32.215794</td>\n",
       "      <td>67.561579</td>\n",
       "      <td>172.050000</td>\n",
       "      <td>25.903808</td>\n",
       "      <td>44.514520</td>\n",
       "      <td>2.396647</td>\n",
       "      <td>21.500272</td>\n",
       "      <td>12.235321</td>\n",
       "      <td>25.047406</td>\n",
       "      <td>7.003400</td>\n",
       "    </tr>\n",
       "    <tr>\n",
       "      <th>2019-06-28</th>\n",
       "      <td>32.558910</td>\n",
       "      <td>68.505671</td>\n",
       "      <td>174.300000</td>\n",
       "      <td>26.041646</td>\n",
       "      <td>44.708652</td>\n",
       "      <td>2.385512</td>\n",
       "      <td>20.990490</td>\n",
       "      <td>12.302254</td>\n",
       "      <td>25.832310</td>\n",
       "      <td>7.010195</td>\n",
       "    </tr>\n",
       "  </tbody>\n",
       "</table>\n",
       "<p>125 rows × 10 columns</p>\n",
       "</div>"
      ],
      "text/plain": [
       "                  ACS        AMS        AENA        ITX        VIS       MAP  \\\n",
       "2019-01-02  29.254370  59.910340  131.210901  21.723158  44.423518  2.062509   \n",
       "2019-01-03  29.324778  56.614491  131.258788  21.413242  44.290456  2.072394   \n",
       "2019-01-04  29.764826  58.564697  134.563004  22.168662  45.088825  2.130810   \n",
       "2019-01-07  29.861636  59.110755  133.270050  22.342990  45.240895  2.129911   \n",
       "2019-01-08  30.169670  60.612414  134.084132  22.827233  46.134308  2.127215   \n",
       "...               ...        ...         ...        ...        ...       ...   \n",
       "2019-06-24  33.680991  67.207544  177.350000  25.096468  44.728066  2.446751   \n",
       "2019-06-25  33.486250  66.853510  177.300000  24.850327  44.902785  2.444895   \n",
       "2019-06-26  32.215794  67.128870  172.650000  25.106313  44.262148  2.431905   \n",
       "2019-06-27  32.215794  67.561579  172.050000  25.903808  44.514520  2.396647   \n",
       "2019-06-28  32.558910  68.505671  174.300000  26.041646  44.708652  2.385512   \n",
       "\n",
       "                  ENG        REP        GRF       TEF  \n",
       "2019-01-02  21.491329  11.817150  22.446920  6.995052  \n",
       "2019-01-03  21.759635  11.833753  22.525924  7.111227  \n",
       "2019-01-04  21.804353  12.116003  23.276459  7.203789  \n",
       "2019-01-07  21.786465  12.016386  23.256708  7.268960  \n",
       "2019-01-08  22.090546  12.028838  23.602349  7.257626  \n",
       "...               ...        ...        ...       ...  \n",
       "2019-06-24  22.278360  12.413808  24.620179  7.046115  \n",
       "2019-06-25  22.099489  12.288867  24.739405  7.065531  \n",
       "2019-06-26  21.840127  12.400422  24.173081  7.083976  \n",
       "2019-06-27  21.500272  12.235321  25.047406  7.003400  \n",
       "2019-06-28  20.990490  12.302254  25.832310  7.010195  \n",
       "\n",
       "[125 rows x 10 columns]"
      ]
     },
     "execution_count": 7,
     "metadata": {},
     "output_type": "execute_result"
    }
   ],
   "source": [
    "data_close_h1 = stock_close.loc['2019-01-02':'2019-06-30'].dropna(axis=1)\n",
    "data_close_h1"
   ]
  },
  {
   "cell_type": "code",
   "execution_count": 8,
   "metadata": {},
   "outputs": [
    {
     "data": {
      "text/html": [
       "<div>\n",
       "<style scoped>\n",
       "    .dataframe tbody tr th:only-of-type {\n",
       "        vertical-align: middle;\n",
       "    }\n",
       "\n",
       "    .dataframe tbody tr th {\n",
       "        vertical-align: top;\n",
       "    }\n",
       "\n",
       "    .dataframe thead th {\n",
       "        text-align: right;\n",
       "    }\n",
       "</style>\n",
       "<table border=\"1\" class=\"dataframe\">\n",
       "  <thead>\n",
       "    <tr style=\"text-align: right;\">\n",
       "      <th></th>\n",
       "      <th>ACS</th>\n",
       "      <th>AMS</th>\n",
       "      <th>AENA</th>\n",
       "      <th>ITX</th>\n",
       "      <th>VIS</th>\n",
       "      <th>MAP</th>\n",
       "      <th>ENG</th>\n",
       "      <th>REP</th>\n",
       "      <th>GRF</th>\n",
       "      <th>TEF</th>\n",
       "    </tr>\n",
       "  </thead>\n",
       "  <tbody>\n",
       "    <tr>\n",
       "      <th>2019-01-03</th>\n",
       "      <td>0.002404</td>\n",
       "      <td>-0.056584</td>\n",
       "      <td>0.000365</td>\n",
       "      <td>-0.014369</td>\n",
       "      <td>-0.003000</td>\n",
       "      <td>0.004782</td>\n",
       "      <td>0.012407</td>\n",
       "      <td>0.001404</td>\n",
       "      <td>0.003513</td>\n",
       "      <td>0.016472</td>\n",
       "    </tr>\n",
       "    <tr>\n",
       "      <th>2019-01-04</th>\n",
       "      <td>0.014895</td>\n",
       "      <td>0.033867</td>\n",
       "      <td>0.024862</td>\n",
       "      <td>0.034670</td>\n",
       "      <td>0.017865</td>\n",
       "      <td>0.027797</td>\n",
       "      <td>0.002053</td>\n",
       "      <td>0.023571</td>\n",
       "      <td>0.032776</td>\n",
       "      <td>0.012932</td>\n",
       "    </tr>\n",
       "    <tr>\n",
       "      <th>2019-01-07</th>\n",
       "      <td>0.003247</td>\n",
       "      <td>0.009281</td>\n",
       "      <td>-0.009655</td>\n",
       "      <td>0.007833</td>\n",
       "      <td>0.003367</td>\n",
       "      <td>-0.000422</td>\n",
       "      <td>-0.000821</td>\n",
       "      <td>-0.008256</td>\n",
       "      <td>-0.000849</td>\n",
       "      <td>0.009006</td>\n",
       "    </tr>\n",
       "    <tr>\n",
       "      <th>2019-01-08</th>\n",
       "      <td>0.010263</td>\n",
       "      <td>0.025087</td>\n",
       "      <td>0.006090</td>\n",
       "      <td>0.021442</td>\n",
       "      <td>0.019555</td>\n",
       "      <td>-0.001267</td>\n",
       "      <td>0.013861</td>\n",
       "      <td>0.001036</td>\n",
       "      <td>0.014753</td>\n",
       "      <td>-0.001560</td>\n",
       "    </tr>\n",
       "    <tr>\n",
       "      <th>2019-01-09</th>\n",
       "      <td>0.008713</td>\n",
       "      <td>0.004494</td>\n",
       "      <td>-0.010772</td>\n",
       "      <td>0.011390</td>\n",
       "      <td>0.004522</td>\n",
       "      <td>-0.004658</td>\n",
       "      <td>-0.004463</td>\n",
       "      <td>0.014049</td>\n",
       "      <td>0.013713</td>\n",
       "      <td>-0.020644</td>\n",
       "    </tr>\n",
       "  </tbody>\n",
       "</table>\n",
       "</div>"
      ],
      "text/plain": [
       "                 ACS       AMS      AENA       ITX       VIS       MAP  \\\n",
       "2019-01-03  0.002404 -0.056584  0.000365 -0.014369 -0.003000  0.004782   \n",
       "2019-01-04  0.014895  0.033867  0.024862  0.034670  0.017865  0.027797   \n",
       "2019-01-07  0.003247  0.009281 -0.009655  0.007833  0.003367 -0.000422   \n",
       "2019-01-08  0.010263  0.025087  0.006090  0.021442  0.019555 -0.001267   \n",
       "2019-01-09  0.008713  0.004494 -0.010772  0.011390  0.004522 -0.004658   \n",
       "\n",
       "                 ENG       REP       GRF       TEF  \n",
       "2019-01-03  0.012407  0.001404  0.003513  0.016472  \n",
       "2019-01-04  0.002053  0.023571  0.032776  0.012932  \n",
       "2019-01-07 -0.000821 -0.008256 -0.000849  0.009006  \n",
       "2019-01-08  0.013861  0.001036  0.014753 -0.001560  \n",
       "2019-01-09 -0.004463  0.014049  0.013713 -0.020644  "
      ]
     },
     "execution_count": 8,
     "metadata": {},
     "output_type": "execute_result"
    }
   ],
   "source": [
    "returns_h1 = np.log(data_close_h1).diff().dropna()\n",
    "returns_h1.head()"
   ]
  },
  {
   "cell_type": "markdown",
   "metadata": {},
   "source": [
    "portfolio optimo para el primer semestre"
   ]
  },
  {
   "cell_type": "code",
   "execution_count": 9,
   "metadata": {},
   "outputs": [
    {
     "data": {
      "text/plain": [
       "ACS     0.099\n",
       "AMS     0.048\n",
       "AENA    0.250\n",
       "ITX     0.241\n",
       "VIS     0.000\n",
       "MAP     0.250\n",
       "ENG    -0.000\n",
       "REP    -0.000\n",
       "GRF     0.112\n",
       "TEF    -0.000\n",
       "dtype: float64"
      ]
     },
     "execution_count": 9,
     "metadata": {},
     "output_type": "execute_result"
    }
   ],
   "source": [
    "portfolio_h1 = get_optimal_portfolio(returns_h1)\n",
    "portfolio_h1"
   ]
  },
  {
   "cell_type": "markdown",
   "metadata": {},
   "source": [
    "ahora para el segundo semestre"
   ]
  },
  {
   "cell_type": "code",
   "execution_count": 10,
   "metadata": {},
   "outputs": [
    {
     "data": {
      "text/html": [
       "<div>\n",
       "<style scoped>\n",
       "    .dataframe tbody tr th:only-of-type {\n",
       "        vertical-align: middle;\n",
       "    }\n",
       "\n",
       "    .dataframe tbody tr th {\n",
       "        vertical-align: top;\n",
       "    }\n",
       "\n",
       "    .dataframe thead th {\n",
       "        text-align: right;\n",
       "    }\n",
       "</style>\n",
       "<table border=\"1\" class=\"dataframe\">\n",
       "  <thead>\n",
       "    <tr style=\"text-align: right;\">\n",
       "      <th></th>\n",
       "      <th>ACS</th>\n",
       "      <th>AMS</th>\n",
       "      <th>AENA</th>\n",
       "      <th>ITX</th>\n",
       "      <th>VIS</th>\n",
       "      <th>MAP</th>\n",
       "      <th>ENG</th>\n",
       "      <th>REP</th>\n",
       "      <th>GRF</th>\n",
       "      <th>TEF</th>\n",
       "    </tr>\n",
       "  </thead>\n",
       "  <tbody>\n",
       "    <tr>\n",
       "      <th>2019-07-02</th>\n",
       "      <td>0.004755</td>\n",
       "      <td>-0.004208</td>\n",
       "      <td>0.009406</td>\n",
       "      <td>0.003020</td>\n",
       "      <td>-0.002151</td>\n",
       "      <td>0.013326</td>\n",
       "      <td>0.025603</td>\n",
       "      <td>-0.011058</td>\n",
       "      <td>0.004957</td>\n",
       "      <td>0.004801</td>\n",
       "    </tr>\n",
       "    <tr>\n",
       "      <th>2019-07-03</th>\n",
       "      <td>0.025074</td>\n",
       "      <td>0.001966</td>\n",
       "      <td>0.005093</td>\n",
       "      <td>0.012734</td>\n",
       "      <td>0.009003</td>\n",
       "      <td>0.006785</td>\n",
       "      <td>0.007257</td>\n",
       "      <td>-0.011907</td>\n",
       "      <td>0.017346</td>\n",
       "      <td>0.001641</td>\n",
       "    </tr>\n",
       "    <tr>\n",
       "      <th>2019-07-04</th>\n",
       "      <td>-0.004637</td>\n",
       "      <td>0.001682</td>\n",
       "      <td>0.002255</td>\n",
       "      <td>0.007785</td>\n",
       "      <td>0.000427</td>\n",
       "      <td>0.007858</td>\n",
       "      <td>-0.043911</td>\n",
       "      <td>-0.000363</td>\n",
       "      <td>0.012999</td>\n",
       "      <td>0.014646</td>\n",
       "    </tr>\n",
       "    <tr>\n",
       "      <th>2019-07-05</th>\n",
       "      <td>-0.011825</td>\n",
       "      <td>-0.009569</td>\n",
       "      <td>-0.023940</td>\n",
       "      <td>0.004422</td>\n",
       "      <td>-0.005991</td>\n",
       "      <td>-0.001119</td>\n",
       "      <td>-0.074724</td>\n",
       "      <td>-0.002181</td>\n",
       "      <td>0.026581</td>\n",
       "      <td>-0.004588</td>\n",
       "    </tr>\n",
       "    <tr>\n",
       "      <th>2019-07-08</th>\n",
       "      <td>0.018093</td>\n",
       "      <td>0.010130</td>\n",
       "      <td>0.000865</td>\n",
       "      <td>-0.000368</td>\n",
       "      <td>-0.002148</td>\n",
       "      <td>-0.001494</td>\n",
       "      <td>-0.049329</td>\n",
       "      <td>0.001091</td>\n",
       "      <td>0.002870</td>\n",
       "      <td>-0.001083</td>\n",
       "    </tr>\n",
       "  </tbody>\n",
       "</table>\n",
       "</div>"
      ],
      "text/plain": [
       "                 ACS       AMS      AENA       ITX       VIS       MAP  \\\n",
       "2019-07-02  0.004755 -0.004208  0.009406  0.003020 -0.002151  0.013326   \n",
       "2019-07-03  0.025074  0.001966  0.005093  0.012734  0.009003  0.006785   \n",
       "2019-07-04 -0.004637  0.001682  0.002255  0.007785  0.000427  0.007858   \n",
       "2019-07-05 -0.011825 -0.009569 -0.023940  0.004422 -0.005991 -0.001119   \n",
       "2019-07-08  0.018093  0.010130  0.000865 -0.000368 -0.002148 -0.001494   \n",
       "\n",
       "                 ENG       REP       GRF       TEF  \n",
       "2019-07-02  0.025603 -0.011058  0.004957  0.004801  \n",
       "2019-07-03  0.007257 -0.011907  0.017346  0.001641  \n",
       "2019-07-04 -0.043911 -0.000363  0.012999  0.014646  \n",
       "2019-07-05 -0.074724 -0.002181  0.026581 -0.004588  \n",
       "2019-07-08 -0.049329  0.001091  0.002870 -0.001083  "
      ]
     },
     "execution_count": 10,
     "metadata": {},
     "output_type": "execute_result"
    }
   ],
   "source": [
    "data_close_h2 = stock_close.loc['2019-07-01':'2019-12-31'].dropna(axis=1)\n",
    "returns_h2 = np.log(data_close_h2).diff().dropna()\n",
    "returns_h2.head()"
   ]
  },
  {
   "cell_type": "code",
   "execution_count": 11,
   "metadata": {},
   "outputs": [
    {
     "data": {
      "text/plain": [
       "ACS     0.000\n",
       "AMS     0.094\n",
       "AENA    0.000\n",
       "ITX     0.250\n",
       "VIS    -0.000\n",
       "MAP     0.000\n",
       "ENG     0.156\n",
       "REP     0.250\n",
       "GRF     0.250\n",
       "TEF     0.000\n",
       "dtype: float64"
      ]
     },
     "execution_count": 11,
     "metadata": {},
     "output_type": "execute_result"
    }
   ],
   "source": [
    "portfolio_h2 = get_optimal_portfolio(returns_h2)\n",
    "portfolio_h2"
   ]
  },
  {
   "cell_type": "markdown",
   "metadata": {},
   "source": [
    "___"
   ]
  },
  {
   "cell_type": "markdown",
   "metadata": {},
   "source": [
    "Miramos el resultado semestral"
   ]
  },
  {
   "cell_type": "code",
   "execution_count": 12,
   "metadata": {},
   "outputs": [
    {
     "data": {
      "text/plain": [
       "ACS     0.999439\n",
       "AMS     1.028526\n",
       "AENA    0.976518\n",
       "ITX     1.207681\n",
       "VIS     1.025729\n",
       "MAP     0.927351\n",
       "ENG     1.028879\n",
       "REP     1.049129\n",
       "GRF     1.209252\n",
       "TEF     0.881927\n",
       "dtype: float64"
      ]
     },
     "execution_count": 12,
     "metadata": {},
     "output_type": "execute_result"
    }
   ],
   "source": [
    "result_h2 = data_close_h2.iloc[-1]/data_close_h2.iloc[0]\n",
    "result_h2"
   ]
  },
  {
   "cell_type": "markdown",
   "metadata": {},
   "source": [
    "Calculamos propocionalmente, como si tuvieramos una cartera de 1€"
   ]
  },
  {
   "cell_type": "code",
   "execution_count": 13,
   "metadata": {},
   "outputs": [
    {
     "data": {
      "text/plain": [
       "ACS     0.098944\n",
       "AMS     0.049369\n",
       "AENA    0.244129\n",
       "ITX     0.291051\n",
       "VIS     0.000000\n",
       "MAP     0.231838\n",
       "ENG    -0.000000\n",
       "REP    -0.000000\n",
       "GRF     0.135436\n",
       "TEF    -0.000000\n",
       "dtype: float64"
      ]
     },
     "execution_count": 13,
     "metadata": {},
     "output_type": "execute_result"
    }
   ],
   "source": [
    "port_res = result_h2 * portfolio_h1\n",
    "port_res"
   ]
  },
  {
   "cell_type": "markdown",
   "metadata": {},
   "source": [
    "La cartera de H1 a final de año tendría los siguientes pesos"
   ]
  },
  {
   "cell_type": "code",
   "execution_count": 14,
   "metadata": {},
   "outputs": [
    {
     "data": {
      "text/plain": [
       "ACS     0.094164\n",
       "AMS     0.046984\n",
       "AENA    0.232334\n",
       "ITX     0.276989\n",
       "VIS     0.000000\n",
       "MAP     0.220636\n",
       "ENG    -0.000000\n",
       "REP    -0.000000\n",
       "GRF     0.128893\n",
       "TEF    -0.000000\n",
       "dtype: float64"
      ]
     },
     "execution_count": 14,
     "metadata": {},
     "output_type": "execute_result"
    }
   ],
   "source": [
    "port1_ath2 = port_res/port_res.sum()\n",
    "port1_ath2"
   ]
  },
  {
   "cell_type": "markdown",
   "metadata": {},
   "source": [
    "**Diferencia** respecto a la nueva asignación de la cartera h2"
   ]
  },
  {
   "cell_type": "code",
   "execution_count": 15,
   "metadata": {},
   "outputs": [
    {
     "data": {
      "text/plain": [
       "ACS    -0.094164\n",
       "AMS     0.047016\n",
       "AENA   -0.232334\n",
       "ITX    -0.026989\n",
       "VIS    -0.000000\n",
       "MAP    -0.220636\n",
       "ENG     0.156000\n",
       "REP     0.250000\n",
       "GRF     0.121107\n",
       "TEF     0.000000\n",
       "dtype: float64"
      ]
     },
     "execution_count": 15,
     "metadata": {},
     "output_type": "execute_result"
    }
   ],
   "source": [
    "portfolio_h2 - port1_ath2"
   ]
  },
  {
   "cell_type": "markdown",
   "metadata": {},
   "source": [
    "**Rotación de la cartera** "
   ]
  },
  {
   "cell_type": "code",
   "execution_count": 16,
   "metadata": {},
   "outputs": [
    {
     "data": {
      "text/plain": [
       "1.1482469859465643"
      ]
     },
     "execution_count": 16,
     "metadata": {},
     "output_type": "execute_result"
    }
   ],
   "source": [
    "rotacion = (portfolio_h2 - port1_ath2).abs().sum()\n",
    "rotacion"
   ]
  },
  {
   "cell_type": "markdown",
   "metadata": {},
   "source": [
    "____"
   ]
  },
  {
   "cell_type": "markdown",
   "metadata": {},
   "source": [
    "#### Optimización con restricciones de rotación"
   ]
  },
  {
   "cell_type": "code",
   "execution_count": 19,
   "metadata": {},
   "outputs": [],
   "source": [
    "def efficient_frontier_max_rotation(returns, current_port,\n",
    "                                    max_rotation=0.8,  \n",
    "                                    n_samples=50, \n",
    "                                    gamma_low=-1, gamma_high=5):\n",
    "    sigma = returns.cov().values\n",
    "    mu = np.mean(returns, axis=0).values  \n",
    "    n = sigma.shape[0]        \n",
    "    \n",
    "    w = cp.Variable(n)\n",
    "         \n",
    "    gamma = cp.Parameter(nonneg=True)\n",
    "    ret = mu.T @ w\n",
    "    risk = cp.quad_form(w, sigma)\n",
    "    \n",
    "    constraints = [\n",
    "        cp.sum(w) == 1,  \n",
    "        w >= 0,\n",
    "        w <= 0.25,\n",
    "        \n",
    "        # restriccion para que la rotacion este limitada\n",
    "        cp.sum(cp.abs(w - current_port.values)) <= max_rotation,\n",
    "    ]\n",
    "    \n",
    "    prob = cp.Problem(cp.Maximize(ret - gamma*risk), constraints) \n",
    "    \n",
    "    risk_data = np.zeros(n_samples)\n",
    "    ret_data = np.zeros(n_samples)\n",
    "    gamma_vals = np.logspace(gamma_low, gamma_high, num=n_samples)\n",
    "    \n",
    "    portfolio_weights = []\n",
    "    buys_wg = []\n",
    "    sells_wg = []\n",
    "    for i in range(n_samples):\n",
    "        gamma.value = gamma_vals[i]\n",
    "        prob.solve(solver='ECOS')\n",
    "        risk_data[i] = np.sqrt(risk.value)\n",
    "        ret_data[i] = ret.value\n",
    "        portfolio_weights.append(w.value)  \n",
    "        \n",
    "    return ret_data, risk_data, gamma_vals, portfolio_weights, buys_wg, sells_wg\n"
   ]
  },
  {
   "cell_type": "code",
   "execution_count": 20,
   "metadata": {},
   "outputs": [
    {
     "data": {
      "text/plain": [
       "ACS     0.092\n",
       "AMS     0.047\n",
       "AENA    0.232\n",
       "ITX     0.250\n",
       "VIS     0.000\n",
       "MAP     0.000\n",
       "ENG     0.061\n",
       "REP     0.068\n",
       "GRF     0.250\n",
       "TEF     0.000\n",
       "dtype: float64"
      ]
     },
     "execution_count": 20,
     "metadata": {},
     "output_type": "execute_result"
    }
   ],
   "source": [
    "ret_data, risk_data, gamma_vals, portfolio_weights, port_buys, port_sells = efficient_frontier_max_rotation(\n",
    "    returns_h2, port1_ath2, max_rotation=0.5\n",
    ")\n",
    "\n",
    "sharpes = ret_data/risk_data \n",
    "idx = np.argmax(sharpes)\n",
    "portfolio_h2_rotation = pd.Series(portfolio_weights[idx],\n",
    "                                  index=returns_h2.columns).round(3)\n",
    "portfolio_h2_rotation"
   ]
  },
  {
   "cell_type": "code",
   "execution_count": 21,
   "metadata": {},
   "outputs": [
    {
     "data": {
      "text/plain": [
       "ACS    -0.002164\n",
       "AMS     0.000016\n",
       "AENA   -0.000334\n",
       "ITX    -0.026989\n",
       "VIS     0.000000\n",
       "MAP    -0.220636\n",
       "ENG     0.061000\n",
       "REP     0.068000\n",
       "GRF     0.121107\n",
       "TEF     0.000000\n",
       "dtype: float64"
      ]
     },
     "execution_count": 21,
     "metadata": {},
     "output_type": "execute_result"
    }
   ],
   "source": [
    "portfolio_h2_rotation - port1_ath2"
   ]
  },
  {
   "cell_type": "markdown",
   "metadata": {},
   "source": [
    "**Rotación limitada** "
   ]
  },
  {
   "cell_type": "code",
   "execution_count": 22,
   "metadata": {},
   "outputs": [
    {
     "data": {
      "text/plain": [
       "0.5002469859465642"
      ]
     },
     "execution_count": 22,
     "metadata": {},
     "output_type": "execute_result"
    }
   ],
   "source": [
    "rotacion2 = (portfolio_h2_rotation - port1_ath2).abs().sum()\n",
    "rotacion2"
   ]
  },
  {
   "cell_type": "code",
   "execution_count": 24,
   "metadata": {},
   "outputs": [
    {
     "data": {
      "text/html": [
       "<div>\n",
       "<style scoped>\n",
       "    .dataframe tbody tr th:only-of-type {\n",
       "        vertical-align: middle;\n",
       "    }\n",
       "\n",
       "    .dataframe tbody tr th {\n",
       "        vertical-align: top;\n",
       "    }\n",
       "\n",
       "    .dataframe thead th {\n",
       "        text-align: right;\n",
       "    }\n",
       "</style>\n",
       "<table border=\"1\" class=\"dataframe\">\n",
       "  <thead>\n",
       "    <tr style=\"text-align: right;\">\n",
       "      <th></th>\n",
       "      <th>current</th>\n",
       "      <th>rotacion_limitada</th>\n",
       "      <th>portfolio_independiente</th>\n",
       "    </tr>\n",
       "  </thead>\n",
       "  <tbody>\n",
       "    <tr>\n",
       "      <th>ACS</th>\n",
       "      <td>0.094164</td>\n",
       "      <td>0.092</td>\n",
       "      <td>0.000</td>\n",
       "    </tr>\n",
       "    <tr>\n",
       "      <th>AMS</th>\n",
       "      <td>0.046984</td>\n",
       "      <td>0.047</td>\n",
       "      <td>0.094</td>\n",
       "    </tr>\n",
       "    <tr>\n",
       "      <th>AENA</th>\n",
       "      <td>0.232334</td>\n",
       "      <td>0.232</td>\n",
       "      <td>0.000</td>\n",
       "    </tr>\n",
       "    <tr>\n",
       "      <th>ITX</th>\n",
       "      <td>0.276989</td>\n",
       "      <td>0.250</td>\n",
       "      <td>0.250</td>\n",
       "    </tr>\n",
       "    <tr>\n",
       "      <th>VIS</th>\n",
       "      <td>0.000000</td>\n",
       "      <td>0.000</td>\n",
       "      <td>-0.000</td>\n",
       "    </tr>\n",
       "    <tr>\n",
       "      <th>MAP</th>\n",
       "      <td>0.220636</td>\n",
       "      <td>0.000</td>\n",
       "      <td>0.000</td>\n",
       "    </tr>\n",
       "    <tr>\n",
       "      <th>ENG</th>\n",
       "      <td>-0.000000</td>\n",
       "      <td>0.061</td>\n",
       "      <td>0.156</td>\n",
       "    </tr>\n",
       "    <tr>\n",
       "      <th>REP</th>\n",
       "      <td>-0.000000</td>\n",
       "      <td>0.068</td>\n",
       "      <td>0.250</td>\n",
       "    </tr>\n",
       "    <tr>\n",
       "      <th>GRF</th>\n",
       "      <td>0.128893</td>\n",
       "      <td>0.250</td>\n",
       "      <td>0.250</td>\n",
       "    </tr>\n",
       "    <tr>\n",
       "      <th>TEF</th>\n",
       "      <td>-0.000000</td>\n",
       "      <td>0.000</td>\n",
       "      <td>0.000</td>\n",
       "    </tr>\n",
       "  </tbody>\n",
       "</table>\n",
       "</div>"
      ],
      "text/plain": [
       "       current  rotacion_limitada  portfolio_independiente\n",
       "ACS   0.094164              0.092                    0.000\n",
       "AMS   0.046984              0.047                    0.094\n",
       "AENA  0.232334              0.232                    0.000\n",
       "ITX   0.276989              0.250                    0.250\n",
       "VIS   0.000000              0.000                   -0.000\n",
       "MAP   0.220636              0.000                    0.000\n",
       "ENG  -0.000000              0.061                    0.156\n",
       "REP  -0.000000              0.068                    0.250\n",
       "GRF   0.128893              0.250                    0.250\n",
       "TEF  -0.000000              0.000                    0.000"
      ]
     },
     "execution_count": 24,
     "metadata": {},
     "output_type": "execute_result"
    }
   ],
   "source": [
    "\n",
    "res = pd.concat([port1_ath2, portfolio_h2_rotation, portfolio_h2], axis=1)\n",
    "res.columns = ['current','rotacion_limitada','portfolio_independiente']\n",
    "res"
   ]
  },
  {
   "cell_type": "code",
   "execution_count": null,
   "metadata": {},
   "outputs": [],
   "source": []
  }
 ],
 "metadata": {
  "kernelspec": {
   "display_name": "Python 3",
   "language": "python",
   "name": "python3"
  },
  "language_info": {
   "codemirror_mode": {
    "name": "ipython",
    "version": 3
   },
   "file_extension": ".py",
   "mimetype": "text/x-python",
   "name": "python",
   "nbconvert_exporter": "python",
   "pygments_lexer": "ipython3",
   "version": "3.8.3"
  }
 },
 "nbformat": 4,
 "nbformat_minor": 4
}
