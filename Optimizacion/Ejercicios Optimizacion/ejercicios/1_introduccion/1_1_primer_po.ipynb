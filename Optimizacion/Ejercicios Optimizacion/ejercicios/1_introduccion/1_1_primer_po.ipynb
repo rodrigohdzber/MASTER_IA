{
 "cells": [
  {
   "cell_type": "markdown",
   "metadata": {},
   "source": [
    "## Introducción a la Optimización\n",
    "### Primera optimización con CVXPY"
   ]
  },
  {
   "cell_type": "markdown",
   "metadata": {},
   "source": [
    "Este cuaderno contiene un pequeño ejemplo introductorio para mostrar los \n",
    "elementos básicos utilizados en la librería de CVXPY"
   ]
  },
  {
   "cell_type": "markdown",
   "metadata": {},
   "source": [
    "#### Problema \n",
    "Calcular la asignación de pesos para una cartera de REE, MAPFRE e INDITEX para\n",
    "obtener la mejor rentabilidad por dividendo con la condición que ninguna acción supere\n",
    "el 50% de la cartera y que la combinación de ingresos nacionales sean como mucho del 40%.\n",
    "Los datos disponibles son los siguientes:\n",
    "\n",
    "|Acción  | REE | MAP | ITX |\n",
    "|:-------|-----|-----|-----| \n",
    "|RPD     | 7.1 | 5.1 | 3.5 |\n",
    "|Ingresos| 0.9 | 0.5 | 0.2 |\n"
   ]
  },
  {
   "cell_type": "code",
   "execution_count": 1,
   "metadata": {},
   "outputs": [],
   "source": [
    "import numpy as np\n",
    "import pandas as pd\n",
    "import cvxpy as cp"
   ]
  },
  {
   "cell_type": "code",
   "execution_count": 35,
   "metadata": {},
   "outputs": [],
   "source": [
    "# datos almacenados en arrays\n",
    "RPD = np.array([7.1, 5.1, 3.5, 6.2])\n",
    "ingresos = np.array([0.9, 0.5, 0.2, 0.3])"
   ]
  },
  {
   "cell_type": "code",
   "execution_count": 36,
   "metadata": {},
   "outputs": [],
   "source": [
    "# creacion de variables de decisión\n",
    "x = cp.Variable(RPD.shape[0])"
   ]
  },
  {
   "cell_type": "code",
   "execution_count": 37,
   "metadata": {},
   "outputs": [
    {
     "data": {
      "text/plain": [
       "Variable((4,))"
      ]
     },
     "execution_count": 37,
     "metadata": {},
     "output_type": "execute_result"
    }
   ],
   "source": [
    "x"
   ]
  },
  {
   "cell_type": "code",
   "execution_count": 38,
   "metadata": {},
   "outputs": [],
   "source": [
    "# construcción de función objetivo\n",
    "objective = cp.sum(cp.multiply(x, RPD))"
   ]
  },
  {
   "cell_type": "code",
   "execution_count": 39,
   "metadata": {},
   "outputs": [
    {
     "data": {
      "text/plain": [
       "Expression(AFFINE, UNKNOWN, ())"
      ]
     },
     "execution_count": 39,
     "metadata": {},
     "output_type": "execute_result"
    }
   ],
   "source": [
    "objective"
   ]
  },
  {
   "cell_type": "code",
   "execution_count": 41,
   "metadata": {},
   "outputs": [],
   "source": [
    "# lista de expresiones representando las restricciones\n",
    "constraints = [\n",
    "    cp.sum(x) == 1.0,\n",
    "    cp.sum(cp.multiply(ingresos, x)) <= 0.4,\n",
    "    x <= 0.5,\n",
    "    x >= 0.0\n",
    "]"
   ]
  },
  {
   "cell_type": "code",
   "execution_count": 42,
   "metadata": {},
   "outputs": [
    {
     "data": {
      "text/plain": [
       "[Equality(Expression(AFFINE, UNKNOWN, ()), Constant(CONSTANT, NONNEGATIVE, ())),\n",
       " Inequality(Expression(AFFINE, UNKNOWN, ())),\n",
       " Inequality(Variable((4,))),\n",
       " Inequality(Constant(CONSTANT, ZERO, ()))]"
      ]
     },
     "execution_count": 42,
     "metadata": {},
     "output_type": "execute_result"
    }
   ],
   "source": [
    "constraints"
   ]
  },
  {
   "cell_type": "code",
   "execution_count": 43,
   "metadata": {},
   "outputs": [],
   "source": [
    "# instancia de un problema en CVXPY\n",
    "problem = cp.Problem(cp.Maximize(objective), constraints)"
   ]
  },
  {
   "cell_type": "code",
   "execution_count": 50,
   "metadata": {},
   "outputs": [
    {
     "data": {
      "text/plain": [
       "5.6500000016927405"
      ]
     },
     "execution_count": 50,
     "metadata": {},
     "output_type": "execute_result"
    }
   ],
   "source": [
    "# resolución del problema y valor optimo\n",
    "result = problem.solve()\n",
    "result"
   ]
  },
  {
   "cell_type": "code",
   "execution_count": 45,
   "metadata": {},
   "outputs": [
    {
     "data": {
      "text/plain": [
       "array([2.44362252e-09, 4.99999995e-01, 2.16401926e-09, 5.00000000e-01])"
      ]
     },
     "execution_count": 45,
     "metadata": {},
     "output_type": "execute_result"
    }
   ],
   "source": [
    "# valor de las variables en el máximo de la función objetivo\n",
    "x.value"
   ]
  },
  {
   "cell_type": "code",
   "execution_count": 47,
   "metadata": {},
   "outputs": [
    {
     "data": {
      "text/plain": [
       "REE    0.0\n",
       "MAP    0.5\n",
       "ITX    0.0\n",
       "TEF    0.5\n",
       "dtype: float64"
      ]
     },
     "execution_count": 47,
     "metadata": {},
     "output_type": "execute_result"
    }
   ],
   "source": [
    "pd.Series(x.value.round(2), index=['REE','MAP','ITX', 'TEF'])"
   ]
  },
  {
   "cell_type": "markdown",
   "metadata": {},
   "source": [
    "___"
   ]
  },
  {
   "cell_type": "markdown",
   "metadata": {},
   "source": [
    "### Ejercicios Propuestos\n",
    "- Suponer que los ingresos nacionales de REE serán del 80%. Ejecutar de nuevo y razonar las ventajas de tener un modelo que sea independiente de los datos de entrada.\n",
    "- Suponer que ahora nos interesa que la cartera solo llegue al 25% de los ingresos nacionales. ¿Cómo debemos interpretar el nuevo resultado?\n",
    "- Añadir a los datos del problema original la acción de Telefónica que tiene una RPD del 6.2 y sus ingresos en España representan un 30% del total. "
   ]
  },
  {
   "cell_type": "code",
   "execution_count": null,
   "metadata": {},
   "outputs": [],
   "source": []
  }
 ],
 "metadata": {
  "kernelspec": {
   "display_name": "Python 3",
   "language": "python",
   "name": "python3"
  },
  "language_info": {
   "codemirror_mode": {
    "name": "ipython",
    "version": 3
   },
   "file_extension": ".py",
   "mimetype": "text/x-python",
   "name": "python",
   "nbconvert_exporter": "python",
   "pygments_lexer": "ipython3",
   "version": "3.8.3"
  }
 },
 "nbformat": 4,
 "nbformat_minor": 4
}
