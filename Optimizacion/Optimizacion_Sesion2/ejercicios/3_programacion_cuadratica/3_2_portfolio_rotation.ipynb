{
 "cells": [
  {
   "cell_type": "markdown",
   "metadata": {},
   "source": [
    "## Programación Cuadrática\n",
    "### Optimizacion de carteras con rotación restringida\n",
    "\n",
    "Este cuaderno plantea el proceso de optimizar una cartera por segunda vez\n",
    "imponiendo restricciones para que la rotación esté limitada"
   ]
  },
  {
   "cell_type": "code",
   "execution_count": null,
   "metadata": {},
   "outputs": [],
   "source": [
    "import numpy as np \n",
    "import pandas as pd\n",
    "import matplotlib.pyplot as plt\n",
    "import cvxpy as cp\n",
    "import pickle"
   ]
  },
  {
   "cell_type": "code",
   "execution_count": null,
   "metadata": {},
   "outputs": [],
   "source": [
    "with open('../data/stock_data.pkl', 'rb') as handle:\n",
    "    stock_data = pickle.load(handle)"
   ]
  },
  {
   "cell_type": "markdown",
   "metadata": {},
   "source": [
    "Para simplificar el ejercicio trabajaremos con un universo reducido\n",
    "de 10 activos del IBEX."
   ]
  },
  {
   "cell_type": "code",
   "execution_count": null,
   "metadata": {},
   "outputs": [],
   "source": [
    "tickers = ['ACS','TEF','ITX','GRF','AMS','ENG','MAP','REP','AENA','VIS']"
   ]
  },
  {
   "cell_type": "code",
   "execution_count": null,
   "metadata": {},
   "outputs": [],
   "source": [
    "close_dict = {tk: df.close for tk, df in stock_data.items() if tk in tickers}\n",
    "stock_close = pd.DataFrame(close_dict)"
   ]
  },
  {
   "cell_type": "markdown",
   "metadata": {},
   "source": [
    "____"
   ]
  },
  {
   "cell_type": "markdown",
   "metadata": {},
   "source": [
    "**Funcion copiada del ejercicio 3_1**"
   ]
  },
  {
   "cell_type": "code",
   "execution_count": null,
   "metadata": {},
   "outputs": [],
   "source": [
    "def efficient_frontier(returns, n_samples=50, gamma_low=-1, gamma_high=10):\n",
    "    \"\"\"\n",
    "    construye un conjunto de problemas de programación cuádrática\n",
    "    para inferir la frontera eficiente de Markovitz. \n",
    "    En cada problema el parámetro gamma se cambia para aumentar\n",
    "    la penalización del riesgo en la función de maximización.\n",
    "    \"\"\"\n",
    "    sigma = returns.cov().values\n",
    "    mu = np.mean(returns, axis=0).values  \n",
    "    n = sigma.shape[0]        \n",
    "    w = cp.Variable(n)\n",
    "    gamma = cp.Parameter(nonneg=True)\n",
    "    ret = mu.T @ w\n",
    "    risk = cp.quad_form(w, sigma)\n",
    "    \n",
    "    prob = cp.Problem(cp.Maximize(ret - gamma*risk), \n",
    "                      [cp.sum(w) == 1,  \n",
    "                       w >= 0,\n",
    "                       w <= 0.25]) \n",
    "    # Equivalente \n",
    "    #prob = cp.Problem(cp.Minimize(risk - gamma*ret), \n",
    "    #                  [cp.sum(w) == 1,  w >= 0])   \n",
    "    risk_data = np.zeros(n_samples)\n",
    "    ret_data = np.zeros(n_samples)\n",
    "    gamma_vals = np.logspace(gamma_low, gamma_high, num=n_samples)\n",
    "    \n",
    "    portfolio_weights = []    \n",
    "    for i in range(n_samples):\n",
    "        gamma.value = gamma_vals[i]\n",
    "        prob.solve()\n",
    "        risk_data[i] = np.sqrt(risk.value)\n",
    "        ret_data[i] = ret.value\n",
    "        portfolio_weights.append(w.value)   \n",
    "    return ret_data, risk_data, gamma_vals, portfolio_weights\n",
    "\n"
   ]
  },
  {
   "cell_type": "code",
   "execution_count": null,
   "metadata": {},
   "outputs": [],
   "source": [
    "def get_optimal_portfolio(returns):\n",
    "    ret_data, risk_data, gamma_vals, portfolio_weights = efficient_frontier(returns)\n",
    "    sharpes = ret_data/risk_data \n",
    "    idx = np.argmax(sharpes)\n",
    "    optimal_portfolio = pd.Series(portfolio_weights[idx],\n",
    "                              index=returns.columns).round(3)\n",
    "    return optimal_portfolio"
   ]
  },
  {
   "cell_type": "markdown",
   "metadata": {},
   "source": [
    "____"
   ]
  },
  {
   "cell_type": "markdown",
   "metadata": {},
   "source": [
    "#### Optimización Independiente\n",
    "Primero haremos una optimización por separado para generar 2 carteras cada 6 meses"
   ]
  },
  {
   "cell_type": "code",
   "execution_count": null,
   "metadata": {},
   "outputs": [],
   "source": [
    "data_close_h1 = stock_close.loc['2019-01-02':'2019-06-30'].dropna(axis=1)\n",
    "data_close_h1"
   ]
  },
  {
   "cell_type": "code",
   "execution_count": null,
   "metadata": {},
   "outputs": [],
   "source": [
    "returns_h1 = np.log(data_close_h1).diff().dropna()\n",
    "returns_h1.head()"
   ]
  },
  {
   "cell_type": "markdown",
   "metadata": {},
   "source": [
    "portfolio optimo para el primer semestre"
   ]
  },
  {
   "cell_type": "code",
   "execution_count": null,
   "metadata": {},
   "outputs": [],
   "source": [
    "portfolio_h1 = get_optimal_portfolio(returns_h1)\n",
    "portfolio_h1"
   ]
  },
  {
   "cell_type": "markdown",
   "metadata": {},
   "source": [
    "ahora para el segundo semestre"
   ]
  },
  {
   "cell_type": "code",
   "execution_count": null,
   "metadata": {},
   "outputs": [],
   "source": [
    "data_close_h2 = stock_close.loc['2019-07-01':'2019-12-31'].dropna(axis=1)\n",
    "returns_h2 = np.log(data_close_h2).diff().dropna()\n",
    "returns_h2.head()"
   ]
  },
  {
   "cell_type": "code",
   "execution_count": null,
   "metadata": {},
   "outputs": [],
   "source": [
    "portfolio_h2 = get_optimal_portfolio(returns_h2)\n",
    "portfolio_h2"
   ]
  },
  {
   "cell_type": "markdown",
   "metadata": {},
   "source": [
    "___"
   ]
  },
  {
   "cell_type": "markdown",
   "metadata": {},
   "source": [
    "Miramos el resultado semestral"
   ]
  },
  {
   "cell_type": "code",
   "execution_count": null,
   "metadata": {},
   "outputs": [],
   "source": [
    "result_h2 = data_close_h2.iloc[-1]/data_close_h2.iloc[0]\n",
    "result_h2"
   ]
  },
  {
   "cell_type": "markdown",
   "metadata": {},
   "source": [
    "Calculamos propocionalmente, como si tuvieramos una cartera de 1€"
   ]
  },
  {
   "cell_type": "code",
   "execution_count": null,
   "metadata": {},
   "outputs": [],
   "source": [
    "port_res = result_h2 * portfolio_h1\n",
    "port_res"
   ]
  },
  {
   "cell_type": "markdown",
   "metadata": {},
   "source": [
    "La cartera de H1 a final de año tendría los siguientes pesos"
   ]
  },
  {
   "cell_type": "code",
   "execution_count": null,
   "metadata": {},
   "outputs": [],
   "source": [
    "port1_ath2 = port_res/port_res.sum()\n",
    "port1_ath2"
   ]
  },
  {
   "cell_type": "markdown",
   "metadata": {},
   "source": [
    "**Diferencia** respecto a la nueva asignación de la cartera h2"
   ]
  },
  {
   "cell_type": "code",
   "execution_count": null,
   "metadata": {},
   "outputs": [],
   "source": [
    "portfolio_h2 - port1_ath2"
   ]
  },
  {
   "cell_type": "markdown",
   "metadata": {},
   "source": [
    "**Rotación de la cartera** "
   ]
  },
  {
   "cell_type": "code",
   "execution_count": null,
   "metadata": {},
   "outputs": [],
   "source": [
    "rotacion = (portfolio_h2 - port1_ath2).abs().sum()\n",
    "rotacion"
   ]
  },
  {
   "cell_type": "markdown",
   "metadata": {},
   "source": [
    "____"
   ]
  },
  {
   "cell_type": "markdown",
   "metadata": {},
   "source": [
    "#### Optimización con restricciones de rotación"
   ]
  },
  {
   "cell_type": "code",
   "execution_count": null,
   "metadata": {},
   "outputs": [],
   "source": [
    "def efficient_frontier_max_rotation(returns, current_port,\n",
    "                                    max_rotation=0.8,  \n",
    "                                    n_samples=50, \n",
    "                                    gamma_low=-1, gamma_high=5):\n",
    "    sigma = returns.cov().values\n",
    "    mu = np.mean(returns, axis=0).values  \n",
    "    n = sigma.shape[0]        \n",
    "    \n",
    "    w = cp.Variable(n)\n",
    "         \n",
    "    gamma = cp.Parameter(nonneg=True)\n",
    "    ret = mu.T @ w\n",
    "    risk = cp.quad_form(w, sigma)\n",
    "    \n",
    "    constraints = [\n",
    "        cp.sum(w) == 1,  \n",
    "        w >= 0,\n",
    "        w <= 0.25,\n",
    "        \n",
    "        # restriccion para que la rotacion este limitada\n",
    "        cp.sum(cp.abs(w - current_port.values)) <= max_rotation,\n",
    "    ]\n",
    "    \n",
    "    prob = cp.Problem(cp.Maximize(ret - gamma*risk), constraints) \n",
    "    \n",
    "    risk_data = np.zeros(n_samples)\n",
    "    ret_data = np.zeros(n_samples)\n",
    "    gamma_vals = np.logspace(gamma_low, gamma_high, num=n_samples)\n",
    "    \n",
    "    portfolio_weights = []\n",
    "    buys_wg = []\n",
    "    sells_wg = []\n",
    "    for i in range(n_samples):\n",
    "        gamma.value = gamma_vals[i]\n",
    "        prob.solve(solver='ECOS')\n",
    "        risk_data[i] = np.sqrt(risk.value)\n",
    "        ret_data[i] = ret.value\n",
    "        portfolio_weights.append(w.value)  \n",
    "        \n",
    "    return ret_data, risk_data, gamma_vals, portfolio_weights, buys_wg, sells_wg\n"
   ]
  },
  {
   "cell_type": "code",
   "execution_count": null,
   "metadata": {},
   "outputs": [],
   "source": [
    "ret_data, risk_data, gamma_vals, portfolio_weights, port_buys, port_sells = efficient_frontier_max_rotation(\n",
    "    returns_h2, port1_ath2, max_rotation=0.5\n",
    ")\n",
    "\n",
    "sharpes = ret_data/risk_data \n",
    "idx = np.argmax(sharpes)\n",
    "portfolio_h2_rotation = pd.Series(portfolio_weights[idx],\n",
    "                                  index=returns_h2.columns).round(3)\n",
    "portfolio_h2_rotation"
   ]
  },
  {
   "cell_type": "code",
   "execution_count": null,
   "metadata": {},
   "outputs": [],
   "source": [
    "portfolio_h2_rotation - port1_ath2"
   ]
  },
  {
   "cell_type": "markdown",
   "metadata": {},
   "source": [
    "**Rotación limitada** "
   ]
  },
  {
   "cell_type": "code",
   "execution_count": null,
   "metadata": {},
   "outputs": [],
   "source": [
    "rotacion2 = (portfolio_h2_rotation - port1_ath2).abs().sum()\n",
    "rotacion2"
   ]
  },
  {
   "cell_type": "code",
   "execution_count": null,
   "metadata": {},
   "outputs": [],
   "source": [
    "\n",
    "res = pd.concat([port1_ath2, portfolio_h2_rotation, portfolio_h2], axis=1)\n",
    "res.columns = ['current','portfolio_independiente','rotacion_limitada']\n",
    "res"
   ]
  },
  {
   "cell_type": "code",
   "execution_count": null,
   "metadata": {},
   "outputs": [],
   "source": []
  }
 ],
 "metadata": {
  "kernelspec": {
   "display_name": "Python 3",
   "language": "python",
   "name": "python3"
  },
  "language_info": {
   "codemirror_mode": {
    "name": "ipython",
    "version": 3
   },
   "file_extension": ".py",
   "mimetype": "text/x-python",
   "name": "python",
   "nbconvert_exporter": "python",
   "pygments_lexer": "ipython3",
   "version": "3.8.3"
  }
 },
 "nbformat": 4,
 "nbformat_minor": 4
}
