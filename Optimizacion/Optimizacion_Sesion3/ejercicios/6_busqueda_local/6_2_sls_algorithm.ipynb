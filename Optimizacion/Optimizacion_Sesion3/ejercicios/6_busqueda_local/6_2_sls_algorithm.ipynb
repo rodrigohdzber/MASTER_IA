{
 "cells": [
  {
   "cell_type": "markdown",
   "metadata": {},
   "source": [
    "## Búsqueda Local Estocástica \n",
    "### Ejemplo con SimpleAI"
   ]
  },
  {
   "cell_type": "code",
   "execution_count": null,
   "metadata": {},
   "outputs": [],
   "source": [
    "import numpy as np\n",
    "import pandas as pd"
   ]
  },
  {
   "cell_type": "code",
   "execution_count": null,
   "metadata": {},
   "outputs": [],
   "source": [
    "import pickle\n",
    "with open('../data/stock_data.pkl', 'rb') as handle:\n",
    "    stock_data = pickle.load(handle)\n",
    "stock_series = stock_data['ITX'].close.loc['2014':]"
   ]
  },
  {
   "cell_type": "code",
   "execution_count": null,
   "metadata": {},
   "outputs": [],
   "source": [
    "stock_series.plot()"
   ]
  },
  {
   "cell_type": "markdown",
   "metadata": {},
   "source": [
    "____"
   ]
  },
  {
   "cell_type": "code",
   "execution_count": null,
   "metadata": {},
   "outputs": [],
   "source": [
    "from simpleai.search import SearchProblem, beam, hill_climbing_random_restarts"
   ]
  },
  {
   "cell_type": "code",
   "execution_count": null,
   "metadata": {},
   "outputs": [],
   "source": [
    "from stoparam_opt import StochasticOsc"
   ]
  },
  {
   "cell_type": "markdown",
   "metadata": {},
   "source": [
    "Para utilizar los algoritmos de búsqueda local estocástica tenemos que implementar el modelo de estados, que será específico de cada problema.  Se parte de heredar la clase *SearchProblem* y se tienen que implementar los siguientes \n",
    "métodos.\n",
    "- <tt>actions</tt>: Dado un estado debe retornar una lista  de acciones que son aplicables en dicho estado. \n",
    "- <tt>result</tt>: Dado un estado y el nombre de una acción calcula el estado resultante al aplicar los efectos\n",
    "de la acción\n",
    "- <tt>value</tt>: La función de evaluación del estado\n",
    "\n",
    "\n",
    "Para ver más detalles del uso de la librería con búsqueda local, se puede consultar la documentación en la \n",
    "sección de [local search](https://simpleai.readthedocs.io/en/latest/local_search_problems.html)"
   ]
  },
  {
   "cell_type": "markdown",
   "metadata": {},
   "source": [
    "___"
   ]
  },
  {
   "cell_type": "code",
   "execution_count": null,
   "metadata": {},
   "outputs": [],
   "source": [
    "def rnd_state():\n",
    "    obought_space = np.linspace(0.51,0.98,48)\n",
    "    osold_space = np.linspace(0.02,0.49,48)\n",
    "    win_space = np.arange(10,120)\n",
    "    lag_space = np.arange(1,50)\n",
    "\n",
    "    win = np.random.choice(win_space)\n",
    "    avail_lag = lag_space[lag_space < win]\n",
    "\n",
    "    state =  {\n",
    "        'win': win,\n",
    "        'lag': np.random.choice(avail_lag), \n",
    "        'obought':np.random.choice(obought_space), \n",
    "        'osold':np.random.choice(osold_space)\n",
    "    }\n",
    "    print(\"RND Generated\", state)\n",
    "    return state"
   ]
  },
  {
   "cell_type": "code",
   "execution_count": null,
   "metadata": {},
   "outputs": [],
   "source": [
    "rnd_state()"
   ]
  },
  {
   "cell_type": "code",
   "execution_count": null,
   "metadata": {},
   "outputs": [],
   "source": [
    "class StoOpt(SearchProblem):\n",
    "    def __init__(self, vseries, initial_state=None):\n",
    "        self.vseries = vseries\n",
    "        if initial_state is None:\n",
    "            initial_state = rand_state()\n",
    "        SearchProblem.__init__(self, initial_state=initial_state)\n",
    "        \n",
    "    def actions(self, state):\n",
    "        s = state\n",
    "        min_win, max_win=10, 120\n",
    "        min_lag, max_lag=1, 50\n",
    "        min_ob, max_ob=0.51,0.98\n",
    "        min_os, max_os=0.02,0.49\n",
    "\n",
    "        # win=14, lag=3, obought=0.8, osold=0.2\n",
    "        succ = []\n",
    "        if s['win'] < max_win:\n",
    "            succ.append('inc win')\n",
    "        if s['win'] > min_win:\n",
    "            succ.append('dec win')\n",
    "        if s['lag'] < max_lag and s['lag']+1 < s['win']:\n",
    "            succ.append('inc lag')\n",
    "        if s['lag'] < max_lag:\n",
    "            succ.append('dec lag')\n",
    "        if s['obought'] < max_ob:\n",
    "            succ.append('inc obought')\n",
    "        if s['obought'] > min_ob:\n",
    "            succ.append('dec obought')\n",
    "        if s['osold'] < max_os:\n",
    "            succ.append('inc osold')\n",
    "        if s['osold'] > min_os:\n",
    "            succ.append('dec osold')\n",
    "            \n",
    "        return succ\n",
    "    \n",
    "    def result(self, state, action):\n",
    "        par_action = action.split()\n",
    "        move = par_action[0]\n",
    "        iparam = par_action[1]\n",
    "        \n",
    "        new_state = state.copy()\n",
    "        if iparam in ['lag', 'win']:\n",
    "            delta = 1\n",
    "        elif iparam in ['obought', 'osold']:\n",
    "            delta = 0.02\n",
    "        \n",
    "        if move == 'dec':\n",
    "            delta = -delta\n",
    "            \n",
    "        new_state[iparam] = new_state[iparam] + delta\n",
    "        \n",
    "        return new_state\n",
    "\n",
    "    def value (self, state):\n",
    "        val = StochasticOsc.backtest_so_returns(vseries=self.vseries, **state)\n",
    "        return val\n",
    "    \n",
    "    def generate_random_state(self):\n",
    "        return rnd_state()"
   ]
  },
  {
   "cell_type": "markdown",
   "metadata": {},
   "source": [
    "Se construye el problema con nuestra nueva clase definida"
   ]
  },
  {
   "cell_type": "code",
   "execution_count": null,
   "metadata": {},
   "outputs": [],
   "source": [
    "init_state = rnd_state()\n",
    "init_state"
   ]
  },
  {
   "cell_type": "code",
   "execution_count": null,
   "metadata": {},
   "outputs": [],
   "source": [
    "problem = StoOpt(vseries=stock_series, initial_state=init_state)"
   ]
  },
  {
   "cell_type": "markdown",
   "metadata": {},
   "source": [
    "el resultado de ejecutar el algoritmo es una estructura de datos de la que podemos\n",
    "sacar el estado final y la evaluación de dicho estado"
   ]
  },
  {
   "cell_type": "code",
   "execution_count": null,
   "metadata": {},
   "outputs": [],
   "source": [
    "result = hill_climbing_random_restarts(problem, restarts_limit=5)"
   ]
  },
  {
   "cell_type": "markdown",
   "metadata": {},
   "source": [
    "El **estado final**"
   ]
  },
  {
   "cell_type": "code",
   "execution_count": null,
   "metadata": {},
   "outputs": [],
   "source": [
    "result.state"
   ]
  },
  {
   "cell_type": "markdown",
   "metadata": {},
   "source": [
    "La evaluación del mejor estado"
   ]
  },
  {
   "cell_type": "code",
   "execution_count": null,
   "metadata": {},
   "outputs": [],
   "source": [
    "result.value"
   ]
  },
  {
   "cell_type": "markdown",
   "metadata": {},
   "source": [
    "_____"
   ]
  },
  {
   "cell_type": "markdown",
   "metadata": {},
   "source": [
    "### Ejercicios Propuestos\n",
    "1. Optimizar los parámetros, pero ahora utilizando el hill_climbing_stochastic y el beam search\n",
    "2. Cambiar la clase StoOpt para contar los estados generados"
   ]
  }
 ],
 "metadata": {
  "kernelspec": {
   "display_name": "Python 3",
   "language": "python",
   "name": "python3"
  },
  "language_info": {
   "codemirror_mode": {
    "name": "ipython",
    "version": 3
   },
   "file_extension": ".py",
   "mimetype": "text/x-python",
   "name": "python",
   "nbconvert_exporter": "python",
   "pygments_lexer": "ipython3",
   "version": "3.8.3"
  }
 },
 "nbformat": 4,
 "nbformat_minor": 4
}
