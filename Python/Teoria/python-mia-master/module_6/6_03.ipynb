{
 "cells": [
  {
   "cell_type": "code",
   "execution_count": null,
   "metadata": {},
   "outputs": [],
   "source": [
    "import numpy as np\n",
    "import pandas as pd\n",
    "import matplotlib.pyplot as plt"
   ]
  },
  {
   "cell_type": "markdown",
   "metadata": {},
   "source": [
    "# 7.3. Optimización de carteras I"
   ]
  },
  {
   "cell_type": "markdown",
   "metadata": {},
   "source": [
    "- Descarga los datos del último año de algunos activos usando IEX. Denominamos $n$ como el número de activos elegidos.\n",
    "- Crea un dataframe solo con los datos de cierre, tendrá dimensiones $m \\times n$ con $m$ el número de días y $n$ en número de activos.\n",
    "- Calcula un portfolio aleatorio:\n",
    "   - Genera uno vector de pesos $\\mathbf{w}$ aleatorios de dimensiones $n \\times 1$, donde $n$ es el número de activos. Los pesos tienen que cumplir que  $w_i \\ge 0, \\; i = 1,\\dots, n$ y $\\sum_{i=1}^{n} w_i = 1$ dado que solo permitimos estar en largo.\n",
    "   - Calcula el retorno y la desviacion típica del portfolio:\n",
    "       - $R_p = \\mathbf{w^T \\mu}$ donde $\\mathbf{\\mu}$ es un vector con la media de los retornos diarios de los activos, con dimensiones $n \\times 1$.\n",
    "       - $\\sigma_p = \\sqrt{\\mathbf{w}^T\\Sigma \\mathbf{w}}$, donde $\\Sigma$ es la matriz de covarianzas de los retornos, con dimensiones $n \\times n$\n",
    "- Realiza una simulación de montecarlo para ello:\n",
    "   - Repite el procceso anterior $k$ veces por ejemplo 10000, guardando los pesos $\\mathbf{w}$, $R_p$ y $\\sigma_p$ de cada experimento.\n",
    "   - Realiza una figura con todos los puntos.\n",
    "   - Selecciona el punto de máximo ratio sharpe:\n",
    "     - Calcula el ratio sharpe para cada uno de los porfolios generados. El ratio sharpe se calcula como:\n",
    "     \\begin{equation*}\n",
    "     S_p = \\frac{R_p - R_f}{\\sigma_p}\n",
    "     \\end{equation*}\n",
    "     asumimos que $R_f$, el retorno del activo sin riesgo, es 0. \n",
    "     - Obtén el porfolio con el $S_p$ mayor.\n",
    "     - Pinta este punto en la figura y obtén los pesos.\n",
    "      \n",
    "<center>\n",
    "<img src=\"imgs/harry.jpeg\"  alt=\"drawing\" width=\"300\"/>\n",
    "<br />    Harry Markowitz, Novel 1990\n",
    "</center>\n",
    "\n",
    "  \n",
    "   "
   ]
  },
  {
   "cell_type": "markdown",
   "metadata": {},
   "source": [
    "### Descarga de datos"
   ]
  },
  {
   "cell_type": "code",
   "execution_count": null,
   "metadata": {},
   "outputs": [],
   "source": []
  },
  {
   "cell_type": "markdown",
   "metadata": {},
   "source": [
    "### Random porfolio"
   ]
  },
  {
   "cell_type": "code",
   "execution_count": null,
   "metadata": {},
   "outputs": [],
   "source": []
  }
 ],
 "metadata": {
  "kernelspec": {
   "display_name": "Python 3",
   "language": "python",
   "name": "python3"
  },
  "language_info": {
   "codemirror_mode": {
    "name": "ipython",
    "version": 3
   },
   "file_extension": ".py",
   "mimetype": "text/x-python",
   "name": "python",
   "nbconvert_exporter": "python",
   "pygments_lexer": "ipython3",
   "version": "3.7.3"
  }
 },
 "nbformat": 4,
 "nbformat_minor": 2
}
