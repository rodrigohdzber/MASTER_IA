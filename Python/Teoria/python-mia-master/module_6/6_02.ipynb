{
 "cells": [
  {
   "cell_type": "markdown",
   "metadata": {},
   "source": [
    "# 7.2. Simulación para medición de riesgos (VaR)."
   ]
  },
  {
   "cell_type": "markdown",
   "metadata": {},
   "source": [
    "- Utilizando la serie de precios del SP500 del último año, ticker SPY en IEX, calcula:\n",
    "    - Un gráfico con el drawdown.\n",
    "    - Pinta la distibución de los retornos usando la función distplot, de seaborn.\n",
    "    - Value at Risk (VaR) historico con un nivel de cofianza del .05. Tip: usa la función quantile sobre los retornos.\n",
    "    - Expected Shortfall (ES). Tip: usa la anterior función y encuentra los retornos que están por debajo.\n",
    "- Nota\n",
    " - Value at Risk:  Se define como un valor límite tal que la probabilidad de que una pérdida a precios de mercados en la cartera sobre un el horizonte temporal dado, exceda ese valor (asumiendo mercados normales y que no se produce negociación en la cartera) sea el nivel de probabilidad dado. En el historico es el retono que ocupa el percentil dado por 1-nivel de confianza\n",
    " - Expected Shortfall: Media de los retornos que están por debajo del VaR.\n",
    "\n",
    "<center>\n",
    "<img src=\"imgs/var_es.png\"  alt=\"drawing\" width=\"500\"/>\n",
    "</center>\n"
   ]
  },
  {
   "cell_type": "code",
   "execution_count": null,
   "metadata": {},
   "outputs": [],
   "source": [
    "import numpy as np\n",
    "import pandas as pd\n",
    "import matplotlib.pyplot as plt"
   ]
  },
  {
   "cell_type": "markdown",
   "metadata": {},
   "source": [
    "### Drawdown"
   ]
  },
  {
   "cell_type": "code",
   "execution_count": null,
   "metadata": {},
   "outputs": [],
   "source": []
  },
  {
   "cell_type": "markdown",
   "metadata": {},
   "source": [
    "### Distplot"
   ]
  },
  {
   "cell_type": "code",
   "execution_count": null,
   "metadata": {},
   "outputs": [],
   "source": []
  },
  {
   "cell_type": "markdown",
   "metadata": {},
   "source": [
    "### Value at Risk (VaR) and Expected Shortfall (ES)"
   ]
  },
  {
   "cell_type": "code",
   "execution_count": null,
   "metadata": {},
   "outputs": [],
   "source": []
  }
 ],
 "metadata": {
  "kernelspec": {
   "display_name": "Python 3",
   "language": "python",
   "name": "python3"
  },
  "language_info": {
   "codemirror_mode": {
    "name": "ipython",
    "version": 3
   },
   "file_extension": ".py",
   "mimetype": "text/x-python",
   "name": "python",
   "nbconvert_exporter": "python",
   "pygments_lexer": "ipython3",
   "version": "3.7.3"
  }
 },
 "nbformat": 4,
 "nbformat_minor": 2
}
