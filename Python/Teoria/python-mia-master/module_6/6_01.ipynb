{
 "cells": [
  {
   "cell_type": "markdown",
   "metadata": {},
   "source": [
    "# 7.1. Obtención de datos financieros\n",
    "- 1. Regístrate en iexcloud: https://iexcloud.io/\n",
    "- 2. Genera y copia un token de acceso.\n",
    "- 3. Observa la documentación, mira los datos que están disponibles.\n",
    "- 4. Encuenta los endpoints con los que se obtienen las bolsas disponibles.\n",
    "- 5. Encuenta los endpoints con los que se obtienen los símbolos de cada uno de estos.\n",
    "- 6. Prueba a obtener los datos de los últimos dos apartados desde el navegador, para ello contruye una url de la siguiente manera: \n",
    "```https://cloud.iexapis.com/stable/------rellena lo que quieras pedir ----?token=TU_TOKEN```\n",
    "- 7. Ahora pide lo mismo desde python usando la libreria requests de la siguiente forma:\n",
    "\n",
    "```python\n",
    "import requests\n",
    "url = f'https://cloud.iexapis.com/stable/------rellena lo que quieras pedir ----'\n",
    "r = requests.get(url, params={'token': TU_TOKEN})\n",
    "df_resultado = pd.read_json(r.content)\n",
    "\n",
    "```\n",
    "- 8. Crea dos funciones:\n",
    "   - Una que retorne el open, high, low, close y volumen diario del último año dado un ticker.\n",
    "   - Otra que de los datos diarios de un día completo dado un ticker.\n",
    "- 9. Pinta en una figura de velas ambas.\n"
   ]
  },
  {
   "cell_type": "markdown",
   "metadata": {},
   "source": [
    "## Otros"
   ]
  },
  {
   "cell_type": "markdown",
   "metadata": {},
   "source": [
    "- Podemos usar la librería: https://pypi.org/project/iexfinance/\n",
    "- Datos tick a tick: https://iextrading.com/trading/market-data/\n",
    "- Usar la librería: \n",
    "    - https://github.com/timpalpant/go-iex"
   ]
  }
 ],
 "metadata": {
  "kernelspec": {
   "display_name": "Python 3",
   "language": "python",
   "name": "python3"
  },
  "language_info": {
   "codemirror_mode": {
    "name": "ipython",
    "version": 3
   },
   "file_extension": ".py",
   "mimetype": "text/x-python",
   "name": "python",
   "nbconvert_exporter": "python",
   "pygments_lexer": "ipython3",
   "version": "3.7.3"
  }
 },
 "nbformat": 4,
 "nbformat_minor": 2
}
