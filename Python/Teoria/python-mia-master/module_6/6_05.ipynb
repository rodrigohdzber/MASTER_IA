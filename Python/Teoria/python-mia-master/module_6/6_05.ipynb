{
 "cells": [
  {
   "cell_type": "markdown",
   "metadata": {},
   "source": [
    "# 7.5. Valoración de opciones financieras."
   ]
  },
  {
   "cell_type": "markdown",
   "metadata": {},
   "source": [
    "- Carga el fichero: under_9126_.txt\n",
    "- Pon cada campo con el tipo de datos correspondiente.\n",
    "- Crea dos dataframes, uno para las puts y otro para las calls.\n",
    "- Tendrán las siguientes columnas: ['Fecha Expir', 'Strike', 'Call_Compra',] y ['Fecha Expir', 'Strike', 'Put_Compra',]]\n",
    "- Elimina los nans.\n",
    "- Realiza un plot para cada vencimiento del precio frente al strike.\n",
    "- Utilizando la librería https://github.com/yassinemaaroufi/MibianLib/tree/master/mibian calcula la volatilidad implícita de cada una de las opciones. Utiliza los siguientes parámetos:\n",
    "underlyingPrice = 9126\n",
    "interestRate = 0.01\n",
    "annualDividends = 4\n",
    "- Realiza una figura de la superfice de volatilidad: días de vencimiento vs strike vs volatilidas implícita para las calls y las puts. (ejemplos plors 3d: https://jakevdp.github.io/PythonDataScienceHandbook/04.12-three-dimensional-plotting.html)"
   ]
  }
 ],
 "metadata": {
  "kernelspec": {
   "display_name": "Python 3",
   "language": "python",
   "name": "python3"
  },
  "language_info": {
   "codemirror_mode": {
    "name": "ipython",
    "version": 3
   },
   "file_extension": ".py",
   "mimetype": "text/x-python",
   "name": "python",
   "nbconvert_exporter": "python",
   "pygments_lexer": "ipython3",
   "version": "3.7.3"
  }
 },
 "nbformat": 4,
 "nbformat_minor": 2
}
