{
 "cells": [
  {
   "cell_type": "markdown",
   "metadata": {},
   "source": [
    "# 2.2. Introducción a NumPy II."
   ]
  },
  {
   "cell_type": "code",
   "execution_count": null,
   "metadata": {},
   "outputs": [],
   "source": [
    "import numpy as np \n",
    "import matplotlib.pyplot as plt"
   ]
  },
  {
   "cell_type": "markdown",
   "metadata": {
    "editable": true
   },
   "source": [
    "##  Modificación de dimensiones y trasposición"
   ]
  },
  {
   "cell_type": "markdown",
   "metadata": {},
   "source": [
    "Creamos un array que va desde 0 hasta 31, para modificar posteriormente su dimensión"
   ]
  },
  {
   "cell_type": "code",
   "execution_count": null,
   "metadata": {},
   "outputs": [],
   "source": [
    "arr = np.arange(32)\n",
    "arr"
   ]
  },
  {
   "cell_type": "markdown",
   "metadata": {},
   "source": [
    "Pasándole una tupla a la función reshape, puedo modificar el tamaño del array anterior"
   ]
  },
  {
   "cell_type": "code",
   "execution_count": null,
   "metadata": {},
   "outputs": [],
   "source": [
    "arr.reshape((2, 16))"
   ]
  },
  {
   "cell_type": "code",
   "execution_count": null,
   "metadata": {},
   "outputs": [],
   "source": [
    "arr.reshape((16, 2))"
   ]
  },
  {
   "cell_type": "code",
   "execution_count": null,
   "metadata": {},
   "outputs": [],
   "source": [
    "arr.reshape((8, 4))"
   ]
  },
  {
   "cell_type": "markdown",
   "metadata": {},
   "source": [
    "Las dimensiones del array resultante tienen que coincidir con el número de elementos del original, o dará error (R duplicaba números hasta completar)"
   ]
  },
  {
   "cell_type": "code",
   "execution_count": null,
   "metadata": {},
   "outputs": [],
   "source": [
    "arr.reshape((8, 5))"
   ]
  },
  {
   "cell_type": "markdown",
   "metadata": {},
   "source": [
    "Lo mismo pasa, si nos sobran números. El número de elementos debe ser igual en ambos arrays"
   ]
  },
  {
   "cell_type": "code",
   "execution_count": null,
   "metadata": {},
   "outputs": [],
   "source": [
    "arr.reshape((8, 3))"
   ]
  },
  {
   "cell_type": "markdown",
   "metadata": {},
   "source": [
    "Creamos un nuevo array de 3X5"
   ]
  },
  {
   "cell_type": "code",
   "execution_count": null,
   "metadata": {
    "collapsed": false,
    "editable": true,
    "jupyter": {
     "outputs_hidden": false
    }
   },
   "outputs": [],
   "source": [
    "arr = np.arange(15).reshape((3, 5))\n",
    "arr"
   ]
  },
  {
   "cell_type": "markdown",
   "metadata": {},
   "source": [
    "Y lo traspongo"
   ]
  },
  {
   "cell_type": "code",
   "execution_count": null,
   "metadata": {},
   "outputs": [],
   "source": [
    "arr.T"
   ]
  },
  {
   "cell_type": "markdown",
   "metadata": {},
   "source": [
    "## Concatenación de ndarrays\n",
    "NumPy ofrece la posibilidad de combinar ndarrays de dos formas posibles:\n",
    "- hstack, column_stack:</b> Los elementos del segundo array se añaden a los del primero a lo ancho.\n",
    "- vstack, row_stack:</b> Los elementos del segundo array se añaden a los del primero a lo largo."
   ]
  },
  {
   "cell_type": "markdown",
   "metadata": {},
   "source": [
    "Creamos dos arrays"
   ]
  },
  {
   "cell_type": "code",
   "execution_count": null,
   "metadata": {},
   "outputs": [],
   "source": [
    "array_1 = np.arange(15).reshape(3, 5)\n",
    "array_1"
   ]
  },
  {
   "cell_type": "code",
   "execution_count": null,
   "metadata": {},
   "outputs": [],
   "source": [
    "array_2 = np.arange(15, 30).reshape(3, 5)\n",
    "array_2"
   ]
  },
  {
   "cell_type": "markdown",
   "metadata": {},
   "source": [
    "Realizamos una concatenación horizontal"
   ]
  },
  {
   "cell_type": "code",
   "execution_count": null,
   "metadata": {},
   "outputs": [],
   "source": [
    "np.hstack((array_1, array_2)) # np.column_stack((array_1, array_2)) nos dará lo mismo"
   ]
  },
  {
   "cell_type": "markdown",
   "metadata": {},
   "source": [
    "Realizamos una concatenación vertical"
   ]
  },
  {
   "cell_type": "code",
   "execution_count": null,
   "metadata": {},
   "outputs": [],
   "source": [
    "np.vstack((array_1, array_2)) # np.row_stack((array_1, array_2)) es lo mismo"
   ]
  },
  {
   "cell_type": "markdown",
   "metadata": {},
   "source": [
    "Las filas, o columnas, deben coincidir entre ambos arrays para poder unirlos"
   ]
  },
  {
   "cell_type": "code",
   "execution_count": null,
   "metadata": {},
   "outputs": [],
   "source": [
    "array_1 = np.arange(15).reshape(3, 5)\n",
    "array_2 = np.arange(15, 25).reshape(2, 5)\n",
    "\n",
    "print(array_1)\n",
    "print(\"\")\n",
    "print(array_2)"
   ]
  },
  {
   "cell_type": "markdown",
   "metadata": {},
   "source": [
    "En caso contrario, nos dará error"
   ]
  },
  {
   "cell_type": "code",
   "execution_count": null,
   "metadata": {},
   "outputs": [],
   "source": [
    "np.hstack((array_1, array_2))"
   ]
  },
  {
   "cell_type": "markdown",
   "metadata": {},
   "source": [
    "## División de ndarrays\n",
    "Al igual que para la concatenación, NumPy permite dividir los ndarray de tres formas distintas:\n",
    "\n",
    "|Función|Descripcción|\n",
    "|----|---|\n",
    "|`hsplit`| División de arrays en n partes \"iguales\" por columnas.|\n",
    "|`vsplit`| División de arrays en n partes \"iguales\" por filas.|\n",
    "|`split`| División de arrays en n partes no simétricas.|"
   ]
  },
  {
   "cell_type": "code",
   "execution_count": null,
   "metadata": {},
   "outputs": [],
   "source": [
    "array = np.arange(16).reshape(4, 4)\n",
    "array"
   ]
  },
  {
   "cell_type": "markdown",
   "metadata": {},
   "source": [
    "División simétrica por columnas"
   ]
  },
  {
   "cell_type": "code",
   "execution_count": null,
   "metadata": {},
   "outputs": [],
   "source": [
    "np.hsplit(array, 2)"
   ]
  },
  {
   "cell_type": "markdown",
   "metadata": {},
   "source": [
    "Podemos asignar ambos trozos, a dos variables, en una sola sentencia"
   ]
  },
  {
   "cell_type": "code",
   "execution_count": null,
   "metadata": {},
   "outputs": [],
   "source": [
    "a, b = np.hsplit(array, 2)"
   ]
  },
  {
   "cell_type": "code",
   "execution_count": null,
   "metadata": {},
   "outputs": [],
   "source": [
    "a"
   ]
  },
  {
   "cell_type": "code",
   "execution_count": null,
   "metadata": {},
   "outputs": [],
   "source": [
    "b"
   ]
  },
  {
   "cell_type": "markdown",
   "metadata": {},
   "source": [
    "División simétrica por filas"
   ]
  },
  {
   "cell_type": "code",
   "execution_count": null,
   "metadata": {},
   "outputs": [],
   "source": [
    "np.vsplit(array, 2)"
   ]
  },
  {
   "cell_type": "markdown",
   "metadata": {},
   "source": [
    "También podemos especificar una división no simétrica, donde el primer array contiene las 3 primeras columnas"
   ]
  },
  {
   "cell_type": "code",
   "execution_count": null,
   "metadata": {},
   "outputs": [],
   "source": [
    "print(array)\n",
    "np.split(array, [3], axis=1) "
   ]
  },
  {
   "cell_type": "markdown",
   "metadata": {},
   "source": [
    "O una donde el primer array contiene únicamente la primera fila del original"
   ]
  },
  {
   "cell_type": "code",
   "execution_count": null,
   "metadata": {},
   "outputs": [],
   "source": [
    "np.split(array, [1], axis=0)"
   ]
  },
  {
   "cell_type": "markdown",
   "metadata": {
    "editable": true
   },
   "source": [
    "## Funciones Universales: Element-Wise"
   ]
  },
  {
   "cell_type": "markdown",
   "metadata": {},
   "source": [
    "- Las  \"funciones universales\" (o ufuncs), permiten la realización de operaciones elemento a elemento de un array. \n",
    "- En función del número de parámetros encontramos dos tipos de funciones universales: unarias y binarias"
   ]
  },
  {
   "cell_type": "markdown",
   "metadata": {},
   "source": [
    "#### Funciones unarias\n",
    "Son aquellas funciones que reciben como parámetro un único ndarray.<br/>"
   ]
  },
  {
   "cell_type": "markdown",
   "metadata": {},
   "source": [
    "|Función|Descripcción|\n",
    "|----|---|\n",
    "|`abs, fabs`| Valor absoluto.|\n",
    "|`sqrt`| Raíz cuadrada (equivalente a array \\*\\* 0.5).|\n",
    "|`square`| Potencia al cuadrado (equivalente a array ** 2).|\n",
    "|`exp`| Potencia de e.|\n",
    "|`log, log10, log2, log1p`| Logaritmos en distintas bases.|\n",
    "|`ceil`| Techo.|\n",
    "|`floor`| Suelo.|\n",
    "|`rint`| Redondeo al entero más cercano.|\n",
    "|`modf`| Devuelve dos arrays uno con la parte fraccionaria y otro con la parte entera.|\n",
    "|`isnan`| Devuelve un array booleano indicando si el valor es NaN o no.|\n",
    "|`isfinite, isinf`| Devuelve un array booleano indicando si el valor es finito o no.|\n",
    "|`cos, cosh, sin, sinh, tan, tanh`| Funciones trigonométricas.|\n",
    "|`arccos, arccosh, arcsin, arcsinh, arctan, arctanh`| Funciones trigonométricas inversas.|\n",
    "|`logical_not`| Inverso booleano de todos los valores del array (equivalente a -(array)).|\n"
   ]
  },
  {
   "cell_type": "code",
   "execution_count": null,
   "metadata": {},
   "outputs": [],
   "source": [
    "arr = np.arange(10)\n",
    "arr"
   ]
  },
  {
   "cell_type": "code",
   "execution_count": null,
   "metadata": {},
   "outputs": [],
   "source": [
    "np.sqrt(arr)"
   ]
  },
  {
   "cell_type": "code",
   "execution_count": null,
   "metadata": {},
   "outputs": [],
   "source": [
    "np.exp(arr)"
   ]
  },
  {
   "cell_type": "markdown",
   "metadata": {},
   "source": [
    "Multiplicación elemento a elementos"
   ]
  },
  {
   "cell_type": "markdown",
   "metadata": {},
   "source": [
    "arr = np.random.randn(7) * 5"
   ]
  },
  {
   "cell_type": "code",
   "execution_count": null,
   "metadata": {},
   "outputs": [],
   "source": [
    "arr"
   ]
  },
  {
   "cell_type": "markdown",
   "metadata": {},
   "source": [
    "Podemos obtener dos arrays, uno con la parte fraccionaria y otro con la parte entera"
   ]
  },
  {
   "cell_type": "code",
   "execution_count": null,
   "metadata": {},
   "outputs": [],
   "source": [
    "remainder, whole_part = np.modf(arr)"
   ]
  },
  {
   "cell_type": "code",
   "execution_count": null,
   "metadata": {},
   "outputs": [],
   "source": [
    "remainder"
   ]
  },
  {
   "cell_type": "code",
   "execution_count": null,
   "metadata": {},
   "outputs": [],
   "source": [
    "whole_part"
   ]
  },
  {
   "cell_type": "markdown",
   "metadata": {},
   "source": [
    "#### Funciones binarias\n",
    "Son aquellas funciones que reciben como parámetro dos arrays.\n",
    "\n",
    "|Función|Descripcción|\n",
    "|----|---|\n",
    "|`add`| Adición de los elementos de los dos arrays (equivalente a array1 + array2).|\n",
    "|`subtract`| Resta de los elementos de los dos arrays (equivalente a array1 - array2).|\n",
    "|`multiply`| Multiplica los elementos de los dos arrays (equivalente a array1 \\* array2).|\n",
    "|`divide, floor_divide`| Divide los elementos de los dos arrays (equivalente a array1 / (o //) array2).|\n",
    "|`power`| Eleva los elementos del primer array a las potencias del segundo (equivalente a array1 ** array2).|\n",
    "|`maximum, fmax`| Calcula el máximo de los dos arrays (elemento a elemento). fmax ignora NaN.|\n",
    "|`minimum, fmin`| Calcula el mínimo de los dos arrays (elemento a elemento). fmin ignora NaN.|\n",
    "|`mod`| Calcula el resto de la división de los dos arrays (equivalente a array1 % array2).|\n",
    "|`greater, greater_equal, less, less_equal, equal, not_equal`| Comparativas sobre los elementos de ambos ndarrays (elemento a elemento).|\n",
    "|`logical_and, logical_or, logical_xor`| Operaciones booleanas sobre los elementos de ambos ndarrays (elemento a elemento).|\n"
   ]
  },
  {
   "cell_type": "code",
   "execution_count": null,
   "metadata": {
    "collapsed": false,
    "editable": true,
    "jupyter": {
     "outputs_hidden": false
    }
   },
   "outputs": [],
   "source": [
    "x = np.random.randn(8)\n",
    "y = np.random.randn(8)"
   ]
  },
  {
   "cell_type": "code",
   "execution_count": null,
   "metadata": {},
   "outputs": [],
   "source": [
    "x"
   ]
  },
  {
   "cell_type": "code",
   "execution_count": null,
   "metadata": {},
   "outputs": [],
   "source": [
    "y"
   ]
  },
  {
   "cell_type": "code",
   "execution_count": null,
   "metadata": {},
   "outputs": [],
   "source": [
    "np.maximum(x, y)"
   ]
  },
  {
   "cell_type": "markdown",
   "metadata": {
    "editable": true
   },
   "source": [
    "## Logica condicional con Arrays"
   ]
  },
  {
   "cell_type": "markdown",
   "metadata": {},
   "source": [
    "- A través de la función <b>np.where</b> se puede generar un array de salida a partir de dos de entrada.\n",
    "- Where(condition, [x, y]): Da los elmentos elegidos de  `x` o `y` dependiendo de `condition`.\n",
    "\n"
   ]
  },
  {
   "cell_type": "code",
   "execution_count": null,
   "metadata": {
    "collapsed": false,
    "editable": true,
    "jupyter": {
     "outputs_hidden": false
    }
   },
   "outputs": [],
   "source": [
    "xarr = np.array([1.1, 1.2, 1.3, 1.4, 2.5])\n",
    "yarr = np.array([2.1, 2.2, 2.3, 2.4, 1.5])"
   ]
  },
  {
   "cell_type": "markdown",
   "metadata": {},
   "source": [
    "- Usamos where para generar un array en base a una condición. \n",
    "- En esta caso, la condición es xarr < yarr\n",
    "- Cuando sea True, ponme el elemento que esté en xarr\n",
    "- Cuando sea False, ponme el elemento que esté en yarr"
   ]
  },
  {
   "cell_type": "code",
   "execution_count": null,
   "metadata": {},
   "outputs": [],
   "source": [
    "np.where(xarr < yarr, xarr, yarr)"
   ]
  },
  {
   "cell_type": "markdown",
   "metadata": {},
   "source": [
    "Podemos usar un índice booleano ya existente como sustituto de la condición"
   ]
  },
  {
   "cell_type": "code",
   "execution_count": null,
   "metadata": {},
   "outputs": [],
   "source": [
    "cond = np.array([True, False, True, True, False])\n",
    "result = np.where(cond, xarr, yarr)\n",
    "result"
   ]
  },
  {
   "cell_type": "markdown",
   "metadata": {},
   "source": [
    "- Podemos utilizarlo de muchas maneras"
   ]
  },
  {
   "cell_type": "code",
   "execution_count": null,
   "metadata": {
    "collapsed": false,
    "editable": true,
    "jupyter": {
     "outputs_hidden": false
    }
   },
   "outputs": [],
   "source": [
    "arr = np.random.randn(4, 4)\n",
    "arr"
   ]
  },
  {
   "cell_type": "code",
   "execution_count": null,
   "metadata": {},
   "outputs": [],
   "source": [
    "arr > 0"
   ]
  },
  {
   "cell_type": "code",
   "execution_count": null,
   "metadata": {},
   "outputs": [],
   "source": [
    "np.where(arr > 0, 2, -2)"
   ]
  },
  {
   "cell_type": "code",
   "execution_count": null,
   "metadata": {
    "collapsed": false,
    "editable": true,
    "jupyter": {
     "outputs_hidden": false
    }
   },
   "outputs": [],
   "source": [
    "np.where(arr > 0, 2, arr)"
   ]
  },
  {
   "cell_type": "markdown",
   "metadata": {},
   "source": [
    "___\n",
    "# Ejercicios"
   ]
  },
  {
   "cell_type": "markdown",
   "metadata": {},
   "source": [
    "**2.2.1.**  Crea una función que reciba dos números n y m que definirán ancho y alto de una matriz de nxm elementos numéricos secuenciales y un booleano que definirá si se debe devolver la matriz generada (False) o su traspuesta (True)."
   ]
  },
  {
   "cell_type": "code",
   "execution_count": null,
   "metadata": {},
   "outputs": [],
   "source": []
  },
  {
   "cell_type": "markdown",
   "metadata": {},
   "source": [
    "**2.2.2.**  Crea una función que reciba una matriz y chequee si hay o no algún valor negativo en la misma."
   ]
  },
  {
   "cell_type": "code",
   "execution_count": null,
   "metadata": {},
   "outputs": [],
   "source": []
  },
  {
   "cell_type": "markdown",
   "metadata": {},
   "source": [
    "**2.2.3.**  Crea una función que sume el valor absoluto de todos los elementos negativos de una matriz recibida como parámetro. O devuelva \"No hay negativos\" en caso de que no los haya."
   ]
  },
  {
   "cell_type": "code",
   "execution_count": null,
   "metadata": {},
   "outputs": [],
   "source": []
  },
  {
   "cell_type": "markdown",
   "metadata": {},
   "source": [
    "**2.2.4.** Utiliza el ejercicio 2.1.9. Genera una matriz de 3x3 de números aleatorios (da igual la distribución)\n",
    "\n",
    "- Extrae la tercera columna en un vector de 2 dimensiones\n",
    "- Extrae la tercera columna en un vector de 1 dimensión\n",
    "- Extrae el segundo y tercer elemento, de la segunda fila, en un vector de 2 dimensiones\n",
    "- Extrae el segundo y tercer elemento, de la segunda fila, en un vector de 1 dimensión\n",
    "\n",
    "Calcula la traspuesta de los 4 apartados, imprímela y comenta los resultados"
   ]
  },
  {
   "cell_type": "code",
   "execution_count": null,
   "metadata": {},
   "outputs": [],
   "source": []
  }
 ],
 "metadata": {
  "kernelspec": {
   "display_name": "Python 3",
   "language": "python",
   "name": "python3"
  },
  "language_info": {
   "codemirror_mode": {
    "name": "ipython",
    "version": 3
   },
   "file_extension": ".py",
   "mimetype": "text/x-python",
   "name": "python",
   "nbconvert_exporter": "python",
   "pygments_lexer": "ipython3",
   "version": "3.7.6"
  }
 },
 "nbformat": 4,
 "nbformat_minor": 4
}
