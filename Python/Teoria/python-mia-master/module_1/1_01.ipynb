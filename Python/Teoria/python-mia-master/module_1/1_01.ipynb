{
 "cells": [
  {
   "cell_type": "markdown",
   "metadata": {},
   "source": [
    "# 1.1. Jupyter Notebooks"
   ]
  },
  {
   "cell_type": "markdown",
   "metadata": {},
   "source": [
    "- Los notebooks son simplemente documentos JSON que contienen texto, imágenes y código.\n",
    "- Están formados por celdas. \n",
    "- Cada celda puede contener código Python (marcado en el desplegable de arriba como \"Code\"), texto (marcado como \"Markdown\") o incluso código que no será ejecutado por el notebook (\"Raw NBConvert\").\n",
    "- Esto es una celda:"
   ]
  },
  {
   "cell_type": "code",
   "execution_count": null,
   "metadata": {},
   "outputs": [],
   "source": [
    "# Esto es una celda"
   ]
  },
  {
   "cell_type": "markdown",
   "metadata": {},
   "source": [
    "- Se  guardan pulsando el botón de guardado, con el comando Ctrl + S o de forma automática.\n",
    "- Los notebooks permiten ejecutar código de Python.\n",
    "- Cerrar el notebook no para la ejecución del mismo, se pueden ver los abiertos en running (si tienes muchos abiertos consumes recursos del ordenador y todo te irá más lento)\n",
    "- Para detenerlos, ve al icono del cuadrado dentro del círculo. Selecciónalos y pulsa el botón \"Shutdown\".\n",
    "- Parar el kernel te permite detener el código y borrar todas las variables que tengas en memoria. Si python se ha bloqueado, reinicia el kernel."
   ]
  },
  {
   "cell_type": "markdown",
   "metadata": {},
   "source": [
    "Los comandos más relevantes en los notebooks son los siguientes:\n",
    "\n",
    "\n",
    "- Command Mode:\n",
    "\n",
    "|Shortcut| Desciption|\n",
    "|-|-|\n",
    "|shift + enter| ejecuta la celda, selecciona la siguiente|\n",
    "|ctrl + enter| ejecuta la celda|\n",
    "|alt + enter| ejecuta la celda, inserta una debajo|\n",
    "|A |inserta una celda encima de la actual|\n",
    "|B |inserta una celda abajo de la actual|\n",
    "|C |copia la celda |\n",
    "|V |pega la celda|\n",
    "|D , D |borra la celda seleccionada|\n",
    "|shift + M | Junta las celdas seleccionadas, si son consecutivas|\n",
    "|I , I |interrumpe el kernel|\n",
    "|0 , 0 |reinicia el kernel|\n",
    "|Y |cambia la celda a modo código|\n",
    "|M |cambia la celda a modo markdown|\n",
    "\n",
    "\n",
    "- Edit Mode:\n",
    "\n",
    "|Shortcut| Desciption|\n",
    "|-|-|\n",
    "|Alt Gr + click |multi-cursor editing|\n",
    "|tab| code completion o indent|\n",
    "|shift + tab| muestra ayuda sobre cualquier función|\n",
    "|ctrl + shift + - | split cell|"
   ]
  },
  {
   "cell_type": "markdown",
   "metadata": {},
   "source": [
    "## Código"
   ]
  },
  {
   "cell_type": "markdown",
   "metadata": {},
   "source": [
    "- Cada celda de código se puede ejecutar de forma independiente (tendrá en cuenta las celdas ya ejecutadas, por lo que el orden es importante)\n",
    "- Podemos ejecutar un notebook entero de una sola vez, si una sentencia genera un error  la ejecución del código se detendrá (menú Run All cells)\n",
    "- Para ejecutarla una celda:\n",
    "    - Pulsa el botón \"Run\" situado arriba\n",
    "    - Pusa Ctrl + Enter (se quedará seleccionada la celda en la que te encuentres)\n",
    "    - Pulsa Shift + Enter (se ejecutará y pasará a seleccionarse la siguiente celda)\n",
    "- Una celda sin ejecutar aparecerá con un \"In [ ]:\" a su izquierda.\n",
    "- Mientras se ejecuta, entre los corchetes veremos un asterisco, así [*].\n",
    "- Una vez ejecutados, los corchetes se rellenarán con un número.\n",
    "- Si el código de la celda está diseñado para devolver algún output, debajo del código aparecerá en rojo \"[número del input]: \" seguido de la salida del código.\n",
    "- Si una celda se ejecuta de nuevo, el número asociado cambiará."
   ]
  },
  {
   "cell_type": "code",
   "execution_count": 1,
   "metadata": {
    "collapsed": false,
    "jupyter": {
     "outputs_hidden": false
    }
   },
   "outputs": [
    {
     "data": {
      "text/plain": [
       "5"
      ]
     },
     "execution_count": 1,
     "metadata": {},
     "output_type": "execute_result"
    }
   ],
   "source": [
    "# Esto es un pequeño código en Python, insertado en este notebook\n",
    "# En concreto, esto son comentarios en Python\n",
    "# Para ejecutarlo, selecciónalo y pulsa el botón \"run\" situado arriba\n",
    "# O pulsa Ctrl + Enter\n",
    "# Verás el resultado de usar Python como calculadora\n",
    "2 + 3"
   ]
  },
  {
   "cell_type": "markdown",
   "metadata": {},
   "source": [
    "Sólo veremos la respuesta de la última línea que imprima por pantalla"
   ]
  },
  {
   "cell_type": "code",
   "execution_count": 2,
   "metadata": {
    "collapsed": false,
    "jupyter": {
     "outputs_hidden": false
    }
   },
   "outputs": [
    {
     "data": {
      "text/plain": [
       "14"
      ]
     },
     "execution_count": 2,
     "metadata": {},
     "output_type": "execute_result"
    }
   ],
   "source": [
    "2 + 3\n",
    "10 + 4"
   ]
  },
  {
   "cell_type": "markdown",
   "metadata": {},
   "source": [
    "La función print() que imprime por pantalla, la veremos detenidamente más adelante:"
   ]
  },
  {
   "cell_type": "code",
   "execution_count": 15,
   "metadata": {
    "collapsed": false,
    "jupyter": {
     "outputs_hidden": false
    }
   },
   "outputs": [
    {
     "name": "stdout",
     "output_type": "stream",
     "text": [
      "5\n"
     ]
    },
    {
     "data": {
      "text/plain": [
       "14"
      ]
     },
     "execution_count": 15,
     "metadata": {},
     "output_type": "execute_result"
    }
   ],
   "source": [
    "print(2 + 3)\n",
    "10 + 4"
   ]
  },
  {
   "cell_type": "code",
   "execution_count": 3,
   "metadata": {
    "collapsed": false,
    "jupyter": {
     "outputs_hidden": false
    }
   },
   "outputs": [
    {
     "name": "stdout",
     "output_type": "stream",
     "text": [
      "5\n",
      "14\n"
     ]
    }
   ],
   "source": [
    "print(2 + 3)\n",
    "print(10 + 4)"
   ]
  },
  {
   "cell_type": "markdown",
   "metadata": {},
   "source": [
    "Si tenemos una variable:"
   ]
  },
  {
   "cell_type": "code",
   "execution_count": 4,
   "metadata": {},
   "outputs": [],
   "source": [
    "x = 2 + 3"
   ]
  },
  {
   "cell_type": "markdown",
   "metadata": {},
   "source": [
    "Podemos ver que contiene:"
   ]
  },
  {
   "cell_type": "code",
   "execution_count": 5,
   "metadata": {},
   "outputs": [
    {
     "data": {
      "text/plain": [
       "5"
      ]
     },
     "execution_count": 5,
     "metadata": {},
     "output_type": "execute_result"
    }
   ],
   "source": [
    "x"
   ]
  },
  {
   "cell_type": "code",
   "execution_count": 6,
   "metadata": {
    "collapsed": false,
    "jupyter": {
     "outputs_hidden": false
    }
   },
   "outputs": [
    {
     "name": "stdout",
     "output_type": "stream",
     "text": [
      "5\n"
     ]
    }
   ],
   "source": [
    "print(x)"
   ]
  },
  {
   "cell_type": "markdown",
   "metadata": {},
   "source": [
    "Para ver todas las variables instanciadas en el notebook podemos usar dir"
   ]
  },
  {
   "cell_type": "code",
   "execution_count": 7,
   "metadata": {
    "collapsed": true,
    "jupyter": {
     "outputs_hidden": true
    }
   },
   "outputs": [
    {
     "data": {
      "text/plain": [
       "['In',\n",
       " 'Out',\n",
       " '_',\n",
       " '_1',\n",
       " '_2',\n",
       " '_5',\n",
       " '__',\n",
       " '___',\n",
       " '__builtin__',\n",
       " '__builtins__',\n",
       " '__doc__',\n",
       " '__loader__',\n",
       " '__name__',\n",
       " '__package__',\n",
       " '__spec__',\n",
       " '_dh',\n",
       " '_i',\n",
       " '_i1',\n",
       " '_i2',\n",
       " '_i3',\n",
       " '_i4',\n",
       " '_i5',\n",
       " '_i6',\n",
       " '_i7',\n",
       " '_ih',\n",
       " '_ii',\n",
       " '_iii',\n",
       " '_oh',\n",
       " 'exit',\n",
       " 'get_ipython',\n",
       " 'quit',\n",
       " 'x']"
      ]
     },
     "execution_count": 7,
     "metadata": {},
     "output_type": "execute_result"
    }
   ],
   "source": [
    "dir()"
   ]
  },
  {
   "cell_type": "markdown",
   "metadata": {},
   "source": [
    "- Al ejecutar cada celda de código que devuelve un output, ese output queda almacenado en una variable definida con una barra baja seguida del número del Output.\n",
    "- Ejemplo: '_6'. haz una prueba."
   ]
  },
  {
   "cell_type": "code",
   "execution_count": 9,
   "metadata": {},
   "outputs": [
    {
     "data": {
      "text/plain": [
       "14"
      ]
     },
     "execution_count": 9,
     "metadata": {},
     "output_type": "execute_result"
    }
   ],
   "source": [
    "# Imprime alguno de los outputs de las celdas anteriores\n",
    "_2"
   ]
  },
  {
   "cell_type": "markdown",
   "metadata": {},
   "source": [
    "### Markdown"
   ]
  },
  {
   "cell_type": "markdown",
   "metadata": {},
   "source": [
    "Se pueden poner títulos:\n",
    "#### Esto es un título insertado en el notebook con markdown"
   ]
  },
  {
   "cell_type": "markdown",
   "metadata": {},
   "source": [
    "Esto es texto insertado en el notebook con markdown. Para editarlo, haz doble click sobre este párrafo.\n",
    "Puedes introducir texto de muchas maneras:\n",
    "Como *cursiva*, **negrita**\n",
    "- Listas.\n",
    "\n",
    "Si haces click [aquí](https://github.com/adam-p/markdown-here/wiki/Markdown-Cheatsheet) puedes ver una cheatsheet con formatos de markdown.\n"
   ]
  },
  {
   "cell_type": "markdown",
   "metadata": {},
   "source": [
    "### Desventajas\n",
    "\n",
    "- Los notebooks son muy buenos para aprender y clases, pero no tanto para proyectos grandes. Por ejemplo, no hay un explorador de variables como en Rstudio.\n",
    "- Mejor usar otros editores tipo Rstudio y ficheros py.\n",
    "- Las variables se mantienen y puede dar lugar a errores \"raros\", si no se ejecutan las celdas en orden."
   ]
  },
  {
   "cell_type": "code",
   "execution_count": 12,
   "metadata": {},
   "outputs": [],
   "source": [
    "a = 1 "
   ]
  },
  {
   "cell_type": "code",
   "execution_count": 11,
   "metadata": {},
   "outputs": [],
   "source": [
    "a = 2"
   ]
  },
  {
   "cell_type": "code",
   "execution_count": 13,
   "metadata": {},
   "outputs": [
    {
     "data": {
      "text/plain": [
       "1"
      ]
     },
     "execution_count": 13,
     "metadata": {},
     "output_type": "execute_result"
    }
   ],
   "source": [
    "a"
   ]
  },
  {
   "cell_type": "markdown",
   "metadata": {},
   "source": [
    "___"
   ]
  },
  {
   "cell_type": "markdown",
   "metadata": {},
   "source": [
    "# Ejercicios"
   ]
  },
  {
   "cell_type": "markdown",
   "metadata": {},
   "source": [
    "**1.1.1.** Crea un notebook nuevo con el icono +, cámbiale el nombre, añade 3 títulos diferentes, un texto y varias celdas de código definiendo y imprimiendo variables."
   ]
  },
  {
   "cell_type": "code",
   "execution_count": null,
   "metadata": {},
   "outputs": [],
   "source": []
  }
 ],
 "metadata": {
  "kernelspec": {
   "display_name": "Python 3",
   "language": "python",
   "name": "python3"
  },
  "language_info": {
   "codemirror_mode": {
    "name": "ipython",
    "version": 3
   },
   "file_extension": ".py",
   "mimetype": "text/x-python",
   "name": "python",
   "nbconvert_exporter": "python",
   "pygments_lexer": "ipython3",
   "version": "3.7.6"
  }
 },
 "nbformat": 4,
 "nbformat_minor": 4
}
