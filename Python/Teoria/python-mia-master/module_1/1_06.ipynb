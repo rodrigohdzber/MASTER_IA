{
 "cells": [
  {
   "cell_type": "markdown",
   "metadata": {},
   "source": [
    "#  1.6. Estructuras de datos: Diccionarios"
   ]
  },
  {
   "cell_type": "markdown",
   "metadata": {},
   "source": [
    "- Los diccionarios son tablas hash que mapean un par clave-valor.\n",
    "- Es la estructura más rápida de consulta que tiene python. No recorre los elementos para buscar un valor, sino que acude diréctamente a la posición de memoria donde está guardado.\n",
    "- Se pueden pensar como sets en los que se guarda un objeto asociado a cada elemento del set.\n",
    "- Se define con **{}** o **dict()**.\n",
    "- Con {key: value} \n",
    "- La clave puede ser cualquier objeto hasheable.\n",
    "- La clave debe ser única (no puede repetirse)."
   ]
  },
  {
   "cell_type": "code",
   "execution_count": 1,
   "metadata": {},
   "outputs": [
    {
     "name": "stdout",
     "output_type": "stream",
     "text": [
      "<class 'dict'>\n"
     ]
    }
   ],
   "source": [
    "d = dict() # Es equivalente a d={} (esto solo sirve para diccionarios vacíos). Si tuviera contenido, al ponerlo entre llaves, sería un set. \n",
    "print(type(d))"
   ]
  },
  {
   "cell_type": "code",
   "execution_count": 2,
   "metadata": {
    "collapsed": false,
    "jupyter": {
     "outputs_hidden": false
    }
   },
   "outputs": [
    {
     "name": "stdout",
     "output_type": "stream",
     "text": [
      "{'abc': 3, 4: 'A string'}\n"
     ]
    }
   ],
   "source": [
    "# Añadir elementos: indicamos una clave nueva y su valor asociado.\n",
    "# La clave debe ser única\n",
    "\n",
    "d['abc'] = 3\n",
    "d[4] = \"A string\"\n",
    "print(d)"
   ]
  },
  {
   "cell_type": "code",
   "execution_count": 3,
   "metadata": {},
   "outputs": [
    {
     "data": {
      "text/plain": [
       "3"
      ]
     },
     "execution_count": 3,
     "metadata": {},
     "output_type": "execute_result"
    }
   ],
   "source": [
    "# Recuperando el valor a través de la key\n",
    "\n",
    "d['abc'] "
   ]
  },
  {
   "cell_type": "code",
   "execution_count": 5,
   "metadata": {
    "collapsed": false,
    "jupyter": {
     "outputs_hidden": false
    }
   },
   "outputs": [],
   "source": [
    "d = {1: 'One', 2: 'Two', 100: 'Hundred'}"
   ]
  },
  {
   "cell_type": "code",
   "execution_count": 6,
   "metadata": {},
   "outputs": [
    {
     "data": {
      "text/plain": [
       "{1: 'One', 2: 'Two', 100: 'Hundred'}"
      ]
     },
     "execution_count": 6,
     "metadata": {},
     "output_type": "execute_result"
    }
   ],
   "source": [
    "d"
   ]
  },
  {
   "cell_type": "code",
   "execution_count": 7,
   "metadata": {},
   "outputs": [
    {
     "data": {
      "text/plain": [
       "3"
      ]
     },
     "execution_count": 7,
     "metadata": {},
     "output_type": "execute_result"
    }
   ],
   "source": [
    "len(d)"
   ]
  },
  {
   "cell_type": "code",
   "execution_count": 8,
   "metadata": {},
   "outputs": [
    {
     "data": {
      "text/plain": [
       "{1: 'One', 2: 'Two', 100: 'Hundred'}"
      ]
     },
     "execution_count": 8,
     "metadata": {},
     "output_type": "execute_result"
    }
   ],
   "source": [
    "# Cómo declarar un diccionario según PEP8\n",
    "\n",
    "dict_pep = {\n",
    "    1: 'One', \n",
    "    2: 'Two', \n",
    "    100: 'Hundred',\n",
    "}\n",
    "\n",
    "dict_pep"
   ]
  },
  {
   "cell_type": "code",
   "execution_count": 9,
   "metadata": {},
   "outputs": [
    {
     "data": {
      "text/plain": [
       "{'Fer': [28, 'Madrid'], 'Juan': [50, 'Asturias']}"
      ]
     },
     "execution_count": 9,
     "metadata": {},
     "output_type": "execute_result"
    }
   ],
   "source": [
    "# Los valores asociados a la Key pueden ser cualquier objeto, como listas o tuplas\n",
    "\n",
    "d = {\n",
    "    'Fer': [28, 'Madrid'],\n",
    "    'Juan': [50, 'Asturias'],\n",
    "}\n",
    "\n",
    "d"
   ]
  },
  {
   "cell_type": "code",
   "execution_count": 10,
   "metadata": {},
   "outputs": [
    {
     "data": {
      "text/plain": [
       "[50, 'Asturias']"
      ]
     },
     "execution_count": 10,
     "metadata": {},
     "output_type": "execute_result"
    }
   ],
   "source": [
    "# Recuperamos los valores asociados a la key\n",
    "d['Juan']"
   ]
  },
  {
   "cell_type": "code",
   "execution_count": 11,
   "metadata": {},
   "outputs": [
    {
     "ename": "KeyError",
     "evalue": "0",
     "output_type": "error",
     "traceback": [
      "\u001b[1;31m---------------------------------------------------------------------------\u001b[0m",
      "\u001b[1;31mKeyError\u001b[0m                                  Traceback (most recent call last)",
      "\u001b[1;32m<ipython-input-11-9712def9d22d>\u001b[0m in \u001b[0;36m<module>\u001b[1;34m\u001b[0m\n\u001b[0;32m      2\u001b[0m \u001b[1;31m# De hecho NO conocemos la posición de los elementos\u001b[0m\u001b[1;33m\u001b[0m\u001b[1;33m\u001b[0m\u001b[1;33m\u001b[0m\u001b[0m\n\u001b[0;32m      3\u001b[0m \u001b[1;33m\u001b[0m\u001b[0m\n\u001b[1;32m----> 4\u001b[1;33m \u001b[0md\u001b[0m\u001b[1;33m[\u001b[0m\u001b[1;36m0\u001b[0m\u001b[1;33m]\u001b[0m \u001b[1;31m# Dado que no existe esta clave, nos devuelve un error\u001b[0m\u001b[1;33m\u001b[0m\u001b[1;33m\u001b[0m\u001b[0m\n\u001b[0m",
      "\u001b[1;31mKeyError\u001b[0m: 0"
     ]
    }
   ],
   "source": [
    "# No podemos indexar por posición, sino por clave. \n",
    "# De hecho NO conocemos la posición de los elementos\n",
    "\n",
    "d[0] # Dado que no existe esta clave, nos devuelve un error"
   ]
  },
  {
   "cell_type": "markdown",
   "metadata": {},
   "source": [
    "- Se pueden formar diccionarios a partir de una lista de tuplas del tipo `(key,value)`. Aunque no es muy habitual.\n",
    "- Usando **dict()** se crea el diccionario."
   ]
  },
  {
   "cell_type": "code",
   "execution_count": 12,
   "metadata": {},
   "outputs": [],
   "source": [
    "list_of_tuples = [\n",
    "  ('One', 1), ('Two', 2), ('Three', 3), ('Four', 4), ('Five', 5)   \n",
    "]"
   ]
  },
  {
   "cell_type": "code",
   "execution_count": 13,
   "metadata": {},
   "outputs": [
    {
     "data": {
      "text/plain": [
       "[('One', 1), ('Two', 2), ('Three', 3), ('Four', 4), ('Five', 5)]"
      ]
     },
     "execution_count": 13,
     "metadata": {},
     "output_type": "execute_result"
    }
   ],
   "source": [
    "list_of_tuples"
   ]
  },
  {
   "cell_type": "code",
   "execution_count": 14,
   "metadata": {},
   "outputs": [
    {
     "data": {
      "text/plain": [
       "{'One': 1, 'Two': 2, 'Three': 3, 'Four': 4, 'Five': 5}"
      ]
     },
     "execution_count": 14,
     "metadata": {},
     "output_type": "execute_result"
    }
   ],
   "source": [
    "# Lo convertimos en un diccionario\n",
    "dict(list_of_tuples)"
   ]
  },
  {
   "cell_type": "markdown",
   "metadata": {},
   "source": [
    "- IMPORTANTE: El orden no está en función del orden de insertado.\n",
    "- El orden está basado en el hash de cada objeto.\n",
    "- No se debe asumir el orden insertado al iterar (al recorrer el diccionario)."
   ]
  },
  {
   "cell_type": "markdown",
   "metadata": {},
   "source": [
    "- Usando Tuplas como clave podemos crear una matriz sparse (matrices con muchos ceros). Este es un problema recurrente el ML.\n",
    "- En vez de almacenar la matriz entera, únicamente almacenamos los elementos que son diferentes de cero. La clave serían las posiciones (fila, columna), de esos elementos diferentes de cero."
   ]
  },
  {
   "cell_type": "code",
   "execution_count": 15,
   "metadata": {
    "collapsed": false,
    "jupyter": {
     "outputs_hidden": false
    }
   },
   "outputs": [
    {
     "data": {
      "text/plain": [
       "{(0, 1): 3.5, (2, 17): 0.1, (5, 9): 1.1}"
      ]
     },
     "execution_count": 15,
     "metadata": {},
     "output_type": "execute_result"
    }
   ],
   "source": [
    "matrix = {\n",
    "    (0,1): 3.5, \n",
    "    (2,17): 0.1,\n",
    "    (5,9): 1.1\n",
    "}\n",
    "\n",
    "matrix"
   ]
  },
  {
   "cell_type": "markdown",
   "metadata": {},
   "source": [
    "### Built-in Functions"
   ]
  },
  {
   "cell_type": "markdown",
   "metadata": {},
   "source": [
    "- Algunas de las funciones más usadas:\n",
    "\n",
    "|Métodos|Description|\n",
    "|----|---|\n",
    "```<view> = <dict>.keys()``` |                          Obtenemos las claves (keys) del diccionario.|\n",
    "```<view> = <dict>.values()``` |                        Obtenemos los valores del diccionario.|\n",
    "```<view> = <dict>.items()```   |                       Obtenemos los pares de clave:valor del diccionario.|\n",
    "```value  = <dict>.get(key, default=None) ```   |       Devuelve el valor, en función de una clave, no devuelve nada si no existe esa clave.|\n",
    "```value  = <dict>.setdefault(key, default=None)```  |  Devuelve el valor, en función de una clave, con un valor por defeco obligatorio.|\n",
    "```<dict>.update(<dict>)```|                            Une dos diccionarios.|\n",
    "```<dict> = dict(<collection>)```    |                  Crea un diccionario desde una colección de pares clave_valor.|\n",
    "```<dict> = dict(zip(keys, values)) ```  |              Crea un diccionario desde dos colecciones.|\n",
    "```<dict> = dict.fromkeys(keys [, value])```  |         Crea un diccionario desde una colección de Keys.|\n",
    "```value = <dict>.pop(key)```        |                  Borra un elemento del diccionario.|\n",
    "```{k: v for k, v in <dict>.items() if k in keys}```|   Filtra un diccionario por Keys.|"
   ]
  },
  {
   "cell_type": "code",
   "execution_count": 16,
   "metadata": {},
   "outputs": [],
   "source": [
    "d = {\n",
    "    'Fer': [28, 'Madrid'],\n",
    "    'Juan': [50, 'Asturias'],\n",
    "}"
   ]
  },
  {
   "cell_type": "markdown",
   "metadata": {},
   "source": [
    "- **len()** function y  **in** operator"
   ]
  },
  {
   "cell_type": "code",
   "execution_count": 16,
   "metadata": {
    "collapsed": false,
    "jupyter": {
     "outputs_hidden": false
    }
   },
   "outputs": [
    {
     "name": "stdout",
     "output_type": "stream",
     "text": [
      "d has 2 elements\n",
      "One is Fer True but not Fernando False\n"
     ]
    }
   ],
   "source": [
    "print(f\"d has {len(d)} elements\")\n",
    "print(f\"One is Fer {'Fer' in d} but not Fernando {'Fernando' in d}\")"
   ]
  },
  {
   "cell_type": "markdown",
   "metadata": {},
   "source": [
    "- **get(key, default=None)** da el valor, si no está presente devuelve None o default."
   ]
  },
  {
   "cell_type": "code",
   "execution_count": 17,
   "metadata": {},
   "outputs": [
    {
     "data": {
      "text/plain": [
       "{'Fer': [28, 'Madrid'], 'Juan': [50, 'Asturias']}"
      ]
     },
     "execution_count": 17,
     "metadata": {},
     "output_type": "execute_result"
    }
   ],
   "source": [
    "d"
   ]
  },
  {
   "cell_type": "code",
   "execution_count": 18,
   "metadata": {},
   "outputs": [
    {
     "ename": "KeyError",
     "evalue": "'pepe'",
     "output_type": "error",
     "traceback": [
      "\u001b[1;31m---------------------------------------------------------------------------\u001b[0m",
      "\u001b[1;31mKeyError\u001b[0m                                  Traceback (most recent call last)",
      "\u001b[1;32m<ipython-input-18-61e78c8a49f5>\u001b[0m in \u001b[0;36m<module>\u001b[1;34m\u001b[0m\n\u001b[1;32m----> 1\u001b[1;33m \u001b[0md\u001b[0m\u001b[1;33m[\u001b[0m\u001b[1;34m'pepe'\u001b[0m\u001b[1;33m]\u001b[0m \u001b[1;31m# Da error, por lo que la ejecución del código se detendría\u001b[0m\u001b[1;33m\u001b[0m\u001b[1;33m\u001b[0m\u001b[0m\n\u001b[0m",
      "\u001b[1;31mKeyError\u001b[0m: 'pepe'"
     ]
    }
   ],
   "source": [
    "d['pepe'] # Da error, por lo que la ejecución del código se detendría"
   ]
  },
  {
   "cell_type": "code",
   "execution_count": 19,
   "metadata": {},
   "outputs": [],
   "source": [
    "d.get('pepe') # Haciéndolo de esta manera, no nos devuelve nada (por lo que sabemos que pepe no existe como key), y la ejecución no se detiene"
   ]
  },
  {
   "cell_type": "code",
   "execution_count": 20,
   "metadata": {},
   "outputs": [
    {
     "data": {
      "text/plain": [
       "'nada'"
      ]
     },
     "execution_count": 20,
     "metadata": {},
     "output_type": "execute_result"
    }
   ],
   "source": [
    "d.get('pepe', 'nada') # Podemos indicar un valor de devolución por defecto, si la clave no existe"
   ]
  },
  {
   "cell_type": "markdown",
   "metadata": {},
   "source": [
    "- **pop( )** se usa para obtener y eliminar un elemento particular."
   ]
  },
  {
   "cell_type": "code",
   "execution_count": 20,
   "metadata": {
    "collapsed": false,
    "jupyter": {
     "outputs_hidden": false
    }
   },
   "outputs": [
    {
     "name": "stdout",
     "output_type": "stream",
     "text": [
      "{'Juan': [50, 'Asturias']}\n"
     ]
    }
   ],
   "source": [
    "val = d.pop('Fer')\n",
    "print(d)"
   ]
  },
  {
   "cell_type": "markdown",
   "metadata": {},
   "source": [
    "- Para juntar  dos diccionarios:"
   ]
  },
  {
   "cell_type": "code",
   "execution_count": 21,
   "metadata": {},
   "outputs": [],
   "source": [
    "d_1 = {'one': 1, 'four': 4} # Sabemos que es un diccionario y no un set, porque tenemos clave:valor\n",
    "d_2 = {'ten': 10, 'five': 5}"
   ]
  },
  {
   "cell_type": "code",
   "execution_count": 22,
   "metadata": {},
   "outputs": [
    {
     "data": {
      "text/plain": [
       "{'one': 1, 'four': 4, 'ten': 10, 'five': 5}"
      ]
     },
     "execution_count": 22,
     "metadata": {},
     "output_type": "execute_result"
    }
   ],
   "source": [
    "d_1.update(d_2)\n",
    "d_1"
   ]
  },
  {
   "cell_type": "code",
   "execution_count": 23,
   "metadata": {},
   "outputs": [
    {
     "data": {
      "text/plain": [
       "{'one': 1, 'four': 4, 'ten': 10, 'five': 5}"
      ]
     },
     "execution_count": 23,
     "metadata": {},
     "output_type": "execute_result"
    }
   ],
   "source": [
    "# Otra manera de hacerlo\n",
    "# Para desempaquetar en los diccionarios usamos dos asteriscos (en las listas usábamos uno solo)\n",
    "\n",
    "d_new = {**d_1, **d_2}\n",
    "d_new"
   ]
  },
  {
   "cell_type": "markdown",
   "metadata": {},
   "source": [
    "- **clear( )** elimina todos los elementos."
   ]
  },
  {
   "cell_type": "code",
   "execution_count": 24,
   "metadata": {},
   "outputs": [
    {
     "name": "stdout",
     "output_type": "stream",
     "text": [
      "{}\n"
     ]
    }
   ],
   "source": [
    "d.clear()\n",
    "print(d)"
   ]
  },
  {
   "cell_type": "markdown",
   "metadata": {},
   "source": [
    "# Ejercicios"
   ]
  },
  {
   "cell_type": "markdown",
   "metadata": {},
   "source": [
    "**1.6.1.** Escribir un programa que pregunte al usuario su nombre, edad, dirección y teléfono y lo guarde en un diccionario. Despúes debe mostrar por pantalla el mensaje <nombre> tiene <edad> años, vive en <dirección> y su número de teléfono es <teléfono>."
   ]
  },
  {
   "cell_type": "code",
   "execution_count": null,
   "metadata": {},
   "outputs": [],
   "source": []
  },
  {
   "cell_type": "markdown",
   "metadata": {},
   "source": [
    "**1.6.2.** Escribir un programa que guarde en un diccionario los precios de las frutas de la tabla, pregunte al usuario por una fruta, un número de kilos y muestre por pantalla el precio de ese número de kilos de fruta.\n",
    "\n",
    "\n",
    "|Fruta|Precio|\n",
    "|-|-|\n",
    "|Plátano|1.35|\n",
    "|Manzana|0.80|\n",
    "|Pera|0.85|\n",
    "|Naranja|0.70|\n"
   ]
  },
  {
   "cell_type": "code",
   "execution_count": null,
   "metadata": {},
   "outputs": [],
   "source": []
  },
  {
   "cell_type": "markdown",
   "metadata": {},
   "source": [
    "**1.6.3.** Teniendo la siguiente tabla de cotizaciones, ¿cómo podríamos guardar esta información usando diccionarios?\n",
    "\n",
    "\n",
    "|SAN|TEL|REP|IAG|\n",
    "|-|-|-|-|\n",
    "|2.10|3.89|7.10|1.99|\n",
    "|2.13|3.65|7.01|1.81|\n",
    "|2.22|3.54|7.07|1.74|\n",
    "|2.19|3.22|7.09|1.81|\n",
    "|2.11|3.36|6.54|1.72|\n",
    "|2.15|3.31|6.22|1.69|\n",
    "|2.10|3.87|6.35|1.54|\n",
    "|2.01|3.99|6.11|1.22|\n",
    "\n",
    "Recupera las cotizaciones de Tel en una variable independiente \"Telefonica\""
   ]
  },
  {
   "cell_type": "code",
   "execution_count": null,
   "metadata": {},
   "outputs": [],
   "source": []
  },
  {
   "cell_type": "markdown",
   "metadata": {},
   "source": [
    "**1.6.4.** ¿Y si además tuviéramos una columna de fecha?, ¿cómo usarías los diccionarios para guardar la información?\n",
    "\n",
    "|Fecha|SAN|TEL|REP|IAG|\n",
    "|-|-|-|-|-|\n",
    "|29/1/2020|2.10|3.89|7.10|1.99|\n",
    "|30/1/2020|2.13|3.65|7.01|1.81|\n",
    "|2/2/2020|2.22|3.54|7.07|1.74|\n",
    "|3/2/2020|2.19|3.22|7.09|1.81|\n",
    "|4/2/2020|2.11|3.36|6.54|1.72|\n",
    "|5/2/2020|2.15|3.31|6.22|1.69|\n",
    "|6/2/2020|2.10|3.87|6.35|1.54|\n",
    "|9/2/2020|2.01|3.99|6.11|1.22|\n",
    "\n",
    "Recupera el valor de Repsol el 2 de febrero de 2020 y guárdalo en una variable"
   ]
  },
  {
   "cell_type": "code",
   "execution_count": null,
   "metadata": {},
   "outputs": [],
   "source": []
  }
 ],
 "metadata": {
  "celltoolbar": "Raw Cell Format",
  "kernelspec": {
   "display_name": "Python 3",
   "language": "python",
   "name": "python3"
  },
  "language_info": {
   "codemirror_mode": {
    "name": "ipython",
    "version": 3
   },
   "file_extension": ".py",
   "mimetype": "text/x-python",
   "name": "python",
   "nbconvert_exporter": "python",
   "pygments_lexer": "ipython3",
   "version": "3.7.6"
  }
 },
 "nbformat": 4,
 "nbformat_minor": 4
}
