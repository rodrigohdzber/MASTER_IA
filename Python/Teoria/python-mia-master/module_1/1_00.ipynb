{
 "cells": [
  {
   "cell_type": "markdown",
   "metadata": {},
   "source": [
    "# 1.0. Instalación Python"
   ]
  },
  {
   "cell_type": "markdown",
   "metadata": {},
   "source": [
    "\n",
    "\n",
    "\n",
    "- Opción fácil desde Anconda.\n",
    "-https://www.anaconda.com/distribution/\n",
    "- IMPORTANTE: si te pregunta qué navegador usar, selecciona Chrome. Si te equivocas, tendrás que cambiar el navegador predeterminado: panel de control / navegador / cambiar navegador predeterminado\n",
    " \n",
    "<center>\n",
    "<img src=\"./imgs/anaconda.png\"  alt=\"drawing\" width=\"500\"/>\n",
    "</center>\n",
    "\n",
    "<center>\n",
    "<img src=\"./imgs/anaconda_nav.png\"  alt=\"drawing\" width=\"700\"/>\n",
    "</center>\n",
    "\n",
    "- Desde Python Software Foundation: Versión 3.6 o 3.7\n",
    " - https://www.python.org/downloads/\n",
    "<center>\n",
    "<img src=\"./imgs/python_web.png\"  alt=\"drawing\" width=\"500\"/>\n",
    "</center>"
   ]
  },
  {
   "cell_type": "markdown",
   "metadata": {},
   "source": [
    "## Instalación de librerías y entorno de programación"
   ]
  },
  {
   "cell_type": "markdown",
   "metadata": {},
   "source": [
    "### Virtual enviroment\n",
    "\n",
    "<center>\n",
    "<img src=\"./imgs/venv_2.png\"  alt=\"drawing\" width=\"600\"/>\n",
    "</center>\n",
    "\n",
    "1. Abrir una terminal:\n",
    " * En windows: boton derecho sobre el icono de windows.\n",
    "2. Creación del virtual enviroment:\n",
    " * ```\n",
    "python3 -m venv tutorial-env\n",
    "```\n",
    " * Se crea una carpeta con el nombre tutorial-env en el directorio donde nos encontremos (para saberlo usar pwd).\n",
    "2. Activar el virtual enviroment:\n",
    " * En Windows, ejecuta uno de los siguientes comandos (depende de la versión):\n",
    "    - ```\n",
    "tutorial-env\\Scripts\\activate.bat\n",
    "    ```\n",
    "    - ```\n",
    "    & tutorial-env/Scripts/activate.ps1\n",
    "    ```\n",
    " * En Unix or MacOS, run:\n",
    "```\n",
    "source tutorial-env/bin/activate\n",
    "```\n",
    " * Si en windows extieran problemas de permisos ejecutar en una termial con permisos de administración los siguientes comandos:\n",
    "  ```\n",
    "  get-ExecutionPolicy\n",
    "  ```\n",
    "  ```\n",
    "  Set-ExecutionPolicy Unrestricted\n",
    "  ```\n",
    "3. Aparecera: (tutorial-env) a la izquierda.\n",
    "4. Instalar las libs en el virtualenviroment:\n",
    " * Para instalar jupyterlab:\n",
    "    - ```\n",
    "pip install jupyterlab\n",
    "```\n",
    "5. Para iniciar jupyterlab:\n",
    "  - ```\n",
    "jupyter-lab\n",
    "```\n",
    "\n",
    "\n",
    "### Requirements file\n",
    "- Para instalar todas las requeridas para el proyecto:\n",
    "  - ```\n",
    "pip install -r requirements.txt\n",
    "```\n",
    "- Ver todas las librerías instaladas:\n",
    "  - ```\n",
    " pip freeze\n",
    "```\n",
    "- Guardar las instaladas en un fichero:\n",
    "  - ```\n",
    " pip freeze > requirements.txt\n",
    "```"
   ]
  },
  {
   "cell_type": "markdown",
   "metadata": {},
   "source": [
    "## Librerías más usadas\n",
    "<center>\n",
    "<img src=\"imgs/scipy_ecosystem.png\"  alt=\"drawing\" width=\"600\"/>\n",
    "</center>"
   ]
  }
 ],
 "metadata": {
  "kernelspec": {
   "display_name": "Python 3",
   "language": "python",
   "name": "python3"
  },
  "language_info": {
   "codemirror_mode": {
    "name": "ipython",
    "version": 3
   },
   "file_extension": ".py",
   "mimetype": "text/x-python",
   "name": "python",
   "nbconvert_exporter": "python",
   "pygments_lexer": "ipython3",
   "version": "3.7.6"
  }
 },
 "nbformat": 4,
 "nbformat_minor": 4
}
