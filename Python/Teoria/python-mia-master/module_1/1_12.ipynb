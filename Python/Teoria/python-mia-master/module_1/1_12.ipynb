{
 "cells": [
  {
   "cell_type": "markdown",
   "metadata": {},
   "source": [
    "# 1.12. Escritura de ficheros de texto y guardado de variables\n",
    "## Escritura de ficheros de texto "
   ]
  },
  {
   "cell_type": "markdown",
   "metadata": {},
   "source": [
    "- Por norma general trabajaréis con csv o pickle, por lo que no necesitáreis trabajar con ficheros en bruto. Pero, por si acaso, lo explicamos:\n",
    "- Se abre el fichero con **open(path, modo)**.\n",
    "- Los modos de apertura son los siguientes:\n",
    "\n",
    "\n",
    "|Modo|Description|\n",
    "|----|---|\n",
    "|`'r'`| Read (default).|\n",
    "|`'w'`| Write (truncate).|\n",
    "|`'x'`| Write or fail if the file already exists.|\n",
    "|`'a'`| Append.|\n",
    "|`'w+'`| Read and write (truncate).|\n",
    "|`'r+'`| Read and write from the start.|\n",
    "|`'a+'`| Read and write from the end.|\n",
    "|`'t'`| Text mode (default).|\n",
    "|`'b'`| Binary mode.|\n",
    "\n",
    "- Cierre del fichero una vez se ha finalizado el trabajo con el mismo, con **fichero.close()**"
   ]
  },
  {
   "cell_type": "code",
   "execution_count": null,
   "metadata": {},
   "outputs": [],
   "source": [
    "f = open(\"prueba.txt\", \"w\") # Abre un txt existente (borrando el contenido), y si no existe, lo crea.\n",
    "f.write(\"Esto\\n\")\n",
    "f.write(\"es\\n\")\n",
    "f.write(\"una\\n\")\n",
    "f.write(\"prueba\\n\")\n",
    "f.close()"
   ]
  },
  {
   "cell_type": "markdown",
   "metadata": {},
   "source": [
    "- Idealmente se utilizan un *context manager* para no tener que cerrar el fichero explícitamente. Una vez termina de ejecutar se guarda automáticamente."
   ]
  },
  {
   "cell_type": "code",
   "execution_count": null,
   "metadata": {},
   "outputs": [],
   "source": [
    "with open(\"prueba.txt\", \"w\") as f:\n",
    "    f.write(\"Esto\\n\")\n",
    "    f.write(\"es\\n\")\n",
    "    f.write(\"una\\n\")\n",
    "    f.write(\"prueba\\n\")"
   ]
  },
  {
   "cell_type": "markdown",
   "metadata": {},
   "source": [
    "- Para leer podemos usar los métodos **read()** o **readlines()**:"
   ]
  },
  {
   "cell_type": "code",
   "execution_count": null,
   "metadata": {},
   "outputs": [],
   "source": [
    "with open(\"prueba.txt\", \"r\") as f:\n",
    "    line = f.readline()\n",
    "print(line)"
   ]
  },
  {
   "cell_type": "code",
   "execution_count": null,
   "metadata": {},
   "outputs": [],
   "source": [
    "with open(\"prueba.txt\", \"r\") as f:\n",
    "    lines = f.readlines()\n",
    "    \n",
    "print(lines)"
   ]
  },
  {
   "cell_type": "markdown",
   "metadata": {},
   "source": [
    "- Cuando avancemos un poco más utilizaremos librerías, como Pandas, para importar ficheros. \n",
    "- Os dejo un ejemplo, pero de momento lo dejaremos aquí."
   ]
  },
  {
   "cell_type": "code",
   "execution_count": 1,
   "metadata": {},
   "outputs": [],
   "source": [
    "import pandas as pd\n",
    "df = pd.read_csv ('ibex_div.csv', index_col=0)"
   ]
  },
  {
   "cell_type": "code",
   "execution_count": 2,
   "metadata": {},
   "outputs": [
    {
     "data": {
      "text/html": [
       "<div>\n",
       "<style scoped>\n",
       "    .dataframe tbody tr th:only-of-type {\n",
       "        vertical-align: middle;\n",
       "    }\n",
       "\n",
       "    .dataframe tbody tr th {\n",
       "        vertical-align: top;\n",
       "    }\n",
       "\n",
       "    .dataframe thead th {\n",
       "        text-align: right;\n",
       "    }\n",
       "</style>\n",
       "<table border=\"1\" class=\"dataframe\">\n",
       "  <thead>\n",
       "    <tr style=\"text-align: right;\">\n",
       "      <th></th>\n",
       "      <th>close</th>\n",
       "      <th>high</th>\n",
       "      <th>low</th>\n",
       "      <th>open</th>\n",
       "      <th>vol</th>\n",
       "    </tr>\n",
       "  </thead>\n",
       "  <tbody>\n",
       "    <tr>\n",
       "      <th>2003-07-30</th>\n",
       "      <td>9755.3</td>\n",
       "      <td>9755.3</td>\n",
       "      <td>9755.3</td>\n",
       "      <td>9755.3</td>\n",
       "      <td>0</td>\n",
       "    </tr>\n",
       "    <tr>\n",
       "      <th>2003-07-31</th>\n",
       "      <td>9755.3</td>\n",
       "      <td>9755.3</td>\n",
       "      <td>9755.3</td>\n",
       "      <td>9755.3</td>\n",
       "      <td>0</td>\n",
       "    </tr>\n",
       "    <tr>\n",
       "      <th>2003-08-01</th>\n",
       "      <td>9785.1</td>\n",
       "      <td>9785.1</td>\n",
       "      <td>9785.1</td>\n",
       "      <td>9863.3</td>\n",
       "      <td>0</td>\n",
       "    </tr>\n",
       "    <tr>\n",
       "      <th>2003-08-04</th>\n",
       "      <td>9714.6</td>\n",
       "      <td>9714.6</td>\n",
       "      <td>9714.6</td>\n",
       "      <td>9785.1</td>\n",
       "      <td>0</td>\n",
       "    </tr>\n",
       "    <tr>\n",
       "      <th>2003-08-05</th>\n",
       "      <td>9779.3</td>\n",
       "      <td>9779.3</td>\n",
       "      <td>9779.3</td>\n",
       "      <td>9714.6</td>\n",
       "      <td>0</td>\n",
       "    </tr>\n",
       "  </tbody>\n",
       "</table>\n",
       "</div>"
      ],
      "text/plain": [
       "             close    high     low    open  vol\n",
       "2003-07-30  9755.3  9755.3  9755.3  9755.3    0\n",
       "2003-07-31  9755.3  9755.3  9755.3  9755.3    0\n",
       "2003-08-01  9785.1  9785.1  9785.1  9863.3    0\n",
       "2003-08-04  9714.6  9714.6  9714.6  9785.1    0\n",
       "2003-08-05  9779.3  9779.3  9779.3  9714.6    0"
      ]
     },
     "execution_count": 2,
     "metadata": {},
     "output_type": "execute_result"
    }
   ],
   "source": [
    "df.head(5)"
   ]
  },
  {
   "cell_type": "markdown",
   "metadata": {},
   "source": [
    "## Guardado de variables con pickle"
   ]
  },
  {
   "cell_type": "markdown",
   "metadata": {},
   "source": [
    "- Las variables se pueden guardar de forma serializada utilizando la librería *pickle*.\n",
    "- Es la forma más sencilla de trabajar con ficheros.\n",
    "- Si vamos a trabajar con otras personas, se suelen utilizar csv o pickle. \n",
    "- Para guardar:"
   ]
  },
  {
   "cell_type": "code",
   "execution_count": 5,
   "metadata": {},
   "outputs": [],
   "source": [
    "import pickle"
   ]
  },
  {
   "cell_type": "code",
   "execution_count": 6,
   "metadata": {},
   "outputs": [],
   "source": [
    "# Voy a querer guardar un objeto del tipo lista\n",
    "v_to_save = ['hola', 'me', 'guardo'] "
   ]
  },
  {
   "cell_type": "code",
   "execution_count": 7,
   "metadata": {},
   "outputs": [],
   "source": [
    "# Abro un fichero, le indico el nombre del fichero y la tipología (escribir binario wb)\n",
    "\n",
    "with open('mis_variables.pkl', 'wb') as f:\n",
    "    pickle.dump(v_to_save, f)"
   ]
  },
  {
   "cell_type": "markdown",
   "metadata": {},
   "source": [
    "- Para leer, para recuperar el fichero:"
   ]
  },
  {
   "cell_type": "code",
   "execution_count": 8,
   "metadata": {},
   "outputs": [],
   "source": [
    "with open('mis_variables.pkl', 'rb') as f:\n",
    "    guardada = pickle.load(f)"
   ]
  },
  {
   "cell_type": "code",
   "execution_count": 9,
   "metadata": {},
   "outputs": [
    {
     "data": {
      "text/plain": [
       "['hola', 'me', 'guardo']"
      ]
     },
     "execution_count": 9,
     "metadata": {},
     "output_type": "execute_result"
    }
   ],
   "source": [
    "guardada"
   ]
  },
  {
   "cell_type": "markdown",
   "metadata": {},
   "source": [
    "___\n",
    "# Ejercicios"
   ]
  },
  {
   "cell_type": "markdown",
   "metadata": {},
   "source": [
    "**1.12.1.** Abre el fichero tickers.txt y obten los tickers únicos. Guarda el resultado en otro fichero txt."
   ]
  },
  {
   "cell_type": "code",
   "execution_count": null,
   "metadata": {},
   "outputs": [],
   "source": []
  },
  {
   "cell_type": "markdown",
   "metadata": {},
   "source": [
    "**1.12.2.** Carga el fichero ibex_div.csv y calcula su precio máximo, mínimo y medio, de la columna close. Guarda los resultados en un pickle.\n",
    "- Si pinchas en el propio csv desde el notebook, se abre y puedes explorarlo (como en R)"
   ]
  },
  {
   "cell_type": "code",
   "execution_count": null,
   "metadata": {},
   "outputs": [],
   "source": []
  }
 ],
 "metadata": {
  "kernelspec": {
   "display_name": "Python 3",
   "language": "python",
   "name": "python3"
  },
  "language_info": {
   "codemirror_mode": {
    "name": "ipython",
    "version": 3
   },
   "file_extension": ".py",
   "mimetype": "text/x-python",
   "name": "python",
   "nbconvert_exporter": "python",
   "pygments_lexer": "ipython3",
   "version": "3.7.6"
  }
 },
 "nbformat": 4,
 "nbformat_minor": 4
}
