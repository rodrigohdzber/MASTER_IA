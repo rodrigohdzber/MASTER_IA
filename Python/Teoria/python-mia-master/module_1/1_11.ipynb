{
 "cells": [
  {
   "cell_type": "markdown",
   "metadata": {},
   "source": [
    "# 1.11. Módulos y Scripts\n",
    "## Módulos\n",
    "- En un script de Python tienes acceso a todas las variables y funciones definidas en el propio fichero.</li>\n",
    "- Es posible acceder a elementos definidos en otros ficheros mediante la importación de módulos.</li>\n",
    "- Un fichero .py es un módulo en Python cuyo nombre es el mismo que el del fichero (sin extensión).</li>\n",
    "- La forma de incorporar elementos definidos en un módulo es mediante el uso de la sentencia <i>import</i>.</li>\n",
    "\n",
    "Las librerías se empaquetan en diferentes módulos, algunos de los módulos más conocidos de la librería base son:\n",
    "- sys: Funcionalidad y configuración del intérprete de Python (p.e. rutas donde buscar módulos).\n",
    "- os: Funcionalidad propia del sistema operativo (p.e. gestión de logins, usuarios, etc.).\n",
    "- os.path: Funcionalidad para la gestión de directorios.\n",
    "- math: Funciones matemáticas.\n",
    "- random: Funciones para generación de números aleatorios.\n",
    "\n"
   ]
  },
  {
   "cell_type": "code",
   "execution_count": 1,
   "metadata": {},
   "outputs": [],
   "source": [
    "import math"
   ]
  },
  {
   "cell_type": "code",
   "execution_count": 2,
   "metadata": {},
   "outputs": [
    {
     "data": {
      "text/plain": [
       "-1.0"
      ]
     },
     "execution_count": 2,
     "metadata": {},
     "output_type": "execute_result"
    }
   ],
   "source": [
    "math.cos(math.pi)"
   ]
  },
  {
   "cell_type": "markdown",
   "metadata": {},
   "source": [
    "Si no quiero escribir siempre math, puedo importar el módulo renombrándolo"
   ]
  },
  {
   "cell_type": "code",
   "execution_count": 3,
   "metadata": {},
   "outputs": [],
   "source": [
    "import math as m"
   ]
  },
  {
   "cell_type": "code",
   "execution_count": 4,
   "metadata": {},
   "outputs": [
    {
     "data": {
      "text/plain": [
       "-1.0"
      ]
     },
     "execution_count": 4,
     "metadata": {},
     "output_type": "execute_result"
    }
   ],
   "source": [
    "m.cos(m.pi)"
   ]
  },
  {
   "cell_type": "markdown",
   "metadata": {},
   "source": [
    "No tengo porqué importar todas las funciones del módulo. Puedo importar solo aquellas que necesito."
   ]
  },
  {
   "cell_type": "code",
   "execution_count": 5,
   "metadata": {},
   "outputs": [],
   "source": [
    "from math import cos\n",
    "from math import pi"
   ]
  },
  {
   "cell_type": "code",
   "execution_count": 6,
   "metadata": {},
   "outputs": [
    {
     "data": {
      "text/plain": [
       "-1.0"
      ]
     },
     "execution_count": 6,
     "metadata": {},
     "output_type": "execute_result"
    }
   ],
   "source": [
    "cos(pi)"
   ]
  },
  {
   "cell_type": "markdown",
   "metadata": {},
   "source": [
    "Se recomienda no importar el módulo al completo, dado que no sabes qué estás importando"
   ]
  },
  {
   "cell_type": "code",
   "execution_count": 8,
   "metadata": {},
   "outputs": [],
   "source": [
    "# LO PEOR DE LO PEOR\n",
    "from math import *"
   ]
  },
  {
   "cell_type": "markdown",
   "metadata": {},
   "source": [
    "Puede parecer igual, pero no es lo mismo\n",
    "\n",
    "- import math: importa el módulo y crea una referencia a ese módulo en el espacio de nombres actual\n",
    "- from math import * importa el módulo y crea referencias a todos los objetos públicos definidos por ese módulo en el espacio de nombres actual"
   ]
  },
  {
   "cell_type": "code",
   "execution_count": 9,
   "metadata": {},
   "outputs": [
    {
     "name": "stdout",
     "output_type": "stream",
     "text": [
      "-1.0\n",
      "0.0\n",
      "0.0\n"
     ]
    }
   ],
   "source": [
    "print(cos(pi))\n",
    "print(sin(0))\n",
    "print(log(1))"
   ]
  },
  {
   "cell_type": "markdown",
   "metadata": {},
   "source": [
    "- Podemos importar nuestros propios módulos (nuestros ficheros .py)\n",
    "- Lo primero que debemos saber es nuestra ruta de trabajo"
   ]
  },
  {
   "cell_type": "code",
   "execution_count": 11,
   "metadata": {},
   "outputs": [
    {
     "data": {
      "text/plain": [
       "'C:\\\\Users\\\\gmelendez\\\\Desktop\\\\Máster de IA aplicada a Bolsa\\\\python-mia-master\\\\module_1'"
      ]
     },
     "execution_count": 11,
     "metadata": {},
     "output_type": "execute_result"
    }
   ],
   "source": [
    "import os\n",
    "os.getcwd()"
   ]
  },
  {
   "cell_type": "markdown",
   "metadata": {},
   "source": [
    "- El fichero a importar debe estar en nuestra ruta de trabajo"
   ]
  },
  {
   "cell_type": "code",
   "execution_count": 12,
   "metadata": {},
   "outputs": [],
   "source": [
    "import my_module"
   ]
  },
  {
   "cell_type": "markdown",
   "metadata": {},
   "source": [
    "- Si el fichero a importar estuviese en otra ruta, debemos indicar/añadir la ruta, para poder hacer la importación"
   ]
  },
  {
   "cell_type": "code",
   "execution_count": null,
   "metadata": {},
   "outputs": [],
   "source": [
    "import sys\n",
    "sys.path.insert(0, 'c:/Users/gmele/Downloads/python-mia-master')\n",
    "import my_module"
   ]
  },
  {
   "cell_type": "markdown",
   "metadata": {},
   "source": [
    "- IMPORTANTE: si hacemos algún cambio en my_module y tratamos de volverlo a importar, no lo va a importar (por lo que no va a funcionar). \n",
    "- Lo que tenemos que hacer es reiniciar el kernel"
   ]
  },
  {
   "cell_type": "code",
   "execution_count": 13,
   "metadata": {},
   "outputs": [
    {
     "data": {
      "text/plain": [
       "3"
      ]
     },
     "execution_count": 13,
     "metadata": {},
     "output_type": "execute_result"
    }
   ],
   "source": [
    "my_module.suma(1,2)"
   ]
  },
  {
   "cell_type": "code",
   "execution_count": 14,
   "metadata": {},
   "outputs": [
    {
     "data": {
      "text/plain": [
       "6"
      ]
     },
     "execution_count": 14,
     "metadata": {},
     "output_type": "execute_result"
    }
   ],
   "source": [
    "my_module.suma_elementos(1,2,3)"
   ]
  },
  {
   "cell_type": "markdown",
   "metadata": {},
   "source": [
    "## Instalar librerías"
   ]
  },
  {
   "cell_type": "markdown",
   "metadata": {},
   "source": [
    "Aunque Anaconda tiene muchas librerías preinstaladas, no siempre tendremos todas las que queramos utilizar"
   ]
  },
  {
   "cell_type": "code",
   "execution_count": 15,
   "metadata": {},
   "outputs": [],
   "source": [
    "import sklearn as sk"
   ]
  },
  {
   "cell_type": "markdown",
   "metadata": {},
   "source": [
    "Este es el error que saldría ModuleNotFoundError: No module named 'sklearn'"
   ]
  },
  {
   "cell_type": "markdown",
   "metadata": {},
   "source": [
    "Para poder utilizarlas, tendremos que instalar las librerías antes de poder importarlas"
   ]
  },
  {
   "cell_type": "code",
   "execution_count": null,
   "metadata": {},
   "outputs": [],
   "source": [
    "!pip install sklearn"
   ]
  },
  {
   "cell_type": "markdown",
   "metadata": {},
   "source": [
    "Una vez instalada, podremos importar el módulo"
   ]
  },
  {
   "cell_type": "code",
   "execution_count": null,
   "metadata": {},
   "outputs": [],
   "source": [
    "import sklearn as sk"
   ]
  },
  {
   "cell_type": "markdown",
   "metadata": {},
   "source": [
    "## Scripts\n",
    "- Podemos ejecutar nuestros programas desde la terminal, tanto de Python como del sistema operativo. O diréctamente desde una celda.\n",
    "- Para ello creamos un fichero python (.py) y lo ejecutamos usando %run (+ text file, renombramos con botón derecho prueba.py)"
   ]
  },
  {
   "cell_type": "code",
   "execution_count": 16,
   "metadata": {},
   "outputs": [
    {
     "name": "stdout",
     "output_type": "stream",
     "text": [
      "Esto funciona\n",
      "22\n",
      "Podríamos hacer cualquier cosa\n"
     ]
    }
   ],
   "source": [
    "%run -i prueba.py"
   ]
  },
  {
   "cell_type": "markdown",
   "metadata": {},
   "source": [
    "- Podemos tener un fichero de Python que queramos que sea un módulo (para poder importar sus funciones) y que cuando lo ejecutemos, una determinada parte se ejecute como un script\n",
    "- Para ello utilizaríamos el siguiente estamento. Lo veremos con detalle en la parte de programación orientada a objetos."
   ]
  },
  {
   "cell_type": "code",
   "execution_count": null,
   "metadata": {},
   "outputs": [],
   "source": [
    "def main():\n",
    "    # poner aqui el codigo a ejecutar\n",
    "    print('El módulo se ha cargado con éxito')\n",
    "\n",
    "if __name__ == \"__main__\":\n",
    "    main()"
   ]
  },
  {
   "cell_type": "markdown",
   "metadata": {},
   "source": [
    "___\n",
    "# Ejercicios"
   ]
  },
  {
   "cell_type": "markdown",
   "metadata": {},
   "source": [
    "**1.11.1.** Incluye las funciones de los ejercicios **1.10.5** y  **1.10.6** en un módulo, impórtalas y úsalas.\n",
    "\n",
    "- 1.10.5. Escribe una función que calcule el área de un círculo recibiendo como parámetro su radio (valor por defecto 1). El módulo math de Python contiene una constante para PI.\n",
    "- 1.10.6. Escribe una función que devuelva una lista con n números aleatorios entre 0 y 10 generados con una distribución uniforme (n es un parámetro obligatorio). El módulo random de Python contiene una función uniform."
   ]
  },
  {
   "cell_type": "code",
   "execution_count": null,
   "metadata": {},
   "outputs": [],
   "source": []
  }
 ],
 "metadata": {
  "kernelspec": {
   "display_name": "Python 3",
   "language": "python",
   "name": "python3"
  },
  "language_info": {
   "codemirror_mode": {
    "name": "ipython",
    "version": 3
   },
   "file_extension": ".py",
   "mimetype": "text/x-python",
   "name": "python",
   "nbconvert_exporter": "python",
   "pygments_lexer": "ipython3",
   "version": "3.7.6"
  }
 },
 "nbformat": 4,
 "nbformat_minor": 4
}
