{
 "cells": [
  {
   "cell_type": "markdown",
   "metadata": {},
   "source": [
    "# 8.4. Análisis de rendimiento y Vectorización."
   ]
  },
  {
   "cell_type": "code",
   "execution_count": null,
   "metadata": {},
   "outputs": [],
   "source": [
    "import numpy as np"
   ]
  },
  {
   "cell_type": "markdown",
   "metadata": {},
   "source": [
    "Ejemplos de cómo vectorizar progresivamente una instrucción:\n",
    "\n",
    "```R\n",
    "rent_activos[2,1]<-log(activos[2,1]/activos[1,1]) # 1 activo un día\n",
    "rent_activos[2,1:length(activos)] <- log(activos[2,1:length(activos)]/activos[2-1,1:length(activos)]) # Todos los act un solo día (día 2)\n",
    "rent_activos[2:5,1:length(activos)] <- log(activos[2:5,1:length(activos)]/activos[(2:5)-1,1:length(activos)]) # Todos los act días 2 a 5\n",
    " \n",
    "# Todos los activos todos los días\n",
    "rent_activos[2:dim(activos)[1],1:length(activos)] <-log(activos[2:dim(activos)[1],1:length(activos)]/activos[2:dim(activos)[1]-1,1:length(activos)])\n",
    "```\n"
   ]
  },
  {
   "cell_type": "markdown",
   "metadata": {},
   "source": [
    "## Con funciones de numpy"
   ]
  },
  {
   "cell_type": "markdown",
   "metadata": {},
   "source": [
    "- Para hacer eso existe la funcion numpy.diff.\n",
    "- La indexación directa la intentamos evitar lo máximo posible por que solo la persona que ha escrito ese código sabe lo que hace y al resto tenemos que perder el tiempo para enterderlo\n",
    "- Solo lo usamos cuando no queda más remedio (no tenemos funciones que lo hagan)"
   ]
  },
  {
   "cell_type": "code",
   "execution_count": null,
   "metadata": {},
   "outputs": [],
   "source": [
    "# para un único actiovo\n",
    "p_activo = np.linspace(1,20,50)\n",
    "print(p_activo)\n",
    "\n",
    "r_activo = np.diff(np.log(p_activo))\n",
    "print(r_activo)"
   ]
  },
  {
   "cell_type": "code",
   "execution_count": null,
   "metadata": {},
   "outputs": [],
   "source": [
    "# para un varios activos\n",
    "matrix_price = np.random.uniform(0,20, (50,5))\n",
    "print(matrix_price)\n",
    "\n",
    "# se aplica diff por filas\n",
    "matrix_return = np.diff(np.log(matrix_price), axis=0)\n",
    "matrix_return"
   ]
  },
  {
   "cell_type": "markdown",
   "metadata": {},
   "source": [
    "## Con Index\n",
    "Como lo pone Guillermo se hace exactamente de la misma manera"
   ]
  },
  {
   "cell_type": "code",
   "execution_count": null,
   "metadata": {},
   "outputs": [],
   "source": [
    "matrix_price.shape # dias x activos"
   ]
  },
  {
   "cell_type": "markdown",
   "metadata": {},
   "source": [
    "``` R\n",
    "rent_activos[2,1]<-log(activos[2,1]/activos[1,1]) # 1 activo un día\n",
    "```"
   ]
  },
  {
   "cell_type": "code",
   "execution_count": null,
   "metadata": {},
   "outputs": [],
   "source": [
    "np.log(matrix_price[1,0]/matrix_price[0,0])"
   ]
  },
  {
   "cell_type": "code",
   "execution_count": null,
   "metadata": {},
   "outputs": [],
   "source": [
    "# mismo resultado\n",
    "matrix_return[0,0]"
   ]
  },
  {
   "cell_type": "markdown",
   "metadata": {},
   "source": [
    "en caso de querer guardarlos se hace de la misma manera pero definiendo la matriz ret_activos como zeros: "
   ]
  },
  {
   "cell_type": "code",
   "execution_count": null,
   "metadata": {},
   "outputs": [],
   "source": [
    "rent_activos = np.zeros((matrix_price.shape[0]-1, matrix_price.shape[1]))"
   ]
  },
  {
   "cell_type": "code",
   "execution_count": null,
   "metadata": {},
   "outputs": [],
   "source": [
    "rent_activos[0, 0] = np.log(matrix_price[1,0]/matrix_price[0,0])"
   ]
  },
  {
   "cell_type": "markdown",
   "metadata": {},
   "source": [
    "``` R\n",
    "rent_activos[2,1:length(activos)] <- log(activos[2,1:length(activos)]/activos[2-1,1:length(activos)]) # Todos los act un solo día (día 2)\n",
    "```"
   ]
  },
  {
   "cell_type": "code",
   "execution_count": null,
   "metadata": {},
   "outputs": [],
   "source": [
    "np.log(matrix_price[1,:] / matrix_price[0,:]) # no hace fata el length por que tenemos los dos puntos :"
   ]
  },
  {
   "cell_type": "markdown",
   "metadata": {},
   "source": [
    "``` R\n",
    "rent_activos[2:5,1:length(activos)] <- log(activos[2:5,1:length(activos)]/activos[(2:5)-1,1:length(activos)]) # Todos los act días 2 a 5\n",
    "```"
   ]
  },
  {
   "cell_type": "code",
   "execution_count": null,
   "metadata": {},
   "outputs": [],
   "source": [
    "np.log(matrix_price[1:6,:] /matrix_price[0:5,:])"
   ]
  },
  {
   "cell_type": "code",
   "execution_count": null,
   "metadata": {},
   "outputs": [],
   "source": [
    "# mismo resultado\n",
    "matrix_return[:5,:]"
   ]
  },
  {
   "cell_type": "markdown",
   "metadata": {},
   "source": [
    "``` R\n",
    "# Todos los activos todos los días\n",
    "rent_activos[2:dim(activos)[1],1:length(activos)] <-log(activos[2:dim(activos)[1],1:length(activos)]/activos[2:dim(activos)[1]-1,1:length(activos)])\n",
    "```\n"
   ]
  },
  {
   "cell_type": "code",
   "execution_count": null,
   "metadata": {},
   "outputs": [],
   "source": [
    "result = np.log(matrix_price[1:,:] / matrix_price[0:-1,:])"
   ]
  },
  {
   "cell_type": "code",
   "execution_count": null,
   "metadata": {},
   "outputs": [],
   "source": [
    "result[:5, :]"
   ]
  },
  {
   "cell_type": "code",
   "execution_count": null,
   "metadata": {},
   "outputs": [],
   "source": [
    "result[-5:, :]"
   ]
  },
  {
   "cell_type": "code",
   "execution_count": null,
   "metadata": {},
   "outputs": [],
   "source": [
    "# mismo resultado\n",
    "matrix_return[-5:,:]"
   ]
  },
  {
   "cell_type": "markdown",
   "metadata": {},
   "source": [
    "#### En pandas"
   ]
  },
  {
   "cell_type": "code",
   "execution_count": null,
   "metadata": {},
   "outputs": [],
   "source": [
    "# en pandas se hace de la misma manera\n",
    "import pandas as pd\n",
    "serie = pd.Series(np.linspace(1,20,50))"
   ]
  },
  {
   "cell_type": "code",
   "execution_count": null,
   "metadata": {},
   "outputs": [],
   "source": [
    "retornos = np.log(serie).diff()\n",
    "retornos"
   ]
  },
  {
   "cell_type": "code",
   "execution_count": null,
   "metadata": {},
   "outputs": [],
   "source": [
    "df = pd.DataFrame({f\"asset: {i}\": np.linspace(1,20,50) for i in range(5)})"
   ]
  },
  {
   "cell_type": "code",
   "execution_count": null,
   "metadata": {},
   "outputs": [],
   "source": [
    "retornos = np.log(df).diff()\n",
    "retornos"
   ]
  },
  {
   "cell_type": "markdown",
   "metadata": {},
   "source": [
    "## 50.000 combinaciones de lotería. Objetivo: Análisis de rendimiento del programa."
   ]
  },
  {
   "cell_type": "markdown",
   "metadata": {},
   "source": [
    "___"
   ]
  },
  {
   "cell_type": "code",
   "execution_count": null,
   "metadata": {},
   "outputs": [],
   "source": [
    "combinaciones = 50000\n",
    "n_bolas = 5"
   ]
  },
  {
   "cell_type": "markdown",
   "metadata": {},
   "source": [
    "### Solo usando modulos del lenguaje "
   ]
  },
  {
   "cell_type": "code",
   "execution_count": null,
   "metadata": {},
   "outputs": [],
   "source": [
    "import random"
   ]
  },
  {
   "cell_type": "code",
   "execution_count": null,
   "metadata": {},
   "outputs": [],
   "source": [
    "def sacar_bola_slow(combi, n_bola):\n",
    "    \"esta forma pued creo que puede producir bolas repetidas\"\n",
    "    bola = random.randint(0, 50)\n",
    "    for bola_comp in range(n_bola):\n",
    "        if bola == combi[bola_comp]:\n",
    "            bola = random.randint(0, 50)\n",
    "    return bola"
   ]
  },
  {
   "cell_type": "code",
   "execution_count": null,
   "metadata": {},
   "outputs": [],
   "source": [
    "%%time\n",
    "combi_ganadora = []\n",
    "for i in range(n_bolas):\n",
    "    combi_ganadora.append(sacar_bola_slow(combi_ganadora, i))\n",
    "\n",
    "apuestas = []\n",
    "aciertos = []\n",
    "\n",
    "for combinancion in range(combinaciones):\n",
    "    combi_apostada = []\n",
    "    for n_bola in range(n_bolas):\n",
    "        combi_apostada.append(sacar_bola_slow(combi_apostada, n_bola))\n",
    "    apuestas.append(combi_apostada)\n",
    "    \n",
    "    aciertos_combinacion = 0\n",
    "    for bola_ganadora in combi_ganadora:\n",
    "        for bola_apostada in combi_apostada:\n",
    "            if bola_ganadora == bola_apostada:\n",
    "                aciertos_combinacion += 1\n",
    "    aciertos.append(aciertos_combinacion)\n",
    "\n",
    "for num_aciertos in range(n_bolas):\n",
    "    print(f\"{num_aciertos} : {aciertos.count(num_aciertos)}\")"
   ]
  },
  {
   "cell_type": "markdown",
   "metadata": {},
   "source": [
    "### Podemos mejorar la funcion sacar bola con recursion"
   ]
  },
  {
   "cell_type": "code",
   "execution_count": null,
   "metadata": {},
   "outputs": [],
   "source": [
    "def sacar_bola(combi):\n",
    "    \"usa recursion, mo produce repetias\"\n",
    "    bola = random.randint(0, 50)\n",
    "    if bola in combi:\n",
    "        bola = sacar_bola(combi)\n",
    "    return bola"
   ]
  },
  {
   "cell_type": "code",
   "execution_count": null,
   "metadata": {},
   "outputs": [],
   "source": [
    "%%time\n",
    "combi_ganadora = []\n",
    "for i in range(n_bolas):\n",
    "    combi_ganadora.append(sacar_bola(combi_ganadora))\n",
    "\n",
    "apuestas = []\n",
    "aciertos = []\n",
    "\n",
    "for combinancion in range(combinaciones):\n",
    "    combi_apostada = []\n",
    "    for n_bola in range(n_bolas):\n",
    "        combi_apostada.append(sacar_bola(combi_apostada))\n",
    "    apuestas.append(combi_apostada)\n",
    "    \n",
    "    aciertos_combinacion = 0\n",
    "    for bola_ganadora in combi_ganadora:\n",
    "        for bola_apostada in combi_apostada:\n",
    "            if bola_ganadora == bola_apostada:\n",
    "                aciertos_combinacion += 1\n",
    "    aciertos.append(aciertos_combinacion)\n",
    "\n",
    "for num_aciertos in range(n_bolas):\n",
    "    print(f\"{num_aciertos} : {aciertos.count(num_aciertos)}\")"
   ]
  },
  {
   "cell_type": "markdown",
   "metadata": {},
   "source": [
    "#### Podemos sustituir por sets los dos bucles del final"
   ]
  },
  {
   "cell_type": "code",
   "execution_count": null,
   "metadata": {},
   "outputs": [],
   "source": [
    "%%time\n",
    "combi_ganadora = []\n",
    "for i in range(5):\n",
    "    combi_ganadora.append(sacar_bola(combi_ganadora))\n",
    "\n",
    "apuestas = []\n",
    "aciertos = []\n",
    "\n",
    "for combinancion in range(combinaciones):\n",
    "    combi_apostada = []\n",
    "    for n_bola in range(5):\n",
    "        combi_apostada.append(sacar_bola(combi_apostada))\n",
    "    apuestas.append(combi_apostada)\n",
    "    \n",
    "    aciertos_combinacion = len(set(combi_apostada).intersection(combi_ganadora))\n",
    "    aciertos.append(aciertos_combinacion)\n",
    "\n",
    "for num_aciertos in range(5):\n",
    "    print(f\"{num_aciertos} : {aciertos.count(num_aciertos)}\")"
   ]
  },
  {
   "cell_type": "markdown",
   "metadata": {},
   "source": [
    "### Con numpy"
   ]
  },
  {
   "cell_type": "code",
   "execution_count": null,
   "metadata": {},
   "outputs": [],
   "source": [
    "import numpy as np"
   ]
  },
  {
   "cell_type": "code",
   "execution_count": null,
   "metadata": {},
   "outputs": [],
   "source": [
    "%%time\n",
    "combinacion = np.random.choice(50, 5, replace=True)\n",
    "combi_ganadora = np.zeros(50)\n",
    "combi_ganadora[combinacion] = 1\n",
    "\n",
    "aciertos = np.zeros(combinaciones)\n",
    "\n",
    "for i in range(combinaciones):\n",
    "    combinacion = np.random.choice(50, 5, replace=True)\n",
    "    combi_apostada = np.zeros(50)\n",
    "    combi_apostada[combinacion] = 1\n",
    "    \n",
    "    aciertos[i] = combi_ganadora@combi_apostada\n",
    "\n",
    "unique, counts = np.unique(aciertos, return_counts=True)\n",
    "print(f\"{unique} {counts}\")"
   ]
  },
  {
   "cell_type": "markdown",
   "metadata": {},
   "source": [
    "Podemos definir las apuestas antes:"
   ]
  },
  {
   "cell_type": "code",
   "execution_count": null,
   "metadata": {},
   "outputs": [],
   "source": [
    "combinacion = np.random.choice(50, 5, replace=True)\n",
    "combi_ganadora = np.zeros(50)\n",
    "combi_ganadora[combinacion] = 1\n",
    "\n",
    "apuestas = np.zeros((combinaciones, 50))\n",
    "apuestas[:, :5] = 1\n",
    "[np.random.shuffle(apuesta) for apuesta in apuestas]\n",
    "\n",
    "num_aciertos = apuestas @ combi_ganadora\n",
    "unique, counts = np.unique(num_aciertos, return_counts=True)\n",
    "print(f\"{unique} {counts}\")"
   ]
  },
  {
   "cell_type": "markdown",
   "metadata": {},
   "source": [
    "aun así sigue siendo lento"
   ]
  },
  {
   "cell_type": "markdown",
   "metadata": {},
   "source": [
    "### Lo mas eficiente que se puede hacer con numpy es de la siguiente forma:"
   ]
  },
  {
   "cell_type": "code",
   "execution_count": null,
   "metadata": {},
   "outputs": [],
   "source": [
    "%%time\n",
    "combinacion = np.random.choice(50, 5, replace=True)\n",
    "combi_ganadora = np.zeros(50)\n",
    "combi_ganadora[combinacion] = 1\n",
    "\n",
    "apuestas = np.zeros((combinaciones, 50))\n",
    "apuestas_num = np.random.rand(combinaciones, 50).argpartition(5,axis=1)[:,:5]\n",
    "index = np.tile(np.expand_dims(np.arange(combinaciones), axis=0).transpose(), (1, 5))\n",
    "apuestas[index, apuestas_num] = 1\n",
    "\n",
    "num_aciertos = apuestas @ combi_ganadora\n",
    "unique, counts = np.unique(num_aciertos, return_counts=True)"
   ]
  },
  {
   "cell_type": "code",
   "execution_count": null,
   "metadata": {},
   "outputs": [],
   "source": [
    "print(f\"{unique} {counts}\")"
   ]
  },
  {
   "cell_type": "markdown",
   "metadata": {},
   "source": [
    "Podemos medirlo varias veces"
   ]
  },
  {
   "cell_type": "code",
   "execution_count": null,
   "metadata": {},
   "outputs": [],
   "source": [
    "%%timeit\n",
    "combinacion = np.random.choice(50, 5, replace=True)\n",
    "combi_ganadora = np.zeros(50)\n",
    "combi_ganadora[combinacion] = 1\n",
    "\n",
    "apuestas = np.zeros((combinaciones, 50))\n",
    "apuestas_num = np.random.rand(combinaciones, 50).argpartition(5,axis=1)[:,:5]\n",
    "index = np.tile(np.expand_dims(np.arange(combinaciones), axis=0).transpose(), (1, 5))\n",
    "apuestas[index, apuestas_num] = 1\n",
    "\n",
    "num_aciertos = apuestas @ combi_ganadora\n",
    "unique, counts = np.unique(num_aciertos, return_counts=True)"
   ]
  },
  {
   "cell_type": "markdown",
   "metadata": {},
   "source": [
    "133ms en mi ordenador aprox"
   ]
  }
 ],
 "metadata": {
  "kernelspec": {
   "display_name": "Python 3",
   "language": "python",
   "name": "python3"
  },
  "language_info": {
   "codemirror_mode": {
    "name": "ipython",
    "version": 3
   },
   "file_extension": ".py",
   "mimetype": "text/x-python",
   "name": "python",
   "nbconvert_exporter": "python",
   "pygments_lexer": "ipython3",
   "version": "3.7.3"
  }
 },
 "nbformat": 4,
 "nbformat_minor": 2
}
