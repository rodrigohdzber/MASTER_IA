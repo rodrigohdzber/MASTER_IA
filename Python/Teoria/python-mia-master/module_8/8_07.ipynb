{
 "cells": [
  {
   "cell_type": "markdown",
   "metadata": {},
   "source": [
    "# 8.6. Otras librerías y documentos."
   ]
  },
  {
   "cell_type": "markdown",
   "metadata": {},
   "source": [
    "Cheat Sheets:\n",
    "- https://assets.datacamp.com/blog_assets/PandasPythonForDataScience.pdf\n",
    "- https://s3.amazonaws.com/assets.datacamp.com/blog_assets/Numpy_Python_Cheat_Sheet.pdf\n",
    "- https://pandas.pydata.org/Pandas_Cheat_Sheet.pdf    "
   ]
  },
  {
   "cell_type": "markdown",
   "metadata": {},
   "source": [
    "Otras libs:\n",
    "- pandas datareader: https://pandas-datareader.readthedocs.io/en/latest/index.html\n",
    "- cvxpy https://www.cvxpy.org/"
   ]
  }
 ],
 "metadata": {
  "kernelspec": {
   "display_name": "Python 3",
   "language": "python",
   "name": "python3"
  },
  "language_info": {
   "codemirror_mode": {
    "name": "ipython",
    "version": 3
   },
   "file_extension": ".py",
   "mimetype": "text/x-python",
   "name": "python",
   "nbconvert_exporter": "python",
   "pygments_lexer": "ipython3",
   "version": "3.7.3"
  }
 },
 "nbformat": 4,
 "nbformat_minor": 2
}
