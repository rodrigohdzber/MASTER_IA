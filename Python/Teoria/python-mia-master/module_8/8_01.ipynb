{
 "cells": [
  {
   "cell_type": "markdown",
   "metadata": {},
   "source": [
    "# 8.1. Editores y flujo de trabajo.\n",
    "- Vemos spyder y vscode\n",
    "- Instala spyder (ya incluído en anaconda).\n",
    " - ```pip install spyder```\n",
    "- Ejecutamos con el comando: ```spyder3```.\n",
    "- Pasamos a un script con celdas los ejercicios del apartado 4.6: Tratamiento de series temporales II."
   ]
  }
 ],
 "metadata": {
  "kernelspec": {
   "display_name": "Python 3",
   "language": "python",
   "name": "python3"
  },
  "language_info": {
   "codemirror_mode": {
    "name": "ipython",
    "version": 3
   },
   "file_extension": ".py",
   "mimetype": "text/x-python",
   "name": "python",
   "nbconvert_exporter": "python",
   "pygments_lexer": "ipython3",
   "version": "3.7.3"
  }
 },
 "nbformat": 4,
 "nbformat_minor": 2
}
