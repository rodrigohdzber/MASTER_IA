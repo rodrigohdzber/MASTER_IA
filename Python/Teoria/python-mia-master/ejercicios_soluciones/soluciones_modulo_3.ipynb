{
 "cells": [
  {
   "cell_type": "markdown",
   "metadata": {},
   "source": [
    "___\n",
    "## Módulo 3: Introducción a las librería Pandas.\n",
    "___"
   ]
  },
  {
   "cell_type": "code",
   "execution_count": null,
   "metadata": {},
   "outputs": [],
   "source": [
    "import pandas as pd\n",
    "import numpy as np\n",
    "import matplotlib.pyplot as plt"
   ]
  },
  {
   "cell_type": "markdown",
   "metadata": {},
   "source": [
    "### 3.1. Introducción a Pandas I."
   ]
  },
  {
   "cell_type": "markdown",
   "metadata": {},
   "source": [
    "**3.1.1.**  Crea un dataframe a partir del diccionario, usando la lista como índice."
   ]
  },
  {
   "cell_type": "code",
   "execution_count": null,
   "metadata": {},
   "outputs": [],
   "source": [
    "data = {'animal': ['cat', 'cat', 'snake', 'dog', 'dog', 'cat', 'snake', 'cat', 'dog', 'dog'],\n",
    "        'age': [2.5, 3, 0.5, np.nan, 5, 2, 4.5, np.nan, 7, 3],\n",
    "        'visits': [1, 3, 2, 3, 2, 3, 1, 1, 2, 1],\n",
    "        'priority': ['yes', 'yes', 'no', 'yes', 'no', 'no', 'no', 'yes', 'no', 'no']}\n",
    "\n",
    "labels = ['a', 'b', 'c', 'd', 'e', 'f', 'g', 'h', 'i', 'j']"
   ]
  },
  {
   "cell_type": "code",
   "execution_count": null,
   "metadata": {},
   "outputs": [],
   "source": [
    "df = pd.DataFrame(data, index=labels)\n",
    "df"
   ]
  },
  {
   "cell_type": "markdown",
   "metadata": {},
   "source": [
    "**3.1.2.**  Muestra una descripción de los datos."
   ]
  },
  {
   "cell_type": "code",
   "execution_count": null,
   "metadata": {},
   "outputs": [],
   "source": [
    "df.describe()"
   ]
  },
  {
   "cell_type": "markdown",
   "metadata": {},
   "source": [
    "**3.1.3.**  Muestra las 2 primeras filas."
   ]
  },
  {
   "cell_type": "code",
   "execution_count": null,
   "metadata": {},
   "outputs": [],
   "source": [
    "df.loc[['a','b']]"
   ]
  },
  {
   "cell_type": "code",
   "execution_count": null,
   "metadata": {},
   "outputs": [],
   "source": [
    "df.iloc[0:2, :]"
   ]
  },
  {
   "cell_type": "markdown",
   "metadata": {},
   "source": [
    "**3.1.4.**  Muestra la tercera columna."
   ]
  },
  {
   "cell_type": "code",
   "execution_count": null,
   "metadata": {},
   "outputs": [],
   "source": [
    "df.iloc[:, 3]"
   ]
  },
  {
   "cell_type": "markdown",
   "metadata": {},
   "source": [
    "**3.1.5.**  Selecciona las columnas animal y age."
   ]
  },
  {
   "cell_type": "code",
   "execution_count": null,
   "metadata": {},
   "outputs": [],
   "source": [
    "df.loc[:, ['animal', 'age']]"
   ]
  },
  {
   "cell_type": "markdown",
   "metadata": {},
   "source": [
    "**3.1.6.**  Elimina la columna visits sin generar un nuevo DF."
   ]
  },
  {
   "cell_type": "code",
   "execution_count": null,
   "metadata": {},
   "outputs": [],
   "source": [
    "del df['animal']"
   ]
  },
  {
   "cell_type": "code",
   "execution_count": null,
   "metadata": {},
   "outputs": [],
   "source": [
    "df.drop('age', axis=1)"
   ]
  },
  {
   "cell_type": "code",
   "execution_count": null,
   "metadata": {},
   "outputs": [],
   "source": [
    "df.drop(['visits'], axis=1, inplace=True)"
   ]
  },
  {
   "cell_type": "code",
   "execution_count": null,
   "metadata": {},
   "outputs": [],
   "source": [
    "df"
   ]
  },
  {
   "cell_type": "markdown",
   "metadata": {},
   "source": [
    "**3.1.8.**  Elimina la fila c."
   ]
  },
  {
   "cell_type": "code",
   "execution_count": null,
   "metadata": {},
   "outputs": [],
   "source": [
    "df = df.drop('c', axis=0)"
   ]
  },
  {
   "cell_type": "markdown",
   "metadata": {},
   "source": [
    "**3.1.9.**  Crea una columna nueva con los valores de 0 a 8"
   ]
  },
  {
   "cell_type": "code",
   "execution_count": null,
   "metadata": {},
   "outputs": [],
   "source": [
    "df['new'] = range(9)\n",
    "df"
   ]
  },
  {
   "cell_type": "markdown",
   "metadata": {},
   "source": [
    "**3.1.10.** Crea a partir de los siguientes datos un Data Frame\n",
    "\n",
    "- planets: \"Mercury\", \"Venus\", \"Earth\", \"Mars\", \"Jupiter\", \"Saturn\", \"Uranus\", \"Neptune\"\n",
    "- type: \"Terrestrial planet\", \"Terrestrial planet\", \"Terrestrial planet\", \"Terrestrial planet\", \"Gas giant\", \"Gas giant\", \"Gas giant\", \"Gas giant\"\n",
    "- diameter 0.382, 0.949, 1, 0.532, 11.209, 9.449, 4.007, 3.883\n",
    "- rotation 58.64, -243.02, 1, 1.03, 0.41, 0.43, -0.72, 0.67\n",
    "- rings FALSE, FALSE, FALSE, FALSE, TRUE, TRUE, TRUE, TRUE\n",
    "\n",
    "Resuelve los siguientes apartados:\n",
    "\n",
    "- Selecciona la información de los tres primeros planetas.\n",
    "- Selecciona la información de los últimos tres planetas.\n",
    "- Selecciona la columna diameter de los últimos seis planetas. \n",
    "- Selecciona sólo los planetas que tienen anillos.\n",
    "- Selecciona los planetas que tienen un diámetro inferior al de la tierra .\n",
    "- Ordena el Data Frame según el diámetro de los planetas, ascendentemente."
   ]
  },
  {
   "cell_type": "code",
   "execution_count": null,
   "metadata": {},
   "outputs": [],
   "source": [
    "a = pd.Series([\"Mercury\", \"Venus\", \"Earth\", \"Mars\", \"Jupiter\", \"Saturn\", \"Uranus\", \"Neptune\"] , name = \"planetas\")\n",
    "b = pd.Series([\"Terrestrial planet\", \"Terrestrial planet\", \"Terrestrial planet\", \"Terrestrial planet\", \"Gas giant\", \"Gas giant\", \"Gas giant\", \"Gas giant\"], name = \"tipo\")\n",
    "c = pd.Series([0.382, 0.949, 1, 0.532, 11.209, 9.449, 4.007, 3.883], name = \"diametro\")\n",
    "d = pd.Series([58.64, -243.02, 1, 1.03, 0.41, 0.43, -0.72, 0.67], name = \"rotacion\")\n",
    "e = pd.Series([False, False, False, False, True, True, True, True], name = \"anillos\")\n",
    "\n",
    "frame = pd.DataFrame([b, c, d, e]).T\n",
    "frame.index = a\n",
    "\n",
    "frame"
   ]
  },
  {
   "cell_type": "code",
   "execution_count": null,
   "metadata": {},
   "outputs": [],
   "source": [
    "# Otra manera de hacerlo\n",
    "\n",
    "a = [\"Mercury\", \"Venus\", \"Earth\", \"Mars\", \"Jupiter\", \"Saturn\", \"Uranus\", \"Neptune\"]\n",
    "b = [\"Terrestrial planet\", \"Terrestrial planet\", \"Terrestrial planet\", \"Terrestrial planet\", \"Gas giant\", \"Gas giant\", \"Gas giant\", \"Gas giant\"]\n",
    "c = [0.382, 0.949, 1, 0.532, 11.209, 9.449, 4.007, 3.883]\n",
    "d = [58.64, -243.02, 1, 1.03, 0.41, 0.43, -0.72, 0.67]\n",
    "e = [False, False, False, False, True, True, True, True]\n",
    "\n",
    "frame = pd.DataFrame([a, b, c, d, e]).T\n",
    "frame"
   ]
  },
  {
   "cell_type": "code",
   "execution_count": null,
   "metadata": {},
   "outputs": [],
   "source": [
    "# Selecciona la información de los tres primeros planetas.\n",
    "\n",
    "frame.loc['Mercury':'Earth',:]"
   ]
  },
  {
   "cell_type": "code",
   "execution_count": null,
   "metadata": {},
   "outputs": [],
   "source": [
    "# Selecciona la información de los últimos tres planetas.\n",
    "\n",
    "frame.iloc[-4:-1,:]"
   ]
  },
  {
   "cell_type": "code",
   "execution_count": null,
   "metadata": {},
   "outputs": [],
   "source": [
    "# Selecciona la columna diameter de los últimos seis planetas. \n",
    "\n",
    "frame.loc['Earth':'Neptune','diametro']"
   ]
  },
  {
   "cell_type": "code",
   "execution_count": null,
   "metadata": {},
   "outputs": [],
   "source": [
    "# Selecciona sólo los planetas que tienen anillos.\n",
    "\n",
    "ind_bool = frame.anillos == True\n",
    "\n",
    "frame[ind_bool] # Recuerda que el índice principal son las filas"
   ]
  },
  {
   "cell_type": "code",
   "execution_count": null,
   "metadata": {},
   "outputs": [],
   "source": [
    "# Selecciona los planetas que tienen un diámetro inferior al de la tierra.\n",
    "\n",
    "ind_bool = frame.diametro < frame.loc['Earth', 'diametro']\n",
    "\n",
    "frame[ind_bool]"
   ]
  },
  {
   "cell_type": "code",
   "execution_count": null,
   "metadata": {},
   "outputs": [],
   "source": [
    "# Ordena el Data Frame según el diámetro de los planetas, ascendentemente.\n",
    "\n",
    "frame.sort_values('diametro')"
   ]
  },
  {
   "cell_type": "markdown",
   "metadata": {},
   "source": [
    "___\n",
    "### 3.2. Introducción a Pandas II."
   ]
  },
  {
   "cell_type": "markdown",
   "metadata": {},
   "source": [
    "**3.2.1.** Seleciona los datos en las filas 3, 4 y 8 y en las columnas  animal y age."
   ]
  },
  {
   "cell_type": "code",
   "execution_count": null,
   "metadata": {},
   "outputs": [],
   "source": [
    "data = {'animal': ['cat', 'cat', 'snake', 'dog', 'dog', 'cat', 'snake', 'cat', 'dog', 'dog'],\n",
    "        'age': [2.5, 3, 0.5, np.nan, 5, 2, 4.5, np.nan, 7, 3],\n",
    "        'visits': [1, 3, 2, 3, 2, 3, 1, 1, 2, 1],\n",
    "        'priority': ['yes', 'yes', 'no', 'yes', 'no', 'no', 'no', 'yes', 'no', 'no']}\n",
    "\n",
    "labels = ['a', 'b', 'c', 'd', 'e', 'f', 'g', 'h', 'i', 'j']\n",
    "\n",
    "df = pd.DataFrame(data, index=labels)\n",
    "df"
   ]
  },
  {
   "cell_type": "code",
   "execution_count": null,
   "metadata": {},
   "outputs": [],
   "source": [
    "df.iloc[[2, 3, 7]].loc[:, ['animal', 'age']]"
   ]
  },
  {
   "cell_type": "code",
   "execution_count": null,
   "metadata": {},
   "outputs": [],
   "source": [
    "# Otra manera de hacerlo\n",
    "df.loc[['c', 'd', 'h'],['animal', 'age']]"
   ]
  },
  {
   "cell_type": "markdown",
   "metadata": {},
   "source": [
    "**3.2.2.** Reindexa el dataframe usando números sequenciales empezando por el cero."
   ]
  },
  {
   "cell_type": "code",
   "execution_count": null,
   "metadata": {},
   "outputs": [],
   "source": [
    "df.index = range(df.shape[0])\n",
    "df"
   ]
  },
  {
   "cell_type": "markdown",
   "metadata": {},
   "source": [
    "**3.2.3.** Seleciona las filas donce el número de vistas es mayor que 2."
   ]
  },
  {
   "cell_type": "code",
   "execution_count": null,
   "metadata": {},
   "outputs": [],
   "source": [
    "df[df.visits > 2]"
   ]
  },
  {
   "cell_type": "markdown",
   "metadata": {},
   "source": [
    "**3.2.4.** Usando los siguientes daframe:"
   ]
  },
  {
   "cell_type": "code",
   "execution_count": null,
   "metadata": {},
   "outputs": [],
   "source": [
    "df_a = pd.DataFrame(np.random.randint(1, 10, 10),\n",
    "                    index=np.arange(1, 11))\n",
    "df_a"
   ]
  },
  {
   "cell_type": "code",
   "execution_count": null,
   "metadata": {},
   "outputs": [],
   "source": [
    "df_b = pd.DataFrame(np.random.randint(1, 10, 10),\n",
    "                    index=np.arange(0, 10))\n",
    "df_b"
   ]
  },
  {
   "cell_type": "markdown",
   "metadata": {},
   "source": [
    "Calcula la resta de ambos y explica la diferencia entre usar un relleno = 0 o no."
   ]
  },
  {
   "cell_type": "code",
   "execution_count": null,
   "metadata": {},
   "outputs": [],
   "source": [
    "df_a - df_b"
   ]
  },
  {
   "cell_type": "code",
   "execution_count": null,
   "metadata": {},
   "outputs": [],
   "source": [
    "df_a.sub(df_b, fill_value=0)"
   ]
  },
  {
   "cell_type": "markdown",
   "metadata": {},
   "source": [
    "___\n",
    "### 3.3. Introducción a Pandas III."
   ]
  },
  {
   "cell_type": "markdown",
   "metadata": {},
   "source": [
    "Utilizando el siguiente dataframe:"
   ]
  },
  {
   "cell_type": "code",
   "execution_count": null,
   "metadata": {},
   "outputs": [],
   "source": [
    "df = pd.DataFrame({\"price\": [5,2,3,1,4,5,6,7,8,3,4,8,9],\n",
    "                   \"hours\"    :[1,9,6,5,3,9,2,9,1,7,4,2,2],\n",
    "                   \"happiness\"   :[2,1,3,2,3,1,2,3,1,2,2,1,3],\n",
    "                   \"caffienated\" :[0,0,1,1,0,0,0,0,1,1,0,1,0]})"
   ]
  },
  {
   "cell_type": "markdown",
   "metadata": {},
   "source": [
    "**3.3.1.** \n",
    "\n",
    "- Calcula la media del precio.\n",
    "- Calcula la mutltiplicación de price x hours."
   ]
  },
  {
   "cell_type": "code",
   "execution_count": null,
   "metadata": {},
   "outputs": [],
   "source": [
    "df.mean()"
   ]
  },
  {
   "cell_type": "code",
   "execution_count": null,
   "metadata": {},
   "outputs": [],
   "source": [
    "df.price.mean()"
   ]
  },
  {
   "cell_type": "code",
   "execution_count": null,
   "metadata": {},
   "outputs": [],
   "source": [
    "df.price*df.hours"
   ]
  },
  {
   "cell_type": "markdown",
   "metadata": {},
   "source": [
    "**3.3.2.** En bikes.csv encontrarás información agregada por horas de un sistema de alquiler de bicicletas (parecido al servicio BiciMad). \n",
    "\n",
    "Las variables del  dataset   son las siguientes:  \n",
    "\n",
    "- date:  fecha (en formato yyyy­mm­dd).  \n",
    "- season:  estación del año. Los valores son:  \n",
    "    o\t1 (winter)  \n",
    "    o\t2 (spring)  \n",
    "    o\t3 (summer)  \n",
    "    o\t4 (fall)  \n",
    "- hour:  la hora del día (0 a 23).  \n",
    "- is.holiday:  1 si es día festivo, 0 en caso contrario.  \n",
    "- weekday:  día de la semana. Los valores son:  \n",
    "o\t0 (Sunday)  \n",
    "o\t1 (Monday)  \n",
    "o\t2 (Tuesday)  \n",
    "o\t3 (Wednesday)  \n",
    "o\t4 (Thursday)  \n",
    "o\t5 (Friday)  \n",
    "o\t6 (Saturday)  \n",
    "- is.workingday:  si el día no es ni fin de semana ni vacaciones 1, en caso contrario 0.  \n",
    "- weathersit:  variable categórica con los siguientes valores:  \n",
    "o\t1: Clear, Few clouds, Partly cloudy, cloudy  \n",
    "o\t2: Mist + Cloudy, Mist + Broken clouds, Mist + Few clouds, Mist  \n",
    "o\t3: Light Snow, Light Rain + Thunderstorm + Scattered clouds, Light Rain + Scattered clouds  \n",
    "o\t4: Heavy Rain + Ice Pallets + Thunderstorm + Mist, Snow + Fog  \n",
    "- temp:  temperatura en grados Celsius.  \n",
    "- atemp:  sensación térmica en grados Celsius.  \n",
    "- hum:  humedad.  \n",
    "- windspeed:  velocidad del viento.  \n",
    "- casual:  número de alquileres de usuarios no registrados en el servicio.  \n",
    "- registered:  número de alquileres de usuarios registrados en el servicio. \n",
    "\n",
    "Carga el csv y asegúrate que es un dataframe"
   ]
  },
  {
   "cell_type": "code",
   "execution_count": null,
   "metadata": {},
   "outputs": [],
   "source": [
    "import os\n",
    "os.getcwd()"
   ]
  },
  {
   "cell_type": "code",
   "execution_count": null,
   "metadata": {},
   "outputs": [],
   "source": [
    "bicis_df = pd.read_csv('bikes.csv') "
   ]
  },
  {
   "cell_type": "code",
   "execution_count": null,
   "metadata": {},
   "outputs": [],
   "source": [
    "type(bicis_df)"
   ]
  },
  {
   "cell_type": "code",
   "execution_count": null,
   "metadata": {},
   "outputs": [],
   "source": [
    "bicis_df.head(5)"
   ]
  },
  {
   "cell_type": "markdown",
   "metadata": {},
   "source": [
    "**3.3.3.** Calcula el número medio de usuarios registrados por día de la semana"
   ]
  },
  {
   "cell_type": "code",
   "execution_count": null,
   "metadata": {},
   "outputs": [],
   "source": [
    "usu_medio = list()\n",
    "\n",
    "for dia in range(7):\n",
    "    \n",
    "    respuesta = bicis_df.loc[bicis_df.weekday == dia,:].registered.mean()\n",
    "    usu_medio.append(f'Día {dia} número medio de usuarios {int(respuesta)}')\n",
    "\n",
    "usu_medio"
   ]
  },
  {
   "cell_type": "markdown",
   "metadata": {},
   "source": [
    "**3.3.4.** Ordena de menor a mayor las temperaturas máximas de cada estación"
   ]
  },
  {
   "cell_type": "code",
   "execution_count": null,
   "metadata": {},
   "outputs": [],
   "source": [
    "temperaturas = list()\n",
    "\n",
    "for est in range(1, 5):\n",
    "    \n",
    "    solucion = bicis_df.loc[bicis_df.season == est, 'temp'].max()\n",
    "    temperaturas.append(solucion)\n",
    "    \n",
    "temperaturas.sort()\n",
    "temperaturas"
   ]
  },
  {
   "cell_type": "markdown",
   "metadata": {},
   "source": [
    "**3.3.5.** Calcula el número total de usuarios (registered + casual) en días festivos y no festivos."
   ]
  },
  {
   "cell_type": "code",
   "execution_count": null,
   "metadata": {},
   "outputs": [],
   "source": [
    "bicis_df.columns = ['date', 'season', 'hour', 'is_holiday', 'weekday', 'is_workingday', 'weathersit', 'temp', 'atemp', 'hum', 'windspeed', 'casual', 'registered']\n",
    "bicis_df.head(5)"
   ]
  },
  {
   "cell_type": "code",
   "execution_count": null,
   "metadata": {},
   "outputs": [],
   "source": [
    "tot_usu_fest = bicis_df.loc[bicis_df.is_holiday == 1,['casual', 'registered']].sum()\n",
    "tot_usu_no_fest = bicis_df.loc[bicis_df.is_holiday == 0,['casual', 'registered']].sum()\n",
    "\n",
    "print(tot_usu_fest)\n",
    "print(tot_usu_no_fest)"
   ]
  },
  {
   "cell_type": "markdown",
   "metadata": {},
   "source": [
    "**3.3.6.** Calcula el día que se produjeron el mayor número de alquileres casuales."
   ]
  },
  {
   "cell_type": "code",
   "execution_count": null,
   "metadata": {},
   "outputs": [],
   "source": [
    "bicis_df.loc[bicis_df.casual == bicis_df.casual.max(),'date']"
   ]
  },
  {
   "cell_type": "markdown",
   "metadata": {},
   "source": [
    "**3.3.7.** Calcula el ratio de alquileres registrados/casuales por hora en verano."
   ]
  },
  {
   "cell_type": "code",
   "execution_count": null,
   "metadata": {},
   "outputs": [],
   "source": [
    "ratio_hora = list()\n",
    "\n",
    "for hora in range(24):\n",
    "    casual, registered = bicis_df.loc[(bicis_df.season == 3) & (bicis_df.hour == hora), ['casual', 'registered']].sum()\n",
    "    ratio_hora.append(f' Hora {hora}, ratio = {registered / casual}')\n",
    "\n",
    "ratio_hora"
   ]
  },
  {
   "cell_type": "markdown",
   "metadata": {},
   "source": [
    "**3.3.8.** Para todos los lunes festivos calcular el número total de alquileres registrados, temperatura media, humedad máxima y velocidad del viento mínima."
   ]
  },
  {
   "cell_type": "code",
   "execution_count": null,
   "metadata": {},
   "outputs": [],
   "source": [
    "lunes_festivos = bicis_df.loc[(bicis_df.weekday == 1) & (bicis_df.is_holiday == 1),:]\n",
    "\n",
    "lunes_festivos.head(5)"
   ]
  },
  {
   "cell_type": "code",
   "execution_count": null,
   "metadata": {},
   "outputs": [],
   "source": [
    "num_total_alq = lunes_festivos.registered.sum()\n",
    "\n",
    "tem_media = lunes_festivos.temp.mean()\n",
    "\n",
    "hum_max = lunes_festivos.hum.max()\n",
    "\n",
    "vel_viento_min = lunes_festivos.windspeed.min()\n",
    "\n",
    "f'El número total de alquileres registrados fue {num_total_alq}, la temperatura media {round(tem_media,2)}, la humedad máxima {hum_max} y la velocidad del viento mínima {vel_viento_min}'"
   ]
  }
 ],
 "metadata": {
  "kernelspec": {
   "display_name": "Python 3",
   "language": "python",
   "name": "python3"
  },
  "language_info": {
   "codemirror_mode": {
    "name": "ipython",
    "version": 3
   },
   "file_extension": ".py",
   "mimetype": "text/x-python",
   "name": "python",
   "nbconvert_exporter": "python",
   "pygments_lexer": "ipython3",
   "version": "3.8.3"
  }
 },
 "nbformat": 4,
 "nbformat_minor": 4
}
