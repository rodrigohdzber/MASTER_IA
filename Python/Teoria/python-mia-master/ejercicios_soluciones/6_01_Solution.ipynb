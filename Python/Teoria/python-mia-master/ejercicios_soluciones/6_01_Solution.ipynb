{
 "cells": [
  {
   "cell_type": "markdown",
   "metadata": {},
   "source": [
    "# 7.1. Obtención de datos financieros\n",
    "- Regístrate en iexcloud: https://iexcloud.io/c\n",
    "- Ve los datos que están disponibles.\n",
    "- Mira las bolsas disponibles.\n",
    "- En una de ellas mira los símbolos.\n",
    "- Use para ello el modulo requests, instalandose como: !pip install requests"
   ]
  },
  {
   "cell_type": "markdown",
   "metadata": {},
   "source": [
    "- Crea dos funciones:\n",
    " - Una que retorne el open, high, low, close y volumen diario de todos los datos disponibles.\n",
    " - Otra que de los datos diarios de un día completo.\n",
    " - Pinta en una figura de velas ambas."
   ]
  },
  {
   "cell_type": "code",
   "execution_count": null,
   "metadata": {},
   "outputs": [],
   "source": [
    "import pandas as pd\n",
    "import requests"
   ]
  },
  {
   "cell_type": "code",
   "execution_count": null,
   "metadata": {},
   "outputs": [],
   "source": [
    "TOKEN = 'PON AQUI TU TOKEN'\n",
    "base_url = 'https://cloud.iexapis.com/stable'"
   ]
  },
  {
   "cell_type": "markdown",
   "metadata": {},
   "source": [
    "____"
   ]
  },
  {
   "cell_type": "code",
   "execution_count": null,
   "metadata": {},
   "outputs": [],
   "source": [
    "base_url = 'https://cloud.iexapis.com/stable'\n",
    "url = f'{base_url}/ref-data/exchanges'\n",
    "r = requests.get(url, params={'token':TOKEN})\n",
    "exchanges = pd.read_json(r.content)"
   ]
  },
  {
   "cell_type": "code",
   "execution_count": null,
   "metadata": {},
   "outputs": [],
   "source": [
    "exchanges.head()"
   ]
  },
  {
   "cell_type": "code",
   "execution_count": null,
   "metadata": {},
   "outputs": [],
   "source": [
    "url = f'{base_url}/ref-data/iex/symbols'\n",
    "r = requests.get(url, params={'token': TOKEN})\n",
    "symbols = pd.read_json(r.content)"
   ]
  },
  {
   "cell_type": "code",
   "execution_count": null,
   "metadata": {},
   "outputs": [],
   "source": [
    "symbols.head()"
   ]
  },
  {
   "cell_type": "code",
   "execution_count": null,
   "metadata": {},
   "outputs": [],
   "source": [
    "exchange = 'AMS'\n",
    "url = f\"{base_url}/ref-data/exchange/{exchange}/symbols\"\n",
    "r = requests.get(url, params={'token': TOKEN})\n",
    "symbols = pd.read_json(r.content)"
   ]
  },
  {
   "cell_type": "code",
   "execution_count": null,
   "metadata": {},
   "outputs": [],
   "source": [
    "symbols.shape"
   ]
  },
  {
   "cell_type": "code",
   "execution_count": null,
   "metadata": {},
   "outputs": [],
   "source": [
    "symbols.head()"
   ]
  },
  {
   "cell_type": "markdown",
   "metadata": {},
   "source": [
    "___\n",
    "### Day data"
   ]
  },
  {
   "cell_type": "code",
   "execution_count": null,
   "metadata": {},
   "outputs": [],
   "source": [
    "symbol = \"IWDA-NA\"\n",
    "range_url = '1y'\n",
    "# chartCloseOnly\n",
    "url = f\"{base_url}/stock/{symbol}/chart/{range_url}\"\n",
    "r = requests.get(url, params={'token': TOKEN, 'chartCloseOnly': True})\n",
    "data = pd.read_json(r.content)"
   ]
  },
  {
   "cell_type": "code",
   "execution_count": null,
   "metadata": {},
   "outputs": [],
   "source": [
    "data.head()"
   ]
  },
  {
   "cell_type": "code",
   "execution_count": null,
   "metadata": {},
   "outputs": [],
   "source": [
    "data = data.set_index('date')"
   ]
  },
  {
   "cell_type": "code",
   "execution_count": null,
   "metadata": {},
   "outputs": [],
   "source": [
    "data.head()"
   ]
  },
  {
   "cell_type": "code",
   "execution_count": null,
   "metadata": {},
   "outputs": [],
   "source": [
    "data.index"
   ]
  },
  {
   "cell_type": "markdown",
   "metadata": {},
   "source": [
    "Lo ponemos en una función:"
   ]
  },
  {
   "cell_type": "code",
   "execution_count": null,
   "metadata": {},
   "outputs": [],
   "source": [
    "def get_data_iex(symbol, st_range='1y'):\n",
    "    url = f\"{base_url}/stock/{symbol}/chart/{range_url}\"\n",
    "    r = requests.get(url, params={'token': TOKEN, 'chartCloseOnly': True})\n",
    "    data = pd.read_json(r.content)\n",
    "    data = data.set_index('date')\n",
    "    data = data.close\n",
    "    data.name = symbol\n",
    "    return data"
   ]
  },
  {
   "cell_type": "code",
   "execution_count": null,
   "metadata": {},
   "outputs": [],
   "source": [
    "get_data_iex('nvda').head()"
   ]
  },
  {
   "cell_type": "markdown",
   "metadata": {},
   "source": [
    "Creamos un módulo utils.py y añadimos la función"
   ]
  },
  {
   "cell_type": "code",
   "execution_count": null,
   "metadata": {},
   "outputs": [],
   "source": [
    "import utils"
   ]
  },
  {
   "cell_type": "code",
   "execution_count": null,
   "metadata": {},
   "outputs": [],
   "source": [
    "utils.get_data_iex('nvda').head()"
   ]
  },
  {
   "cell_type": "markdown",
   "metadata": {},
   "source": [
    "### Intraday"
   ]
  },
  {
   "cell_type": "code",
   "execution_count": null,
   "metadata": {},
   "outputs": [],
   "source": [
    "import requests\n",
    "import pandas as pd"
   ]
  },
  {
   "cell_type": "code",
   "execution_count": null,
   "metadata": {},
   "outputs": [],
   "source": [
    "symbol = \"aapl\"\n",
    "url = f'https://cloud.iexapis.com/stable/stock/{symbol}/intraday-prices'\n",
    "r = requests.get(url, params={'token': TOKEN})"
   ]
  },
  {
   "cell_type": "code",
   "execution_count": null,
   "metadata": {},
   "outputs": [],
   "source": [
    "data = pd.read_json(r.content)"
   ]
  },
  {
   "cell_type": "code",
   "execution_count": null,
   "metadata": {},
   "outputs": [],
   "source": [
    "data['time'] = pd.to_datetime(data['date'].dt.strftime('%Y-%m-%d ') + data['minute'])\n",
    "data = data.drop(['date', 'minute'], axis=1)\n",
    "data = data.set_index('time')"
   ]
  },
  {
   "cell_type": "code",
   "execution_count": null,
   "metadata": {},
   "outputs": [],
   "source": [
    "data.head()"
   ]
  },
  {
   "cell_type": "markdown",
   "metadata": {},
   "source": [
    "### Otros:\n",
    "- Podemos usar la libreria: https://pypi.org/project/iexfinance/\n",
    "- Datos tick a tick: https://iextrading.com/trading/market-data/\n",
    "- Usar la libreria: \n",
    "    - https://github.com/timpalpant/go-iex"
   ]
  }
 ],
 "metadata": {
  "kernelspec": {
   "display_name": "Python 3",
   "language": "python",
   "name": "python3"
  },
  "language_info": {
   "codemirror_mode": {
    "name": "ipython",
    "version": 3
   },
   "file_extension": ".py",
   "mimetype": "text/x-python",
   "name": "python",
   "nbconvert_exporter": "python",
   "pygments_lexer": "ipython3",
   "version": "3.7.3"
  }
 },
 "nbformat": 4,
 "nbformat_minor": 2
}
