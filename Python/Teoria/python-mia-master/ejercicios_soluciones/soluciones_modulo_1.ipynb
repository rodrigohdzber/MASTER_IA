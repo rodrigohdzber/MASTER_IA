{
 "cells": [
  {
   "cell_type": "markdown",
   "metadata": {},
   "source": [
    "___\n",
    "## Módulo 1: Fundamentos de programación.\n",
    "___"
   ]
  },
  {
   "cell_type": "markdown",
   "metadata": {},
   "source": [
    "### 1.1. Jupyter Notebooks"
   ]
  },
  {
   "cell_type": "markdown",
   "metadata": {},
   "source": [
    "**1.1.1.** Crea un notebook nuevo, añade 3 títulos diferentes, un texto y varias celdas de código definiendo y imprimiendo variables."
   ]
  },
  {
   "cell_type": "code",
   "execution_count": null,
   "metadata": {},
   "outputs": [],
   "source": []
  },
  {
   "cell_type": "markdown",
   "metadata": {},
   "source": [
    "___\n",
    "### 1.2. Sintaxis básica, operaciones y tipos básicos"
   ]
  },
  {
   "cell_type": "markdown",
   "metadata": {},
   "source": [
    "**1.2.1.** Suma 5 +5 y divide el resultado entre 2"
   ]
  },
  {
   "cell_type": "code",
   "execution_count": null,
   "metadata": {},
   "outputs": [],
   "source": [
    "(5+5)/2"
   ]
  },
  {
   "cell_type": "markdown",
   "metadata": {},
   "source": [
    "**1.2.2.** Calcula 2 elevado a 5"
   ]
  },
  {
   "cell_type": "code",
   "execution_count": null,
   "metadata": {},
   "outputs": [],
   "source": [
    "2**5"
   ]
  },
  {
   "cell_type": "markdown",
   "metadata": {},
   "source": [
    "**1.2.3.** Asigna el valor 5 a la variable my_apples y muestra el contenido de la variable"
   ]
  },
  {
   "cell_type": "code",
   "execution_count": null,
   "metadata": {},
   "outputs": [],
   "source": [
    "my_apples = 5\n",
    "print(my_apples)"
   ]
  },
  {
   "cell_type": "markdown",
   "metadata": {},
   "source": [
    "**1.2.4.** Asigna el valor 6 a la variable my_pears y muestra el contenido de la variable"
   ]
  },
  {
   "cell_type": "code",
   "execution_count": null,
   "metadata": {},
   "outputs": [],
   "source": [
    "my_pears = 6\n",
    "print(my_pears)"
   ]
  },
  {
   "cell_type": "markdown",
   "metadata": {},
   "source": [
    "**1.2.5.** Suma peras con manzanas: crea una nueva variable my_fruit con la suma. Muestra el número total de piezas de fruta"
   ]
  },
  {
   "cell_type": "code",
   "execution_count": null,
   "metadata": {},
   "outputs": [],
   "source": [
    "my_fruit = my_apples + my_pears\n",
    "print(my_fruit)"
   ]
  },
  {
   "cell_type": "markdown",
   "metadata": {},
   "source": [
    "**1.2.6.** Declara una variable de tipo texto, my_character, con el valor \"forty-two\""
   ]
  },
  {
   "cell_type": "code",
   "execution_count": null,
   "metadata": {},
   "outputs": [],
   "source": [
    "my_character = \"forty-two\"\n",
    "type(my_character)"
   ]
  },
  {
   "cell_type": "markdown",
   "metadata": {},
   "source": [
    "**1.2.7.** Declara una variable booleana, my_logical, con el valor FALSE"
   ]
  },
  {
   "cell_type": "code",
   "execution_count": null,
   "metadata": {},
   "outputs": [],
   "source": [
    "my_logical = False\n",
    "type(my_logical)"
   ]
  },
  {
   "cell_type": "markdown",
   "metadata": {},
   "source": [
    "**1.2.8.** Declara una variable de texto con el valor 42 y conviértela a integer"
   ]
  },
  {
   "cell_type": "code",
   "execution_count": null,
   "metadata": {},
   "outputs": [],
   "source": [
    "var_convertida = \"42\"\n",
    "print(var_convertida)\n",
    "print(type(var_convertida))\n",
    "\n",
    "var_convertida = int(var_convertida)\n",
    "print(var_convertida)\n",
    "print(type(var_convertida))"
   ]
  },
  {
   "cell_type": "markdown",
   "metadata": {},
   "source": [
    "**1.2.9.** Escribe un código que solicite al usuario un número n y devuelva el resultado de n + n * n + n * n * n. (Ejemplo: n = 5 daría como resultado 155)."
   ]
  },
  {
   "cell_type": "code",
   "execution_count": null,
   "metadata": {},
   "outputs": [],
   "source": [
    "input_str = input(\"n = \")\n",
    "n = int(input_str)\n",
    "print(\"resultado = \", n + n*n + n*n*n)"
   ]
  },
  {
   "cell_type": "markdown",
   "metadata": {},
   "source": [
    "**1.2.10.** Escribe un código que permita ver si un input introducido por el usuario es par."
   ]
  },
  {
   "cell_type": "code",
   "execution_count": null,
   "metadata": {},
   "outputs": [],
   "source": [
    "input_str = input(\"n = \")\n",
    "n = int(input_str)\n",
    "print(\"Es par = \", n%2 == 0)"
   ]
  },
  {
   "cell_type": "markdown",
   "metadata": {},
   "source": [
    "___"
   ]
  },
  {
   "cell_type": "markdown",
   "metadata": {},
   "source": [
    "### 1.3. Strings"
   ]
  },
  {
   "cell_type": "code",
   "execution_count": null,
   "metadata": {},
   "outputs": [],
   "source": [
    "s = \"Lorem ipsum dolor sit amet, consectetur adipiscing elit, sed do eiusmod tempor incididunt ut labore et dolore magna aliqua. \\\n",
    "Ut enim ad minim veniam, quis nostrud exercitation ullamco laboris nisi ut aliquip ex ea commodo consequat. \\\n",
    "Duis aute irure dolor in reprehenderit in voluptate velit esse cillum dolore eu fugiat nulla pariatur.\""
   ]
  },
  {
   "cell_type": "markdown",
   "metadata": {},
   "source": [
    "**1.3.1.** Guarda, en una nueva variable, la frase en mayúsculas, y cuenta el número de caracteres que tiene."
   ]
  },
  {
   "cell_type": "code",
   "execution_count": null,
   "metadata": {},
   "outputs": [],
   "source": [
    "s_may = s.upper()\n",
    "print(s_may)"
   ]
  },
  {
   "cell_type": "markdown",
   "metadata": {},
   "source": [
    "**1.3.2.** Separa la frase por palabras."
   ]
  },
  {
   "cell_type": "code",
   "execution_count": null,
   "metadata": {},
   "outputs": [],
   "source": [
    "palabras = s.split()\n",
    "print(palabras)"
   ]
  },
  {
   "cell_type": "markdown",
   "metadata": {},
   "source": [
    "**1.3.3.** Localiza la posición en la que se encuentra la subcadena \"irure\"."
   ]
  },
  {
   "cell_type": "code",
   "execution_count": null,
   "metadata": {},
   "outputs": [],
   "source": [
    "posicion = s.index(\"irure\")\n",
    "print(posicion)"
   ]
  },
  {
   "cell_type": "markdown",
   "metadata": {},
   "source": [
    "**1.3.4.** Introduce la variable string_to_test = ’Python is an interesting and useful language for numerical computing!’. Usando slicing, extrae:  \n",
    "- Python\n",
    "- !\n",
    "- computing\n",
    "- in\n",
    "- !gnitupmoc laciremun rof egaugnal lufesu dna gnitseretni na si nohtyP - inverso\n",
    "- nohtyP\n",
    "- Pto sa neetn n sfllnug o ueia optn!"
   ]
  },
  {
   "cell_type": "code",
   "execution_count": null,
   "metadata": {},
   "outputs": [],
   "source": [
    "string_to_test = 'Python is an interesting and useful language for numerical computing!.' "
   ]
  },
  {
   "cell_type": "code",
   "execution_count": null,
   "metadata": {},
   "outputs": [],
   "source": [
    "print(string_to_test[:6])\n",
    "print(string_to_test[-2])\n",
    "print(string_to_test[-11:-2])\n",
    "print(string_to_test[13:15])\n",
    "print(string_to_test[::-1])\n",
    "print(string_to_test[::2])"
   ]
  },
  {
   "cell_type": "markdown",
   "metadata": {},
   "source": [
    "**1.3.5.** Crea un string y cuenta el número de caracteres y las veces que aparece la letra a."
   ]
  },
  {
   "cell_type": "code",
   "execution_count": null,
   "metadata": {},
   "outputs": [],
   "source": [
    "string_to_test = 'hola que tal ?'\n",
    "string_to_test.count('a')"
   ]
  },
  {
   "cell_type": "markdown",
   "metadata": {},
   "source": [
    "**1.3.6.** Escriba un programa que “codifique” una frase modificando todas las vocales según el siguiente código: a por 4, e por 3, i por 1, o por 0 y u por el símbolo #. Por ejemplo, la frase: “Un perro del hortelano”, deberá devolverse: “#n p3rr0 d3l h0rt3l4n0”."
   ]
  },
  {
   "cell_type": "code",
   "execution_count": null,
   "metadata": {},
   "outputs": [],
   "source": [
    "string_to_test = 'Un perro del hortelano'\n",
    "string_to_test = string_to_test.replace('a', '4')\n",
    "string_to_test = string_to_test.replace('e', '3')\n",
    "string_to_test = string_to_test.replace('i', '1')\n",
    "string_to_test = string_to_test.replace('o', '0')\n",
    "string_to_test = string_to_test.replace('U', '#')\n",
    "string_to_test"
   ]
  },
  {
   "cell_type": "markdown",
   "metadata": {},
   "source": [
    "___"
   ]
  },
  {
   "cell_type": "markdown",
   "metadata": {},
   "source": [
    "### 1.4. Estructuras de datos: Lists y Tuples"
   ]
  },
  {
   "cell_type": "markdown",
   "metadata": {},
   "source": [
    "**1.4.1.** Construye una lista con 5 tickers de acciones españolas y llámala tickers"
   ]
  },
  {
   "cell_type": "code",
   "execution_count": null,
   "metadata": {},
   "outputs": [],
   "source": [
    "tickers = ['SAN', 'TEF', 'IAG', 'MAP', 'REP']"
   ]
  },
  {
   "cell_type": "markdown",
   "metadata": {},
   "source": [
    "**1.4.2.** Asigna la lista del ejercicio anterior a new_tickers. Cambia un elemento de new_tickers por otro. ¿Qué le ocurre a tickers?."
   ]
  },
  {
   "cell_type": "code",
   "execution_count": null,
   "metadata": {},
   "outputs": [],
   "source": [
    "new_tickers = tickers\n",
    "new_tickers[0] = 'NTGY'\n",
    "print(tickers)\n",
    "print(new_tickers)"
   ]
  },
  {
   "cell_type": "markdown",
   "metadata": {},
   "source": [
    "**1.4.3.** Crea una lista con los números pares entre 1 al 100."
   ]
  },
  {
   "cell_type": "code",
   "execution_count": null,
   "metadata": {},
   "outputs": [],
   "source": [
    "list_1 = list(range(2,101,2))\n",
    "print(list_1)"
   ]
  },
  {
   "cell_type": "markdown",
   "metadata": {},
   "source": [
    "**1.4.4.** Crea una lista con los números impares entre 300 al 500."
   ]
  },
  {
   "cell_type": "code",
   "execution_count": null,
   "metadata": {},
   "outputs": [],
   "source": [
    "list_2 = list(range(301,501,2))\n",
    "print(list_2)"
   ]
  },
  {
   "cell_type": "markdown",
   "metadata": {},
   "source": [
    "**1.4.5.** Junta las dos últimas listas."
   ]
  },
  {
   "cell_type": "code",
   "execution_count": null,
   "metadata": {},
   "outputs": [],
   "source": [
    "list_1.append(list_2) # Así creamos una nested list\n",
    "print(list_1)"
   ]
  },
  {
   "cell_type": "code",
   "execution_count": null,
   "metadata": {},
   "outputs": [],
   "source": [
    "list_all = [*list_1, *list_2]\n",
    "print(list_all)"
   ]
  },
  {
   "cell_type": "markdown",
   "metadata": {},
   "source": [
    "**1.4.6.** Construye una lista anidada que contenga la siguiente matriz:\n",
    "\\begin{bmatrix}\n",
    "    1 & .5 \\\\\n",
    "    .5 & 1\n",
    "  \\end{bmatrix}"
   ]
  },
  {
   "cell_type": "code",
   "execution_count": null,
   "metadata": {},
   "outputs": [],
   "source": [
    "matrix = [[1, 0.5],\n",
    "          [0.5, 1]]\n",
    "\n",
    "print(matrix)"
   ]
  },
  {
   "cell_type": "code",
   "execution_count": null,
   "metadata": {},
   "outputs": [],
   "source": [
    "matrix[1][0]"
   ]
  },
  {
   "cell_type": "markdown",
   "metadata": {},
   "source": [
    "**1.4.7.** Crea una lista que contenga los siguientes elementos:\n",
    "- Rango de 1 a 10\n",
    "- \"En un lugar de la Mancha, de cuyo nombre no quiero acordarme\""
   ]
  },
  {
   "cell_type": "code",
   "execution_count": null,
   "metadata": {},
   "outputs": [],
   "source": [
    "lista = list(range(1,11))\n",
    "lista.append('En un lugar de la Mancha, de cuyo nombre no quiero acordarme')\n",
    "lista"
   ]
  },
  {
   "cell_type": "markdown",
   "metadata": {},
   "source": [
    "**1.4.8.** Añade el número 11 al rango"
   ]
  },
  {
   "cell_type": "code",
   "execution_count": null,
   "metadata": {},
   "outputs": [],
   "source": [
    "lista.insert(10, 11) # <list>.insert(index, <el>)\n",
    "lista"
   ]
  },
  {
   "cell_type": "markdown",
   "metadata": {},
   "source": [
    "**1.4.9.** Cambia el valor 5 por \"hola\""
   ]
  },
  {
   "cell_type": "code",
   "execution_count": null,
   "metadata": {},
   "outputs": [],
   "source": [
    "index = lista.index(5)\n",
    "lista[index] = 'hola'\n",
    "lista"
   ]
  },
  {
   "cell_type": "markdown",
   "metadata": {},
   "source": [
    "**1.4.10.** Cuenta el número de vocales de la frase"
   ]
  },
  {
   "cell_type": "code",
   "execution_count": null,
   "metadata": {},
   "outputs": [],
   "source": [
    "(lista[11].count('a') +\n",
    "lista[11].lower().count('e') + \n",
    "lista[11].count('i') + \n",
    "lista[11].count('o') + \n",
    "lista[11].count('u'))"
   ]
  },
  {
   "cell_type": "markdown",
   "metadata": {},
   "source": [
    "**1.4.11.** Dale la vuelta a la frase y asígnala de nuevo "
   ]
  },
  {
   "cell_type": "code",
   "execution_count": null,
   "metadata": {},
   "outputs": [],
   "source": [
    "lista[11] = lista[11][::-1]\n",
    "lista"
   ]
  },
  {
   "cell_type": "markdown",
   "metadata": {},
   "source": [
    "**1.4.12.** Extrae y elimina la frase de la lista"
   ]
  },
  {
   "cell_type": "code",
   "execution_count": null,
   "metadata": {},
   "outputs": [],
   "source": [
    "lista.pop()"
   ]
  },
  {
   "cell_type": "markdown",
   "metadata": {},
   "source": [
    "___"
   ]
  },
  {
   "cell_type": "markdown",
   "metadata": {},
   "source": [
    "### 1.5. Estructuras de datos: Sets"
   ]
  },
  {
   "cell_type": "markdown",
   "metadata": {},
   "source": [
    "**1.5.1.** Con las siguientes listas que representan las personas que asistirán a los eventos a y b:"
   ]
  },
  {
   "cell_type": "code",
   "execution_count": null,
   "metadata": {},
   "outputs": [],
   "source": [
    "a = [\"Jake\", \"John\", \"Eric\"]\n",
    "b = [\"John\", \"Jill\"]"
   ]
  },
  {
   "cell_type": "markdown",
   "metadata": {},
   "source": [
    "- Obten una lista de todos los participantes:"
   ]
  },
  {
   "cell_type": "code",
   "execution_count": null,
   "metadata": {},
   "outputs": [],
   "source": [
    "a = set(a)\n",
    "b = set(b)"
   ]
  },
  {
   "cell_type": "code",
   "execution_count": null,
   "metadata": {},
   "outputs": [],
   "source": [
    "a.union(b)"
   ]
  },
  {
   "cell_type": "code",
   "execution_count": null,
   "metadata": {},
   "outputs": [],
   "source": [
    "b.union(a)"
   ]
  },
  {
   "cell_type": "markdown",
   "metadata": {},
   "source": [
    "- Busca que personas asistirán a los dos eventos: "
   ]
  },
  {
   "cell_type": "code",
   "execution_count": null,
   "metadata": {},
   "outputs": [],
   "source": [
    "a.intersection(b)"
   ]
  },
  {
   "cell_type": "code",
   "execution_count": null,
   "metadata": {},
   "outputs": [],
   "source": [
    "b.intersection(a)"
   ]
  },
  {
   "cell_type": "markdown",
   "metadata": {},
   "source": [
    "- Busca que miembros asistirán a un evento y no al otro:"
   ]
  },
  {
   "cell_type": "code",
   "execution_count": null,
   "metadata": {},
   "outputs": [],
   "source": [
    "a.difference(b)"
   ]
  },
  {
   "cell_type": "code",
   "execution_count": null,
   "metadata": {},
   "outputs": [],
   "source": [
    "b.difference(a)"
   ]
  },
  {
   "cell_type": "markdown",
   "metadata": {},
   "source": [
    "- Buscar que miembros asistirán solo a uno de los eventos:"
   ]
  },
  {
   "cell_type": "code",
   "execution_count": null,
   "metadata": {},
   "outputs": [],
   "source": [
    "a.symmetric_difference(b)"
   ]
  },
  {
   "cell_type": "code",
   "execution_count": null,
   "metadata": {},
   "outputs": [],
   "source": [
    "b.symmetric_difference(a)"
   ]
  },
  {
   "cell_type": "markdown",
   "metadata": {},
   "source": [
    "___"
   ]
  },
  {
   "cell_type": "markdown",
   "metadata": {},
   "source": [
    "### 1.6. Estructuras de datos: Diccionarios."
   ]
  },
  {
   "cell_type": "markdown",
   "metadata": {},
   "source": [
    "**1.6.1.** Escribir un programa que pregunte al usuario su nombre, edad, dirección y teléfono y lo guarde en un diccionario. Despúes debe mostrar por pantalla el mensaje <nombre> tiene <edad> años, vive en <dirección> y su número de teléfono es <teléfono>."
   ]
  },
  {
   "cell_type": "code",
   "execution_count": null,
   "metadata": {},
   "outputs": [],
   "source": [
    "name = input('¿Cómo te llamas? ')\n",
    "age = input('¿Cuántos años tienes? ')\n",
    "address = input('¿Cuál es tu dirección? ')\n",
    "phone = input('¿Cuál es tu número de teléfono? ')\n",
    "\n",
    "person = {\n",
    "    'name': name,\n",
    "    'age': age,\n",
    "    'address': address,\n",
    "    'phone': phone,\n",
    "}\n",
    "\n",
    "print(f\"{person['name']} tiene {person['age']}\", \n",
    "      f\"años, vive en {person['address']}\"\n",
    "      f\" y su número de teléfono es {person['phone']}\")"
   ]
  },
  {
   "cell_type": "markdown",
   "metadata": {},
   "source": [
    "**1.6.2.** Escribir un programa que guarde en un diccionario los precios de las frutas de la tabla, pregunte al usuario por una fruta, un número de kilos y muestre por pantalla el precio de ese número de kilos de fruta.\n",
    "\n",
    "\n",
    "|Fruta|Precio|\n",
    "|-|-|\n",
    "|Plátano|1.35|\n",
    "|Manzana|0.80|\n",
    "|Pera|0.85|\n",
    "|Naranja|0.70|\n"
   ]
  },
  {
   "cell_type": "code",
   "execution_count": null,
   "metadata": {},
   "outputs": [],
   "source": [
    "precios = {\n",
    "    'Plátano':1.35,\n",
    "    'Manzana':0.8,\n",
    "    'Pera':0.85,\n",
    "    'Naranja':0.70,\n",
    "}\n",
    "\n",
    "name = input('¿Fruta?')\n",
    "kilos = input('¿Kilos? ')\n",
    "\n",
    "precio = int(kilos)*precios[name]\n",
    "print(f'A pagar {precio}')"
   ]
  },
  {
   "cell_type": "markdown",
   "metadata": {},
   "source": [
    "**1.6.3.** Teniendo la siguiente tabla de cotizaciones, ¿cómo podríamos guardar esta información usando diccionarios?\n",
    "\n",
    "\n",
    "|SAN|TEL|REP|IAG|\n",
    "|-|-|-|-|\n",
    "|2.10|3.89|7.10|1.99|\n",
    "|2.13|3.65|7.01|1.81|\n",
    "|2.22|3.54|7.07|1.74|\n",
    "|2.19|3.22|7.09|1.81|\n",
    "|2.11|3.36|6.54|1.72|\n",
    "|2.15|3.31|6.22|1.69|\n",
    "|2.10|3.87|6.35|1.54|\n",
    "|2.01|3.99|6.11|1.22|\n",
    "\n",
    "Recupera las cotizaciones de Tel en una variable independiente \"Telefonica\""
   ]
  },
  {
   "cell_type": "code",
   "execution_count": null,
   "metadata": {},
   "outputs": [],
   "source": [
    "cotizaciones = {\n",
    "    'SAN': [2.10, 2.13, 2.22, 2.19, 2.11, 2.15, 2.10, 2.01], \n",
    "    'TEL': [3.89, 3.65, 3.54, 3.22, 3.36, 3.31, 3.87, 3.99], \n",
    "    'REP': [7.10, 7.01, 7.07, 7.09, 6.54, 6.22, 6.35, 6.11],\n",
    "    'IAG': [1.99, 1.81, 1.74, 1.81, 1.72, 1.69, 1.54, 1.22],\n",
    "}\n",
    "\n",
    "telefonica = cotizaciones['TEL']\n",
    "telefonica"
   ]
  },
  {
   "cell_type": "markdown",
   "metadata": {},
   "source": [
    "**1.6.4.** ¿Y si además tuviéramos una columna de fecha?, ¿cómo usarías los diccionarios para guardar la información?\n",
    "\n",
    "|Fecha|SAN|TEL|REP|IAG|\n",
    "|-|-|-|-|-|\n",
    "|29/1/2020|2.10|3.89|7.10|1.99|\n",
    "|30/1/2020|2.13|3.65|7.01|1.81|\n",
    "|2/2/2020|2.22|3.54|7.07|1.74|\n",
    "|3/2/2020|2.19|3.22|7.09|1.81|\n",
    "|4/2/2020|2.11|3.36|6.54|1.72|\n",
    "|5/2/2020|2.15|3.31|6.22|1.69|\n",
    "|6/2/2020|2.10|3.87|6.35|1.54|\n",
    "|9/2/2020|2.01|3.99|6.11|1.22|\n",
    "\n",
    "Recupera el valor de Repsol el 2 de febrero de 2020 y guárdalo en una variable"
   ]
  },
  {
   "cell_type": "code",
   "execution_count": null,
   "metadata": {},
   "outputs": [],
   "source": [
    "cotizaciones = {\n",
    "    '29/1/2020': {'SAN': 2.10, 'TEL': 3.89, 'REP': 7.10, 'IAG': 1.99}, \n",
    "    '30/1/2020': {'SAN': 2.13, 'TEL': 3.65, 'REP': 7.01, 'IAG': 1.81}, \n",
    "    '2/2/2020': {'SAN': 2.22, 'TEL': 3.54, 'REP': 7.07, 'IAG': 1.74},\n",
    "    '3/2/2020': {'SAN': 2.19, 'TEL': 3.22, 'REP': 7.09, 'IAG': 1.81},\n",
    "    '4/2/2020': {'SAN': 2.11, 'TEL': 3.36, 'REP': 6.54, 'IAG': 1.72},\n",
    "    '5/2/2020': {'SAN': 2.15, 'TEL': 3.31, 'REP': 6.22, 'IAG': 1.69},\n",
    "    '6/2/2020': {'SAN': 2.10, 'TEL': 3.87, 'REP': 6.35, 'IAG': 1.54},\n",
    "    '9/2/2020': {'SAN': 2.01, 'TEL': 3.99, 'REP': 6.11, 'IAG': 1.22},\n",
    "}\n",
    "\n",
    "dato_repsol = cotizaciones['2/2/2020']['REP']\n",
    "dato_repsol"
   ]
  },
  {
   "cell_type": "markdown",
   "metadata": {},
   "source": [
    "### 1.7. Control Flow."
   ]
  },
  {
   "cell_type": "markdown",
   "metadata": {},
   "source": [
    "**1.7.1.** Escribe un programa que encuentre todos los enteros entre 2000 y 3200 (ambos incluidos) que sean divisibles por 7 pero no múltiplos de 5"
   ]
  },
  {
   "cell_type": "code",
   "execution_count": null,
   "metadata": {},
   "outputs": [],
   "source": [
    "lista = []\n",
    "\n",
    "for x in range(2000,3201):\n",
    "    \n",
    "    if (x%7 == 0) and (x%5 != 0):\n",
    "        lista.append(x)\n",
    "        \n",
    "print(lista)"
   ]
  },
  {
   "cell_type": "markdown",
   "metadata": {},
   "source": [
    "**1.7.2.** Recorre los elementos de la lista y extrae los que empiecen por C\n",
    "\n",
    "numeros = [\"uno\", \"dos\", \"tres\", \"cuatro\", \"cinco\", \"treinta\"]"
   ]
  },
  {
   "cell_type": "code",
   "execution_count": null,
   "metadata": {},
   "outputs": [],
   "source": [
    "numeros = [\"uno\", \"dos\", \"tres\", \"cuatro\", \"cinco\", \"treinta\"]\n",
    "lista = []\n",
    "\n",
    "for elemento in numeros:\n",
    "    if elemento[0]=='c':\n",
    "        lista.append(elemento)\n",
    "\n",
    "print(lista)"
   ]
  },
  {
   "cell_type": "markdown",
   "metadata": {},
   "source": [
    "**1.7.3.** Escribe un programa que calcule el número de vocales en la frase \"En un lugar de la Mancha, de cuyo nombre no quiero acordarme\". Usa obligatoriamente un bucle."
   ]
  },
  {
   "cell_type": "code",
   "execution_count": null,
   "metadata": {},
   "outputs": [],
   "source": [
    "frase = 'En un lugar de la Mancha, de cuyo nombre no quiero acordarme'\n",
    "frase = frase.lower\n",
    "\n",
    "vocales = ['a', 'e', 'i', 'o', 'u']\n",
    "contador = 0\n",
    "\n",
    "for c in frase():\n",
    "    \n",
    "    if c in vocales:\n",
    "        contador+=1\n",
    "\n",
    "contador"
   ]
  },
  {
   "cell_type": "markdown",
   "metadata": {},
   "source": [
    "**1.7.4.** Crea una lista de enteros con 100 elementos, inicializándolos con valores aleatorios entre 1 y 20 \n",
    "- Calcula la media de los valores, el valor más alto y el más bajo (todo ello utilizando listas). \n",
    "- Utiliza las funciones para generación de números aleatorios de Python (https://docs.python.org/dev/library/random.html)."
   ]
  },
  {
   "cell_type": "code",
   "execution_count": null,
   "metadata": {},
   "outputs": [],
   "source": [
    "import random\n",
    "\n",
    "lista_random = []\n",
    "\n",
    "for x in range(100):\n",
    "    lista_random.append(random.randint(1, 20))\n",
    "\n",
    "numerador = 0\n",
    "for x in lista_random:\n",
    "    numerador += x\n",
    "media = numerador / len(lista_random)\n",
    "\n",
    "print(media)\n",
    "print(max(lista_random))\n",
    "print(min(lista_random))"
   ]
  },
  {
   "cell_type": "markdown",
   "metadata": {},
   "source": [
    "**1.7.5.** Escribe un programa que pida al usuario un nombre de usuario y su contraseña\n",
    "\n",
    "- Devuelve si ya esta registrado y si la contraseña es correcta.\n",
    "- Usa el siguiente diccionario de punto de partida:\n",
    "\n",
    "```python\n",
    "users_dict = {\n",
    "    \"user1\": \"password1\",\n",
    "    \"user2\": \"password2\",\n",
    "    \"user3\": \"password3\"\n",
    "}\n",
    "```"
   ]
  },
  {
   "cell_type": "code",
   "execution_count": null,
   "metadata": {},
   "outputs": [],
   "source": [
    "users_dict = {\n",
    "    \"user1\": \"password1\",\n",
    "    \"user2\": \"password2\",\n",
    "    \"user3\": \"password3\",\n",
    "}\n",
    "\n",
    "user = input('Username: ')\n",
    "\n",
    "if user in users_dict.keys():\n",
    "    password = input('Password: ')\n",
    "    \n",
    "    if password == users_dict[user]:\n",
    "        print('Logged')\n",
    "    else:\n",
    "        print('Incorrect Pass')\n",
    "else:\n",
    "    print('No registed')"
   ]
  },
  {
   "cell_type": "markdown",
   "metadata": {},
   "source": [
    "___\n",
    "### 1.8. Dict and List comprehensions."
   ]
  },
  {
   "cell_type": "markdown",
   "metadata": {},
   "source": [
    "**1.8.1.** Calcula la suma de todos los elementos, entre el 1 y el 200, que sean múltiplos de 3 o de 5."
   ]
  },
  {
   "cell_type": "code",
   "execution_count": null,
   "metadata": {},
   "outputs": [],
   "source": [
    "sum([x for x in range(1, 201) if (x%3 == 0) or (x%5 == 0)])"
   ]
  },
  {
   "cell_type": "markdown",
   "metadata": {},
   "source": [
    "**1.8.2.** Crea una lista de 100 enteros, inicializándolos según valores aleatorios en el rango de 1 a 20"
   ]
  },
  {
   "cell_type": "code",
   "execution_count": null,
   "metadata": {},
   "outputs": [],
   "source": [
    "import random\n",
    "\n",
    "lista_random = [random.randint(1, 20) for x in range(100)]\n",
    "lista_random"
   ]
  },
  {
   "cell_type": "markdown",
   "metadata": {},
   "source": [
    "**1.8.3.** Recorre los elementos de la lista y extrae los que empiecen por C. \n",
    "\n",
    "numeros = [\"uno\", \"dos\", \"tres\", \"cuatro\", \"cinco\", \"treinta\"]"
   ]
  },
  {
   "cell_type": "code",
   "execution_count": null,
   "metadata": {},
   "outputs": [],
   "source": [
    "numeros = [\"uno\", \"dos\", \"tres\", \"cuatro\", \"cinco\", \"treinta\"]\n",
    "\n",
    "[elemento for elemento in numeros if elemento[0]=='c']"
   ]
  },
  {
   "cell_type": "markdown",
   "metadata": {},
   "source": [
    "**1.8.4.** Escribe un programa que calcule el número de vocales en la frase \"En un lugar de la Mancha, de cuyo nombre no quiero acordarme\"."
   ]
  },
  {
   "cell_type": "code",
   "execution_count": null,
   "metadata": {},
   "outputs": [],
   "source": [
    "frase = 'En un lugar de la Mancha, de cuyo nombre no quiero acordarme'\n",
    "frase = frase.lower\n",
    "vocales = ['a', 'e', 'i', 'o', 'u']\n",
    "\n",
    "voc = [c for c in frase() if c in vocales]\n",
    "len(voc)"
   ]
  },
  {
   "cell_type": "code",
   "execution_count": null,
   "metadata": {},
   "outputs": [],
   "source": [
    "frase = 'En un lugar de la Mancha, de cuyo nombre no quiero acordarme'\n",
    "\n",
    "len([c for c in frase.lower() if c in ['a', 'e', 'i', 'o', 'u']])"
   ]
  },
  {
   "cell_type": "markdown",
   "metadata": {},
   "source": [
    "___\n",
    "###  1.9. Exceptions"
   ]
  },
  {
   "cell_type": "markdown",
   "metadata": {},
   "source": [
    "**1.9.1.** Escribe un programa que guarde en un diccionario los precios de las frutas de la tabla, pregunte al usuario por una fruta, un número de kilos y muestre por pantalla el precio de ese número de kilos de fruta.\n",
    "\n",
    "|Fruta|Precio|\n",
    "|-|-|\n",
    "|Plátano|1.35|\n",
    "|Manzana|0.80|\n",
    "|Pera|0.85|\n",
    "|Naranja|0.70|\n",
    "\n",
    "Añade una excepción para cuando el número de kilos no se pueda convertir."
   ]
  },
  {
   "cell_type": "code",
   "execution_count": null,
   "metadata": {},
   "outputs": [],
   "source": [
    "precios = {\n",
    "    'Plátano':1.35,\n",
    "    'Manzana':0.8,\n",
    "    'Pera':0.85,\n",
    "    'Naranja':0.70,\n",
    "}\n",
    "\n",
    "name = input('¿Fruta?')\n",
    "\n",
    "if name in precios:\n",
    "    \n",
    "    kilos = input('¿Kilos? ')\n",
    "    try:\n",
    "        conv = float(kilos)\n",
    "        precio = float(kilos)*precios[name]\n",
    "        print(f'A pagar {precio}')\n",
    "    except ValueError:\n",
    "        print(f'No se puede convertir {kilos}')\n",
    "        \n",
    "else:\n",
    "    print('No tengo')"
   ]
  },
  {
   "cell_type": "markdown",
   "metadata": {},
   "source": [
    "**1.9.2.** Escribe un programa que pida al usuario un nombre de usuario y su contraseña\n",
    "\n",
    "- Devuelve si ya esta registrado y si la contraseña es correcta.\n",
    "- En el caso de que la contraeña no sea numérica eleva una excepción que indique \"contraseña no identificada, cuenta bloqueada\"\n",
    "- Usa el siguiente diccionario de punto de partida:\n",
    "\n",
    "```python\n",
    "users_dict = {\n",
    "    \"Fernando\": \"1234\",\n",
    "    \"Guillermo\": \"2453\",\n",
    "    \"Enrique\": \"2334\"\n",
    "}\n",
    "```"
   ]
  },
  {
   "cell_type": "code",
   "execution_count": null,
   "metadata": {},
   "outputs": [],
   "source": [
    "users_dict = {\n",
    "    \"Fernando\": \"1234\",\n",
    "    \"Guillermo\": \"2453\",\n",
    "    \"Enrique\": \"2334\"\n",
    "}\n",
    "\n",
    "user = input('Username: ')\n",
    "\n",
    "if user in users_dict.keys():\n",
    "    password = input('Password: ')\n",
    "    \n",
    "    try:\n",
    "    \n",
    "        float(password)\n",
    "    \n",
    "        if password == users_dict[user]:\n",
    "            print('Logged')\n",
    "        else:\n",
    "            print('Incorrect Pass')\n",
    "            \n",
    "    except Exception as e:\n",
    "        print(\"contraseña no identificada, cuenta bloqueada\")\n",
    "    \n",
    "else:\n",
    "    print('No registed')\n",
    "    "
   ]
  },
  {
   "cell_type": "markdown",
   "metadata": {},
   "source": [
    "___\n",
    "### 1.10. Funciones."
   ]
  },
  {
   "cell_type": "markdown",
   "metadata": {},
   "source": [
    "**1.10.1.** Escribe una función a la que se le pase una vector de números y calcule su media."
   ]
  },
  {
   "cell_type": "code",
   "execution_count": null,
   "metadata": {},
   "outputs": [],
   "source": [
    "def media_numeros(numeros):\n",
    "    \n",
    "    try:\n",
    "              \n",
    "        resultado = sum(numeros)/len(numeros)\n",
    "        \n",
    "        return(resultado)\n",
    "        \n",
    "    except Exception as e:\n",
    "        \n",
    "        print(\"Debes introducir una lista de números\")\n",
    "    "
   ]
  },
  {
   "cell_type": "code",
   "execution_count": null,
   "metadata": {},
   "outputs": [],
   "source": [
    "numeros = [1, 2, 3, 4, 5, \"a\"]\n",
    "\n",
    "media_numeros(numeros)"
   ]
  },
  {
   "cell_type": "markdown",
   "metadata": {},
   "source": [
    "**1.10.2.** Escribe una función que calcule el IVA (21%) de un producto dado su precio de venta sin IVA y devuelva el precio total."
   ]
  },
  {
   "cell_type": "code",
   "execution_count": null,
   "metadata": {},
   "outputs": [],
   "source": [
    "def precio_total(precio_sin_iva, iva = 0.21):\n",
    "    \n",
    "    try:\n",
    "        \n",
    "        resultado = precio_sin_iva * (1 + iva)\n",
    "\n",
    "        return (resultado)\n",
    "\n",
    "    except Exception as e:\n",
    "        \n",
    "        print(\"Debes introducir un precio como número\")"
   ]
  },
  {
   "cell_type": "code",
   "execution_count": null,
   "metadata": {},
   "outputs": [],
   "source": [
    "precio_sin_iva = \"100\"\n",
    "\n",
    "precio_total(precio_sin_iva, iva = 0.21)"
   ]
  },
  {
   "cell_type": "markdown",
   "metadata": {},
   "source": [
    "**1.10.3.** Escribe una función que reconozca palíndromos. Un palíndromo es una palabra que se lee igual al derecho que al revés."
   ]
  },
  {
   "cell_type": "code",
   "execution_count": null,
   "metadata": {},
   "outputs": [],
   "source": [
    "def palindromo(palabra):\n",
    "    \n",
    "    palabra = palabra.lower()\n",
    "    \n",
    "    if palabra == palabra[::-1]:\n",
    "        \n",
    "        return(\"Es un palíndromo\")\n",
    "    \n",
    "    else:\n",
    "    \n",
    "        return(\"No es un palíndromo\")\n",
    "    "
   ]
  },
  {
   "cell_type": "code",
   "execution_count": null,
   "metadata": {},
   "outputs": [],
   "source": [
    "palindromo(\"Ana\")"
   ]
  },
  {
   "cell_type": "markdown",
   "metadata": {},
   "source": [
    "**1.10.4.** Escribe una función Python que a partir de una cantidad en euros, y del tipo de cambio del día, retorne el equivalente en libras teniendo en cuenta que la casa de cambio retiene una comisión del 2% sobre el total de la operación. Nota: EUR/GBP = 0.8624"
   ]
  },
  {
   "cell_type": "code",
   "execution_count": null,
   "metadata": {},
   "outputs": [],
   "source": [
    "def eur_to_gbp(euros, tipo=0.8624, comision=0.02):\n",
    "    tasa = euros*comision\n",
    "    a_cambiar = euros-tasa\n",
    "    total_gpd = a_cambiar*tipo\n",
    "    return total_gpd"
   ]
  },
  {
   "cell_type": "code",
   "execution_count": null,
   "metadata": {},
   "outputs": [],
   "source": [
    "eur_to_gbp(euros=100, tipo=0.8624, comision=0.02)"
   ]
  },
  {
   "cell_type": "markdown",
   "metadata": {},
   "source": [
    "**1.10.5.** Escribe una función que calcule el área de un círculo recibiendo como parámetro su radio (valor por defecto 1). El módulo math de Python contiene una constante para PI."
   ]
  },
  {
   "cell_type": "code",
   "execution_count": null,
   "metadata": {},
   "outputs": [],
   "source": [
    "import math\n",
    "\n",
    "def area_circulo(r=1):\n",
    "    return math.pi*(r**2)"
   ]
  },
  {
   "cell_type": "code",
   "execution_count": null,
   "metadata": {},
   "outputs": [],
   "source": [
    "print(area_circulo())\n",
    "print(area_circulo(10))\n",
    "print(area_circulo(r=15))"
   ]
  },
  {
   "cell_type": "markdown",
   "metadata": {},
   "source": [
    "**1.10.6.** Escribe una función que devuelva una lista con n números aleatorios entre 0 y 10 generados con una distribución uniforme (n es un parámetro obligatorio). El módulo random de Python contiene una función uniform."
   ]
  },
  {
   "cell_type": "code",
   "execution_count": null,
   "metadata": {},
   "outputs": [],
   "source": [
    "import random\n",
    "\n",
    "def lista_uniforme(n):\n",
    "    lista_un = [random.uniform(0,10) for x in range(n)]\n",
    "    return lista_un"
   ]
  },
  {
   "cell_type": "code",
   "execution_count": null,
   "metadata": {},
   "outputs": [],
   "source": [
    "lista_uniforme(10)"
   ]
  },
  {
   "cell_type": "markdown",
   "metadata": {},
   "source": [
    "___\n",
    "### 1.11. Modulos y Scripts."
   ]
  },
  {
   "cell_type": "markdown",
   "metadata": {},
   "source": [
    "**1.11.1.** Incluye las funciones de los ejercicios **1.10.5** y  **1.10.6** en un módulo, impórtalas y úsalas.\n",
    "\n",
    "- 1.10.5. Escribe una función que calcule el área de un círculo recibiendo como parámetro su radio (valor por defecto 1). El módulo math de Python contiene una constante para PI.\n",
    "- 1.10.6. Escribe una función que devuelva una lista con n números aleatorios entre 0 y 10 generados con una distribución uniforme (n es un parámetro obligatorio). El módulo random de Python contiene una función uniform."
   ]
  },
  {
   "cell_type": "code",
   "execution_count": null,
   "metadata": {},
   "outputs": [],
   "source": [
    "from my_module import area_circulo\n",
    "from my_module import lista_uniforme\n",
    "\n",
    "print(area_circulo())\n",
    "print(lista_uniforme(10))"
   ]
  },
  {
   "cell_type": "code",
   "execution_count": null,
   "metadata": {},
   "outputs": [],
   "source": [
    "from my_module import area_circulo as area_circulo_modulo\n",
    "from my_module import lista_uniforme as lista_uniforme_modulo\n",
    "\n",
    "print(area_circulo_modulo())\n",
    "print(lista_uniforme_modulo(10))"
   ]
  },
  {
   "cell_type": "markdown",
   "metadata": {},
   "source": [
    "___\n",
    "### 1.12. Escritura de ficheros de texto y guardado de variables."
   ]
  },
  {
   "cell_type": "markdown",
   "metadata": {},
   "source": [
    "**1.12.1.** Abre el fichero tickers.txt y obten los tickers únicos. Guarda el resultado en otro fichero txt."
   ]
  },
  {
   "cell_type": "code",
   "execution_count": null,
   "metadata": {},
   "outputs": [],
   "source": [
    "with open('tickers.txt', 'r') as f:\n",
    "    x = f.readlines()\n",
    "tickers = [l.rstrip('\\n') for l in x]"
   ]
  },
  {
   "cell_type": "code",
   "execution_count": null,
   "metadata": {},
   "outputs": [],
   "source": [
    "unique_ticker = set(tickers)"
   ]
  },
  {
   "cell_type": "code",
   "execution_count": null,
   "metadata": {},
   "outputs": [],
   "source": [
    "with open('tickers_unique.txt', 'w') as f:\n",
    "    for item in unique_ticker:\n",
    "        f.write(f\"{item} \\n\")"
   ]
  },
  {
   "cell_type": "markdown",
   "metadata": {},
   "source": [
    "**1.12.2.** Carga el fichero ibex_div.csv y calcula su precio máximo, mínimo y medio, de la columna close. Guarda los resultados en un pickle."
   ]
  },
  {
   "cell_type": "code",
   "execution_count": null,
   "metadata": {},
   "outputs": [],
   "source": [
    "import pickle"
   ]
  },
  {
   "cell_type": "code",
   "execution_count": null,
   "metadata": {},
   "outputs": [],
   "source": [
    "with open(\"ibex_div.csv\", \"r\") as f:\n",
    "    lines = f.readlines()\n",
    "lines = lines[1:]    "
   ]
  },
  {
   "cell_type": "code",
   "execution_count": null,
   "metadata": {},
   "outputs": [],
   "source": [
    "close = [float(l.split(',')[1]) for l in lines]\n",
    "\n",
    "result = {\n",
    "    'ib_max': max(close),\n",
    "    'ib_min': min(close),\n",
    "    'ib_mean': sum(close)/len(close),\n",
    "}"
   ]
  },
  {
   "cell_type": "code",
   "execution_count": null,
   "metadata": {},
   "outputs": [],
   "source": [
    "with open('eje_result.pkl', 'wb') as f:\n",
    "    pickle.dump(result, f)"
   ]
  }
 ],
 "metadata": {
  "kernelspec": {
   "display_name": "Python 3",
   "language": "python",
   "name": "python3"
  },
  "language_info": {
   "codemirror_mode": {
    "name": "ipython",
    "version": 3
   },
   "file_extension": ".py",
   "mimetype": "text/x-python",
   "name": "python",
   "nbconvert_exporter": "python",
   "pygments_lexer": "ipython3",
   "version": "3.7.6"
  }
 },
 "nbformat": 4,
 "nbformat_minor": 4
}
