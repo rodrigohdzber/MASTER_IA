{
 "cells": [
  {
   "cell_type": "markdown",
   "metadata": {},
   "source": [
    "# 7.5. Valoración de opciones financieras."
   ]
  },
  {
   "cell_type": "markdown",
   "metadata": {},
   "source": [
    "- Carga el fichero: under_9126_.txt\n",
    "- Pon cada campo con el tipo de datos correspondiente.\n",
    "- Crea dos dataframes, uno para las puts y otro para las calls.\n",
    "- Tendrán las siguientes columnas: ['Fecha Expir', 'Strike', 'Call_Compra',] y ['Fecha Expir', 'Strike', 'Put_Compra',]]\n",
    "- Elimina los nans.\n",
    "- Realiza un plot para cada vencimiento del precio frente al strike.\n",
    "- Utilizando la librería https://github.com/yassinemaaroufi/MibianLib/tree/master/mibian calcula la volatilidad implícita de cada una de las opciones. Utiliza los siguientes parámetos:\n",
    "underlyingPrice = 9126\n",
    "interestRate = 0.01\n",
    "annualDividends = 4\n",
    "- Realiza una figura de la superfice de volatilidad: días de vencimiento vs strike vs volatilidas implícita para las calls y las puts."
   ]
  },
  {
   "cell_type": "markdown",
   "metadata": {},
   "source": [
    "### Carga del fichero"
   ]
  },
  {
   "cell_type": "code",
   "execution_count": null,
   "metadata": {},
   "outputs": [],
   "source": [
    "import pandas as pd\n",
    "import matplotlib as plt\n",
    "#%matplotlib inline"
   ]
  },
  {
   "cell_type": "code",
   "execution_count": null,
   "metadata": {},
   "outputs": [],
   "source": [
    "file = 'under_9126_.txt'\n",
    "data = pd.read_csv(file,sep='\\t', decimal=\",\", thousands='.')\n",
    "data = data.reset_index()\n",
    "data.columns = data.iloc[0,:]\n",
    "data = data.iloc[1:,:]\n",
    "data = data.drop(['Fecha', 'Hora', 'Nombre Subya'], axis=1)\n",
    "data.columns = [\n",
    "    'Call_CC', 'Call_Compra', 'Call_Venta', 'Call_CV', \n",
    "    'Call_Ultimo', 'Call_Contratos', 'Call_Delta',\n",
    "    'Fecha Expir', 'Strike', 'Put_Delta', \n",
    "    'Put_Contratos', 'Put_Ultimo', 'Put_CC',\n",
    "    'Put_Compra', 'Put_Venta', 'Put_CV'\n",
    "]\n",
    "num_col = [\n",
    "    'Call_CC', 'Call_Compra', 'Call_Venta', 'Call_CV', 'Call_Ultimo',\n",
    "    'Call_Contratos', 'Call_Delta', 'Strike', 'Put_Delta',\n",
    "    'Put_Contratos', 'Put_Ultimo', 'Put_CC', 'Put_Compra', 'Put_Venta',\n",
    "    'Put_CV'\n",
    "]\n",
    "def to_num_col(x):\n",
    "    x = x.str.replace('.', '')\n",
    "    x = x.str.replace(',', '.')\n",
    "    return x\n",
    "data.loc[:, num_col] = data[num_col].apply(to_num_col)\n",
    "#data.set_index(['Fecha Expir', 'Strike'], inplace=True)\n",
    "#data.set_index(['Fecha Expir'], inplace=True)\n",
    "#data = data.loc[:, ['Fecha Expir', 'Strike', 'Call_Ultimo', 'Put_Ultimo']]\n",
    "#data['Fecha Expir'] = pd.to_datetime(data['Fecha Expir'])\n",
    "#data[['Strike', 'Call_Ultimo', 'Put_Ultimo']] = data[['Strike', 'Call_Ultimo', 'Put_Ultimo']].apply(pd.to_numeric)\n",
    "data['Fecha Expir'] = pd.to_datetime(data['Fecha Expir'])\n",
    "data[num_col] = data[num_col].apply(pd.to_numeric)"
   ]
  },
  {
   "cell_type": "code",
   "execution_count": null,
   "metadata": {},
   "outputs": [],
   "source": [
    "data_call = data[['Fecha Expir', 'Strike', 'Call_Compra',]]\n",
    "data_put = data[['Fecha Expir', 'Strike', 'Put_Compra',]]\n",
    "data_call = data_call.dropna()\n",
    "data_put = data_put.dropna()"
   ]
  },
  {
   "cell_type": "code",
   "execution_count": null,
   "metadata": {},
   "outputs": [],
   "source": [
    "import matplotlib.pyplot as plt\n",
    "fig, ax = plt.subplots(figsize=(20, 10))\n",
    "for date, new_df in data_call.groupby('Fecha Expir'):\n",
    "    new_df.plot(x='Strike', y='Call_Compra', ax=ax, label=date)\n",
    "ax.legend()"
   ]
  },
  {
   "cell_type": "code",
   "execution_count": null,
   "metadata": {},
   "outputs": [],
   "source": [
    "fig, ax = plt.subplots(figsize=(20, 10))\n",
    "for date, new_df in data_put.groupby('Fecha Expir'):\n",
    "    new_df.plot(x='Strike', y='Put_Compra', ax=ax, label=date)\n",
    "ax.legend()"
   ]
  },
  {
   "cell_type": "code",
   "execution_count": null,
   "metadata": {},
   "outputs": [],
   "source": [
    "# otra manera\n",
    "data_mindex = data_call.set_index(['Fecha Expir', 'Strike'])\n",
    "data_mindex['Call_Compra'].unstack(level=-1).T.plot() # layout=(1,2) subplots=True"
   ]
  },
  {
   "cell_type": "code",
   "execution_count": null,
   "metadata": {},
   "outputs": [],
   "source": [
    "# otra manera\n",
    "data_mindex = data_put.set_index(['Fecha Expir', 'Strike'])\n",
    "data_mindex['Put_Compra'].unstack(level=-1).T.plot() # layout=(1,2) subplots=True"
   ]
  },
  {
   "cell_type": "markdown",
   "metadata": {},
   "source": [
    "### Calulo de volatilidades:\n",
    "- https://github.com/yassinemaaroufi/MibianLib/tree/master/mibian\n",
    "- http://www.option-price.com/implied-volatility.php"
   ]
  },
  {
   "cell_type": "code",
   "execution_count": null,
   "metadata": {},
   "outputs": [],
   "source": [
    "pip install mibian"
   ]
  },
  {
   "cell_type": "code",
   "execution_count": null,
   "metadata": {},
   "outputs": [],
   "source": [
    "import mibian\n",
    "import datetime"
   ]
  },
  {
   "cell_type": "code",
   "execution_count": null,
   "metadata": {},
   "outputs": [],
   "source": [
    "underlyingPrice = 9126\n",
    "interestRate = 0.01\n",
    "annualDividends = 4\n",
    "\n",
    "def compute_imp_vol_call(x):\n",
    "    print(x)   \n",
    "    #Me([underlyingPrice, strikePrice, interestRate, annualDividends, daysToExpiration], volatility=x, callPrice=y, putPrice=z)\n",
    "    option_params = [\n",
    "        underlyingPrice,\n",
    "        x['Strike'],\n",
    "        interestRate,\n",
    "        annualDividends,\n",
    "        x['daysToExpiration']\n",
    "    ]\n",
    "    obj_mibian = mibian.Me(option_params, callPrice=x['Call_Compra'])\n",
    "    call_vol = obj_mibian.impliedVolatility\n",
    "    x.at['call_vol'] = call_vol\n",
    "    return x\n",
    "\n",
    "def compute_imp_vol_put(x):\n",
    "    print(x)   \n",
    "    #Me([underlyingPrice, strikePrice, interestRate, annualDividends, daysToExpiration], volatility=x, callPrice=y, putPrice=z)\n",
    "    option_params = [\n",
    "        underlyingPrice,\n",
    "        x['Strike'],\n",
    "        interestRate,\n",
    "        annualDividends,\n",
    "        x['daysToExpiration']\n",
    "    ]\n",
    "    obj_mibian = mibian.Me(option_params, putPrice=x['Put_Compra'])\n",
    "    put_vol = obj_mibian.impliedVolatility\n",
    "    x.at['put_vol'] = put_vol\n",
    "    return x"
   ]
  },
  {
   "cell_type": "code",
   "execution_count": null,
   "metadata": {},
   "outputs": [],
   "source": [
    "import datetime\n",
    "today = datetime.datetime.today()\n",
    "data_put['daysToExpiration'] = (data_put['Fecha Expir'] - today).dt.days"
   ]
  },
  {
   "cell_type": "code",
   "execution_count": null,
   "metadata": {},
   "outputs": [],
   "source": [
    "data_put = data_put.apply(compute_imp_vol_put, axis=1)"
   ]
  },
  {
   "cell_type": "code",
   "execution_count": null,
   "metadata": {},
   "outputs": [],
   "source": [
    "data_put.head()"
   ]
  },
  {
   "cell_type": "code",
   "execution_count": null,
   "metadata": {},
   "outputs": [],
   "source": [
    "data_call['daysToExpiration'] = (data_call['Fecha Expir'] - today).dt.days\n",
    "data_call = data_call.apply(compute_imp_vol_call, axis=1)"
   ]
  },
  {
   "cell_type": "markdown",
   "metadata": {},
   "source": [
    "- Ejemplo plot 3d\n",
    "- Tutorial: https://jakevdp.github.io/PythonDataScienceHandbook/04.12-three-dimensional-plotting.html\n",
    "- Superficie de volatilidad:"
   ]
  },
  {
   "cell_type": "code",
   "execution_count": null,
   "metadata": {},
   "outputs": [],
   "source": [
    "calls_volatilit = data_call.set_index(['daysToExpiration', 'Strike'])['call_vol'].unstack(level=-1)\n",
    "calls_volatilit = calls_volatilit.fillna(calls_volatilit.mean())"
   ]
  },
  {
   "cell_type": "code",
   "execution_count": null,
   "metadata": {},
   "outputs": [],
   "source": [
    "x = calls_volatilit.index.values\n",
    "y = calls_volatilit.columns.values\n",
    "z = calls_volatilit.values"
   ]
  },
  {
   "cell_type": "code",
   "execution_count": null,
   "metadata": {},
   "outputs": [],
   "source": [
    "import numpy as np\n",
    "from mpl_toolkits import mplot3d\n",
    "\n",
    "fig = plt.figure(figsize=(10, 7))\n",
    "ax = plt.axes(projection='3d')\n",
    "X, Y = np.meshgrid(x, y)\n",
    "ax.plot_surface(X, Y, z.T)"
   ]
  }
 ],
 "metadata": {
  "kernelspec": {
   "display_name": "Python 3",
   "language": "python",
   "name": "python3"
  },
  "language_info": {
   "codemirror_mode": {
    "name": "ipython",
    "version": 3
   },
   "file_extension": ".py",
   "mimetype": "text/x-python",
   "name": "python",
   "nbconvert_exporter": "python",
   "pygments_lexer": "ipython3",
   "version": "3.7.3"
  }
 },
 "nbformat": 4,
 "nbformat_minor": 2
}
