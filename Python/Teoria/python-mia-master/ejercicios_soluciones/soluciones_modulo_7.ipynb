{
 "cells": [
  {
   "cell_type": "markdown",
   "metadata": {},
   "source": [
    "___\n",
    "## Módulo 7: Python avanzado.\n",
    "___"
   ]
  },
  {
   "cell_type": "markdown",
   "metadata": {},
   "source": [
    "## 7.3. Más sobre la programación orientada a objetos.\n",
    "**7.3.1** Crea una clase vehiculo que tenga los atributos: color y numero de ruedas"
   ]
  },
  {
   "cell_type": "code",
   "execution_count": null,
   "metadata": {},
   "outputs": [],
   "source": [
    "class Vehiculo():\n",
    "\n",
    "    def __init__(self, color, ruedas):\n",
    "        self.color = color\n",
    "        self.ruedas = ruedas\n",
    "\n",
    "    def __str__(self):\n",
    "        return \"color {}, {} ruedas\".format( self.color, self.ruedas )"
   ]
  },
  {
   "cell_type": "markdown",
   "metadata": {},
   "source": [
    "**7.3.2** Crea 4 clases distintas que heredan de vehiculo: Coche, Camioneta, Bicicleta y Moto, define para todos ellos atributos especificos de cada clase"
   ]
  },
  {
   "cell_type": "code",
   "execution_count": null,
   "metadata": {},
   "outputs": [],
   "source": [
    "\n",
    "class Coche(Vehiculo):\n",
    "\n",
    "    def __init__(self, color, ruedas, velocidad, cilindrada):\n",
    "        super().__init__(color, ruedas)  # utilizamos super()\n",
    "        self.velocidad = velocidad\n",
    "        self.cilindrada = cilindrada\n",
    "\n",
    "    def __str__(self):\n",
    "        return super().__str__() + \", {} km/h, {} cc\".format(\n",
    "            self.velocidad, self.cilindrada)\n",
    "\n",
    "\n",
    "class Camioneta(Vehiculo):\n",
    "\n",
    "    def __init__(self, color, ruedas, velocidad, cilindrada, carga):\n",
    "        super().__init__(color, ruedas)\n",
    "        self.velocidad = velocidad\n",
    "        self.cilindrada = cilindrada\n",
    "        self.carga = carga\n",
    "\n",
    "    def __str__(self):\n",
    "        return super().__str__() + \", {} kg de carga\".format(self.carga)\n",
    "\n",
    "\n",
    "class Bicicleta(Vehiculo):\n",
    "\n",
    "    def __init__(self, color, ruedas, tipo):\n",
    "        super().__init__(color, ruedas)\n",
    "        self.tipo = tipo\n",
    "\n",
    "    def __str__(self):\n",
    "        return super().__str__() + \", {}\".format(self.tipo)\n",
    "\n",
    "\n",
    "class Motocicleta(Vehiculo):\n",
    "\n",
    "    def __init__(self, color, ruedas, tipo, velocidad, cilindrada):\n",
    "        super().__init__(color, ruedas)\n",
    "        self.tipo = tipo\n",
    "        self.velocidad = velocidad\n",
    "        self.cilindrada = cilindrada\n",
    "\n",
    "    def __str__(self):\n",
    "        return super().__str__() + \", {} km/h, {} cc\".format(\n",
    "            self.velocidad, self.cilindrada) "
   ]
  },
  {
   "cell_type": "markdown",
   "metadata": {},
   "source": [
    "**7.3.3** Crea una lista con objetos de las disitintas clases."
   ]
  },
  {
   "cell_type": "code",
   "execution_count": null,
   "metadata": {},
   "outputs": [],
   "source": [
    "lista_vehiculos = [\n",
    "    Coche(\"azul\", 4, 150, 1200),\n",
    "    Camioneta(\"blanco\", 4, 100, 1300, 1500),\n",
    "    Bicicleta(\"verde\", 2, \"urbana\"),\n",
    "    Motocicleta(\"negro\", 2, \"deportiva\", 180, 900)\n",
    "]"
   ]
  },
  {
   "cell_type": "markdown",
   "metadata": {},
   "source": [
    "**7.3.4** Define una funcion que pasandole una lista de vehiculos genere por pantalla un informe. Puedes añadir el método ``__str__`` a cada clase para facilitar el proceso."
   ]
  },
  {
   "cell_type": "code",
   "execution_count": null,
   "metadata": {},
   "outputs": [],
   "source": [
    "def catalogar(lista_vehiculos):\n",
    "    for vehiculo in lista_vehiculos:\n",
    "        print(vehiculo)"
   ]
  },
  {
   "cell_type": "code",
   "execution_count": null,
   "metadata": {},
   "outputs": [],
   "source": [
    "catalogar(lista_vehiculos)"
   ]
  },
  {
   "cell_type": "markdown",
   "metadata": {},
   "source": [
    "**7.3.5** Añade un argumento a la funcion para que solo informe de los vehiculos con un número determinado de ruedas pasado por parámetro."
   ]
  },
  {
   "cell_type": "code",
   "execution_count": null,
   "metadata": {},
   "outputs": [],
   "source": [
    "def catalogar(lista_vehiculos, ruedas):\n",
    "    print(f'Vehiculos con {ruedas} ruedas')\n",
    "    for vehiculo in lista_vehiculos:\n",
    "        if vehiculo.ruedas == ruedas: \n",
    "            print(vehiculo)"
   ]
  },
  {
   "cell_type": "code",
   "execution_count": null,
   "metadata": {},
   "outputs": [],
   "source": [
    "catalogar(lista_vehiculos, 0)\n",
    "catalogar(lista_vehiculos, 2)\n",
    "catalogar(lista_vehiculos, 4)"
   ]
  },
  {
   "cell_type": "markdown",
   "metadata": {},
   "source": [
    "## 7.4. Generadores."
   ]
  },
  {
   "cell_type": "markdown",
   "metadata": {},
   "source": [
    "**7.4.1.** Con el siguiente código que permite sacar dígitos del número PI uno a uno. Conviértelo a una función generadora y que, como en el ejemplo de Fibonacci, podamos sacar dígitos cada vez que pulsamos \"ENTER\""
   ]
  },
  {
   "cell_type": "code",
   "execution_count": null,
   "metadata": {},
   "outputs": [],
   "source": [
    "def sacar_pi(d):\n",
    "    \"\"\"Regresa una lista con los primeros d dígitos\n",
    "       de pi utilizando el algoritmo de espita\n",
    "       diseñado por Jeremy Gibbons. Implementación\n",
    "       de John Zelle\n",
    "    \"\"\"\n",
    "    x = []\n",
    "    q,r,t,k,n,l = 1,0,1,1,3,3\n",
    "    while len(x) < d:\n",
    "        if 4*q+r-t < n*t:\n",
    "            x.append(n)\n",
    "            q,r,t,k,n,l = (\n",
    "                10*q,10*(r-n*t),t,k,\n",
    "                (10*(3*q+r))//t-10*n,l)\n",
    "        else:\n",
    "            q,r,t,k,n,l = (\n",
    "                q*k,(2*q+r)*l,t*l,k+1,\n",
    "                (q*(7*k+2)+r*l)//(t*l),l+2)\n",
    "    return x\n",
    "\n",
    "print(sacar_pi(100))"
   ]
  },
  {
   "cell_type": "code",
   "execution_count": null,
   "metadata": {},
   "outputs": [],
   "source": [
    "def sacar_pi_gen(d):\n",
    "    \"\"\"Regresa una lista con los primeros d dígitos\n",
    "       de pi utilizando el algoritmo de espita\n",
    "       diseñado por Jeremy Gibbons. Implementación\n",
    "       de John Zelle\n",
    "    \"\"\"\n",
    "    x = 0\n",
    "    q,r,t,k,n,l = 1,0,1,1,3,3\n",
    "    while x < d:\n",
    "        if 4*q+r-t < n*t:\n",
    "            yield n\n",
    "            x += 1\n",
    "            q,r,t,k,n,l = (\n",
    "                10*q,10*(r-n*t),t,k,\n",
    "                (10*(3*q+r))//t-10*n,l)\n",
    "        else:\n",
    "            q,r,t,k,n,l = (\n",
    "                q*k,(2*q+r)*l,t*l,k+1,\n",
    "                (q*(7*k+2)+r*l)//(t*l),l+2)"
   ]
  },
  {
   "cell_type": "code",
   "execution_count": null,
   "metadata": {},
   "outputs": [],
   "source": [
    "# Comprobarlo con este bloque\n",
    "lista_gen = sacar_pi_gen(100)\n",
    "contador = 1\n",
    "while input(\"Pulse 'Enter' para ver otro digito del numero PI, 'F' para fin\")!=\"F\":\n",
    "    print(\"Valor \"+str(contador)+ \" de PI: \" +str(next(lista_gen)))\n",
    "    contador+=1\n",
    "print(\"Gracias por su colaboracion\")"
   ]
  },
  {
   "cell_type": "markdown",
   "metadata": {},
   "source": [
    "## 7.5. Decoradores."
   ]
  },
  {
   "cell_type": "markdown",
   "metadata": {},
   "source": [
    "**7.5.1** Queremos crear un log de todas las funciones que se llaman en un programa. Para ello crear un decorador que nos almacene en una lista una serie de valores como el nombre de la función, el time-stamp cuando se llamó, la duración, y los distintos argumentos que se han usado. Para ello crea tres funciones simples para realiazar el ejercicio. Imprimir luego el log creado."
   ]
  },
  {
   "cell_type": "code",
   "execution_count": null,
   "metadata": {},
   "outputs": [],
   "source": [
    "lista_logger = []"
   ]
  },
  {
   "cell_type": "code",
   "execution_count": null,
   "metadata": {},
   "outputs": [],
   "source": [
    "def log_list(func):\n",
    "    def decor_func(*args, **kwargs): \n",
    "        lista_logger.append(f'llamando a {func} con params {args} y {kwargs}')\n",
    "        func(*args, **kwargs) \n",
    "    return decor_func\n",
    "    "
   ]
  },
  {
   "cell_type": "code",
   "execution_count": null,
   "metadata": {},
   "outputs": [],
   "source": [
    "@log_list\n",
    "def suma(a, b):\n",
    "    return a + b\n",
    "\n",
    "@log_list\n",
    "def resta(a, b):\n",
    "    return a - b\n",
    "\n",
    "@log_list\n",
    "def mult(a, b):\n",
    "    return a * b"
   ]
  },
  {
   "cell_type": "code",
   "execution_count": null,
   "metadata": {},
   "outputs": [],
   "source": [
    "suma(1, 2)\n",
    "mult(1, 5)\n",
    "resta(1, 7)\n",
    "suma(1, 2)\n",
    "resta(1, 5)\n",
    "mult(1, 7)"
   ]
  },
  {
   "cell_type": "code",
   "execution_count": null,
   "metadata": {},
   "outputs": [],
   "source": [
    "lista_logger"
   ]
  },
  {
   "cell_type": "markdown",
   "metadata": {},
   "source": [
    "## 7.7 Más sobre funciones Lambda y programación funcional\n",
    "\n",
    "**7.7.1** Dado los siguientes items:"
   ]
  },
  {
   "cell_type": "code",
   "execution_count": null,
   "metadata": {},
   "outputs": [],
   "source": [
    "items = [(\"A\",5,6),(\"A\",4,5),(\"A\",3,8),(\"B\",6,9),(\"B\",7,4),(\"C\",9,2)]"
   ]
  },
  {
   "cell_type": "markdown",
   "metadata": {},
   "source": [
    "Escribir la función lambda necesaria con map y filter para obtener estos resultados:\n",
    "\n",
    "- ¿Cuantos items hay? (usar len)\n",
    "- ¿Cuantas A hay?\n",
    "- ¿Cuantas B hay? \n",
    "- Listar los segundos valores de cada item\n",
    "- Listar los terceros valores de cada item cuyo segundo valor sea mayor que 4?\n",
    "\n",
    "Repite lo mismo con list comprehensions."
   ]
  },
  {
   "cell_type": "code",
   "execution_count": null,
   "metadata": {},
   "outputs": [],
   "source": [
    "len(items)"
   ]
  },
  {
   "cell_type": "code",
   "execution_count": null,
   "metadata": {},
   "outputs": [],
   "source": [
    "len(list(filter(lambda x: x[0]=='A',items)))"
   ]
  },
  {
   "cell_type": "code",
   "execution_count": null,
   "metadata": {},
   "outputs": [],
   "source": [
    "len(list(filter(lambda x: x[0]=='B',items)))"
   ]
  },
  {
   "cell_type": "code",
   "execution_count": null,
   "metadata": {},
   "outputs": [],
   "source": [
    "list(map(lambda x:x[1],items))"
   ]
  },
  {
   "cell_type": "code",
   "execution_count": null,
   "metadata": {},
   "outputs": [],
   "source": [
    "list(map(lambda x:x[2],list(filter(lambda x:x[1]>4,items))))"
   ]
  },
  {
   "cell_type": "markdown",
   "metadata": {},
   "source": [
    "Con list comprehension:"
   ]
  },
  {
   "cell_type": "code",
   "execution_count": null,
   "metadata": {},
   "outputs": [],
   "source": [
    "len([x for x in items if x[0]=='A'])"
   ]
  },
  {
   "cell_type": "code",
   "execution_count": null,
   "metadata": {},
   "outputs": [],
   "source": [
    "len([x for x in items if x[0]=='B'])"
   ]
  },
  {
   "cell_type": "code",
   "execution_count": null,
   "metadata": {},
   "outputs": [],
   "source": [
    "[x[1] for x in items]"
   ]
  },
  {
   "cell_type": "code",
   "execution_count": null,
   "metadata": {},
   "outputs": [],
   "source": [
    "[x[2] for x in items if x[2] > 4]"
   ]
  }
 ],
 "metadata": {
  "kernelspec": {
   "display_name": "Python 3",
   "language": "python",
   "name": "python3"
  },
  "language_info": {
   "codemirror_mode": {
    "name": "ipython",
    "version": 3
   },
   "file_extension": ".py",
   "mimetype": "text/x-python",
   "name": "python",
   "nbconvert_exporter": "python",
   "pygments_lexer": "ipython3",
   "version": "3.7.3"
  }
 },
 "nbformat": 4,
 "nbformat_minor": 2
}
