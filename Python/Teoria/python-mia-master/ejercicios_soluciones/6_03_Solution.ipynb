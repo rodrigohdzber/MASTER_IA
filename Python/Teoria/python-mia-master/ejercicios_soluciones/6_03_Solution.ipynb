{
 "cells": [
  {
   "cell_type": "markdown",
   "metadata": {},
   "source": [
    "# 7.3. Optimización de carteras I"
   ]
  },
  {
   "cell_type": "markdown",
   "metadata": {},
   "source": [
    "- Descarga los datos del último año de algunos activos usando IEX. Denominamos $n$ como el número de activos elegidos.\n",
    "- Crea un dataframe solo con los datos de cierre, tendrá dimensiones $m \\times n$ con $m$ el número de días y $n$ en número de activos.\n",
    "- Calcula un portfolio aleatorio:\n",
    "   - Genera uno vector de pesos $\\mathbf{w}$ aleatorios de dimensiones $n \\times 1$, donde $n$ es el número de activos. Los pesos tienen que cumplir que  $w_i \\ge 0, \\; i = 1,\\dots, n$ y $\\sum_{i=1}^{n} w_i = 1$ dado que solo permitimos estar en largo.\n",
    "   - Calcula el retorno y la desviacion típica del portfolio:\n",
    "       - $R_p = \\mathbf{w^T \\mu}$ donde $\\mathbf{\\mu}$ es un vector con la media de los retornos diarios de los activos, con dimensiones $n \\times 1$.\n",
    "       - $\\sigma_p = \\sqrt{\\mathbf{w}^T\\Sigma \\mathbf{w}}$, donde $\\Sigma$ es la matriz de covarianzas de los retornos, con dimensiones $n \\times n$\n",
    "- Realiza una simulación de montecarlo para ello:\n",
    "   - Repite el procceso anterior $k$ veces por ejemplo 10000, guardando los pesos $\\mathbf{w}$, $R_p$ y $\\sigma_p$ de cada experimento.\n",
    "   - Realiza una figura con todos los puntos.\n",
    "   - Selecciona el punto de máximo ratio sharpe:\n",
    "     - Calcula el ratio sharpe para cada uno de los porfolios generados. El ratio sharpe se calcula como:\n",
    "     \\begin{equation*}\n",
    "     S_p = \\frac{R_p - R_f}{\\sigma_p}\n",
    "     \\end{equation*}\n",
    "     asumimos que $R_f$, el retorno del activo sin riesgo, es 0. \n",
    "     - Obtén el porfolio con el $S_p$ mayor.\n",
    "     - Pinta este punto en la figura y obtén los pesos.\n",
    "      \n",
    "<center>\n",
    "<img src=\"../module_7/imgs/harry.jpeg\"  alt=\"drawing\" width=\"300\"/>\n",
    "<br />    Harry Markowitz, Novel 1990\n",
    "</center>\n",
    "\n",
    "  "
   ]
  },
  {
   "cell_type": "code",
   "execution_count": null,
   "metadata": {},
   "outputs": [],
   "source": [
    "import numpy as np\n",
    "import pandas as pd\n",
    "import matplotlib.pyplot as plt\n",
    "%matplotlib inline"
   ]
  },
  {
   "cell_type": "markdown",
   "metadata": {},
   "source": [
    "### Descarga de datos"
   ]
  },
  {
   "cell_type": "code",
   "execution_count": null,
   "metadata": {},
   "outputs": [],
   "source": [
    "import utils"
   ]
  },
  {
   "cell_type": "code",
   "execution_count": null,
   "metadata": {},
   "outputs": [],
   "source": [
    "sym = ['AAPL', 'FB', 'JPM', 'BRK.B', 'GOOG']\n",
    "st_range = '1y'\n",
    "dict_data = {}\n",
    "for tck in sym:\n",
    "    dict_data[tck] = utils.get_data_iex(tck, st_range=st_range)"
   ]
  },
  {
   "cell_type": "code",
   "execution_count": null,
   "metadata": {},
   "outputs": [],
   "source": [
    "data_close = pd.DataFrame(dict_data)"
   ]
  },
  {
   "cell_type": "code",
   "execution_count": null,
   "metadata": {},
   "outputs": [],
   "source": [
    "data_close.head()"
   ]
  },
  {
   "cell_type": "markdown",
   "metadata": {},
   "source": [
    "### Random porfolio"
   ]
  },
  {
   "cell_type": "code",
   "execution_count": null,
   "metadata": {},
   "outputs": [],
   "source": [
    "returns = np.log(data_close).diff().dropna()\n",
    "\n",
    "cov_returns = returns.cov()\n",
    "mean_returns = returns.mean()\n",
    "    \n",
    "list_r_p = []\n",
    "list_std_p = []\n",
    "list_w = []\n",
    "for _ in range(10000):\n",
    "    w = np.random.rand(5)\n",
    "    w = w / np.sum(w)\n",
    "    r_p = mean_returns.dot(w)\n",
    "    std_p = np.sqrt(w @ cov_returns.values @ w)  \n",
    "    list_r_p.append(r_p)\n",
    "    list_std_p.append(std_p)\n",
    "    list_w.append(w)"
   ]
  },
  {
   "cell_type": "code",
   "execution_count": null,
   "metadata": {},
   "outputs": [],
   "source": [
    "fig, ax = plt.subplots(figsize=(10, 7))\n",
    "ax.plot(list_std_p, list_r_p, '.')"
   ]
  },
  {
   "cell_type": "markdown",
   "metadata": {},
   "source": [
    "#### Max sharpe ratio portfolio"
   ]
  },
  {
   "cell_type": "code",
   "execution_count": null,
   "metadata": {},
   "outputs": [],
   "source": [
    "arr_std_p = np.array(list_std_p)\n",
    "arr_r_p = np.array(list_r_p)\n",
    "s_r = arr_r_p/arr_std_p\n",
    "idx_m_sr = np.argmax(s_r)"
   ]
  },
  {
   "cell_type": "code",
   "execution_count": null,
   "metadata": {},
   "outputs": [],
   "source": [
    "r_m_sr = arr_r_p[idx_m_sr]\n",
    "std_m_sr = arr_std_p[idx_m_sr]\n",
    "w_m_sr = list_w[idx_m_sr]"
   ]
  },
  {
   "cell_type": "code",
   "execution_count": null,
   "metadata": {},
   "outputs": [],
   "source": [
    "pd.Series(w_m_sr, index=cov_returns.columns)"
   ]
  },
  {
   "cell_type": "markdown",
   "metadata": {},
   "source": [
    "#### Plot max sharpe ratio portfolio"
   ]
  },
  {
   "cell_type": "code",
   "execution_count": null,
   "metadata": {},
   "outputs": [],
   "source": [
    "fig, ax = plt.subplots(figsize=(10, 7))\n",
    "ax.plot(list_std_p, list_r_p, '.')\n",
    "ax.plot(std_m_sr, r_m_sr, '*', markersize=15)\n",
    "#ax.set_xlim(left=0)\n",
    "#ax.set_ylim(0)"
   ]
  },
  {
   "cell_type": "markdown",
   "metadata": {},
   "source": [
    "## Math opt con cvxpy\n",
    "\n",
    "El problema de la frontera eficiente se puede tratar como un problema de optimización cuadrática.\n",
    "\n",
    "La frontera eficiente se puede encontrar solucionando el siguiente problema:\n",
    "\n",
    "\\begin{equation*}\n",
    "\\begin{aligned}\n",
    "& \\underset{}{\\text{maximize}}\n",
    "& &  \\mathbf{w^T \\mu} - \\gamma \\mathbf{w}^T\\Sigma \\mathbf{w}\\\\\n",
    "& \\text{subject to}\n",
    "& & w_i \\ge 0, \\; i = 1,\\dots, n \\\\\n",
    "&&& \\sum_{i=1}^{n} w_i = 1\n",
    "\\end{aligned}\n",
    "\\end{equation*}\n",
    "Donde $\\mathbf{w}$ es el vector de pesos a optimizar, $\\mathbf{w^T \\mu}$ es el retorno del portfolio, $\\mathbf{w}^T\\Sigma \\mathbf{w}$ es la varianza del portfolio y $\\gamma$ es un parámetro de adversión al riesgo.\n",
    "\n",
    "Variando $\\gamma$ obtenemos los diferentes puntos de la frontera. Si $\\gamma=0$ maximizamos solo el retono y si  $\\gamma \\rightarrow \\infty$ obtenemos el portfolio de mínimo riesgo. Variando  $\\gamma$  obtenemos el *risk-return trade-off* óptimo.\n",
    "\n",
    "Puedes encontrar más información en: https://en.wikipedia.org/wiki/Modern_portfolio_theory"
   ]
  },
  {
   "cell_type": "markdown",
   "metadata": {},
   "source": [
    "Para ejecutar el siguiente código necesitas installar cvxpy: ```pip install cvxpy```"
   ]
  },
  {
   "cell_type": "code",
   "execution_count": null,
   "metadata": {},
   "outputs": [],
   "source": [
    "import cvxpy as cp"
   ]
  },
  {
   "cell_type": "code",
   "execution_count": null,
   "metadata": {},
   "outputs": [],
   "source": [
    "def optimal_portfolio(returns, n_samples=1000, gamma_low=-1, gamma_high=10):\n",
    "    sigma = returns.cov().values\n",
    "    mu = np.mean(returns, axis=0).values  \n",
    "    n = sigma.shape[0]        \n",
    "    w = cp.Variable(n)\n",
    "    gamma = cp.Parameter(nonneg=True)\n",
    "    ret = mu.T*w\n",
    "    risk = cp.quad_form(w, sigma)\n",
    "    \n",
    "    prob = cp.Problem(cp.Maximize(ret - gamma*risk), \n",
    "                      [cp.sum(w) == 1,  w >= 0]) \n",
    "    # Equivalente \n",
    "    #prob = cp.Problem(cp.Minimize(risk - gamma*ret), \n",
    "    #                  [cp.sum(w) == 1,  w >= 0])   \n",
    "    risk_data = np.zeros(n_samples)\n",
    "    ret_data = np.zeros(n_samples)\n",
    "    gamma_vals = np.logspace(gamma_low, gamma_high, num=n_samples)\n",
    "    \n",
    "    portfolio_weights = []    \n",
    "    for i in range(n_samples):\n",
    "        gamma.value = gamma_vals[i]\n",
    "        prob.solve()\n",
    "        risk_data[i] = np.sqrt(risk.value)\n",
    "        ret_data[i] = ret.value\n",
    "        portfolio_weights.append(w.value)   \n",
    "    return ret_data, risk_data, gamma_vals, portfolio_weights"
   ]
  },
  {
   "cell_type": "code",
   "execution_count": null,
   "metadata": {},
   "outputs": [],
   "source": [
    "ret_data, risk_data, gamma_vals, portfolio_weights = optimal_portfolio(returns)"
   ]
  },
  {
   "cell_type": "code",
   "execution_count": null,
   "metadata": {},
   "outputs": [],
   "source": [
    "fig, ax = plt.subplots(figsize=(10, 7))\n",
    "plt.plot(list_std_p, list_r_p, '.')\n",
    "ax.plot(risk_data, ret_data, 'y')\n",
    "ax.plot(std_m_sr, r_m_sr, '*', markersize=15)\n",
    "_ = ax.set_xlabel('std')\n",
    "_ = ax.set_ylabel('mean')"
   ]
  }
 ],
 "metadata": {
  "kernelspec": {
   "display_name": "Python 3",
   "language": "python",
   "name": "python3"
  },
  "language_info": {
   "codemirror_mode": {
    "name": "ipython",
    "version": 3
   },
   "file_extension": ".py",
   "mimetype": "text/x-python",
   "name": "python",
   "nbconvert_exporter": "python",
   "pygments_lexer": "ipython3",
   "version": "3.7.3"
  }
 },
 "nbformat": 4,
 "nbformat_minor": 2
}
