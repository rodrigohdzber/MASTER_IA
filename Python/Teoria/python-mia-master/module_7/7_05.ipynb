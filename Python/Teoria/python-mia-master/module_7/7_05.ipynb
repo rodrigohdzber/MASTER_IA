{
 "cells": [
  {
   "cell_type": "markdown",
   "metadata": {},
   "source": [
    "# 7.5. Decoradores."
   ]
  },
  {
   "cell_type": "markdown",
   "metadata": {},
   "source": [
    "Los Decoradores son funciones que nos permiten añadir funcionalidad extra a otras funciones ya definidas.\n",
    "\n",
    "Esto nos permite con muy poco esfuerzo de programación, ampliar, mejorar funciones de nuestros programas.\n",
    "\n",
    "En definitiva, una funcion decoradora:\n",
    "\n",
    "```python \n",
    "\n",
    "@decoradora**\n",
    "def miFuncion1():\n",
    "\n",
    "    ...\n",
    "    codigo\n",
    "    ...\n",
    "    return resultado1\n",
    "```\n",
    "Es equivalente a:\n",
    "  \n",
    "```python \n",
    "def miFuncion1():\n",
    "\n",
    "    ...\n",
    "    codigo\n",
    "    ...\n",
    "    return resultado1 \n",
    "\n",
    "miFuncion1 = decoradora(miFuncion1)\n",
    "```\n",
    "Una funcion decoradora siempre está compuesta por tres partes:\n",
    "    \n",
    "    - La función decoradora en sí\n",
    "    - La función que se le pasa por parámetro (nuestras funciones que queremos mejorar o ampliar)\n",
    "    - La función interna que será la que mejore o amplie nuestras funciones antiguas.\n",
    "\n",
    "\n",
    "### Sintaxis\n",
    "\n",
    "Simplemente construiremos así la funcion decoradora: \n",
    "\n",
    "```python \n",
    "def decoradora(funcion_antigua):\n",
    "    \n",
    "    def funcion_interna()\n",
    "        ...\n",
    "        lineas de código que mejoran la función antigua\n",
    "        ...\n",
    "        función_antigua()\n",
    "        ...\n",
    "        más lineas de código que mejoran la función antigua\n",
    "        ...\n",
    "    \n",
    "    return funcion_interna\n",
    "```   \n",
    "\n",
    "Una vez realizada la función decoradora, sólo hay que llamarla con un @, delante de cada una de las funciones antiguas:\n",
    "\n",
    "```python \n",
    "@decoradora\n",
    "def miFuncion1()\n",
    "\n",
    "    ....\n",
    "    código\n",
    "    ....\n",
    "    return resultado1\n",
    "``` \n",
    "\n",
    "```python \n",
    "@decoradora\n",
    "def miFuncion2()\n",
    "\n",
    "    ...\n",
    "    código\n",
    "    ...\n",
    "    return resultado2\n",
    "```  \n",
    "\n",
    "Hay que denotar también, que como no sabemos cuántos argumentos pueden tener las funciones antiguas, lo común es utilizar ***args** para denotar cualquier número de argumentos\n",
    "\n",
    "Por último, decir que se pueden utilizar varios decoradores para una misma función, basta con añadir los @decoradores uno detrás de otro antes de la función a decorar."
   ]
  },
  {
   "cell_type": "markdown",
   "metadata": {},
   "source": [
    "### Usos\n",
    "\n",
    "El uso más común es por ejemplo el de añadir registros de logs para nuestros programas.\n",
    "Así, pudiendo registrar información sobre todo lo que hace nuestro programa sin tener que modificar mucho lo ya escrito\n",
    "\n",
    "Sin embargo, las posibilidades son inmensas, ya que se convierte en una forma de modificar o ampliar las funciones sin tener que hacer demasiado esfuerzo.\n",
    "\n",
    "Sobre todo es una muy buena opción, si esas mejoras las incorporan varias funciones. \n",
    "\n",
    "Como ejemplo vamos a ver otro uso muy típico: Calcular la velocidad de ejecución de funciones ya realizadas:\n",
    "Sin decoradores, deberíamos incluir las dos líneas que calculan el tiempo en cada una de las funciones. Sin embargo, con decoradores será muy sencillo:"
   ]
  },
  {
   "cell_type": "code",
   "execution_count": null,
   "metadata": {},
   "outputs": [],
   "source": [
    "# Importamos librerías necesarias\n",
    "import time \n",
    "import math \n",
    "  \n",
    "# Definimos el decorador que añade funcionalidad de cálculo de tiempo de ejecución de una funcion\n",
    "def calcula_tiempo(funcion_antigua): \n",
    "      \n",
    "    # Añadimos *args para que permita cualquier tipo de argumento en la función antigua\n",
    "    # Añadimos **kwargs para que permite introducir argumentos como clave-valor en la funcion antigua\n",
    "    def funcion_tiempo(*args, **kwargs): \n",
    "  \n",
    "        # guardamos el tiempo antes de la ejecución\n",
    "        # esto es una instrucción que añade nueva funcionalidad\n",
    "        inicio = time.time() \n",
    "        # llamamos a la función antigua\n",
    "        funcion_antigua(*args, **kwargs) \n",
    "        # almacenamos el tiempo tras la ejecución\n",
    "        fin = time.time() \n",
    "        print(\"Tiempo total: \", funcion_antigua.__name__, fin - inicio) \n",
    "  \n",
    "    return funcion_tiempo"
   ]
  },
  {
   "cell_type": "code",
   "execution_count": null,
   "metadata": {},
   "outputs": [],
   "source": [
    "# Definimos el decorador que añade funcionalidad de log\n",
    "def imprime_log(funcion_antigua): \n",
    "      \n",
    "    # Añadimos *args para que permita cualquier tipo de argumento en la función antigua\n",
    "    # Añadimos **kwargs para que permite introducir argumentos como clave-valor en la funcion antigua\n",
    "    def funcion_log(*args, **kwargs): \n",
    "  \n",
    "        # guardamos el tiempo antes de la ejecución\n",
    "        # esto es una instrucción que añade nueva funcionalidad\n",
    "        print(\"Iniciamos la funcion\", funcion_antigua.__name__)\n",
    "        # llamamos a la función antigua\n",
    "        funcion_antigua(*args, **kwargs) \n",
    "        # almacenamos el tiempo tras la ejecución\n",
    "        print(\"Terminamos funcion \", funcion_antigua.__name__) \n",
    "  \n",
    "    return funcion_log"
   ]
  },
  {
   "cell_type": "code",
   "execution_count": null,
   "metadata": {},
   "outputs": [],
   "source": [
    "# ahora añadimos el decorador a las funciones que ya teníamos (funciones antiguas)\n",
    "@calcula_tiempo\n",
    "@imprime_log\n",
    "def factorial(num): \n",
    "    # se coloca esta instrucción para retrasar algo su ejecución y que pueda calcular\n",
    "    time.sleep(1) \n",
    "    print(math.factorial(num))\n",
    "    \n",
    "@calcula_tiempo\n",
    "@imprime_log\n",
    "def fibonacci(n):    # escribe la serie Fibonacci hasta n\n",
    "    # se coloca esta instrucción para retrasar algo su ejecución y que pueda calcular\n",
    "    time.sleep(1) \n",
    "    a, b = 0, 1\n",
    "    while b < n:\n",
    "        print(b, end=' ')\n",
    "        a, b = b, a+b\n",
    "    print()\n"
   ]
  },
  {
   "cell_type": "code",
   "execution_count": null,
   "metadata": {},
   "outputs": [],
   "source": [
    "# ahora llamamos a las funciones\n",
    "\n",
    "factorial(10)"
   ]
  },
  {
   "cell_type": "code",
   "execution_count": null,
   "metadata": {},
   "outputs": [],
   "source": [
    "fibonacci(100)"
   ]
  },
  {
   "cell_type": "markdown",
   "metadata": {},
   "source": [
    "## Otros usos de los decoradores\n",
    "\n",
    "Un uso muy extendido, aunque condicionado a las operaciones que tengamos que realizar en la función, es la de usar la función decoradora para almacenar información que luego evitará tener que ejecutar una función compleja. \n",
    "\n",
    "Esto podría entrar dentro de lo que se denomina **Memoization**: Trucos para hacer que el código se ejecute más rápido.\n",
    "\n",
    "Veamos un ejemplo:"
   ]
  },
  {
   "cell_type": "code",
   "execution_count": null,
   "metadata": {},
   "outputs": [],
   "source": [
    "import functools\n",
    "\n",
    "def memoize(function):\n",
    "    # le añadimos a la función una variable de almacenamiento\n",
    "    function.cache = dict()\n",
    "    \n",
    "    # esto nos permitirá conservar cierta información de la función para después\n",
    "    @functools.wraps(function)\n",
    "    def funcion_memoize(*args):\n",
    "        if args not in function.cache:\n",
    "            function.cache[args] = function(*args)\n",
    "        return function.cache[args]\n",
    "    \n",
    "    return funcion_memoize\n",
    "\n",
    "@memoize\n",
    "def fibonacci(n):\n",
    "    if n < 2:\n",
    "        return n\n",
    "    else:\n",
    "        return fibonacci(n - 1) + fibonacci(n - 2)\n",
    "        \n",
    "for i in range(1, 7):\n",
    "    print('fibonacci ',i,':',fibonacci(i))\n",
    "\n",
    "print(\"Ahora mostramos la cache\")\n",
    "fibonacci.__wrapped__.cache"
   ]
  },
  {
   "cell_type": "markdown",
   "metadata": {},
   "source": [
    "# Ejercicios\n",
    "\n",
    "**7.5.1** Queremos crear un log de todas las funciones que se llaman en un programa. Para ello crear un decorador que nos almacene en una lista una serie de valores como el nombre de la función, el time-stamp cuando se llamó, la duración, y los distintos argumentos que se han usado. Para ello crea tres funciones simples para realiazar el ejercicio. Imprimir luego el log creado."
   ]
  },
  {
   "cell_type": "code",
   "execution_count": null,
   "metadata": {},
   "outputs": [],
   "source": []
  }
 ],
 "metadata": {
  "kernelspec": {
   "display_name": "Python 3",
   "language": "python",
   "name": "python3"
  },
  "language_info": {
   "codemirror_mode": {
    "name": "ipython",
    "version": 3
   },
   "file_extension": ".py",
   "mimetype": "text/x-python",
   "name": "python",
   "nbconvert_exporter": "python",
   "pygments_lexer": "ipython3",
   "version": "3.7.3"
  }
 },
 "nbformat": 4,
 "nbformat_minor": 2
}
