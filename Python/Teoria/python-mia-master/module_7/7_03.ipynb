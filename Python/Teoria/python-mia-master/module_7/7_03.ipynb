{
 "cells": [
  {
   "cell_type": "markdown",
   "metadata": {},
   "source": [
    "# 7.3. Más sobre la programación orientada a objetos."
   ]
  },
  {
   "cell_type": "markdown",
   "metadata": {},
   "source": [
    "En este cuaderno aprederemos:\n",
    "    \n",
    "    - Declarar clases\n",
    "    - Constructores\n",
    "    - Instancia de clase\n",
    "    - Extensión de una clase\n",
    "    - Métodos\n",
    "    - Atributos\n",
    "        -Atributos de clase\n",
    "        -Atributos de instancia\n",
    "    - Herencia.\n",
    "    - Sobreescritura de métodos.\n",
    "    - Constructores y herencia.\n",
    "    - Polimorfismo"
   ]
  },
  {
   "cell_type": "markdown",
   "metadata": {},
   "source": [
    "Python es un lenguaje orientado a objetos. Los objetos a los que se refiere, pretenden acercarse a la realidad que vemos. Así, cualquier objeto en la vida real tiene un Estado (actual), una serie de Propiedades y realiza una serie de Acciones.\n",
    "\n",
    "Para definir esos objetos se utiliza el concepto de clase, que es una abstracción de todas las posibles realidades que se podrían definir por ese concepto."
   ]
  },
  {
   "cell_type": "markdown",
   "metadata": {},
   "source": [
    "### Declaración de una clase\n",
    "\n",
    "Las clases se declaran así:"
   ]
  },
  {
   "cell_type": "markdown",
   "metadata": {},
   "source": [
    "class nombre_clase:\n",
    "\n",
    "    Funciones"
   ]
  },
  {
   "cell_type": "code",
   "execution_count": null,
   "metadata": {},
   "outputs": [],
   "source": [
    "class Empleado:\n",
    "    pass     # Pass en Python significa: No hacer nada"
   ]
  },
  {
   "cell_type": "markdown",
   "metadata": {},
   "source": [
    "A continuación, instanciamos un objeto de clase **\"Empleado\"**: emp, que tendrá todas las funcionalidades de la clase \"Empleado\", por lo que emp será una instancia de la clase Empleado"
   ]
  },
  {
   "cell_type": "code",
   "execution_count": null,
   "metadata": {},
   "outputs": [],
   "source": [
    "emp = Empleado()"
   ]
  },
  {
   "cell_type": "code",
   "execution_count": null,
   "metadata": {},
   "outputs": [],
   "source": [
    "type(emp)   #si preguntamos por el tipo de la variable emp... Nos dirá que es de tipo Empleado dentro de main"
   ]
  },
  {
   "cell_type": "markdown",
   "metadata": {},
   "source": [
    "A las funciones de una clase, igual que en otros lenguajes orientados a objetos, se les llama **métodos**."
   ]
  },
  {
   "cell_type": "markdown",
   "metadata": {},
   "source": [
    "### Constructores\n",
    "\n",
    "Las clases disponen de una función llamada **\"\\_\\_init\\_\\_\"**. Es uno de los llamados métodos mágicos. Con este método, se inicializan variables de clase o cualquier algoritmo inicial que sea aplicable a todos los métodos. A las variables dentro de una clase se las llama atributos, como en otros lenguajes POO."
   ]
  },
  {
   "cell_type": "markdown",
   "metadata": {},
   "source": [
    "Estos métodos, ayudan en el proceso de inicialización de la instancia. Así, si no tuviéramos estos **constructores**, habría que llamar a un método aparte que inicializara todo."
   ]
  },
  {
   "cell_type": "markdown",
   "metadata": {},
   "source": [
    "Sin embargo, cuando se ha definido un constructor, **\\_\\_init\\_\\_** se le llamará al inicializar la instancia creada. "
   ]
  },
  {
   "cell_type": "code",
   "execution_count": null,
   "metadata": {},
   "outputs": [],
   "source": [
    "class Empleado:\n",
    "    def __init__(self,nombre,ssocial): #constructor de la clase\n",
    "        self.nombre = nombre\n",
    "        self.ssocial = ssocial"
   ]
  },
  {
   "cell_type": "markdown",
   "metadata": {},
   "source": [
    "En Python es obligatorio que el primer parámetro de un método de clase sea **self**. Este Self es equivalente al **this** de otros lenguajes, salvo que en los otros lenguajes no hay que declararlo explícitamente.\n",
    "\n",
    "**Self** hace referencia a todo lo que contiene una clase. Pero siempre desde el punto de vista de una instancia. Por ejemplo se usa self para dar valor a los atributos de la clase"
   ]
  },
  {
   "cell_type": "markdown",
   "metadata": {},
   "source": [
    "### Instancia de una clase\n",
    "\n",
    "Una instancia se podría decir que es como una copia personalizada de una clase\n",
    "Para crear una instancia, basta con llamar al constructor. En este caso, creamos dos instancias de la clase con dos argumentos:"
   ]
  },
  {
   "cell_type": "code",
   "execution_count": null,
   "metadata": {},
   "outputs": [],
   "source": [
    "emp1 = Empleado('Pedro Ramirez',1221442)\n",
    "emp2 = Empleado('Ana Jimenez',2231231)"
   ]
  },
  {
   "cell_type": "code",
   "execution_count": null,
   "metadata": {},
   "outputs": [],
   "source": [
    "print (emp1.nombre, emp1.ssocial)\n",
    "print (emp2.nombre, emp2.ssocial)"
   ]
  },
  {
   "cell_type": "markdown",
   "metadata": {},
   "source": [
    "**dir( )**  es una función muy útil que nos permite saber qué contiene la clase y qué metodos ofrece. "
   ]
  },
  {
   "cell_type": "code",
   "execution_count": null,
   "metadata": {},
   "outputs": [],
   "source": [
    "dir(Empleado)"
   ]
  },
  {
   "cell_type": "markdown",
   "metadata": {},
   "source": [
    "**dir( )** sobre una instancia, nos muestra los atributos definidos"
   ]
  },
  {
   "cell_type": "code",
   "execution_count": null,
   "metadata": {},
   "outputs": [],
   "source": [
    "dir(emp1)"
   ]
  },
  {
   "cell_type": "markdown",
   "metadata": {},
   "source": [
    "### Extensión de una clase.\n",
    "\n",
    "Una vez que emp1 y emp2 son instancias de Empleado, no necesariamente se deben limitar a lo definido por Empleado. Ellas podrían extender la clase declarando otros atributos sin que deba estar declarado en Empleado."
   ]
  },
  {
   "cell_type": "code",
   "execution_count": null,
   "metadata": {},
   "outputs": [],
   "source": [
    "emp1.fuma = True"
   ]
  },
  {
   "cell_type": "code",
   "execution_count": null,
   "metadata": {},
   "outputs": [],
   "source": [
    "dir(emp1)"
   ]
  },
  {
   "cell_type": "code",
   "execution_count": null,
   "metadata": {},
   "outputs": [],
   "source": [
    "dir(emp2)"
   ]
  },
  {
   "cell_type": "markdown",
   "metadata": {},
   "source": [
    "Al igual que las funciones tenían variables locales y globales, las clases tienen dos tipos de atributos. \n",
    "\n",
    "**Atributo de Clase**: Atributos que se puede llamar fuera de la clase y que es aplicable a todas las instancias. \n",
    "\n",
    "**Atributo de Instancia**: Atributos definidos dentro de un metodo y que son aplicables sólo para ese método y esa instancia. "
   ]
  },
  {
   "cell_type": "code",
   "execution_count": null,
   "metadata": {},
   "outputs": [],
   "source": [
    "class Empleado:\n",
    "    contador_e = 3\n",
    "    def __init__(self,nombre,ssocial):\n",
    "        self.nombre = nombre\n",
    "        self.ssocial = ssocial"
   ]
  },
  {
   "cell_type": "markdown",
   "metadata": {},
   "source": [
    "Ahora, contador es un atributo o variable de clase y nombre es un atributo de instancia."
   ]
  },
  {
   "cell_type": "code",
   "execution_count": null,
   "metadata": {},
   "outputs": [],
   "source": [
    "emp3 = Empleado('Juan Martínez',3232123)\n",
    "emp4 = Empleado('Antonio Cuartero',4323233)"
   ]
  },
  {
   "cell_type": "code",
   "execution_count": null,
   "metadata": {},
   "outputs": [],
   "source": [
    "dir(emp3)"
   ]
  },
  {
   "cell_type": "code",
   "execution_count": null,
   "metadata": {},
   "outputs": [],
   "source": [
    "print (emp3.contador_e, emp3.nombre)\n",
    "Empleado.contador_e +=1\n",
    "print (emp4.contador_e, emp4.nombre)"
   ]
  },
  {
   "cell_type": "code",
   "execution_count": null,
   "metadata": {},
   "outputs": [],
   "source": [
    "emp3.contador_e+=1\n",
    "print(emp3.contador_e,emp4.contador_e)"
   ]
  },
  {
   "cell_type": "markdown",
   "metadata": {},
   "source": [
    "Podemos definir otros métodos no constructores a PrimeraClase"
   ]
  },
  {
   "cell_type": "code",
   "execution_count": null,
   "metadata": {},
   "outputs": [],
   "source": [
    "class Empleado:\n",
    "    contador_e = 3\n",
    "    def __init__(self,nombre,ssocial):\n",
    "        self.__nombre = nombre\n",
    "        self.__ssocial = ssocial\n",
    "    def obtener_nombre(self):\n",
    "        return self.__nombre\n",
    "    def obtener_ssocial(self):\n",
    "        return self.__ssocial\n",
    "   "
   ]
  },
  {
   "cell_type": "code",
   "execution_count": null,
   "metadata": {},
   "outputs": [],
   "source": [
    "emp5 = Empleado('María Huerta',5323423)\n",
    "dir(emp5)"
   ]
  },
  {
   "cell_type": "code",
   "execution_count": null,
   "metadata": {},
   "outputs": [],
   "source": [
    "print(emp5.nombre)"
   ]
  },
  {
   "cell_type": "code",
   "execution_count": null,
   "metadata": {},
   "outputs": [],
   "source": [
    "print (emp5.obtener_nombre())\n",
    "print (emp5.obtener_ssocial())"
   ]
  },
  {
   "cell_type": "markdown",
   "metadata": {},
   "source": [
    "### Encapsulación\n",
    "\n",
    "El término encapsulación se refiere a la capacidad de las clases de ocultar y a la vez agrupar el código que hace alguna acción. Es semejante al concepto de caja negra.\n",
    "\n",
    "Con esta ocultación evitamos que se puedan modificar elementos propios de la clase directamente desde fuera, evitando usos indebidos y comportamientos extraños.\n",
    "\n",
    "La forma que tiene Python de encapsular propiedades es la siguiente: añadir 2 __ al atributo.\n",
    "\n",
    "Por ejemplo, como ahora ya tenemos unos métodos para obtener el nombre y la seguridad social, podemos encapsular esos atributos para que no puedan ser accesibles"
   ]
  },
  {
   "cell_type": "code",
   "execution_count": null,
   "metadata": {},
   "outputs": [],
   "source": [
    "# por ejemplo en un método constructor\n",
    "class Empleado:\n",
    "    contador_e = 3\n",
    "    def __init__(self, nombre, ssocial, sueldo, puntos=0):\n",
    "        self.nombre = nombre\n",
    "        self.__ssocial = ssocial # atributo encapsulado, no se puede acceder desde fuera\n",
    "        self.__sueldo = sueldo\n",
    "        self.__puntos = puntos\n",
    "    def obtener_ssocial(self):\n",
    "        return self.__ssocial \n",
    "    def obtener_sueldo(self):\n",
    "        return self.__sueldo \n",
    "    def obtener_puntos(self):  \n",
    "        return self.__puntos\n",
    "    def ascender(self, cantidad):\n",
    "        self.__sueldo = self.__sueldo + cantidad\n",
    "        self.__sumar_puntos(100)\n",
    "    def __sumar_puntos(self, p):\n",
    "        self.__puntos = self.__puntos + p"
   ]
  },
  {
   "cell_type": "code",
   "execution_count": null,
   "metadata": {},
   "outputs": [],
   "source": [
    "emp1 = Empleado('Belen', 178937251, 25750, puntos=100)\n",
    "print(emp1.nombre, emp1.obtener_ssocial(), emp1.obtener_sueldo(), emp1.obtener_puntos())\n",
    "emp1.ascender(6250)\n",
    "print(emp1.nombre, emp1.obtener_ssocial(), emp1.obtener_sueldo(), emp1.obtener_puntos())"
   ]
  },
  {
   "cell_type": "markdown",
   "metadata": {},
   "source": [
    "A este atributo __ nombre, siempre que se le coloque los dos guiones delante, se podrá acceder desde cualquier lugar DENTRO la clase. (Cualquier método podrá hacer uso de este atributo)\n",
    "\n",
    "De igual modo, si queremos encapsular un método, basta con añadir en la definición los dos __ delante del nombre."
   ]
  },
  {
   "cell_type": "code",
   "execution_count": null,
   "metadata": {},
   "outputs": [],
   "source": [
    "def __valoracion_interna(self,puntos):\n",
    "    self.puntos = puntos\n",
    "    \n",
    "# y por supuesto, cada vez que se llame al método DENTRO de la clase: __valoracionInterna(2)\n",
    "\n",
    "# porque fuera, al ser un método interno, no se lo puede llamar   "
   ]
  },
  {
   "cell_type": "markdown",
   "metadata": {},
   "source": [
    "### Herencia"
   ]
  },
  {
   "cell_type": "markdown",
   "metadata": {},
   "source": [
    "Al igual que otros lenguajes en POO, Python soporta el concepto de herencia. En el cual una nueva clase puede heredar las características previas de otra clase anterior.\n",
    "\n",
    "En nuestro ejemplo, todos los Botones del hotel, son empleados, por lo que podremos decir que tendrán un nombre, un numero de segurida social y unos puntos de valoracion"
   ]
  },
  {
   "cell_type": "code",
   "execution_count": null,
   "metadata": {},
   "outputs": [],
   "source": [
    "class Botones(Empleado): #Botones heredará los métodos y atributos de la clase Empleado.\n",
    "    def trabaja(self, trabajo):\n",
    "        self.trabajo = trabajo\n",
    "        print (self.nombre,\" es un \", self.trabajo, \". Su sueldo es: \", self.obtener_sueldo())"
   ]
  },
  {
   "cell_type": "code",
   "execution_count": null,
   "metadata": {},
   "outputs": [],
   "source": [
    "bot1 = Botones('Juan',2132423, 30000)\n",
    "bot1.trabaja('botones primero')"
   ]
  },
  {
   "cell_type": "code",
   "execution_count": null,
   "metadata": {},
   "outputs": [],
   "source": [
    "dir(Botones)"
   ]
  },
  {
   "cell_type": "markdown",
   "metadata": {},
   "source": [
    "### Sobreescritura de métodos\n",
    "\n",
    "Si uno o varios de los métodos heredados no es compatible con el funcionamiento de la clase actual. Se puede sobreescribir el método definiéndolo de nuevo con el mismo nombre, dentro de la clase. "
   ]
  },
  {
   "cell_type": "code",
   "execution_count": null,
   "metadata": {},
   "outputs": [],
   "source": [
    "class Botones(Empleado): #Botones heredará los métodos y atributos de la clase Empleado.\n",
    "    def trabaja(self, trabajo):\n",
    "        self.trabajo = trabajo\n",
    "        print (self.obtener_nombre(),\" es un \", self.trabajo)\n",
    "    def obtener_nombre(self):  \n",
    "        return 'Nombre: '+self.nombre+','"
   ]
  },
  {
   "cell_type": "code",
   "execution_count": null,
   "metadata": {},
   "outputs": [],
   "source": [
    "bot2 = Botones('Diego Flores', 3342423, 20000)\n",
    "bot2.trabaja('botones segundo')"
   ]
  },
  {
   "cell_type": "markdown",
   "metadata": {},
   "source": [
    "### Constructores y herencia\n",
    "\n",
    "El hecho de que el constructor siempre tenga el mismo nombre en todas las clase, trae problemas, ya sea en la herencia simple como en la múltiple. Lo sencillo por un lado, complica por otro.\n",
    "\n",
    "- En el caso de herencia simple, es posible que algunos atributos de la clase padre, no se definan y por tanto dé error.\n",
    "\n",
    "¿Cómo solucionarlo?"
   ]
  },
  {
   "cell_type": "markdown",
   "metadata": {},
   "source": [
    "#### Super()\n",
    "\n",
    "Super() es una función que nos permite invocar a métodos y atributos de la clase padre.\n",
    "\n",
    "Por ejemplo, si hiciéramos otra clase que heredase de Empleado, pero el constructor fuera distinto:"
   ]
  },
  {
   "cell_type": "code",
   "execution_count": null,
   "metadata": {},
   "outputs": [],
   "source": [
    "class Directivo(Empleado):\n",
    "    def __init__(self, horas, libres):\n",
    "        self.horas = horas\n",
    "        self.libres = libres"
   ]
  },
  {
   "cell_type": "code",
   "execution_count": null,
   "metadata": {},
   "outputs": [],
   "source": [
    "dir1 = Directivo('Diego Flores',3342423, 45,36)"
   ]
  },
  {
   "cell_type": "markdown",
   "metadata": {},
   "source": [
    "Para poder definir el nombre y la edad de la clase Ingeniero que hereda, deberíamos escribir en el método constructor:"
   ]
  },
  {
   "cell_type": "code",
   "execution_count": null,
   "metadata": {},
   "outputs": [],
   "source": [
    "class Directivo(Empleado):\n",
    "    def __init__(self, nombreD, ssocialD, sueldoD, horas):\n",
    "        super().__init__(nombreD, ssocialD, sueldoD) # super().__init__ es el constructor del padre, así cogemos sus atributos\n",
    "        self.horas = horas\n",
    "# y a la hora de instanciar:\n",
    "director_general = Directivo(\"Pedro Pérez\",6534232,60000,40)\n",
    "# También está claro que si hubiera métodos de la clase Empleado que tuviéramos que sobreescribir\n",
    "# se haría también con super()\n",
    "print(director_general.nombre, director_general.obtener_ssocial(), director_general.obtener_sueldo())\n",
    "dir(director_general)"
   ]
  },
  {
   "cell_type": "markdown",
   "metadata": {},
   "source": [
    "### Clases abstractas e interfaces\n",
    "\n",
    "Si nos fijamos en la definición de la clase Empleado, no tiene mucho sentido instancia empleados, porque no sabemos qué son.\n",
    "\n",
    "Cuando una clase solo sirve para ser heredada, y no instanciada, es una clase abstracta\n",
    "\n",
    "En python se puede obligar a una Clase a ser abstracta, heredando de un módulo llamado abc."
   ]
  },
  {
   "cell_type": "code",
   "execution_count": null,
   "metadata": {},
   "outputs": [],
   "source": [
    "from abc import ABC, abstractmethod\n",
    "\n",
    "class Empleado(ABC):\n",
    "    contador_e = 3\n",
    "    def __init__(self, nombre, ssocial, sueldo, puntos=0):\n",
    "        self.nombre = nombre\n",
    "        self.__ssocial = ssocial # atributo encapsulado, no se puede acceder desde fuera\n",
    "        self.__sueldo = sueldo\n",
    "        self.__puntos = puntos\n",
    "    def obtener_ssocial(self):\n",
    "        return self.__ssocial \n",
    "    def obtener_sueldo(self):\n",
    "        return self.__sueldo \n",
    "    def obtener_puntos(self):  \n",
    "        return self.__puntos\n",
    "    def ascender(self, cantidad):\n",
    "        self.__sueldo = self.__sueldo + cantidad\n",
    "        self.__sumarPuntos(100)\n",
    "    def __sumar_puntos(self, p):\n",
    "        self.__puntos = self.__puntos + p\n",
    "    \n",
    "    \n",
    "    @abstractmethod\n",
    "    def calcular_paga(self):\n",
    "        pass"
   ]
  },
  {
   "cell_type": "markdown",
   "metadata": {},
   "source": [
    "Además hemos añadido un método abstracto con el decorador @abstractmethod, que le dice, que cada una de las clases que hereden se fabriquen su propio cálculo de paga. \n",
    "\n",
    "Esta es la forma de declara interfaces en Python"
   ]
  },
  {
   "cell_type": "markdown",
   "metadata": {},
   "source": [
    "### Polimorfismo\n",
    "\n",
    "Python es sin duda uno de los lenguajes que más sencillamente implementa el polimorfismo.\n",
    "\n",
    "Y esto es simplemente porque es un lenguaje de tipado dinámico.\n",
    "\n",
    "El polimorfismo es la capacidad de utilizar de forma genérica objetos de distinta clase.\n",
    "\n",
    "Por ejemplo. Si varias clases tienen un método con el mismo nombre, y según el tipo de clase, ese método hace cosas distintas, con polimorfismo, podemos implementar funciones que sea del tipo de clase que sea, se pueda ejecutar ese método:"
   ]
  },
  {
   "cell_type": "code",
   "execution_count": null,
   "metadata": {},
   "outputs": [],
   "source": [
    "# vamos con un ejemplo sencillo, sencillo\n",
    "\n",
    "# tenemos estas clases con un método que en todas se llama igual\n",
    "\n",
    "class CarreraInformatica():\n",
    "    def descripcion(self):\n",
    "        print(\"Grado en Informática. 4 años. Dificultad: Alta\")\n",
    "\n",
    "class CarreraProfesorado():\n",
    "    def descripcion(self):\n",
    "        print(\"Grado en Magisterio. 3 años. Dificultad: Media\")\n",
    "        \n",
    "class CarreraCaminos():\n",
    "    def descripcion(self):\n",
    "        print(\"Grado en Ingeniería de camino. 4 años. Dificultad: Alta\")\n",
    "        \n",
    "# ahora podemos definir una función que admita cualquier tipo de clase y llame al método que\n",
    "# se llama igual en todas.\n",
    "\n",
    "def informa_carrera(carrera):\n",
    "    carrera.descripcion()\n",
    "    \n",
    "# ahora podemos crear instancias de las distintas clases, que la función Informa_Carrera\n",
    "# aplicará polimorfismo y las ejecutará sin problemas, aunque las clases sean distintas.\n",
    "\n",
    "carrera1 = CarreraProfesorado()\n",
    "informa_carrera(carrera1)\n",
    "carrera2 = CarreraProfesorado()\n",
    "informa_carrera(carrera2)\n",
    "carrera3 = CarreraCaminos()\n",
    "informa_carrera(carrera3)"
   ]
  },
  {
   "cell_type": "markdown",
   "metadata": {},
   "source": [
    "### Clases y ficheros\n",
    "\n",
    "En Python, para poder reutilizar clases, podemos definir fichero .py con la definición de una clases determinada.\n",
    "\n",
    "Estos fichero .py deberán ser luego importados por el programa que quiera importar esa clase, y para instanciar sobre dicha clase, debe primero llevar el nombre del fichero (sin .py)\n",
    "\n"
   ]
  },
  {
   "cell_type": "code",
   "execution_count": null,
   "metadata": {},
   "outputs": [],
   "source": [
    "# fichero em.py\n",
    "\n",
    "from abc import ABC, abstractmethod\n",
    "\n",
    "class Empleado(ABC):\n",
    "    contador_e = 3\n",
    "    def __init__(self,nombre,ssocial):\n",
    "        self.nombre = nombre    # atributo encapsulado, no se puede acceder desde fuera\n",
    "        self.ssocial = ssocial\n",
    "        self.puntos = 0\n",
    "    def obtener_nombre(self):  \n",
    "        return self.nombre\n",
    "    def obtener_ssocial(self):\n",
    "        return self.ssocial \n",
    "\n",
    "    \n",
    "class Directivo(Empleado):\n",
    "    def __init__(self, nombreD, ssocialD, horas, sueldo):\n",
    "        super().__init__(nombreD, ssocialD)\n",
    "        self.horas = horas\n",
    "        self.sueldo = sueldo\n",
    "\n",
    "class Botones(Empleado): #Botones heredará los métodos y atributos de la clase Empleado.\n",
    "    def trabaja(self, trabajo):\n",
    "        self.trabajo = trabajo\n",
    "        print (self.obtener_nombre(),\" es un \", self.trabajo)\n",
    "    def obtener_nombre(self):  \n",
    "        return 'Nombre: '+self.nombre+','"
   ]
  },
  {
   "cell_type": "code",
   "execution_count": null,
   "metadata": {},
   "outputs": [],
   "source": [
    "# programa.py\n",
    "\n",
    "import em\n",
    "\n",
    "Gerente = em.Directivo('Jose Perez',342513,8,6000)"
   ]
  },
  {
   "cell_type": "markdown",
   "metadata": {},
   "source": [
    "### Herencia múltiple\n",
    "\n",
    "Python es uno de los pocos lenguajes de programación modernos que admite herencia múltiple. La herencia múltiple es la capacidad de derivar una clase de múltiples clases base al mismo tiempo.\n",
    "\n",
    "La herencia múltiple tiene una mala reputación porque la mayoría de los lenguajes de programación modernos no la admiten, aunque si admitan el concepto de interfaces. \n",
    "\n",
    "La forma de definirla es simple\n",
    "\n",
    "    class NuevaClase(clase1, clase2):\n",
    "\n",
    "        pass"
   ]
  },
  {
   "cell_type": "markdown",
   "metadata": {},
   "source": [
    "### Composicion\n",
    "\n",
    "La composición es un concepto de diseño orientado a objetos que modela una relación. En composición, una clase conocida como compuesta contiene un objeto de otra clase conocida como componente . En otras palabras, una clase compuesta tiene un componente de otra clase.\n",
    "\n",
    "La composición permite que las clases compuestas reutilicen la implementación de los componentes que contiene.\n",
    "\n",
    "Por ejemplo, ya que hemos definido tipos de Empleado, hay algo que todos tendrán: Una dirección.\n",
    "\n",
    "Si esta dirección está definida en forma de Clase, la clase Empleado podrá tener un componente dirección, por ejemplo, como esta:\n"
   ]
  },
  {
   "cell_type": "code",
   "execution_count": null,
   "metadata": {},
   "outputs": [],
   "source": [
    "class Direccion:\n",
    "    def __init__(self, calle, ciudad, provincia, cpostal, calle2=''):\n",
    "        self.calle= calle\n",
    "        self.calle2 = calle2\n",
    "        self.ciudad = ciudad\n",
    "        self.provincia = provincia\n",
    "        self.cpostal = cpostal\n",
    "\n",
    "    def __str__(self):\n",
    "        linea = [self.calle]\n",
    "        if self.calle2:\n",
    "            linea.append(self.calle2)\n",
    "        linea.append(f'{self.cpostal}, {self.ciudad}')\n",
    "        linea.append(f'{self.provincia}')\n",
    "        return '\\n'.join(linea)"
   ]
  },
  {
   "cell_type": "markdown",
   "metadata": {},
   "source": [
    "El método str nos permite formatear la salida de los datos cuando se mande a imprimir alguna instancia de Direccion. Es lo que se denomina **String Conversion**\n",
    "\n",
    "Ahora modificaríamos Directivo por ejemplo, añadiéndole un atributo nuevo llamado direccion"
   ]
  },
  {
   "cell_type": "code",
   "execution_count": null,
   "metadata": {},
   "outputs": [],
   "source": [
    "class Directivo(Empleado):\n",
    "    def __init__(self, nombreD, ssocialD, sueldoD, horas):\n",
    "        super().__init__(nombreD, ssocialD)\n",
    "        self.horas = horas\n",
    "        self.direccion = None\n",
    "    \n",
    "    def calcular_paga(self):\n",
    "        return self.horas*self.obtenerSueldo()"
   ]
  },
  {
   "cell_type": "markdown",
   "metadata": {},
   "source": [
    "Y una vez definida una instancia de Directivo, se le asigna una direccion"
   ]
  },
  {
   "cell_type": "code",
   "execution_count": null,
   "metadata": {},
   "outputs": [],
   "source": [
    "gerente_ventas = Directivo('Pepe Martí',234252,60000,40)\n",
    "gerente_ventas.direccion = Direccion('Calle del río, 2','Villapython','Madrid','32323')"
   ]
  },
  {
   "cell_type": "code",
   "execution_count": null,
   "metadata": {},
   "outputs": [],
   "source": [
    "print(gerente_ventas.direccion)"
   ]
  },
  {
   "cell_type": "markdown",
   "metadata": {},
   "source": [
    "### Patrón Singleton\n",
    "\n",
    "El patrón singleton es un patrón de creación de clases que tiene como objetivo garantizar que una clase sólo tenga una instancia y proporcionar un único punto de acceso a esa instancia.\n",
    "\n",
    "Un uso muy común de este patrón es en temas de logging, ya que querremos que el punto de acceso o logger tenga una única instancia.\n",
    "\n",
    "La forma más sencilla de implementarla es la siguiente:"
   ]
  },
  {
   "cell_type": "code",
   "execution_count": null,
   "metadata": {},
   "outputs": [],
   "source": [
    "class Logger:\n",
    "    instance = None\n",
    "    def __new__(cls):\n",
    "        if cls.instance is None:\n",
    "            cls.instance = super(Logger, cls).__new__(cls)\n",
    "        return cls.instance\n",
    "\n",
    "logger1 = Logger()\n",
    "logger2 = Logger()\n",
    "print(logger1 is logger2)"
   ]
  },
  {
   "cell_type": "markdown",
   "metadata": {},
   "source": [
    "# Ejercicios\n",
    "**7.3.1** Crea una clase vehiculo que tenga los atributos: color y numero de ruedas"
   ]
  },
  {
   "cell_type": "code",
   "execution_count": null,
   "metadata": {},
   "outputs": [],
   "source": []
  },
  {
   "cell_type": "markdown",
   "metadata": {},
   "source": [
    "**7.3.2** Crea 4 clases distintas que heredan de vehiculo: Coche, Camioneta, Bicicleta y Moto, define para todos ellos atributos especificos de cada clase"
   ]
  },
  {
   "cell_type": "code",
   "execution_count": null,
   "metadata": {},
   "outputs": [],
   "source": []
  },
  {
   "cell_type": "markdown",
   "metadata": {},
   "source": [
    "**7.3.3** Crea una lista con objetos de las disitintas clases."
   ]
  },
  {
   "cell_type": "code",
   "execution_count": null,
   "metadata": {},
   "outputs": [],
   "source": []
  },
  {
   "cell_type": "markdown",
   "metadata": {},
   "source": [
    "**7.3.4** Define una funcion que pasandole una lista de vehiculos genere por pantalla un informe. Puedes añadir el método ``__str__`` a cada clase para facilitar el proceso."
   ]
  },
  {
   "cell_type": "code",
   "execution_count": null,
   "metadata": {},
   "outputs": [],
   "source": []
  },
  {
   "cell_type": "markdown",
   "metadata": {},
   "source": [
    "**7.3.5** Añade un argumento a la funcion para que solo informe de los vehiculos con un número determinado de ruedas pasado por parámetro."
   ]
  },
  {
   "cell_type": "code",
   "execution_count": null,
   "metadata": {},
   "outputs": [],
   "source": []
  }
 ],
 "metadata": {
  "kernelspec": {
   "display_name": "Python 3",
   "language": "python",
   "name": "python3"
  },
  "language_info": {
   "codemirror_mode": {
    "name": "ipython",
    "version": 3
   },
   "file_extension": ".py",
   "mimetype": "text/x-python",
   "name": "python",
   "nbconvert_exporter": "python",
   "pygments_lexer": "ipython3",
   "version": "3.7.3"
  }
 },
 "nbformat": 4,
 "nbformat_minor": 2
}
