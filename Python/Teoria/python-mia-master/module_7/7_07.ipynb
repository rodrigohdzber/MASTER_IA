{
 "cells": [
  {
   "cell_type": "markdown",
   "metadata": {},
   "source": [
    "# 7.7 Más sobre funciones Lambda y programación funcional"
   ]
  },
  {
   "cell_type": "markdown",
   "metadata": {},
   "source": [
    "En este cuaderno aprenderemos las funciones de orden superior:\n",
    "\n",
    "        -Map\n",
    "        -Filter\n",
    "        -Uso de Map con Filter\n",
    "        -Reduce\n"
   ]
  },
  {
   "cell_type": "markdown",
   "metadata": {},
   "source": [
    "Como ya vimos las funciones Lambda son pequeñas funciones que no son definidas con ningún nombre y que contienen una pequeña expresión que será devuelta sin un return explícito. Son muy manejables en el contexto de listas. Utilizan la palabra **lambda** seguida por las variables, dos puntos y la expresión a realizar"
   ]
  },
  {
   "cell_type": "code",
   "execution_count": null,
   "metadata": {},
   "outputs": [],
   "source": [
    "z = lambda x: x + x\n",
    "# es equivalente a\n",
    "\n",
    "def z(x):\n",
    "    return x + x"
   ]
  },
  {
   "cell_type": "code",
   "execution_count": null,
   "metadata": {},
   "outputs": [],
   "source": [
    "z(8) # a z se la llama como si tuviera un argumento x."
   ]
  },
  {
   "cell_type": "markdown",
   "metadata": {},
   "source": [
    "Las funciones lambda no sólo sirven para números:"
   ]
  },
  {
   "cell_type": "code",
   "execution_count": null,
   "metadata": {},
   "outputs": [],
   "source": [
    "formateando = lambda valor: '¿{}?'.format(valor)\n",
    "\n",
    "pasarApregunta = formateando('Sabe programar en Python')\n",
    "print(pasarApregunta)"
   ]
  },
  {
   "cell_type": "markdown",
   "metadata": {},
   "source": [
    "Las funciones lambda pueden no tener argumentos:"
   ]
  },
  {
   "cell_type": "code",
   "execution_count": null,
   "metadata": {},
   "outputs": [],
   "source": [
    "sin_valor = lambda : 20\n",
    "print(sin_valor())"
   ]
  },
  {
   "cell_type": "markdown",
   "metadata": {},
   "source": [
    "También pueden no devolver nada, pero al menos alguna instrucción ha de ejecutarse:"
   ]
  },
  {
   "cell_type": "code",
   "execution_count": null,
   "metadata": {},
   "outputs": [],
   "source": [
    "sin_resultado = lambda x: print(\"Estoy imprimiendo:\",x)\n",
    "sin_resultado(10)"
   ]
  },
  {
   "cell_type": "markdown",
   "metadata": {},
   "source": [
    "## Funciones de orden superior\n",
    "### Función map"
   ]
  },
  {
   "cell_type": "markdown",
   "metadata": {},
   "source": [
    "**map( )** ejecuta la función determinada como primer parámetro para cada uno de los elementos de la lista del segundo parámetro. "
   ]
  },
  {
   "cell_type": "code",
   "execution_count": null,
   "metadata": {},
   "outputs": [],
   "source": [
    "lista1 = [1,2,3,4,5,6,7,8,9]"
   ]
  },
  {
   "cell_type": "code",
   "execution_count": null,
   "metadata": {},
   "outputs": [],
   "source": [
    "eg = list(map(lambda x:x+2, lista1)) #añadimos list para convertir el resultado del mapeo en una lista\n",
    "print (eg)\n",
    "\n",
    "# equivalente\n",
    "eg = []\n",
    "for x in lista1:\n",
    "    eg.append(x+2)"
   ]
  },
  {
   "cell_type": "markdown",
   "metadata": {},
   "source": [
    "Se pueden añadir dos listas:"
   ]
  },
  {
   "cell_type": "code",
   "execution_count": null,
   "metadata": {},
   "outputs": [],
   "source": [
    "lista2 = [9,8,7,6,5,4,3,2,1]"
   ]
  },
  {
   "cell_type": "code",
   "execution_count": null,
   "metadata": {},
   "outputs": [],
   "source": [
    "eg2 = list(map(lambda x,y:x+y, lista1,lista2))\n",
    "print (eg2)"
   ]
  },
  {
   "cell_type": "markdown",
   "metadata": {},
   "source": [
    "Igualmente, se puede utilizar cualquier función con map, no sólo funciones lambda"
   ]
  },
  {
   "cell_type": "code",
   "execution_count": null,
   "metadata": {},
   "outputs": [],
   "source": [
    "eg3 = list(map(str,eg2))\n",
    "print (eg3)"
   ]
  },
  {
   "cell_type": "markdown",
   "metadata": {},
   "source": [
    "Más ejemplos de uso de Map:"
   ]
  },
  {
   "cell_type": "code",
   "execution_count": null,
   "metadata": {},
   "outputs": [],
   "source": [
    "def suma_uno(x):\n",
    "    return x + 1"
   ]
  },
  {
   "cell_type": "markdown",
   "metadata": {},
   "source": [
    "Recordamos que map es una función que ejecuta una función con unos valores en este caso aplicamos suma_uno a la lista lista1:"
   ]
  },
  {
   "cell_type": "code",
   "execution_count": null,
   "metadata": {},
   "outputs": [],
   "source": [
    "result = map(suma_uno,lista1)\n",
    "print(result)"
   ]
  },
  {
   "cell_type": "markdown",
   "metadata": {},
   "source": [
    "Como el resultado es un iterador lo iteramos para sacarle la información:"
   ]
  },
  {
   "cell_type": "code",
   "execution_count": null,
   "metadata": {},
   "outputs": [],
   "source": [
    "for item in result: \n",
    "    print(item)"
   ]
  },
  {
   "cell_type": "markdown",
   "metadata": {},
   "source": [
    "Otra forma:"
   ]
  },
  {
   "cell_type": "code",
   "execution_count": null,
   "metadata": {},
   "outputs": [],
   "source": [
    "for item in map(suma_uno, [7,8,9]):\n",
    "    print(item)"
   ]
  },
  {
   "cell_type": "code",
   "execution_count": null,
   "metadata": {},
   "outputs": [],
   "source": [
    "def es_impar(x):\n",
    "    if x%2 ==1: \n",
    "        return \"{} es impar\".format(x)\n",
    "    else: \n",
    "        return \"{} es par\".format(x)"
   ]
  },
  {
   "cell_type": "code",
   "execution_count": null,
   "metadata": {},
   "outputs": [],
   "source": [
    "list(map(es_impar, [0,1,2,3,4]) )"
   ]
  },
  {
   "cell_type": "markdown",
   "metadata": {},
   "source": [
    "Vamos a obtener el primer elemento con una función lambda.  este es un ejemplo de cómo acceder a listas dentro de listas:"
   ]
  },
  {
   "cell_type": "code",
   "execution_count": null,
   "metadata": {},
   "outputs": [],
   "source": [
    "items = [[1,2], [3,4], [5,6]]\n",
    "resultado = map(lambda x: x[0], items)\n",
    "list(resultado)"
   ]
  },
  {
   "cell_type": "markdown",
   "metadata": {},
   "source": [
    "En este sumamos los dos valores de cada elemento de la lista de listas:"
   ]
  },
  {
   "cell_type": "code",
   "execution_count": null,
   "metadata": {},
   "outputs": [],
   "source": [
    "resultado2 = map(lambda x: x[0]+x[1], items)\n",
    "list(resultado2)"
   ]
  },
  {
   "cell_type": "markdown",
   "metadata": {},
   "source": [
    "Quiero que con esta lista:\n",
    "\n",
    "lista = [[1,2,3,4],[4,3,2,1],[4,5,6,7],[2,1,3,4]]\n",
    "hallar otra lista que sume los pares de cada sublista:\n",
    "\n"
   ]
  },
  {
   "cell_type": "code",
   "execution_count": null,
   "metadata": {},
   "outputs": [],
   "source": [
    "lista = [[1,2,3,4],[4,3,2,1],[4,5,6,7],[2,1,3,4]]\n",
    "sumaPares = list(map(lambda x: x[1]+x[3], lista))\n",
    "print(sumaPares)"
   ]
  },
  {
   "cell_type": "code",
   "execution_count": null,
   "metadata": {},
   "outputs": [],
   "source": [
    "# Incluso se podría crear una lista de lista o diccionarios desde una lista de items. "
   ]
  },
  {
   "cell_type": "code",
   "execution_count": null,
   "metadata": {},
   "outputs": [],
   "source": [
    "items = [2,4,6,8]\n",
    "\n",
    "resultado = map(lambda x: [x, x*x], items)\n",
    "print( list( resultado))\n",
    "\n",
    "resultado2 = map(lambda x: {\"numero\":x,\"cuadrado\":x*x}, items)\n",
    "print( list( resultado2))"
   ]
  },
  {
   "cell_type": "code",
   "execution_count": null,
   "metadata": {},
   "outputs": [],
   "source": [
    "# En este caso, vamos a dar formato a la salida:"
   ]
  },
  {
   "cell_type": "code",
   "execution_count": null,
   "metadata": {},
   "outputs": [],
   "source": [
    "items = [(1,2,3), (4,5,6), (1,8,9), (2,10,11)]\n",
    "\n",
    "resultado = map(lambda x: (x[0], (x[1], x[2])), items)\n",
    "nueva_lista = list(resultado)\n",
    "print( nueva_lista)"
   ]
  },
  {
   "cell_type": "code",
   "execution_count": null,
   "metadata": {},
   "outputs": [],
   "source": [
    "# Multiplicamo los valores que van unidos por clave\n",
    "# mientras mantenemos la clave\n",
    "resultado2 = map(lambda x: (x[0], x[1][0]* x[1][1] ), nueva_lista)\n",
    "print( list( resultado2))"
   ]
  },
  {
   "cell_type": "markdown",
   "metadata": {},
   "source": [
    "### Función filter"
   ]
  },
  {
   "cell_type": "markdown",
   "metadata": {},
   "source": [
    "**filter( )** sirve para filtrar en una lista el resultado de una función lambda"
   ]
  },
  {
   "cell_type": "code",
   "execution_count": null,
   "metadata": {},
   "outputs": [],
   "source": [
    "lista1 = [1,2,3,4,5,6,7,8,9]"
   ]
  },
  {
   "cell_type": "code",
   "execution_count": null,
   "metadata": {},
   "outputs": [],
   "source": [
    "list(filter(lambda x:x<5,lista1)) #obtiene los números menores de 5 que hay en lista1"
   ]
  },
  {
   "cell_type": "markdown",
   "metadata": {},
   "source": [
    "Si aplicáramos **map()** a esta misma función lambda, esto es lo que aparecería:"
   ]
  },
  {
   "cell_type": "code",
   "execution_count": null,
   "metadata": {},
   "outputs": [],
   "source": [
    "list(map(lambda x:x<5, lista1))  # nos devuelve si cada valor de lista1 cumple o no la condición, no aquellos que la cumplen"
   ]
  },
  {
   "cell_type": "markdown",
   "metadata": {},
   "source": [
    "### Uso de map con filter:"
   ]
  },
  {
   "cell_type": "code",
   "execution_count": null,
   "metadata": {},
   "outputs": [],
   "source": [
    "items = [(1,2,3), (4,5,6), (1,8,9), (2,10,11)]\n",
    "\n",
    "resultado = map(lambda x: (x[0], (x[1], x[2])), items)\n",
    "l1 = list(resultado)\n",
    "\n",
    "print( l1)\n",
    "\n",
    "# Multiplicamo los valores que van unidos por clave\n",
    "# mientras mantenemos la clave  \n",
    "resultado = map(lambda x: (x[0], x[1][0]* x[1][1] ), l1)\n",
    "\n",
    "l2 = list(resultado)\n",
    "print(l2)\n",
    "\n",
    "resultado = filter(lambda x: x[1]>50, l2)\n",
    "l3 = list(resultado)\n",
    "print( l3 ) \n",
    "\n",
    "# o en una sola instrucción, hacerlo todo\n",
    "print(\"------\")\n",
    "resultado = filter(lambda x: x[1]>50,\n",
    "         map(lambda x: (x[0], x[1][0]* x[1][1] ), \n",
    "         map(lambda x: (x[0], (x[1], x[2])), items)))\n",
    "l4 = list(resultado)\n",
    "print( l4 ) "
   ]
  },
  {
   "cell_type": "markdown",
   "metadata": {},
   "source": [
    "\n",
    "\n",
    "# Función Reduce\n",
    "\n",
    "\n",
    "Es una función que devuelve un único valor resultado de aplicar una función a un conjunto de datos. Es este caso, esta es la forma de realizar el factorial de un número:"
   ]
  },
  {
   "cell_type": "code",
   "execution_count": null,
   "metadata": {},
   "outputs": [],
   "source": [
    "from functools import reduce\n",
    "import operator\n",
    "\n",
    "reduce(operator.mul, range(1, 6))"
   ]
  },
  {
   "cell_type": "markdown",
   "metadata": {},
   "source": [
    "Lo que está haciendo realmente es operar sobre el primer y el segundo elemento de la lista que marca range(1,6), es decir [1,2,3,4,5] por lo que da 2. Ese 2 lo multiplica por el tercer elemento de la lista: 2*3= 6 y así sucesivamente.\n",
    "\n",
    "En el siguiente ejemplo convertiríamos texto en una linea con forma csv."
   ]
  },
  {
   "cell_type": "code",
   "execution_count": null,
   "metadata": {},
   "outputs": [],
   "source": [
    "lista = ['Hola','que','tal','estas','y','tu']\n",
    "\n",
    "reduce(lambda x,y:\",\".join((x,y)),lista)"
   ]
  },
  {
   "cell_type": "markdown",
   "metadata": {},
   "source": [
    "Reduce también cuenta con un último argumento, que es el denominado valor inicial o default"
   ]
  },
  {
   "cell_type": "code",
   "execution_count": null,
   "metadata": {},
   "outputs": [],
   "source": [
    "listab = [1,2,3,4,5,6,7]\n",
    "print(reduce(lambda x, y: x + y, listab, 10))"
   ]
  },
  {
   "cell_type": "markdown",
   "metadata": {},
   "source": [
    "# Ejercicios\n",
    "\n",
    "**7.7.1** Dado los siguientes items:"
   ]
  },
  {
   "cell_type": "code",
   "execution_count": null,
   "metadata": {},
   "outputs": [],
   "source": [
    "items = [(\"A\",5,6),(\"A\",4,5),(\"A\",3,8),(\"B\",6,9),(\"B\",7,4),(\"C\",9,2)]"
   ]
  },
  {
   "cell_type": "markdown",
   "metadata": {},
   "source": [
    "Escribir la función lambda necesaria con map y filter para obtener estos resultados:\n",
    "\n",
    "- ¿Cuantos items hay? (usar len)\n",
    "- ¿Cuantas A hay?\n",
    "- ¿Cuantas B hay? \n",
    "- Listar los segundos valores de cada item\n",
    "- Listar los terceros valores de cada item cuyo segundo valor sea mayor que 4?\n",
    "\n",
    "Repite lo mismo con list comprehensions."
   ]
  },
  {
   "cell_type": "code",
   "execution_count": null,
   "metadata": {},
   "outputs": [],
   "source": []
  }
 ],
 "metadata": {
  "kernelspec": {
   "display_name": "Python 3",
   "language": "python",
   "name": "python3"
  },
  "language_info": {
   "codemirror_mode": {
    "name": "ipython",
    "version": 3
   },
   "file_extension": ".py",
   "mimetype": "text/x-python",
   "name": "python",
   "nbconvert_exporter": "python",
   "pygments_lexer": "ipython3",
   "version": "3.7.3"
  }
 },
 "nbformat": 4,
 "nbformat_minor": 2
}
