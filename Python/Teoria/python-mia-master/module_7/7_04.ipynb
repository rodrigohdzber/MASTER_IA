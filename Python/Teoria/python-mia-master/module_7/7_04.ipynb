{
 "cells": [
  {
   "cell_type": "markdown",
   "metadata": {},
   "source": [
    "# 7.4. Generadores."
   ]
  },
  {
   "cell_type": "markdown",
   "metadata": {},
   "source": [
    "Los Generadores son un tipo de función especial, cuya principal característica es que se va ejecutando paso a paso, devolviendo el control al código que la llama, pero que almacena sus resultados en un Objeto Generador iterable.\n",
    "\n",
    "Este ejecutar paso a paso, permite no tener que:\n",
    "    \n",
    "    - Gastar más recursos que los necesarios\n",
    "    - No mantener el proceso bloqueado hasta que termine la función.\n",
    "    \n",
    "Su principal uso es en programas que manejen cantidades de información infinita o muy elevada. En una función tradicional, su sincronicidad provocaría que no fuera posible continuar con el resto del programa. Por tanto permite cierto asincronismo controlado.\n",
    "\n",
    "Otro uso es el de ser más eficiente al no tener que terminar el recorrido de todos los elementos si no nos es necesario. Por ejemplo en una búsqueda en conjuntos de datos muy grandes.\n",
    "\n",
    "### Sintaxis\n",
    "\n",
    "Su sintaxis es muy similar a la de las funciones tradicionales, sólo hay que cambiar el **return** por **yield**.\n",
    "\n",
    "def miFuncion():\n",
    "\n",
    "    ...\n",
    "    lineas de código\n",
    "    ...\n",
    "    yield resultado\n",
    "    \n",
    "Un código de ejemplo puede ser el siguiente: Hallar la sucesión de Fibonacci:"
   ]
  },
  {
   "cell_type": "code",
   "execution_count": null,
   "metadata": {},
   "outputs": [],
   "source": [
    "# Código tradicional para hacer una función que devuelva Fibonacci\n",
    "def fibo(n):   # devuelve la serie Fibonacci hasta n\n",
    "    resultado = []\n",
    "    a, b = 0, 1\n",
    "    while b < n:\n",
    "        resultado.append(b)\n",
    "        a, b = b, a+b\n",
    "    return resultado\n",
    "\"\"\"\n",
    "    a, b = 0, 1\n",
    "    while b < n:\n",
    "        yield b\n",
    "        a, b = b, a+b\n",
    "\"\"\"\n",
    "\n",
    "\n",
    "print(fibo(1000000))\n",
    "print(\"he terminado\")"
   ]
  },
  {
   "cell_type": "markdown",
   "metadata": {},
   "source": [
    "No tiene mucho que explicar esta función, se va sumando el penúltimo (a) con el último (b) y se inicializan los puestos de penúltimo (b) y último (a+b)\n",
    "\n",
    "Ahora, para convertir esta misma función en un generador tendremos que hacer lo siguiente:\n",
    "\n",
    "    - Como un generador ya devuelve una lista iterable, no nos hace falta la lista resultado\n",
    "    - Como no hay lista resultado, tampoco nos hace falta una función .append que añade elementos, en su lugar colocaremos \"yield\"\n",
    "    - Como ya se ha devuelto a través de yield, no hace falta la instrucción return"
   ]
  },
  {
   "cell_type": "code",
   "execution_count": null,
   "metadata": {},
   "outputs": [],
   "source": [
    "# Código función Fibonacci en forma de Generador\n",
    "def fiboGen(n):   # devuelve la serie Fibonacci hasta n\n",
    "    a, b = 0, 1\n",
    "    while b < n:\n",
    "        yield b\n",
    "        a, b = b, a+b"
   ]
  },
  {
   "cell_type": "markdown",
   "metadata": {},
   "source": [
    "Ahora, tendremos que llamar a ese Generador:"
   ]
  },
  {
   "cell_type": "code",
   "execution_count": null,
   "metadata": {},
   "outputs": [],
   "source": [
    "lista_generada = fiboGen(1000)"
   ]
  },
  {
   "cell_type": "markdown",
   "metadata": {},
   "source": [
    "Si la queremos imprimir sin más, habrá que iterar con un bucle:"
   ]
  },
  {
   "cell_type": "code",
   "execution_count": null,
   "metadata": {},
   "outputs": [],
   "source": [
    "for i in lista_generada:\n",
    "    print(i,end=' ')"
   ]
  },
  {
   "cell_type": "markdown",
   "metadata": {},
   "source": [
    "Pero, obviamente, si llamamos a fibo con una instrucción como esta:\n",
    "\n",
    "*print(fibo(100000000))*\n",
    "\n",
    "El tiempo que tarde esta función tradicional es una barbaridad. Para ello utilizaremos el compañero inseparable de una funcion Generadora: **next**"
   ]
  },
  {
   "cell_type": "code",
   "execution_count": null,
   "metadata": {},
   "outputs": [],
   "source": [
    "otra_lista = fiboGen(100000000)\n",
    "print(\"Imprimimos valores 1 y 2 de Fibonacci: \")\n",
    "print(next(otra_lista))\n",
    "print(next(otra_lista))\n",
    "print(\"Valor 3: \")\n",
    "print(next(otra_lista))\n",
    "print(\"Valor 4: \")\n",
    "print(next(otra_lista))"
   ]
  },
  {
   "cell_type": "markdown",
   "metadata": {},
   "source": [
    "Como se ve, la devolución de resultados es inmediata, y no hay que estar esperando a que se calculen todos. Todo dependerá de las veces que llamemos a next"
   ]
  },
  {
   "cell_type": "code",
   "execution_count": null,
   "metadata": {},
   "outputs": [],
   "source": [
    "lista_gen = fiboGen(10000000000)\n",
    "contador = 1\n",
    "while input(\"Pulse 'Enter' para ver otro numero Fibonacci, 'F' para fin\")!=\"F\":\n",
    "    print(\"Valor \"+str(contador)+ \" de Fibonacci: \" +str(next(lista_gen)))\n",
    "    contador+=1\n",
    "print(\"Gracias por su colaboracion\")"
   ]
  },
  {
   "cell_type": "markdown",
   "metadata": {},
   "source": [
    "# Ejercicios"
   ]
  },
  {
   "cell_type": "markdown",
   "metadata": {},
   "source": [
    "**7.4.1.** Con el siguiente código que permite sacar dígitos del número PI uno a uno. Conviértelo a una función generadora y que, como en el ejemplo de Fibonacci, podamos sacar dígitos cada vez que pulsamos \"ENTER\""
   ]
  },
  {
   "cell_type": "code",
   "execution_count": null,
   "metadata": {},
   "outputs": [],
   "source": [
    "def sacar_pi(d):\n",
    "    \"\"\"Regresa una lista con los primeros d dígitos\n",
    "       de pi utilizando el algoritmo de espita\n",
    "       diseñado por Jeremy Gibbons. Implementación\n",
    "       de John Zelle\n",
    "    \"\"\"\n",
    "    x = []\n",
    "    q,r,t,k,n,l = 1,0,1,1,3,3\n",
    "    while len(x) < d:\n",
    "        if 4*q+r-t < n*t:\n",
    "            x.append(n)\n",
    "            q,r,t,k,n,l = (\n",
    "                10*q,10*(r-n*t),t,k,\n",
    "                (10*(3*q+r))//t-10*n,l)\n",
    "        else:\n",
    "            q,r,t,k,n,l = (\n",
    "                q*k,(2*q+r)*l,t*l,k+1,\n",
    "                (q*(7*k+2)+r*l)//(t*l),l+2)\n",
    "    return x\n",
    "\n",
    "print(sacar_pi(100))"
   ]
  },
  {
   "cell_type": "code",
   "execution_count": null,
   "metadata": {},
   "outputs": [],
   "source": [
    "def sacar_pi_gen(d):\n",
    "    \"\"\"Regresa una lista con los primeros d dígitos\n",
    "       de pi utilizando el algoritmo de espita\n",
    "       diseñado por Jeremy Gibbons. Implementación\n",
    "       de John Zelle\n",
    "    \"\"\"\n",
    "# escribir el código a partir de aquí \n",
    "\n",
    "\n",
    "\n"
   ]
  },
  {
   "cell_type": "code",
   "execution_count": null,
   "metadata": {},
   "outputs": [],
   "source": [
    "# Comprobarlo con este bloque\n",
    "lista_gen = sacar_pi_gen(100)\n",
    "contador = 1\n",
    "while input(\"Pulse 'Enter' para ver otro digito del numero PI, 'F' para fin\")!=\"F\":\n",
    "    print(\"Valor \"+str(contador)+ \" de PI: \" +str(next(lista_gen)))\n",
    "    contador+=1\n",
    "print(\"Gracias por su colaboracion\")"
   ]
  }
 ],
 "metadata": {
  "kernelspec": {
   "display_name": "Python 3",
   "language": "python",
   "name": "python3"
  },
  "language_info": {
   "codemirror_mode": {
    "name": "ipython",
    "version": 3
   },
   "file_extension": ".py",
   "mimetype": "text/x-python",
   "name": "python",
   "nbconvert_exporter": "python",
   "pygments_lexer": "ipython3",
   "version": "3.7.3"
  }
 },
 "nbformat": 4,
 "nbformat_minor": 2
}
